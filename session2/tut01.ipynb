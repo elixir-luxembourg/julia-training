{
 "cells": [
  {
   "cell_type": "markdown",
   "id": "82f546bf",
   "metadata": {
    "slideshow": {
     "slide_type": "slide"
    }
   },
   "source": [
    "# Data processing \n",
    "---\n",
    "\n",
    "1.) Jupyter Notebooks (install, basic usage) \n",
    "---\n",
    "\n",
    "\n",
    "2.) FileIO and data manipulation (read, write, different data formats)\n",
    "---\n",
    "\n",
    "\n",
    "3.) Plotting (data visualization) \n",
    "---\n",
    "\n",
    "\n",
    "\n",
    "\n",
    "\n"
   ]
  },
  {
   "cell_type": "markdown",
   "id": "ef2a49cb",
   "metadata": {
    "slideshow": {
     "slide_type": "slide"
    }
   },
   "source": [
    "# Installing Jupyter Notebook"
   ]
  },
  {
   "cell_type": "code",
   "execution_count": 595,
   "id": "677a6c9d",
   "metadata": {
    "slideshow": {
     "slide_type": "fragment"
    }
   },
   "outputs": [
    {
     "name": "stderr",
     "output_type": "stream",
     "text": [
      "\u001b[32m\u001b[1m   Resolving\u001b[22m\u001b[39m package versions...\n",
      "\u001b[32m\u001b[1m  No Changes\u001b[22m\u001b[39m to `~/work/Julia/tutorials/Elixir_training_2021-04-22/Project.toml`\n",
      "\u001b[32m\u001b[1m  No Changes\u001b[22m\u001b[39m to `~/work/Julia/tutorials/Elixir_training_2021-04-22/Manifest.toml`\n"
     ]
    }
   ],
   "source": [
    "using Pkg\n",
    "Pkg.add(\"IJulia\")\n",
    "using IJulia\n",
    "#notebook()"
   ]
  },
  {
   "cell_type": "markdown",
   "id": "07ac02b4",
   "metadata": {
    "slideshow": {
     "slide_type": "slide"
    }
   },
   "source": [
    "# The notebook interface"
   ]
  },
  {
   "cell_type": "markdown",
   "id": "6104dd05",
   "metadata": {
    "slideshow": {
     "slide_type": "fragment"
    }
   },
   "source": [
    "#### List of commands in the command palette\n",
    "Ctrl + Shift + p or Command + Shift + p\n",
    "#### Help\n",
    "Navigation bar -> Help or press h if in Edit mode\n",
    "#### Cells\n",
    "- Code cell, contains code to be executed\n",
    "- Markdown cell for text formatting\n",
    "- Use arrow keys to navigate up and down cells\n",
    "- Hit Return to enter into cell in coding mode or\n",
    "- press m and press Return to enter into markdown mode\n",
    "- Execute cell by pressing run in navigation bar or\n",
    "- press Ctrl + Return or Shift + Return\n",
    "- Press Esc to leave cell editing\n"
   ]
  },
  {
   "cell_type": "markdown",
   "id": "7b0837de",
   "metadata": {
    "slideshow": {
     "slide_type": "slide"
    }
   },
   "source": [
    "# Activating your enviroment"
   ]
  },
  {
   "cell_type": "code",
   "execution_count": 554,
   "id": "2a534640",
   "metadata": {
    "slideshow": {
     "slide_type": "fragment"
    }
   },
   "outputs": [
    {
     "name": "stderr",
     "output_type": "stream",
     "text": [
      "\u001b[32m\u001b[1m  Activating\u001b[22m\u001b[39m environment at `~/work/Julia/tutorials/Elixir_training_2021-04-22/Project.toml`\n"
     ]
    }
   ],
   "source": [
    "using Pkg\n",
    "Pkg.activate(\".\")"
   ]
  },
  {
   "cell_type": "markdown",
   "id": "de4b3183",
   "metadata": {
    "slideshow": {
     "slide_type": "slide"
    }
   },
   "source": [
    "# FileIO\n",
    "### File stream\n",
    "Reading and writing of text files:"
   ]
  },
  {
   "cell_type": "code",
   "execution_count": 555,
   "id": "7f9b2277",
   "metadata": {
    "slideshow": {
     "slide_type": "slide"
    }
   },
   "outputs": [
    {
     "data": {
      "text/plain": [
       "IOStream(<file output.txt>)"
      ]
     },
     "execution_count": 555,
     "metadata": {},
     "output_type": "execute_result"
    }
   ],
   "source": [
    "f = open(\"output.txt\", \"w\")"
   ]
  },
  {
   "cell_type": "code",
   "execution_count": 556,
   "id": "a31af74e",
   "metadata": {
    "slideshow": {
     "slide_type": "fragment"
    }
   },
   "outputs": [
    {
     "data": {
      "text/plain": [
       "30"
      ]
     },
     "execution_count": 556,
     "metadata": {},
     "output_type": "execute_result"
    }
   ],
   "source": [
    "write(f, \"This is a first line of text.\\n\")"
   ]
  },
  {
   "cell_type": "code",
   "execution_count": 557,
   "id": "d6c1aee0",
   "metadata": {
    "slideshow": {
     "slide_type": "fragment"
    }
   },
   "outputs": [
    {
     "data": {
      "text/plain": [
       "30"
      ]
     },
     "execution_count": 557,
     "metadata": {},
     "output_type": "execute_result"
    }
   ],
   "source": [
    "write(f, \"This is another line of text.\\n\")"
   ]
  },
  {
   "cell_type": "code",
   "execution_count": 558,
   "id": "73fcbbb9",
   "metadata": {
    "slideshow": {
     "slide_type": "fragment"
    }
   },
   "outputs": [],
   "source": [
    "close(f)"
   ]
  },
  {
   "cell_type": "markdown",
   "id": "d41aedc2",
   "metadata": {
    "slideshow": {
     "slide_type": "slide"
    }
   },
   "source": [
    "Many things can go wrong when reading or writing files, therfore it is good practise <br>\n",
    "to catch possible errors and to make sure the filestream is closed again:"
   ]
  },
  {
   "cell_type": "code",
   "execution_count": 559,
   "id": "12ec879c",
   "metadata": {
    "slideshow": {
     "slide_type": "fragment"
    }
   },
   "outputs": [
    {
     "name": "stdout",
     "output_type": "stream",
     "text": [
      "Something went wrong: ArgumentError(\"write failed, IOStream is not writeable\")\n"
     ]
    }
   ],
   "source": [
    "f = open(\"output.txt\", \"r\")\n",
    "try\n",
    "    l = readline(f)\n",
    "    l = readline(f)\n",
    "    write(f, \"last line of text.\\n\")\n",
    "catch exc\n",
    "    println(\"Something went wrong: $exc\")\n",
    "finally\n",
    "    close(f)\n",
    "end"
   ]
  },
  {
   "cell_type": "markdown",
   "id": "ba0731a1",
   "metadata": {
    "slideshow": {
     "slide_type": "slide"
    }
   },
   "source": [
    "Another way of opening a stream for writing:"
   ]
  },
  {
   "cell_type": "code",
   "execution_count": 560,
   "id": "3d5bf873",
   "metadata": {
    "slideshow": {
     "slide_type": "fragment"
    }
   },
   "outputs": [
    {
     "data": {
      "text/plain": [
       "22"
      ]
     },
     "execution_count": 560,
     "metadata": {},
     "output_type": "execute_result"
    }
   ],
   "source": [
    "open(\"other_output.txt\", \"w\") do f\n",
    "    write(f, \"text for another file.\")\n",
    "end"
   ]
  },
  {
   "cell_type": "markdown",
   "id": "e7f77825",
   "metadata": {
    "slideshow": {
     "slide_type": "slide"
    }
   },
   "source": [
    "# JSON\n",
    "\n",
    "Structure for universal data exchange.\n"
   ]
  },
  {
   "cell_type": "code",
   "execution_count": 561,
   "id": "2d6c84c3",
   "metadata": {
    "slideshow": {
     "slide_type": "fragment"
    }
   },
   "outputs": [
    {
     "name": "stderr",
     "output_type": "stream",
     "text": [
      "\u001b[32m\u001b[1m   Resolving\u001b[22m\u001b[39m package versions...\n",
      "\u001b[32m\u001b[1m  No Changes\u001b[22m\u001b[39m to `~/work/Julia/tutorials/Elixir_training_2021-04-22/Project.toml`\n",
      "\u001b[32m\u001b[1m  No Changes\u001b[22m\u001b[39m to `~/work/Julia/tutorials/Elixir_training_2021-04-22/Manifest.toml`\n"
     ]
    }
   ],
   "source": [
    "Pkg.add(\"JSON\");\n",
    "using JSON"
   ]
  },
  {
   "cell_type": "markdown",
   "id": "729d3dea",
   "metadata": {
    "slideshow": {
     "slide_type": "slide"
    }
   },
   "source": [
    "#### Read and write JSON data:\n",
    "\n",
    "Create sample dictionary to hold the data"
   ]
  },
  {
   "cell_type": "code",
   "execution_count": 562,
   "id": "4b8cbb79",
   "metadata": {
    "slideshow": {
     "slide_type": "fragment"
    }
   },
   "outputs": [
    {
     "data": {
      "text/plain": [
       "Dict{String, Any} with 3 entries:\n",
       "  \"key2\" => 2\n",
       "  \"key3\" => Dict{String, Any}(\"sub2\"=>5.4335, \"sub3\"=>[3, 5, 7, 3], \"sub1\"=>\"so…\n",
       "  \"key1\" => 1"
      ]
     },
     "execution_count": 562,
     "metadata": {},
     "output_type": "execute_result"
    }
   ],
   "source": [
    "# dictionary to write\n",
    "dict1 = Dict(\"key1\" => 1, \"key2\" => 2,\n",
    "            \"key3\" => Dict(\"sub1\"=>\"some text\",\"sub2\"=>5.4335,\"sub3\"=>[3,5,7,3]))\n",
    "            "
   ]
  },
  {
   "cell_type": "code",
   "execution_count": 563,
   "id": "a6af3f4a",
   "metadata": {
    "slideshow": {
     "slide_type": "fragment"
    }
   },
   "outputs": [
    {
     "data": {
      "text/plain": [
       "\"{\\\"key2\\\":2,\\\"key3\\\":{\\\"sub2\\\":5.4335,\\\"sub3\\\":[3,5,7,3],\\\"sub1\\\":\\\"some text\\\"},\\\"key1\\\":1}\""
      ]
     },
     "execution_count": 563,
     "metadata": {},
     "output_type": "execute_result"
    }
   ],
   "source": [
    "# cast dict into json format\n",
    "stringdata = JSON.json(dict1)"
   ]
  },
  {
   "cell_type": "markdown",
   "id": "ce33c0ab",
   "metadata": {
    "slideshow": {
     "slide_type": "slide"
    }
   },
   "source": [
    "#### Writing text string to output stream:"
   ]
  },
  {
   "cell_type": "code",
   "execution_count": 564,
   "id": "f748422e",
   "metadata": {
    "slideshow": {
     "slide_type": "fragment"
    }
   },
   "outputs": [
    {
     "data": {
      "text/plain": [
       "78"
      ]
     },
     "execution_count": 564,
     "metadata": {},
     "output_type": "execute_result"
    }
   ],
   "source": [
    "f = open(\"out_json.json\", \"w\")\n",
    "try\n",
    "    write(f, stringdata)\n",
    "catch exc\n",
    "    println(\"Something went wrong: $exc\")\n",
    "finally\n",
    "    close(f)\n",
    "end"
   ]
  },
  {
   "cell_type": "markdown",
   "id": "ceb67a78",
   "metadata": {
    "slideshow": {
     "slide_type": "slide"
    }
   },
   "source": [
    "#### Reading back the JSON file:"
   ]
  },
  {
   "cell_type": "code",
   "execution_count": 565,
   "id": "2ee05fae",
   "metadata": {
    "slideshow": {
     "slide_type": "fragment"
    }
   },
   "outputs": [
    {
     "data": {
      "text/plain": [
       "Dict{String, Any} with 3 entries:\n",
       "  \"key2\" => 2\n",
       "  \"key3\" => Dict{String, Any}(\"sub2\"=>5.4335, \"sub3\"=>Any[3, 5, 7, 3], \"sub1\"=>…\n",
       "  \"key1\" => 1"
      ]
     },
     "execution_count": 565,
     "metadata": {},
     "output_type": "execute_result"
    }
   ],
   "source": [
    "jDict = Dict()\n",
    "open(\"out_json.json\", \"r\") do f\n",
    "    global jDict\n",
    "    jDict=JSON.parse(f)  # parse and transform data\n",
    "end"
   ]
  },
  {
   "cell_type": "markdown",
   "id": "dad7d186",
   "metadata": {
    "slideshow": {
     "slide_type": "fragment"
    }
   },
   "source": [
    "For other IO (Multimedia, Network) there is extensive documentation: <br>\n",
    "https://docs.julialang.org/en/v1/base/io-network/\n"
   ]
  },
  {
   "cell_type": "markdown",
   "id": "b2858d94",
   "metadata": {
    "slideshow": {
     "slide_type": "slide"
    }
   },
   "source": [
    "## Installing a few more Packages"
   ]
  },
  {
   "cell_type": "code",
   "execution_count": 566,
   "id": "6041fd8e",
   "metadata": {
    "slideshow": {
     "slide_type": "fragment"
    }
   },
   "outputs": [
    {
     "name": "stderr",
     "output_type": "stream",
     "text": [
      "\u001b[32m\u001b[1m   Resolving\u001b[22m\u001b[39m package versions...\n",
      "\u001b[32m\u001b[1m  No Changes\u001b[22m\u001b[39m to `~/work/Julia/tutorials/Elixir_training_2021-04-22/Project.toml`\n",
      "\u001b[32m\u001b[1m  No Changes\u001b[22m\u001b[39m to `~/work/Julia/tutorials/Elixir_training_2021-04-22/Manifest.toml`\n",
      "\u001b[32m\u001b[1m   Resolving\u001b[22m\u001b[39m package versions...\n",
      "\u001b[32m\u001b[1m  No Changes\u001b[22m\u001b[39m to `~/work/Julia/tutorials/Elixir_training_2021-04-22/Project.toml`\n",
      "\u001b[32m\u001b[1m  No Changes\u001b[22m\u001b[39m to `~/work/Julia/tutorials/Elixir_training_2021-04-22/Manifest.toml`\n",
      "\u001b[32m\u001b[1m   Resolving\u001b[22m\u001b[39m package versions...\n",
      "\u001b[32m\u001b[1m  No Changes\u001b[22m\u001b[39m to `~/work/Julia/tutorials/Elixir_training_2021-04-22/Project.toml`\n",
      "\u001b[32m\u001b[1m  No Changes\u001b[22m\u001b[39m to `~/work/Julia/tutorials/Elixir_training_2021-04-22/Manifest.toml`\n"
     ]
    }
   ],
   "source": [
    "Pkg.add(\"CSV\");\n",
    "Pkg.add(\"XLSX\");\n",
    "Pkg.add(\"DataFrames\");"
   ]
  },
  {
   "cell_type": "code",
   "execution_count": 567,
   "id": "54b450b7",
   "metadata": {
    "slideshow": {
     "slide_type": "fragment"
    }
   },
   "outputs": [],
   "source": [
    "using CSV\n",
    "using DataFrames\n",
    "using XLSX"
   ]
  },
  {
   "cell_type": "markdown",
   "id": "9080f120",
   "metadata": {
    "slideshow": {
     "slide_type": "slide"
    }
   },
   "source": [
    "### Loading Excel Data"
   ]
  },
  {
   "cell_type": "code",
   "execution_count": 568,
   "id": "2ae684e6",
   "metadata": {
    "slideshow": {
     "slide_type": "fragment"
    }
   },
   "outputs": [
    {
     "data": {
      "text/plain": [
       "XLSXFile(\"demo_data.xlsx\") containing 1 Worksheet\n",
       "            sheetname size          range        \n",
       "-------------------------------------------------\n",
       "               Sheet1 6x3           A1:C6        \n"
      ]
     },
     "execution_count": 568,
     "metadata": {},
     "output_type": "execute_result"
    }
   ],
   "source": [
    "xf = XLSX.readxlsx(\"demo_data.xlsx\")"
   ]
  },
  {
   "cell_type": "code",
   "execution_count": 569,
   "id": "9f007cb9",
   "metadata": {
    "slideshow": {
     "slide_type": "fragment"
    }
   },
   "outputs": [
    {
     "data": {
      "text/plain": [
       "1-element Vector{String}:\n",
       " \"Sheet1\""
      ]
     },
     "execution_count": 569,
     "metadata": {},
     "output_type": "execute_result"
    }
   ],
   "source": [
    "XLSX.sheetnames(xf)"
   ]
  },
  {
   "cell_type": "code",
   "execution_count": 570,
   "id": "2893a068",
   "metadata": {
    "slideshow": {
     "slide_type": "fragment"
    }
   },
   "outputs": [
    {
     "data": {
      "text/plain": [
       "XLSX.Worksheet"
      ]
     },
     "execution_count": 570,
     "metadata": {},
     "output_type": "execute_result"
    }
   ],
   "source": [
    "sh = xf[\"Sheet1\"]\n",
    "typeof(sh)"
   ]
  },
  {
   "cell_type": "markdown",
   "id": "8a40ddd9",
   "metadata": {
    "slideshow": {
     "slide_type": "slide"
    }
   },
   "source": [
    "Selecting all data from Sheet"
   ]
  },
  {
   "cell_type": "code",
   "execution_count": 571,
   "id": "0705b3f1",
   "metadata": {
    "slideshow": {
     "slide_type": "fragment"
    }
   },
   "outputs": [
    {
     "data": {
      "text/plain": [
       "6×3 Matrix{Any}:\n",
       " \"Name\"                \"Salary\"  \"Entry\"\n",
       " \"Jon Doo\"        75000          2010-10-23\n",
       " \"Rose Bush\"      60000          2013-03-04\n",
       " \"Anne Teak\"      83000          2007-11-12\n",
       " \"Rod Knee\"       55000          2019-08-23\n",
       " \"Hank R. Cheef\"  98000          2001-04-29"
      ]
     },
     "execution_count": 571,
     "metadata": {},
     "output_type": "execute_result"
    }
   ],
   "source": [
    "sh[:]"
   ]
  },
  {
   "cell_type": "code",
   "execution_count": 572,
   "id": "307f0847",
   "metadata": {
    "slideshow": {
     "slide_type": "fragment"
    }
   },
   "outputs": [
    {
     "data": {
      "text/plain": [
       "3×2 Matrix{Any}:\n",
       " \"Name\"            \"Salary\"\n",
       " \"Jon Doo\"    75000\n",
       " \"Rose Bush\"  60000"
      ]
     },
     "execution_count": 572,
     "metadata": {},
     "output_type": "execute_result"
    }
   ],
   "source": [
    "# Selecting only 2 rows and 2 columns\n",
    "sh[\"A1:B3\"]"
   ]
  },
  {
   "cell_type": "markdown",
   "id": "a7304d4b",
   "metadata": {
    "slideshow": {
     "slide_type": "slide"
    }
   },
   "source": [
    "Lets cast the Matrix into a DataFrame"
   ]
  },
  {
   "cell_type": "code",
   "execution_count": 573,
   "id": "750912a2",
   "metadata": {
    "slideshow": {
     "slide_type": "fragment"
    }
   },
   "outputs": [
    {
     "data": {
      "text/html": [
       "<table class=\"data-frame\"><thead><tr><th></th><th>x1</th><th>x2</th><th>x3</th></tr><tr><th></th><th>Any</th><th>Any</th><th>Any</th></tr></thead><tbody><p>5 rows × 3 columns</p><tr><th>1</th><td>Jon Doo</td><td>75000</td><td>2010-10-23</td></tr><tr><th>2</th><td>Rose Bush</td><td>60000</td><td>2013-03-04</td></tr><tr><th>3</th><td>Anne Teak</td><td>83000</td><td>2007-11-12</td></tr><tr><th>4</th><td>Rod Knee</td><td>55000</td><td>2019-08-23</td></tr><tr><th>5</th><td>Hank R. Cheef</td><td>98000</td><td>2001-04-29</td></tr></tbody></table>"
      ],
      "text/latex": [
       "\\begin{tabular}{r|ccc}\n",
       "\t& x1 & x2 & x3\\\\\n",
       "\t\\hline\n",
       "\t& Any & Any & Any\\\\\n",
       "\t\\hline\n",
       "\t1 & Jon Doo & 75000 & 2010-10-23 \\\\\n",
       "\t2 & Rose Bush & 60000 & 2013-03-04 \\\\\n",
       "\t3 & Anne Teak & 83000 & 2007-11-12 \\\\\n",
       "\t4 & Rod Knee & 55000 & 2019-08-23 \\\\\n",
       "\t5 & Hank R. Cheef & 98000 & 2001-04-29 \\\\\n",
       "\\end{tabular}\n"
      ],
      "text/plain": [
       "\u001b[1m5×3 DataFrame\u001b[0m\n",
       "\u001b[1m Row \u001b[0m│\u001b[1m x1            \u001b[0m\u001b[1m x2    \u001b[0m\u001b[1m x3         \u001b[0m\n",
       "\u001b[1m     \u001b[0m│\u001b[90m Any           \u001b[0m\u001b[90m Any   \u001b[0m\u001b[90m Any        \u001b[0m\n",
       "─────┼──────────────────────────────────\n",
       "   1 │ Jon Doo        75000  2010-10-23\n",
       "   2 │ Rose Bush      60000  2013-03-04\n",
       "   3 │ Anne Teak      83000  2007-11-12\n",
       "   4 │ Rod Knee       55000  2019-08-23\n",
       "   5 │ Hank R. Cheef  98000  2001-04-29"
      ]
     },
     "execution_count": 573,
     "metadata": {},
     "output_type": "execute_result"
    }
   ],
   "source": [
    "# Leave the first row out (column names)\n",
    "hr = sh[\"A2:C6\"] |> DataFrame"
   ]
  },
  {
   "cell_type": "code",
   "execution_count": 574,
   "id": "2e7fff27",
   "metadata": {
    "slideshow": {
     "slide_type": "fragment"
    }
   },
   "outputs": [
    {
     "data": {
      "text/html": [
       "<table class=\"data-frame\"><thead><tr><th></th><th>Name</th><th>Salary</th><th>Entry_Date</th></tr><tr><th></th><th>Any</th><th>Any</th><th>Any</th></tr></thead><tbody><p>5 rows × 3 columns</p><tr><th>1</th><td>Jon Doo</td><td>75000</td><td>2010-10-23</td></tr><tr><th>2</th><td>Rose Bush</td><td>60000</td><td>2013-03-04</td></tr><tr><th>3</th><td>Anne Teak</td><td>83000</td><td>2007-11-12</td></tr><tr><th>4</th><td>Rod Knee</td><td>55000</td><td>2019-08-23</td></tr><tr><th>5</th><td>Hank R. Cheef</td><td>98000</td><td>2001-04-29</td></tr></tbody></table>"
      ],
      "text/latex": [
       "\\begin{tabular}{r|ccc}\n",
       "\t& Name & Salary & Entry\\_Date\\\\\n",
       "\t\\hline\n",
       "\t& Any & Any & Any\\\\\n",
       "\t\\hline\n",
       "\t1 & Jon Doo & 75000 & 2010-10-23 \\\\\n",
       "\t2 & Rose Bush & 60000 & 2013-03-04 \\\\\n",
       "\t3 & Anne Teak & 83000 & 2007-11-12 \\\\\n",
       "\t4 & Rod Knee & 55000 & 2019-08-23 \\\\\n",
       "\t5 & Hank R. Cheef & 98000 & 2001-04-29 \\\\\n",
       "\\end{tabular}\n"
      ],
      "text/plain": [
       "\u001b[1m5×3 DataFrame\u001b[0m\n",
       "\u001b[1m Row \u001b[0m│\u001b[1m Name          \u001b[0m\u001b[1m Salary \u001b[0m\u001b[1m Entry_Date \u001b[0m\n",
       "\u001b[1m     \u001b[0m│\u001b[90m Any           \u001b[0m\u001b[90m Any    \u001b[0m\u001b[90m Any        \u001b[0m\n",
       "─────┼───────────────────────────────────\n",
       "   1 │ Jon Doo        75000   2010-10-23\n",
       "   2 │ Rose Bush      60000   2013-03-04\n",
       "   3 │ Anne Teak      83000   2007-11-12\n",
       "   4 │ Rod Knee       55000   2019-08-23\n",
       "   5 │ Hank R. Cheef  98000   2001-04-29"
      ]
     },
     "execution_count": 574,
     "metadata": {},
     "output_type": "execute_result"
    }
   ],
   "source": [
    "# Manually rename the columns\n",
    "rename!(hr, [:Name, :Salary, :Entry_Date])"
   ]
  },
  {
   "cell_type": "markdown",
   "id": "f6ddb110",
   "metadata": {
    "slideshow": {
     "slide_type": "slide"
    }
   },
   "source": [
    "We can combine all these steps into one:"
   ]
  },
  {
   "cell_type": "code",
   "execution_count": 575,
   "id": "688efa9a",
   "metadata": {
    "slideshow": {
     "slide_type": "fragment"
    }
   },
   "outputs": [
    {
     "data": {
      "text/html": [
       "<table class=\"data-frame\"><thead><tr><th></th><th>Name</th><th>Salary</th><th>Entry</th></tr><tr><th></th><th>Any</th><th>Any</th><th>Any</th></tr></thead><tbody><p>5 rows × 3 columns</p><tr><th>1</th><td>Jon Doo</td><td>75000</td><td>2010-10-23</td></tr><tr><th>2</th><td>Rose Bush</td><td>60000</td><td>2013-03-04</td></tr><tr><th>3</th><td>Anne Teak</td><td>83000</td><td>2007-11-12</td></tr><tr><th>4</th><td>Rod Knee</td><td>55000</td><td>2019-08-23</td></tr><tr><th>5</th><td>Hank R. Cheef</td><td>98000</td><td>2001-04-29</td></tr></tbody></table>"
      ],
      "text/latex": [
       "\\begin{tabular}{r|ccc}\n",
       "\t& Name & Salary & Entry\\\\\n",
       "\t\\hline\n",
       "\t& Any & Any & Any\\\\\n",
       "\t\\hline\n",
       "\t1 & Jon Doo & 75000 & 2010-10-23 \\\\\n",
       "\t2 & Rose Bush & 60000 & 2013-03-04 \\\\\n",
       "\t3 & Anne Teak & 83000 & 2007-11-12 \\\\\n",
       "\t4 & Rod Knee & 55000 & 2019-08-23 \\\\\n",
       "\t5 & Hank R. Cheef & 98000 & 2001-04-29 \\\\\n",
       "\\end{tabular}\n"
      ],
      "text/plain": [
       "\u001b[1m5×3 DataFrame\u001b[0m\n",
       "\u001b[1m Row \u001b[0m│\u001b[1m Name          \u001b[0m\u001b[1m Salary \u001b[0m\u001b[1m Entry      \u001b[0m\n",
       "\u001b[1m     \u001b[0m│\u001b[90m Any           \u001b[0m\u001b[90m Any    \u001b[0m\u001b[90m Any        \u001b[0m\n",
       "─────┼───────────────────────────────────\n",
       "   1 │ Jon Doo        75000   2010-10-23\n",
       "   2 │ Rose Bush      60000   2013-03-04\n",
       "   3 │ Anne Teak      83000   2007-11-12\n",
       "   4 │ Rod Knee       55000   2019-08-23\n",
       "   5 │ Hank R. Cheef  98000   2001-04-29"
      ]
     },
     "execution_count": 575,
     "metadata": {},
     "output_type": "execute_result"
    }
   ],
   "source": [
    "hr = DataFrame(XLSX.readtable(\"demo_data.xlsx\", \"Sheet1\")...)"
   ]
  },
  {
   "cell_type": "code",
   "execution_count": 576,
   "id": "7b863079",
   "metadata": {
    "slideshow": {
     "slide_type": "fragment"
    }
   },
   "outputs": [
    {
     "data": {
      "text/plain": [
       "DataFrame"
      ]
     },
     "execution_count": 576,
     "metadata": {},
     "output_type": "execute_result"
    }
   ],
   "source": [
    "typeof(hr)"
   ]
  },
  {
   "cell_type": "markdown",
   "id": "2562c72b",
   "metadata": {
    "slideshow": {
     "slide_type": "slide"
    }
   },
   "source": [
    "#### Let's save the dataframe as CSV file:"
   ]
  },
  {
   "cell_type": "code",
   "execution_count": 577,
   "id": "8de51d37",
   "metadata": {
    "slideshow": {
     "slide_type": "fragment"
    }
   },
   "outputs": [
    {
     "data": {
      "text/plain": [
       "\"HR_Sheet.csv\""
      ]
     },
     "execution_count": 577,
     "metadata": {},
     "output_type": "execute_result"
    }
   ],
   "source": [
    "CSV.write(\"HR_Sheet.csv\", hr)"
   ]
  },
  {
   "cell_type": "markdown",
   "id": "463805cc",
   "metadata": {
    "slideshow": {
     "slide_type": "fragment"
    }
   },
   "source": [
    "#### Read in CSV file:"
   ]
  },
  {
   "cell_type": "code",
   "execution_count": 578,
   "id": "05d62693",
   "metadata": {
    "slideshow": {
     "slide_type": "fragment"
    }
   },
   "outputs": [
    {
     "data": {
      "text/plain": [
       "5-element CSV.File{false}:\n",
       " CSV.Row: (Name = \"Jon Doo\", Salary = 75000, Entry = Date(\"2010-10-23\"))\n",
       " CSV.Row: (Name = \"Rose Bush\", Salary = 60000, Entry = Date(\"2013-03-04\"))\n",
       " CSV.Row: (Name = \"Anne Teak\", Salary = 83000, Entry = Date(\"2007-11-12\"))\n",
       " CSV.Row: (Name = \"Rod Knee\", Salary = 55000, Entry = Date(\"2019-08-23\"))\n",
       " CSV.Row: (Name = \"Hank R. Cheef\", Salary = 98000, Entry = Date(\"2001-04-29\"))"
      ]
     },
     "execution_count": 578,
     "metadata": {},
     "output_type": "execute_result"
    }
   ],
   "source": [
    "hr_csv = CSV.File(\"HR_Sheet.csv\")"
   ]
  },
  {
   "cell_type": "code",
   "execution_count": 579,
   "id": "d4ac310a",
   "metadata": {
    "slideshow": {
     "slide_type": "fragment"
    }
   },
   "outputs": [
    {
     "data": {
      "text/plain": [
       "\"Jon Doo\""
      ]
     },
     "execution_count": 579,
     "metadata": {},
     "output_type": "execute_result"
    }
   ],
   "source": [
    "# Select the Name field of the first CSV row\n",
    "hr_csv[1][:Name]"
   ]
  },
  {
   "cell_type": "markdown",
   "id": "28b2a5c5",
   "metadata": {
    "slideshow": {
     "slide_type": "slide"
    }
   },
   "source": [
    "#### Use DataFrames instead of CSV.Row"
   ]
  },
  {
   "cell_type": "code",
   "execution_count": 580,
   "id": "d599a242",
   "metadata": {
    "slideshow": {
     "slide_type": "fragment"
    }
   },
   "outputs": [
    {
     "data": {
      "text/html": [
       "<table class=\"data-frame\"><thead><tr><th></th><th>Name</th><th>Salary</th><th>Entry</th></tr><tr><th></th><th>String</th><th>Int64</th><th>Date</th></tr></thead><tbody><p>5 rows × 3 columns</p><tr><th>1</th><td>Jon Doo</td><td>75000</td><td>2010-10-23</td></tr><tr><th>2</th><td>Rose Bush</td><td>60000</td><td>2013-03-04</td></tr><tr><th>3</th><td>Anne Teak</td><td>83000</td><td>2007-11-12</td></tr><tr><th>4</th><td>Rod Knee</td><td>55000</td><td>2019-08-23</td></tr><tr><th>5</th><td>Hank R. Cheef</td><td>98000</td><td>2001-04-29</td></tr></tbody></table>"
      ],
      "text/latex": [
       "\\begin{tabular}{r|ccc}\n",
       "\t& Name & Salary & Entry\\\\\n",
       "\t\\hline\n",
       "\t& String & Int64 & Date\\\\\n",
       "\t\\hline\n",
       "\t1 & Jon Doo & 75000 & 2010-10-23 \\\\\n",
       "\t2 & Rose Bush & 60000 & 2013-03-04 \\\\\n",
       "\t3 & Anne Teak & 83000 & 2007-11-12 \\\\\n",
       "\t4 & Rod Knee & 55000 & 2019-08-23 \\\\\n",
       "\t5 & Hank R. Cheef & 98000 & 2001-04-29 \\\\\n",
       "\\end{tabular}\n"
      ],
      "text/plain": [
       "\u001b[1m5×3 DataFrame\u001b[0m\n",
       "\u001b[1m Row \u001b[0m│\u001b[1m Name          \u001b[0m\u001b[1m Salary \u001b[0m\u001b[1m Entry      \u001b[0m\n",
       "\u001b[1m     \u001b[0m│\u001b[90m String        \u001b[0m\u001b[90m Int64  \u001b[0m\u001b[90m Date       \u001b[0m\n",
       "─────┼───────────────────────────────────\n",
       "   1 │ Jon Doo         75000  2010-10-23\n",
       "   2 │ Rose Bush       60000  2013-03-04\n",
       "   3 │ Anne Teak       83000  2007-11-12\n",
       "   4 │ Rod Knee        55000  2019-08-23\n",
       "   5 │ Hank R. Cheef   98000  2001-04-29"
      ]
     },
     "execution_count": 580,
     "metadata": {},
     "output_type": "execute_result"
    }
   ],
   "source": [
    "hr_csv = CSV.File(\"HR_Sheet.csv\", header=true) |> DataFrame"
   ]
  },
  {
   "cell_type": "markdown",
   "id": "d814b539",
   "metadata": {
    "slideshow": {
     "slide_type": "slide"
    }
   },
   "source": [
    "####  Now, let's read another Excel file:"
   ]
  },
  {
   "cell_type": "code",
   "execution_count": 581,
   "id": "3c4bee74",
   "metadata": {
    "slideshow": {
     "slide_type": "fragment"
    }
   },
   "outputs": [
    {
     "data": {
      "text/html": [
       "<table class=\"data-frame\"><thead><tr><th></th><th>Name</th><th>Department</th></tr><tr><th></th><th>Any</th><th>Any</th></tr></thead><tbody><p>5 rows × 2 columns</p><tr><th>1</th><td>Jon Doo</td><td>HR</td></tr><tr><th>2</th><td>Rose Bush</td><td>R&amp;D</td></tr><tr><th>3</th><td>Anne Teak</td><td>R&amp;D</td></tr><tr><th>4</th><td>Rod Knee</td><td>Marketing</td></tr><tr><th>5</th><td>Hank R. Cheef</td><td>GM</td></tr></tbody></table>"
      ],
      "text/latex": [
       "\\begin{tabular}{r|cc}\n",
       "\t& Name & Department\\\\\n",
       "\t\\hline\n",
       "\t& Any & Any\\\\\n",
       "\t\\hline\n",
       "\t1 & Jon Doo & HR \\\\\n",
       "\t2 & Rose Bush & R\\&D \\\\\n",
       "\t3 & Anne Teak & R\\&D \\\\\n",
       "\t4 & Rod Knee & Marketing \\\\\n",
       "\t5 & Hank R. Cheef & GM \\\\\n",
       "\\end{tabular}\n"
      ],
      "text/plain": [
       "\u001b[1m5×2 DataFrame\u001b[0m\n",
       "\u001b[1m Row \u001b[0m│\u001b[1m Name          \u001b[0m\u001b[1m Department \u001b[0m\n",
       "\u001b[1m     \u001b[0m│\u001b[90m Any           \u001b[0m\u001b[90m Any        \u001b[0m\n",
       "─────┼───────────────────────────\n",
       "   1 │ Jon Doo        HR\n",
       "   2 │ Rose Bush      R&D\n",
       "   3 │ Anne Teak      R&D\n",
       "   4 │ Rod Knee       Marketing\n",
       "   5 │ Hank R. Cheef  GM"
      ]
     },
     "execution_count": 581,
     "metadata": {},
     "output_type": "execute_result"
    }
   ],
   "source": [
    "hr_departments = DataFrame(XLSX.readtable(\"demo_data2.xlsx\", \"Sheet1\")...)"
   ]
  },
  {
   "cell_type": "markdown",
   "id": "f3ce5c4c",
   "metadata": {
    "slideshow": {
     "slide_type": "slide"
    }
   },
   "source": [
    "#### Casting into datatypes while reading:"
   ]
  },
  {
   "cell_type": "code",
   "execution_count": 511,
   "id": "004fedd1",
   "metadata": {
    "slideshow": {
     "slide_type": "fragment"
    }
   },
   "outputs": [
    {
     "data": {
      "text/html": [
       "<table class=\"data-frame\"><thead><tr><th></th><th>Name</th><th>Department</th></tr><tr><th></th><th>String</th><th>String</th></tr></thead><tbody><p>5 rows × 2 columns</p><tr><th>1</th><td>Jon Doo</td><td>HR</td></tr><tr><th>2</th><td>Rose Bush</td><td>R&amp;D</td></tr><tr><th>3</th><td>Anne Teak</td><td>R&amp;D</td></tr><tr><th>4</th><td>Rod Knee</td><td>Marketing</td></tr><tr><th>5</th><td>Hank R. Cheef</td><td>GM</td></tr></tbody></table>"
      ],
      "text/latex": [
       "\\begin{tabular}{r|cc}\n",
       "\t& Name & Department\\\\\n",
       "\t\\hline\n",
       "\t& String & String\\\\\n",
       "\t\\hline\n",
       "\t1 & Jon Doo & HR \\\\\n",
       "\t2 & Rose Bush & R\\&D \\\\\n",
       "\t3 & Anne Teak & R\\&D \\\\\n",
       "\t4 & Rod Knee & Marketing \\\\\n",
       "\t5 & Hank R. Cheef & GM \\\\\n",
       "\\end{tabular}\n"
      ],
      "text/plain": [
       "\u001b[1m5×2 DataFrame\u001b[0m\n",
       "\u001b[1m Row \u001b[0m│\u001b[1m Name          \u001b[0m\u001b[1m Department \u001b[0m\n",
       "\u001b[1m     \u001b[0m│\u001b[90m String        \u001b[0m\u001b[90m String     \u001b[0m\n",
       "─────┼───────────────────────────\n",
       "   1 │ Jon Doo        HR\n",
       "   2 │ Rose Bush      R&D\n",
       "   3 │ Anne Teak      R&D\n",
       "   4 │ Rod Knee       Marketing\n",
       "   5 │ Hank R. Cheef  GM"
      ]
     },
     "execution_count": 511,
     "metadata": {},
     "output_type": "execute_result"
    }
   ],
   "source": [
    "hr_departments = DataFrame(XLSX.readtable(\"demo_data2.xlsx\", \"Sheet1\", infer_eltypes=true)...)"
   ]
  },
  {
   "cell_type": "markdown",
   "id": "1e11bec5",
   "metadata": {
    "slideshow": {
     "slide_type": "slide"
    }
   },
   "source": [
    "Let's join both tables into one:"
   ]
  },
  {
   "cell_type": "code",
   "execution_count": 512,
   "id": "2cdca9f1",
   "metadata": {
    "slideshow": {
     "slide_type": "fragment"
    }
   },
   "outputs": [
    {
     "data": {
      "text/html": [
       "<table class=\"data-frame\"><thead><tr><th></th><th>Name</th><th>Salary</th><th>Entry</th><th>Department</th></tr><tr><th></th><th>String</th><th>Int64</th><th>Date</th><th>String</th></tr></thead><tbody><p>5 rows × 4 columns</p><tr><th>1</th><td>Jon Doo</td><td>75000</td><td>2010-10-23</td><td>HR</td></tr><tr><th>2</th><td>Rose Bush</td><td>60000</td><td>2013-03-04</td><td>R&amp;D</td></tr><tr><th>3</th><td>Anne Teak</td><td>83000</td><td>2007-11-12</td><td>R&amp;D</td></tr><tr><th>4</th><td>Rod Knee</td><td>55000</td><td>2019-08-23</td><td>Marketing</td></tr><tr><th>5</th><td>Hank R. Cheef</td><td>98000</td><td>2001-04-29</td><td>GM</td></tr></tbody></table>"
      ],
      "text/latex": [
       "\\begin{tabular}{r|cccc}\n",
       "\t& Name & Salary & Entry & Department\\\\\n",
       "\t\\hline\n",
       "\t& String & Int64 & Date & String\\\\\n",
       "\t\\hline\n",
       "\t1 & Jon Doo & 75000 & 2010-10-23 & HR \\\\\n",
       "\t2 & Rose Bush & 60000 & 2013-03-04 & R\\&D \\\\\n",
       "\t3 & Anne Teak & 83000 & 2007-11-12 & R\\&D \\\\\n",
       "\t4 & Rod Knee & 55000 & 2019-08-23 & Marketing \\\\\n",
       "\t5 & Hank R. Cheef & 98000 & 2001-04-29 & GM \\\\\n",
       "\\end{tabular}\n"
      ],
      "text/plain": [
       "\u001b[1m5×4 DataFrame\u001b[0m\n",
       "\u001b[1m Row \u001b[0m│\u001b[1m Name          \u001b[0m\u001b[1m Salary \u001b[0m\u001b[1m Entry      \u001b[0m\u001b[1m Department \u001b[0m\n",
       "\u001b[1m     \u001b[0m│\u001b[90m String        \u001b[0m\u001b[90m Int64  \u001b[0m\u001b[90m Date       \u001b[0m\u001b[90m String     \u001b[0m\n",
       "─────┼───────────────────────────────────────────────\n",
       "   1 │ Jon Doo         75000  2010-10-23  HR\n",
       "   2 │ Rose Bush       60000  2013-03-04  R&D\n",
       "   3 │ Anne Teak       83000  2007-11-12  R&D\n",
       "   4 │ Rod Knee        55000  2019-08-23  Marketing\n",
       "   5 │ Hank R. Cheef   98000  2001-04-29  GM"
      ]
     },
     "execution_count": 512,
     "metadata": {},
     "output_type": "execute_result"
    }
   ],
   "source": [
    "hr_all = innerjoin(hr_csv, hr_departments, on=:Name)"
   ]
  },
  {
   "cell_type": "markdown",
   "id": "90d1cdde",
   "metadata": {
    "slideshow": {
     "slide_type": "slide"
    }
   },
   "source": [
    "#### Selecting fields and sub-sets\n",
    "Selecting a single column:"
   ]
  },
  {
   "cell_type": "code",
   "execution_count": 513,
   "id": "3ccb5bd7",
   "metadata": {
    "slideshow": {
     "slide_type": "fragment"
    }
   },
   "outputs": [
    {
     "data": {
      "text/plain": [
       "5-element Vector{String}:\n",
       " \"Jon Doo\"\n",
       " \"Rose Bush\"\n",
       " \"Anne Teak\"\n",
       " \"Rod Knee\"\n",
       " \"Hank R. Cheef\""
      ]
     },
     "execution_count": 513,
     "metadata": {},
     "output_type": "execute_result"
    }
   ],
   "source": [
    "hr_all.Name"
   ]
  },
  {
   "cell_type": "code",
   "execution_count": 514,
   "id": "c6324658",
   "metadata": {
    "slideshow": {
     "slide_type": "fragment"
    }
   },
   "outputs": [
    {
     "data": {
      "text/plain": [
       "5-element Vector{String}:\n",
       " \"Jon Doo\"\n",
       " \"Rose Bush\"\n",
       " \"Anne Teak\"\n",
       " \"Rod Knee\"\n",
       " \"Hank R. Cheef\""
      ]
     },
     "execution_count": 514,
     "metadata": {},
     "output_type": "execute_result"
    }
   ],
   "source": [
    "hr_all[!, :Name]"
   ]
  },
  {
   "cell_type": "markdown",
   "id": "dd26f70d",
   "metadata": {
    "slideshow": {
     "slide_type": "slide"
    }
   },
   "source": [
    "#### Sub-setting by condition:"
   ]
  },
  {
   "cell_type": "code",
   "execution_count": 515,
   "id": "eefc0db7",
   "metadata": {
    "slideshow": {
     "slide_type": "fragment"
    }
   },
   "outputs": [
    {
     "data": {
      "text/plain": [
       "5-element BitVector:\n",
       " 0\n",
       " 0\n",
       " 1\n",
       " 0\n",
       " 1"
      ]
     },
     "execution_count": 515,
     "metadata": {},
     "output_type": "execute_result"
    }
   ],
   "source": [
    "# Our condition:\n",
    "hr_all.Salary .> 75000"
   ]
  },
  {
   "cell_type": "code",
   "execution_count": 516,
   "id": "404f75f5",
   "metadata": {
    "slideshow": {
     "slide_type": "fragment"
    }
   },
   "outputs": [
    {
     "data": {
      "text/html": [
       "<table class=\"data-frame\"><thead><tr><th></th><th>Name</th><th>Salary</th><th>Entry</th><th>Department</th></tr><tr><th></th><th>String</th><th>Int64</th><th>Date</th><th>String</th></tr></thead><tbody><p>2 rows × 4 columns</p><tr><th>1</th><td>Anne Teak</td><td>83000</td><td>2007-11-12</td><td>R&amp;D</td></tr><tr><th>2</th><td>Hank R. Cheef</td><td>98000</td><td>2001-04-29</td><td>GM</td></tr></tbody></table>"
      ],
      "text/latex": [
       "\\begin{tabular}{r|cccc}\n",
       "\t& Name & Salary & Entry & Department\\\\\n",
       "\t\\hline\n",
       "\t& String & Int64 & Date & String\\\\\n",
       "\t\\hline\n",
       "\t1 & Anne Teak & 83000 & 2007-11-12 & R\\&D \\\\\n",
       "\t2 & Hank R. Cheef & 98000 & 2001-04-29 & GM \\\\\n",
       "\\end{tabular}\n"
      ],
      "text/plain": [
       "\u001b[1m2×4 DataFrame\u001b[0m\n",
       "\u001b[1m Row \u001b[0m│\u001b[1m Name          \u001b[0m\u001b[1m Salary \u001b[0m\u001b[1m Entry      \u001b[0m\u001b[1m Department \u001b[0m\n",
       "\u001b[1m     \u001b[0m│\u001b[90m String        \u001b[0m\u001b[90m Int64  \u001b[0m\u001b[90m Date       \u001b[0m\u001b[90m String     \u001b[0m\n",
       "─────┼───────────────────────────────────────────────\n",
       "   1 │ Anne Teak       83000  2007-11-12  R&D\n",
       "   2 │ Hank R. Cheef   98000  2001-04-29  GM"
      ]
     },
     "execution_count": 516,
     "metadata": {},
     "output_type": "execute_result"
    }
   ],
   "source": [
    "hr_all[hr_all.Salary .> 75000, :]"
   ]
  },
  {
   "cell_type": "markdown",
   "id": "956cb487",
   "metadata": {
    "slideshow": {
     "slide_type": "slide"
    }
   },
   "source": [
    "#### Sub-setting columns by name:"
   ]
  },
  {
   "cell_type": "code",
   "execution_count": 519,
   "id": "aadbc103",
   "metadata": {
    "slideshow": {
     "slide_type": "fragment"
    }
   },
   "outputs": [
    {
     "data": {
      "text/html": [
       "<table class=\"data-frame\"><thead><tr><th></th><th>Name</th><th>Entry</th></tr><tr><th></th><th>String</th><th>Date</th></tr></thead><tbody><p>5 rows × 2 columns</p><tr><th>1</th><td>Jon Doo</td><td>2010-10-23</td></tr><tr><th>2</th><td>Rose Bush</td><td>2013-03-04</td></tr><tr><th>3</th><td>Anne Teak</td><td>2007-11-12</td></tr><tr><th>4</th><td>Rod Knee</td><td>2019-08-23</td></tr><tr><th>5</th><td>Hank R. Cheef</td><td>2001-04-29</td></tr></tbody></table>"
      ],
      "text/latex": [
       "\\begin{tabular}{r|cc}\n",
       "\t& Name & Entry\\\\\n",
       "\t\\hline\n",
       "\t& String & Date\\\\\n",
       "\t\\hline\n",
       "\t1 & Jon Doo & 2010-10-23 \\\\\n",
       "\t2 & Rose Bush & 2013-03-04 \\\\\n",
       "\t3 & Anne Teak & 2007-11-12 \\\\\n",
       "\t4 & Rod Knee & 2019-08-23 \\\\\n",
       "\t5 & Hank R. Cheef & 2001-04-29 \\\\\n",
       "\\end{tabular}\n"
      ],
      "text/plain": [
       "\u001b[1m5×2 DataFrame\u001b[0m\n",
       "\u001b[1m Row \u001b[0m│\u001b[1m Name          \u001b[0m\u001b[1m Entry      \u001b[0m\n",
       "\u001b[1m     \u001b[0m│\u001b[90m String        \u001b[0m\u001b[90m Date       \u001b[0m\n",
       "─────┼───────────────────────────\n",
       "   1 │ Jon Doo        2010-10-23\n",
       "   2 │ Rose Bush      2013-03-04\n",
       "   3 │ Anne Teak      2007-11-12\n",
       "   4 │ Rod Knee       2019-08-23\n",
       "   5 │ Hank R. Cheef  2001-04-29"
      ]
     },
     "execution_count": 519,
     "metadata": {},
     "output_type": "execute_result"
    }
   ],
   "source": [
    "hr_all[!, [:Name, :Entry]]"
   ]
  },
  {
   "cell_type": "markdown",
   "id": "07a693da",
   "metadata": {
    "slideshow": {
     "slide_type": "slide"
    }
   },
   "source": [
    "# Using the Query.jl package"
   ]
  },
  {
   "cell_type": "code",
   "execution_count": 520,
   "id": "7237cbef",
   "metadata": {
    "scrolled": true,
    "slideshow": {
     "slide_type": "fragment"
    }
   },
   "outputs": [
    {
     "name": "stderr",
     "output_type": "stream",
     "text": [
      "\u001b[32m\u001b[1m   Resolving\u001b[22m\u001b[39m package versions...\n",
      "\u001b[32m\u001b[1m  No Changes\u001b[22m\u001b[39m to `~/work/Julia/tutorials/Elixir_training_2021-04-22/Project.toml`\n",
      "\u001b[32m\u001b[1m  No Changes\u001b[22m\u001b[39m to `~/work/Julia/tutorials/Elixir_training_2021-04-22/Manifest.toml`\n"
     ]
    }
   ],
   "source": [
    "Pkg.add(\"Query\");\n",
    "using Query;\n",
    "using Statistics"
   ]
  },
  {
   "cell_type": "markdown",
   "id": "a5894505",
   "metadata": {
    "slideshow": {
     "slide_type": "slide"
    }
   },
   "source": [
    "Pipe operator \"|>\" is used to feed the output of an operation into the input of the next function, e.g. select, filter and sub-set dataframes: <br>\n",
    "The command from above: <br>\n",
    "\n",
    "\n",
    "**`hr_all[hr_all.Salary .> 75000, :]`** <br>\n",
    "\n",
    "\n",
    "can be written as:"
   ]
  },
  {
   "cell_type": "code",
   "execution_count": 521,
   "id": "0ac4501e",
   "metadata": {
    "slideshow": {
     "slide_type": "fragment"
    }
   },
   "outputs": [
    {
     "data": {
      "application/vnd.dataresource+json": {
       "data": [
        {
         "Department": "R&D",
         "Entry": "2007-11-12",
         "Name": "Anne Teak",
         "Salary": 83000
        },
        {
         "Department": "GM",
         "Entry": "2001-04-29",
         "Name": "Hank R. Cheef",
         "Salary": 98000
        }
       ],
       "schema": {
        "fields": [
         {
          "name": "Name",
          "type": "string"
         },
         {
          "name": "Salary",
          "type": "integer"
         },
         {
          "name": "Entry",
          "type": "date"
         },
         {
          "name": "Department",
          "type": "string"
         }
        ]
       }
      },
      "text/html": [
       "<table><thead><tr><th>Name</th><th>Salary</th><th>Entry</th><th>Department</th></tr></thead><tbody><tr><td>&quot;Anne Teak&quot;</td><td>83000</td><td>Date&#40;&quot;2007-11-12&quot;&#41;</td><td>&quot;R&amp;D&quot;</td></tr><tr><td>&quot;Hank R. Cheef&quot;</td><td>98000</td><td>Date&#40;&quot;2001-04-29&quot;&#41;</td><td>&quot;GM&quot;</td></tr></tbody></table>"
      ],
      "text/plain": [
       "2x4 query result\n",
       "Name          │ Salary │ Entry              │ Department\n",
       "──────────────┼────────┼────────────────────┼───────────\n",
       "Anne Teak     │ 83000  │ Date(\"2007-11-12\") │ R&D       \n",
       "Hank R. Cheef │ 98000  │ Date(\"2001-04-29\") │ GM        "
      ]
     },
     "execution_count": 521,
     "metadata": {},
     "output_type": "execute_result"
    }
   ],
   "source": [
    "hr_all |> @filter(_.Salary > 75000)"
   ]
  },
  {
   "cell_type": "markdown",
   "id": "40c2eb8d",
   "metadata": {
    "slideshow": {
     "slide_type": "slide"
    }
   },
   "source": [
    "This way we can pipe easily multiple commands:"
   ]
  },
  {
   "cell_type": "code",
   "execution_count": 522,
   "id": "9242700f",
   "metadata": {
    "slideshow": {
     "slide_type": "fragment"
    }
   },
   "outputs": [
    {
     "data": {
      "text/html": [
       "<table class=\"data-frame\"><thead><tr><th></th><th>Name</th><th>Salary</th><th>Department</th></tr><tr><th></th><th>String</th><th>Int64</th><th>String</th></tr></thead><tbody><p>2 rows × 3 columns</p><tr><th>1</th><td>Anne Teak</td><td>83000</td><td>R&amp;D</td></tr><tr><th>2</th><td>Hank R. Cheef</td><td>98000</td><td>GM</td></tr></tbody></table>"
      ],
      "text/latex": [
       "\\begin{tabular}{r|ccc}\n",
       "\t& Name & Salary & Department\\\\\n",
       "\t\\hline\n",
       "\t& String & Int64 & String\\\\\n",
       "\t\\hline\n",
       "\t1 & Anne Teak & 83000 & R\\&D \\\\\n",
       "\t2 & Hank R. Cheef & 98000 & GM \\\\\n",
       "\\end{tabular}\n"
      ],
      "text/plain": [
       "\u001b[1m2×3 DataFrame\u001b[0m\n",
       "\u001b[1m Row \u001b[0m│\u001b[1m Name          \u001b[0m\u001b[1m Salary \u001b[0m\u001b[1m Department \u001b[0m\n",
       "\u001b[1m     \u001b[0m│\u001b[90m String        \u001b[0m\u001b[90m Int64  \u001b[0m\u001b[90m String     \u001b[0m\n",
       "─────┼───────────────────────────────────\n",
       "   1 │ Anne Teak       83000  R&D\n",
       "   2 │ Hank R. Cheef   98000  GM"
      ]
     },
     "execution_count": 522,
     "metadata": {},
     "output_type": "execute_result"
    }
   ],
   "source": [
    "top = hr_all |> \n",
    "            @select(:Name, :Salary, :Department) |> \n",
    "            @filter(_.Salary > 75000) |>\n",
    "            DataFrame"
   ]
  },
  {
   "cell_type": "code",
   "execution_count": 523,
   "id": "4ec40015",
   "metadata": {
    "slideshow": {
     "slide_type": "slide"
    }
   },
   "outputs": [
    {
     "data": {
      "text/html": [
       "<table class=\"data-frame\"><thead><tr><th></th><th>Department</th><th>Salary</th></tr><tr><th></th><th>String</th><th>Float64</th></tr></thead><tbody><p>4 rows × 2 columns</p><tr><th>1</th><td>HR</td><td>75000.0</td></tr><tr><th>2</th><td>R&amp;D</td><td>71500.0</td></tr><tr><th>3</th><td>Marketing</td><td>55000.0</td></tr><tr><th>4</th><td>GM</td><td>98000.0</td></tr></tbody></table>"
      ],
      "text/latex": [
       "\\begin{tabular}{r|cc}\n",
       "\t& Department & Salary\\\\\n",
       "\t\\hline\n",
       "\t& String & Float64\\\\\n",
       "\t\\hline\n",
       "\t1 & HR & 75000.0 \\\\\n",
       "\t2 & R\\&D & 71500.0 \\\\\n",
       "\t3 & Marketing & 55000.0 \\\\\n",
       "\t4 & GM & 98000.0 \\\\\n",
       "\\end{tabular}\n"
      ],
      "text/plain": [
       "\u001b[1m4×2 DataFrame\u001b[0m\n",
       "\u001b[1m Row \u001b[0m│\u001b[1m Department \u001b[0m\u001b[1m Salary  \u001b[0m\n",
       "\u001b[1m     \u001b[0m│\u001b[90m String     \u001b[0m\u001b[90m Float64 \u001b[0m\n",
       "─────┼─────────────────────\n",
       "   1 │ HR          75000.0\n",
       "   2 │ R&D         71500.0\n",
       "   3 │ Marketing   55000.0\n",
       "   4 │ GM          98000.0"
      ]
     },
     "execution_count": 523,
     "metadata": {},
     "output_type": "execute_result"
    }
   ],
   "source": [
    "df2 = hr_all |>\n",
    "            @groupby(_.Department) |>\n",
    "            @map({Department=key(_), Salary=mean(_.Salary)}) |>\n",
    "            DataFrame"
   ]
  },
  {
   "cell_type": "markdown",
   "id": "715f0efd",
   "metadata": {
    "slideshow": {
     "slide_type": "slide"
    }
   },
   "source": [
    "Detailed description of parameters for import and export can be found in the package documentation: <br>\n",
    "#### CSV.jl \n",
    "https://csv.juliadata.org/stable/\n",
    "#### XLSX.jl \n",
    "https://felipenoris.github.io/XLSX.jl/stable/ <br>\n",
    "\n",
    "\n",
    "For example in CSV.jl you can normalize the column names to remove unwanted characters <br>\n",
    "as whitespaces etc."
   ]
  },
  {
   "cell_type": "markdown",
   "id": "838c2376",
   "metadata": {
    "slideshow": {
     "slide_type": "slide"
    }
   },
   "source": [
    "# How to download data from url:"
   ]
  },
  {
   "cell_type": "code",
   "execution_count": 582,
   "id": "b40a457a",
   "metadata": {
    "slideshow": {
     "slide_type": "fragment"
    }
   },
   "outputs": [
    {
     "data": {
      "text/plain": [
       "\"/var/folders/p5/vnkq8n3d0s9_ftw6ktg1b4bcrqfp_x/T/jl_aOviFf\""
      ]
     },
     "execution_count": 582,
     "metadata": {},
     "output_type": "execute_result"
    }
   ],
   "source": [
    "d=download(\"https://raw.githubusercontent.com/fivethirtyeight/data/master/us-weather-history/KCLT.csv\")"
   ]
  },
  {
   "cell_type": "code",
   "execution_count": 583,
   "id": "22dd02e6",
   "metadata": {
    "slideshow": {
     "slide_type": "fragment"
    }
   },
   "outputs": [
    {
     "data": {
      "text/html": [
       "<table class=\"data-frame\"><thead><tr><th></th><th>variable</th><th>mean</th><th>min</th><th>median</th><th>max</th><th>nmissing</th><th>eltype</th></tr><tr><th></th><th>Symbol</th><th>Union…</th><th>Any</th><th>Union…</th><th>Any</th><th>Int64</th><th>DataType</th></tr></thead><tbody><p>13 rows × 7 columns</p><tr><th>1</th><td>date</td><td></td><td>2014-07-01</td><td></td><td>2015-06-30</td><td>0</td><td>Date</td></tr><tr><th>2</th><td>actual_mean_temp</td><td>61.0493</td><td>18</td><td>63.0</td><td>88</td><td>0</td><td>Int64</td></tr><tr><th>3</th><td>actual_min_temp</td><td>49.9589</td><td>7</td><td>52.0</td><td>75</td><td>0</td><td>Int64</td></tr><tr><th>4</th><td>actual_max_temp</td><td>71.6301</td><td>26</td><td>73.0</td><td>100</td><td>0</td><td>Int64</td></tr><tr><th>5</th><td>average_min_temp</td><td>48.8192</td><td>29</td><td>48.0</td><td>68</td><td>0</td><td>Int64</td></tr><tr><th>6</th><td>average_max_temp</td><td>70.9836</td><td>50</td><td>72.0</td><td>89</td><td>0</td><td>Int64</td></tr><tr><th>7</th><td>record_min_temp</td><td>31.4658</td><td>-5</td><td>30.0</td><td>62</td><td>0</td><td>Int64</td></tr><tr><th>8</th><td>record_max_temp</td><td>88.7288</td><td>69</td><td>90.0</td><td>104</td><td>0</td><td>Int64</td></tr><tr><th>9</th><td>record_min_temp_year</td><td>1953.28</td><td>1879</td><td>1963.0</td><td>2015</td><td>0</td><td>Int64</td></tr><tr><th>10</th><td>record_max_temp_year</td><td>1953.99</td><td>1879</td><td>1953.0</td><td>2015</td><td>0</td><td>Int64</td></tr><tr><th>11</th><td>actual_precipitation</td><td>0.102411</td><td>0.0</td><td>0.0</td><td>2.65</td><td>0</td><td>Float64</td></tr><tr><th>12</th><td>average_precipitation</td><td>0.114082</td><td>0.09</td><td>0.11</td><td>0.15</td><td>0</td><td>Float64</td></tr><tr><th>13</th><td>record_precipitation</td><td>2.2089</td><td>0.85</td><td>1.98</td><td>6.88</td><td>0</td><td>Float64</td></tr></tbody></table>"
      ],
      "text/latex": [
       "\\begin{tabular}{r|ccccccc}\n",
       "\t& variable & mean & min & median & max & nmissing & eltype\\\\\n",
       "\t\\hline\n",
       "\t& Symbol & Union… & Any & Union… & Any & Int64 & DataType\\\\\n",
       "\t\\hline\n",
       "\t1 & date &  & 2014-07-01 &  & 2015-06-30 & 0 & Date \\\\\n",
       "\t2 & actual\\_mean\\_temp & 61.0493 & 18 & 63.0 & 88 & 0 & Int64 \\\\\n",
       "\t3 & actual\\_min\\_temp & 49.9589 & 7 & 52.0 & 75 & 0 & Int64 \\\\\n",
       "\t4 & actual\\_max\\_temp & 71.6301 & 26 & 73.0 & 100 & 0 & Int64 \\\\\n",
       "\t5 & average\\_min\\_temp & 48.8192 & 29 & 48.0 & 68 & 0 & Int64 \\\\\n",
       "\t6 & average\\_max\\_temp & 70.9836 & 50 & 72.0 & 89 & 0 & Int64 \\\\\n",
       "\t7 & record\\_min\\_temp & 31.4658 & -5 & 30.0 & 62 & 0 & Int64 \\\\\n",
       "\t8 & record\\_max\\_temp & 88.7288 & 69 & 90.0 & 104 & 0 & Int64 \\\\\n",
       "\t9 & record\\_min\\_temp\\_year & 1953.28 & 1879 & 1963.0 & 2015 & 0 & Int64 \\\\\n",
       "\t10 & record\\_max\\_temp\\_year & 1953.99 & 1879 & 1953.0 & 2015 & 0 & Int64 \\\\\n",
       "\t11 & actual\\_precipitation & 0.102411 & 0.0 & 0.0 & 2.65 & 0 & Float64 \\\\\n",
       "\t12 & average\\_precipitation & 0.114082 & 0.09 & 0.11 & 0.15 & 0 & Float64 \\\\\n",
       "\t13 & record\\_precipitation & 2.2089 & 0.85 & 1.98 & 6.88 & 0 & Float64 \\\\\n",
       "\\end{tabular}\n"
      ],
      "text/plain": [
       "\u001b[1m13×7 DataFrame\u001b[0m\n",
       "\u001b[1m Row \u001b[0m│\u001b[1m variable              \u001b[0m\u001b[1m mean     \u001b[0m\u001b[1m min        \u001b[0m\u001b[1m median \u001b[0m\u001b[1m max        \u001b[0m\u001b[1m nmissi\u001b[0m ⋯\n",
       "\u001b[1m     \u001b[0m│\u001b[90m Symbol                \u001b[0m\u001b[90m Union…   \u001b[0m\u001b[90m Any        \u001b[0m\u001b[90m Union… \u001b[0m\u001b[90m Any        \u001b[0m\u001b[90m Int64 \u001b[0m ⋯\n",
       "─────┼──────────────────────────────────────────────────────────────────────────\n",
       "   1 │ date                  \u001b[90m          \u001b[0m 2014-07-01 \u001b[90m        \u001b[0m 2015-06-30         ⋯\n",
       "   2 │ actual_mean_temp       61.0493   18          63.0    88\n",
       "   3 │ actual_min_temp        49.9589   7           52.0    75\n",
       "   4 │ actual_max_temp        71.6301   26          73.0    100\n",
       "   5 │ average_min_temp       48.8192   29          48.0    68                 ⋯\n",
       "   6 │ average_max_temp       70.9836   50          72.0    89\n",
       "   7 │ record_min_temp        31.4658   -5          30.0    62\n",
       "   8 │ record_max_temp        88.7288   69          90.0    104\n",
       "   9 │ record_min_temp_year   1953.28   1879        1963.0  2015               ⋯\n",
       "  10 │ record_max_temp_year   1953.99   1879        1953.0  2015\n",
       "  11 │ actual_precipitation   0.102411  0.0         0.0     2.65\n",
       "  12 │ average_precipitation  0.114082  0.09        0.11    0.15\n",
       "  13 │ record_precipitation   2.2089    0.85        1.98    6.88               ⋯\n",
       "\u001b[36m                                                               2 columns omitted\u001b[0m"
      ]
     },
     "execution_count": 583,
     "metadata": {},
     "output_type": "execute_result"
    }
   ],
   "source": [
    "weather = CSV.File(d) |> DataFrame\n",
    "describe(weather)"
   ]
  },
  {
   "cell_type": "markdown",
   "id": "104e1973",
   "metadata": {
    "slideshow": {
     "slide_type": "slide"
    }
   },
   "source": [
    "# Iris Dataset"
   ]
  },
  {
   "cell_type": "markdown",
   "id": "93e05e48",
   "metadata": {
    "slideshow": {
     "slide_type": "fragment"
    }
   },
   "source": [
    "1. sepal length in cm\n",
    "2. sepal width in cm\n",
    "3. petal length in cm\n",
    "4. petal width in cm\n",
    "5. class:\n",
    "-- Iris Setosa\n",
    "-- Iris Versicolour\n",
    "-- Iris Virginica"
   ]
  },
  {
   "cell_type": "code",
   "execution_count": 584,
   "id": "1db307c4",
   "metadata": {
    "slideshow": {
     "slide_type": "fragment"
    }
   },
   "outputs": [
    {
     "name": "stderr",
     "output_type": "stream",
     "text": [
      "\u001b[32m\u001b[1m   Resolving\u001b[22m\u001b[39m package versions...\n",
      "\u001b[32m\u001b[1m  No Changes\u001b[22m\u001b[39m to `~/work/Julia/tutorials/Elixir_training_2021-04-22/Project.toml`\n",
      "\u001b[32m\u001b[1m  No Changes\u001b[22m\u001b[39m to `~/work/Julia/tutorials/Elixir_training_2021-04-22/Manifest.toml`\n"
     ]
    }
   ],
   "source": [
    "Pkg.add(\"RDatasets\");\n",
    "using RDatasets;"
   ]
  },
  {
   "cell_type": "code",
   "execution_count": 585,
   "id": "45f09cc0",
   "metadata": {
    "slideshow": {
     "slide_type": "slide"
    }
   },
   "outputs": [
    {
     "data": {
      "text/plain": [
       "(150, 5)"
      ]
     },
     "execution_count": 585,
     "metadata": {},
     "output_type": "execute_result"
    }
   ],
   "source": [
    "# Loading the Iris dataset:\n",
    "iris = dataset(\"datasets\", \"iris\");\n",
    "size(iris)"
   ]
  },
  {
   "cell_type": "markdown",
   "id": "c2716839",
   "metadata": {
    "slideshow": {
     "slide_type": "fragment"
    }
   },
   "source": [
    "Explore the table by using `first(<data>, nrows)`"
   ]
  },
  {
   "cell_type": "code",
   "execution_count": 586,
   "id": "da60f9b8",
   "metadata": {
    "slideshow": {
     "slide_type": "fragment"
    }
   },
   "outputs": [
    {
     "data": {
      "text/html": [
       "<table class=\"data-frame\"><thead><tr><th></th><th>SepalLength</th><th>SepalWidth</th><th>PetalLength</th><th>PetalWidth</th><th>Species</th></tr><tr><th></th><th>Float64</th><th>Float64</th><th>Float64</th><th>Float64</th><th>Cat…</th></tr></thead><tbody><p>3 rows × 5 columns</p><tr><th>1</th><td>5.1</td><td>3.5</td><td>1.4</td><td>0.2</td><td>setosa</td></tr><tr><th>2</th><td>4.9</td><td>3.0</td><td>1.4</td><td>0.2</td><td>setosa</td></tr><tr><th>3</th><td>4.7</td><td>3.2</td><td>1.3</td><td>0.2</td><td>setosa</td></tr></tbody></table>"
      ],
      "text/latex": [
       "\\begin{tabular}{r|ccccc}\n",
       "\t& SepalLength & SepalWidth & PetalLength & PetalWidth & Species\\\\\n",
       "\t\\hline\n",
       "\t& Float64 & Float64 & Float64 & Float64 & Cat…\\\\\n",
       "\t\\hline\n",
       "\t1 & 5.1 & 3.5 & 1.4 & 0.2 & setosa \\\\\n",
       "\t2 & 4.9 & 3.0 & 1.4 & 0.2 & setosa \\\\\n",
       "\t3 & 4.7 & 3.2 & 1.3 & 0.2 & setosa \\\\\n",
       "\\end{tabular}\n"
      ],
      "text/plain": [
       "\u001b[1m3×5 DataFrame\u001b[0m\n",
       "\u001b[1m Row \u001b[0m│\u001b[1m SepalLength \u001b[0m\u001b[1m SepalWidth \u001b[0m\u001b[1m PetalLength \u001b[0m\u001b[1m PetalWidth \u001b[0m\u001b[1m Species \u001b[0m\n",
       "\u001b[1m     \u001b[0m│\u001b[90m Float64     \u001b[0m\u001b[90m Float64    \u001b[0m\u001b[90m Float64     \u001b[0m\u001b[90m Float64    \u001b[0m\u001b[90m Cat…    \u001b[0m\n",
       "─────┼───────────────────────────────────────────────────────────\n",
       "   1 │         5.1         3.5          1.4         0.2  setosa\n",
       "   2 │         4.9         3.0          1.4         0.2  setosa\n",
       "   3 │         4.7         3.2          1.3         0.2  setosa"
      ]
     },
     "execution_count": 586,
     "metadata": {},
     "output_type": "execute_result"
    }
   ],
   "source": [
    "first(iris, 3)"
   ]
  },
  {
   "cell_type": "code",
   "execution_count": 587,
   "id": "345de1f6",
   "metadata": {
    "slideshow": {
     "slide_type": "fragment"
    }
   },
   "outputs": [
    {
     "data": {
      "text/html": [
       "<table class=\"data-frame\"><thead><tr><th></th><th>SepalLength</th><th>SepalWidth</th><th>PetalLength</th><th>PetalWidth</th><th>Species</th></tr><tr><th></th><th>Float64</th><th>Float64</th><th>Float64</th><th>Float64</th><th>Cat…</th></tr></thead><tbody><p>3 rows × 5 columns</p><tr><th>1</th><td>5.1</td><td>3.5</td><td>1.4</td><td>0.2</td><td>setosa</td></tr><tr><th>2</th><td>4.9</td><td>3.0</td><td>1.4</td><td>0.2</td><td>setosa</td></tr><tr><th>3</th><td>4.7</td><td>3.2</td><td>1.3</td><td>0.2</td><td>setosa</td></tr></tbody></table>"
      ],
      "text/latex": [
       "\\begin{tabular}{r|ccccc}\n",
       "\t& SepalLength & SepalWidth & PetalLength & PetalWidth & Species\\\\\n",
       "\t\\hline\n",
       "\t& Float64 & Float64 & Float64 & Float64 & Cat…\\\\\n",
       "\t\\hline\n",
       "\t1 & 5.1 & 3.5 & 1.4 & 0.2 & setosa \\\\\n",
       "\t2 & 4.9 & 3.0 & 1.4 & 0.2 & setosa \\\\\n",
       "\t3 & 4.7 & 3.2 & 1.3 & 0.2 & setosa \\\\\n",
       "\\end{tabular}\n"
      ],
      "text/plain": [
       "\u001b[1m3×5 DataFrame\u001b[0m\n",
       "\u001b[1m Row \u001b[0m│\u001b[1m SepalLength \u001b[0m\u001b[1m SepalWidth \u001b[0m\u001b[1m PetalLength \u001b[0m\u001b[1m PetalWidth \u001b[0m\u001b[1m Species \u001b[0m\n",
       "\u001b[1m     \u001b[0m│\u001b[90m Float64     \u001b[0m\u001b[90m Float64    \u001b[0m\u001b[90m Float64     \u001b[0m\u001b[90m Float64    \u001b[0m\u001b[90m Cat…    \u001b[0m\n",
       "─────┼───────────────────────────────────────────────────────────\n",
       "   1 │         5.1         3.5          1.4         0.2  setosa\n",
       "   2 │         4.9         3.0          1.4         0.2  setosa\n",
       "   3 │         4.7         3.2          1.3         0.2  setosa"
      ]
     },
     "execution_count": 587,
     "metadata": {},
     "output_type": "execute_result"
    }
   ],
   "source": [
    "# Using sclicing\n",
    "iris[1:3, :]"
   ]
  },
  {
   "cell_type": "code",
   "execution_count": 588,
   "id": "58cec990",
   "metadata": {
    "slideshow": {
     "slide_type": "slide"
    }
   },
   "outputs": [
    {
     "data": {
      "text/html": [
       "<table class=\"data-frame\"><thead><tr><th></th><th>variable</th><th>mean</th><th>min</th><th>median</th><th>max</th><th>nmissing</th><th>eltype</th></tr><tr><th></th><th>Symbol</th><th>Union…</th><th>Any</th><th>Union…</th><th>Any</th><th>Int64</th><th>DataType</th></tr></thead><tbody><p>5 rows × 7 columns</p><tr><th>1</th><td>SepalLength</td><td>5.84333</td><td>4.3</td><td>5.8</td><td>7.9</td><td>0</td><td>Float64</td></tr><tr><th>2</th><td>SepalWidth</td><td>3.05733</td><td>2.0</td><td>3.0</td><td>4.4</td><td>0</td><td>Float64</td></tr><tr><th>3</th><td>PetalLength</td><td>3.758</td><td>1.0</td><td>4.35</td><td>6.9</td><td>0</td><td>Float64</td></tr><tr><th>4</th><td>PetalWidth</td><td>1.19933</td><td>0.1</td><td>1.3</td><td>2.5</td><td>0</td><td>Float64</td></tr><tr><th>5</th><td>Species</td><td></td><td>setosa</td><td></td><td>virginica</td><td>0</td><td>CategoricalValue{String, UInt8}</td></tr></tbody></table>"
      ],
      "text/latex": [
       "\\begin{tabular}{r|ccccccc}\n",
       "\t& variable & mean & min & median & max & nmissing & eltype\\\\\n",
       "\t\\hline\n",
       "\t& Symbol & Union… & Any & Union… & Any & Int64 & DataType\\\\\n",
       "\t\\hline\n",
       "\t1 & SepalLength & 5.84333 & 4.3 & 5.8 & 7.9 & 0 & Float64 \\\\\n",
       "\t2 & SepalWidth & 3.05733 & 2.0 & 3.0 & 4.4 & 0 & Float64 \\\\\n",
       "\t3 & PetalLength & 3.758 & 1.0 & 4.35 & 6.9 & 0 & Float64 \\\\\n",
       "\t4 & PetalWidth & 1.19933 & 0.1 & 1.3 & 2.5 & 0 & Float64 \\\\\n",
       "\t5 & Species &  & setosa &  & virginica & 0 & CategoricalValue\\{String, UInt8\\} \\\\\n",
       "\\end{tabular}\n"
      ],
      "text/plain": [
       "\u001b[1m5×7 DataFrame\u001b[0m\n",
       "\u001b[1m Row \u001b[0m│\u001b[1m variable    \u001b[0m\u001b[1m mean    \u001b[0m\u001b[1m min    \u001b[0m\u001b[1m median \u001b[0m\u001b[1m max       \u001b[0m\u001b[1m nmissing \u001b[0m\u001b[1m eltype      \u001b[0m ⋯\n",
       "\u001b[1m     \u001b[0m│\u001b[90m Symbol      \u001b[0m\u001b[90m Union…  \u001b[0m\u001b[90m Any    \u001b[0m\u001b[90m Union… \u001b[0m\u001b[90m Any       \u001b[0m\u001b[90m Int64    \u001b[0m\u001b[90m DataType    \u001b[0m ⋯\n",
       "─────┼──────────────────────────────────────────────────────────────────────────\n",
       "   1 │ SepalLength  5.84333  4.3     5.8     7.9               0  Float64      ⋯\n",
       "   2 │ SepalWidth   3.05733  2.0     3.0     4.4               0  Float64\n",
       "   3 │ PetalLength  3.758    1.0     4.35    6.9               0  Float64\n",
       "   4 │ PetalWidth   1.19933  0.1     1.3     2.5               0  Float64\n",
       "   5 │ Species     \u001b[90m         \u001b[0m setosa \u001b[90m        \u001b[0m virginica         0  CategoricalV ⋯\n",
       "\u001b[36m                                                                1 column omitted\u001b[0m"
      ]
     },
     "execution_count": 588,
     "metadata": {},
     "output_type": "execute_result"
    }
   ],
   "source": [
    "describe(iris)"
   ]
  },
  {
   "cell_type": "markdown",
   "id": "01eb28fb",
   "metadata": {
    "slideshow": {
     "slide_type": "skip"
    }
   },
   "source": [
    "# The Split-Apply-Combine Strategy"
   ]
  },
  {
   "cell_type": "code",
   "execution_count": 529,
   "id": "533443b7",
   "metadata": {
    "slideshow": {
     "slide_type": "skip"
    }
   },
   "outputs": [],
   "source": [
    "gdf = groupby(iris, :Species);"
   ]
  },
  {
   "cell_type": "code",
   "execution_count": 530,
   "id": "959c3a18",
   "metadata": {
    "slideshow": {
     "slide_type": "skip"
    }
   },
   "outputs": [
    {
     "data": {
      "text/html": [
       "<table class=\"data-frame\"><thead><tr><th></th><th>Species</th><th>PetalLength_mean</th></tr><tr><th></th><th>Cat…</th><th>Float64</th></tr></thead><tbody><p>3 rows × 2 columns</p><tr><th>1</th><td>setosa</td><td>1.462</td></tr><tr><th>2</th><td>versicolor</td><td>4.26</td></tr><tr><th>3</th><td>virginica</td><td>5.552</td></tr></tbody></table>"
      ],
      "text/latex": [
       "\\begin{tabular}{r|cc}\n",
       "\t& Species & PetalLength\\_mean\\\\\n",
       "\t\\hline\n",
       "\t& Cat… & Float64\\\\\n",
       "\t\\hline\n",
       "\t1 & setosa & 1.462 \\\\\n",
       "\t2 & versicolor & 4.26 \\\\\n",
       "\t3 & virginica & 5.552 \\\\\n",
       "\\end{tabular}\n"
      ],
      "text/plain": [
       "\u001b[1m3×2 DataFrame\u001b[0m\n",
       "\u001b[1m Row \u001b[0m│\u001b[1m Species    \u001b[0m\u001b[1m PetalLength_mean \u001b[0m\n",
       "\u001b[1m     \u001b[0m│\u001b[90m Cat…       \u001b[0m\u001b[90m Float64          \u001b[0m\n",
       "─────┼──────────────────────────────\n",
       "   1 │ setosa                 1.462\n",
       "   2 │ versicolor             4.26\n",
       "   3 │ virginica              5.552"
      ]
     },
     "execution_count": 530,
     "metadata": {},
     "output_type": "execute_result"
    }
   ],
   "source": [
    "combine(gdf, :PetalLength => mean)"
   ]
  },
  {
   "cell_type": "code",
   "execution_count": 531,
   "id": "67aea346",
   "metadata": {
    "slideshow": {
     "slide_type": "skip"
    }
   },
   "outputs": [
    {
     "data": {
      "text/html": [
       "<table class=\"data-frame\"><thead><tr><th></th><th>Species</th><th>min</th><th>max</th></tr><tr><th></th><th>Cat…</th><th>Float64</th><th>Float64</th></tr></thead><tbody><p>3 rows × 3 columns</p><tr><th>1</th><td>setosa</td><td>1.0</td><td>1.9</td></tr><tr><th>2</th><td>versicolor</td><td>3.0</td><td>5.1</td></tr><tr><th>3</th><td>virginica</td><td>4.5</td><td>6.9</td></tr></tbody></table>"
      ],
      "text/latex": [
       "\\begin{tabular}{r|ccc}\n",
       "\t& Species & min & max\\\\\n",
       "\t\\hline\n",
       "\t& Cat… & Float64 & Float64\\\\\n",
       "\t\\hline\n",
       "\t1 & setosa & 1.0 & 1.9 \\\\\n",
       "\t2 & versicolor & 3.0 & 5.1 \\\\\n",
       "\t3 & virginica & 4.5 & 6.9 \\\\\n",
       "\\end{tabular}\n"
      ],
      "text/plain": [
       "\u001b[1m3×3 DataFrame\u001b[0m\n",
       "\u001b[1m Row \u001b[0m│\u001b[1m Species    \u001b[0m\u001b[1m min     \u001b[0m\u001b[1m max     \u001b[0m\n",
       "\u001b[1m     \u001b[0m│\u001b[90m Cat…       \u001b[0m\u001b[90m Float64 \u001b[0m\u001b[90m Float64 \u001b[0m\n",
       "─────┼──────────────────────────────\n",
       "   1 │ setosa          1.0      1.9\n",
       "   2 │ versicolor      3.0      5.1\n",
       "   3 │ virginica       4.5      6.9"
      ]
     },
     "execution_count": 531,
     "metadata": {},
     "output_type": "execute_result"
    }
   ],
   "source": [
    "combine(gdf, :PetalLength => (x -> [extrema(x)]) => [:min, :max])"
   ]
  },
  {
   "cell_type": "markdown",
   "id": "c18c133a",
   "metadata": {
    "slideshow": {
     "slide_type": "slide"
    }
   },
   "source": [
    "# Plotting data\n",
    "using Plots.jl"
   ]
  },
  {
   "cell_type": "code",
   "execution_count": 589,
   "id": "207dd732",
   "metadata": {
    "slideshow": {
     "slide_type": "fragment"
    }
   },
   "outputs": [
    {
     "name": "stderr",
     "output_type": "stream",
     "text": [
      "\u001b[32m\u001b[1m   Resolving\u001b[22m\u001b[39m package versions...\n",
      "\u001b[32m\u001b[1m  No Changes\u001b[22m\u001b[39m to `~/work/Julia/tutorials/Elixir_training_2021-04-22/Project.toml`\n",
      "\u001b[32m\u001b[1m  No Changes\u001b[22m\u001b[39m to `~/work/Julia/tutorials/Elixir_training_2021-04-22/Manifest.toml`\n"
     ]
    }
   ],
   "source": [
    "Pkg.add(\"Plots\")\n",
    "using Plots"
   ]
  },
  {
   "cell_type": "markdown",
   "id": "f55117cb",
   "metadata": {
    "slideshow": {
     "slide_type": "slide"
    }
   },
   "source": [
    "#### Basic line plot:"
   ]
  },
  {
   "cell_type": "code",
   "execution_count": 590,
   "id": "e0248b95",
   "metadata": {
    "slideshow": {
     "slide_type": "fragment"
    }
   },
   "outputs": [
    {
     "data": {
      "image/svg+xml": [
       "<?xml version=\"1.0\" encoding=\"utf-8\"?>\n",
       "<svg xmlns=\"http://www.w3.org/2000/svg\" xmlns:xlink=\"http://www.w3.org/1999/xlink\" width=\"600\" height=\"400\" viewBox=\"0 0 2400 1600\">\n",
       "<defs>\n",
       "  <clipPath id=\"clip080\">\n",
       "    <rect x=\"0\" y=\"0\" width=\"2400\" height=\"1600\"/>\n",
       "  </clipPath>\n",
       "</defs>\n",
       "<path clip-path=\"url(#clip080)\" d=\"\n",
       "M0 1600 L2400 1600 L2400 0 L0 0  Z\n",
       "  \" fill=\"#ffffff\" fill-rule=\"evenodd\" fill-opacity=\"1\"/>\n",
       "<defs>\n",
       "  <clipPath id=\"clip081\">\n",
       "    <rect x=\"480\" y=\"0\" width=\"1681\" height=\"1600\"/>\n",
       "  </clipPath>\n",
       "</defs>\n",
       "<path clip-path=\"url(#clip080)\" d=\"\n",
       "M186.274 1486.45 L2352.76 1486.45 L2352.76 47.2441 L186.274 47.2441  Z\n",
       "  \" fill=\"#ffffff\" fill-rule=\"evenodd\" fill-opacity=\"1\"/>\n",
       "<defs>\n",
       "  <clipPath id=\"clip082\">\n",
       "    <rect x=\"186\" y=\"47\" width=\"2167\" height=\"1440\"/>\n",
       "  </clipPath>\n",
       "</defs>\n",
       "<polyline clip-path=\"url(#clip082)\" style=\"stroke:#000000; stroke-width:2; stroke-opacity:0.1; fill:none\" points=\"\n",
       "  474.684,1486.45 474.684,47.2441 \n",
       "  \"/>\n",
       "<polyline clip-path=\"url(#clip082)\" style=\"stroke:#000000; stroke-width:2; stroke-opacity:0.1; fill:none\" points=\"\n",
       "  928.873,1486.45 928.873,47.2441 \n",
       "  \"/>\n",
       "<polyline clip-path=\"url(#clip082)\" style=\"stroke:#000000; stroke-width:2; stroke-opacity:0.1; fill:none\" points=\"\n",
       "  1383.06,1486.45 1383.06,47.2441 \n",
       "  \"/>\n",
       "<polyline clip-path=\"url(#clip082)\" style=\"stroke:#000000; stroke-width:2; stroke-opacity:0.1; fill:none\" points=\"\n",
       "  1837.25,1486.45 1837.25,47.2441 \n",
       "  \"/>\n",
       "<polyline clip-path=\"url(#clip082)\" style=\"stroke:#000000; stroke-width:2; stroke-opacity:0.1; fill:none\" points=\"\n",
       "  2291.44,1486.45 2291.44,47.2441 \n",
       "  \"/>\n",
       "<polyline clip-path=\"url(#clip080)\" style=\"stroke:#000000; stroke-width:4; stroke-opacity:1; fill:none\" points=\"\n",
       "  186.274,1486.45 2352.76,1486.45 \n",
       "  \"/>\n",
       "<polyline clip-path=\"url(#clip080)\" style=\"stroke:#000000; stroke-width:4; stroke-opacity:1; fill:none\" points=\"\n",
       "  474.684,1486.45 474.684,1469.18 \n",
       "  \"/>\n",
       "<polyline clip-path=\"url(#clip080)\" style=\"stroke:#000000; stroke-width:4; stroke-opacity:1; fill:none\" points=\"\n",
       "  928.873,1486.45 928.873,1469.18 \n",
       "  \"/>\n",
       "<polyline clip-path=\"url(#clip080)\" style=\"stroke:#000000; stroke-width:4; stroke-opacity:1; fill:none\" points=\"\n",
       "  1383.06,1486.45 1383.06,1469.18 \n",
       "  \"/>\n",
       "<polyline clip-path=\"url(#clip080)\" style=\"stroke:#000000; stroke-width:4; stroke-opacity:1; fill:none\" points=\"\n",
       "  1837.25,1486.45 1837.25,1469.18 \n",
       "  \"/>\n",
       "<polyline clip-path=\"url(#clip080)\" style=\"stroke:#000000; stroke-width:4; stroke-opacity:1; fill:none\" points=\"\n",
       "  2291.44,1486.45 2291.44,1469.18 \n",
       "  \"/>\n",
       "<path clip-path=\"url(#clip080)\" d=\"M 0 0 M469.337 1543.18 L485.656 1543.18 L485.656 1547.12 L463.712 1547.12 L463.712 1543.18 Q466.374 1540.43 470.957 1535.8 Q475.564 1531.15 476.744 1529.81 Q478.99 1527.28 479.869 1525.55 Q480.772 1523.79 480.772 1522.1 Q480.772 1519.34 478.828 1517.61 Q476.906 1515.87 473.804 1515.87 Q471.605 1515.87 469.152 1516.63 Q466.721 1517.4 463.943 1518.95 L463.943 1514.23 Q466.767 1513.09 469.221 1512.51 Q471.675 1511.93 473.712 1511.93 Q479.082 1511.93 482.277 1514.62 Q485.471 1517.31 485.471 1521.8 Q485.471 1523.93 484.661 1525.85 Q483.874 1527.74 481.767 1530.34 Q481.189 1531.01 478.087 1534.23 Q474.985 1537.42 469.337 1543.18 Z\" fill=\"#000000\" fill-rule=\"evenodd\" fill-opacity=\"1\" /><path clip-path=\"url(#clip080)\" d=\"M 0 0 M931.882 1516.63 L920.077 1535.08 L931.882 1535.08 L931.882 1516.63 M930.656 1512.56 L936.535 1512.56 L936.535 1535.08 L941.466 1535.08 L941.466 1538.97 L936.535 1538.97 L936.535 1547.12 L931.882 1547.12 L931.882 1538.97 L916.281 1538.97 L916.281 1534.46 L930.656 1512.56 Z\" fill=\"#000000\" fill-rule=\"evenodd\" fill-opacity=\"1\" /><path clip-path=\"url(#clip080)\" d=\"M 0 0 M1383.47 1527.98 Q1380.32 1527.98 1378.47 1530.13 Q1376.64 1532.28 1376.64 1536.03 Q1376.64 1539.76 1378.47 1541.93 Q1380.32 1544.09 1383.47 1544.09 Q1386.62 1544.09 1388.44 1541.93 Q1390.3 1539.76 1390.3 1536.03 Q1390.3 1532.28 1388.44 1530.13 Q1386.62 1527.98 1383.47 1527.98 M1392.75 1513.32 L1392.75 1517.58 Q1390.99 1516.75 1389.18 1516.31 Q1387.4 1515.87 1385.64 1515.87 Q1381.01 1515.87 1378.56 1519 Q1376.13 1522.12 1375.78 1528.44 Q1377.15 1526.43 1379.21 1525.36 Q1381.27 1524.27 1383.75 1524.27 Q1388.95 1524.27 1391.96 1527.44 Q1395 1530.59 1395 1536.03 Q1395 1541.36 1391.85 1544.57 Q1388.7 1547.79 1383.47 1547.79 Q1377.47 1547.79 1374.3 1543.21 Q1371.13 1538.6 1371.13 1529.87 Q1371.13 1521.68 1375.02 1516.82 Q1378.91 1511.93 1385.46 1511.93 Q1387.22 1511.93 1389 1512.28 Q1390.81 1512.63 1392.75 1513.32 Z\" fill=\"#000000\" fill-rule=\"evenodd\" fill-opacity=\"1\" /><path clip-path=\"url(#clip080)\" d=\"M 0 0 M1837.25 1530.71 Q1833.92 1530.71 1832 1532.49 Q1830.1 1534.27 1830.1 1537.4 Q1830.1 1540.52 1832 1542.31 Q1833.92 1544.09 1837.25 1544.09 Q1840.58 1544.09 1842.51 1542.31 Q1844.43 1540.5 1844.43 1537.4 Q1844.43 1534.27 1842.51 1532.49 Q1840.61 1530.71 1837.25 1530.71 M1832.58 1528.72 Q1829.57 1527.98 1827.88 1525.92 Q1826.21 1523.86 1826.21 1520.89 Q1826.21 1516.75 1829.15 1514.34 Q1832.11 1511.93 1837.25 1511.93 Q1842.41 1511.93 1845.35 1514.34 Q1848.29 1516.75 1848.29 1520.89 Q1848.29 1523.86 1846.6 1525.92 Q1844.94 1527.98 1841.95 1528.72 Q1845.33 1529.5 1847.2 1531.8 Q1849.1 1534.09 1849.1 1537.4 Q1849.1 1542.42 1846.02 1545.11 Q1842.97 1547.79 1837.25 1547.79 Q1831.53 1547.79 1828.46 1545.11 Q1825.4 1542.42 1825.4 1537.4 Q1825.4 1534.09 1827.3 1531.8 Q1829.2 1529.5 1832.58 1528.72 M1830.86 1521.33 Q1830.86 1524.02 1832.53 1525.52 Q1834.22 1527.03 1837.25 1527.03 Q1840.26 1527.03 1841.95 1525.52 Q1843.66 1524.02 1843.66 1521.33 Q1843.66 1518.65 1841.95 1517.14 Q1840.26 1515.64 1837.25 1515.64 Q1834.22 1515.64 1832.53 1517.14 Q1830.86 1518.65 1830.86 1521.33 Z\" fill=\"#000000\" fill-rule=\"evenodd\" fill-opacity=\"1\" /><path clip-path=\"url(#clip080)\" d=\"M 0 0 M2266.13 1543.18 L2273.77 1543.18 L2273.77 1516.82 L2265.46 1518.49 L2265.46 1514.23 L2273.72 1512.56 L2278.4 1512.56 L2278.4 1543.18 L2286.04 1543.18 L2286.04 1547.12 L2266.13 1547.12 L2266.13 1543.18 Z\" fill=\"#000000\" fill-rule=\"evenodd\" fill-opacity=\"1\" /><path clip-path=\"url(#clip080)\" d=\"M 0 0 M2305.48 1515.64 Q2301.87 1515.64 2300.04 1519.2 Q2298.23 1522.75 2298.23 1529.87 Q2298.23 1536.98 2300.04 1540.55 Q2301.87 1544.09 2305.48 1544.09 Q2309.11 1544.09 2310.92 1540.55 Q2312.75 1536.98 2312.75 1529.87 Q2312.75 1522.75 2310.92 1519.2 Q2309.11 1515.64 2305.48 1515.64 M2305.48 1511.93 Q2311.29 1511.93 2314.35 1516.54 Q2317.42 1521.12 2317.42 1529.87 Q2317.42 1538.6 2314.35 1543.21 Q2311.29 1547.79 2305.48 1547.79 Q2299.67 1547.79 2296.59 1543.21 Q2293.54 1538.6 2293.54 1529.87 Q2293.54 1521.12 2296.59 1516.54 Q2299.67 1511.93 2305.48 1511.93 Z\" fill=\"#000000\" fill-rule=\"evenodd\" fill-opacity=\"1\" /><polyline clip-path=\"url(#clip082)\" style=\"stroke:#000000; stroke-width:2; stroke-opacity:0.1; fill:none\" points=\"\n",
       "  186.274,1464.54 2352.76,1464.54 \n",
       "  \"/>\n",
       "<polyline clip-path=\"url(#clip082)\" style=\"stroke:#000000; stroke-width:2; stroke-opacity:0.1; fill:none\" points=\"\n",
       "  186.274,1113.44 2352.76,1113.44 \n",
       "  \"/>\n",
       "<polyline clip-path=\"url(#clip082)\" style=\"stroke:#000000; stroke-width:2; stroke-opacity:0.1; fill:none\" points=\"\n",
       "  186.274,762.347 2352.76,762.347 \n",
       "  \"/>\n",
       "<polyline clip-path=\"url(#clip082)\" style=\"stroke:#000000; stroke-width:2; stroke-opacity:0.1; fill:none\" points=\"\n",
       "  186.274,411.252 2352.76,411.252 \n",
       "  \"/>\n",
       "<polyline clip-path=\"url(#clip082)\" style=\"stroke:#000000; stroke-width:2; stroke-opacity:0.1; fill:none\" points=\"\n",
       "  186.274,60.1576 2352.76,60.1576 \n",
       "  \"/>\n",
       "<polyline clip-path=\"url(#clip080)\" style=\"stroke:#000000; stroke-width:4; stroke-opacity:1; fill:none\" points=\"\n",
       "  186.274,1486.45 186.274,47.2441 \n",
       "  \"/>\n",
       "<polyline clip-path=\"url(#clip080)\" style=\"stroke:#000000; stroke-width:4; stroke-opacity:1; fill:none\" points=\"\n",
       "  186.274,1464.54 212.272,1464.54 \n",
       "  \"/>\n",
       "<polyline clip-path=\"url(#clip080)\" style=\"stroke:#000000; stroke-width:4; stroke-opacity:1; fill:none\" points=\"\n",
       "  186.274,1113.44 212.272,1113.44 \n",
       "  \"/>\n",
       "<polyline clip-path=\"url(#clip080)\" style=\"stroke:#000000; stroke-width:4; stroke-opacity:1; fill:none\" points=\"\n",
       "  186.274,762.347 212.272,762.347 \n",
       "  \"/>\n",
       "<polyline clip-path=\"url(#clip080)\" style=\"stroke:#000000; stroke-width:4; stroke-opacity:1; fill:none\" points=\"\n",
       "  186.274,411.252 212.272,411.252 \n",
       "  \"/>\n",
       "<polyline clip-path=\"url(#clip080)\" style=\"stroke:#000000; stroke-width:4; stroke-opacity:1; fill:none\" points=\"\n",
       "  186.274,60.1576 212.272,60.1576 \n",
       "  \"/>\n",
       "<path clip-path=\"url(#clip080)\" d=\"M 0 0 M62.9365 1450.33 Q59.3254 1450.33 57.4967 1453.9 Q55.6912 1457.44 55.6912 1464.57 Q55.6912 1471.68 57.4967 1475.24 Q59.3254 1478.78 62.9365 1478.78 Q66.5707 1478.78 68.3763 1475.24 Q70.205 1471.68 70.205 1464.57 Q70.205 1457.44 68.3763 1453.9 Q66.5707 1450.33 62.9365 1450.33 M62.9365 1446.63 Q68.7467 1446.63 71.8022 1451.24 Q74.8809 1455.82 74.8809 1464.57 Q74.8809 1473.3 71.8022 1477.9 Q68.7467 1482.49 62.9365 1482.49 Q57.1264 1482.49 54.0477 1477.9 Q50.9921 1473.3 50.9921 1464.57 Q50.9921 1455.82 54.0477 1451.24 Q57.1264 1446.63 62.9365 1446.63 Z\" fill=\"#000000\" fill-rule=\"evenodd\" fill-opacity=\"1\" /><path clip-path=\"url(#clip080)\" d=\"M 0 0 M83.0984 1475.94 L87.9827 1475.94 L87.9827 1481.82 L83.0984 1481.82 L83.0984 1475.94 Z\" fill=\"#000000\" fill-rule=\"evenodd\" fill-opacity=\"1\" /><path clip-path=\"url(#clip080)\" d=\"M 0 0 M108.168 1450.33 Q104.557 1450.33 102.728 1453.9 Q100.922 1457.44 100.922 1464.57 Q100.922 1471.68 102.728 1475.24 Q104.557 1478.78 108.168 1478.78 Q111.802 1478.78 113.608 1475.24 Q115.436 1471.68 115.436 1464.57 Q115.436 1457.44 113.608 1453.9 Q111.802 1450.33 108.168 1450.33 M108.168 1446.63 Q113.978 1446.63 117.033 1451.24 Q120.112 1455.82 120.112 1464.57 Q120.112 1473.3 117.033 1477.9 Q113.978 1482.49 108.168 1482.49 Q102.358 1482.49 99.2789 1477.9 Q96.2234 1473.3 96.2234 1464.57 Q96.2234 1455.82 99.2789 1451.24 Q102.358 1446.63 108.168 1446.63 Z\" fill=\"#000000\" fill-rule=\"evenodd\" fill-opacity=\"1\" /><path clip-path=\"url(#clip080)\" d=\"M 0 0 M138.33 1450.33 Q134.719 1450.33 132.89 1453.9 Q131.084 1457.44 131.084 1464.57 Q131.084 1471.68 132.89 1475.24 Q134.719 1478.78 138.33 1478.78 Q141.964 1478.78 143.769 1475.24 Q145.598 1471.68 145.598 1464.57 Q145.598 1457.44 143.769 1453.9 Q141.964 1450.33 138.33 1450.33 M138.33 1446.63 Q144.14 1446.63 147.195 1451.24 Q150.274 1455.82 150.274 1464.57 Q150.274 1473.3 147.195 1477.9 Q144.14 1482.49 138.33 1482.49 Q132.519 1482.49 129.441 1477.9 Q126.385 1473.3 126.385 1464.57 Q126.385 1455.82 129.441 1451.24 Q132.519 1446.63 138.33 1446.63 Z\" fill=\"#000000\" fill-rule=\"evenodd\" fill-opacity=\"1\" /><path clip-path=\"url(#clip080)\" d=\"M 0 0 M63.9319 1099.24 Q60.3208 1099.24 58.4921 1102.8 Q56.6865 1106.35 56.6865 1113.48 Q56.6865 1120.58 58.4921 1124.15 Q60.3208 1127.69 63.9319 1127.69 Q67.5661 1127.69 69.3717 1124.15 Q71.2004 1120.58 71.2004 1113.48 Q71.2004 1106.35 69.3717 1102.8 Q67.5661 1099.24 63.9319 1099.24 M63.9319 1095.54 Q69.742 1095.54 72.7976 1100.14 Q75.8763 1104.73 75.8763 1113.48 Q75.8763 1122.2 72.7976 1126.81 Q69.742 1131.39 63.9319 1131.39 Q58.1217 1131.39 55.043 1126.81 Q51.9875 1122.2 51.9875 1113.48 Q51.9875 1104.73 55.043 1100.14 Q58.1217 1095.54 63.9319 1095.54 Z\" fill=\"#000000\" fill-rule=\"evenodd\" fill-opacity=\"1\" /><path clip-path=\"url(#clip080)\" d=\"M 0 0 M84.0938 1124.84 L88.978 1124.84 L88.978 1130.72 L84.0938 1130.72 L84.0938 1124.84 Z\" fill=\"#000000\" fill-rule=\"evenodd\" fill-opacity=\"1\" /><path clip-path=\"url(#clip080)\" d=\"M 0 0 M103.191 1126.79 L119.51 1126.79 L119.51 1130.72 L97.566 1130.72 L97.566 1126.79 Q100.228 1124.03 104.811 1119.4 Q109.418 1114.75 110.598 1113.41 Q112.844 1110.88 113.723 1109.15 Q114.626 1107.39 114.626 1105.7 Q114.626 1102.94 112.682 1101.21 Q110.76 1099.47 107.658 1099.47 Q105.459 1099.47 103.006 1100.24 Q100.575 1101 97.7974 1102.55 L97.7974 1097.83 Q100.621 1096.69 103.075 1096.12 Q105.529 1095.54 107.566 1095.54 Q112.936 1095.54 116.131 1098.22 Q119.325 1100.91 119.325 1105.4 Q119.325 1107.53 118.515 1109.45 Q117.728 1111.35 115.621 1113.94 Q115.043 1114.61 111.941 1117.83 Q108.839 1121.02 103.191 1126.79 Z\" fill=\"#000000\" fill-rule=\"evenodd\" fill-opacity=\"1\" /><path clip-path=\"url(#clip080)\" d=\"M 0 0 M129.371 1096.16 L147.728 1096.16 L147.728 1100.1 L133.654 1100.1 L133.654 1108.57 Q134.672 1108.22 135.691 1108.06 Q136.709 1107.87 137.728 1107.87 Q143.515 1107.87 146.894 1111.05 Q150.274 1114.22 150.274 1119.63 Q150.274 1125.21 146.802 1128.31 Q143.33 1131.39 137.01 1131.39 Q134.834 1131.39 132.566 1131.02 Q130.32 1130.65 127.913 1129.91 L127.913 1125.21 Q129.996 1126.35 132.219 1126.9 Q134.441 1127.46 136.918 1127.46 Q140.922 1127.46 143.26 1125.35 Q145.598 1123.24 145.598 1119.63 Q145.598 1116.02 143.26 1113.92 Q140.922 1111.81 136.918 1111.81 Q135.043 1111.81 133.168 1112.23 Q131.316 1112.64 129.371 1113.52 L129.371 1096.16 Z\" fill=\"#000000\" fill-rule=\"evenodd\" fill-opacity=\"1\" /><path clip-path=\"url(#clip080)\" d=\"M 0 0 M62.9365 748.145 Q59.3254 748.145 57.4967 751.71 Q55.6912 755.252 55.6912 762.382 Q55.6912 769.488 57.4967 773.053 Q59.3254 776.594 62.9365 776.594 Q66.5707 776.594 68.3763 773.053 Q70.205 769.488 70.205 762.382 Q70.205 755.252 68.3763 751.71 Q66.5707 748.145 62.9365 748.145 M62.9365 744.442 Q68.7467 744.442 71.8022 749.048 Q74.8809 753.632 74.8809 762.382 Q74.8809 771.108 71.8022 775.715 Q68.7467 780.298 62.9365 780.298 Q57.1264 780.298 54.0477 775.715 Q50.9921 771.108 50.9921 762.382 Q50.9921 753.632 54.0477 749.048 Q57.1264 744.442 62.9365 744.442 Z\" fill=\"#000000\" fill-rule=\"evenodd\" fill-opacity=\"1\" /><path clip-path=\"url(#clip080)\" d=\"M 0 0 M83.0984 773.747 L87.9827 773.747 L87.9827 779.627 L83.0984 779.627 L83.0984 773.747 Z\" fill=\"#000000\" fill-rule=\"evenodd\" fill-opacity=\"1\" /><path clip-path=\"url(#clip080)\" d=\"M 0 0 M98.2141 745.067 L116.57 745.067 L116.57 749.002 L102.496 749.002 L102.496 757.474 Q103.515 757.127 104.534 756.965 Q105.552 756.78 106.571 756.78 Q112.358 756.78 115.737 759.951 Q119.117 763.122 119.117 768.539 Q119.117 774.118 115.645 777.219 Q112.172 780.298 105.853 780.298 Q103.677 780.298 101.409 779.928 Q99.1632 779.557 96.7558 778.817 L96.7558 774.118 Q98.8391 775.252 101.061 775.807 Q103.284 776.363 105.76 776.363 Q109.765 776.363 112.103 774.256 Q114.441 772.15 114.441 768.539 Q114.441 764.928 112.103 762.821 Q109.765 760.715 105.76 760.715 Q103.885 760.715 102.01 761.132 Q100.159 761.548 98.2141 762.428 L98.2141 745.067 Z\" fill=\"#000000\" fill-rule=\"evenodd\" fill-opacity=\"1\" /><path clip-path=\"url(#clip080)\" d=\"M 0 0 M138.33 748.145 Q134.719 748.145 132.89 751.71 Q131.084 755.252 131.084 762.382 Q131.084 769.488 132.89 773.053 Q134.719 776.594 138.33 776.594 Q141.964 776.594 143.769 773.053 Q145.598 769.488 145.598 762.382 Q145.598 755.252 143.769 751.71 Q141.964 748.145 138.33 748.145 M138.33 744.442 Q144.14 744.442 147.195 749.048 Q150.274 753.632 150.274 762.382 Q150.274 771.108 147.195 775.715 Q144.14 780.298 138.33 780.298 Q132.519 780.298 129.441 775.715 Q126.385 771.108 126.385 762.382 Q126.385 753.632 129.441 749.048 Q132.519 744.442 138.33 744.442 Z\" fill=\"#000000\" fill-rule=\"evenodd\" fill-opacity=\"1\" /><path clip-path=\"url(#clip080)\" d=\"M 0 0 M63.9319 397.051 Q60.3208 397.051 58.4921 400.616 Q56.6865 404.157 56.6865 411.287 Q56.6865 418.393 58.4921 421.958 Q60.3208 425.5 63.9319 425.5 Q67.5661 425.5 69.3717 421.958 Q71.2004 418.393 71.2004 411.287 Q71.2004 404.157 69.3717 400.616 Q67.5661 397.051 63.9319 397.051 M63.9319 393.347 Q69.742 393.347 72.7976 397.954 Q75.8763 402.537 75.8763 411.287 Q75.8763 420.014 72.7976 424.62 Q69.742 429.203 63.9319 429.203 Q58.1217 429.203 55.043 424.62 Q51.9875 420.014 51.9875 411.287 Q51.9875 402.537 55.043 397.954 Q58.1217 393.347 63.9319 393.347 Z\" fill=\"#000000\" fill-rule=\"evenodd\" fill-opacity=\"1\" /><path clip-path=\"url(#clip080)\" d=\"M 0 0 M84.0938 422.653 L88.978 422.653 L88.978 428.532 L84.0938 428.532 L84.0938 422.653 Z\" fill=\"#000000\" fill-rule=\"evenodd\" fill-opacity=\"1\" /><path clip-path=\"url(#clip080)\" d=\"M 0 0 M97.9826 393.972 L120.205 393.972 L120.205 395.963 L107.658 428.532 L102.774 428.532 L114.58 397.907 L97.9826 397.907 L97.9826 393.972 Z\" fill=\"#000000\" fill-rule=\"evenodd\" fill-opacity=\"1\" /><path clip-path=\"url(#clip080)\" d=\"M 0 0 M129.371 393.972 L147.728 393.972 L147.728 397.907 L133.654 397.907 L133.654 406.38 Q134.672 406.032 135.691 405.87 Q136.709 405.685 137.728 405.685 Q143.515 405.685 146.894 408.856 Q150.274 412.028 150.274 417.444 Q150.274 423.023 146.802 426.125 Q143.33 429.203 137.01 429.203 Q134.834 429.203 132.566 428.833 Q130.32 428.463 127.913 427.722 L127.913 423.023 Q129.996 424.157 132.219 424.713 Q134.441 425.268 136.918 425.268 Q140.922 425.268 143.26 423.162 Q145.598 421.055 145.598 417.444 Q145.598 413.833 143.26 411.727 Q140.922 409.62 136.918 409.62 Q135.043 409.62 133.168 410.037 Q131.316 410.454 129.371 411.333 L129.371 393.972 Z\" fill=\"#000000\" fill-rule=\"evenodd\" fill-opacity=\"1\" /><path clip-path=\"url(#clip080)\" d=\"M 0 0 M53.7467 73.5024 L61.3856 73.5024 L61.3856 47.1368 L53.0754 48.8035 L53.0754 44.5442 L61.3393 42.8776 L66.0152 42.8776 L66.0152 73.5024 L73.654 73.5024 L73.654 77.4376 L53.7467 77.4376 L53.7467 73.5024 Z\" fill=\"#000000\" fill-rule=\"evenodd\" fill-opacity=\"1\" /><path clip-path=\"url(#clip080)\" d=\"M 0 0 M83.0984 71.558 L87.9827 71.558 L87.9827 77.4376 L83.0984 77.4376 L83.0984 71.558 Z\" fill=\"#000000\" fill-rule=\"evenodd\" fill-opacity=\"1\" /><path clip-path=\"url(#clip080)\" d=\"M 0 0 M108.168 45.9563 Q104.557 45.9563 102.728 49.5211 Q100.922 53.0627 100.922 60.1923 Q100.922 67.2987 102.728 70.8635 Q104.557 74.4052 108.168 74.4052 Q111.802 74.4052 113.608 70.8635 Q115.436 67.2987 115.436 60.1923 Q115.436 53.0627 113.608 49.5211 Q111.802 45.9563 108.168 45.9563 M108.168 42.2526 Q113.978 42.2526 117.033 46.859 Q120.112 51.4423 120.112 60.1923 Q120.112 68.9191 117.033 73.5256 Q113.978 78.1089 108.168 78.1089 Q102.358 78.1089 99.2789 73.5256 Q96.2234 68.9191 96.2234 60.1923 Q96.2234 51.4423 99.2789 46.859 Q102.358 42.2526 108.168 42.2526 Z\" fill=\"#000000\" fill-rule=\"evenodd\" fill-opacity=\"1\" /><path clip-path=\"url(#clip080)\" d=\"M 0 0 M138.33 45.9563 Q134.719 45.9563 132.89 49.5211 Q131.084 53.0627 131.084 60.1923 Q131.084 67.2987 132.89 70.8635 Q134.719 74.4052 138.33 74.4052 Q141.964 74.4052 143.769 70.8635 Q145.598 67.2987 145.598 60.1923 Q145.598 53.0627 143.769 49.5211 Q141.964 45.9563 138.33 45.9563 M138.33 42.2526 Q144.14 42.2526 147.195 46.859 Q150.274 51.4423 150.274 60.1923 Q150.274 68.9191 147.195 73.5256 Q144.14 78.1089 138.33 78.1089 Q132.519 78.1089 129.441 73.5256 Q126.385 68.9191 126.385 60.1923 Q126.385 51.4423 129.441 46.859 Q132.519 42.2526 138.33 42.2526 Z\" fill=\"#000000\" fill-rule=\"evenodd\" fill-opacity=\"1\" /><polyline clip-path=\"url(#clip082)\" style=\"stroke:#009af9; stroke-width:4; stroke-opacity:1; fill:none\" points=\"\n",
       "  247.59,924.505 474.684,389.834 701.779,711.26 928.873,1445.72 1155.97,902.102 1383.06,87.9763 1610.16,91.8276 1837.25,856.847 2064.35,1083.74 2291.44,930.538 \n",
       "  \n",
       "  \"/>\n",
       "<path clip-path=\"url(#clip080)\" d=\"\n",
       "M1987.39 216.178 L2280.54 216.178 L2280.54 95.2176 L1987.39 95.2176  Z\n",
       "  \" fill=\"#ffffff\" fill-rule=\"evenodd\" fill-opacity=\"1\"/>\n",
       "<polyline clip-path=\"url(#clip080)\" style=\"stroke:#000000; stroke-width:4; stroke-opacity:1; fill:none\" points=\"\n",
       "  1987.39,216.178 2280.54,216.178 2280.54,95.2176 1987.39,95.2176 1987.39,216.178 \n",
       "  \"/>\n",
       "<polyline clip-path=\"url(#clip080)\" style=\"stroke:#009af9; stroke-width:4; stroke-opacity:1; fill:none\" points=\"\n",
       "  2011.46,155.698 2155.89,155.698 \n",
       "  \"/>\n",
       "<path clip-path=\"url(#clip080)\" d=\"M 0 0 M2193.81 175.385 Q2192 180.015 2190.29 181.427 Q2188.58 182.839 2185.71 182.839 L2182.3 182.839 L2182.3 179.274 L2184.8 179.274 Q2186.56 179.274 2187.53 178.44 Q2188.51 177.607 2189.69 174.505 L2190.45 172.561 L2179.97 147.052 L2184.48 147.052 L2192.58 167.329 L2200.68 147.052 L2205.2 147.052 L2193.81 175.385 Z\" fill=\"#000000\" fill-rule=\"evenodd\" fill-opacity=\"1\" /><path clip-path=\"url(#clip080)\" d=\"M 0 0 M2212.49 169.042 L2220.13 169.042 L2220.13 142.677 L2211.82 144.343 L2211.82 140.084 L2220.08 138.418 L2224.76 138.418 L2224.76 169.042 L2232.4 169.042 L2232.4 172.978 L2212.49 172.978 L2212.49 169.042 Z\" fill=\"#000000\" fill-rule=\"evenodd\" fill-opacity=\"1\" /></svg>\n"
      ]
     },
     "execution_count": 590,
     "metadata": {},
     "output_type": "execute_result"
    }
   ],
   "source": [
    "plot(1:10, rand(10))"
   ]
  },
  {
   "cell_type": "markdown",
   "id": "891e97d0",
   "metadata": {
    "slideshow": {
     "slide_type": "slide"
    }
   },
   "source": [
    "#### we can add more data:"
   ]
  },
  {
   "cell_type": "code",
   "execution_count": 591,
   "id": "7ea47bd5",
   "metadata": {
    "slideshow": {
     "slide_type": "fragment"
    }
   },
   "outputs": [
    {
     "data": {
      "image/svg+xml": [
       "<?xml version=\"1.0\" encoding=\"utf-8\"?>\n",
       "<svg xmlns=\"http://www.w3.org/2000/svg\" xmlns:xlink=\"http://www.w3.org/1999/xlink\" width=\"600\" height=\"400\" viewBox=\"0 0 2400 1600\">\n",
       "<defs>\n",
       "  <clipPath id=\"clip120\">\n",
       "    <rect x=\"0\" y=\"0\" width=\"2400\" height=\"1600\"/>\n",
       "  </clipPath>\n",
       "</defs>\n",
       "<path clip-path=\"url(#clip120)\" d=\"\n",
       "M0 1600 L2400 1600 L2400 0 L0 0  Z\n",
       "  \" fill=\"#ffffff\" fill-rule=\"evenodd\" fill-opacity=\"1\"/>\n",
       "<defs>\n",
       "  <clipPath id=\"clip121\">\n",
       "    <rect x=\"480\" y=\"0\" width=\"1681\" height=\"1600\"/>\n",
       "  </clipPath>\n",
       "</defs>\n",
       "<path clip-path=\"url(#clip120)\" d=\"\n",
       "M156.112 1486.45 L2352.76 1486.45 L2352.76 47.2441 L156.112 47.2441  Z\n",
       "  \" fill=\"#ffffff\" fill-rule=\"evenodd\" fill-opacity=\"1\"/>\n",
       "<defs>\n",
       "  <clipPath id=\"clip122\">\n",
       "    <rect x=\"156\" y=\"47\" width=\"2198\" height=\"1440\"/>\n",
       "  </clipPath>\n",
       "</defs>\n",
       "<polyline clip-path=\"url(#clip122)\" style=\"stroke:#000000; stroke-width:2; stroke-opacity:0.1; fill:none\" points=\"\n",
       "  448.537,1486.45 448.537,47.2441 \n",
       "  \"/>\n",
       "<polyline clip-path=\"url(#clip122)\" style=\"stroke:#000000; stroke-width:2; stroke-opacity:0.1; fill:none\" points=\"\n",
       "  909.05,1486.45 909.05,47.2441 \n",
       "  \"/>\n",
       "<polyline clip-path=\"url(#clip122)\" style=\"stroke:#000000; stroke-width:2; stroke-opacity:0.1; fill:none\" points=\"\n",
       "  1369.56,1486.45 1369.56,47.2441 \n",
       "  \"/>\n",
       "<polyline clip-path=\"url(#clip122)\" style=\"stroke:#000000; stroke-width:2; stroke-opacity:0.1; fill:none\" points=\"\n",
       "  1830.07,1486.45 1830.07,47.2441 \n",
       "  \"/>\n",
       "<polyline clip-path=\"url(#clip122)\" style=\"stroke:#000000; stroke-width:2; stroke-opacity:0.1; fill:none\" points=\"\n",
       "  2290.59,1486.45 2290.59,47.2441 \n",
       "  \"/>\n",
       "<polyline clip-path=\"url(#clip120)\" style=\"stroke:#000000; stroke-width:4; stroke-opacity:1; fill:none\" points=\"\n",
       "  156.112,1486.45 2352.76,1486.45 \n",
       "  \"/>\n",
       "<polyline clip-path=\"url(#clip120)\" style=\"stroke:#000000; stroke-width:4; stroke-opacity:1; fill:none\" points=\"\n",
       "  448.537,1486.45 448.537,1469.18 \n",
       "  \"/>\n",
       "<polyline clip-path=\"url(#clip120)\" style=\"stroke:#000000; stroke-width:4; stroke-opacity:1; fill:none\" points=\"\n",
       "  909.05,1486.45 909.05,1469.18 \n",
       "  \"/>\n",
       "<polyline clip-path=\"url(#clip120)\" style=\"stroke:#000000; stroke-width:4; stroke-opacity:1; fill:none\" points=\"\n",
       "  1369.56,1486.45 1369.56,1469.18 \n",
       "  \"/>\n",
       "<polyline clip-path=\"url(#clip120)\" style=\"stroke:#000000; stroke-width:4; stroke-opacity:1; fill:none\" points=\"\n",
       "  1830.07,1486.45 1830.07,1469.18 \n",
       "  \"/>\n",
       "<polyline clip-path=\"url(#clip120)\" style=\"stroke:#000000; stroke-width:4; stroke-opacity:1; fill:none\" points=\"\n",
       "  2290.59,1486.45 2290.59,1469.18 \n",
       "  \"/>\n",
       "<path clip-path=\"url(#clip120)\" d=\"M 0 0 M443.19 1543.18 L459.51 1543.18 L459.51 1547.12 L437.565 1547.12 L437.565 1543.18 Q440.227 1540.43 444.811 1535.8 Q449.417 1531.15 450.598 1529.81 Q452.843 1527.28 453.723 1525.55 Q454.625 1523.79 454.625 1522.1 Q454.625 1519.34 452.681 1517.61 Q450.76 1515.87 447.658 1515.87 Q445.459 1515.87 443.005 1516.63 Q440.575 1517.4 437.797 1518.95 L437.797 1514.23 Q440.621 1513.09 443.075 1512.51 Q445.528 1511.93 447.565 1511.93 Q452.936 1511.93 456.13 1514.62 Q459.324 1517.31 459.324 1521.8 Q459.324 1523.93 458.514 1525.85 Q457.727 1527.74 455.621 1530.34 Q455.042 1531.01 451.94 1534.23 Q448.838 1537.42 443.19 1543.18 Z\" fill=\"#000000\" fill-rule=\"evenodd\" fill-opacity=\"1\" /><path clip-path=\"url(#clip120)\" d=\"M 0 0 M912.059 1516.63 L900.254 1535.08 L912.059 1535.08 L912.059 1516.63 M910.832 1512.56 L916.712 1512.56 L916.712 1535.08 L921.642 1535.08 L921.642 1538.97 L916.712 1538.97 L916.712 1547.12 L912.059 1547.12 L912.059 1538.97 L896.457 1538.97 L896.457 1534.46 L910.832 1512.56 Z\" fill=\"#000000\" fill-rule=\"evenodd\" fill-opacity=\"1\" /><path clip-path=\"url(#clip120)\" d=\"M 0 0 M1369.97 1527.98 Q1366.82 1527.98 1364.97 1530.13 Q1363.14 1532.28 1363.14 1536.03 Q1363.14 1539.76 1364.97 1541.93 Q1366.82 1544.09 1369.97 1544.09 Q1373.12 1544.09 1374.94 1541.93 Q1376.8 1539.76 1376.8 1536.03 Q1376.8 1532.28 1374.94 1530.13 Q1373.12 1527.98 1369.97 1527.98 M1379.25 1513.32 L1379.25 1517.58 Q1377.49 1516.75 1375.68 1516.31 Q1373.9 1515.87 1372.14 1515.87 Q1367.51 1515.87 1365.06 1519 Q1362.63 1522.12 1362.28 1528.44 Q1363.65 1526.43 1365.71 1525.36 Q1367.77 1524.27 1370.24 1524.27 Q1375.45 1524.27 1378.46 1527.44 Q1381.49 1530.59 1381.49 1536.03 Q1381.49 1541.36 1378.35 1544.57 Q1375.2 1547.79 1369.97 1547.79 Q1363.97 1547.79 1360.8 1543.21 Q1357.63 1538.6 1357.63 1529.87 Q1357.63 1521.68 1361.52 1516.82 Q1365.41 1511.93 1371.96 1511.93 Q1373.72 1511.93 1375.5 1512.28 Q1377.31 1512.63 1379.25 1513.32 Z\" fill=\"#000000\" fill-rule=\"evenodd\" fill-opacity=\"1\" /><path clip-path=\"url(#clip120)\" d=\"M 0 0 M1830.07 1530.71 Q1826.74 1530.71 1824.82 1532.49 Q1822.92 1534.27 1822.92 1537.4 Q1822.92 1540.52 1824.82 1542.31 Q1826.74 1544.09 1830.07 1544.09 Q1833.41 1544.09 1835.33 1542.31 Q1837.25 1540.5 1837.25 1537.4 Q1837.25 1534.27 1835.33 1532.49 Q1833.43 1530.71 1830.07 1530.71 M1825.4 1528.72 Q1822.39 1527.98 1820.7 1525.92 Q1819.03 1523.86 1819.03 1520.89 Q1819.03 1516.75 1821.97 1514.34 Q1824.94 1511.93 1830.07 1511.93 Q1835.24 1511.93 1838.18 1514.34 Q1841.12 1516.75 1841.12 1520.89 Q1841.12 1523.86 1839.43 1525.92 Q1837.76 1527.98 1834.77 1528.72 Q1838.15 1529.5 1840.03 1531.8 Q1841.93 1534.09 1841.93 1537.4 Q1841.93 1542.42 1838.85 1545.11 Q1835.79 1547.79 1830.07 1547.79 Q1824.36 1547.79 1821.28 1545.11 Q1818.22 1542.42 1818.22 1537.4 Q1818.22 1534.09 1820.12 1531.8 Q1822.02 1529.5 1825.4 1528.72 M1823.69 1521.33 Q1823.69 1524.02 1825.35 1525.52 Q1827.04 1527.03 1830.07 1527.03 Q1833.08 1527.03 1834.77 1525.52 Q1836.49 1524.02 1836.49 1521.33 Q1836.49 1518.65 1834.77 1517.14 Q1833.08 1515.64 1830.07 1515.64 Q1827.04 1515.64 1825.35 1517.14 Q1823.69 1518.65 1823.69 1521.33 Z\" fill=\"#000000\" fill-rule=\"evenodd\" fill-opacity=\"1\" /><path clip-path=\"url(#clip120)\" d=\"M 0 0 M2265.27 1543.18 L2272.91 1543.18 L2272.91 1516.82 L2264.6 1518.49 L2264.6 1514.23 L2272.87 1512.56 L2277.54 1512.56 L2277.54 1543.18 L2285.18 1543.18 L2285.18 1547.12 L2265.27 1547.12 L2265.27 1543.18 Z\" fill=\"#000000\" fill-rule=\"evenodd\" fill-opacity=\"1\" /><path clip-path=\"url(#clip120)\" d=\"M 0 0 M2304.63 1515.64 Q2301.01 1515.64 2299.19 1519.2 Q2297.38 1522.75 2297.38 1529.87 Q2297.38 1536.98 2299.19 1540.55 Q2301.01 1544.09 2304.63 1544.09 Q2308.26 1544.09 2310.07 1540.55 Q2311.89 1536.98 2311.89 1529.87 Q2311.89 1522.75 2310.07 1519.2 Q2308.26 1515.64 2304.63 1515.64 M2304.63 1511.93 Q2310.44 1511.93 2313.49 1516.54 Q2316.57 1521.12 2316.57 1529.87 Q2316.57 1538.6 2313.49 1543.21 Q2310.44 1547.79 2304.63 1547.79 Q2298.82 1547.79 2295.74 1543.21 Q2292.68 1538.6 2292.68 1529.87 Q2292.68 1521.12 2295.74 1516.54 Q2298.82 1511.93 2304.63 1511.93 Z\" fill=\"#000000\" fill-rule=\"evenodd\" fill-opacity=\"1\" /><polyline clip-path=\"url(#clip122)\" style=\"stroke:#000000; stroke-width:2; stroke-opacity:0.1; fill:none\" points=\"\n",
       "  156.112,1455.23 2352.76,1455.23 \n",
       "  \"/>\n",
       "<polyline clip-path=\"url(#clip122)\" style=\"stroke:#000000; stroke-width:2; stroke-opacity:0.1; fill:none\" points=\"\n",
       "  156.112,1100.12 2352.76,1100.12 \n",
       "  \"/>\n",
       "<polyline clip-path=\"url(#clip122)\" style=\"stroke:#000000; stroke-width:2; stroke-opacity:0.1; fill:none\" points=\"\n",
       "  156.112,745.01 2352.76,745.01 \n",
       "  \"/>\n",
       "<polyline clip-path=\"url(#clip122)\" style=\"stroke:#000000; stroke-width:2; stroke-opacity:0.1; fill:none\" points=\"\n",
       "  156.112,389.898 2352.76,389.898 \n",
       "  \"/>\n",
       "<polyline clip-path=\"url(#clip120)\" style=\"stroke:#000000; stroke-width:4; stroke-opacity:1; fill:none\" points=\"\n",
       "  156.112,1486.45 156.112,47.2441 \n",
       "  \"/>\n",
       "<polyline clip-path=\"url(#clip120)\" style=\"stroke:#000000; stroke-width:4; stroke-opacity:1; fill:none\" points=\"\n",
       "  156.112,1455.23 182.472,1455.23 \n",
       "  \"/>\n",
       "<polyline clip-path=\"url(#clip120)\" style=\"stroke:#000000; stroke-width:4; stroke-opacity:1; fill:none\" points=\"\n",
       "  156.112,1100.12 182.472,1100.12 \n",
       "  \"/>\n",
       "<polyline clip-path=\"url(#clip120)\" style=\"stroke:#000000; stroke-width:4; stroke-opacity:1; fill:none\" points=\"\n",
       "  156.112,745.01 182.472,745.01 \n",
       "  \"/>\n",
       "<polyline clip-path=\"url(#clip120)\" style=\"stroke:#000000; stroke-width:4; stroke-opacity:1; fill:none\" points=\"\n",
       "  156.112,389.898 182.472,389.898 \n",
       "  \"/>\n",
       "<path clip-path=\"url(#clip120)\" d=\"M 0 0 M62.9365 1441.03 Q59.3254 1441.03 57.4967 1444.6 Q55.6912 1448.14 55.6912 1455.27 Q55.6912 1462.37 57.4967 1465.94 Q59.3254 1469.48 62.9365 1469.48 Q66.5707 1469.48 68.3763 1465.94 Q70.205 1462.37 70.205 1455.27 Q70.205 1448.14 68.3763 1444.6 Q66.5707 1441.03 62.9365 1441.03 M62.9365 1437.33 Q68.7467 1437.33 71.8022 1441.93 Q74.8809 1446.52 74.8809 1455.27 Q74.8809 1464 71.8022 1468.6 Q68.7467 1473.18 62.9365 1473.18 Q57.1264 1473.18 54.0477 1468.6 Q50.9921 1464 50.9921 1455.27 Q50.9921 1446.52 54.0477 1441.93 Q57.1264 1437.33 62.9365 1437.33 Z\" fill=\"#000000\" fill-rule=\"evenodd\" fill-opacity=\"1\" /><path clip-path=\"url(#clip120)\" d=\"M 0 0 M83.0984 1466.63 L87.9827 1466.63 L87.9827 1472.51 L83.0984 1472.51 L83.0984 1466.63 Z\" fill=\"#000000\" fill-rule=\"evenodd\" fill-opacity=\"1\" /><path clip-path=\"url(#clip120)\" d=\"M 0 0 M108.168 1441.03 Q104.557 1441.03 102.728 1444.6 Q100.922 1448.14 100.922 1455.27 Q100.922 1462.37 102.728 1465.94 Q104.557 1469.48 108.168 1469.48 Q111.802 1469.48 113.608 1465.94 Q115.436 1462.37 115.436 1455.27 Q115.436 1448.14 113.608 1444.6 Q111.802 1441.03 108.168 1441.03 M108.168 1437.33 Q113.978 1437.33 117.033 1441.93 Q120.112 1446.52 120.112 1455.27 Q120.112 1464 117.033 1468.6 Q113.978 1473.18 108.168 1473.18 Q102.358 1473.18 99.2789 1468.6 Q96.2234 1464 96.2234 1455.27 Q96.2234 1446.52 99.2789 1441.93 Q102.358 1437.33 108.168 1437.33 Z\" fill=\"#000000\" fill-rule=\"evenodd\" fill-opacity=\"1\" /><path clip-path=\"url(#clip120)\" d=\"M 0 0 M63.9319 1085.92 Q60.3208 1085.92 58.4921 1089.49 Q56.6865 1093.03 56.6865 1100.16 Q56.6865 1107.26 58.4921 1110.83 Q60.3208 1114.37 63.9319 1114.37 Q67.5661 1114.37 69.3717 1110.83 Q71.2004 1107.26 71.2004 1100.16 Q71.2004 1093.03 69.3717 1089.49 Q67.5661 1085.92 63.9319 1085.92 M63.9319 1082.22 Q69.742 1082.22 72.7976 1086.82 Q75.8763 1091.41 75.8763 1100.16 Q75.8763 1108.88 72.7976 1113.49 Q69.742 1118.07 63.9319 1118.07 Q58.1217 1118.07 55.043 1113.49 Q51.9875 1108.88 51.9875 1100.16 Q51.9875 1091.41 55.043 1086.82 Q58.1217 1082.22 63.9319 1082.22 Z\" fill=\"#000000\" fill-rule=\"evenodd\" fill-opacity=\"1\" /><path clip-path=\"url(#clip120)\" d=\"M 0 0 M84.0938 1111.52 L88.978 1111.52 L88.978 1117.4 L84.0938 1117.4 L84.0938 1111.52 Z\" fill=\"#000000\" fill-rule=\"evenodd\" fill-opacity=\"1\" /><path clip-path=\"url(#clip120)\" d=\"M 0 0 M99.2095 1082.84 L117.566 1082.84 L117.566 1086.78 L103.492 1086.78 L103.492 1095.25 Q104.51 1094.9 105.529 1094.74 Q106.547 1094.55 107.566 1094.55 Q113.353 1094.55 116.733 1097.73 Q120.112 1100.9 120.112 1106.31 Q120.112 1111.89 116.64 1114.99 Q113.168 1118.07 106.848 1118.07 Q104.672 1118.07 102.404 1117.7 Q100.159 1117.33 97.7511 1116.59 L97.7511 1111.89 Q99.8345 1113.03 102.057 1113.58 Q104.279 1114.14 106.756 1114.14 Q110.76 1114.14 113.098 1112.03 Q115.436 1109.93 115.436 1106.31 Q115.436 1102.7 113.098 1100.6 Q110.76 1098.49 106.756 1098.49 Q104.881 1098.49 103.006 1098.91 Q101.154 1099.32 99.2095 1100.2 L99.2095 1082.84 Z\" fill=\"#000000\" fill-rule=\"evenodd\" fill-opacity=\"1\" /><path clip-path=\"url(#clip120)\" d=\"M 0 0 M53.7467 758.355 L61.3856 758.355 L61.3856 731.989 L53.0754 733.656 L53.0754 729.397 L61.3393 727.73 L66.0152 727.73 L66.0152 758.355 L73.654 758.355 L73.654 762.29 L53.7467 762.29 L53.7467 758.355 Z\" fill=\"#000000\" fill-rule=\"evenodd\" fill-opacity=\"1\" /><path clip-path=\"url(#clip120)\" d=\"M 0 0 M83.0984 756.411 L87.9827 756.411 L87.9827 762.29 L83.0984 762.29 L83.0984 756.411 Z\" fill=\"#000000\" fill-rule=\"evenodd\" fill-opacity=\"1\" /><path clip-path=\"url(#clip120)\" d=\"M 0 0 M108.168 730.809 Q104.557 730.809 102.728 734.374 Q100.922 737.915 100.922 745.045 Q100.922 752.151 102.728 755.716 Q104.557 759.258 108.168 759.258 Q111.802 759.258 113.608 755.716 Q115.436 752.151 115.436 745.045 Q115.436 737.915 113.608 734.374 Q111.802 730.809 108.168 730.809 M108.168 727.105 Q113.978 727.105 117.033 731.712 Q120.112 736.295 120.112 745.045 Q120.112 753.772 117.033 758.378 Q113.978 762.961 108.168 762.961 Q102.358 762.961 99.2789 758.378 Q96.2234 753.772 96.2234 745.045 Q96.2234 736.295 99.2789 731.712 Q102.358 727.105 108.168 727.105 Z\" fill=\"#000000\" fill-rule=\"evenodd\" fill-opacity=\"1\" /><path clip-path=\"url(#clip120)\" d=\"M 0 0 M54.7421 403.243 L62.381 403.243 L62.381 376.878 L54.0708 378.544 L54.0708 374.285 L62.3347 372.618 L67.0106 372.618 L67.0106 403.243 L74.6494 403.243 L74.6494 407.178 L54.7421 407.178 L54.7421 403.243 Z\" fill=\"#000000\" fill-rule=\"evenodd\" fill-opacity=\"1\" /><path clip-path=\"url(#clip120)\" d=\"M 0 0 M84.0938 401.299 L88.978 401.299 L88.978 407.178 L84.0938 407.178 L84.0938 401.299 Z\" fill=\"#000000\" fill-rule=\"evenodd\" fill-opacity=\"1\" /><path clip-path=\"url(#clip120)\" d=\"M 0 0 M99.2095 372.618 L117.566 372.618 L117.566 376.554 L103.492 376.554 L103.492 385.026 Q104.51 384.679 105.529 384.517 Q106.547 384.331 107.566 384.331 Q113.353 384.331 116.733 387.503 Q120.112 390.674 120.112 396.091 Q120.112 401.669 116.64 404.771 Q113.168 407.85 106.848 407.85 Q104.672 407.85 102.404 407.479 Q100.159 407.109 97.7511 406.368 L97.7511 401.669 Q99.8345 402.803 102.057 403.359 Q104.279 403.915 106.756 403.915 Q110.76 403.915 113.098 401.808 Q115.436 399.702 115.436 396.091 Q115.436 392.479 113.098 390.373 Q110.76 388.267 106.756 388.267 Q104.881 388.267 103.006 388.683 Q101.154 389.1 99.2095 389.979 L99.2095 372.618 Z\" fill=\"#000000\" fill-rule=\"evenodd\" fill-opacity=\"1\" /><polyline clip-path=\"url(#clip122)\" style=\"stroke:#009af9; stroke-width:4; stroke-opacity:1; fill:none\" points=\"\n",
       "  218.281,1182.13 448.537,911.734 678.794,1074.29 909.05,1445.72 1139.31,1170.8 1369.56,759.079 1599.82,761.026 1830.07,1147.91 2060.33,1262.66 2290.59,1185.18 \n",
       "  \n",
       "  \"/>\n",
       "<polyline clip-path=\"url(#clip122)\" style=\"stroke:#e26f46; stroke-width:4; stroke-opacity:1; fill:none\" points=\"\n",
       "  218.281,584.713 448.537,617.783 678.794,373.826 909.05,310.714 1139.31,187.268 1369.56,715.645 1599.82,387.412 1830.07,732.223 2060.33,598.972 2290.59,87.9763 \n",
       "  \n",
       "  \"/>\n",
       "<path clip-path=\"url(#clip120)\" d=\"\n",
       "M1983.03 276.658 L2279.53 276.658 L2279.53 95.2176 L1983.03 95.2176  Z\n",
       "  \" fill=\"#ffffff\" fill-rule=\"evenodd\" fill-opacity=\"1\"/>\n",
       "<polyline clip-path=\"url(#clip120)\" style=\"stroke:#000000; stroke-width:4; stroke-opacity:1; fill:none\" points=\"\n",
       "  1983.03,276.658 2279.53,276.658 2279.53,95.2176 1983.03,95.2176 1983.03,276.658 \n",
       "  \"/>\n",
       "<polyline clip-path=\"url(#clip120)\" style=\"stroke:#009af9; stroke-width:4; stroke-opacity:1; fill:none\" points=\"\n",
       "  2007.44,155.698 2153.88,155.698 \n",
       "  \"/>\n",
       "<path clip-path=\"url(#clip120)\" d=\"M 0 0 M2192.13 175.385 Q2190.33 180.015 2188.61 181.427 Q2186.9 182.839 2184.03 182.839 L2180.63 182.839 L2180.63 179.274 L2183.13 179.274 Q2184.89 179.274 2185.86 178.44 Q2186.83 177.607 2188.01 174.505 L2188.78 172.561 L2178.29 147.052 L2182.8 147.052 L2190.91 167.329 L2199.01 147.052 L2203.52 147.052 L2192.13 175.385 Z\" fill=\"#000000\" fill-rule=\"evenodd\" fill-opacity=\"1\" /><path clip-path=\"url(#clip120)\" d=\"M 0 0 M2210.81 169.042 L2218.45 169.042 L2218.45 142.677 L2210.14 144.343 L2210.14 140.084 L2218.41 138.418 L2223.08 138.418 L2223.08 169.042 L2230.72 169.042 L2230.72 172.978 L2210.81 172.978 L2210.81 169.042 Z\" fill=\"#000000\" fill-rule=\"evenodd\" fill-opacity=\"1\" /><polyline clip-path=\"url(#clip120)\" style=\"stroke:#e26f46; stroke-width:4; stroke-opacity:1; fill:none\" points=\"\n",
       "  2007.44,216.178 2153.88,216.178 \n",
       "  \"/>\n",
       "<path clip-path=\"url(#clip120)\" d=\"M 0 0 M2192.13 235.865 Q2190.33 240.495 2188.61 241.907 Q2186.9 243.319 2184.03 243.319 L2180.63 243.319 L2180.63 239.754 L2183.13 239.754 Q2184.89 239.754 2185.86 238.92 Q2186.83 238.087 2188.01 234.985 L2188.78 233.041 L2178.29 207.532 L2182.8 207.532 L2190.91 227.809 L2199.01 207.532 L2203.52 207.532 L2192.13 235.865 Z\" fill=\"#000000\" fill-rule=\"evenodd\" fill-opacity=\"1\" /><path clip-path=\"url(#clip120)\" d=\"M 0 0 M2214.03 229.522 L2230.35 229.522 L2230.35 233.458 L2208.41 233.458 L2208.41 229.522 Q2211.07 226.768 2215.65 222.138 Q2220.26 217.485 2221.44 216.143 Q2223.68 213.62 2224.56 211.884 Q2225.47 210.124 2225.47 208.435 Q2225.47 205.68 2223.52 203.944 Q2221.6 202.208 2218.5 202.208 Q2216.3 202.208 2213.85 202.972 Q2211.41 203.735 2208.64 205.286 L2208.64 200.564 Q2211.46 199.43 2213.91 198.851 Q2216.37 198.273 2218.41 198.273 Q2223.78 198.273 2226.97 200.958 Q2230.16 203.643 2230.16 208.134 Q2230.16 210.263 2229.35 212.185 Q2228.57 214.083 2226.46 216.675 Q2225.88 217.347 2222.78 220.564 Q2219.68 223.759 2214.03 229.522 Z\" fill=\"#000000\" fill-rule=\"evenodd\" fill-opacity=\"1\" /></svg>\n"
      ]
     },
     "execution_count": 591,
     "metadata": {},
     "output_type": "execute_result"
    }
   ],
   "source": [
    "plot!(rand(10).+1)"
   ]
  },
  {
   "cell_type": "code",
   "execution_count": 592,
   "id": "3b986268",
   "metadata": {
    "slideshow": {
     "slide_type": "slide"
    }
   },
   "outputs": [
    {
     "data": {
      "image/svg+xml": [
       "<?xml version=\"1.0\" encoding=\"utf-8\"?>\n",
       "<svg xmlns=\"http://www.w3.org/2000/svg\" xmlns:xlink=\"http://www.w3.org/1999/xlink\" width=\"600\" height=\"400\" viewBox=\"0 0 2400 1600\">\n",
       "<defs>\n",
       "  <clipPath id=\"clip160\">\n",
       "    <rect x=\"0\" y=\"0\" width=\"2400\" height=\"1600\"/>\n",
       "  </clipPath>\n",
       "</defs>\n",
       "<path clip-path=\"url(#clip160)\" d=\"\n",
       "M0 1600 L2400 1600 L2400 0 L0 0  Z\n",
       "  \" fill=\"#ffffff\" fill-rule=\"evenodd\" fill-opacity=\"1\"/>\n",
       "<defs>\n",
       "  <clipPath id=\"clip161\">\n",
       "    <rect x=\"480\" y=\"0\" width=\"1681\" height=\"1600\"/>\n",
       "  </clipPath>\n",
       "</defs>\n",
       "<path clip-path=\"url(#clip160)\" d=\"\n",
       "M193.936 1486.45 L2352.76 1486.45 L2352.76 47.2441 L193.936 47.2441  Z\n",
       "  \" fill=\"#ffffff\" fill-rule=\"evenodd\" fill-opacity=\"1\"/>\n",
       "<defs>\n",
       "  <clipPath id=\"clip162\">\n",
       "    <rect x=\"193\" y=\"47\" width=\"2160\" height=\"1440\"/>\n",
       "  </clipPath>\n",
       "</defs>\n",
       "<polyline clip-path=\"url(#clip162)\" style=\"stroke:#000000; stroke-width:2; stroke-opacity:0.1; fill:none\" points=\"\n",
       "  255.035,1486.45 255.035,47.2441 \n",
       "  \"/>\n",
       "<polyline clip-path=\"url(#clip162)\" style=\"stroke:#000000; stroke-width:2; stroke-opacity:0.1; fill:none\" points=\"\n",
       "  912.01,1486.45 912.01,47.2441 \n",
       "  \"/>\n",
       "<polyline clip-path=\"url(#clip162)\" style=\"stroke:#000000; stroke-width:2; stroke-opacity:0.1; fill:none\" points=\"\n",
       "  1568.98,1486.45 1568.98,47.2441 \n",
       "  \"/>\n",
       "<polyline clip-path=\"url(#clip162)\" style=\"stroke:#000000; stroke-width:2; stroke-opacity:0.1; fill:none\" points=\"\n",
       "  2225.96,1486.45 2225.96,47.2441 \n",
       "  \"/>\n",
       "<polyline clip-path=\"url(#clip160)\" style=\"stroke:#000000; stroke-width:4; stroke-opacity:1; fill:none\" points=\"\n",
       "  193.936,1486.45 2352.76,1486.45 \n",
       "  \"/>\n",
       "<polyline clip-path=\"url(#clip160)\" style=\"stroke:#000000; stroke-width:4; stroke-opacity:1; fill:none\" points=\"\n",
       "  255.035,1486.45 255.035,1469.18 \n",
       "  \"/>\n",
       "<polyline clip-path=\"url(#clip160)\" style=\"stroke:#000000; stroke-width:4; stroke-opacity:1; fill:none\" points=\"\n",
       "  912.01,1486.45 912.01,1469.18 \n",
       "  \"/>\n",
       "<polyline clip-path=\"url(#clip160)\" style=\"stroke:#000000; stroke-width:4; stroke-opacity:1; fill:none\" points=\"\n",
       "  1568.98,1486.45 1568.98,1469.18 \n",
       "  \"/>\n",
       "<polyline clip-path=\"url(#clip160)\" style=\"stroke:#000000; stroke-width:4; stroke-opacity:1; fill:none\" points=\"\n",
       "  2225.96,1486.45 2225.96,1469.18 \n",
       "  \"/>\n",
       "<path clip-path=\"url(#clip160)\" d=\"M 0 0 M255.035 1515.64 Q251.424 1515.64 249.595 1519.2 Q247.789 1522.75 247.789 1529.87 Q247.789 1536.98 249.595 1540.55 Q251.424 1544.09 255.035 1544.09 Q258.669 1544.09 260.474 1540.55 Q262.303 1536.98 262.303 1529.87 Q262.303 1522.75 260.474 1519.2 Q258.669 1515.64 255.035 1515.64 M255.035 1511.93 Q260.845 1511.93 263.9 1516.54 Q266.979 1521.12 266.979 1529.87 Q266.979 1538.6 263.9 1543.21 Q260.845 1547.79 255.035 1547.79 Q249.225 1547.79 246.146 1543.21 Q243.09 1538.6 243.09 1529.87 Q243.09 1521.12 246.146 1516.54 Q249.225 1511.93 255.035 1511.93 Z\" fill=\"#000000\" fill-rule=\"evenodd\" fill-opacity=\"1\" /><path clip-path=\"url(#clip160)\" d=\"M 0 0 M902.392 1543.18 L910.031 1543.18 L910.031 1516.82 L901.72 1518.49 L901.72 1514.23 L909.984 1512.56 L914.66 1512.56 L914.66 1543.18 L922.299 1543.18 L922.299 1547.12 L902.392 1547.12 L902.392 1543.18 Z\" fill=\"#000000\" fill-rule=\"evenodd\" fill-opacity=\"1\" /><path clip-path=\"url(#clip160)\" d=\"M 0 0 M1563.64 1543.18 L1579.96 1543.18 L1579.96 1547.12 L1558.01 1547.12 L1558.01 1543.18 Q1560.67 1540.43 1565.26 1535.8 Q1569.86 1531.15 1571.04 1529.81 Q1573.29 1527.28 1574.17 1525.55 Q1575.07 1523.79 1575.07 1522.1 Q1575.07 1519.34 1573.13 1517.61 Q1571.21 1515.87 1568.11 1515.87 Q1565.91 1515.87 1563.45 1516.63 Q1561.02 1517.4 1558.24 1518.95 L1558.24 1514.23 Q1561.07 1513.09 1563.52 1512.51 Q1565.98 1511.93 1568.01 1511.93 Q1573.38 1511.93 1576.58 1514.62 Q1579.77 1517.31 1579.77 1521.8 Q1579.77 1523.93 1578.96 1525.85 Q1578.17 1527.74 1576.07 1530.34 Q1575.49 1531.01 1572.39 1534.23 Q1569.29 1537.42 1563.64 1543.18 Z\" fill=\"#000000\" fill-rule=\"evenodd\" fill-opacity=\"1\" /><path clip-path=\"url(#clip160)\" d=\"M 0 0 M2230.21 1528.49 Q2233.56 1529.2 2235.44 1531.47 Q2237.34 1533.74 2237.34 1537.07 Q2237.34 1542.19 2233.82 1544.99 Q2230.3 1547.79 2223.82 1547.79 Q2221.64 1547.79 2219.33 1547.35 Q2217.04 1546.93 2214.58 1546.08 L2214.58 1541.56 Q2216.53 1542.7 2218.84 1543.28 Q2221.16 1543.86 2223.68 1543.86 Q2228.08 1543.86 2230.37 1542.12 Q2232.68 1540.38 2232.68 1537.07 Q2232.68 1534.02 2230.53 1532.31 Q2228.4 1530.57 2224.58 1530.57 L2220.55 1530.57 L2220.55 1526.73 L2224.77 1526.73 Q2228.22 1526.73 2230.05 1525.36 Q2231.87 1523.97 2231.87 1521.38 Q2231.87 1518.72 2229.98 1517.31 Q2228.1 1515.87 2224.58 1515.87 Q2222.66 1515.87 2220.46 1516.29 Q2218.26 1516.7 2215.62 1517.58 L2215.62 1513.42 Q2218.29 1512.68 2220.6 1512.31 Q2222.94 1511.93 2225 1511.93 Q2230.32 1511.93 2233.42 1514.37 Q2236.53 1516.77 2236.53 1520.89 Q2236.53 1523.76 2234.88 1525.75 Q2233.24 1527.72 2230.21 1528.49 Z\" fill=\"#000000\" fill-rule=\"evenodd\" fill-opacity=\"1\" /><polyline clip-path=\"url(#clip162)\" style=\"stroke:#000000; stroke-width:2; stroke-opacity:0.1; fill:none\" points=\"\n",
       "  193.936,1446.3 2352.76,1446.3 \n",
       "  \"/>\n",
       "<polyline clip-path=\"url(#clip162)\" style=\"stroke:#000000; stroke-width:2; stroke-opacity:0.1; fill:none\" points=\"\n",
       "  193.936,1106.72 2352.76,1106.72 \n",
       "  \"/>\n",
       "<polyline clip-path=\"url(#clip162)\" style=\"stroke:#000000; stroke-width:2; stroke-opacity:0.1; fill:none\" points=\"\n",
       "  193.936,767.14 2352.76,767.14 \n",
       "  \"/>\n",
       "<polyline clip-path=\"url(#clip162)\" style=\"stroke:#000000; stroke-width:2; stroke-opacity:0.1; fill:none\" points=\"\n",
       "  193.936,427.558 2352.76,427.558 \n",
       "  \"/>\n",
       "<polyline clip-path=\"url(#clip162)\" style=\"stroke:#000000; stroke-width:2; stroke-opacity:0.1; fill:none\" points=\"\n",
       "  193.936,87.9763 2352.76,87.9763 \n",
       "  \"/>\n",
       "<polyline clip-path=\"url(#clip160)\" style=\"stroke:#000000; stroke-width:4; stroke-opacity:1; fill:none\" points=\"\n",
       "  193.936,1486.45 193.936,47.2441 \n",
       "  \"/>\n",
       "<polyline clip-path=\"url(#clip160)\" style=\"stroke:#000000; stroke-width:4; stroke-opacity:1; fill:none\" points=\"\n",
       "  193.936,1446.3 219.842,1446.3 \n",
       "  \"/>\n",
       "<polyline clip-path=\"url(#clip160)\" style=\"stroke:#000000; stroke-width:4; stroke-opacity:1; fill:none\" points=\"\n",
       "  193.936,1106.72 219.842,1106.72 \n",
       "  \"/>\n",
       "<polyline clip-path=\"url(#clip160)\" style=\"stroke:#000000; stroke-width:4; stroke-opacity:1; fill:none\" points=\"\n",
       "  193.936,767.14 219.842,767.14 \n",
       "  \"/>\n",
       "<polyline clip-path=\"url(#clip160)\" style=\"stroke:#000000; stroke-width:4; stroke-opacity:1; fill:none\" points=\"\n",
       "  193.936,427.558 219.842,427.558 \n",
       "  \"/>\n",
       "<polyline clip-path=\"url(#clip160)\" style=\"stroke:#000000; stroke-width:4; stroke-opacity:1; fill:none\" points=\"\n",
       "  193.936,87.9763 219.842,87.9763 \n",
       "  \"/>\n",
       "<path clip-path=\"url(#clip160)\" d=\"M 0 0 M50.9921 1446.75 L80.6679 1446.75 L80.6679 1450.69 L50.9921 1450.69 L50.9921 1446.75 Z\" fill=\"#000000\" fill-rule=\"evenodd\" fill-opacity=\"1\" /><path clip-path=\"url(#clip160)\" d=\"M 0 0 M91.5706 1459.65 L99.2095 1459.65 L99.2095 1433.28 L90.8993 1434.95 L90.8993 1430.69 L99.1632 1429.02 L103.839 1429.02 L103.839 1459.65 L111.478 1459.65 L111.478 1463.58 L91.5706 1463.58 L91.5706 1459.65 Z\" fill=\"#000000\" fill-rule=\"evenodd\" fill-opacity=\"1\" /><path clip-path=\"url(#clip160)\" d=\"M 0 0 M120.922 1457.7 L125.807 1457.7 L125.807 1463.58 L120.922 1463.58 L120.922 1457.7 Z\" fill=\"#000000\" fill-rule=\"evenodd\" fill-opacity=\"1\" /><path clip-path=\"url(#clip160)\" d=\"M 0 0 M145.992 1432.1 Q142.381 1432.1 140.552 1435.67 Q138.746 1439.21 138.746 1446.34 Q138.746 1453.44 140.552 1457.01 Q142.381 1460.55 145.992 1460.55 Q149.626 1460.55 151.431 1457.01 Q153.26 1453.44 153.26 1446.34 Q153.26 1439.21 151.431 1435.67 Q149.626 1432.1 145.992 1432.1 M145.992 1428.4 Q151.802 1428.4 154.857 1433 Q157.936 1437.59 157.936 1446.34 Q157.936 1455.06 154.857 1459.67 Q151.802 1464.25 145.992 1464.25 Q140.181 1464.25 137.103 1459.67 Q134.047 1455.06 134.047 1446.34 Q134.047 1437.59 137.103 1433 Q140.181 1428.4 145.992 1428.4 Z\" fill=\"#000000\" fill-rule=\"evenodd\" fill-opacity=\"1\" /><path clip-path=\"url(#clip160)\" d=\"M 0 0 M51.9875 1107.17 L81.6633 1107.17 L81.6633 1111.11 L51.9875 1111.11 L51.9875 1107.17 Z\" fill=\"#000000\" fill-rule=\"evenodd\" fill-opacity=\"1\" /><path clip-path=\"url(#clip160)\" d=\"M 0 0 M101.756 1092.52 Q98.1447 1092.52 96.316 1096.08 Q94.5104 1099.63 94.5104 1106.76 Q94.5104 1113.86 96.316 1117.43 Q98.1447 1120.97 101.756 1120.97 Q105.39 1120.97 107.196 1117.43 Q109.024 1113.86 109.024 1106.76 Q109.024 1099.63 107.196 1096.08 Q105.39 1092.52 101.756 1092.52 M101.756 1088.82 Q107.566 1088.82 110.621 1093.42 Q113.7 1098.01 113.7 1106.76 Q113.7 1115.48 110.621 1120.09 Q107.566 1124.67 101.756 1124.67 Q95.9456 1124.67 92.8669 1120.09 Q89.8114 1115.48 89.8114 1106.76 Q89.8114 1098.01 92.8669 1093.42 Q95.9456 1088.82 101.756 1088.82 Z\" fill=\"#000000\" fill-rule=\"evenodd\" fill-opacity=\"1\" /><path clip-path=\"url(#clip160)\" d=\"M 0 0 M121.918 1118.12 L126.802 1118.12 L126.802 1124 L121.918 1124 L121.918 1118.12 Z\" fill=\"#000000\" fill-rule=\"evenodd\" fill-opacity=\"1\" /><path clip-path=\"url(#clip160)\" d=\"M 0 0 M137.033 1089.44 L155.39 1089.44 L155.39 1093.38 L141.316 1093.38 L141.316 1101.85 Q142.334 1101.5 143.353 1101.34 Q144.371 1101.15 145.39 1101.15 Q151.177 1101.15 154.556 1104.33 Q157.936 1107.5 157.936 1112.91 Q157.936 1118.49 154.464 1121.59 Q150.992 1124.67 144.672 1124.67 Q142.496 1124.67 140.228 1124.3 Q137.982 1123.93 135.575 1123.19 L135.575 1118.49 Q137.658 1119.63 139.881 1120.18 Q142.103 1120.74 144.58 1120.74 Q148.584 1120.74 150.922 1118.63 Q153.26 1116.52 153.26 1112.91 Q153.26 1109.3 150.922 1107.2 Q148.584 1105.09 144.58 1105.09 Q142.705 1105.09 140.83 1105.51 Q138.978 1105.92 137.033 1106.8 L137.033 1089.44 Z\" fill=\"#000000\" fill-rule=\"evenodd\" fill-opacity=\"1\" /><path clip-path=\"url(#clip160)\" d=\"M 0 0 M100.76 752.938 Q97.1493 752.938 95.3206 756.503 Q93.515 760.045 93.515 767.174 Q93.515 774.281 95.3206 777.846 Q97.1493 781.387 100.76 781.387 Q104.395 781.387 106.2 777.846 Q108.029 774.281 108.029 767.174 Q108.029 760.045 106.2 756.503 Q104.395 752.938 100.76 752.938 M100.76 749.235 Q106.571 749.235 109.626 753.841 Q112.705 758.424 112.705 767.174 Q112.705 775.901 109.626 780.508 Q106.571 785.091 100.76 785.091 Q94.9502 785.091 91.8715 780.508 Q88.816 775.901 88.816 767.174 Q88.816 758.424 91.8715 753.841 Q94.9502 749.235 100.76 749.235 Z\" fill=\"#000000\" fill-rule=\"evenodd\" fill-opacity=\"1\" /><path clip-path=\"url(#clip160)\" d=\"M 0 0 M120.922 778.54 L125.807 778.54 L125.807 784.42 L120.922 784.42 L120.922 778.54 Z\" fill=\"#000000\" fill-rule=\"evenodd\" fill-opacity=\"1\" /><path clip-path=\"url(#clip160)\" d=\"M 0 0 M145.992 752.938 Q142.381 752.938 140.552 756.503 Q138.746 760.045 138.746 767.174 Q138.746 774.281 140.552 777.846 Q142.381 781.387 145.992 781.387 Q149.626 781.387 151.431 777.846 Q153.26 774.281 153.26 767.174 Q153.26 760.045 151.431 756.503 Q149.626 752.938 145.992 752.938 M145.992 749.235 Q151.802 749.235 154.857 753.841 Q157.936 758.424 157.936 767.174 Q157.936 775.901 154.857 780.508 Q151.802 785.091 145.992 785.091 Q140.181 785.091 137.103 780.508 Q134.047 775.901 134.047 767.174 Q134.047 758.424 137.103 753.841 Q140.181 749.235 145.992 749.235 Z\" fill=\"#000000\" fill-rule=\"evenodd\" fill-opacity=\"1\" /><path clip-path=\"url(#clip160)\" d=\"M 0 0 M101.756 413.357 Q98.1447 413.357 96.316 416.921 Q94.5104 420.463 94.5104 427.593 Q94.5104 434.699 96.316 438.264 Q98.1447 441.806 101.756 441.806 Q105.39 441.806 107.196 438.264 Q109.024 434.699 109.024 427.593 Q109.024 420.463 107.196 416.921 Q105.39 413.357 101.756 413.357 M101.756 409.653 Q107.566 409.653 110.621 414.259 Q113.7 418.843 113.7 427.593 Q113.7 436.32 110.621 440.926 Q107.566 445.509 101.756 445.509 Q95.9456 445.509 92.8669 440.926 Q89.8114 436.32 89.8114 427.593 Q89.8114 418.843 92.8669 414.259 Q95.9456 409.653 101.756 409.653 Z\" fill=\"#000000\" fill-rule=\"evenodd\" fill-opacity=\"1\" /><path clip-path=\"url(#clip160)\" d=\"M 0 0 M121.918 438.958 L126.802 438.958 L126.802 444.838 L121.918 444.838 L121.918 438.958 Z\" fill=\"#000000\" fill-rule=\"evenodd\" fill-opacity=\"1\" /><path clip-path=\"url(#clip160)\" d=\"M 0 0 M137.033 410.278 L155.39 410.278 L155.39 414.213 L141.316 414.213 L141.316 422.685 Q142.334 422.338 143.353 422.176 Q144.371 421.991 145.39 421.991 Q151.177 421.991 154.556 425.162 Q157.936 428.333 157.936 433.75 Q157.936 439.329 154.464 442.431 Q150.992 445.509 144.672 445.509 Q142.496 445.509 140.228 445.139 Q137.982 444.769 135.575 444.028 L135.575 439.329 Q137.658 440.463 139.881 441.019 Q142.103 441.574 144.58 441.574 Q148.584 441.574 150.922 439.468 Q153.26 437.361 153.26 433.75 Q153.26 430.139 150.922 428.033 Q148.584 425.926 144.58 425.926 Q142.705 425.926 140.83 426.343 Q138.978 426.759 137.033 427.639 L137.033 410.278 Z\" fill=\"#000000\" fill-rule=\"evenodd\" fill-opacity=\"1\" /><path clip-path=\"url(#clip160)\" d=\"M 0 0 M91.5706 101.321 L99.2095 101.321 L99.2095 74.9555 L90.8993 76.6222 L90.8993 72.3629 L99.1632 70.6963 L103.839 70.6963 L103.839 101.321 L111.478 101.321 L111.478 105.256 L91.5706 105.256 L91.5706 101.321 Z\" fill=\"#000000\" fill-rule=\"evenodd\" fill-opacity=\"1\" /><path clip-path=\"url(#clip160)\" d=\"M 0 0 M120.922 99.3767 L125.807 99.3767 L125.807 105.256 L120.922 105.256 L120.922 99.3767 Z\" fill=\"#000000\" fill-rule=\"evenodd\" fill-opacity=\"1\" /><path clip-path=\"url(#clip160)\" d=\"M 0 0 M145.992 73.775 Q142.381 73.775 140.552 77.3398 Q138.746 80.8814 138.746 88.011 Q138.746 95.1174 140.552 98.6822 Q142.381 102.224 145.992 102.224 Q149.626 102.224 151.431 98.6822 Q153.26 95.1174 153.26 88.011 Q153.26 80.8814 151.431 77.3398 Q149.626 73.775 145.992 73.775 M145.992 70.0713 Q151.802 70.0713 154.857 74.6777 Q157.936 79.261 157.936 88.011 Q157.936 96.7378 154.857 101.344 Q151.802 105.928 145.992 105.928 Q140.181 105.928 137.103 101.344 Q134.047 96.7378 134.047 88.011 Q134.047 79.261 137.103 74.6777 Q140.181 70.0713 145.992 70.0713 Z\" fill=\"#000000\" fill-rule=\"evenodd\" fill-opacity=\"1\" /><polyline clip-path=\"url(#clip162)\" style=\"stroke:#009af9; stroke-width:4; stroke-opacity:1; fill:none\" points=\"\n",
       "  255.035,767.14 320.732,699.336 386.43,632.211 452.127,566.433 517.825,502.661 583.522,441.531 649.22,383.655 714.917,329.611 780.615,279.938 846.312,235.133 \n",
       "  912.01,195.643 977.707,161.864 1043.4,134.133 1109.1,112.726 1174.8,97.8583 1240.5,89.6776 1306.19,88.2659 1371.89,93.6372 1437.59,105.738 1503.29,124.447 \n",
       "  1568.98,149.578 1634.68,180.879 1700.38,218.039 1766.08,260.684 1831.77,308.39 1897.47,360.679 1963.17,417.03 2028.87,476.879 2094.56,539.628 2160.26,604.65 \n",
       "  2225.96,671.296 2291.66,738.9 \n",
       "  \"/>\n",
       "<polyline clip-path=\"url(#clip162)\" style=\"stroke:#e26f46; stroke-width:4; stroke-opacity:1; fill:none\" points=\"\n",
       "  255.035,87.9763 320.732,91.3693 386.43,101.514 452.127,118.31 517.825,141.589 583.522,171.118 649.22,206.602 714.917,247.687 780.615,293.962 846.312,344.965 \n",
       "  912.01,400.186 977.707,459.074 1043.4,521.04 1109.1,585.464 1174.8,651.704 1240.5,719.098 1306.19,786.971 1371.89,854.646 1437.59,921.447 1503.29,986.706 \n",
       "  1568.98,1049.77 1634.68,1110.01 1700.38,1166.83 1766.08,1219.65 1831.77,1267.95 1897.47,1311.25 1963.17,1349.11 2028.87,1381.15 2094.56,1407.06 2160.26,1426.58 \n",
       "  2225.96,1439.51 2291.66,1445.72 \n",
       "  \"/>\n",
       "<path clip-path=\"url(#clip160)\" d=\"\n",
       "M1988.5 276.658 L2280.8 276.658 L2280.8 95.2176 L1988.5 95.2176  Z\n",
       "  \" fill=\"#ffffff\" fill-rule=\"evenodd\" fill-opacity=\"1\"/>\n",
       "<polyline clip-path=\"url(#clip160)\" style=\"stroke:#000000; stroke-width:4; stroke-opacity:1; fill:none\" points=\"\n",
       "  1988.5,276.658 2280.8,276.658 2280.8,95.2176 1988.5,95.2176 1988.5,276.658 \n",
       "  \"/>\n",
       "<polyline clip-path=\"url(#clip160)\" style=\"stroke:#009af9; stroke-width:4; stroke-opacity:1; fill:none\" points=\"\n",
       "  2012.48,155.698 2156.4,155.698 \n",
       "  \"/>\n",
       "<path clip-path=\"url(#clip160)\" d=\"M 0 0 M2194.23 175.385 Q2192.43 180.015 2190.72 181.427 Q2189 182.839 2186.13 182.839 L2182.73 182.839 L2182.73 179.274 L2185.23 179.274 Q2186.99 179.274 2187.96 178.44 Q2188.93 177.607 2190.11 174.505 L2190.88 172.561 L2180.39 147.052 L2184.91 147.052 L2193.01 167.329 L2201.11 147.052 L2205.62 147.052 L2194.23 175.385 Z\" fill=\"#000000\" fill-rule=\"evenodd\" fill-opacity=\"1\" /><path clip-path=\"url(#clip160)\" d=\"M 0 0 M2212.91 169.042 L2220.55 169.042 L2220.55 142.677 L2212.24 144.343 L2212.24 140.084 L2220.51 138.418 L2225.18 138.418 L2225.18 169.042 L2232.82 169.042 L2232.82 172.978 L2212.91 172.978 L2212.91 169.042 Z\" fill=\"#000000\" fill-rule=\"evenodd\" fill-opacity=\"1\" /><polyline clip-path=\"url(#clip160)\" style=\"stroke:#e26f46; stroke-width:4; stroke-opacity:1; fill:none\" points=\"\n",
       "  2012.48,216.178 2156.4,216.178 \n",
       "  \"/>\n",
       "<path clip-path=\"url(#clip160)\" d=\"M 0 0 M2194.23 235.865 Q2192.43 240.495 2190.72 241.907 Q2189 243.319 2186.13 243.319 L2182.73 243.319 L2182.73 239.754 L2185.23 239.754 Q2186.99 239.754 2187.96 238.92 Q2188.93 238.087 2190.11 234.985 L2190.88 233.041 L2180.39 207.532 L2184.91 207.532 L2193.01 227.809 L2201.11 207.532 L2205.62 207.532 L2194.23 235.865 Z\" fill=\"#000000\" fill-rule=\"evenodd\" fill-opacity=\"1\" /><path clip-path=\"url(#clip160)\" d=\"M 0 0 M2216.13 229.522 L2232.45 229.522 L2232.45 233.458 L2210.51 233.458 L2210.51 229.522 Q2213.17 226.768 2217.75 222.138 Q2222.36 217.485 2223.54 216.143 Q2225.78 213.62 2226.66 211.884 Q2227.57 210.124 2227.57 208.435 Q2227.57 205.68 2225.62 203.944 Q2223.7 202.208 2220.6 202.208 Q2218.4 202.208 2215.95 202.972 Q2213.52 203.735 2210.74 205.286 L2210.74 200.564 Q2213.56 199.43 2216.02 198.851 Q2218.47 198.273 2220.51 198.273 Q2225.88 198.273 2229.07 200.958 Q2232.27 203.643 2232.27 208.134 Q2232.27 210.263 2231.46 212.185 Q2230.67 214.083 2228.56 216.675 Q2227.98 217.347 2224.88 220.564 Q2221.78 223.759 2216.13 229.522 Z\" fill=\"#000000\" fill-rule=\"evenodd\" fill-opacity=\"1\" /></svg>\n"
      ]
     },
     "execution_count": 592,
     "metadata": {},
     "output_type": "execute_result"
    }
   ],
   "source": [
    "plot([sin,cos], 0:0.1:π) "
   ]
  },
  {
   "cell_type": "markdown",
   "id": "47dc3bf9",
   "metadata": {
    "slideshow": {
     "slide_type": "slide"
    }
   },
   "source": [
    "#### Plots with annotations:"
   ]
  },
  {
   "cell_type": "code",
   "execution_count": 593,
   "id": "aeaaf0c1",
   "metadata": {
    "slideshow": {
     "slide_type": "fragment"
    }
   },
   "outputs": [
    {
     "data": {
      "image/svg+xml": [
       "<?xml version=\"1.0\" encoding=\"utf-8\"?>\n",
       "<svg xmlns=\"http://www.w3.org/2000/svg\" xmlns:xlink=\"http://www.w3.org/1999/xlink\" width=\"600\" height=\"400\" viewBox=\"0 0 2400 1600\">\n",
       "<defs>\n",
       "  <clipPath id=\"clip200\">\n",
       "    <rect x=\"0\" y=\"0\" width=\"2400\" height=\"1600\"/>\n",
       "  </clipPath>\n",
       "</defs>\n",
       "<path clip-path=\"url(#clip200)\" d=\"\n",
       "M0 1600 L2400 1600 L2400 0 L0 0  Z\n",
       "  \" fill=\"#ffffff\" fill-rule=\"evenodd\" fill-opacity=\"1\"/>\n",
       "<defs>\n",
       "  <clipPath id=\"clip201\">\n",
       "    <rect x=\"480\" y=\"0\" width=\"1681\" height=\"1600\"/>\n",
       "  </clipPath>\n",
       "</defs>\n",
       "<path clip-path=\"url(#clip200)\" d=\"\n",
       "M156.598 1486.45 L2352.76 1486.45 L2352.76 123.472 L156.598 123.472  Z\n",
       "  \" fill=\"#ffffff\" fill-rule=\"evenodd\" fill-opacity=\"1\"/>\n",
       "<defs>\n",
       "  <clipPath id=\"clip202\">\n",
       "    <rect x=\"156\" y=\"123\" width=\"2197\" height=\"1364\"/>\n",
       "  </clipPath>\n",
       "</defs>\n",
       "<polyline clip-path=\"url(#clip202)\" style=\"stroke:#000000; stroke-width:2; stroke-opacity:0.1; fill:none\" points=\"\n",
       "  448.959,1486.45 448.959,123.472 \n",
       "  \"/>\n",
       "<polyline clip-path=\"url(#clip202)\" style=\"stroke:#000000; stroke-width:2; stroke-opacity:0.1; fill:none\" points=\"\n",
       "  909.369,1486.45 909.369,123.472 \n",
       "  \"/>\n",
       "<polyline clip-path=\"url(#clip202)\" style=\"stroke:#000000; stroke-width:2; stroke-opacity:0.1; fill:none\" points=\"\n",
       "  1369.78,1486.45 1369.78,123.472 \n",
       "  \"/>\n",
       "<polyline clip-path=\"url(#clip202)\" style=\"stroke:#000000; stroke-width:2; stroke-opacity:0.1; fill:none\" points=\"\n",
       "  1830.19,1486.45 1830.19,123.472 \n",
       "  \"/>\n",
       "<polyline clip-path=\"url(#clip202)\" style=\"stroke:#000000; stroke-width:2; stroke-opacity:0.1; fill:none\" points=\"\n",
       "  2290.6,1486.45 2290.6,123.472 \n",
       "  \"/>\n",
       "<polyline clip-path=\"url(#clip200)\" style=\"stroke:#000000; stroke-width:4; stroke-opacity:1; fill:none\" points=\"\n",
       "  156.598,1486.45 2352.76,1486.45 \n",
       "  \"/>\n",
       "<polyline clip-path=\"url(#clip200)\" style=\"stroke:#000000; stroke-width:4; stroke-opacity:1; fill:none\" points=\"\n",
       "  448.959,1486.45 448.959,1470.09 \n",
       "  \"/>\n",
       "<polyline clip-path=\"url(#clip200)\" style=\"stroke:#000000; stroke-width:4; stroke-opacity:1; fill:none\" points=\"\n",
       "  909.369,1486.45 909.369,1470.09 \n",
       "  \"/>\n",
       "<polyline clip-path=\"url(#clip200)\" style=\"stroke:#000000; stroke-width:4; stroke-opacity:1; fill:none\" points=\"\n",
       "  1369.78,1486.45 1369.78,1470.09 \n",
       "  \"/>\n",
       "<polyline clip-path=\"url(#clip200)\" style=\"stroke:#000000; stroke-width:4; stroke-opacity:1; fill:none\" points=\"\n",
       "  1830.19,1486.45 1830.19,1470.09 \n",
       "  \"/>\n",
       "<polyline clip-path=\"url(#clip200)\" style=\"stroke:#000000; stroke-width:4; stroke-opacity:1; fill:none\" points=\"\n",
       "  2290.6,1486.45 2290.6,1470.09 \n",
       "  \"/>\n",
       "<path clip-path=\"url(#clip200)\" d=\"M 0 0 M443.612 1543.18 L459.931 1543.18 L459.931 1547.12 L437.987 1547.12 L437.987 1543.18 Q440.649 1540.43 445.232 1535.8 Q449.838 1531.15 451.019 1529.81 Q453.264 1527.28 454.144 1525.55 Q455.047 1523.79 455.047 1522.1 Q455.047 1519.34 453.102 1517.61 Q451.181 1515.87 448.079 1515.87 Q445.88 1515.87 443.426 1516.63 Q440.996 1517.4 438.218 1518.95 L438.218 1514.23 Q441.042 1513.09 443.496 1512.51 Q445.95 1511.93 447.987 1511.93 Q453.357 1511.93 456.551 1514.62 Q459.746 1517.31 459.746 1521.8 Q459.746 1523.93 458.936 1525.85 Q458.149 1527.74 456.042 1530.34 Q455.463 1531.01 452.362 1534.23 Q449.26 1537.42 443.612 1543.18 Z\" fill=\"#000000\" fill-rule=\"evenodd\" fill-opacity=\"1\" /><path clip-path=\"url(#clip200)\" d=\"M 0 0 M912.379 1516.63 L900.573 1535.08 L912.379 1535.08 L912.379 1516.63 M911.152 1512.56 L917.031 1512.56 L917.031 1535.08 L921.962 1535.08 L921.962 1538.97 L917.031 1538.97 L917.031 1547.12 L912.379 1547.12 L912.379 1538.97 L896.777 1538.97 L896.777 1534.46 L911.152 1512.56 Z\" fill=\"#000000\" fill-rule=\"evenodd\" fill-opacity=\"1\" /><path clip-path=\"url(#clip200)\" d=\"M 0 0 M1370.18 1527.98 Q1367.04 1527.98 1365.18 1530.13 Q1363.36 1532.28 1363.36 1536.03 Q1363.36 1539.76 1365.18 1541.93 Q1367.04 1544.09 1370.18 1544.09 Q1373.33 1544.09 1375.16 1541.93 Q1377.01 1539.76 1377.01 1536.03 Q1377.01 1532.28 1375.16 1530.13 Q1373.33 1527.98 1370.18 1527.98 M1379.47 1513.32 L1379.47 1517.58 Q1377.71 1516.75 1375.9 1516.31 Q1374.12 1515.87 1372.36 1515.87 Q1367.73 1515.87 1365.28 1519 Q1362.85 1522.12 1362.5 1528.44 Q1363.87 1526.43 1365.93 1525.36 Q1367.99 1524.27 1370.46 1524.27 Q1375.67 1524.27 1378.68 1527.44 Q1381.71 1530.59 1381.71 1536.03 Q1381.71 1541.36 1378.56 1544.57 Q1375.42 1547.79 1370.18 1547.79 Q1364.19 1547.79 1361.02 1543.21 Q1357.85 1538.6 1357.85 1529.87 Q1357.85 1521.68 1361.74 1516.82 Q1365.62 1511.93 1372.18 1511.93 Q1373.93 1511.93 1375.72 1512.28 Q1377.52 1512.63 1379.47 1513.32 Z\" fill=\"#000000\" fill-rule=\"evenodd\" fill-opacity=\"1\" /><path clip-path=\"url(#clip200)\" d=\"M 0 0 M1830.19 1530.71 Q1826.86 1530.71 1824.94 1532.49 Q1823.04 1534.27 1823.04 1537.4 Q1823.04 1540.52 1824.94 1542.31 Q1826.86 1544.09 1830.19 1544.09 Q1833.52 1544.09 1835.44 1542.31 Q1837.37 1540.5 1837.37 1537.4 Q1837.37 1534.27 1835.44 1532.49 Q1833.55 1530.71 1830.19 1530.71 M1825.51 1528.72 Q1822.5 1527.98 1820.82 1525.92 Q1819.15 1523.86 1819.15 1520.89 Q1819.15 1516.75 1822.09 1514.34 Q1825.05 1511.93 1830.19 1511.93 Q1835.35 1511.93 1838.29 1514.34 Q1841.23 1516.75 1841.23 1520.89 Q1841.23 1523.86 1839.54 1525.92 Q1837.88 1527.98 1834.89 1528.72 Q1838.27 1529.5 1840.14 1531.8 Q1842.04 1534.09 1842.04 1537.4 Q1842.04 1542.42 1838.96 1545.11 Q1835.91 1547.79 1830.19 1547.79 Q1824.47 1547.79 1821.39 1545.11 Q1818.34 1542.42 1818.34 1537.4 Q1818.34 1534.09 1820.24 1531.8 Q1822.13 1529.5 1825.51 1528.72 M1823.8 1521.33 Q1823.8 1524.02 1825.47 1525.52 Q1827.16 1527.03 1830.19 1527.03 Q1833.2 1527.03 1834.89 1525.52 Q1836.6 1524.02 1836.6 1521.33 Q1836.6 1518.65 1834.89 1517.14 Q1833.2 1515.64 1830.19 1515.64 Q1827.16 1515.64 1825.47 1517.14 Q1823.8 1518.65 1823.8 1521.33 Z\" fill=\"#000000\" fill-rule=\"evenodd\" fill-opacity=\"1\" /><path clip-path=\"url(#clip200)\" d=\"M 0 0 M2265.29 1543.18 L2272.93 1543.18 L2272.93 1516.82 L2264.62 1518.49 L2264.62 1514.23 L2272.88 1512.56 L2277.56 1512.56 L2277.56 1543.18 L2285.2 1543.18 L2285.2 1547.12 L2265.29 1547.12 L2265.29 1543.18 Z\" fill=\"#000000\" fill-rule=\"evenodd\" fill-opacity=\"1\" /><path clip-path=\"url(#clip200)\" d=\"M 0 0 M2304.64 1515.64 Q2301.03 1515.64 2299.2 1519.2 Q2297.39 1522.75 2297.39 1529.87 Q2297.39 1536.98 2299.2 1540.55 Q2301.03 1544.09 2304.64 1544.09 Q2308.27 1544.09 2310.08 1540.55 Q2311.91 1536.98 2311.91 1529.87 Q2311.91 1522.75 2310.08 1519.2 Q2308.27 1515.64 2304.64 1515.64 M2304.64 1511.93 Q2310.45 1511.93 2313.51 1516.54 Q2316.58 1521.12 2316.58 1529.87 Q2316.58 1538.6 2313.51 1543.21 Q2310.45 1547.79 2304.64 1547.79 Q2298.83 1547.79 2295.75 1543.21 Q2292.7 1538.6 2292.7 1529.87 Q2292.7 1521.12 2295.75 1516.54 Q2298.83 1511.93 2304.64 1511.93 Z\" fill=\"#000000\" fill-rule=\"evenodd\" fill-opacity=\"1\" /><polyline clip-path=\"url(#clip202)\" style=\"stroke:#000000; stroke-width:2; stroke-opacity:0.1; fill:none\" points=\"\n",
       "  156.598,1244.03 2352.76,1244.03 \n",
       "  \"/>\n",
       "<polyline clip-path=\"url(#clip202)\" style=\"stroke:#000000; stroke-width:2; stroke-opacity:0.1; fill:none\" points=\"\n",
       "  156.598,963.467 2352.76,963.467 \n",
       "  \"/>\n",
       "<polyline clip-path=\"url(#clip202)\" style=\"stroke:#000000; stroke-width:2; stroke-opacity:0.1; fill:none\" points=\"\n",
       "  156.598,682.902 2352.76,682.902 \n",
       "  \"/>\n",
       "<polyline clip-path=\"url(#clip202)\" style=\"stroke:#000000; stroke-width:2; stroke-opacity:0.1; fill:none\" points=\"\n",
       "  156.598,402.337 2352.76,402.337 \n",
       "  \"/>\n",
       "<polyline clip-path=\"url(#clip200)\" style=\"stroke:#000000; stroke-width:4; stroke-opacity:1; fill:none\" points=\"\n",
       "  156.598,1486.45 156.598,123.472 \n",
       "  \"/>\n",
       "<polyline clip-path=\"url(#clip200)\" style=\"stroke:#000000; stroke-width:4; stroke-opacity:1; fill:none\" points=\"\n",
       "  156.598,1244.03 182.952,1244.03 \n",
       "  \"/>\n",
       "<polyline clip-path=\"url(#clip200)\" style=\"stroke:#000000; stroke-width:4; stroke-opacity:1; fill:none\" points=\"\n",
       "  156.598,963.467 182.952,963.467 \n",
       "  \"/>\n",
       "<polyline clip-path=\"url(#clip200)\" style=\"stroke:#000000; stroke-width:4; stroke-opacity:1; fill:none\" points=\"\n",
       "  156.598,682.902 182.952,682.902 \n",
       "  \"/>\n",
       "<polyline clip-path=\"url(#clip200)\" style=\"stroke:#000000; stroke-width:4; stroke-opacity:1; fill:none\" points=\"\n",
       "  156.598,402.337 182.952,402.337 \n",
       "  \"/>\n",
       "<path clip-path=\"url(#clip200)\" d=\"M 0 0 M65.0198 1229.83 Q61.4087 1229.83 59.58 1233.4 Q57.7745 1236.94 57.7745 1244.07 Q57.7745 1251.17 59.58 1254.74 Q61.4087 1258.28 65.0198 1258.28 Q68.6541 1258.28 70.4596 1254.74 Q72.2883 1251.17 72.2883 1244.07 Q72.2883 1236.94 70.4596 1233.4 Q68.6541 1229.83 65.0198 1229.83 M65.0198 1226.13 Q70.83 1226.13 73.8855 1230.73 Q76.9642 1235.32 76.9642 1244.07 Q76.9642 1252.79 73.8855 1257.4 Q70.83 1261.98 65.0198 1261.98 Q59.2097 1261.98 56.131 1257.4 Q53.0754 1252.79 53.0754 1244.07 Q53.0754 1235.32 56.131 1230.73 Q59.2097 1226.13 65.0198 1226.13 Z\" fill=\"#000000\" fill-rule=\"evenodd\" fill-opacity=\"1\" /><path clip-path=\"url(#clip200)\" d=\"M 0 0 M85.1818 1255.43 L90.066 1255.43 L90.066 1261.31 L85.1818 1261.31 L85.1818 1255.43 Z\" fill=\"#000000\" fill-rule=\"evenodd\" fill-opacity=\"1\" /><path clip-path=\"url(#clip200)\" d=\"M 0 0 M104.279 1257.38 L120.598 1257.38 L120.598 1261.31 L98.6539 1261.31 L98.6539 1257.38 Q101.316 1254.62 105.899 1249.99 Q110.506 1245.34 111.686 1244 Q113.932 1241.47 114.811 1239.74 Q115.714 1237.98 115.714 1236.29 Q115.714 1233.53 113.77 1231.8 Q111.848 1230.06 108.746 1230.06 Q106.547 1230.06 104.094 1230.83 Q101.663 1231.59 98.8854 1233.14 L98.8854 1228.42 Q101.709 1227.28 104.163 1226.71 Q106.617 1226.13 108.654 1226.13 Q114.024 1226.13 117.219 1228.81 Q120.413 1231.5 120.413 1235.99 Q120.413 1238.12 119.603 1240.04 Q118.816 1241.94 116.709 1244.53 Q116.131 1245.2 113.029 1248.42 Q109.927 1251.61 104.279 1257.38 Z\" fill=\"#000000\" fill-rule=\"evenodd\" fill-opacity=\"1\" /><path clip-path=\"url(#clip200)\" d=\"M 0 0 M62.9365 949.266 Q59.3254 949.266 57.4967 952.831 Q55.6912 956.372 55.6912 963.502 Q55.6912 970.608 57.4967 974.173 Q59.3254 977.715 62.9365 977.715 Q66.5707 977.715 68.3763 974.173 Q70.205 970.608 70.205 963.502 Q70.205 956.372 68.3763 952.831 Q66.5707 949.266 62.9365 949.266 M62.9365 945.562 Q68.7467 945.562 71.8022 950.169 Q74.8809 954.752 74.8809 963.502 Q74.8809 972.229 71.8022 976.835 Q68.7467 981.418 62.9365 981.418 Q57.1264 981.418 54.0477 976.835 Q50.9921 972.229 50.9921 963.502 Q50.9921 954.752 54.0477 950.169 Q57.1264 945.562 62.9365 945.562 Z\" fill=\"#000000\" fill-rule=\"evenodd\" fill-opacity=\"1\" /><path clip-path=\"url(#clip200)\" d=\"M 0 0 M83.0984 974.868 L87.9827 974.868 L87.9827 980.747 L83.0984 980.747 L83.0984 974.868 Z\" fill=\"#000000\" fill-rule=\"evenodd\" fill-opacity=\"1\" /><path clip-path=\"url(#clip200)\" d=\"M 0 0 M111.015 950.261 L99.2095 968.71 L111.015 968.71 L111.015 950.261 M109.788 946.187 L115.668 946.187 L115.668 968.71 L120.598 968.71 L120.598 972.599 L115.668 972.599 L115.668 980.747 L111.015 980.747 L111.015 972.599 L95.4132 972.599 L95.4132 968.085 L109.788 946.187 Z\" fill=\"#000000\" fill-rule=\"evenodd\" fill-opacity=\"1\" /><path clip-path=\"url(#clip200)\" d=\"M 0 0 M63.2606 668.701 Q59.6495 668.701 57.8208 672.266 Q56.0152 675.807 56.0152 682.937 Q56.0152 690.043 57.8208 693.608 Q59.6495 697.15 63.2606 697.15 Q66.8948 697.15 68.7004 693.608 Q70.5291 690.043 70.5291 682.937 Q70.5291 675.807 68.7004 672.266 Q66.8948 668.701 63.2606 668.701 M63.2606 664.997 Q69.0707 664.997 72.1263 669.604 Q75.205 674.187 75.205 682.937 Q75.205 691.664 72.1263 696.27 Q69.0707 700.853 63.2606 700.853 Q57.4504 700.853 54.3717 696.27 Q51.3162 691.664 51.3162 682.937 Q51.3162 674.187 54.3717 669.604 Q57.4504 664.997 63.2606 664.997 Z\" fill=\"#000000\" fill-rule=\"evenodd\" fill-opacity=\"1\" /><path clip-path=\"url(#clip200)\" d=\"M 0 0 M83.4225 694.303 L88.3067 694.303 L88.3067 700.182 L83.4225 700.182 L83.4225 694.303 Z\" fill=\"#000000\" fill-rule=\"evenodd\" fill-opacity=\"1\" /><path clip-path=\"url(#clip200)\" d=\"M 0 0 M109.071 681.039 Q105.922 681.039 104.071 683.191 Q102.242 685.344 102.242 689.094 Q102.242 692.821 104.071 694.997 Q105.922 697.15 109.071 697.15 Q112.219 697.15 114.047 694.997 Q115.899 692.821 115.899 689.094 Q115.899 685.344 114.047 683.191 Q112.219 681.039 109.071 681.039 M118.353 666.386 L118.353 670.645 Q116.594 669.812 114.788 669.372 Q113.006 668.932 111.246 668.932 Q106.617 668.932 104.163 672.057 Q101.733 675.182 101.385 681.502 Q102.751 679.488 104.811 678.423 Q106.871 677.335 109.348 677.335 Q114.557 677.335 117.566 680.506 Q120.598 683.654 120.598 689.094 Q120.598 694.418 117.45 697.636 Q114.302 700.853 109.071 700.853 Q103.075 700.853 99.9039 696.27 Q96.7326 691.664 96.7326 682.937 Q96.7326 674.742 100.621 669.881 Q104.51 664.997 111.061 664.997 Q112.82 664.997 114.603 665.344 Q116.408 665.692 118.353 666.386 Z\" fill=\"#000000\" fill-rule=\"evenodd\" fill-opacity=\"1\" /><path clip-path=\"url(#clip200)\" d=\"M 0 0 M63.5152 388.136 Q59.9041 388.136 58.0754 391.701 Q56.2699 395.242 56.2699 402.372 Q56.2699 409.478 58.0754 413.043 Q59.9041 416.585 63.5152 416.585 Q67.1494 416.585 68.955 413.043 Q70.7837 409.478 70.7837 402.372 Q70.7837 395.242 68.955 391.701 Q67.1494 388.136 63.5152 388.136 M63.5152 384.432 Q69.3254 384.432 72.3809 389.039 Q75.4596 393.622 75.4596 402.372 Q75.4596 411.099 72.3809 415.705 Q69.3254 420.288 63.5152 420.288 Q57.7051 420.288 54.6264 415.705 Q51.5708 411.099 51.5708 402.372 Q51.5708 393.622 54.6264 389.039 Q57.7051 384.432 63.5152 384.432 Z\" fill=\"#000000\" fill-rule=\"evenodd\" fill-opacity=\"1\" /><path clip-path=\"url(#clip200)\" d=\"M 0 0 M83.6771 413.737 L88.5614 413.737 L88.5614 419.617 L83.6771 419.617 L83.6771 413.737 Z\" fill=\"#000000\" fill-rule=\"evenodd\" fill-opacity=\"1\" /><path clip-path=\"url(#clip200)\" d=\"M 0 0 M108.746 403.205 Q105.413 403.205 103.492 404.988 Q101.594 406.77 101.594 409.895 Q101.594 413.02 103.492 414.802 Q105.413 416.585 108.746 416.585 Q112.08 416.585 114.001 414.802 Q115.922 412.997 115.922 409.895 Q115.922 406.77 114.001 404.988 Q112.103 403.205 108.746 403.205 M104.071 401.214 Q101.061 400.474 99.3715 398.414 Q97.7048 396.353 97.7048 393.39 Q97.7048 389.247 100.645 386.839 Q103.608 384.432 108.746 384.432 Q113.908 384.432 116.848 386.839 Q119.788 389.247 119.788 393.39 Q119.788 396.353 118.098 398.414 Q116.432 400.474 113.445 401.214 Q116.825 402.001 118.7 404.293 Q120.598 406.585 120.598 409.895 Q120.598 414.918 117.52 417.603 Q114.464 420.288 108.746 420.288 Q103.029 420.288 99.9502 417.603 Q96.8947 414.918 96.8947 409.895 Q96.8947 406.585 98.7928 404.293 Q100.691 402.001 104.071 401.214 M102.358 393.83 Q102.358 396.515 104.024 398.02 Q105.714 399.525 108.746 399.525 Q111.756 399.525 113.445 398.02 Q115.158 396.515 115.158 393.83 Q115.158 391.145 113.445 389.64 Q111.756 388.136 108.746 388.136 Q105.714 388.136 104.024 389.64 Q102.358 391.145 102.358 393.83 Z\" fill=\"#000000\" fill-rule=\"evenodd\" fill-opacity=\"1\" /><path clip-path=\"url(#clip200)\" d=\"M 0 0 M1057.56 12.096 L1108.72 12.096 L1108.72 18.9825 L1087.25 18.9825 L1087.25 72.576 L1079.03 72.576 L1079.03 18.9825 L1057.56 18.9825 L1057.56 12.096 Z\" fill=\"#000000\" fill-rule=\"evenodd\" fill-opacity=\"1\" /><path clip-path=\"url(#clip200)\" d=\"M 0 0 M1098.23 27.2059 L1105.68 27.2059 L1115 62.6108 L1124.28 27.2059 L1133.07 27.2059 L1142.39 62.6108 L1151.66 27.2059 L1159.12 27.2059 L1147.25 72.576 L1138.46 72.576 L1128.69 35.3887 L1118.89 72.576 L1110.1 72.576 L1098.23 27.2059 Z\" fill=\"#000000\" fill-rule=\"evenodd\" fill-opacity=\"1\" /><path clip-path=\"url(#clip200)\" d=\"M 0 0 M1188 32.4315 Q1182 32.4315 1178.52 37.1306 Q1175.04 41.7891 1175.04 49.9314 Q1175.04 58.0738 1178.48 62.7728 Q1181.96 67.4314 1188 67.4314 Q1193.95 67.4314 1197.44 62.7323 Q1200.92 58.0333 1200.92 49.9314 Q1200.92 41.8701 1197.44 37.1711 Q1193.95 32.4315 1188 32.4315 M1188 26.1121 Q1197.72 26.1121 1203.27 32.4315 Q1208.82 38.7509 1208.82 49.9314 Q1208.82 61.0714 1203.27 67.4314 Q1197.72 73.7508 1188 73.7508 Q1178.24 73.7508 1172.69 67.4314 Q1167.18 61.0714 1167.18 49.9314 Q1167.18 38.7509 1172.69 32.4315 Q1178.24 26.1121 1188 26.1121 Z\" fill=\"#000000\" fill-rule=\"evenodd\" fill-opacity=\"1\" /><path clip-path=\"url(#clip200)\" d=\"M 0 0 M1247.87 12.096 L1256.05 12.096 L1256.05 65.6895 L1285.5 65.6895 L1285.5 72.576 L1247.87 72.576 L1247.87 12.096 Z\" fill=\"#000000\" fill-rule=\"evenodd\" fill-opacity=\"1\" /><path clip-path=\"url(#clip200)\" d=\"M 0 0 M1293.77 27.2059 L1301.22 27.2059 L1301.22 72.576 L1293.77 72.576 L1293.77 27.2059 M1293.77 9.54393 L1301.22 9.54393 L1301.22 18.9825 L1293.77 18.9825 L1293.77 9.54393 Z\" fill=\"#000000\" fill-rule=\"evenodd\" fill-opacity=\"1\" /><path clip-path=\"url(#clip200)\" d=\"M 0 0 M1354.53 45.1919 L1354.53 72.576 L1347.08 72.576 L1347.08 45.4349 Q1347.08 38.994 1344.57 35.7938 Q1342.06 32.5936 1337.03 32.5936 Q1331 32.5936 1327.51 36.4419 Q1324.03 40.2903 1324.03 46.9338 L1324.03 72.576 L1316.53 72.576 L1316.53 27.2059 L1324.03 27.2059 L1324.03 34.2544 Q1326.7 30.163 1330.31 28.1376 Q1333.95 26.1121 1338.69 26.1121 Q1346.51 26.1121 1350.52 30.9732 Q1354.53 35.7938 1354.53 45.1919 Z\" fill=\"#000000\" fill-rule=\"evenodd\" fill-opacity=\"1\" /><path clip-path=\"url(#clip200)\" d=\"M 0 0 M1408.21 48.0275 L1408.21 51.6733 L1373.94 51.6733 Q1374.42 59.3701 1378.55 63.421 Q1382.73 67.4314 1390.14 67.4314 Q1394.43 67.4314 1398.44 66.3781 Q1402.49 65.3249 1406.46 63.2184 L1406.46 70.267 Q1402.45 71.9684 1398.24 72.8596 Q1394.03 73.7508 1389.69 73.7508 Q1378.84 73.7508 1372.48 67.4314 Q1366.16 61.1119 1366.16 50.3365 Q1366.16 39.1965 1372.15 32.6746 Q1378.19 26.1121 1388.4 26.1121 Q1397.55 26.1121 1402.86 32.0264 Q1408.21 37.9003 1408.21 48.0275 M1400.75 45.84 Q1400.67 39.7232 1397.31 36.0774 Q1393.99 32.4315 1388.48 32.4315 Q1382.24 32.4315 1378.47 35.9558 Q1374.75 39.4801 1374.18 45.8805 L1400.75 45.84 Z\" fill=\"#000000\" fill-rule=\"evenodd\" fill-opacity=\"1\" /><path clip-path=\"url(#clip200)\" d=\"M 0 0 M1449.36 28.5427 L1449.36 35.5912 Q1446.2 33.9709 1442.8 33.1607 Q1439.4 32.3505 1435.75 32.3505 Q1430.2 32.3505 1427.41 34.0519 Q1424.65 35.7533 1424.65 39.156 Q1424.65 41.7486 1426.64 43.2475 Q1428.62 44.7058 1434.62 46.0426 L1437.17 46.6097 Q1445.11 48.3111 1448.43 51.4303 Q1451.79 54.509 1451.79 60.0587 Q1451.79 66.3781 1446.77 70.0644 Q1441.79 73.7508 1433.04 73.7508 Q1429.39 73.7508 1425.42 73.0216 Q1421.49 72.3329 1417.12 70.9151 L1417.12 63.2184 Q1421.25 65.3654 1425.26 66.4591 Q1429.27 67.5124 1433.2 67.5124 Q1438.47 67.5124 1441.3 65.73 Q1444.14 63.9071 1444.14 60.6258 Q1444.14 57.5877 1442.07 55.9673 Q1440.05 54.3469 1433.12 52.8481 L1430.53 52.2405 Q1423.6 50.7821 1420.52 47.7845 Q1417.44 44.7463 1417.44 39.4801 Q1417.44 33.0797 1421.98 29.5959 Q1426.52 26.1121 1434.86 26.1121 Q1438.99 26.1121 1442.64 26.7198 Q1446.28 27.3274 1449.36 28.5427 Z\" fill=\"#000000\" fill-rule=\"evenodd\" fill-opacity=\"1\" /><polyline clip-path=\"url(#clip202)\" style=\"stroke:#009af9; stroke-width:12; stroke-opacity:1; fill:none\" points=\"\n",
       "  218.754,672.809 448.959,804.026 679.164,1418.84 909.369,523.851 1139.57,1427.34 1369.78,291.165 1599.98,1447.87 1830.19,1121.26 2060.4,162.047 2290.6,794.294 \n",
       "  \n",
       "  \"/>\n",
       "<polyline clip-path=\"url(#clip202)\" style=\"stroke:#e26f46; stroke-width:12; stroke-opacity:1; fill:none\" points=\"\n",
       "  218.754,465.04 448.959,466.348 679.164,288.471 909.369,1421.24 1139.57,710.447 1369.78,1123.33 1599.98,658.857 1830.19,856.561 2060.4,547.72 2290.6,622.21 \n",
       "  \n",
       "  \"/>\n",
       "<path clip-path=\"url(#clip200)\" d=\"\n",
       "M1900.53 350.345 L2279.55 350.345 L2279.55 168.905 L1900.53 168.905  Z\n",
       "  \" fill=\"#ffffff\" fill-rule=\"evenodd\" fill-opacity=\"1\"/>\n",
       "<polyline clip-path=\"url(#clip200)\" style=\"stroke:#000000; stroke-width:4; stroke-opacity:1; fill:none\" points=\"\n",
       "  1900.53,350.345 2279.55,350.345 2279.55,168.905 1900.53,168.905 1900.53,350.345 \n",
       "  \"/>\n",
       "<polyline clip-path=\"url(#clip200)\" style=\"stroke:#009af9; stroke-width:4; stroke-opacity:1; fill:none\" points=\"\n",
       "  1924.94,229.385 2071.35,229.385 \n",
       "  \"/>\n",
       "<path clip-path=\"url(#clip200)\" d=\"M 0 0 M2095.75 212.105 L2100.42 212.105 L2100.42 242.729 L2117.25 242.729 L2117.25 246.665 L2095.75 246.665 L2095.75 212.105 Z\" fill=\"#000000\" fill-rule=\"evenodd\" fill-opacity=\"1\" /><path clip-path=\"url(#clip200)\" d=\"M 0 0 M2121.97 220.739 L2126.23 220.739 L2126.23 246.665 L2121.97 246.665 L2121.97 220.739 M2121.97 210.646 L2126.23 210.646 L2126.23 216.04 L2121.97 216.04 L2121.97 210.646 Z\" fill=\"#000000\" fill-rule=\"evenodd\" fill-opacity=\"1\" /><path clip-path=\"url(#clip200)\" d=\"M 0 0 M2156.7 231.017 L2156.7 246.665 L2152.44 246.665 L2152.44 231.155 Q2152.44 227.475 2151 225.646 Q2149.57 223.818 2146.7 223.818 Q2143.25 223.818 2141.26 226.017 Q2139.27 228.216 2139.27 232.012 L2139.27 246.665 L2134.98 246.665 L2134.98 220.739 L2139.27 220.739 L2139.27 224.767 Q2140.79 222.429 2142.85 221.271 Q2144.94 220.114 2147.65 220.114 Q2152.11 220.114 2154.4 222.892 Q2156.7 225.646 2156.7 231.017 Z\" fill=\"#000000\" fill-rule=\"evenodd\" fill-opacity=\"1\" /><path clip-path=\"url(#clip200)\" d=\"M 0 0 M2187.37 232.637 L2187.37 234.72 L2167.78 234.72 Q2168.06 239.118 2170.42 241.433 Q2172.81 243.725 2177.04 243.725 Q2179.5 243.725 2181.79 243.123 Q2184.1 242.521 2186.37 241.317 L2186.37 245.345 Q2184.08 246.317 2181.67 246.827 Q2179.27 247.336 2176.79 247.336 Q2170.59 247.336 2166.95 243.725 Q2163.34 240.114 2163.34 233.956 Q2163.34 227.591 2166.77 223.864 Q2170.22 220.114 2176.05 220.114 Q2181.28 220.114 2184.31 223.493 Q2187.37 226.85 2187.37 232.637 M2183.11 231.387 Q2183.06 227.892 2181.14 225.808 Q2179.24 223.725 2176.09 223.725 Q2172.53 223.725 2170.38 225.739 Q2168.25 227.753 2167.92 231.41 L2183.11 231.387 Z\" fill=\"#000000\" fill-rule=\"evenodd\" fill-opacity=\"1\" /><path clip-path=\"url(#clip200)\" d=\"M 0 0 M2210.84 242.729 L2218.48 242.729 L2218.48 216.364 L2210.17 218.031 L2210.17 213.771 L2218.43 212.105 L2223.11 212.105 L2223.11 242.729 L2230.75 242.729 L2230.75 246.665 L2210.84 246.665 L2210.84 242.729 Z\" fill=\"#000000\" fill-rule=\"evenodd\" fill-opacity=\"1\" /><polyline clip-path=\"url(#clip200)\" style=\"stroke:#e26f46; stroke-width:4; stroke-opacity:1; fill:none\" points=\"\n",
       "  1924.94,289.865 2071.35,289.865 \n",
       "  \"/>\n",
       "<path clip-path=\"url(#clip200)\" d=\"M 0 0 M2095.75 272.585 L2100.42 272.585 L2100.42 303.209 L2117.25 303.209 L2117.25 307.145 L2095.75 307.145 L2095.75 272.585 Z\" fill=\"#000000\" fill-rule=\"evenodd\" fill-opacity=\"1\" /><path clip-path=\"url(#clip200)\" d=\"M 0 0 M2121.97 281.219 L2126.23 281.219 L2126.23 307.145 L2121.97 307.145 L2121.97 281.219 M2121.97 271.126 L2126.23 271.126 L2126.23 276.52 L2121.97 276.52 L2121.97 271.126 Z\" fill=\"#000000\" fill-rule=\"evenodd\" fill-opacity=\"1\" /><path clip-path=\"url(#clip200)\" d=\"M 0 0 M2156.7 291.497 L2156.7 307.145 L2152.44 307.145 L2152.44 291.635 Q2152.44 287.955 2151 286.126 Q2149.57 284.298 2146.7 284.298 Q2143.25 284.298 2141.26 286.497 Q2139.27 288.696 2139.27 292.492 L2139.27 307.145 L2134.98 307.145 L2134.98 281.219 L2139.27 281.219 L2139.27 285.247 Q2140.79 282.909 2142.85 281.751 Q2144.94 280.594 2147.65 280.594 Q2152.11 280.594 2154.4 283.372 Q2156.7 286.126 2156.7 291.497 Z\" fill=\"#000000\" fill-rule=\"evenodd\" fill-opacity=\"1\" /><path clip-path=\"url(#clip200)\" d=\"M 0 0 M2187.37 293.117 L2187.37 295.2 L2167.78 295.2 Q2168.06 299.598 2170.42 301.913 Q2172.81 304.205 2177.04 304.205 Q2179.5 304.205 2181.79 303.603 Q2184.1 303.001 2186.37 301.797 L2186.37 305.825 Q2184.08 306.797 2181.67 307.307 Q2179.27 307.816 2176.79 307.816 Q2170.59 307.816 2166.95 304.205 Q2163.34 300.594 2163.34 294.436 Q2163.34 288.071 2166.77 284.344 Q2170.22 280.594 2176.05 280.594 Q2181.28 280.594 2184.31 283.973 Q2187.37 287.33 2187.37 293.117 M2183.11 291.867 Q2183.06 288.372 2181.14 286.288 Q2179.24 284.205 2176.09 284.205 Q2172.53 284.205 2170.38 286.219 Q2168.25 288.233 2167.92 291.89 L2183.11 291.867 Z\" fill=\"#000000\" fill-rule=\"evenodd\" fill-opacity=\"1\" /><path clip-path=\"url(#clip200)\" d=\"M 0 0 M2214.06 303.209 L2230.38 303.209 L2230.38 307.145 L2208.43 307.145 L2208.43 303.209 Q2211.09 300.455 2215.68 295.825 Q2220.28 291.173 2221.46 289.83 Q2223.71 287.307 2224.59 285.571 Q2225.49 283.811 2225.49 282.122 Q2225.49 279.367 2223.55 277.631 Q2221.63 275.895 2218.52 275.895 Q2216.33 275.895 2213.87 276.659 Q2211.44 277.423 2208.66 278.974 L2208.66 274.251 Q2211.49 273.117 2213.94 272.538 Q2216.4 271.96 2218.43 271.96 Q2223.8 271.96 2227 274.645 Q2230.19 277.33 2230.19 281.821 Q2230.19 283.95 2229.38 285.872 Q2228.59 287.77 2226.49 290.362 Q2225.91 291.034 2222.81 294.251 Q2219.71 297.446 2214.06 303.209 Z\" fill=\"#000000\" fill-rule=\"evenodd\" fill-opacity=\"1\" /></svg>\n"
      ]
     },
     "execution_count": 593,
     "metadata": {},
     "output_type": "execute_result"
    }
   ],
   "source": [
    "x = 1:10\n",
    "y = rand(10, 2)\n",
    "\n",
    "plot(x, y, title = \"Two Lines\", label = [\"Line 1\" \"Line 2\"], lw = 3)"
   ]
  },
  {
   "cell_type": "markdown",
   "id": "4fdbcfab",
   "metadata": {
    "slideshow": {
     "slide_type": "slide"
    }
   },
   "source": [
    "# Selecting different the plotting backends\n",
    "\n",
    "Plot.jl uses a default backend for plotting \n",
    "\n",
    "- GR (fast)\n",
    "- Plotly (interactive)\n",
    "- Pyplot \n",
    "- etc"
   ]
  },
  {
   "cell_type": "markdown",
   "id": "6819d8e8",
   "metadata": {
    "slideshow": {
     "slide_type": "fragment"
    }
   },
   "source": [
    "#### Changing the plotting backend\n",
    "\n",
    "\n",
    "Switch to interactive plotting:"
   ]
  },
  {
   "cell_type": "code",
   "execution_count": 537,
   "id": "d672f187",
   "metadata": {
    "slideshow": {
     "slide_type": "fragment"
    }
   },
   "outputs": [
    {
     "data": {
      "text/plain": [
       "Plots.PlotlyBackend()"
      ]
     },
     "execution_count": 537,
     "metadata": {},
     "output_type": "execute_result"
    }
   ],
   "source": [
    "plotly() "
   ]
  },
  {
   "cell_type": "code",
   "execution_count": 538,
   "id": "691711f2",
   "metadata": {
    "slideshow": {
     "slide_type": "slide"
    }
   },
   "outputs": [
    {
     "data": {
      "application/vnd.plotly.v1+json": {
       "data": [
        {
         "colorbar": {
          "title": ""
         },
         "legendgroup": "Line 1",
         "line": {
          "color": "rgba(0, 154, 250, 1.000)",
          "dash": "solid",
          "shape": "linear",
          "width": 3
         },
         "mode": "lines",
         "name": "Line 1",
         "showlegend": true,
         "type": "scatter",
         "x": [
          1,
          2,
          3,
          4,
          5,
          6,
          7,
          8,
          9,
          10
         ],
         "xaxis": "x",
         "y": [
          0.9750392110098391,
          0.2963800627610902,
          0.04324152302918294,
          0.6803276511725826,
          0.06044371849834529,
          0.16060917084616455,
          0.3408346225296679,
          0.5767626579507812,
          0.9258600135570558,
          0.10371497595593948
         ],
         "yaxis": "y",
         "zmax": null,
         "zmin": null
        },
        {
         "colorbar": {
          "title": ""
         },
         "legendgroup": "Line 2",
         "line": {
          "color": "rgba(227, 111, 71, 1.000)",
          "dash": "solid",
          "shape": "linear",
          "width": 3
         },
         "mode": "lines",
         "name": "Line 2",
         "showlegend": true,
         "type": "scatter",
         "x": [
          1,
          2,
          3,
          4,
          5,
          6,
          7,
          8,
          9,
          10
         ],
         "xaxis": "x",
         "y": [
          0.41713760055038573,
          0.882245733101281,
          0.5348289218804452,
          0.021748762013871437,
          0.8953633087099926,
          0.018067319374338142,
          0.4868139468696504,
          0.3008569236681604,
          0.1133219005510715,
          0.17761389238488068
         ],
         "yaxis": "y",
         "zmax": null,
         "zmin": null
        }
       ],
       "layout": {
        "annotations": [
         {
          "font": {
           "color": "rgba(0, 0, 0, 1.000)",
           "family": "sans-serif",
           "size": 20
          },
          "rotation": 0,
          "showarrow": false,
          "text": "Two Lines",
          "x": 0.5296296296296296,
          "xanchor": "center",
          "xref": "paper",
          "y": 1,
          "yanchor": "top",
          "yref": "paper"
         }
        ],
        "height": 400,
        "legend": {
         "bgcolor": "rgba(255, 255, 255, 1.000)",
         "bordercolor": "rgba(0, 0, 0, 1.000)",
         "borderwidth": 1,
         "font": {
          "color": "rgba(0, 0, 0, 1.000)",
          "family": "sans-serif",
          "size": 11
         },
         "title": {
          "font": {
           "color": "rgba(0, 0, 0, 1.000)",
           "family": "sans-serif",
           "size": 15
          },
          "text": ""
         },
         "tracegroupgap": 0,
         "traceorder": "normal",
         "x": 1,
         "xanchor": "auto",
         "y": 1,
         "yanchor": "auto"
        },
        "margin": {
         "b": 20,
         "l": 0,
         "r": 0,
         "t": 20
        },
        "paper_bgcolor": "rgba(255, 255, 255, 1.000)",
        "plot_bgcolor": "rgba(255, 255, 255, 1.000)",
        "showlegend": true,
        "width": 600,
        "xaxis": {
         "anchor": "y",
         "domain": [
          0.0658209390492855,
          0.9934383202099738
         ],
         "gridcolor": "rgba(0, 0, 0, 0.100)",
         "gridwidth": 0.5,
         "linecolor": "rgba(0, 0, 0, 1.000)",
         "mirror": false,
         "range": [
          0.73,
          10.27
         ],
         "showgrid": true,
         "showline": true,
         "showticklabels": true,
         "tickangle": 0,
         "tickcolor": "rgb(0, 0, 0)",
         "tickfont": {
          "color": "rgba(0, 0, 0, 1.000)",
          "family": "sans-serif",
          "size": 11
         },
         "tickmode": "array",
         "ticks": "inside",
         "ticktext": [
          "2",
          "4",
          "6",
          "8",
          "10"
         ],
         "tickvals": [
          2,
          4,
          6,
          8,
          10
         ],
         "title": "",
         "titlefont": {
          "color": "rgba(0, 0, 0, 1.000)",
          "family": "sans-serif",
          "size": 15
         },
         "type": "-",
         "visible": true,
         "zeroline": false,
         "zerolinecolor": "rgba(0, 0, 0, 1.000)"
        },
        "yaxis": {
         "anchor": "x",
         "domain": [
          0.03762029746281716,
          0.9415463692038496
         ],
         "gridcolor": "rgba(0, 0, 0, 0.100)",
         "gridwidth": 0.5,
         "linecolor": "rgba(0, 0, 0, 1.000)",
         "mirror": false,
         "range": [
          -0.010641837374726886,
          1.003748367758904
         ],
         "showgrid": true,
         "showline": true,
         "showticklabels": true,
         "tickangle": 0,
         "tickcolor": "rgb(0, 0, 0)",
         "tickfont": {
          "color": "rgba(0, 0, 0, 1.000)",
          "family": "sans-serif",
          "size": 11
         },
         "tickmode": "array",
         "ticks": "inside",
         "ticktext": [
          "0.00",
          "0.25",
          "0.50",
          "0.75",
          "1.00"
         ],
         "tickvals": [
          0,
          0.25,
          0.5,
          0.75,
          1
         ],
         "title": "",
         "titlefont": {
          "color": "rgba(0, 0, 0, 1.000)",
          "family": "sans-serif",
          "size": 15
         },
         "type": "-",
         "visible": true,
         "zeroline": false,
         "zerolinecolor": "rgba(0, 0, 0, 1.000)"
        }
       }
      },
      "text/html": [
       "<!DOCTYPE html>\n",
       "<html>\n",
       "    <head>\n",
       "        <title>Plots.jl</title>\n",
       "        <meta http-equiv=\"content-type\" content=\"text/html; charset=UTF-8\">\n",
       "        \n",
       "    </head>\n",
       "    <body>\n",
       "            <div id=\"b0ce9fd6-2a72-454e-b416-49639df112b8\" style=\"width:600px;height:400px;\"></div>\n",
       "    <script>\n",
       "        requirejs.config({\n",
       "        paths: {\n",
       "            Plotly: 'https://cdn.plot.ly/plotly-1.57.1.min'\n",
       "        }\n",
       "    });\n",
       "    require(['Plotly'], function (Plotly) {\n",
       "\n",
       "    PLOT = document.getElementById('b0ce9fd6-2a72-454e-b416-49639df112b8');\n",
       "    Plotly.plot(PLOT, [\n",
       "    {\n",
       "        \"xaxis\": \"x\",\n",
       "        \"colorbar\": {\n",
       "            \"title\": \"\"\n",
       "        },\n",
       "        \"yaxis\": \"y\",\n",
       "        \"x\": [\n",
       "            1,\n",
       "            2,\n",
       "            3,\n",
       "            4,\n",
       "            5,\n",
       "            6,\n",
       "            7,\n",
       "            8,\n",
       "            9,\n",
       "            10\n",
       "        ],\n",
       "        \"showlegend\": true,\n",
       "        \"mode\": \"lines\",\n",
       "        \"name\": \"Line 1\",\n",
       "        \"zmin\": null,\n",
       "        \"legendgroup\": \"Line 1\",\n",
       "        \"zmax\": null,\n",
       "        \"line\": {\n",
       "            \"color\": \"rgba(0, 154, 250, 1.000)\",\n",
       "            \"shape\": \"linear\",\n",
       "            \"dash\": \"solid\",\n",
       "            \"width\": 3\n",
       "        },\n",
       "        \"y\": [\n",
       "            0.9750392110098391,\n",
       "            0.2963800627610902,\n",
       "            0.04324152302918294,\n",
       "            0.6803276511725826,\n",
       "            0.06044371849834529,\n",
       "            0.16060917084616455,\n",
       "            0.3408346225296679,\n",
       "            0.5767626579507812,\n",
       "            0.9258600135570558,\n",
       "            0.10371497595593948\n",
       "        ],\n",
       "        \"type\": \"scatter\"\n",
       "    },\n",
       "    {\n",
       "        \"xaxis\": \"x\",\n",
       "        \"colorbar\": {\n",
       "            \"title\": \"\"\n",
       "        },\n",
       "        \"yaxis\": \"y\",\n",
       "        \"x\": [\n",
       "            1,\n",
       "            2,\n",
       "            3,\n",
       "            4,\n",
       "            5,\n",
       "            6,\n",
       "            7,\n",
       "            8,\n",
       "            9,\n",
       "            10\n",
       "        ],\n",
       "        \"showlegend\": true,\n",
       "        \"mode\": \"lines\",\n",
       "        \"name\": \"Line 2\",\n",
       "        \"zmin\": null,\n",
       "        \"legendgroup\": \"Line 2\",\n",
       "        \"zmax\": null,\n",
       "        \"line\": {\n",
       "            \"color\": \"rgba(227, 111, 71, 1.000)\",\n",
       "            \"shape\": \"linear\",\n",
       "            \"dash\": \"solid\",\n",
       "            \"width\": 3\n",
       "        },\n",
       "        \"y\": [\n",
       "            0.41713760055038573,\n",
       "            0.882245733101281,\n",
       "            0.5348289218804452,\n",
       "            0.021748762013871437,\n",
       "            0.8953633087099926,\n",
       "            0.018067319374338142,\n",
       "            0.4868139468696504,\n",
       "            0.3008569236681604,\n",
       "            0.1133219005510715,\n",
       "            0.17761389238488068\n",
       "        ],\n",
       "        \"type\": \"scatter\"\n",
       "    }\n",
       "]\n",
       ", {\n",
       "    \"showlegend\": true,\n",
       "    \"xaxis\": {\n",
       "        \"showticklabels\": true,\n",
       "        \"gridwidth\": 0.5,\n",
       "        \"tickvals\": [\n",
       "            2.0,\n",
       "            4.0,\n",
       "            6.0,\n",
       "            8.0,\n",
       "            10.0\n",
       "        ],\n",
       "        \"range\": [\n",
       "            0.73,\n",
       "            10.27\n",
       "        ],\n",
       "        \"domain\": [\n",
       "            0.0658209390492855,\n",
       "            0.9934383202099738\n",
       "        ],\n",
       "        \"mirror\": false,\n",
       "        \"tickangle\": 0,\n",
       "        \"showline\": true,\n",
       "        \"ticktext\": [\n",
       "            \"2\",\n",
       "            \"4\",\n",
       "            \"6\",\n",
       "            \"8\",\n",
       "            \"10\"\n",
       "        ],\n",
       "        \"zeroline\": false,\n",
       "        \"tickfont\": {\n",
       "            \"color\": \"rgba(0, 0, 0, 1.000)\",\n",
       "            \"family\": \"sans-serif\",\n",
       "            \"size\": 11\n",
       "        },\n",
       "        \"zerolinecolor\": \"rgba(0, 0, 0, 1.000)\",\n",
       "        \"anchor\": \"y\",\n",
       "        \"visible\": true,\n",
       "        \"ticks\": \"inside\",\n",
       "        \"tickmode\": \"array\",\n",
       "        \"linecolor\": \"rgba(0, 0, 0, 1.000)\",\n",
       "        \"showgrid\": true,\n",
       "        \"title\": \"\",\n",
       "        \"gridcolor\": \"rgba(0, 0, 0, 0.100)\",\n",
       "        \"titlefont\": {\n",
       "            \"color\": \"rgba(0, 0, 0, 1.000)\",\n",
       "            \"family\": \"sans-serif\",\n",
       "            \"size\": 15\n",
       "        },\n",
       "        \"tickcolor\": \"rgb(0, 0, 0)\",\n",
       "        \"type\": \"-\"\n",
       "    },\n",
       "    \"paper_bgcolor\": \"rgba(255, 255, 255, 1.000)\",\n",
       "    \"annotations\": [\n",
       "        {\n",
       "            \"yanchor\": \"top\",\n",
       "            \"xanchor\": \"center\",\n",
       "            \"rotation\": -0.0,\n",
       "            \"y\": 1.0,\n",
       "            \"font\": {\n",
       "                \"color\": \"rgba(0, 0, 0, 1.000)\",\n",
       "                \"family\": \"sans-serif\",\n",
       "                \"size\": 20\n",
       "            },\n",
       "            \"yref\": \"paper\",\n",
       "            \"showarrow\": false,\n",
       "            \"text\": \"Two Lines\",\n",
       "            \"xref\": \"paper\",\n",
       "            \"x\": 0.5296296296296296\n",
       "        }\n",
       "    ],\n",
       "    \"height\": 400,\n",
       "    \"margin\": {\n",
       "        \"l\": 0,\n",
       "        \"b\": 20,\n",
       "        \"r\": 0,\n",
       "        \"t\": 20\n",
       "    },\n",
       "    \"plot_bgcolor\": \"rgba(255, 255, 255, 1.000)\",\n",
       "    \"yaxis\": {\n",
       "        \"showticklabels\": true,\n",
       "        \"gridwidth\": 0.5,\n",
       "        \"tickvals\": [\n",
       "            0.0,\n",
       "            0.25,\n",
       "            0.5,\n",
       "            0.75,\n",
       "            1.0\n",
       "        ],\n",
       "        \"range\": [\n",
       "            -0.010641837374726886,\n",
       "            1.003748367758904\n",
       "        ],\n",
       "        \"domain\": [\n",
       "            0.03762029746281716,\n",
       "            0.9415463692038496\n",
       "        ],\n",
       "        \"mirror\": false,\n",
       "        \"tickangle\": 0,\n",
       "        \"showline\": true,\n",
       "        \"ticktext\": [\n",
       "            \"0.00\",\n",
       "            \"0.25\",\n",
       "            \"0.50\",\n",
       "            \"0.75\",\n",
       "            \"1.00\"\n",
       "        ],\n",
       "        \"zeroline\": false,\n",
       "        \"tickfont\": {\n",
       "            \"color\": \"rgba(0, 0, 0, 1.000)\",\n",
       "            \"family\": \"sans-serif\",\n",
       "            \"size\": 11\n",
       "        },\n",
       "        \"zerolinecolor\": \"rgba(0, 0, 0, 1.000)\",\n",
       "        \"anchor\": \"x\",\n",
       "        \"visible\": true,\n",
       "        \"ticks\": \"inside\",\n",
       "        \"tickmode\": \"array\",\n",
       "        \"linecolor\": \"rgba(0, 0, 0, 1.000)\",\n",
       "        \"showgrid\": true,\n",
       "        \"title\": \"\",\n",
       "        \"gridcolor\": \"rgba(0, 0, 0, 0.100)\",\n",
       "        \"titlefont\": {\n",
       "            \"color\": \"rgba(0, 0, 0, 1.000)\",\n",
       "            \"family\": \"sans-serif\",\n",
       "            \"size\": 15\n",
       "        },\n",
       "        \"tickcolor\": \"rgb(0, 0, 0)\",\n",
       "        \"type\": \"-\"\n",
       "    },\n",
       "    \"legend\": {\n",
       "        \"yanchor\": \"auto\",\n",
       "        \"xanchor\": \"auto\",\n",
       "        \"bordercolor\": \"rgba(0, 0, 0, 1.000)\",\n",
       "        \"bgcolor\": \"rgba(255, 255, 255, 1.000)\",\n",
       "        \"borderwidth\": 1,\n",
       "        \"tracegroupgap\": 0,\n",
       "        \"y\": 1.0,\n",
       "        \"font\": {\n",
       "            \"color\": \"rgba(0, 0, 0, 1.000)\",\n",
       "            \"family\": \"sans-serif\",\n",
       "            \"size\": 11\n",
       "        },\n",
       "        \"title\": {\n",
       "            \"font\": {\n",
       "                \"color\": \"rgba(0, 0, 0, 1.000)\",\n",
       "                \"family\": \"sans-serif\",\n",
       "                \"size\": 15\n",
       "            },\n",
       "            \"text\": \"\"\n",
       "        },\n",
       "        \"traceorder\": \"normal\",\n",
       "        \"x\": 1.0\n",
       "    },\n",
       "    \"width\": 600\n",
       "}\n",
       ");\n",
       "    });\n",
       "    </script>\n",
       "\n",
       "    </body>\n",
       "</html>\n"
      ]
     },
     "execution_count": 538,
     "metadata": {},
     "output_type": "execute_result"
    }
   ],
   "source": [
    "plot(x, y, title = \"Two Lines\", label = [\"Line 1\" \"Line 2\"], lw = 3)"
   ]
  },
  {
   "cell_type": "markdown",
   "id": "633595c9",
   "metadata": {
    "slideshow": {
     "slide_type": "slide"
    }
   },
   "source": [
    "#### Adding layout and combining different plots:"
   ]
  },
  {
   "cell_type": "code",
   "execution_count": 539,
   "id": "4b549b43",
   "metadata": {
    "slideshow": {
     "slide_type": "fragment"
    }
   },
   "outputs": [
    {
     "data": {
      "image/svg+xml": [
       "<?xml version=\"1.0\" encoding=\"utf-8\"?>\n",
       "<svg xmlns=\"http://www.w3.org/2000/svg\" xmlns:xlink=\"http://www.w3.org/1999/xlink\" width=\"600\" height=\"400\" viewBox=\"0 0 2400 1600\">\n",
       "<defs>\n",
       "  <clipPath id=\"clip920\">\n",
       "    <rect x=\"0\" y=\"0\" width=\"2400\" height=\"1600\"/>\n",
       "  </clipPath>\n",
       "</defs>\n",
       "<path clip-path=\"url(#clip920)\" d=\"\n",
       "M0 1600 L2400 1600 L2400 0 L0 0  Z\n",
       "  \" fill=\"#ffffff\" fill-rule=\"evenodd\" fill-opacity=\"1\"/>\n",
       "<defs>\n",
       "  <clipPath id=\"clip921\">\n",
       "    <rect x=\"480\" y=\"0\" width=\"1681\" height=\"1600\"/>\n",
       "  </clipPath>\n",
       "</defs>\n",
       "<path clip-path=\"url(#clip920)\" d=\"\n",
       "M186.274 692.928 L1152.76 692.928 L1152.76 123.472 L186.274 123.472  Z\n",
       "  \" fill=\"#ffffff\" fill-rule=\"evenodd\" fill-opacity=\"1\"/>\n",
       "<defs>\n",
       "  <clipPath id=\"clip922\">\n",
       "    <rect x=\"186\" y=\"123\" width=\"967\" height=\"570\"/>\n",
       "  </clipPath>\n",
       "</defs>\n",
       "<polyline clip-path=\"url(#clip922)\" style=\"stroke:#000000; stroke-width:2; stroke-opacity:0.1; fill:none\" points=\"\n",
       "  314.936,692.928 314.936,123.472 \n",
       "  \"/>\n",
       "<polyline clip-path=\"url(#clip922)\" style=\"stroke:#000000; stroke-width:2; stroke-opacity:0.1; fill:none\" points=\"\n",
       "  517.552,692.928 517.552,123.472 \n",
       "  \"/>\n",
       "<polyline clip-path=\"url(#clip922)\" style=\"stroke:#000000; stroke-width:2; stroke-opacity:0.1; fill:none\" points=\"\n",
       "  720.169,692.928 720.169,123.472 \n",
       "  \"/>\n",
       "<polyline clip-path=\"url(#clip922)\" style=\"stroke:#000000; stroke-width:2; stroke-opacity:0.1; fill:none\" points=\"\n",
       "  922.786,692.928 922.786,123.472 \n",
       "  \"/>\n",
       "<polyline clip-path=\"url(#clip922)\" style=\"stroke:#000000; stroke-width:2; stroke-opacity:0.1; fill:none\" points=\"\n",
       "  1125.4,692.928 1125.4,123.472 \n",
       "  \"/>\n",
       "<polyline clip-path=\"url(#clip920)\" style=\"stroke:#000000; stroke-width:4; stroke-opacity:1; fill:none\" points=\"\n",
       "  186.274,692.928 1152.76,692.928 \n",
       "  \"/>\n",
       "<polyline clip-path=\"url(#clip920)\" style=\"stroke:#000000; stroke-width:4; stroke-opacity:1; fill:none\" points=\"\n",
       "  314.936,692.928 314.936,686.094 \n",
       "  \"/>\n",
       "<polyline clip-path=\"url(#clip920)\" style=\"stroke:#000000; stroke-width:4; stroke-opacity:1; fill:none\" points=\"\n",
       "  517.552,692.928 517.552,686.094 \n",
       "  \"/>\n",
       "<polyline clip-path=\"url(#clip920)\" style=\"stroke:#000000; stroke-width:4; stroke-opacity:1; fill:none\" points=\"\n",
       "  720.169,692.928 720.169,686.094 \n",
       "  \"/>\n",
       "<polyline clip-path=\"url(#clip920)\" style=\"stroke:#000000; stroke-width:4; stroke-opacity:1; fill:none\" points=\"\n",
       "  922.786,692.928 922.786,686.094 \n",
       "  \"/>\n",
       "<polyline clip-path=\"url(#clip920)\" style=\"stroke:#000000; stroke-width:4; stroke-opacity:1; fill:none\" points=\"\n",
       "  1125.4,692.928 1125.4,686.094 \n",
       "  \"/>\n",
       "<path clip-path=\"url(#clip920)\" d=\"M 0 0 M309.588 749.665 L325.908 749.665 L325.908 753.6 L303.963 753.6 L303.963 749.665 Q306.625 746.91 311.209 742.28 Q315.815 737.628 316.996 736.285 Q319.241 733.762 320.121 732.026 Q321.024 730.267 321.024 728.577 Q321.024 725.822 319.079 724.086 Q317.158 722.35 314.056 722.35 Q311.857 722.35 309.403 723.114 Q306.973 723.878 304.195 725.429 L304.195 720.707 Q307.019 719.572 309.473 718.994 Q311.926 718.415 313.963 718.415 Q319.334 718.415 322.528 721.1 Q325.723 723.785 325.723 728.276 Q325.723 730.406 324.912 732.327 Q324.125 734.225 322.019 736.818 Q321.44 737.489 318.338 740.706 Q315.237 743.901 309.588 749.665 Z\" fill=\"#000000\" fill-rule=\"evenodd\" fill-opacity=\"1\" /><path clip-path=\"url(#clip920)\" d=\"M 0 0 M520.562 723.114 L508.756 741.563 L520.562 741.563 L520.562 723.114 M519.335 719.04 L525.214 719.04 L525.214 741.563 L530.145 741.563 L530.145 745.452 L525.214 745.452 L525.214 753.6 L520.562 753.6 L520.562 745.452 L504.96 745.452 L504.96 740.938 L519.335 719.04 Z\" fill=\"#000000\" fill-rule=\"evenodd\" fill-opacity=\"1\" /><path clip-path=\"url(#clip920)\" d=\"M 0 0 M720.574 734.456 Q717.426 734.456 715.574 736.609 Q713.746 738.762 713.746 742.512 Q713.746 746.239 715.574 748.415 Q717.426 750.567 720.574 750.567 Q723.722 750.567 725.551 748.415 Q727.403 746.239 727.403 742.512 Q727.403 738.762 725.551 736.609 Q723.722 734.456 720.574 734.456 M729.857 719.804 L729.857 724.063 Q728.097 723.23 726.292 722.79 Q724.509 722.35 722.75 722.35 Q718.121 722.35 715.667 725.475 Q713.236 728.6 712.889 734.919 Q714.255 732.906 716.315 731.841 Q718.375 730.753 720.852 730.753 Q726.06 730.753 729.07 733.924 Q732.102 737.072 732.102 742.512 Q732.102 747.836 728.954 751.054 Q725.806 754.271 720.574 754.271 Q714.579 754.271 711.408 749.688 Q708.236 745.081 708.236 736.355 Q708.236 728.16 712.125 723.299 Q716.014 718.415 722.565 718.415 Q724.324 718.415 726.107 718.762 Q727.912 719.109 729.857 719.804 Z\" fill=\"#000000\" fill-rule=\"evenodd\" fill-opacity=\"1\" /><path clip-path=\"url(#clip920)\" d=\"M 0 0 M922.786 737.188 Q919.453 737.188 917.531 738.97 Q915.633 740.753 915.633 743.878 Q915.633 747.003 917.531 748.785 Q919.453 750.567 922.786 750.567 Q926.119 750.567 928.04 748.785 Q929.962 746.98 929.962 743.878 Q929.962 740.753 928.04 738.97 Q926.142 737.188 922.786 737.188 M918.11 735.197 Q915.101 734.456 913.411 732.396 Q911.744 730.336 911.744 727.373 Q911.744 723.23 914.684 720.822 Q917.647 718.415 922.786 718.415 Q927.948 718.415 930.888 720.822 Q933.828 723.23 933.828 727.373 Q933.828 730.336 932.138 732.396 Q930.471 734.456 927.485 735.197 Q930.865 735.984 932.74 738.276 Q934.638 740.568 934.638 743.878 Q934.638 748.901 931.559 751.586 Q928.503 754.271 922.786 754.271 Q917.068 754.271 913.99 751.586 Q910.934 748.901 910.934 743.878 Q910.934 740.568 912.832 738.276 Q914.73 735.984 918.11 735.197 M916.397 727.813 Q916.397 730.498 918.064 732.003 Q919.754 733.507 922.786 733.507 Q925.795 733.507 927.485 732.003 Q929.198 730.498 929.198 727.813 Q929.198 725.128 927.485 723.623 Q925.795 722.119 922.786 722.119 Q919.754 722.119 918.064 723.623 Q916.397 725.128 916.397 727.813 Z\" fill=\"#000000\" fill-rule=\"evenodd\" fill-opacity=\"1\" /><path clip-path=\"url(#clip920)\" d=\"M 0 0 M1100.09 749.665 L1107.73 749.665 L1107.73 723.299 L1099.42 724.966 L1099.42 720.707 L1107.68 719.04 L1112.36 719.04 L1112.36 749.665 L1120 749.665 L1120 753.6 L1100.09 753.6 L1100.09 749.665 Z\" fill=\"#000000\" fill-rule=\"evenodd\" fill-opacity=\"1\" /><path clip-path=\"url(#clip920)\" d=\"M 0 0 M1139.44 722.119 Q1135.83 722.119 1134 725.683 Q1132.2 729.225 1132.2 736.355 Q1132.2 743.461 1134 747.026 Q1135.83 750.567 1139.44 750.567 Q1143.08 750.567 1144.88 747.026 Q1146.71 743.461 1146.71 736.355 Q1146.71 729.225 1144.88 725.683 Q1143.08 722.119 1139.44 722.119 M1139.44 718.415 Q1145.25 718.415 1148.31 723.021 Q1151.39 727.605 1151.39 736.355 Q1151.39 745.081 1148.31 749.688 Q1145.25 754.271 1139.44 754.271 Q1133.63 754.271 1130.55 749.688 Q1127.5 745.081 1127.5 736.355 Q1127.5 727.605 1130.55 723.021 Q1133.63 718.415 1139.44 718.415 Z\" fill=\"#000000\" fill-rule=\"evenodd\" fill-opacity=\"1\" /><path clip-path=\"url(#clip920)\" d=\"M 0 0 M573.934 790.272 L580.841 790.272 L592.649 807.937 L604.521 790.272 L611.428 790.272 L596.15 813.093 L612.446 837.792 L605.54 837.792 L592.172 817.581 L578.708 837.792 L571.77 837.792 L588.734 812.425 L573.934 790.272 Z\" fill=\"#000000\" fill-rule=\"evenodd\" fill-opacity=\"1\" /><path clip-path=\"url(#clip920)\" d=\"M 0 0 M657.484 796.606 L648.763 820.254 L666.237 820.254 L657.484 796.606 M653.855 790.272 L661.144 790.272 L679.254 837.792 L672.57 837.792 L668.242 825.602 L646.821 825.602 L642.493 837.792 L635.713 837.792 L653.855 790.272 Z\" fill=\"#000000\" fill-rule=\"evenodd\" fill-opacity=\"1\" /><path clip-path=\"url(#clip920)\" d=\"M 0 0 M715.571 802.144 L702.68 819.49 L716.239 837.792 L709.332 837.792 L698.956 823.787 L688.58 837.792 L681.673 837.792 L695.519 819.14 L682.851 802.144 L689.758 802.144 L699.211 814.844 L708.664 802.144 L715.571 802.144 Z\" fill=\"#000000\" fill-rule=\"evenodd\" fill-opacity=\"1\" /><path clip-path=\"url(#clip920)\" d=\"M 0 0 M724.515 802.144 L730.371 802.144 L730.371 837.792 L724.515 837.792 L724.515 802.144 M724.515 788.267 L730.371 788.267 L730.371 795.683 L724.515 795.683 L724.515 788.267 Z\" fill=\"#000000\" fill-rule=\"evenodd\" fill-opacity=\"1\" /><path clip-path=\"url(#clip920)\" d=\"M 0 0 M765.351 803.194 L765.351 808.732 Q762.868 807.459 760.194 806.823 Q757.521 806.186 754.656 806.186 Q750.296 806.186 748.1 807.523 Q745.935 808.86 745.935 811.533 Q745.935 813.57 747.495 814.748 Q749.054 815.894 753.765 816.944 L755.77 817.39 Q762.009 818.727 764.619 821.177 Q767.26 823.596 767.26 827.957 Q767.26 832.922 763.314 835.819 Q759.399 838.715 752.524 838.715 Q749.659 838.715 746.54 838.142 Q743.453 837.601 740.015 836.487 L740.015 830.439 Q743.262 832.126 746.413 832.986 Q749.564 833.813 752.651 833.813 Q756.789 833.813 759.017 832.413 Q761.245 830.981 761.245 828.402 Q761.245 826.015 759.622 824.742 Q758.03 823.469 752.587 822.291 L750.55 821.814 Q745.108 820.668 742.689 818.313 Q740.27 815.926 740.27 811.788 Q740.27 806.759 743.835 804.022 Q747.399 801.285 753.956 801.285 Q757.203 801.285 760.067 801.762 Q762.932 802.239 765.351 803.194 Z\" fill=\"#000000\" fill-rule=\"evenodd\" fill-opacity=\"1\" /><polyline clip-path=\"url(#clip922)\" style=\"stroke:#000000; stroke-width:2; stroke-opacity:0.1; fill:none\" points=\"\n",
       "  186.274,686.954 1152.76,686.954 \n",
       "  \"/>\n",
       "<polyline clip-path=\"url(#clip922)\" style=\"stroke:#000000; stroke-width:2; stroke-opacity:0.1; fill:none\" points=\"\n",
       "  186.274,546.609 1152.76,546.609 \n",
       "  \"/>\n",
       "<polyline clip-path=\"url(#clip922)\" style=\"stroke:#000000; stroke-width:2; stroke-opacity:0.1; fill:none\" points=\"\n",
       "  186.274,406.265 1152.76,406.265 \n",
       "  \"/>\n",
       "<polyline clip-path=\"url(#clip922)\" style=\"stroke:#000000; stroke-width:2; stroke-opacity:0.1; fill:none\" points=\"\n",
       "  186.274,265.921 1152.76,265.921 \n",
       "  \"/>\n",
       "<polyline clip-path=\"url(#clip922)\" style=\"stroke:#000000; stroke-width:2; stroke-opacity:0.1; fill:none\" points=\"\n",
       "  186.274,125.576 1152.76,125.576 \n",
       "  \"/>\n",
       "<polyline clip-path=\"url(#clip920)\" style=\"stroke:#000000; stroke-width:4; stroke-opacity:1; fill:none\" points=\"\n",
       "  186.274,692.928 186.274,123.472 \n",
       "  \"/>\n",
       "<polyline clip-path=\"url(#clip920)\" style=\"stroke:#000000; stroke-width:4; stroke-opacity:1; fill:none\" points=\"\n",
       "  186.274,686.954 197.872,686.954 \n",
       "  \"/>\n",
       "<polyline clip-path=\"url(#clip920)\" style=\"stroke:#000000; stroke-width:4; stroke-opacity:1; fill:none\" points=\"\n",
       "  186.274,546.609 197.872,546.609 \n",
       "  \"/>\n",
       "<polyline clip-path=\"url(#clip920)\" style=\"stroke:#000000; stroke-width:4; stroke-opacity:1; fill:none\" points=\"\n",
       "  186.274,406.265 197.872,406.265 \n",
       "  \"/>\n",
       "<polyline clip-path=\"url(#clip920)\" style=\"stroke:#000000; stroke-width:4; stroke-opacity:1; fill:none\" points=\"\n",
       "  186.274,265.921 197.872,265.921 \n",
       "  \"/>\n",
       "<polyline clip-path=\"url(#clip920)\" style=\"stroke:#000000; stroke-width:4; stroke-opacity:1; fill:none\" points=\"\n",
       "  186.274,125.576 197.872,125.576 \n",
       "  \"/>\n",
       "<path clip-path=\"url(#clip920)\" d=\"M 0 0 M62.9365 672.752 Q59.3254 672.752 57.4967 676.317 Q55.6912 679.859 55.6912 686.989 Q55.6912 694.095 57.4967 697.66 Q59.3254 701.201 62.9365 701.201 Q66.5707 701.201 68.3763 697.66 Q70.205 694.095 70.205 686.989 Q70.205 679.859 68.3763 676.317 Q66.5707 672.752 62.9365 672.752 M62.9365 669.049 Q68.7467 669.049 71.8022 673.655 Q74.8809 678.239 74.8809 686.989 Q74.8809 695.715 71.8022 700.322 Q68.7467 704.905 62.9365 704.905 Q57.1264 704.905 54.0477 700.322 Q50.9921 695.715 50.9921 686.989 Q50.9921 678.239 54.0477 673.655 Q57.1264 669.049 62.9365 669.049 Z\" fill=\"#000000\" fill-rule=\"evenodd\" fill-opacity=\"1\" /><path clip-path=\"url(#clip920)\" d=\"M 0 0 M83.0984 698.354 L87.9827 698.354 L87.9827 704.234 L83.0984 704.234 L83.0984 698.354 Z\" fill=\"#000000\" fill-rule=\"evenodd\" fill-opacity=\"1\" /><path clip-path=\"url(#clip920)\" d=\"M 0 0 M108.168 672.752 Q104.557 672.752 102.728 676.317 Q100.922 679.859 100.922 686.989 Q100.922 694.095 102.728 697.66 Q104.557 701.201 108.168 701.201 Q111.802 701.201 113.608 697.66 Q115.436 694.095 115.436 686.989 Q115.436 679.859 113.608 676.317 Q111.802 672.752 108.168 672.752 M108.168 669.049 Q113.978 669.049 117.033 673.655 Q120.112 678.239 120.112 686.989 Q120.112 695.715 117.033 700.322 Q113.978 704.905 108.168 704.905 Q102.358 704.905 99.2789 700.322 Q96.2234 695.715 96.2234 686.989 Q96.2234 678.239 99.2789 673.655 Q102.358 669.049 108.168 669.049 Z\" fill=\"#000000\" fill-rule=\"evenodd\" fill-opacity=\"1\" /><path clip-path=\"url(#clip920)\" d=\"M 0 0 M138.33 672.752 Q134.719 672.752 132.89 676.317 Q131.084 679.859 131.084 686.989 Q131.084 694.095 132.89 697.66 Q134.719 701.201 138.33 701.201 Q141.964 701.201 143.769 697.66 Q145.598 694.095 145.598 686.989 Q145.598 679.859 143.769 676.317 Q141.964 672.752 138.33 672.752 M138.33 669.049 Q144.14 669.049 147.195 673.655 Q150.274 678.239 150.274 686.989 Q150.274 695.715 147.195 700.322 Q144.14 704.905 138.33 704.905 Q132.519 704.905 129.441 700.322 Q126.385 695.715 126.385 686.989 Q126.385 678.239 129.441 673.655 Q132.519 669.049 138.33 669.049 Z\" fill=\"#000000\" fill-rule=\"evenodd\" fill-opacity=\"1\" /><path clip-path=\"url(#clip920)\" d=\"M 0 0 M63.9319 532.408 Q60.3208 532.408 58.4921 535.973 Q56.6865 539.515 56.6865 546.644 Q56.6865 553.751 58.4921 557.315 Q60.3208 560.857 63.9319 560.857 Q67.5661 560.857 69.3717 557.315 Q71.2004 553.751 71.2004 546.644 Q71.2004 539.515 69.3717 535.973 Q67.5661 532.408 63.9319 532.408 M63.9319 528.704 Q69.742 528.704 72.7976 533.311 Q75.8763 537.894 75.8763 546.644 Q75.8763 555.371 72.7976 559.977 Q69.742 564.561 63.9319 564.561 Q58.1217 564.561 55.043 559.977 Q51.9875 555.371 51.9875 546.644 Q51.9875 537.894 55.043 533.311 Q58.1217 528.704 63.9319 528.704 Z\" fill=\"#000000\" fill-rule=\"evenodd\" fill-opacity=\"1\" /><path clip-path=\"url(#clip920)\" d=\"M 0 0 M84.0938 558.01 L88.978 558.01 L88.978 563.889 L84.0938 563.889 L84.0938 558.01 Z\" fill=\"#000000\" fill-rule=\"evenodd\" fill-opacity=\"1\" /><path clip-path=\"url(#clip920)\" d=\"M 0 0 M103.191 559.954 L119.51 559.954 L119.51 563.889 L97.566 563.889 L97.566 559.954 Q100.228 557.2 104.811 552.57 Q109.418 547.917 110.598 546.575 Q112.844 544.052 113.723 542.315 Q114.626 540.556 114.626 538.866 Q114.626 536.112 112.682 534.376 Q110.76 532.64 107.658 532.64 Q105.459 532.64 103.006 533.403 Q100.575 534.167 97.7974 535.718 L97.7974 530.996 Q100.621 529.862 103.075 529.283 Q105.529 528.704 107.566 528.704 Q112.936 528.704 116.131 531.39 Q119.325 534.075 119.325 538.565 Q119.325 540.695 118.515 542.616 Q117.728 544.515 115.621 547.107 Q115.043 547.778 111.941 550.996 Q108.839 554.19 103.191 559.954 Z\" fill=\"#000000\" fill-rule=\"evenodd\" fill-opacity=\"1\" /><path clip-path=\"url(#clip920)\" d=\"M 0 0 M129.371 529.329 L147.728 529.329 L147.728 533.265 L133.654 533.265 L133.654 541.737 Q134.672 541.39 135.691 541.228 Q136.709 541.042 137.728 541.042 Q143.515 541.042 146.894 544.214 Q150.274 547.385 150.274 552.802 Q150.274 558.38 146.802 561.482 Q143.33 564.561 137.01 564.561 Q134.834 564.561 132.566 564.19 Q130.32 563.82 127.913 563.079 L127.913 558.38 Q129.996 559.514 132.219 560.07 Q134.441 560.626 136.918 560.626 Q140.922 560.626 143.26 558.519 Q145.598 556.413 145.598 552.802 Q145.598 549.19 143.26 547.084 Q140.922 544.977 136.918 544.977 Q135.043 544.977 133.168 545.394 Q131.316 545.811 129.371 546.69 L129.371 529.329 Z\" fill=\"#000000\" fill-rule=\"evenodd\" fill-opacity=\"1\" /><path clip-path=\"url(#clip920)\" d=\"M 0 0 M62.9365 392.064 Q59.3254 392.064 57.4967 395.629 Q55.6912 399.17 55.6912 406.3 Q55.6912 413.406 57.4967 416.971 Q59.3254 420.513 62.9365 420.513 Q66.5707 420.513 68.3763 416.971 Q70.205 413.406 70.205 406.3 Q70.205 399.17 68.3763 395.629 Q66.5707 392.064 62.9365 392.064 M62.9365 388.36 Q68.7467 388.36 71.8022 392.967 Q74.8809 397.55 74.8809 406.3 Q74.8809 415.027 71.8022 419.633 Q68.7467 424.216 62.9365 424.216 Q57.1264 424.216 54.0477 419.633 Q50.9921 415.027 50.9921 406.3 Q50.9921 397.55 54.0477 392.967 Q57.1264 388.36 62.9365 388.36 Z\" fill=\"#000000\" fill-rule=\"evenodd\" fill-opacity=\"1\" /><path clip-path=\"url(#clip920)\" d=\"M 0 0 M83.0984 417.665 L87.9827 417.665 L87.9827 423.545 L83.0984 423.545 L83.0984 417.665 Z\" fill=\"#000000\" fill-rule=\"evenodd\" fill-opacity=\"1\" /><path clip-path=\"url(#clip920)\" d=\"M 0 0 M98.2141 388.985 L116.57 388.985 L116.57 392.92 L102.496 392.92 L102.496 401.392 Q103.515 401.045 104.534 400.883 Q105.552 400.698 106.571 400.698 Q112.358 400.698 115.737 403.869 Q119.117 407.041 119.117 412.457 Q119.117 418.036 115.645 421.138 Q112.172 424.216 105.853 424.216 Q103.677 424.216 101.409 423.846 Q99.1632 423.476 96.7558 422.735 L96.7558 418.036 Q98.8391 419.17 101.061 419.726 Q103.284 420.281 105.76 420.281 Q109.765 420.281 112.103 418.175 Q114.441 416.068 114.441 412.457 Q114.441 408.846 112.103 406.74 Q109.765 404.633 105.76 404.633 Q103.885 404.633 102.01 405.05 Q100.159 405.466 98.2141 406.346 L98.2141 388.985 Z\" fill=\"#000000\" fill-rule=\"evenodd\" fill-opacity=\"1\" /><path clip-path=\"url(#clip920)\" d=\"M 0 0 M138.33 392.064 Q134.719 392.064 132.89 395.629 Q131.084 399.17 131.084 406.3 Q131.084 413.406 132.89 416.971 Q134.719 420.513 138.33 420.513 Q141.964 420.513 143.769 416.971 Q145.598 413.406 145.598 406.3 Q145.598 399.17 143.769 395.629 Q141.964 392.064 138.33 392.064 M138.33 388.36 Q144.14 388.36 147.195 392.967 Q150.274 397.55 150.274 406.3 Q150.274 415.027 147.195 419.633 Q144.14 424.216 138.33 424.216 Q132.519 424.216 129.441 419.633 Q126.385 415.027 126.385 406.3 Q126.385 397.55 129.441 392.967 Q132.519 388.36 138.33 388.36 Z\" fill=\"#000000\" fill-rule=\"evenodd\" fill-opacity=\"1\" /><path clip-path=\"url(#clip920)\" d=\"M 0 0 M63.9319 251.719 Q60.3208 251.719 58.4921 255.284 Q56.6865 258.826 56.6865 265.955 Q56.6865 273.062 58.4921 276.627 Q60.3208 280.168 63.9319 280.168 Q67.5661 280.168 69.3717 276.627 Q71.2004 273.062 71.2004 265.955 Q71.2004 258.826 69.3717 255.284 Q67.5661 251.719 63.9319 251.719 M63.9319 248.016 Q69.742 248.016 72.7976 252.622 Q75.8763 257.205 75.8763 265.955 Q75.8763 274.682 72.7976 279.289 Q69.742 283.872 63.9319 283.872 Q58.1217 283.872 55.043 279.289 Q51.9875 274.682 51.9875 265.955 Q51.9875 257.205 55.043 252.622 Q58.1217 248.016 63.9319 248.016 Z\" fill=\"#000000\" fill-rule=\"evenodd\" fill-opacity=\"1\" /><path clip-path=\"url(#clip920)\" d=\"M 0 0 M84.0938 277.321 L88.978 277.321 L88.978 283.201 L84.0938 283.201 L84.0938 277.321 Z\" fill=\"#000000\" fill-rule=\"evenodd\" fill-opacity=\"1\" /><path clip-path=\"url(#clip920)\" d=\"M 0 0 M97.9826 248.641 L120.205 248.641 L120.205 250.631 L107.658 283.201 L102.774 283.201 L114.58 252.576 L97.9826 252.576 L97.9826 248.641 Z\" fill=\"#000000\" fill-rule=\"evenodd\" fill-opacity=\"1\" /><path clip-path=\"url(#clip920)\" d=\"M 0 0 M129.371 248.641 L147.728 248.641 L147.728 252.576 L133.654 252.576 L133.654 261.048 Q134.672 260.701 135.691 260.539 Q136.709 260.354 137.728 260.354 Q143.515 260.354 146.894 263.525 Q150.274 266.696 150.274 272.113 Q150.274 277.691 146.802 280.793 Q143.33 283.872 137.01 283.872 Q134.834 283.872 132.566 283.502 Q130.32 283.131 127.913 282.391 L127.913 277.691 Q129.996 278.826 132.219 279.381 Q134.441 279.937 136.918 279.937 Q140.922 279.937 143.26 277.83 Q145.598 275.724 145.598 272.113 Q145.598 268.502 143.26 266.395 Q140.922 264.289 136.918 264.289 Q135.043 264.289 133.168 264.705 Q131.316 265.122 129.371 266.002 L129.371 248.641 Z\" fill=\"#000000\" fill-rule=\"evenodd\" fill-opacity=\"1\" /><path clip-path=\"url(#clip920)\" d=\"M 0 0 M53.7467 138.921 L61.3856 138.921 L61.3856 112.556 L53.0754 114.222 L53.0754 109.963 L61.3393 108.296 L66.0152 108.296 L66.0152 138.921 L73.654 138.921 L73.654 142.856 L53.7467 142.856 L53.7467 138.921 Z\" fill=\"#000000\" fill-rule=\"evenodd\" fill-opacity=\"1\" /><path clip-path=\"url(#clip920)\" d=\"M 0 0 M83.0984 136.977 L87.9827 136.977 L87.9827 142.856 L83.0984 142.856 L83.0984 136.977 Z\" fill=\"#000000\" fill-rule=\"evenodd\" fill-opacity=\"1\" /><path clip-path=\"url(#clip920)\" d=\"M 0 0 M108.168 111.375 Q104.557 111.375 102.728 114.94 Q100.922 118.482 100.922 125.611 Q100.922 132.718 102.728 136.282 Q104.557 139.824 108.168 139.824 Q111.802 139.824 113.608 136.282 Q115.436 132.718 115.436 125.611 Q115.436 118.482 113.608 114.94 Q111.802 111.375 108.168 111.375 M108.168 107.671 Q113.978 107.671 117.033 112.278 Q120.112 116.861 120.112 125.611 Q120.112 134.338 117.033 138.944 Q113.978 143.528 108.168 143.528 Q102.358 143.528 99.2789 138.944 Q96.2234 134.338 96.2234 125.611 Q96.2234 116.861 99.2789 112.278 Q102.358 107.671 108.168 107.671 Z\" fill=\"#000000\" fill-rule=\"evenodd\" fill-opacity=\"1\" /><path clip-path=\"url(#clip920)\" d=\"M 0 0 M138.33 111.375 Q134.719 111.375 132.89 114.94 Q131.084 118.482 131.084 125.611 Q131.084 132.718 132.89 136.282 Q134.719 139.824 138.33 139.824 Q141.964 139.824 143.769 136.282 Q145.598 132.718 145.598 125.611 Q145.598 118.482 143.769 114.94 Q141.964 111.375 138.33 111.375 M138.33 107.671 Q144.14 107.671 147.195 112.278 Q150.274 116.861 150.274 125.611 Q150.274 134.338 147.195 138.944 Q144.14 143.528 138.33 143.528 Q132.519 143.528 129.441 138.944 Q126.385 134.338 126.385 125.611 Q126.385 116.861 129.441 112.278 Q132.519 107.671 138.33 107.671 Z\" fill=\"#000000\" fill-rule=\"evenodd\" fill-opacity=\"1\" /><path clip-path=\"url(#clip920)\" d=\"M 0 0 M508.633 12.096 L516.816 12.096 L516.816 65.6895 L546.266 65.6895 L546.266 72.576 L508.633 72.576 L508.633 12.096 Z\" fill=\"#000000\" fill-rule=\"evenodd\" fill-opacity=\"1\" /><path clip-path=\"url(#clip920)\" d=\"M 0 0 M554.53 27.2059 L561.984 27.2059 L561.984 72.576 L554.53 72.576 L554.53 27.2059 M554.53 9.54393 L561.984 9.54393 L561.984 18.9825 L554.53 18.9825 L554.53 9.54393 Z\" fill=\"#000000\" fill-rule=\"evenodd\" fill-opacity=\"1\" /><path clip-path=\"url(#clip920)\" d=\"M 0 0 M615.294 45.1919 L615.294 72.576 L607.84 72.576 L607.84 45.4349 Q607.84 38.994 605.328 35.7938 Q602.817 32.5936 597.794 32.5936 Q591.758 32.5936 588.274 36.4419 Q584.79 40.2903 584.79 46.9338 L584.79 72.576 L577.296 72.576 L577.296 27.2059 L584.79 27.2059 L584.79 34.2544 Q587.464 30.163 591.069 28.1376 Q594.715 26.1121 599.455 26.1121 Q607.273 26.1121 611.283 30.9732 Q615.294 35.7938 615.294 45.1919 Z\" fill=\"#000000\" fill-rule=\"evenodd\" fill-opacity=\"1\" /><path clip-path=\"url(#clip920)\" d=\"M 0 0 M668.968 48.0275 L668.968 51.6733 L634.697 51.6733 Q635.184 59.3701 639.315 63.421 Q643.488 67.4314 650.901 67.4314 Q655.195 67.4314 659.205 66.3781 Q663.256 65.3249 667.226 63.2184 L667.226 70.267 Q663.216 71.9684 659.003 72.8596 Q654.79 73.7508 650.455 73.7508 Q639.599 73.7508 633.239 67.4314 Q626.92 61.1119 626.92 50.3365 Q626.92 39.1965 632.915 32.6746 Q638.951 26.1121 649.159 26.1121 Q658.314 26.1121 663.621 32.0264 Q668.968 37.9003 668.968 48.0275 M661.514 45.84 Q661.433 39.7232 658.071 36.0774 Q654.749 32.4315 649.24 32.4315 Q643.002 32.4315 639.234 35.9558 Q635.508 39.4801 634.94 45.8805 L661.514 45.84 Z\" fill=\"#000000\" fill-rule=\"evenodd\" fill-opacity=\"1\" /><path clip-path=\"url(#clip920)\" d=\"M 0 0 M688.412 65.7705 L688.412 89.8329 L680.918 89.8329 L680.918 27.2059 L688.412 27.2059 L688.412 34.0924 Q690.762 30.0415 694.327 28.0971 Q697.932 26.1121 702.915 26.1121 Q711.179 26.1121 716.323 32.6746 Q721.508 39.2371 721.508 49.9314 Q721.508 60.6258 716.323 67.1883 Q711.179 73.7508 702.915 73.7508 Q697.932 73.7508 694.327 71.8063 Q690.762 69.8214 688.412 65.7705 M713.771 49.9314 Q713.771 41.7081 710.368 37.0496 Q707.006 32.3505 701.092 32.3505 Q695.177 32.3505 691.775 37.0496 Q688.412 41.7081 688.412 49.9314 Q688.412 58.1548 691.775 62.8538 Q695.177 67.5124 701.092 67.5124 Q707.006 67.5124 710.368 62.8538 Q713.771 58.1548 713.771 49.9314 Z\" fill=\"#000000\" fill-rule=\"evenodd\" fill-opacity=\"1\" /><path clip-path=\"url(#clip920)\" d=\"M 0 0 M733.864 9.54393 L741.317 9.54393 L741.317 72.576 L733.864 72.576 L733.864 9.54393 Z\" fill=\"#000000\" fill-rule=\"evenodd\" fill-opacity=\"1\" /><path clip-path=\"url(#clip920)\" d=\"M 0 0 M774.494 32.4315 Q768.499 32.4315 765.015 37.1306 Q761.531 41.7891 761.531 49.9314 Q761.531 58.0738 764.975 62.7728 Q768.458 67.4314 774.494 67.4314 Q780.449 67.4314 783.933 62.7323 Q787.417 58.0333 787.417 49.9314 Q787.417 41.8701 783.933 37.1711 Q780.449 32.4315 774.494 32.4315 M774.494 26.1121 Q784.216 26.1121 789.766 32.4315 Q795.316 38.7509 795.316 49.9314 Q795.316 61.0714 789.766 67.4314 Q784.216 73.7508 774.494 73.7508 Q764.731 73.7508 759.182 67.4314 Q753.672 61.0714 753.672 49.9314 Q753.672 38.7509 759.182 32.4315 Q764.731 26.1121 774.494 26.1121 Z\" fill=\"#000000\" fill-rule=\"evenodd\" fill-opacity=\"1\" /><path clip-path=\"url(#clip920)\" d=\"M 0 0 M815.044 14.324 L815.044 27.2059 L830.397 27.2059 L830.397 32.9987 L815.044 32.9987 L815.044 57.6282 Q815.044 63.1779 816.543 64.7578 Q818.082 66.3376 822.74 66.3376 L830.397 66.3376 L830.397 72.576 L822.74 72.576 Q814.112 72.576 810.831 69.3758 Q807.55 66.1351 807.55 57.6282 L807.55 32.9987 L802.081 32.9987 L802.081 27.2059 L807.55 27.2059 L807.55 14.324 L815.044 14.324 Z\" fill=\"#000000\" fill-rule=\"evenodd\" fill-opacity=\"1\" /><polyline clip-path=\"url(#clip922)\" style=\"stroke:#009af9; stroke-width:4; stroke-opacity:1; fill:none\" points=\"\n",
       "  213.627,139.589 314.936,520.573 416.244,662.679 517.552,305.033 618.861,653.022 720.169,596.791 821.478,495.617 922.786,363.172 1024.09,167.197 1125.4,628.731 \n",
       "  \n",
       "  \"/>\n",
       "<polyline clip-path=\"url(#clip922)\" style=\"stroke:#e26f46; stroke-width:4; stroke-opacity:1; fill:none\" points=\"\n",
       "  213.627,452.782 314.936,191.681 416.244,386.713 517.552,674.745 618.861,184.317 720.169,676.811 821.478,413.667 922.786,518.06 1024.09,623.337 1125.4,587.245 \n",
       "  \n",
       "  \"/>\n",
       "<path clip-path=\"url(#clip920)\" d=\"\n",
       "M1386.27 692.928 L2352.76 692.928 L2352.76 123.472 L1386.27 123.472  Z\n",
       "  \" fill=\"#ffffff\" fill-rule=\"evenodd\" fill-opacity=\"1\"/>\n",
       "<defs>\n",
       "  <clipPath id=\"clip923\">\n",
       "    <rect x=\"1386\" y=\"123\" width=\"967\" height=\"570\"/>\n",
       "  </clipPath>\n",
       "</defs>\n",
       "<polyline clip-path=\"url(#clip923)\" style=\"stroke:#000000; stroke-width:2; stroke-opacity:0.1; fill:none\" points=\"\n",
       "  1514.94,692.928 1514.94,123.472 \n",
       "  \"/>\n",
       "<polyline clip-path=\"url(#clip923)\" style=\"stroke:#000000; stroke-width:2; stroke-opacity:0.1; fill:none\" points=\"\n",
       "  1717.55,692.928 1717.55,123.472 \n",
       "  \"/>\n",
       "<polyline clip-path=\"url(#clip923)\" style=\"stroke:#000000; stroke-width:2; stroke-opacity:0.1; fill:none\" points=\"\n",
       "  1920.17,692.928 1920.17,123.472 \n",
       "  \"/>\n",
       "<polyline clip-path=\"url(#clip923)\" style=\"stroke:#000000; stroke-width:2; stroke-opacity:0.1; fill:none\" points=\"\n",
       "  2122.79,692.928 2122.79,123.472 \n",
       "  \"/>\n",
       "<polyline clip-path=\"url(#clip923)\" style=\"stroke:#000000; stroke-width:2; stroke-opacity:0.1; fill:none\" points=\"\n",
       "  2325.4,692.928 2325.4,123.472 \n",
       "  \"/>\n",
       "<polyline clip-path=\"url(#clip920)\" style=\"stroke:#000000; stroke-width:4; stroke-opacity:1; fill:none\" points=\"\n",
       "  1386.27,692.928 2352.76,692.928 \n",
       "  \"/>\n",
       "<polyline clip-path=\"url(#clip920)\" style=\"stroke:#000000; stroke-width:4; stroke-opacity:1; fill:none\" points=\"\n",
       "  1514.94,692.928 1514.94,686.094 \n",
       "  \"/>\n",
       "<polyline clip-path=\"url(#clip920)\" style=\"stroke:#000000; stroke-width:4; stroke-opacity:1; fill:none\" points=\"\n",
       "  1717.55,692.928 1717.55,686.094 \n",
       "  \"/>\n",
       "<polyline clip-path=\"url(#clip920)\" style=\"stroke:#000000; stroke-width:4; stroke-opacity:1; fill:none\" points=\"\n",
       "  1920.17,692.928 1920.17,686.094 \n",
       "  \"/>\n",
       "<polyline clip-path=\"url(#clip920)\" style=\"stroke:#000000; stroke-width:4; stroke-opacity:1; fill:none\" points=\"\n",
       "  2122.79,692.928 2122.79,686.094 \n",
       "  \"/>\n",
       "<polyline clip-path=\"url(#clip920)\" style=\"stroke:#000000; stroke-width:4; stroke-opacity:1; fill:none\" points=\"\n",
       "  2325.4,692.928 2325.4,686.094 \n",
       "  \"/>\n",
       "<path clip-path=\"url(#clip920)\" d=\"M 0 0 M1509.59 749.665 L1525.91 749.665 L1525.91 753.6 L1503.96 753.6 L1503.96 749.665 Q1506.63 746.91 1511.21 742.28 Q1515.82 737.628 1517 736.285 Q1519.24 733.762 1520.12 732.026 Q1521.02 730.267 1521.02 728.577 Q1521.02 725.822 1519.08 724.086 Q1517.16 722.35 1514.06 722.35 Q1511.86 722.35 1509.4 723.114 Q1506.97 723.878 1504.19 725.429 L1504.19 720.707 Q1507.02 719.572 1509.47 718.994 Q1511.93 718.415 1513.96 718.415 Q1519.33 718.415 1522.53 721.1 Q1525.72 723.785 1525.72 728.276 Q1525.72 730.406 1524.91 732.327 Q1524.13 734.225 1522.02 736.818 Q1521.44 737.489 1518.34 740.706 Q1515.24 743.901 1509.59 749.665 Z\" fill=\"#000000\" fill-rule=\"evenodd\" fill-opacity=\"1\" /><path clip-path=\"url(#clip920)\" d=\"M 0 0 M1720.56 723.114 L1708.76 741.563 L1720.56 741.563 L1720.56 723.114 M1719.33 719.04 L1725.21 719.04 L1725.21 741.563 L1730.14 741.563 L1730.14 745.452 L1725.21 745.452 L1725.21 753.6 L1720.56 753.6 L1720.56 745.452 L1704.96 745.452 L1704.96 740.938 L1719.33 719.04 Z\" fill=\"#000000\" fill-rule=\"evenodd\" fill-opacity=\"1\" /><path clip-path=\"url(#clip920)\" d=\"M 0 0 M1920.57 734.456 Q1917.43 734.456 1915.57 736.609 Q1913.75 738.762 1913.75 742.512 Q1913.75 746.239 1915.57 748.415 Q1917.43 750.567 1920.57 750.567 Q1923.72 750.567 1925.55 748.415 Q1927.4 746.239 1927.4 742.512 Q1927.4 738.762 1925.55 736.609 Q1923.72 734.456 1920.57 734.456 M1929.86 719.804 L1929.86 724.063 Q1928.1 723.23 1926.29 722.79 Q1924.51 722.35 1922.75 722.35 Q1918.12 722.35 1915.67 725.475 Q1913.24 728.6 1912.89 734.919 Q1914.25 732.906 1916.31 731.841 Q1918.38 730.753 1920.85 730.753 Q1926.06 730.753 1929.07 733.924 Q1932.1 737.072 1932.1 742.512 Q1932.1 747.836 1928.95 751.054 Q1925.81 754.271 1920.57 754.271 Q1914.58 754.271 1911.41 749.688 Q1908.24 745.081 1908.24 736.355 Q1908.24 728.16 1912.13 723.299 Q1916.01 718.415 1922.56 718.415 Q1924.32 718.415 1926.11 718.762 Q1927.91 719.109 1929.86 719.804 Z\" fill=\"#000000\" fill-rule=\"evenodd\" fill-opacity=\"1\" /><path clip-path=\"url(#clip920)\" d=\"M 0 0 M2122.79 737.188 Q2119.45 737.188 2117.53 738.97 Q2115.63 740.753 2115.63 743.878 Q2115.63 747.003 2117.53 748.785 Q2119.45 750.567 2122.79 750.567 Q2126.12 750.567 2128.04 748.785 Q2129.96 746.98 2129.96 743.878 Q2129.96 740.753 2128.04 738.97 Q2126.14 737.188 2122.79 737.188 M2118.11 735.197 Q2115.1 734.456 2113.41 732.396 Q2111.74 730.336 2111.74 727.373 Q2111.74 723.23 2114.68 720.822 Q2117.65 718.415 2122.79 718.415 Q2127.95 718.415 2130.89 720.822 Q2133.83 723.23 2133.83 727.373 Q2133.83 730.336 2132.14 732.396 Q2130.47 734.456 2127.48 735.197 Q2130.86 735.984 2132.74 738.276 Q2134.64 740.568 2134.64 743.878 Q2134.64 748.901 2131.56 751.586 Q2128.5 754.271 2122.79 754.271 Q2117.07 754.271 2113.99 751.586 Q2110.93 748.901 2110.93 743.878 Q2110.93 740.568 2112.83 738.276 Q2114.73 735.984 2118.11 735.197 M2116.4 727.813 Q2116.4 730.498 2118.06 732.003 Q2119.75 733.507 2122.79 733.507 Q2125.8 733.507 2127.48 732.003 Q2129.2 730.498 2129.2 727.813 Q2129.2 725.128 2127.48 723.623 Q2125.8 722.119 2122.79 722.119 Q2119.75 722.119 2118.06 723.623 Q2116.4 725.128 2116.4 727.813 Z\" fill=\"#000000\" fill-rule=\"evenodd\" fill-opacity=\"1\" /><path clip-path=\"url(#clip920)\" d=\"M 0 0 M2300.09 749.665 L2307.73 749.665 L2307.73 723.299 L2299.42 724.966 L2299.42 720.707 L2307.68 719.04 L2312.36 719.04 L2312.36 749.665 L2320 749.665 L2320 753.6 L2300.09 753.6 L2300.09 749.665 Z\" fill=\"#000000\" fill-rule=\"evenodd\" fill-opacity=\"1\" /><path clip-path=\"url(#clip920)\" d=\"M 0 0 M2339.44 722.119 Q2335.83 722.119 2334 725.683 Q2332.2 729.225 2332.2 736.355 Q2332.2 743.461 2334 747.026 Q2335.83 750.567 2339.44 750.567 Q2343.08 750.567 2344.88 747.026 Q2346.71 743.461 2346.71 736.355 Q2346.71 729.225 2344.88 725.683 Q2343.08 722.119 2339.44 722.119 M2339.44 718.415 Q2345.25 718.415 2348.31 723.021 Q2351.39 727.605 2351.39 736.355 Q2351.39 745.081 2348.31 749.688 Q2345.25 754.271 2339.44 754.271 Q2333.63 754.271 2330.55 749.688 Q2327.5 745.081 2327.5 736.355 Q2327.5 727.605 2330.55 723.021 Q2333.63 718.415 2339.44 718.415 Z\" fill=\"#000000\" fill-rule=\"evenodd\" fill-opacity=\"1\" /><polyline clip-path=\"url(#clip923)\" style=\"stroke:#000000; stroke-width:2; stroke-opacity:0.1; fill:none\" points=\"\n",
       "  1386.27,686.954 2352.76,686.954 \n",
       "  \"/>\n",
       "<polyline clip-path=\"url(#clip923)\" style=\"stroke:#000000; stroke-width:2; stroke-opacity:0.1; fill:none\" points=\"\n",
       "  1386.27,546.609 2352.76,546.609 \n",
       "  \"/>\n",
       "<polyline clip-path=\"url(#clip923)\" style=\"stroke:#000000; stroke-width:2; stroke-opacity:0.1; fill:none\" points=\"\n",
       "  1386.27,406.265 2352.76,406.265 \n",
       "  \"/>\n",
       "<polyline clip-path=\"url(#clip923)\" style=\"stroke:#000000; stroke-width:2; stroke-opacity:0.1; fill:none\" points=\"\n",
       "  1386.27,265.921 2352.76,265.921 \n",
       "  \"/>\n",
       "<polyline clip-path=\"url(#clip923)\" style=\"stroke:#000000; stroke-width:2; stroke-opacity:0.1; fill:none\" points=\"\n",
       "  1386.27,125.576 2352.76,125.576 \n",
       "  \"/>\n",
       "<polyline clip-path=\"url(#clip920)\" style=\"stroke:#000000; stroke-width:4; stroke-opacity:1; fill:none\" points=\"\n",
       "  1386.27,692.928 1386.27,123.472 \n",
       "  \"/>\n",
       "<polyline clip-path=\"url(#clip920)\" style=\"stroke:#000000; stroke-width:4; stroke-opacity:1; fill:none\" points=\"\n",
       "  1386.27,686.954 1397.87,686.954 \n",
       "  \"/>\n",
       "<polyline clip-path=\"url(#clip920)\" style=\"stroke:#000000; stroke-width:4; stroke-opacity:1; fill:none\" points=\"\n",
       "  1386.27,546.609 1397.87,546.609 \n",
       "  \"/>\n",
       "<polyline clip-path=\"url(#clip920)\" style=\"stroke:#000000; stroke-width:4; stroke-opacity:1; fill:none\" points=\"\n",
       "  1386.27,406.265 1397.87,406.265 \n",
       "  \"/>\n",
       "<polyline clip-path=\"url(#clip920)\" style=\"stroke:#000000; stroke-width:4; stroke-opacity:1; fill:none\" points=\"\n",
       "  1386.27,265.921 1397.87,265.921 \n",
       "  \"/>\n",
       "<polyline clip-path=\"url(#clip920)\" style=\"stroke:#000000; stroke-width:4; stroke-opacity:1; fill:none\" points=\"\n",
       "  1386.27,125.576 1397.87,125.576 \n",
       "  \"/>\n",
       "<path clip-path=\"url(#clip920)\" d=\"M 0 0 M1262.94 672.752 Q1259.33 672.752 1257.5 676.317 Q1255.69 679.859 1255.69 686.989 Q1255.69 694.095 1257.5 697.66 Q1259.33 701.201 1262.94 701.201 Q1266.57 701.201 1268.38 697.66 Q1270.2 694.095 1270.2 686.989 Q1270.2 679.859 1268.38 676.317 Q1266.57 672.752 1262.94 672.752 M1262.94 669.049 Q1268.75 669.049 1271.8 673.655 Q1274.88 678.239 1274.88 686.989 Q1274.88 695.715 1271.8 700.322 Q1268.75 704.905 1262.94 704.905 Q1257.13 704.905 1254.05 700.322 Q1250.99 695.715 1250.99 686.989 Q1250.99 678.239 1254.05 673.655 Q1257.13 669.049 1262.94 669.049 Z\" fill=\"#000000\" fill-rule=\"evenodd\" fill-opacity=\"1\" /><path clip-path=\"url(#clip920)\" d=\"M 0 0 M1283.1 698.354 L1287.98 698.354 L1287.98 704.234 L1283.1 704.234 L1283.1 698.354 Z\" fill=\"#000000\" fill-rule=\"evenodd\" fill-opacity=\"1\" /><path clip-path=\"url(#clip920)\" d=\"M 0 0 M1308.17 672.752 Q1304.56 672.752 1302.73 676.317 Q1300.92 679.859 1300.92 686.989 Q1300.92 694.095 1302.73 697.66 Q1304.56 701.201 1308.17 701.201 Q1311.8 701.201 1313.61 697.66 Q1315.44 694.095 1315.44 686.989 Q1315.44 679.859 1313.61 676.317 Q1311.8 672.752 1308.17 672.752 M1308.17 669.049 Q1313.98 669.049 1317.03 673.655 Q1320.11 678.239 1320.11 686.989 Q1320.11 695.715 1317.03 700.322 Q1313.98 704.905 1308.17 704.905 Q1302.36 704.905 1299.28 700.322 Q1296.22 695.715 1296.22 686.989 Q1296.22 678.239 1299.28 673.655 Q1302.36 669.049 1308.17 669.049 Z\" fill=\"#000000\" fill-rule=\"evenodd\" fill-opacity=\"1\" /><path clip-path=\"url(#clip920)\" d=\"M 0 0 M1338.33 672.752 Q1334.72 672.752 1332.89 676.317 Q1331.08 679.859 1331.08 686.989 Q1331.08 694.095 1332.89 697.66 Q1334.72 701.201 1338.33 701.201 Q1341.96 701.201 1343.77 697.66 Q1345.6 694.095 1345.6 686.989 Q1345.6 679.859 1343.77 676.317 Q1341.96 672.752 1338.33 672.752 M1338.33 669.049 Q1344.14 669.049 1347.2 673.655 Q1350.27 678.239 1350.27 686.989 Q1350.27 695.715 1347.2 700.322 Q1344.14 704.905 1338.33 704.905 Q1332.52 704.905 1329.44 700.322 Q1326.39 695.715 1326.39 686.989 Q1326.39 678.239 1329.44 673.655 Q1332.52 669.049 1338.33 669.049 Z\" fill=\"#000000\" fill-rule=\"evenodd\" fill-opacity=\"1\" /><path clip-path=\"url(#clip920)\" d=\"M 0 0 M1263.93 532.408 Q1260.32 532.408 1258.49 535.973 Q1256.69 539.515 1256.69 546.644 Q1256.69 553.751 1258.49 557.315 Q1260.32 560.857 1263.93 560.857 Q1267.57 560.857 1269.37 557.315 Q1271.2 553.751 1271.2 546.644 Q1271.2 539.515 1269.37 535.973 Q1267.57 532.408 1263.93 532.408 M1263.93 528.704 Q1269.74 528.704 1272.8 533.311 Q1275.88 537.894 1275.88 546.644 Q1275.88 555.371 1272.8 559.977 Q1269.74 564.561 1263.93 564.561 Q1258.12 564.561 1255.04 559.977 Q1251.99 555.371 1251.99 546.644 Q1251.99 537.894 1255.04 533.311 Q1258.12 528.704 1263.93 528.704 Z\" fill=\"#000000\" fill-rule=\"evenodd\" fill-opacity=\"1\" /><path clip-path=\"url(#clip920)\" d=\"M 0 0 M1284.09 558.01 L1288.98 558.01 L1288.98 563.889 L1284.09 563.889 L1284.09 558.01 Z\" fill=\"#000000\" fill-rule=\"evenodd\" fill-opacity=\"1\" /><path clip-path=\"url(#clip920)\" d=\"M 0 0 M1303.19 559.954 L1319.51 559.954 L1319.51 563.889 L1297.57 563.889 L1297.57 559.954 Q1300.23 557.2 1304.81 552.57 Q1309.42 547.917 1310.6 546.575 Q1312.84 544.052 1313.72 542.315 Q1314.63 540.556 1314.63 538.866 Q1314.63 536.112 1312.68 534.376 Q1310.76 532.64 1307.66 532.64 Q1305.46 532.64 1303.01 533.403 Q1300.58 534.167 1297.8 535.718 L1297.8 530.996 Q1300.62 529.862 1303.08 529.283 Q1305.53 528.704 1307.57 528.704 Q1312.94 528.704 1316.13 531.39 Q1319.33 534.075 1319.33 538.565 Q1319.33 540.695 1318.51 542.616 Q1317.73 544.515 1315.62 547.107 Q1315.04 547.778 1311.94 550.996 Q1308.84 554.19 1303.19 559.954 Z\" fill=\"#000000\" fill-rule=\"evenodd\" fill-opacity=\"1\" /><path clip-path=\"url(#clip920)\" d=\"M 0 0 M1329.37 529.329 L1347.73 529.329 L1347.73 533.265 L1333.65 533.265 L1333.65 541.737 Q1334.67 541.39 1335.69 541.228 Q1336.71 541.042 1337.73 541.042 Q1343.51 541.042 1346.89 544.214 Q1350.27 547.385 1350.27 552.802 Q1350.27 558.38 1346.8 561.482 Q1343.33 564.561 1337.01 564.561 Q1334.83 564.561 1332.57 564.19 Q1330.32 563.82 1327.91 563.079 L1327.91 558.38 Q1330 559.514 1332.22 560.07 Q1334.44 560.626 1336.92 560.626 Q1340.92 560.626 1343.26 558.519 Q1345.6 556.413 1345.6 552.802 Q1345.6 549.19 1343.26 547.084 Q1340.92 544.977 1336.92 544.977 Q1335.04 544.977 1333.17 545.394 Q1331.32 545.811 1329.37 546.69 L1329.37 529.329 Z\" fill=\"#000000\" fill-rule=\"evenodd\" fill-opacity=\"1\" /><path clip-path=\"url(#clip920)\" d=\"M 0 0 M1262.94 392.064 Q1259.33 392.064 1257.5 395.629 Q1255.69 399.17 1255.69 406.3 Q1255.69 413.406 1257.5 416.971 Q1259.33 420.513 1262.94 420.513 Q1266.57 420.513 1268.38 416.971 Q1270.2 413.406 1270.2 406.3 Q1270.2 399.17 1268.38 395.629 Q1266.57 392.064 1262.94 392.064 M1262.94 388.36 Q1268.75 388.36 1271.8 392.967 Q1274.88 397.55 1274.88 406.3 Q1274.88 415.027 1271.8 419.633 Q1268.75 424.216 1262.94 424.216 Q1257.13 424.216 1254.05 419.633 Q1250.99 415.027 1250.99 406.3 Q1250.99 397.55 1254.05 392.967 Q1257.13 388.36 1262.94 388.36 Z\" fill=\"#000000\" fill-rule=\"evenodd\" fill-opacity=\"1\" /><path clip-path=\"url(#clip920)\" d=\"M 0 0 M1283.1 417.665 L1287.98 417.665 L1287.98 423.545 L1283.1 423.545 L1283.1 417.665 Z\" fill=\"#000000\" fill-rule=\"evenodd\" fill-opacity=\"1\" /><path clip-path=\"url(#clip920)\" d=\"M 0 0 M1298.21 388.985 L1316.57 388.985 L1316.57 392.92 L1302.5 392.92 L1302.5 401.392 Q1303.51 401.045 1304.53 400.883 Q1305.55 400.698 1306.57 400.698 Q1312.36 400.698 1315.74 403.869 Q1319.12 407.041 1319.12 412.457 Q1319.12 418.036 1315.64 421.138 Q1312.17 424.216 1305.85 424.216 Q1303.68 424.216 1301.41 423.846 Q1299.16 423.476 1296.76 422.735 L1296.76 418.036 Q1298.84 419.17 1301.06 419.726 Q1303.28 420.281 1305.76 420.281 Q1309.76 420.281 1312.1 418.175 Q1314.44 416.068 1314.44 412.457 Q1314.44 408.846 1312.1 406.74 Q1309.76 404.633 1305.76 404.633 Q1303.89 404.633 1302.01 405.05 Q1300.16 405.466 1298.21 406.346 L1298.21 388.985 Z\" fill=\"#000000\" fill-rule=\"evenodd\" fill-opacity=\"1\" /><path clip-path=\"url(#clip920)\" d=\"M 0 0 M1338.33 392.064 Q1334.72 392.064 1332.89 395.629 Q1331.08 399.17 1331.08 406.3 Q1331.08 413.406 1332.89 416.971 Q1334.72 420.513 1338.33 420.513 Q1341.96 420.513 1343.77 416.971 Q1345.6 413.406 1345.6 406.3 Q1345.6 399.17 1343.77 395.629 Q1341.96 392.064 1338.33 392.064 M1338.33 388.36 Q1344.14 388.36 1347.2 392.967 Q1350.27 397.55 1350.27 406.3 Q1350.27 415.027 1347.2 419.633 Q1344.14 424.216 1338.33 424.216 Q1332.52 424.216 1329.44 419.633 Q1326.39 415.027 1326.39 406.3 Q1326.39 397.55 1329.44 392.967 Q1332.52 388.36 1338.33 388.36 Z\" fill=\"#000000\" fill-rule=\"evenodd\" fill-opacity=\"1\" /><path clip-path=\"url(#clip920)\" d=\"M 0 0 M1263.93 251.719 Q1260.32 251.719 1258.49 255.284 Q1256.69 258.826 1256.69 265.955 Q1256.69 273.062 1258.49 276.627 Q1260.32 280.168 1263.93 280.168 Q1267.57 280.168 1269.37 276.627 Q1271.2 273.062 1271.2 265.955 Q1271.2 258.826 1269.37 255.284 Q1267.57 251.719 1263.93 251.719 M1263.93 248.016 Q1269.74 248.016 1272.8 252.622 Q1275.88 257.205 1275.88 265.955 Q1275.88 274.682 1272.8 279.289 Q1269.74 283.872 1263.93 283.872 Q1258.12 283.872 1255.04 279.289 Q1251.99 274.682 1251.99 265.955 Q1251.99 257.205 1255.04 252.622 Q1258.12 248.016 1263.93 248.016 Z\" fill=\"#000000\" fill-rule=\"evenodd\" fill-opacity=\"1\" /><path clip-path=\"url(#clip920)\" d=\"M 0 0 M1284.09 277.321 L1288.98 277.321 L1288.98 283.201 L1284.09 283.201 L1284.09 277.321 Z\" fill=\"#000000\" fill-rule=\"evenodd\" fill-opacity=\"1\" /><path clip-path=\"url(#clip920)\" d=\"M 0 0 M1297.98 248.641 L1320.2 248.641 L1320.2 250.631 L1307.66 283.201 L1302.77 283.201 L1314.58 252.576 L1297.98 252.576 L1297.98 248.641 Z\" fill=\"#000000\" fill-rule=\"evenodd\" fill-opacity=\"1\" /><path clip-path=\"url(#clip920)\" d=\"M 0 0 M1329.37 248.641 L1347.73 248.641 L1347.73 252.576 L1333.65 252.576 L1333.65 261.048 Q1334.67 260.701 1335.69 260.539 Q1336.71 260.354 1337.73 260.354 Q1343.51 260.354 1346.89 263.525 Q1350.27 266.696 1350.27 272.113 Q1350.27 277.691 1346.8 280.793 Q1343.33 283.872 1337.01 283.872 Q1334.83 283.872 1332.57 283.502 Q1330.32 283.131 1327.91 282.391 L1327.91 277.691 Q1330 278.826 1332.22 279.381 Q1334.44 279.937 1336.92 279.937 Q1340.92 279.937 1343.26 277.83 Q1345.6 275.724 1345.6 272.113 Q1345.6 268.502 1343.26 266.395 Q1340.92 264.289 1336.92 264.289 Q1335.04 264.289 1333.17 264.705 Q1331.32 265.122 1329.37 266.002 L1329.37 248.641 Z\" fill=\"#000000\" fill-rule=\"evenodd\" fill-opacity=\"1\" /><path clip-path=\"url(#clip920)\" d=\"M 0 0 M1253.75 138.921 L1261.39 138.921 L1261.39 112.556 L1253.08 114.222 L1253.08 109.963 L1261.34 108.296 L1266.02 108.296 L1266.02 138.921 L1273.65 138.921 L1273.65 142.856 L1253.75 142.856 L1253.75 138.921 Z\" fill=\"#000000\" fill-rule=\"evenodd\" fill-opacity=\"1\" /><path clip-path=\"url(#clip920)\" d=\"M 0 0 M1283.1 136.977 L1287.98 136.977 L1287.98 142.856 L1283.1 142.856 L1283.1 136.977 Z\" fill=\"#000000\" fill-rule=\"evenodd\" fill-opacity=\"1\" /><path clip-path=\"url(#clip920)\" d=\"M 0 0 M1308.17 111.375 Q1304.56 111.375 1302.73 114.94 Q1300.92 118.482 1300.92 125.611 Q1300.92 132.718 1302.73 136.282 Q1304.56 139.824 1308.17 139.824 Q1311.8 139.824 1313.61 136.282 Q1315.44 132.718 1315.44 125.611 Q1315.44 118.482 1313.61 114.94 Q1311.8 111.375 1308.17 111.375 M1308.17 107.671 Q1313.98 107.671 1317.03 112.278 Q1320.11 116.861 1320.11 125.611 Q1320.11 134.338 1317.03 138.944 Q1313.98 143.528 1308.17 143.528 Q1302.36 143.528 1299.28 138.944 Q1296.22 134.338 1296.22 125.611 Q1296.22 116.861 1299.28 112.278 Q1302.36 107.671 1308.17 107.671 Z\" fill=\"#000000\" fill-rule=\"evenodd\" fill-opacity=\"1\" /><path clip-path=\"url(#clip920)\" d=\"M 0 0 M1338.33 111.375 Q1334.72 111.375 1332.89 114.94 Q1331.08 118.482 1331.08 125.611 Q1331.08 132.718 1332.89 136.282 Q1334.72 139.824 1338.33 139.824 Q1341.96 139.824 1343.77 136.282 Q1345.6 132.718 1345.6 125.611 Q1345.6 118.482 1343.77 114.94 Q1341.96 111.375 1338.33 111.375 M1338.33 107.671 Q1344.14 107.671 1347.2 112.278 Q1350.27 116.861 1350.27 125.611 Q1350.27 134.338 1347.2 138.944 Q1344.14 143.528 1338.33 143.528 Q1332.52 143.528 1329.44 138.944 Q1326.39 134.338 1326.39 125.611 Q1326.39 116.861 1329.44 112.278 Q1332.52 107.671 1338.33 107.671 Z\" fill=\"#000000\" fill-rule=\"evenodd\" fill-opacity=\"1\" /><circle clip-path=\"url(#clip923)\" cx=\"1413.63\" cy=\"139.589\" r=\"14\" fill=\"#009af9\" fill-rule=\"evenodd\" fill-opacity=\"1\" stroke=\"#000000\" stroke-opacity=\"1\" stroke-width=\"3.2\"/>\n",
       "<circle clip-path=\"url(#clip923)\" cx=\"1514.94\" cy=\"520.573\" r=\"14\" fill=\"#009af9\" fill-rule=\"evenodd\" fill-opacity=\"1\" stroke=\"#000000\" stroke-opacity=\"1\" stroke-width=\"3.2\"/>\n",
       "<circle clip-path=\"url(#clip923)\" cx=\"1616.24\" cy=\"662.679\" r=\"14\" fill=\"#009af9\" fill-rule=\"evenodd\" fill-opacity=\"1\" stroke=\"#000000\" stroke-opacity=\"1\" stroke-width=\"3.2\"/>\n",
       "<circle clip-path=\"url(#clip923)\" cx=\"1717.55\" cy=\"305.033\" r=\"14\" fill=\"#009af9\" fill-rule=\"evenodd\" fill-opacity=\"1\" stroke=\"#000000\" stroke-opacity=\"1\" stroke-width=\"3.2\"/>\n",
       "<circle clip-path=\"url(#clip923)\" cx=\"1818.86\" cy=\"653.022\" r=\"14\" fill=\"#009af9\" fill-rule=\"evenodd\" fill-opacity=\"1\" stroke=\"#000000\" stroke-opacity=\"1\" stroke-width=\"3.2\"/>\n",
       "<circle clip-path=\"url(#clip923)\" cx=\"1920.17\" cy=\"596.791\" r=\"14\" fill=\"#009af9\" fill-rule=\"evenodd\" fill-opacity=\"1\" stroke=\"#000000\" stroke-opacity=\"1\" stroke-width=\"3.2\"/>\n",
       "<circle clip-path=\"url(#clip923)\" cx=\"2021.48\" cy=\"495.617\" r=\"14\" fill=\"#009af9\" fill-rule=\"evenodd\" fill-opacity=\"1\" stroke=\"#000000\" stroke-opacity=\"1\" stroke-width=\"3.2\"/>\n",
       "<circle clip-path=\"url(#clip923)\" cx=\"2122.79\" cy=\"363.172\" r=\"14\" fill=\"#009af9\" fill-rule=\"evenodd\" fill-opacity=\"1\" stroke=\"#000000\" stroke-opacity=\"1\" stroke-width=\"3.2\"/>\n",
       "<circle clip-path=\"url(#clip923)\" cx=\"2224.09\" cy=\"167.197\" r=\"14\" fill=\"#009af9\" fill-rule=\"evenodd\" fill-opacity=\"1\" stroke=\"#000000\" stroke-opacity=\"1\" stroke-width=\"3.2\"/>\n",
       "<circle clip-path=\"url(#clip923)\" cx=\"2325.4\" cy=\"628.731\" r=\"14\" fill=\"#009af9\" fill-rule=\"evenodd\" fill-opacity=\"1\" stroke=\"#000000\" stroke-opacity=\"1\" stroke-width=\"3.2\"/>\n",
       "<circle clip-path=\"url(#clip923)\" cx=\"1413.63\" cy=\"452.782\" r=\"14\" fill=\"#e26f46\" fill-rule=\"evenodd\" fill-opacity=\"1\" stroke=\"#000000\" stroke-opacity=\"1\" stroke-width=\"3.2\"/>\n",
       "<circle clip-path=\"url(#clip923)\" cx=\"1514.94\" cy=\"191.681\" r=\"14\" fill=\"#e26f46\" fill-rule=\"evenodd\" fill-opacity=\"1\" stroke=\"#000000\" stroke-opacity=\"1\" stroke-width=\"3.2\"/>\n",
       "<circle clip-path=\"url(#clip923)\" cx=\"1616.24\" cy=\"386.713\" r=\"14\" fill=\"#e26f46\" fill-rule=\"evenodd\" fill-opacity=\"1\" stroke=\"#000000\" stroke-opacity=\"1\" stroke-width=\"3.2\"/>\n",
       "<circle clip-path=\"url(#clip923)\" cx=\"1717.55\" cy=\"674.745\" r=\"14\" fill=\"#e26f46\" fill-rule=\"evenodd\" fill-opacity=\"1\" stroke=\"#000000\" stroke-opacity=\"1\" stroke-width=\"3.2\"/>\n",
       "<circle clip-path=\"url(#clip923)\" cx=\"1818.86\" cy=\"184.317\" r=\"14\" fill=\"#e26f46\" fill-rule=\"evenodd\" fill-opacity=\"1\" stroke=\"#000000\" stroke-opacity=\"1\" stroke-width=\"3.2\"/>\n",
       "<circle clip-path=\"url(#clip923)\" cx=\"1920.17\" cy=\"676.811\" r=\"14\" fill=\"#e26f46\" fill-rule=\"evenodd\" fill-opacity=\"1\" stroke=\"#000000\" stroke-opacity=\"1\" stroke-width=\"3.2\"/>\n",
       "<circle clip-path=\"url(#clip923)\" cx=\"2021.48\" cy=\"413.667\" r=\"14\" fill=\"#e26f46\" fill-rule=\"evenodd\" fill-opacity=\"1\" stroke=\"#000000\" stroke-opacity=\"1\" stroke-width=\"3.2\"/>\n",
       "<circle clip-path=\"url(#clip923)\" cx=\"2122.79\" cy=\"518.06\" r=\"14\" fill=\"#e26f46\" fill-rule=\"evenodd\" fill-opacity=\"1\" stroke=\"#000000\" stroke-opacity=\"1\" stroke-width=\"3.2\"/>\n",
       "<circle clip-path=\"url(#clip923)\" cx=\"2224.09\" cy=\"623.337\" r=\"14\" fill=\"#e26f46\" fill-rule=\"evenodd\" fill-opacity=\"1\" stroke=\"#000000\" stroke-opacity=\"1\" stroke-width=\"3.2\"/>\n",
       "<circle clip-path=\"url(#clip923)\" cx=\"2325.4\" cy=\"587.245\" r=\"14\" fill=\"#e26f46\" fill-rule=\"evenodd\" fill-opacity=\"1\" stroke=\"#000000\" stroke-opacity=\"1\" stroke-width=\"3.2\"/>\n",
       "<path clip-path=\"url(#clip920)\" d=\"\n",
       "M186.274 1486.45 L1152.76 1486.45 L1152.76 916.992 L186.274 916.992  Z\n",
       "  \" fill=\"#ffffff\" fill-rule=\"evenodd\" fill-opacity=\"1\"/>\n",
       "<defs>\n",
       "  <clipPath id=\"clip924\">\n",
       "    <rect x=\"186\" y=\"916\" width=\"967\" height=\"570\"/>\n",
       "  </clipPath>\n",
       "</defs>\n",
       "<polyline clip-path=\"url(#clip924)\" style=\"stroke:#000000; stroke-width:2; stroke-opacity:0.1; fill:none\" points=\"\n",
       "  314.936,1486.45 314.936,916.992 \n",
       "  \"/>\n",
       "<polyline clip-path=\"url(#clip924)\" style=\"stroke:#000000; stroke-width:2; stroke-opacity:0.1; fill:none\" points=\"\n",
       "  517.552,1486.45 517.552,916.992 \n",
       "  \"/>\n",
       "<polyline clip-path=\"url(#clip924)\" style=\"stroke:#000000; stroke-width:2; stroke-opacity:0.1; fill:none\" points=\"\n",
       "  720.169,1486.45 720.169,916.992 \n",
       "  \"/>\n",
       "<polyline clip-path=\"url(#clip924)\" style=\"stroke:#000000; stroke-width:2; stroke-opacity:0.1; fill:none\" points=\"\n",
       "  922.786,1486.45 922.786,916.992 \n",
       "  \"/>\n",
       "<polyline clip-path=\"url(#clip924)\" style=\"stroke:#000000; stroke-width:2; stroke-opacity:0.1; fill:none\" points=\"\n",
       "  1125.4,1486.45 1125.4,916.992 \n",
       "  \"/>\n",
       "<polyline clip-path=\"url(#clip920)\" style=\"stroke:#000000; stroke-width:4; stroke-opacity:1; fill:none\" points=\"\n",
       "  186.274,1486.45 1152.76,1486.45 \n",
       "  \"/>\n",
       "<polyline clip-path=\"url(#clip920)\" style=\"stroke:#000000; stroke-width:4; stroke-opacity:1; fill:none\" points=\"\n",
       "  314.936,1486.45 314.936,1479.61 \n",
       "  \"/>\n",
       "<polyline clip-path=\"url(#clip920)\" style=\"stroke:#000000; stroke-width:4; stroke-opacity:1; fill:none\" points=\"\n",
       "  517.552,1486.45 517.552,1479.61 \n",
       "  \"/>\n",
       "<polyline clip-path=\"url(#clip920)\" style=\"stroke:#000000; stroke-width:4; stroke-opacity:1; fill:none\" points=\"\n",
       "  720.169,1486.45 720.169,1479.61 \n",
       "  \"/>\n",
       "<polyline clip-path=\"url(#clip920)\" style=\"stroke:#000000; stroke-width:4; stroke-opacity:1; fill:none\" points=\"\n",
       "  922.786,1486.45 922.786,1479.61 \n",
       "  \"/>\n",
       "<polyline clip-path=\"url(#clip920)\" style=\"stroke:#000000; stroke-width:4; stroke-opacity:1; fill:none\" points=\"\n",
       "  1125.4,1486.45 1125.4,1479.61 \n",
       "  \"/>\n",
       "<path clip-path=\"url(#clip920)\" d=\"M 0 0 M309.588 1543.18 L325.908 1543.18 L325.908 1547.12 L303.963 1547.12 L303.963 1543.18 Q306.625 1540.43 311.209 1535.8 Q315.815 1531.15 316.996 1529.81 Q319.241 1527.28 320.121 1525.55 Q321.024 1523.79 321.024 1522.1 Q321.024 1519.34 319.079 1517.61 Q317.158 1515.87 314.056 1515.87 Q311.857 1515.87 309.403 1516.63 Q306.973 1517.4 304.195 1518.95 L304.195 1514.23 Q307.019 1513.09 309.473 1512.51 Q311.926 1511.93 313.963 1511.93 Q319.334 1511.93 322.528 1514.62 Q325.723 1517.31 325.723 1521.8 Q325.723 1523.93 324.912 1525.85 Q324.125 1527.74 322.019 1530.34 Q321.44 1531.01 318.338 1534.23 Q315.237 1537.42 309.588 1543.18 Z\" fill=\"#000000\" fill-rule=\"evenodd\" fill-opacity=\"1\" /><path clip-path=\"url(#clip920)\" d=\"M 0 0 M520.562 1516.63 L508.756 1535.08 L520.562 1535.08 L520.562 1516.63 M519.335 1512.56 L525.214 1512.56 L525.214 1535.08 L530.145 1535.08 L530.145 1538.97 L525.214 1538.97 L525.214 1547.12 L520.562 1547.12 L520.562 1538.97 L504.96 1538.97 L504.96 1534.46 L519.335 1512.56 Z\" fill=\"#000000\" fill-rule=\"evenodd\" fill-opacity=\"1\" /><path clip-path=\"url(#clip920)\" d=\"M 0 0 M720.574 1527.98 Q717.426 1527.98 715.574 1530.13 Q713.746 1532.28 713.746 1536.03 Q713.746 1539.76 715.574 1541.93 Q717.426 1544.09 720.574 1544.09 Q723.722 1544.09 725.551 1541.93 Q727.403 1539.76 727.403 1536.03 Q727.403 1532.28 725.551 1530.13 Q723.722 1527.98 720.574 1527.98 M729.857 1513.32 L729.857 1517.58 Q728.097 1516.75 726.292 1516.31 Q724.509 1515.87 722.75 1515.87 Q718.121 1515.87 715.667 1519 Q713.236 1522.12 712.889 1528.44 Q714.255 1526.43 716.315 1525.36 Q718.375 1524.27 720.852 1524.27 Q726.06 1524.27 729.07 1527.44 Q732.102 1530.59 732.102 1536.03 Q732.102 1541.36 728.954 1544.57 Q725.806 1547.79 720.574 1547.79 Q714.579 1547.79 711.408 1543.21 Q708.236 1538.6 708.236 1529.87 Q708.236 1521.68 712.125 1516.82 Q716.014 1511.93 722.565 1511.93 Q724.324 1511.93 726.107 1512.28 Q727.912 1512.63 729.857 1513.32 Z\" fill=\"#000000\" fill-rule=\"evenodd\" fill-opacity=\"1\" /><path clip-path=\"url(#clip920)\" d=\"M 0 0 M922.786 1530.71 Q919.453 1530.71 917.531 1532.49 Q915.633 1534.27 915.633 1537.4 Q915.633 1540.52 917.531 1542.31 Q919.453 1544.09 922.786 1544.09 Q926.119 1544.09 928.04 1542.31 Q929.962 1540.5 929.962 1537.4 Q929.962 1534.27 928.04 1532.49 Q926.142 1530.71 922.786 1530.71 M918.11 1528.72 Q915.101 1527.98 913.411 1525.92 Q911.744 1523.86 911.744 1520.89 Q911.744 1516.75 914.684 1514.34 Q917.647 1511.93 922.786 1511.93 Q927.948 1511.93 930.888 1514.34 Q933.828 1516.75 933.828 1520.89 Q933.828 1523.86 932.138 1525.92 Q930.471 1527.98 927.485 1528.72 Q930.865 1529.5 932.74 1531.8 Q934.638 1534.09 934.638 1537.4 Q934.638 1542.42 931.559 1545.11 Q928.503 1547.79 922.786 1547.79 Q917.068 1547.79 913.99 1545.11 Q910.934 1542.42 910.934 1537.4 Q910.934 1534.09 912.832 1531.8 Q914.73 1529.5 918.11 1528.72 M916.397 1521.33 Q916.397 1524.02 918.064 1525.52 Q919.754 1527.03 922.786 1527.03 Q925.795 1527.03 927.485 1525.52 Q929.198 1524.02 929.198 1521.33 Q929.198 1518.65 927.485 1517.14 Q925.795 1515.64 922.786 1515.64 Q919.754 1515.64 918.064 1517.14 Q916.397 1518.65 916.397 1521.33 Z\" fill=\"#000000\" fill-rule=\"evenodd\" fill-opacity=\"1\" /><path clip-path=\"url(#clip920)\" d=\"M 0 0 M1100.09 1543.18 L1107.73 1543.18 L1107.73 1516.82 L1099.42 1518.49 L1099.42 1514.23 L1107.68 1512.56 L1112.36 1512.56 L1112.36 1543.18 L1120 1543.18 L1120 1547.12 L1100.09 1547.12 L1100.09 1543.18 Z\" fill=\"#000000\" fill-rule=\"evenodd\" fill-opacity=\"1\" /><path clip-path=\"url(#clip920)\" d=\"M 0 0 M1139.44 1515.64 Q1135.83 1515.64 1134 1519.2 Q1132.2 1522.75 1132.2 1529.87 Q1132.2 1536.98 1134 1540.55 Q1135.83 1544.09 1139.44 1544.09 Q1143.08 1544.09 1144.88 1540.55 Q1146.71 1536.98 1146.71 1529.87 Q1146.71 1522.75 1144.88 1519.2 Q1143.08 1515.64 1139.44 1515.64 M1139.44 1511.93 Q1145.25 1511.93 1148.31 1516.54 Q1151.39 1521.12 1151.39 1529.87 Q1151.39 1538.6 1148.31 1543.21 Q1145.25 1547.79 1139.44 1547.79 Q1133.63 1547.79 1130.55 1543.21 Q1127.5 1538.6 1127.5 1529.87 Q1127.5 1521.12 1130.55 1516.54 Q1133.63 1511.93 1139.44 1511.93 Z\" fill=\"#000000\" fill-rule=\"evenodd\" fill-opacity=\"1\" /><polyline clip-path=\"url(#clip924)\" style=\"stroke:#000000; stroke-width:2; stroke-opacity:0.1; fill:none\" points=\"\n",
       "  186.274,1480.47 1152.76,1480.47 \n",
       "  \"/>\n",
       "<polyline clip-path=\"url(#clip924)\" style=\"stroke:#000000; stroke-width:2; stroke-opacity:0.1; fill:none\" points=\"\n",
       "  186.274,1340.13 1152.76,1340.13 \n",
       "  \"/>\n",
       "<polyline clip-path=\"url(#clip924)\" style=\"stroke:#000000; stroke-width:2; stroke-opacity:0.1; fill:none\" points=\"\n",
       "  186.274,1199.79 1152.76,1199.79 \n",
       "  \"/>\n",
       "<polyline clip-path=\"url(#clip924)\" style=\"stroke:#000000; stroke-width:2; stroke-opacity:0.1; fill:none\" points=\"\n",
       "  186.274,1059.44 1152.76,1059.44 \n",
       "  \"/>\n",
       "<polyline clip-path=\"url(#clip924)\" style=\"stroke:#000000; stroke-width:2; stroke-opacity:0.1; fill:none\" points=\"\n",
       "  186.274,919.096 1152.76,919.096 \n",
       "  \"/>\n",
       "<polyline clip-path=\"url(#clip920)\" style=\"stroke:#000000; stroke-width:4; stroke-opacity:1; fill:none\" points=\"\n",
       "  186.274,1486.45 186.274,916.992 \n",
       "  \"/>\n",
       "<polyline clip-path=\"url(#clip920)\" style=\"stroke:#000000; stroke-width:4; stroke-opacity:1; fill:none\" points=\"\n",
       "  186.274,1480.47 197.872,1480.47 \n",
       "  \"/>\n",
       "<polyline clip-path=\"url(#clip920)\" style=\"stroke:#000000; stroke-width:4; stroke-opacity:1; fill:none\" points=\"\n",
       "  186.274,1340.13 197.872,1340.13 \n",
       "  \"/>\n",
       "<polyline clip-path=\"url(#clip920)\" style=\"stroke:#000000; stroke-width:4; stroke-opacity:1; fill:none\" points=\"\n",
       "  186.274,1199.79 197.872,1199.79 \n",
       "  \"/>\n",
       "<polyline clip-path=\"url(#clip920)\" style=\"stroke:#000000; stroke-width:4; stroke-opacity:1; fill:none\" points=\"\n",
       "  186.274,1059.44 197.872,1059.44 \n",
       "  \"/>\n",
       "<polyline clip-path=\"url(#clip920)\" style=\"stroke:#000000; stroke-width:4; stroke-opacity:1; fill:none\" points=\"\n",
       "  186.274,919.096 197.872,919.096 \n",
       "  \"/>\n",
       "<path clip-path=\"url(#clip920)\" d=\"M 0 0 M62.9365 1466.27 Q59.3254 1466.27 57.4967 1469.84 Q55.6912 1473.38 55.6912 1480.51 Q55.6912 1487.61 57.4967 1491.18 Q59.3254 1494.72 62.9365 1494.72 Q66.5707 1494.72 68.3763 1491.18 Q70.205 1487.61 70.205 1480.51 Q70.205 1473.38 68.3763 1469.84 Q66.5707 1466.27 62.9365 1466.27 M62.9365 1462.57 Q68.7467 1462.57 71.8022 1467.18 Q74.8809 1471.76 74.8809 1480.51 Q74.8809 1489.24 71.8022 1493.84 Q68.7467 1498.43 62.9365 1498.43 Q57.1264 1498.43 54.0477 1493.84 Q50.9921 1489.24 50.9921 1480.51 Q50.9921 1471.76 54.0477 1467.18 Q57.1264 1462.57 62.9365 1462.57 Z\" fill=\"#000000\" fill-rule=\"evenodd\" fill-opacity=\"1\" /><path clip-path=\"url(#clip920)\" d=\"M 0 0 M83.0984 1491.87 L87.9827 1491.87 L87.9827 1497.75 L83.0984 1497.75 L83.0984 1491.87 Z\" fill=\"#000000\" fill-rule=\"evenodd\" fill-opacity=\"1\" /><path clip-path=\"url(#clip920)\" d=\"M 0 0 M108.168 1466.27 Q104.557 1466.27 102.728 1469.84 Q100.922 1473.38 100.922 1480.51 Q100.922 1487.61 102.728 1491.18 Q104.557 1494.72 108.168 1494.72 Q111.802 1494.72 113.608 1491.18 Q115.436 1487.61 115.436 1480.51 Q115.436 1473.38 113.608 1469.84 Q111.802 1466.27 108.168 1466.27 M108.168 1462.57 Q113.978 1462.57 117.033 1467.18 Q120.112 1471.76 120.112 1480.51 Q120.112 1489.24 117.033 1493.84 Q113.978 1498.43 108.168 1498.43 Q102.358 1498.43 99.2789 1493.84 Q96.2234 1489.24 96.2234 1480.51 Q96.2234 1471.76 99.2789 1467.18 Q102.358 1462.57 108.168 1462.57 Z\" fill=\"#000000\" fill-rule=\"evenodd\" fill-opacity=\"1\" /><path clip-path=\"url(#clip920)\" d=\"M 0 0 M138.33 1466.27 Q134.719 1466.27 132.89 1469.84 Q131.084 1473.38 131.084 1480.51 Q131.084 1487.61 132.89 1491.18 Q134.719 1494.72 138.33 1494.72 Q141.964 1494.72 143.769 1491.18 Q145.598 1487.61 145.598 1480.51 Q145.598 1473.38 143.769 1469.84 Q141.964 1466.27 138.33 1466.27 M138.33 1462.57 Q144.14 1462.57 147.195 1467.18 Q150.274 1471.76 150.274 1480.51 Q150.274 1489.24 147.195 1493.84 Q144.14 1498.43 138.33 1498.43 Q132.519 1498.43 129.441 1493.84 Q126.385 1489.24 126.385 1480.51 Q126.385 1471.76 129.441 1467.18 Q132.519 1462.57 138.33 1462.57 Z\" fill=\"#000000\" fill-rule=\"evenodd\" fill-opacity=\"1\" /><path clip-path=\"url(#clip920)\" d=\"M 0 0 M63.9319 1325.93 Q60.3208 1325.93 58.4921 1329.49 Q56.6865 1333.03 56.6865 1340.16 Q56.6865 1347.27 58.4921 1350.84 Q60.3208 1354.38 63.9319 1354.38 Q67.5661 1354.38 69.3717 1350.84 Q71.2004 1347.27 71.2004 1340.16 Q71.2004 1333.03 69.3717 1329.49 Q67.5661 1325.93 63.9319 1325.93 M63.9319 1322.22 Q69.742 1322.22 72.7976 1326.83 Q75.8763 1331.41 75.8763 1340.16 Q75.8763 1348.89 72.7976 1353.5 Q69.742 1358.08 63.9319 1358.08 Q58.1217 1358.08 55.043 1353.5 Q51.9875 1348.89 51.9875 1340.16 Q51.9875 1331.41 55.043 1326.83 Q58.1217 1322.22 63.9319 1322.22 Z\" fill=\"#000000\" fill-rule=\"evenodd\" fill-opacity=\"1\" /><path clip-path=\"url(#clip920)\" d=\"M 0 0 M84.0938 1351.53 L88.978 1351.53 L88.978 1357.41 L84.0938 1357.41 L84.0938 1351.53 Z\" fill=\"#000000\" fill-rule=\"evenodd\" fill-opacity=\"1\" /><path clip-path=\"url(#clip920)\" d=\"M 0 0 M103.191 1353.47 L119.51 1353.47 L119.51 1357.41 L97.566 1357.41 L97.566 1353.47 Q100.228 1350.72 104.811 1346.09 Q109.418 1341.44 110.598 1340.09 Q112.844 1337.57 113.723 1335.84 Q114.626 1334.08 114.626 1332.39 Q114.626 1329.63 112.682 1327.9 Q110.76 1326.16 107.658 1326.16 Q105.459 1326.16 103.006 1326.92 Q100.575 1327.69 97.7974 1329.24 L97.7974 1324.52 Q100.621 1323.38 103.075 1322.8 Q105.529 1322.22 107.566 1322.22 Q112.936 1322.22 116.131 1324.91 Q119.325 1327.59 119.325 1332.09 Q119.325 1334.22 118.515 1336.14 Q117.728 1338.03 115.621 1340.63 Q115.043 1341.3 111.941 1344.52 Q108.839 1347.71 103.191 1353.47 Z\" fill=\"#000000\" fill-rule=\"evenodd\" fill-opacity=\"1\" /><path clip-path=\"url(#clip920)\" d=\"M 0 0 M129.371 1322.85 L147.728 1322.85 L147.728 1326.78 L133.654 1326.78 L133.654 1335.26 Q134.672 1334.91 135.691 1334.75 Q136.709 1334.56 137.728 1334.56 Q143.515 1334.56 146.894 1337.73 Q150.274 1340.9 150.274 1346.32 Q150.274 1351.9 146.802 1355 Q143.33 1358.08 137.01 1358.08 Q134.834 1358.08 132.566 1357.71 Q130.32 1357.34 127.913 1356.6 L127.913 1351.9 Q129.996 1353.03 132.219 1353.59 Q134.441 1354.15 136.918 1354.15 Q140.922 1354.15 143.26 1352.04 Q145.598 1349.93 145.598 1346.32 Q145.598 1342.71 143.26 1340.6 Q140.922 1338.5 136.918 1338.5 Q135.043 1338.5 133.168 1338.91 Q131.316 1339.33 129.371 1340.21 L129.371 1322.85 Z\" fill=\"#000000\" fill-rule=\"evenodd\" fill-opacity=\"1\" /><path clip-path=\"url(#clip920)\" d=\"M 0 0 M62.9365 1185.58 Q59.3254 1185.58 57.4967 1189.15 Q55.6912 1192.69 55.6912 1199.82 Q55.6912 1206.93 57.4967 1210.49 Q59.3254 1214.03 62.9365 1214.03 Q66.5707 1214.03 68.3763 1210.49 Q70.205 1206.93 70.205 1199.82 Q70.205 1192.69 68.3763 1189.15 Q66.5707 1185.58 62.9365 1185.58 M62.9365 1181.88 Q68.7467 1181.88 71.8022 1186.49 Q74.8809 1191.07 74.8809 1199.82 Q74.8809 1208.55 71.8022 1213.15 Q68.7467 1217.74 62.9365 1217.74 Q57.1264 1217.74 54.0477 1213.15 Q50.9921 1208.55 50.9921 1199.82 Q50.9921 1191.07 54.0477 1186.49 Q57.1264 1181.88 62.9365 1181.88 Z\" fill=\"#000000\" fill-rule=\"evenodd\" fill-opacity=\"1\" /><path clip-path=\"url(#clip920)\" d=\"M 0 0 M83.0984 1211.19 L87.9827 1211.19 L87.9827 1217.07 L83.0984 1217.07 L83.0984 1211.19 Z\" fill=\"#000000\" fill-rule=\"evenodd\" fill-opacity=\"1\" /><path clip-path=\"url(#clip920)\" d=\"M 0 0 M98.2141 1182.51 L116.57 1182.51 L116.57 1186.44 L102.496 1186.44 L102.496 1194.91 Q103.515 1194.57 104.534 1194.4 Q105.552 1194.22 106.571 1194.22 Q112.358 1194.22 115.737 1197.39 Q119.117 1200.56 119.117 1205.98 Q119.117 1211.56 115.645 1214.66 Q112.172 1217.74 105.853 1217.74 Q103.677 1217.74 101.409 1217.37 Q99.1632 1217 96.7558 1216.25 L96.7558 1211.56 Q98.8391 1212.69 101.061 1213.25 Q103.284 1213.8 105.76 1213.8 Q109.765 1213.8 112.103 1211.69 Q114.441 1209.59 114.441 1205.98 Q114.441 1202.37 112.103 1200.26 Q109.765 1198.15 105.76 1198.15 Q103.885 1198.15 102.01 1198.57 Q100.159 1198.99 98.2141 1199.87 L98.2141 1182.51 Z\" fill=\"#000000\" fill-rule=\"evenodd\" fill-opacity=\"1\" /><path clip-path=\"url(#clip920)\" d=\"M 0 0 M138.33 1185.58 Q134.719 1185.58 132.89 1189.15 Q131.084 1192.69 131.084 1199.82 Q131.084 1206.93 132.89 1210.49 Q134.719 1214.03 138.33 1214.03 Q141.964 1214.03 143.769 1210.49 Q145.598 1206.93 145.598 1199.82 Q145.598 1192.69 143.769 1189.15 Q141.964 1185.58 138.33 1185.58 M138.33 1181.88 Q144.14 1181.88 147.195 1186.49 Q150.274 1191.07 150.274 1199.82 Q150.274 1208.55 147.195 1213.15 Q144.14 1217.74 138.33 1217.74 Q132.519 1217.74 129.441 1213.15 Q126.385 1208.55 126.385 1199.82 Q126.385 1191.07 129.441 1186.49 Q132.519 1181.88 138.33 1181.88 Z\" fill=\"#000000\" fill-rule=\"evenodd\" fill-opacity=\"1\" /><path clip-path=\"url(#clip920)\" d=\"M 0 0 M63.9319 1045.24 Q60.3208 1045.24 58.4921 1048.8 Q56.6865 1052.35 56.6865 1059.48 Q56.6865 1066.58 58.4921 1070.15 Q60.3208 1073.69 63.9319 1073.69 Q67.5661 1073.69 69.3717 1070.15 Q71.2004 1066.58 71.2004 1059.48 Q71.2004 1052.35 69.3717 1048.8 Q67.5661 1045.24 63.9319 1045.24 M63.9319 1041.54 Q69.742 1041.54 72.7976 1046.14 Q75.8763 1050.73 75.8763 1059.48 Q75.8763 1068.2 72.7976 1072.81 Q69.742 1077.39 63.9319 1077.39 Q58.1217 1077.39 55.043 1072.81 Q51.9875 1068.2 51.9875 1059.48 Q51.9875 1050.73 55.043 1046.14 Q58.1217 1041.54 63.9319 1041.54 Z\" fill=\"#000000\" fill-rule=\"evenodd\" fill-opacity=\"1\" /><path clip-path=\"url(#clip920)\" d=\"M 0 0 M84.0938 1070.84 L88.978 1070.84 L88.978 1076.72 L84.0938 1076.72 L84.0938 1070.84 Z\" fill=\"#000000\" fill-rule=\"evenodd\" fill-opacity=\"1\" /><path clip-path=\"url(#clip920)\" d=\"M 0 0 M97.9826 1042.16 L120.205 1042.16 L120.205 1044.15 L107.658 1076.72 L102.774 1076.72 L114.58 1046.1 L97.9826 1046.1 L97.9826 1042.16 Z\" fill=\"#000000\" fill-rule=\"evenodd\" fill-opacity=\"1\" /><path clip-path=\"url(#clip920)\" d=\"M 0 0 M129.371 1042.16 L147.728 1042.16 L147.728 1046.1 L133.654 1046.1 L133.654 1054.57 Q134.672 1054.22 135.691 1054.06 Q136.709 1053.87 137.728 1053.87 Q143.515 1053.87 146.894 1057.04 Q150.274 1060.22 150.274 1065.63 Q150.274 1071.21 146.802 1074.31 Q143.33 1077.39 137.01 1077.39 Q134.834 1077.39 132.566 1077.02 Q130.32 1076.65 127.913 1075.91 L127.913 1071.21 Q129.996 1072.35 132.219 1072.9 Q134.441 1073.46 136.918 1073.46 Q140.922 1073.46 143.26 1071.35 Q145.598 1069.24 145.598 1065.63 Q145.598 1062.02 143.26 1059.92 Q140.922 1057.81 136.918 1057.81 Q135.043 1057.81 133.168 1058.23 Q131.316 1058.64 129.371 1059.52 L129.371 1042.16 Z\" fill=\"#000000\" fill-rule=\"evenodd\" fill-opacity=\"1\" /><path clip-path=\"url(#clip920)\" d=\"M 0 0 M53.7467 932.441 L61.3856 932.441 L61.3856 906.076 L53.0754 907.742 L53.0754 903.483 L61.3393 901.816 L66.0152 901.816 L66.0152 932.441 L73.654 932.441 L73.654 936.376 L53.7467 936.376 L53.7467 932.441 Z\" fill=\"#000000\" fill-rule=\"evenodd\" fill-opacity=\"1\" /><path clip-path=\"url(#clip920)\" d=\"M 0 0 M83.0984 930.497 L87.9827 930.497 L87.9827 936.376 L83.0984 936.376 L83.0984 930.497 Z\" fill=\"#000000\" fill-rule=\"evenodd\" fill-opacity=\"1\" /><path clip-path=\"url(#clip920)\" d=\"M 0 0 M108.168 904.895 Q104.557 904.895 102.728 908.46 Q100.922 912.002 100.922 919.131 Q100.922 926.238 102.728 929.802 Q104.557 933.344 108.168 933.344 Q111.802 933.344 113.608 929.802 Q115.436 926.238 115.436 919.131 Q115.436 912.002 113.608 908.46 Q111.802 904.895 108.168 904.895 M108.168 901.191 Q113.978 901.191 117.033 905.798 Q120.112 910.381 120.112 919.131 Q120.112 927.858 117.033 932.464 Q113.978 937.048 108.168 937.048 Q102.358 937.048 99.2789 932.464 Q96.2234 927.858 96.2234 919.131 Q96.2234 910.381 99.2789 905.798 Q102.358 901.191 108.168 901.191 Z\" fill=\"#000000\" fill-rule=\"evenodd\" fill-opacity=\"1\" /><path clip-path=\"url(#clip920)\" d=\"M 0 0 M138.33 904.895 Q134.719 904.895 132.89 908.46 Q131.084 912.002 131.084 919.131 Q131.084 926.238 132.89 929.802 Q134.719 933.344 138.33 933.344 Q141.964 933.344 143.769 929.802 Q145.598 926.238 145.598 919.131 Q145.598 912.002 143.769 908.46 Q141.964 904.895 138.33 904.895 M138.33 901.191 Q144.14 901.191 147.195 905.798 Q150.274 910.381 150.274 919.131 Q150.274 927.858 147.195 932.464 Q144.14 937.048 138.33 937.048 Q132.519 937.048 129.441 932.464 Q126.385 927.858 126.385 919.131 Q126.385 910.381 129.441 905.798 Q132.519 901.191 138.33 901.191 Z\" fill=\"#000000\" fill-rule=\"evenodd\" fill-opacity=\"1\" /><polyline clip-path=\"url(#clip924)\" style=\"stroke:#009af9; stroke-width:12; stroke-opacity:1; fill:none\" points=\"\n",
       "  213.627,933.109 314.936,1314.09 416.244,1456.2 517.552,1098.55 618.861,1446.54 720.169,1390.31 821.478,1289.14 922.786,1156.69 1024.09,960.717 1125.4,1422.25 \n",
       "  \n",
       "  \"/>\n",
       "<polyline clip-path=\"url(#clip924)\" style=\"stroke:#e26f46; stroke-width:12; stroke-opacity:1; fill:none\" points=\"\n",
       "  213.627,1246.3 314.936,985.201 416.244,1180.23 517.552,1468.26 618.861,977.837 720.169,1470.33 821.478,1207.19 922.786,1311.58 1024.09,1416.86 1125.4,1380.77 \n",
       "  \n",
       "  \"/>\n",
       "<path clip-path=\"url(#clip920)\" d=\"\n",
       "M1386.27 1486.45 L2352.76 1486.45 L2352.76 916.992 L1386.27 916.992  Z\n",
       "  \" fill=\"#ffffff\" fill-rule=\"evenodd\" fill-opacity=\"1\"/>\n",
       "<defs>\n",
       "  <clipPath id=\"clip925\">\n",
       "    <rect x=\"1386\" y=\"916\" width=\"967\" height=\"570\"/>\n",
       "  </clipPath>\n",
       "</defs>\n",
       "<polyline clip-path=\"url(#clip925)\" style=\"stroke:#000000; stroke-width:2; stroke-opacity:0.1; fill:none\" points=\"\n",
       "  1439.43,1486.45 1439.43,916.992 \n",
       "  \"/>\n",
       "<polyline clip-path=\"url(#clip925)\" style=\"stroke:#000000; stroke-width:2; stroke-opacity:0.1; fill:none\" points=\"\n",
       "  1654.47,1486.45 1654.47,916.992 \n",
       "  \"/>\n",
       "<polyline clip-path=\"url(#clip925)\" style=\"stroke:#000000; stroke-width:2; stroke-opacity:0.1; fill:none\" points=\"\n",
       "  1869.51,1486.45 1869.51,916.992 \n",
       "  \"/>\n",
       "<polyline clip-path=\"url(#clip925)\" style=\"stroke:#000000; stroke-width:2; stroke-opacity:0.1; fill:none\" points=\"\n",
       "  2084.56,1486.45 2084.56,916.992 \n",
       "  \"/>\n",
       "<polyline clip-path=\"url(#clip925)\" style=\"stroke:#000000; stroke-width:2; stroke-opacity:0.1; fill:none\" points=\"\n",
       "  2299.6,1486.45 2299.6,916.992 \n",
       "  \"/>\n",
       "<polyline clip-path=\"url(#clip920)\" style=\"stroke:#000000; stroke-width:4; stroke-opacity:1; fill:none\" points=\"\n",
       "  1386.27,1486.45 2352.76,1486.45 \n",
       "  \"/>\n",
       "<polyline clip-path=\"url(#clip920)\" style=\"stroke:#000000; stroke-width:4; stroke-opacity:1; fill:none\" points=\"\n",
       "  1439.43,1486.45 1439.43,1479.61 \n",
       "  \"/>\n",
       "<polyline clip-path=\"url(#clip920)\" style=\"stroke:#000000; stroke-width:4; stroke-opacity:1; fill:none\" points=\"\n",
       "  1654.47,1486.45 1654.47,1479.61 \n",
       "  \"/>\n",
       "<polyline clip-path=\"url(#clip920)\" style=\"stroke:#000000; stroke-width:4; stroke-opacity:1; fill:none\" points=\"\n",
       "  1869.51,1486.45 1869.51,1479.61 \n",
       "  \"/>\n",
       "<polyline clip-path=\"url(#clip920)\" style=\"stroke:#000000; stroke-width:4; stroke-opacity:1; fill:none\" points=\"\n",
       "  2084.56,1486.45 2084.56,1479.61 \n",
       "  \"/>\n",
       "<polyline clip-path=\"url(#clip920)\" style=\"stroke:#000000; stroke-width:4; stroke-opacity:1; fill:none\" points=\"\n",
       "  2299.6,1486.45 2299.6,1479.61 \n",
       "  \"/>\n",
       "<path clip-path=\"url(#clip920)\" d=\"M 0 0 M1401.74 1515.64 Q1398.12 1515.64 1396.3 1519.2 Q1394.49 1522.75 1394.49 1529.87 Q1394.49 1536.98 1396.3 1540.55 Q1398.12 1544.09 1401.74 1544.09 Q1405.37 1544.09 1407.18 1540.55 Q1409 1536.98 1409 1529.87 Q1409 1522.75 1407.18 1519.2 Q1405.37 1515.64 1401.74 1515.64 M1401.74 1511.93 Q1407.55 1511.93 1410.6 1516.54 Q1413.68 1521.12 1413.68 1529.87 Q1413.68 1538.6 1410.6 1543.21 Q1407.55 1547.79 1401.74 1547.79 Q1395.93 1547.79 1392.85 1543.21 Q1389.79 1538.6 1389.79 1529.87 Q1389.79 1521.12 1392.85 1516.54 Q1395.93 1511.93 1401.74 1511.93 Z\" fill=\"#000000\" fill-rule=\"evenodd\" fill-opacity=\"1\" /><path clip-path=\"url(#clip920)\" d=\"M 0 0 M1421.9 1541.24 L1426.78 1541.24 L1426.78 1547.12 L1421.9 1547.12 L1421.9 1541.24 Z\" fill=\"#000000\" fill-rule=\"evenodd\" fill-opacity=\"1\" /><path clip-path=\"url(#clip920)\" d=\"M 0 0 M1446.97 1515.64 Q1443.36 1515.64 1441.53 1519.2 Q1439.72 1522.75 1439.72 1529.87 Q1439.72 1536.98 1441.53 1540.55 Q1443.36 1544.09 1446.97 1544.09 Q1450.6 1544.09 1452.41 1540.55 Q1454.24 1536.98 1454.24 1529.87 Q1454.24 1522.75 1452.41 1519.2 Q1450.6 1515.64 1446.97 1515.64 M1446.97 1511.93 Q1452.78 1511.93 1455.83 1516.54 Q1458.91 1521.12 1458.91 1529.87 Q1458.91 1538.6 1455.83 1543.21 Q1452.78 1547.79 1446.97 1547.79 Q1441.16 1547.79 1438.08 1543.21 Q1435.02 1538.6 1435.02 1529.87 Q1435.02 1521.12 1438.08 1516.54 Q1441.16 1511.93 1446.97 1511.93 Z\" fill=\"#000000\" fill-rule=\"evenodd\" fill-opacity=\"1\" /><path clip-path=\"url(#clip920)\" d=\"M 0 0 M1477.13 1515.64 Q1473.52 1515.64 1471.69 1519.2 Q1469.88 1522.75 1469.88 1529.87 Q1469.88 1536.98 1471.69 1540.55 Q1473.52 1544.09 1477.13 1544.09 Q1480.76 1544.09 1482.57 1540.55 Q1484.4 1536.98 1484.4 1529.87 Q1484.4 1522.75 1482.57 1519.2 Q1480.76 1515.64 1477.13 1515.64 M1477.13 1511.93 Q1482.94 1511.93 1485.99 1516.54 Q1489.07 1521.12 1489.07 1529.87 Q1489.07 1538.6 1485.99 1543.21 Q1482.94 1547.79 1477.13 1547.79 Q1471.32 1547.79 1468.24 1543.21 Q1465.18 1538.6 1465.18 1529.87 Q1465.18 1521.12 1468.24 1516.54 Q1471.32 1511.93 1477.13 1511.93 Z\" fill=\"#000000\" fill-rule=\"evenodd\" fill-opacity=\"1\" /><path clip-path=\"url(#clip920)\" d=\"M 0 0 M1617.27 1515.64 Q1613.66 1515.64 1611.83 1519.2 Q1610.03 1522.75 1610.03 1529.87 Q1610.03 1536.98 1611.83 1540.55 Q1613.66 1544.09 1617.27 1544.09 Q1620.91 1544.09 1622.71 1540.55 Q1624.54 1536.98 1624.54 1529.87 Q1624.54 1522.75 1622.71 1519.2 Q1620.91 1515.64 1617.27 1515.64 M1617.27 1511.93 Q1623.08 1511.93 1626.14 1516.54 Q1629.22 1521.12 1629.22 1529.87 Q1629.22 1538.6 1626.14 1543.21 Q1623.08 1547.79 1617.27 1547.79 Q1611.46 1547.79 1608.39 1543.21 Q1605.33 1538.6 1605.33 1529.87 Q1605.33 1521.12 1608.39 1516.54 Q1611.46 1511.93 1617.27 1511.93 Z\" fill=\"#000000\" fill-rule=\"evenodd\" fill-opacity=\"1\" /><path clip-path=\"url(#clip920)\" d=\"M 0 0 M1637.44 1541.24 L1642.32 1541.24 L1642.32 1547.12 L1637.44 1547.12 L1637.44 1541.24 Z\" fill=\"#000000\" fill-rule=\"evenodd\" fill-opacity=\"1\" /><path clip-path=\"url(#clip920)\" d=\"M 0 0 M1656.53 1543.18 L1672.85 1543.18 L1672.85 1547.12 L1650.91 1547.12 L1650.91 1543.18 Q1653.57 1540.43 1658.15 1535.8 Q1662.76 1531.15 1663.94 1529.81 Q1666.19 1527.28 1667.07 1525.55 Q1667.97 1523.79 1667.97 1522.1 Q1667.97 1519.34 1666.02 1517.61 Q1664.1 1515.87 1661 1515.87 Q1658.8 1515.87 1656.35 1516.63 Q1653.92 1517.4 1651.14 1518.95 L1651.14 1514.23 Q1653.96 1513.09 1656.42 1512.51 Q1658.87 1511.93 1660.91 1511.93 Q1666.28 1511.93 1669.47 1514.62 Q1672.67 1517.31 1672.67 1521.8 Q1672.67 1523.93 1671.86 1525.85 Q1671.07 1527.74 1668.96 1530.34 Q1668.39 1531.01 1665.28 1534.23 Q1662.18 1537.42 1656.53 1543.18 Z\" fill=\"#000000\" fill-rule=\"evenodd\" fill-opacity=\"1\" /><path clip-path=\"url(#clip920)\" d=\"M 0 0 M1682.71 1512.56 L1701.07 1512.56 L1701.07 1516.5 L1687 1516.5 L1687 1524.97 Q1688.02 1524.62 1689.03 1524.46 Q1690.05 1524.27 1691.07 1524.27 Q1696.86 1524.27 1700.24 1527.44 Q1703.62 1530.62 1703.62 1536.03 Q1703.62 1541.61 1700.14 1544.71 Q1696.67 1547.79 1690.35 1547.79 Q1688.18 1547.79 1685.91 1547.42 Q1683.66 1547.05 1681.26 1546.31 L1681.26 1541.61 Q1683.34 1542.74 1685.56 1543.3 Q1687.78 1543.86 1690.26 1543.86 Q1694.27 1543.86 1696.6 1541.75 Q1698.94 1539.64 1698.94 1536.03 Q1698.94 1532.42 1696.6 1530.31 Q1694.27 1528.21 1690.26 1528.21 Q1688.39 1528.21 1686.51 1528.62 Q1684.66 1529.04 1682.71 1529.92 L1682.71 1512.56 Z\" fill=\"#000000\" fill-rule=\"evenodd\" fill-opacity=\"1\" /><path clip-path=\"url(#clip920)\" d=\"M 0 0 M1831.82 1515.64 Q1828.21 1515.64 1826.38 1519.2 Q1824.57 1522.75 1824.57 1529.87 Q1824.57 1536.98 1826.38 1540.55 Q1828.21 1544.09 1831.82 1544.09 Q1835.45 1544.09 1837.26 1540.55 Q1839.09 1536.98 1839.09 1529.87 Q1839.09 1522.75 1837.26 1519.2 Q1835.45 1515.64 1831.82 1515.64 M1831.82 1511.93 Q1837.63 1511.93 1840.68 1516.54 Q1843.76 1521.12 1843.76 1529.87 Q1843.76 1538.6 1840.68 1543.21 Q1837.63 1547.79 1831.82 1547.79 Q1826.01 1547.79 1822.93 1543.21 Q1819.87 1538.6 1819.87 1529.87 Q1819.87 1521.12 1822.93 1516.54 Q1826.01 1511.93 1831.82 1511.93 Z\" fill=\"#000000\" fill-rule=\"evenodd\" fill-opacity=\"1\" /><path clip-path=\"url(#clip920)\" d=\"M 0 0 M1851.98 1541.24 L1856.86 1541.24 L1856.86 1547.12 L1851.98 1547.12 L1851.98 1541.24 Z\" fill=\"#000000\" fill-rule=\"evenodd\" fill-opacity=\"1\" /><path clip-path=\"url(#clip920)\" d=\"M 0 0 M1867.1 1512.56 L1885.45 1512.56 L1885.45 1516.5 L1871.38 1516.5 L1871.38 1524.97 Q1872.4 1524.62 1873.42 1524.46 Q1874.43 1524.27 1875.45 1524.27 Q1881.24 1524.27 1884.62 1527.44 Q1888 1530.62 1888 1536.03 Q1888 1541.61 1884.53 1544.71 Q1881.05 1547.79 1874.73 1547.79 Q1872.56 1547.79 1870.29 1547.42 Q1868.05 1547.05 1865.64 1546.31 L1865.64 1541.61 Q1867.72 1542.74 1869.94 1543.3 Q1872.17 1543.86 1874.64 1543.86 Q1878.65 1543.86 1880.98 1541.75 Q1883.32 1539.64 1883.32 1536.03 Q1883.32 1532.42 1880.98 1530.31 Q1878.65 1528.21 1874.64 1528.21 Q1872.77 1528.21 1870.89 1528.62 Q1869.04 1529.04 1867.1 1529.92 L1867.1 1512.56 Z\" fill=\"#000000\" fill-rule=\"evenodd\" fill-opacity=\"1\" /><path clip-path=\"url(#clip920)\" d=\"M 0 0 M1907.21 1515.64 Q1903.6 1515.64 1901.77 1519.2 Q1899.97 1522.75 1899.97 1529.87 Q1899.97 1536.98 1901.77 1540.55 Q1903.6 1544.09 1907.21 1544.09 Q1910.85 1544.09 1912.65 1540.55 Q1914.48 1536.98 1914.48 1529.87 Q1914.48 1522.75 1912.65 1519.2 Q1910.85 1515.64 1907.21 1515.64 M1907.21 1511.93 Q1913.02 1511.93 1916.08 1516.54 Q1919.16 1521.12 1919.16 1529.87 Q1919.16 1538.6 1916.08 1543.21 Q1913.02 1547.79 1907.21 1547.79 Q1901.4 1547.79 1898.32 1543.21 Q1895.27 1538.6 1895.27 1529.87 Q1895.27 1521.12 1898.32 1516.54 Q1901.4 1511.93 1907.21 1511.93 Z\" fill=\"#000000\" fill-rule=\"evenodd\" fill-opacity=\"1\" /><path clip-path=\"url(#clip920)\" d=\"M 0 0 M2047.36 1515.64 Q2043.75 1515.64 2041.92 1519.2 Q2040.11 1522.75 2040.11 1529.87 Q2040.11 1536.98 2041.92 1540.55 Q2043.75 1544.09 2047.36 1544.09 Q2050.99 1544.09 2052.8 1540.55 Q2054.63 1536.98 2054.63 1529.87 Q2054.63 1522.75 2052.8 1519.2 Q2050.99 1515.64 2047.36 1515.64 M2047.36 1511.93 Q2053.17 1511.93 2056.22 1516.54 Q2059.3 1521.12 2059.3 1529.87 Q2059.3 1538.6 2056.22 1543.21 Q2053.17 1547.79 2047.36 1547.79 Q2041.55 1547.79 2038.47 1543.21 Q2035.41 1538.6 2035.41 1529.87 Q2035.41 1521.12 2038.47 1516.54 Q2041.55 1511.93 2047.36 1511.93 Z\" fill=\"#000000\" fill-rule=\"evenodd\" fill-opacity=\"1\" /><path clip-path=\"url(#clip920)\" d=\"M 0 0 M2067.52 1541.24 L2072.4 1541.24 L2072.4 1547.12 L2067.52 1547.12 L2067.52 1541.24 Z\" fill=\"#000000\" fill-rule=\"evenodd\" fill-opacity=\"1\" /><path clip-path=\"url(#clip920)\" d=\"M 0 0 M2081.41 1512.56 L2103.63 1512.56 L2103.63 1514.55 L2091.08 1547.12 L2086.2 1547.12 L2098.01 1516.5 L2081.41 1516.5 L2081.41 1512.56 Z\" fill=\"#000000\" fill-rule=\"evenodd\" fill-opacity=\"1\" /><path clip-path=\"url(#clip920)\" d=\"M 0 0 M2112.8 1512.56 L2131.15 1512.56 L2131.15 1516.5 L2117.08 1516.5 L2117.08 1524.97 Q2118.1 1524.62 2119.12 1524.46 Q2120.13 1524.27 2121.15 1524.27 Q2126.94 1524.27 2130.32 1527.44 Q2133.7 1530.62 2133.7 1536.03 Q2133.7 1541.61 2130.23 1544.71 Q2126.76 1547.79 2120.44 1547.79 Q2118.26 1547.79 2115.99 1547.42 Q2113.75 1547.05 2111.34 1546.31 L2111.34 1541.61 Q2113.42 1542.74 2115.64 1543.3 Q2117.87 1543.86 2120.34 1543.86 Q2124.35 1543.86 2126.69 1541.75 Q2129.02 1539.64 2129.02 1536.03 Q2129.02 1532.42 2126.69 1530.31 Q2124.35 1528.21 2120.34 1528.21 Q2118.47 1528.21 2116.59 1528.62 Q2114.74 1529.04 2112.8 1529.92 L2112.8 1512.56 Z\" fill=\"#000000\" fill-rule=\"evenodd\" fill-opacity=\"1\" /><path clip-path=\"url(#clip920)\" d=\"M 0 0 M2251.67 1543.18 L2259.31 1543.18 L2259.31 1516.82 L2251 1518.49 L2251 1514.23 L2259.26 1512.56 L2263.94 1512.56 L2263.94 1543.18 L2271.58 1543.18 L2271.58 1547.12 L2251.67 1547.12 L2251.67 1543.18 Z\" fill=\"#000000\" fill-rule=\"evenodd\" fill-opacity=\"1\" /><path clip-path=\"url(#clip920)\" d=\"M 0 0 M2281.02 1541.24 L2285.91 1541.24 L2285.91 1547.12 L2281.02 1547.12 L2281.02 1541.24 Z\" fill=\"#000000\" fill-rule=\"evenodd\" fill-opacity=\"1\" /><path clip-path=\"url(#clip920)\" d=\"M 0 0 M2306.09 1515.64 Q2302.48 1515.64 2300.65 1519.2 Q2298.85 1522.75 2298.85 1529.87 Q2298.85 1536.98 2300.65 1540.55 Q2302.48 1544.09 2306.09 1544.09 Q2309.72 1544.09 2311.53 1540.55 Q2313.36 1536.98 2313.36 1529.87 Q2313.36 1522.75 2311.53 1519.2 Q2309.72 1515.64 2306.09 1515.64 M2306.09 1511.93 Q2311.9 1511.93 2314.96 1516.54 Q2318.04 1521.12 2318.04 1529.87 Q2318.04 1538.6 2314.96 1543.21 Q2311.9 1547.79 2306.09 1547.79 Q2300.28 1547.79 2297.2 1543.21 Q2294.15 1538.6 2294.15 1529.87 Q2294.15 1521.12 2297.2 1516.54 Q2300.28 1511.93 2306.09 1511.93 Z\" fill=\"#000000\" fill-rule=\"evenodd\" fill-opacity=\"1\" /><path clip-path=\"url(#clip920)\" d=\"M 0 0 M2336.25 1515.64 Q2332.64 1515.64 2330.81 1519.2 Q2329.01 1522.75 2329.01 1529.87 Q2329.01 1536.98 2330.81 1540.55 Q2332.64 1544.09 2336.25 1544.09 Q2339.89 1544.09 2341.69 1540.55 Q2343.52 1536.98 2343.52 1529.87 Q2343.52 1522.75 2341.69 1519.2 Q2339.89 1515.64 2336.25 1515.64 M2336.25 1511.93 Q2342.06 1511.93 2345.12 1516.54 Q2348.2 1521.12 2348.2 1529.87 Q2348.2 1538.6 2345.12 1543.21 Q2342.06 1547.79 2336.25 1547.79 Q2330.44 1547.79 2327.36 1543.21 Q2324.31 1538.6 2324.31 1529.87 Q2324.31 1521.12 2327.36 1516.54 Q2330.44 1511.93 2336.25 1511.93 Z\" fill=\"#000000\" fill-rule=\"evenodd\" fill-opacity=\"1\" /><polyline clip-path=\"url(#clip925)\" style=\"stroke:#000000; stroke-width:2; stroke-opacity:0.1; fill:none\" points=\"\n",
       "  1386.27,1470.33 2352.76,1470.33 \n",
       "  \"/>\n",
       "<polyline clip-path=\"url(#clip925)\" style=\"stroke:#000000; stroke-width:2; stroke-opacity:0.1; fill:none\" points=\"\n",
       "  1386.27,1316.84 2352.76,1316.84 \n",
       "  \"/>\n",
       "<polyline clip-path=\"url(#clip925)\" style=\"stroke:#000000; stroke-width:2; stroke-opacity:0.1; fill:none\" points=\"\n",
       "  1386.27,1163.35 2352.76,1163.35 \n",
       "  \"/>\n",
       "<polyline clip-path=\"url(#clip925)\" style=\"stroke:#000000; stroke-width:2; stroke-opacity:0.1; fill:none\" points=\"\n",
       "  1386.27,1009.85 2352.76,1009.85 \n",
       "  \"/>\n",
       "<polyline clip-path=\"url(#clip920)\" style=\"stroke:#000000; stroke-width:4; stroke-opacity:1; fill:none\" points=\"\n",
       "  1386.27,1486.45 1386.27,916.992 \n",
       "  \"/>\n",
       "<polyline clip-path=\"url(#clip920)\" style=\"stroke:#000000; stroke-width:4; stroke-opacity:1; fill:none\" points=\"\n",
       "  1386.27,1470.33 1397.87,1470.33 \n",
       "  \"/>\n",
       "<polyline clip-path=\"url(#clip920)\" style=\"stroke:#000000; stroke-width:4; stroke-opacity:1; fill:none\" points=\"\n",
       "  1386.27,1316.84 1397.87,1316.84 \n",
       "  \"/>\n",
       "<polyline clip-path=\"url(#clip920)\" style=\"stroke:#000000; stroke-width:4; stroke-opacity:1; fill:none\" points=\"\n",
       "  1386.27,1163.35 1397.87,1163.35 \n",
       "  \"/>\n",
       "<polyline clip-path=\"url(#clip920)\" style=\"stroke:#000000; stroke-width:4; stroke-opacity:1; fill:none\" points=\"\n",
       "  1386.27,1009.85 1397.87,1009.85 \n",
       "  \"/>\n",
       "<path clip-path=\"url(#clip920)\" d=\"M 0 0 M1338.33 1456.13 Q1334.72 1456.13 1332.89 1459.69 Q1331.08 1463.24 1331.08 1470.37 Q1331.08 1477.47 1332.89 1481.04 Q1334.72 1484.58 1338.33 1484.58 Q1341.96 1484.58 1343.77 1481.04 Q1345.6 1477.47 1345.6 1470.37 Q1345.6 1463.24 1343.77 1459.69 Q1341.96 1456.13 1338.33 1456.13 M1338.33 1452.43 Q1344.14 1452.43 1347.2 1457.03 Q1350.27 1461.62 1350.27 1470.37 Q1350.27 1479.09 1347.2 1483.7 Q1344.14 1488.28 1338.33 1488.28 Q1332.52 1488.28 1329.44 1483.7 Q1326.39 1479.09 1326.39 1470.37 Q1326.39 1461.62 1329.44 1457.03 Q1332.52 1452.43 1338.33 1452.43 Z\" fill=\"#000000\" fill-rule=\"evenodd\" fill-opacity=\"1\" /><path clip-path=\"url(#clip920)\" d=\"M 0 0 M1333.95 1330.18 L1350.27 1330.18 L1350.27 1334.12 L1328.33 1334.12 L1328.33 1330.18 Q1330.99 1327.43 1335.58 1322.8 Q1340.18 1318.15 1341.36 1316.8 Q1343.61 1314.28 1344.49 1312.55 Q1345.39 1310.79 1345.39 1309.1 Q1345.39 1306.34 1343.45 1304.61 Q1341.52 1302.87 1338.42 1302.87 Q1336.22 1302.87 1333.77 1303.63 Q1331.34 1304.4 1328.56 1305.95 L1328.56 1301.23 Q1331.39 1300.09 1333.84 1299.51 Q1336.29 1298.93 1338.33 1298.93 Q1343.7 1298.93 1346.89 1301.62 Q1350.09 1304.3 1350.09 1308.8 Q1350.09 1310.92 1349.28 1312.85 Q1348.49 1314.74 1346.39 1317.34 Q1345.81 1318.01 1342.7 1321.23 Q1339.6 1324.42 1333.95 1330.18 Z\" fill=\"#000000\" fill-rule=\"evenodd\" fill-opacity=\"1\" /><path clip-path=\"url(#clip920)\" d=\"M 0 0 M1340.69 1150.14 L1328.89 1168.59 L1340.69 1168.59 L1340.69 1150.14 M1339.46 1146.07 L1345.34 1146.07 L1345.34 1168.59 L1350.27 1168.59 L1350.27 1172.48 L1345.34 1172.48 L1345.34 1180.63 L1340.69 1180.63 L1340.69 1172.48 L1325.09 1172.48 L1325.09 1167.97 L1339.46 1146.07 Z\" fill=\"#000000\" fill-rule=\"evenodd\" fill-opacity=\"1\" /><path clip-path=\"url(#clip920)\" d=\"M 0 0 M1338.75 1007.99 Q1335.6 1007.99 1333.75 1010.14 Q1331.92 1012.3 1331.92 1016.05 Q1331.92 1019.77 1333.75 1021.95 Q1335.6 1024.1 1338.75 1024.1 Q1341.89 1024.1 1343.72 1021.95 Q1345.57 1019.77 1345.57 1016.05 Q1345.57 1012.3 1343.72 1010.14 Q1341.89 1007.99 1338.75 1007.99 M1348.03 993.339 L1348.03 997.598 Q1346.27 996.765 1344.46 996.325 Q1342.68 995.885 1340.92 995.885 Q1336.29 995.885 1333.84 999.01 Q1331.41 1002.13 1331.06 1008.45 Q1332.43 1006.44 1334.49 1005.38 Q1336.55 1004.29 1339.02 1004.29 Q1344.23 1004.29 1347.24 1007.46 Q1350.27 1010.61 1350.27 1016.05 Q1350.27 1021.37 1347.13 1024.59 Q1343.98 1027.81 1338.75 1027.81 Q1332.75 1027.81 1329.58 1023.22 Q1326.41 1018.62 1326.41 1009.89 Q1326.41 1001.7 1330.3 996.834 Q1334.19 991.95 1340.74 991.95 Q1342.5 991.95 1344.28 992.297 Q1346.08 992.644 1348.03 993.339 Z\" fill=\"#000000\" fill-rule=\"evenodd\" fill-opacity=\"1\" /><path clip-path=\"url(#clip925)\" d=\"\n",
       "M1439.43 1009.85 L1439.43 1470.33 L1869.51 1470.33 L1869.51 1009.85 L1439.43 1009.85 L1439.43 1009.85  Z\n",
       "  \" fill=\"#009af9\" fill-rule=\"evenodd\" fill-opacity=\"1\"/>\n",
       "<polyline clip-path=\"url(#clip925)\" style=\"stroke:#000000; stroke-width:4; stroke-opacity:1; fill:none\" points=\"\n",
       "  1439.43,1009.85 1439.43,1470.33 1869.51,1470.33 1869.51,1009.85 1439.43,1009.85 \n",
       "  \"/>\n",
       "<path clip-path=\"url(#clip925)\" d=\"\n",
       "M1869.51 1163.35 L1869.51 1470.33 L2299.6 1470.33 L2299.6 1163.35 L1869.51 1163.35 L1869.51 1163.35  Z\n",
       "  \" fill=\"#009af9\" fill-rule=\"evenodd\" fill-opacity=\"1\"/>\n",
       "<polyline clip-path=\"url(#clip925)\" style=\"stroke:#000000; stroke-width:4; stroke-opacity:1; fill:none\" points=\"\n",
       "  1869.51,1163.35 1869.51,1470.33 2299.6,1470.33 2299.6,1163.35 1869.51,1163.35 \n",
       "  \"/>\n",
       "<path clip-path=\"url(#clip925)\" d=\"\n",
       "M1439.43 933.109 L1439.43 1470.33 L1869.51 1470.33 L1869.51 933.109 L1439.43 933.109 L1439.43 933.109  Z\n",
       "  \" fill=\"#e26f46\" fill-rule=\"evenodd\" fill-opacity=\"1\"/>\n",
       "<polyline clip-path=\"url(#clip925)\" style=\"stroke:#000000; stroke-width:4; stroke-opacity:1; fill:none\" points=\"\n",
       "  1439.43,933.109 1439.43,1470.33 1869.51,1470.33 1869.51,933.109 1439.43,933.109 \n",
       "  \"/>\n",
       "<path clip-path=\"url(#clip925)\" d=\"\n",
       "M1869.51 1240.09 L1869.51 1470.33 L2299.6 1470.33 L2299.6 1240.09 L1869.51 1240.09 L1869.51 1240.09  Z\n",
       "  \" fill=\"#e26f46\" fill-rule=\"evenodd\" fill-opacity=\"1\"/>\n",
       "<polyline clip-path=\"url(#clip925)\" style=\"stroke:#000000; stroke-width:4; stroke-opacity:1; fill:none\" points=\"\n",
       "  1869.51,1240.09 1869.51,1470.33 2299.6,1470.33 2299.6,1240.09 1869.51,1240.09 \n",
       "  \"/>\n",
       "</svg>\n"
      ]
     },
     "execution_count": 539,
     "metadata": {},
     "output_type": "execute_result"
    }
   ],
   "source": [
    "gr()\n",
    "\n",
    "p1 = plot(x, y, xlabel = \"X Axis\", title = \"Lineplot\") # Line plot\n",
    "p2 = scatter(x, y) # Scatter plot\n",
    "p3 = plot(x, y, lw = 3) # Another line plot\n",
    "p4 = histogram(x, y) # Histogram\n",
    "plot(p1, p2, p3, p4, layout = (2, 2), legend = false)"
   ]
  },
  {
   "cell_type": "markdown",
   "id": "069f01df",
   "metadata": {
    "slideshow": {
     "slide_type": "slide"
    }
   },
   "source": [
    "# Using the StatsPlots package"
   ]
  },
  {
   "cell_type": "code",
   "execution_count": 540,
   "id": "61d91024",
   "metadata": {
    "slideshow": {
     "slide_type": "fragment"
    }
   },
   "outputs": [
    {
     "name": "stderr",
     "output_type": "stream",
     "text": [
      "\u001b[32m\u001b[1m   Resolving\u001b[22m\u001b[39m package versions...\n",
      "\u001b[32m\u001b[1m  No Changes\u001b[22m\u001b[39m to `~/work/Julia/tutorials/Elixir_training_2021-04-22/Project.toml`\n",
      "\u001b[32m\u001b[1m  No Changes\u001b[22m\u001b[39m to `~/work/Julia/tutorials/Elixir_training_2021-04-22/Manifest.toml`\n"
     ]
    }
   ],
   "source": [
    "Pkg.add(\"StatsPlots\")\n",
    "using StatsPlots"
   ]
  },
  {
   "cell_type": "markdown",
   "id": "0de7ad72",
   "metadata": {
    "slideshow": {
     "slide_type": "slide"
    }
   },
   "source": [
    "#### Moving back to the Iris dataset:\n",
    "\n",
    "Scatter plot the petal length vs. petal width "
   ]
  },
  {
   "cell_type": "code",
   "execution_count": 541,
   "id": "1963e97b",
   "metadata": {
    "slideshow": {
     "slide_type": "fragment"
    }
   },
   "outputs": [
    {
     "data": {
      "image/svg+xml": [
       "<?xml version=\"1.0\" encoding=\"utf-8\"?>\n",
       "<svg xmlns=\"http://www.w3.org/2000/svg\" xmlns:xlink=\"http://www.w3.org/1999/xlink\" width=\"600\" height=\"400\" viewBox=\"0 0 2400 1600\">\n",
       "<defs>\n",
       "  <clipPath id=\"clip960\">\n",
       "    <rect x=\"0\" y=\"0\" width=\"2400\" height=\"1600\"/>\n",
       "  </clipPath>\n",
       "</defs>\n",
       "<path clip-path=\"url(#clip960)\" d=\"\n",
       "M0 1600 L2400 1600 L2400 0 L0 0  Z\n",
       "  \" fill=\"#ffffff\" fill-rule=\"evenodd\" fill-opacity=\"1\"/>\n",
       "<defs>\n",
       "  <clipPath id=\"clip961\">\n",
       "    <rect x=\"480\" y=\"0\" width=\"1681\" height=\"1600\"/>\n",
       "  </clipPath>\n",
       "</defs>\n",
       "<path clip-path=\"url(#clip960)\" d=\"\n",
       "M155.765 1486.45 L2352.76 1486.45 L2352.76 47.2441 L155.765 47.2441  Z\n",
       "  \" fill=\"#ffffff\" fill-rule=\"evenodd\" fill-opacity=\"1\"/>\n",
       "<defs>\n",
       "  <clipPath id=\"clip962\">\n",
       "    <rect x=\"155\" y=\"47\" width=\"2198\" height=\"1440\"/>\n",
       "  </clipPath>\n",
       "</defs>\n",
       "<polyline clip-path=\"url(#clip962)\" style=\"stroke:#000000; stroke-width:2; stroke-opacity:0.1; fill:none\" points=\"\n",
       "  217.944,1486.45 217.944,47.2441 \n",
       "  \"/>\n",
       "<polyline clip-path=\"url(#clip962)\" style=\"stroke:#000000; stroke-width:2; stroke-opacity:0.1; fill:none\" points=\"\n",
       "  569.238,1486.45 569.238,47.2441 \n",
       "  \"/>\n",
       "<polyline clip-path=\"url(#clip962)\" style=\"stroke:#000000; stroke-width:2; stroke-opacity:0.1; fill:none\" points=\"\n",
       "  920.531,1486.45 920.531,47.2441 \n",
       "  \"/>\n",
       "<polyline clip-path=\"url(#clip962)\" style=\"stroke:#000000; stroke-width:2; stroke-opacity:0.1; fill:none\" points=\"\n",
       "  1271.83,1486.45 1271.83,47.2441 \n",
       "  \"/>\n",
       "<polyline clip-path=\"url(#clip962)\" style=\"stroke:#000000; stroke-width:2; stroke-opacity:0.1; fill:none\" points=\"\n",
       "  1623.12,1486.45 1623.12,47.2441 \n",
       "  \"/>\n",
       "<polyline clip-path=\"url(#clip962)\" style=\"stroke:#000000; stroke-width:2; stroke-opacity:0.1; fill:none\" points=\"\n",
       "  1974.41,1486.45 1974.41,47.2441 \n",
       "  \"/>\n",
       "<polyline clip-path=\"url(#clip962)\" style=\"stroke:#000000; stroke-width:2; stroke-opacity:0.1; fill:none\" points=\"\n",
       "  2325.71,1486.45 2325.71,47.2441 \n",
       "  \"/>\n",
       "<polyline clip-path=\"url(#clip960)\" style=\"stroke:#000000; stroke-width:4; stroke-opacity:1; fill:none\" points=\"\n",
       "  155.765,1486.45 2352.76,1486.45 \n",
       "  \"/>\n",
       "<polyline clip-path=\"url(#clip960)\" style=\"stroke:#000000; stroke-width:4; stroke-opacity:1; fill:none\" points=\"\n",
       "  217.944,1486.45 217.944,1469.18 \n",
       "  \"/>\n",
       "<polyline clip-path=\"url(#clip960)\" style=\"stroke:#000000; stroke-width:4; stroke-opacity:1; fill:none\" points=\"\n",
       "  569.238,1486.45 569.238,1469.18 \n",
       "  \"/>\n",
       "<polyline clip-path=\"url(#clip960)\" style=\"stroke:#000000; stroke-width:4; stroke-opacity:1; fill:none\" points=\"\n",
       "  920.531,1486.45 920.531,1469.18 \n",
       "  \"/>\n",
       "<polyline clip-path=\"url(#clip960)\" style=\"stroke:#000000; stroke-width:4; stroke-opacity:1; fill:none\" points=\"\n",
       "  1271.83,1486.45 1271.83,1469.18 \n",
       "  \"/>\n",
       "<polyline clip-path=\"url(#clip960)\" style=\"stroke:#000000; stroke-width:4; stroke-opacity:1; fill:none\" points=\"\n",
       "  1623.12,1486.45 1623.12,1469.18 \n",
       "  \"/>\n",
       "<polyline clip-path=\"url(#clip960)\" style=\"stroke:#000000; stroke-width:4; stroke-opacity:1; fill:none\" points=\"\n",
       "  1974.41,1486.45 1974.41,1469.18 \n",
       "  \"/>\n",
       "<polyline clip-path=\"url(#clip960)\" style=\"stroke:#000000; stroke-width:4; stroke-opacity:1; fill:none\" points=\"\n",
       "  2325.71,1486.45 2325.71,1469.18 \n",
       "  \"/>\n",
       "<path clip-path=\"url(#clip960)\" d=\"M 0 0 M208.326 1543.18 L215.965 1543.18 L215.965 1516.82 L207.655 1518.49 L207.655 1514.23 L215.918 1512.56 L220.594 1512.56 L220.594 1543.18 L228.233 1543.18 L228.233 1547.12 L208.326 1547.12 L208.326 1543.18 Z\" fill=\"#000000\" fill-rule=\"evenodd\" fill-opacity=\"1\" /><path clip-path=\"url(#clip960)\" d=\"M 0 0 M563.89 1543.18 L580.21 1543.18 L580.21 1547.12 L558.265 1547.12 L558.265 1543.18 Q560.927 1540.43 565.511 1535.8 Q570.117 1531.15 571.298 1529.81 Q573.543 1527.28 574.423 1525.55 Q575.326 1523.79 575.326 1522.1 Q575.326 1519.34 573.381 1517.61 Q571.46 1515.87 568.358 1515.87 Q566.159 1515.87 563.705 1516.63 Q561.275 1517.4 558.497 1518.95 L558.497 1514.23 Q561.321 1513.09 563.775 1512.51 Q566.228 1511.93 568.265 1511.93 Q573.636 1511.93 576.83 1514.62 Q580.025 1517.31 580.025 1521.8 Q580.025 1523.93 579.214 1525.85 Q578.427 1527.74 576.321 1530.34 Q575.742 1531.01 572.64 1534.23 Q569.539 1537.42 563.89 1543.18 Z\" fill=\"#000000\" fill-rule=\"evenodd\" fill-opacity=\"1\" /><path clip-path=\"url(#clip960)\" d=\"M 0 0 M924.779 1528.49 Q928.135 1529.2 930.01 1531.47 Q931.909 1533.74 931.909 1537.07 Q931.909 1542.19 928.39 1544.99 Q924.872 1547.79 918.39 1547.79 Q916.214 1547.79 913.899 1547.35 Q911.608 1546.93 909.154 1546.08 L909.154 1541.56 Q911.099 1542.7 913.413 1543.28 Q915.728 1543.86 918.251 1543.86 Q922.649 1543.86 924.941 1542.12 Q927.256 1540.38 927.256 1537.07 Q927.256 1534.02 925.103 1532.31 Q922.973 1530.57 919.154 1530.57 L915.126 1530.57 L915.126 1526.73 L919.339 1526.73 Q922.788 1526.73 924.617 1525.36 Q926.446 1523.97 926.446 1521.38 Q926.446 1518.72 924.548 1517.31 Q922.673 1515.87 919.154 1515.87 Q917.233 1515.87 915.034 1516.29 Q912.835 1516.7 910.196 1517.58 L910.196 1513.42 Q912.858 1512.68 915.173 1512.31 Q917.511 1511.93 919.571 1511.93 Q924.895 1511.93 927.997 1514.37 Q931.098 1516.77 931.098 1520.89 Q931.098 1523.76 929.455 1525.75 Q927.811 1527.72 924.779 1528.49 Z\" fill=\"#000000\" fill-rule=\"evenodd\" fill-opacity=\"1\" /><path clip-path=\"url(#clip960)\" d=\"M 0 0 M1274.83 1516.63 L1263.03 1535.08 L1274.83 1535.08 L1274.83 1516.63 M1273.61 1512.56 L1279.49 1512.56 L1279.49 1535.08 L1284.42 1535.08 L1284.42 1538.97 L1279.49 1538.97 L1279.49 1547.12 L1274.83 1547.12 L1274.83 1538.97 L1259.23 1538.97 L1259.23 1534.46 L1273.61 1512.56 Z\" fill=\"#000000\" fill-rule=\"evenodd\" fill-opacity=\"1\" /><path clip-path=\"url(#clip960)\" d=\"M 0 0 M1613.4 1512.56 L1631.75 1512.56 L1631.75 1516.5 L1617.68 1516.5 L1617.68 1524.97 Q1618.7 1524.62 1619.72 1524.46 Q1620.73 1524.27 1621.75 1524.27 Q1627.54 1524.27 1630.92 1527.44 Q1634.3 1530.62 1634.3 1536.03 Q1634.3 1541.61 1630.83 1544.71 Q1627.35 1547.79 1621.04 1547.79 Q1618.86 1547.79 1616.59 1547.42 Q1614.35 1547.05 1611.94 1546.31 L1611.94 1541.61 Q1614.02 1542.74 1616.24 1543.3 Q1618.47 1543.86 1620.94 1543.86 Q1624.95 1543.86 1627.29 1541.75 Q1629.62 1539.64 1629.62 1536.03 Q1629.62 1532.42 1627.29 1530.31 Q1624.95 1528.21 1620.94 1528.21 Q1619.07 1528.21 1617.19 1528.62 Q1615.34 1529.04 1613.4 1529.92 L1613.4 1512.56 Z\" fill=\"#000000\" fill-rule=\"evenodd\" fill-opacity=\"1\" /><path clip-path=\"url(#clip960)\" d=\"M 0 0 M1974.82 1527.98 Q1971.67 1527.98 1969.82 1530.13 Q1967.99 1532.28 1967.99 1536.03 Q1967.99 1539.76 1969.82 1541.93 Q1971.67 1544.09 1974.82 1544.09 Q1977.97 1544.09 1979.79 1541.93 Q1981.65 1539.76 1981.65 1536.03 Q1981.65 1532.28 1979.79 1530.13 Q1977.97 1527.98 1974.82 1527.98 M1984.1 1513.32 L1984.1 1517.58 Q1982.34 1516.75 1980.54 1516.31 Q1978.75 1515.87 1976.99 1515.87 Q1972.36 1515.87 1969.91 1519 Q1967.48 1522.12 1967.13 1528.44 Q1968.5 1526.43 1970.56 1525.36 Q1972.62 1524.27 1975.1 1524.27 Q1980.3 1524.27 1983.31 1527.44 Q1986.35 1530.59 1986.35 1536.03 Q1986.35 1541.36 1983.2 1544.57 Q1980.05 1547.79 1974.82 1547.79 Q1968.82 1547.79 1965.65 1543.21 Q1962.48 1538.6 1962.48 1529.87 Q1962.48 1521.68 1966.37 1516.82 Q1970.26 1511.93 1976.81 1511.93 Q1978.57 1511.93 1980.35 1512.28 Q1982.16 1512.63 1984.1 1513.32 Z\" fill=\"#000000\" fill-rule=\"evenodd\" fill-opacity=\"1\" /><path clip-path=\"url(#clip960)\" d=\"M 0 0 M2314.6 1512.56 L2336.82 1512.56 L2336.82 1514.55 L2324.27 1547.12 L2319.39 1547.12 L2331.19 1516.5 L2314.6 1516.5 L2314.6 1512.56 Z\" fill=\"#000000\" fill-rule=\"evenodd\" fill-opacity=\"1\" /><polyline clip-path=\"url(#clip962)\" style=\"stroke:#000000; stroke-width:2; stroke-opacity:0.1; fill:none\" points=\"\n",
       "  155.765,1219.43 2352.76,1219.43 \n",
       "  \"/>\n",
       "<polyline clip-path=\"url(#clip962)\" style=\"stroke:#000000; stroke-width:2; stroke-opacity:0.1; fill:none\" points=\"\n",
       "  155.765,936.563 2352.76,936.563 \n",
       "  \"/>\n",
       "<polyline clip-path=\"url(#clip962)\" style=\"stroke:#000000; stroke-width:2; stroke-opacity:0.1; fill:none\" points=\"\n",
       "  155.765,653.701 2352.76,653.701 \n",
       "  \"/>\n",
       "<polyline clip-path=\"url(#clip962)\" style=\"stroke:#000000; stroke-width:2; stroke-opacity:0.1; fill:none\" points=\"\n",
       "  155.765,370.839 2352.76,370.839 \n",
       "  \"/>\n",
       "<polyline clip-path=\"url(#clip962)\" style=\"stroke:#000000; stroke-width:2; stroke-opacity:0.1; fill:none\" points=\"\n",
       "  155.765,87.9763 2352.76,87.9763 \n",
       "  \"/>\n",
       "<polyline clip-path=\"url(#clip960)\" style=\"stroke:#000000; stroke-width:4; stroke-opacity:1; fill:none\" points=\"\n",
       "  155.765,1486.45 155.765,47.2441 \n",
       "  \"/>\n",
       "<polyline clip-path=\"url(#clip960)\" style=\"stroke:#000000; stroke-width:4; stroke-opacity:1; fill:none\" points=\"\n",
       "  155.765,1219.43 182.129,1219.43 \n",
       "  \"/>\n",
       "<polyline clip-path=\"url(#clip960)\" style=\"stroke:#000000; stroke-width:4; stroke-opacity:1; fill:none\" points=\"\n",
       "  155.765,936.563 182.129,936.563 \n",
       "  \"/>\n",
       "<polyline clip-path=\"url(#clip960)\" style=\"stroke:#000000; stroke-width:4; stroke-opacity:1; fill:none\" points=\"\n",
       "  155.765,653.701 182.129,653.701 \n",
       "  \"/>\n",
       "<polyline clip-path=\"url(#clip960)\" style=\"stroke:#000000; stroke-width:4; stroke-opacity:1; fill:none\" points=\"\n",
       "  155.765,370.839 182.129,370.839 \n",
       "  \"/>\n",
       "<polyline clip-path=\"url(#clip960)\" style=\"stroke:#000000; stroke-width:4; stroke-opacity:1; fill:none\" points=\"\n",
       "  155.765,87.9763 182.129,87.9763 \n",
       "  \"/>\n",
       "<path clip-path=\"url(#clip960)\" d=\"M 0 0 M63.5847 1205.22 Q59.9736 1205.22 58.1449 1208.79 Q56.3393 1212.33 56.3393 1219.46 Q56.3393 1226.57 58.1449 1230.13 Q59.9736 1233.67 63.5847 1233.67 Q67.2189 1233.67 69.0244 1230.13 Q70.8531 1226.57 70.8531 1219.46 Q70.8531 1212.33 69.0244 1208.79 Q67.2189 1205.22 63.5847 1205.22 M63.5847 1201.52 Q69.3948 1201.52 72.4503 1206.13 Q75.529 1210.71 75.529 1219.46 Q75.529 1228.19 72.4503 1232.79 Q69.3948 1237.38 63.5847 1237.38 Q57.7745 1237.38 54.6958 1232.79 Q51.6403 1228.19 51.6403 1219.46 Q51.6403 1210.71 54.6958 1206.13 Q57.7745 1201.52 63.5847 1201.52 Z\" fill=\"#000000\" fill-rule=\"evenodd\" fill-opacity=\"1\" /><path clip-path=\"url(#clip960)\" d=\"M 0 0 M83.7466 1230.83 L88.6308 1230.83 L88.6308 1236.71 L83.7466 1236.71 L83.7466 1230.83 Z\" fill=\"#000000\" fill-rule=\"evenodd\" fill-opacity=\"1\" /><path clip-path=\"url(#clip960)\" d=\"M 0 0 M98.8622 1202.15 L117.219 1202.15 L117.219 1206.08 L103.145 1206.08 L103.145 1214.55 Q104.163 1214.21 105.182 1214.04 Q106.2 1213.86 107.219 1213.86 Q113.006 1213.86 116.385 1217.03 Q119.765 1220.2 119.765 1225.62 Q119.765 1231.2 116.293 1234.3 Q112.82 1237.38 106.501 1237.38 Q104.325 1237.38 102.057 1237.01 Q99.8113 1236.64 97.4039 1235.9 L97.4039 1231.2 Q99.4872 1232.33 101.709 1232.89 Q103.932 1233.44 106.408 1233.44 Q110.413 1233.44 112.751 1231.34 Q115.089 1229.23 115.089 1225.62 Q115.089 1222.01 112.751 1219.9 Q110.413 1217.79 106.408 1217.79 Q104.534 1217.79 102.659 1218.21 Q100.807 1218.63 98.8622 1219.51 L98.8622 1202.15 Z\" fill=\"#000000\" fill-rule=\"evenodd\" fill-opacity=\"1\" /><path clip-path=\"url(#clip960)\" d=\"M 0 0 M53.3995 949.908 L61.0384 949.908 L61.0384 923.543 L52.7282 925.209 L52.7282 920.95 L60.9921 919.283 L65.668 919.283 L65.668 949.908 L73.3068 949.908 L73.3068 953.843 L53.3995 953.843 L53.3995 949.908 Z\" fill=\"#000000\" fill-rule=\"evenodd\" fill-opacity=\"1\" /><path clip-path=\"url(#clip960)\" d=\"M 0 0 M82.7512 947.964 L87.6354 947.964 L87.6354 953.843 L82.7512 953.843 L82.7512 947.964 Z\" fill=\"#000000\" fill-rule=\"evenodd\" fill-opacity=\"1\" /><path clip-path=\"url(#clip960)\" d=\"M 0 0 M107.821 922.362 Q104.209 922.362 102.381 925.927 Q100.575 929.469 100.575 936.598 Q100.575 943.705 102.381 947.269 Q104.209 950.811 107.821 950.811 Q111.455 950.811 113.26 947.269 Q115.089 943.705 115.089 936.598 Q115.089 929.469 113.26 925.927 Q111.455 922.362 107.821 922.362 M107.821 918.658 Q113.631 918.658 116.686 923.265 Q119.765 927.848 119.765 936.598 Q119.765 945.325 116.686 949.931 Q113.631 954.515 107.821 954.515 Q102.01 954.515 98.9317 949.931 Q95.8761 945.325 95.8761 936.598 Q95.8761 927.848 98.9317 923.265 Q102.01 918.658 107.821 918.658 Z\" fill=\"#000000\" fill-rule=\"evenodd\" fill-opacity=\"1\" /><path clip-path=\"url(#clip960)\" d=\"M 0 0 M54.3949 667.046 L62.0337 667.046 L62.0337 640.68 L53.7236 642.347 L53.7236 638.088 L61.9874 636.421 L66.6633 636.421 L66.6633 667.046 L74.3022 667.046 L74.3022 670.981 L54.3949 670.981 L54.3949 667.046 Z\" fill=\"#000000\" fill-rule=\"evenodd\" fill-opacity=\"1\" /><path clip-path=\"url(#clip960)\" d=\"M 0 0 M83.7466 665.101 L88.6308 665.101 L88.6308 670.981 L83.7466 670.981 L83.7466 665.101 Z\" fill=\"#000000\" fill-rule=\"evenodd\" fill-opacity=\"1\" /><path clip-path=\"url(#clip960)\" d=\"M 0 0 M98.8622 636.421 L117.219 636.421 L117.219 640.356 L103.145 640.356 L103.145 648.828 Q104.163 648.481 105.182 648.319 Q106.2 648.134 107.219 648.134 Q113.006 648.134 116.385 651.305 Q119.765 654.476 119.765 659.893 Q119.765 665.472 116.293 668.574 Q112.82 671.652 106.501 671.652 Q104.325 671.652 102.057 671.282 Q99.8113 670.912 97.4039 670.171 L97.4039 665.472 Q99.4872 666.606 101.709 667.162 Q103.932 667.717 106.408 667.717 Q110.413 667.717 112.751 665.611 Q115.089 663.504 115.089 659.893 Q115.089 656.282 112.751 654.176 Q110.413 652.069 106.408 652.069 Q104.534 652.069 102.659 652.486 Q100.807 652.902 98.8622 653.782 L98.8622 636.421 Z\" fill=\"#000000\" fill-rule=\"evenodd\" fill-opacity=\"1\" /><path clip-path=\"url(#clip960)\" d=\"M 0 0 M56.6171 384.183 L72.9365 384.183 L72.9365 388.119 L50.9921 388.119 L50.9921 384.183 Q53.6541 381.429 58.2375 376.799 Q62.8439 372.147 64.0245 370.804 Q66.2698 368.281 67.1494 366.545 Q68.0522 364.785 68.0522 363.096 Q68.0522 360.341 66.1078 358.605 Q64.1865 356.869 61.0847 356.869 Q58.8856 356.869 56.4319 357.633 Q54.0014 358.397 51.2236 359.948 L51.2236 355.225 Q54.0477 354.091 56.5014 353.512 Q58.955 352.934 60.9921 352.934 Q66.3624 352.934 69.5568 355.619 Q72.7513 358.304 72.7513 362.795 Q72.7513 364.924 71.9411 366.846 Q71.1541 368.744 69.0476 371.336 Q68.4689 372.008 65.367 375.225 Q62.2652 378.42 56.6171 384.183 Z\" fill=\"#000000\" fill-rule=\"evenodd\" fill-opacity=\"1\" /><path clip-path=\"url(#clip960)\" d=\"M 0 0 M82.7512 382.239 L87.6354 382.239 L87.6354 388.119 L82.7512 388.119 L82.7512 382.239 Z\" fill=\"#000000\" fill-rule=\"evenodd\" fill-opacity=\"1\" /><path clip-path=\"url(#clip960)\" d=\"M 0 0 M107.821 356.637 Q104.209 356.637 102.381 360.202 Q100.575 363.744 100.575 370.873 Q100.575 377.98 102.381 381.545 Q104.209 385.086 107.821 385.086 Q111.455 385.086 113.26 381.545 Q115.089 377.98 115.089 370.873 Q115.089 363.744 113.26 360.202 Q111.455 356.637 107.821 356.637 M107.821 352.934 Q113.631 352.934 116.686 357.54 Q119.765 362.123 119.765 370.873 Q119.765 379.6 116.686 384.207 Q113.631 388.79 107.821 388.79 Q102.01 388.79 98.9317 384.207 Q95.8761 379.6 95.8761 370.873 Q95.8761 362.123 98.9317 357.54 Q102.01 352.934 107.821 352.934 Z\" fill=\"#000000\" fill-rule=\"evenodd\" fill-opacity=\"1\" /><path clip-path=\"url(#clip960)\" d=\"M 0 0 M57.6125 101.321 L73.9318 101.321 L73.9318 105.256 L51.9875 105.256 L51.9875 101.321 Q54.6495 98.5665 59.2328 93.9369 Q63.8393 89.2841 65.0198 87.9416 Q67.2652 85.4184 68.1448 83.6823 Q69.0476 81.9231 69.0476 80.2333 Q69.0476 77.4786 67.1032 75.7425 Q65.1819 74.0064 62.08 74.0064 Q59.881 74.0064 57.4273 74.7703 Q54.9967 75.5342 52.219 77.0851 L52.219 72.3629 Q55.043 71.2287 57.4967 70.65 Q59.9504 70.0713 61.9874 70.0713 Q67.3578 70.0713 70.5522 72.7565 Q73.7466 75.4416 73.7466 79.9323 Q73.7466 82.062 72.9365 83.9832 Q72.1494 85.8814 70.0429 88.474 Q69.4642 89.1453 66.3624 92.3628 Q63.2606 95.5573 57.6125 101.321 Z\" fill=\"#000000\" fill-rule=\"evenodd\" fill-opacity=\"1\" /><path clip-path=\"url(#clip960)\" d=\"M 0 0 M83.7466 99.3767 L88.6308 99.3767 L88.6308 105.256 L83.7466 105.256 L83.7466 99.3767 Z\" fill=\"#000000\" fill-rule=\"evenodd\" fill-opacity=\"1\" /><path clip-path=\"url(#clip960)\" d=\"M 0 0 M98.8622 70.6963 L117.219 70.6963 L117.219 74.6314 L103.145 74.6314 L103.145 83.1036 Q104.163 82.7564 105.182 82.5944 Q106.2 82.4092 107.219 82.4092 Q113.006 82.4092 116.385 85.5805 Q119.765 88.7517 119.765 94.1684 Q119.765 99.747 116.293 102.849 Q112.82 105.928 106.501 105.928 Q104.325 105.928 102.057 105.557 Q99.8113 105.187 97.4039 104.446 L97.4039 99.747 Q99.4872 100.881 101.709 101.437 Q103.932 101.992 106.408 101.992 Q110.413 101.992 112.751 99.8859 Q115.089 97.7795 115.089 94.1684 Q115.089 90.5573 112.751 88.4508 Q110.413 86.3443 106.408 86.3443 Q104.534 86.3443 102.659 86.761 Q100.807 87.1777 98.8622 88.0573 L98.8622 70.6963 Z\" fill=\"#000000\" fill-rule=\"evenodd\" fill-opacity=\"1\" /><circle clip-path=\"url(#clip962)\" cx=\"358.461\" cy=\"1389.14\" r=\"14\" fill=\"#009af9\" fill-rule=\"evenodd\" fill-opacity=\"1\" stroke=\"#000000\" stroke-opacity=\"1\" stroke-width=\"3.2\"/>\n",
       "<circle clip-path=\"url(#clip962)\" cx=\"358.461\" cy=\"1389.14\" r=\"14\" fill=\"#009af9\" fill-rule=\"evenodd\" fill-opacity=\"1\" stroke=\"#000000\" stroke-opacity=\"1\" stroke-width=\"3.2\"/>\n",
       "<circle clip-path=\"url(#clip962)\" cx=\"323.332\" cy=\"1389.14\" r=\"14\" fill=\"#009af9\" fill-rule=\"evenodd\" fill-opacity=\"1\" stroke=\"#000000\" stroke-opacity=\"1\" stroke-width=\"3.2\"/>\n",
       "<circle clip-path=\"url(#clip962)\" cx=\"393.591\" cy=\"1389.14\" r=\"14\" fill=\"#009af9\" fill-rule=\"evenodd\" fill-opacity=\"1\" stroke=\"#000000\" stroke-opacity=\"1\" stroke-width=\"3.2\"/>\n",
       "<circle clip-path=\"url(#clip962)\" cx=\"358.461\" cy=\"1389.14\" r=\"14\" fill=\"#009af9\" fill-rule=\"evenodd\" fill-opacity=\"1\" stroke=\"#000000\" stroke-opacity=\"1\" stroke-width=\"3.2\"/>\n",
       "<circle clip-path=\"url(#clip962)\" cx=\"463.85\" cy=\"1276\" r=\"14\" fill=\"#009af9\" fill-rule=\"evenodd\" fill-opacity=\"1\" stroke=\"#000000\" stroke-opacity=\"1\" stroke-width=\"3.2\"/>\n",
       "<circle clip-path=\"url(#clip962)\" cx=\"358.461\" cy=\"1332.57\" r=\"14\" fill=\"#009af9\" fill-rule=\"evenodd\" fill-opacity=\"1\" stroke=\"#000000\" stroke-opacity=\"1\" stroke-width=\"3.2\"/>\n",
       "<circle clip-path=\"url(#clip962)\" cx=\"393.591\" cy=\"1389.14\" r=\"14\" fill=\"#009af9\" fill-rule=\"evenodd\" fill-opacity=\"1\" stroke=\"#000000\" stroke-opacity=\"1\" stroke-width=\"3.2\"/>\n",
       "<circle clip-path=\"url(#clip962)\" cx=\"358.461\" cy=\"1389.14\" r=\"14\" fill=\"#009af9\" fill-rule=\"evenodd\" fill-opacity=\"1\" stroke=\"#000000\" stroke-opacity=\"1\" stroke-width=\"3.2\"/>\n",
       "<circle clip-path=\"url(#clip962)\" cx=\"393.591\" cy=\"1445.72\" r=\"14\" fill=\"#009af9\" fill-rule=\"evenodd\" fill-opacity=\"1\" stroke=\"#000000\" stroke-opacity=\"1\" stroke-width=\"3.2\"/>\n",
       "<circle clip-path=\"url(#clip962)\" cx=\"393.591\" cy=\"1389.14\" r=\"14\" fill=\"#009af9\" fill-rule=\"evenodd\" fill-opacity=\"1\" stroke=\"#000000\" stroke-opacity=\"1\" stroke-width=\"3.2\"/>\n",
       "<circle clip-path=\"url(#clip962)\" cx=\"428.72\" cy=\"1389.14\" r=\"14\" fill=\"#009af9\" fill-rule=\"evenodd\" fill-opacity=\"1\" stroke=\"#000000\" stroke-opacity=\"1\" stroke-width=\"3.2\"/>\n",
       "<circle clip-path=\"url(#clip962)\" cx=\"358.461\" cy=\"1445.72\" r=\"14\" fill=\"#009af9\" fill-rule=\"evenodd\" fill-opacity=\"1\" stroke=\"#000000\" stroke-opacity=\"1\" stroke-width=\"3.2\"/>\n",
       "<circle clip-path=\"url(#clip962)\" cx=\"253.073\" cy=\"1445.72\" r=\"14\" fill=\"#009af9\" fill-rule=\"evenodd\" fill-opacity=\"1\" stroke=\"#000000\" stroke-opacity=\"1\" stroke-width=\"3.2\"/>\n",
       "<circle clip-path=\"url(#clip962)\" cx=\"288.203\" cy=\"1389.14\" r=\"14\" fill=\"#009af9\" fill-rule=\"evenodd\" fill-opacity=\"1\" stroke=\"#000000\" stroke-opacity=\"1\" stroke-width=\"3.2\"/>\n",
       "<circle clip-path=\"url(#clip962)\" cx=\"393.591\" cy=\"1276\" r=\"14\" fill=\"#009af9\" fill-rule=\"evenodd\" fill-opacity=\"1\" stroke=\"#000000\" stroke-opacity=\"1\" stroke-width=\"3.2\"/>\n",
       "<circle clip-path=\"url(#clip962)\" cx=\"323.332\" cy=\"1276\" r=\"14\" fill=\"#009af9\" fill-rule=\"evenodd\" fill-opacity=\"1\" stroke=\"#000000\" stroke-opacity=\"1\" stroke-width=\"3.2\"/>\n",
       "<circle clip-path=\"url(#clip962)\" cx=\"358.461\" cy=\"1332.57\" r=\"14\" fill=\"#009af9\" fill-rule=\"evenodd\" fill-opacity=\"1\" stroke=\"#000000\" stroke-opacity=\"1\" stroke-width=\"3.2\"/>\n",
       "<circle clip-path=\"url(#clip962)\" cx=\"463.85\" cy=\"1332.57\" r=\"14\" fill=\"#009af9\" fill-rule=\"evenodd\" fill-opacity=\"1\" stroke=\"#000000\" stroke-opacity=\"1\" stroke-width=\"3.2\"/>\n",
       "<circle clip-path=\"url(#clip962)\" cx=\"393.591\" cy=\"1332.57\" r=\"14\" fill=\"#009af9\" fill-rule=\"evenodd\" fill-opacity=\"1\" stroke=\"#000000\" stroke-opacity=\"1\" stroke-width=\"3.2\"/>\n",
       "<circle clip-path=\"url(#clip962)\" cx=\"463.85\" cy=\"1389.14\" r=\"14\" fill=\"#009af9\" fill-rule=\"evenodd\" fill-opacity=\"1\" stroke=\"#000000\" stroke-opacity=\"1\" stroke-width=\"3.2\"/>\n",
       "<circle clip-path=\"url(#clip962)\" cx=\"393.591\" cy=\"1276\" r=\"14\" fill=\"#009af9\" fill-rule=\"evenodd\" fill-opacity=\"1\" stroke=\"#000000\" stroke-opacity=\"1\" stroke-width=\"3.2\"/>\n",
       "<circle clip-path=\"url(#clip962)\" cx=\"217.944\" cy=\"1389.14\" r=\"14\" fill=\"#009af9\" fill-rule=\"evenodd\" fill-opacity=\"1\" stroke=\"#000000\" stroke-opacity=\"1\" stroke-width=\"3.2\"/>\n",
       "<circle clip-path=\"url(#clip962)\" cx=\"463.85\" cy=\"1219.43\" r=\"14\" fill=\"#009af9\" fill-rule=\"evenodd\" fill-opacity=\"1\" stroke=\"#000000\" stroke-opacity=\"1\" stroke-width=\"3.2\"/>\n",
       "<circle clip-path=\"url(#clip962)\" cx=\"534.108\" cy=\"1389.14\" r=\"14\" fill=\"#009af9\" fill-rule=\"evenodd\" fill-opacity=\"1\" stroke=\"#000000\" stroke-opacity=\"1\" stroke-width=\"3.2\"/>\n",
       "<circle clip-path=\"url(#clip962)\" cx=\"428.72\" cy=\"1389.14\" r=\"14\" fill=\"#009af9\" fill-rule=\"evenodd\" fill-opacity=\"1\" stroke=\"#000000\" stroke-opacity=\"1\" stroke-width=\"3.2\"/>\n",
       "<circle clip-path=\"url(#clip962)\" cx=\"428.72\" cy=\"1276\" r=\"14\" fill=\"#009af9\" fill-rule=\"evenodd\" fill-opacity=\"1\" stroke=\"#000000\" stroke-opacity=\"1\" stroke-width=\"3.2\"/>\n",
       "<circle clip-path=\"url(#clip962)\" cx=\"393.591\" cy=\"1389.14\" r=\"14\" fill=\"#009af9\" fill-rule=\"evenodd\" fill-opacity=\"1\" stroke=\"#000000\" stroke-opacity=\"1\" stroke-width=\"3.2\"/>\n",
       "<circle clip-path=\"url(#clip962)\" cx=\"358.461\" cy=\"1389.14\" r=\"14\" fill=\"#009af9\" fill-rule=\"evenodd\" fill-opacity=\"1\" stroke=\"#000000\" stroke-opacity=\"1\" stroke-width=\"3.2\"/>\n",
       "<circle clip-path=\"url(#clip962)\" cx=\"428.72\" cy=\"1389.14\" r=\"14\" fill=\"#009af9\" fill-rule=\"evenodd\" fill-opacity=\"1\" stroke=\"#000000\" stroke-opacity=\"1\" stroke-width=\"3.2\"/>\n",
       "<circle clip-path=\"url(#clip962)\" cx=\"428.72\" cy=\"1389.14\" r=\"14\" fill=\"#009af9\" fill-rule=\"evenodd\" fill-opacity=\"1\" stroke=\"#000000\" stroke-opacity=\"1\" stroke-width=\"3.2\"/>\n",
       "<circle clip-path=\"url(#clip962)\" cx=\"393.591\" cy=\"1276\" r=\"14\" fill=\"#009af9\" fill-rule=\"evenodd\" fill-opacity=\"1\" stroke=\"#000000\" stroke-opacity=\"1\" stroke-width=\"3.2\"/>\n",
       "<circle clip-path=\"url(#clip962)\" cx=\"393.591\" cy=\"1445.72\" r=\"14\" fill=\"#009af9\" fill-rule=\"evenodd\" fill-opacity=\"1\" stroke=\"#000000\" stroke-opacity=\"1\" stroke-width=\"3.2\"/>\n",
       "<circle clip-path=\"url(#clip962)\" cx=\"358.461\" cy=\"1389.14\" r=\"14\" fill=\"#009af9\" fill-rule=\"evenodd\" fill-opacity=\"1\" stroke=\"#000000\" stroke-opacity=\"1\" stroke-width=\"3.2\"/>\n",
       "<circle clip-path=\"url(#clip962)\" cx=\"393.591\" cy=\"1389.14\" r=\"14\" fill=\"#009af9\" fill-rule=\"evenodd\" fill-opacity=\"1\" stroke=\"#000000\" stroke-opacity=\"1\" stroke-width=\"3.2\"/>\n",
       "<circle clip-path=\"url(#clip962)\" cx=\"288.203\" cy=\"1389.14\" r=\"14\" fill=\"#009af9\" fill-rule=\"evenodd\" fill-opacity=\"1\" stroke=\"#000000\" stroke-opacity=\"1\" stroke-width=\"3.2\"/>\n",
       "<circle clip-path=\"url(#clip962)\" cx=\"323.332\" cy=\"1389.14\" r=\"14\" fill=\"#009af9\" fill-rule=\"evenodd\" fill-opacity=\"1\" stroke=\"#000000\" stroke-opacity=\"1\" stroke-width=\"3.2\"/>\n",
       "<circle clip-path=\"url(#clip962)\" cx=\"358.461\" cy=\"1445.72\" r=\"14\" fill=\"#009af9\" fill-rule=\"evenodd\" fill-opacity=\"1\" stroke=\"#000000\" stroke-opacity=\"1\" stroke-width=\"3.2\"/>\n",
       "<circle clip-path=\"url(#clip962)\" cx=\"323.332\" cy=\"1389.14\" r=\"14\" fill=\"#009af9\" fill-rule=\"evenodd\" fill-opacity=\"1\" stroke=\"#000000\" stroke-opacity=\"1\" stroke-width=\"3.2\"/>\n",
       "<circle clip-path=\"url(#clip962)\" cx=\"393.591\" cy=\"1389.14\" r=\"14\" fill=\"#009af9\" fill-rule=\"evenodd\" fill-opacity=\"1\" stroke=\"#000000\" stroke-opacity=\"1\" stroke-width=\"3.2\"/>\n",
       "<circle clip-path=\"url(#clip962)\" cx=\"323.332\" cy=\"1332.57\" r=\"14\" fill=\"#009af9\" fill-rule=\"evenodd\" fill-opacity=\"1\" stroke=\"#000000\" stroke-opacity=\"1\" stroke-width=\"3.2\"/>\n",
       "<circle clip-path=\"url(#clip962)\" cx=\"323.332\" cy=\"1332.57\" r=\"14\" fill=\"#009af9\" fill-rule=\"evenodd\" fill-opacity=\"1\" stroke=\"#000000\" stroke-opacity=\"1\" stroke-width=\"3.2\"/>\n",
       "<circle clip-path=\"url(#clip962)\" cx=\"323.332\" cy=\"1389.14\" r=\"14\" fill=\"#009af9\" fill-rule=\"evenodd\" fill-opacity=\"1\" stroke=\"#000000\" stroke-opacity=\"1\" stroke-width=\"3.2\"/>\n",
       "<circle clip-path=\"url(#clip962)\" cx=\"428.72\" cy=\"1162.85\" r=\"14\" fill=\"#009af9\" fill-rule=\"evenodd\" fill-opacity=\"1\" stroke=\"#000000\" stroke-opacity=\"1\" stroke-width=\"3.2\"/>\n",
       "<circle clip-path=\"url(#clip962)\" cx=\"534.108\" cy=\"1276\" r=\"14\" fill=\"#009af9\" fill-rule=\"evenodd\" fill-opacity=\"1\" stroke=\"#000000\" stroke-opacity=\"1\" stroke-width=\"3.2\"/>\n",
       "<circle clip-path=\"url(#clip962)\" cx=\"358.461\" cy=\"1332.57\" r=\"14\" fill=\"#009af9\" fill-rule=\"evenodd\" fill-opacity=\"1\" stroke=\"#000000\" stroke-opacity=\"1\" stroke-width=\"3.2\"/>\n",
       "<circle clip-path=\"url(#clip962)\" cx=\"428.72\" cy=\"1389.14\" r=\"14\" fill=\"#009af9\" fill-rule=\"evenodd\" fill-opacity=\"1\" stroke=\"#000000\" stroke-opacity=\"1\" stroke-width=\"3.2\"/>\n",
       "<circle clip-path=\"url(#clip962)\" cx=\"358.461\" cy=\"1389.14\" r=\"14\" fill=\"#009af9\" fill-rule=\"evenodd\" fill-opacity=\"1\" stroke=\"#000000\" stroke-opacity=\"1\" stroke-width=\"3.2\"/>\n",
       "<circle clip-path=\"url(#clip962)\" cx=\"393.591\" cy=\"1389.14\" r=\"14\" fill=\"#009af9\" fill-rule=\"evenodd\" fill-opacity=\"1\" stroke=\"#000000\" stroke-opacity=\"1\" stroke-width=\"3.2\"/>\n",
       "<circle clip-path=\"url(#clip962)\" cx=\"358.461\" cy=\"1389.14\" r=\"14\" fill=\"#009af9\" fill-rule=\"evenodd\" fill-opacity=\"1\" stroke=\"#000000\" stroke-opacity=\"1\" stroke-width=\"3.2\"/>\n",
       "<circle clip-path=\"url(#clip962)\" cx=\"1517.73\" cy=\"710.274\" r=\"14\" fill=\"#009af9\" fill-rule=\"evenodd\" fill-opacity=\"1\" stroke=\"#000000\" stroke-opacity=\"1\" stroke-width=\"3.2\"/>\n",
       "<circle clip-path=\"url(#clip962)\" cx=\"1447.47\" cy=\"653.701\" r=\"14\" fill=\"#009af9\" fill-rule=\"evenodd\" fill-opacity=\"1\" stroke=\"#000000\" stroke-opacity=\"1\" stroke-width=\"3.2\"/>\n",
       "<circle clip-path=\"url(#clip962)\" cx=\"1587.99\" cy=\"653.701\" r=\"14\" fill=\"#009af9\" fill-rule=\"evenodd\" fill-opacity=\"1\" stroke=\"#000000\" stroke-opacity=\"1\" stroke-width=\"3.2\"/>\n",
       "<circle clip-path=\"url(#clip962)\" cx=\"1271.83\" cy=\"766.846\" r=\"14\" fill=\"#009af9\" fill-rule=\"evenodd\" fill-opacity=\"1\" stroke=\"#000000\" stroke-opacity=\"1\" stroke-width=\"3.2\"/>\n",
       "<circle clip-path=\"url(#clip962)\" cx=\"1482.6\" cy=\"653.701\" r=\"14\" fill=\"#009af9\" fill-rule=\"evenodd\" fill-opacity=\"1\" stroke=\"#000000\" stroke-opacity=\"1\" stroke-width=\"3.2\"/>\n",
       "<circle clip-path=\"url(#clip962)\" cx=\"1447.47\" cy=\"766.846\" r=\"14\" fill=\"#009af9\" fill-rule=\"evenodd\" fill-opacity=\"1\" stroke=\"#000000\" stroke-opacity=\"1\" stroke-width=\"3.2\"/>\n",
       "<circle clip-path=\"url(#clip962)\" cx=\"1517.73\" cy=\"597.129\" r=\"14\" fill=\"#009af9\" fill-rule=\"evenodd\" fill-opacity=\"1\" stroke=\"#000000\" stroke-opacity=\"1\" stroke-width=\"3.2\"/>\n",
       "<circle clip-path=\"url(#clip962)\" cx=\"1025.92\" cy=\"936.563\" r=\"14\" fill=\"#009af9\" fill-rule=\"evenodd\" fill-opacity=\"1\" stroke=\"#000000\" stroke-opacity=\"1\" stroke-width=\"3.2\"/>\n",
       "<circle clip-path=\"url(#clip962)\" cx=\"1482.6\" cy=\"766.846\" r=\"14\" fill=\"#009af9\" fill-rule=\"evenodd\" fill-opacity=\"1\" stroke=\"#000000\" stroke-opacity=\"1\" stroke-width=\"3.2\"/>\n",
       "<circle clip-path=\"url(#clip962)\" cx=\"1236.7\" cy=\"710.274\" r=\"14\" fill=\"#009af9\" fill-rule=\"evenodd\" fill-opacity=\"1\" stroke=\"#000000\" stroke-opacity=\"1\" stroke-width=\"3.2\"/>\n",
       "<circle clip-path=\"url(#clip962)\" cx=\"1096.18\" cy=\"936.563\" r=\"14\" fill=\"#009af9\" fill-rule=\"evenodd\" fill-opacity=\"1\" stroke=\"#000000\" stroke-opacity=\"1\" stroke-width=\"3.2\"/>\n",
       "<circle clip-path=\"url(#clip962)\" cx=\"1342.08\" cy=\"653.701\" r=\"14\" fill=\"#009af9\" fill-rule=\"evenodd\" fill-opacity=\"1\" stroke=\"#000000\" stroke-opacity=\"1\" stroke-width=\"3.2\"/>\n",
       "<circle clip-path=\"url(#clip962)\" cx=\"1271.83\" cy=\"936.563\" r=\"14\" fill=\"#009af9\" fill-rule=\"evenodd\" fill-opacity=\"1\" stroke=\"#000000\" stroke-opacity=\"1\" stroke-width=\"3.2\"/>\n",
       "<circle clip-path=\"url(#clip962)\" cx=\"1517.73\" cy=\"710.274\" r=\"14\" fill=\"#009af9\" fill-rule=\"evenodd\" fill-opacity=\"1\" stroke=\"#000000\" stroke-opacity=\"1\" stroke-width=\"3.2\"/>\n",
       "<circle clip-path=\"url(#clip962)\" cx=\"1131.31\" cy=\"766.846\" r=\"14\" fill=\"#009af9\" fill-rule=\"evenodd\" fill-opacity=\"1\" stroke=\"#000000\" stroke-opacity=\"1\" stroke-width=\"3.2\"/>\n",
       "<circle clip-path=\"url(#clip962)\" cx=\"1412.34\" cy=\"710.274\" r=\"14\" fill=\"#009af9\" fill-rule=\"evenodd\" fill-opacity=\"1\" stroke=\"#000000\" stroke-opacity=\"1\" stroke-width=\"3.2\"/>\n",
       "<circle clip-path=\"url(#clip962)\" cx=\"1447.47\" cy=\"653.701\" r=\"14\" fill=\"#009af9\" fill-rule=\"evenodd\" fill-opacity=\"1\" stroke=\"#000000\" stroke-opacity=\"1\" stroke-width=\"3.2\"/>\n",
       "<circle clip-path=\"url(#clip962)\" cx=\"1306.95\" cy=\"936.563\" r=\"14\" fill=\"#009af9\" fill-rule=\"evenodd\" fill-opacity=\"1\" stroke=\"#000000\" stroke-opacity=\"1\" stroke-width=\"3.2\"/>\n",
       "<circle clip-path=\"url(#clip962)\" cx=\"1447.47\" cy=\"653.701\" r=\"14\" fill=\"#009af9\" fill-rule=\"evenodd\" fill-opacity=\"1\" stroke=\"#000000\" stroke-opacity=\"1\" stroke-width=\"3.2\"/>\n",
       "<circle clip-path=\"url(#clip962)\" cx=\"1236.7\" cy=\"879.991\" r=\"14\" fill=\"#009af9\" fill-rule=\"evenodd\" fill-opacity=\"1\" stroke=\"#000000\" stroke-opacity=\"1\" stroke-width=\"3.2\"/>\n",
       "<circle clip-path=\"url(#clip962)\" cx=\"1552.86\" cy=\"483.984\" r=\"14\" fill=\"#009af9\" fill-rule=\"evenodd\" fill-opacity=\"1\" stroke=\"#000000\" stroke-opacity=\"1\" stroke-width=\"3.2\"/>\n",
       "<circle clip-path=\"url(#clip962)\" cx=\"1271.83\" cy=\"766.846\" r=\"14\" fill=\"#009af9\" fill-rule=\"evenodd\" fill-opacity=\"1\" stroke=\"#000000\" stroke-opacity=\"1\" stroke-width=\"3.2\"/>\n",
       "<circle clip-path=\"url(#clip962)\" cx=\"1587.99\" cy=\"653.701\" r=\"14\" fill=\"#009af9\" fill-rule=\"evenodd\" fill-opacity=\"1\" stroke=\"#000000\" stroke-opacity=\"1\" stroke-width=\"3.2\"/>\n",
       "<circle clip-path=\"url(#clip962)\" cx=\"1517.73\" cy=\"823.418\" r=\"14\" fill=\"#009af9\" fill-rule=\"evenodd\" fill-opacity=\"1\" stroke=\"#000000\" stroke-opacity=\"1\" stroke-width=\"3.2\"/>\n",
       "<circle clip-path=\"url(#clip962)\" cx=\"1377.21\" cy=\"766.846\" r=\"14\" fill=\"#009af9\" fill-rule=\"evenodd\" fill-opacity=\"1\" stroke=\"#000000\" stroke-opacity=\"1\" stroke-width=\"3.2\"/>\n",
       "<circle clip-path=\"url(#clip962)\" cx=\"1412.34\" cy=\"710.274\" r=\"14\" fill=\"#009af9\" fill-rule=\"evenodd\" fill-opacity=\"1\" stroke=\"#000000\" stroke-opacity=\"1\" stroke-width=\"3.2\"/>\n",
       "<circle clip-path=\"url(#clip962)\" cx=\"1552.86\" cy=\"710.274\" r=\"14\" fill=\"#009af9\" fill-rule=\"evenodd\" fill-opacity=\"1\" stroke=\"#000000\" stroke-opacity=\"1\" stroke-width=\"3.2\"/>\n",
       "<circle clip-path=\"url(#clip962)\" cx=\"1623.12\" cy=\"540.556\" r=\"14\" fill=\"#009af9\" fill-rule=\"evenodd\" fill-opacity=\"1\" stroke=\"#000000\" stroke-opacity=\"1\" stroke-width=\"3.2\"/>\n",
       "<circle clip-path=\"url(#clip962)\" cx=\"1447.47\" cy=\"653.701\" r=\"14\" fill=\"#009af9\" fill-rule=\"evenodd\" fill-opacity=\"1\" stroke=\"#000000\" stroke-opacity=\"1\" stroke-width=\"3.2\"/>\n",
       "<circle clip-path=\"url(#clip962)\" cx=\"1096.18\" cy=\"936.563\" r=\"14\" fill=\"#009af9\" fill-rule=\"evenodd\" fill-opacity=\"1\" stroke=\"#000000\" stroke-opacity=\"1\" stroke-width=\"3.2\"/>\n",
       "<circle clip-path=\"url(#clip962)\" cx=\"1201.57\" cy=\"879.991\" r=\"14\" fill=\"#009af9\" fill-rule=\"evenodd\" fill-opacity=\"1\" stroke=\"#000000\" stroke-opacity=\"1\" stroke-width=\"3.2\"/>\n",
       "<circle clip-path=\"url(#clip962)\" cx=\"1166.44\" cy=\"936.563\" r=\"14\" fill=\"#009af9\" fill-rule=\"evenodd\" fill-opacity=\"1\" stroke=\"#000000\" stroke-opacity=\"1\" stroke-width=\"3.2\"/>\n",
       "<circle clip-path=\"url(#clip962)\" cx=\"1236.7\" cy=\"823.418\" r=\"14\" fill=\"#009af9\" fill-rule=\"evenodd\" fill-opacity=\"1\" stroke=\"#000000\" stroke-opacity=\"1\" stroke-width=\"3.2\"/>\n",
       "<circle clip-path=\"url(#clip962)\" cx=\"1658.25\" cy=\"597.129\" r=\"14\" fill=\"#009af9\" fill-rule=\"evenodd\" fill-opacity=\"1\" stroke=\"#000000\" stroke-opacity=\"1\" stroke-width=\"3.2\"/>\n",
       "<circle clip-path=\"url(#clip962)\" cx=\"1447.47\" cy=\"653.701\" r=\"14\" fill=\"#009af9\" fill-rule=\"evenodd\" fill-opacity=\"1\" stroke=\"#000000\" stroke-opacity=\"1\" stroke-width=\"3.2\"/>\n",
       "<circle clip-path=\"url(#clip962)\" cx=\"1447.47\" cy=\"597.129\" r=\"14\" fill=\"#009af9\" fill-rule=\"evenodd\" fill-opacity=\"1\" stroke=\"#000000\" stroke-opacity=\"1\" stroke-width=\"3.2\"/>\n",
       "<circle clip-path=\"url(#clip962)\" cx=\"1517.73\" cy=\"653.701\" r=\"14\" fill=\"#009af9\" fill-rule=\"evenodd\" fill-opacity=\"1\" stroke=\"#000000\" stroke-opacity=\"1\" stroke-width=\"3.2\"/>\n",
       "<circle clip-path=\"url(#clip962)\" cx=\"1412.34\" cy=\"766.846\" r=\"14\" fill=\"#009af9\" fill-rule=\"evenodd\" fill-opacity=\"1\" stroke=\"#000000\" stroke-opacity=\"1\" stroke-width=\"3.2\"/>\n",
       "<circle clip-path=\"url(#clip962)\" cx=\"1306.95\" cy=\"766.846\" r=\"14\" fill=\"#009af9\" fill-rule=\"evenodd\" fill-opacity=\"1\" stroke=\"#000000\" stroke-opacity=\"1\" stroke-width=\"3.2\"/>\n",
       "<circle clip-path=\"url(#clip962)\" cx=\"1271.83\" cy=\"766.846\" r=\"14\" fill=\"#009af9\" fill-rule=\"evenodd\" fill-opacity=\"1\" stroke=\"#000000\" stroke-opacity=\"1\" stroke-width=\"3.2\"/>\n",
       "<circle clip-path=\"url(#clip962)\" cx=\"1412.34\" cy=\"823.418\" r=\"14\" fill=\"#009af9\" fill-rule=\"evenodd\" fill-opacity=\"1\" stroke=\"#000000\" stroke-opacity=\"1\" stroke-width=\"3.2\"/>\n",
       "<circle clip-path=\"url(#clip962)\" cx=\"1482.6\" cy=\"710.274\" r=\"14\" fill=\"#009af9\" fill-rule=\"evenodd\" fill-opacity=\"1\" stroke=\"#000000\" stroke-opacity=\"1\" stroke-width=\"3.2\"/>\n",
       "<circle clip-path=\"url(#clip962)\" cx=\"1271.83\" cy=\"823.418\" r=\"14\" fill=\"#009af9\" fill-rule=\"evenodd\" fill-opacity=\"1\" stroke=\"#000000\" stroke-opacity=\"1\" stroke-width=\"3.2\"/>\n",
       "<circle clip-path=\"url(#clip962)\" cx=\"1025.92\" cy=\"936.563\" r=\"14\" fill=\"#009af9\" fill-rule=\"evenodd\" fill-opacity=\"1\" stroke=\"#000000\" stroke-opacity=\"1\" stroke-width=\"3.2\"/>\n",
       "<circle clip-path=\"url(#clip962)\" cx=\"1342.08\" cy=\"766.846\" r=\"14\" fill=\"#009af9\" fill-rule=\"evenodd\" fill-opacity=\"1\" stroke=\"#000000\" stroke-opacity=\"1\" stroke-width=\"3.2\"/>\n",
       "<circle clip-path=\"url(#clip962)\" cx=\"1342.08\" cy=\"823.418\" r=\"14\" fill=\"#009af9\" fill-rule=\"evenodd\" fill-opacity=\"1\" stroke=\"#000000\" stroke-opacity=\"1\" stroke-width=\"3.2\"/>\n",
       "<circle clip-path=\"url(#clip962)\" cx=\"1342.08\" cy=\"766.846\" r=\"14\" fill=\"#009af9\" fill-rule=\"evenodd\" fill-opacity=\"1\" stroke=\"#000000\" stroke-opacity=\"1\" stroke-width=\"3.2\"/>\n",
       "<circle clip-path=\"url(#clip962)\" cx=\"1377.21\" cy=\"766.846\" r=\"14\" fill=\"#009af9\" fill-rule=\"evenodd\" fill-opacity=\"1\" stroke=\"#000000\" stroke-opacity=\"1\" stroke-width=\"3.2\"/>\n",
       "<circle clip-path=\"url(#clip962)\" cx=\"920.531\" cy=\"879.991\" r=\"14\" fill=\"#009af9\" fill-rule=\"evenodd\" fill-opacity=\"1\" stroke=\"#000000\" stroke-opacity=\"1\" stroke-width=\"3.2\"/>\n",
       "<circle clip-path=\"url(#clip962)\" cx=\"1306.95\" cy=\"766.846\" r=\"14\" fill=\"#009af9\" fill-rule=\"evenodd\" fill-opacity=\"1\" stroke=\"#000000\" stroke-opacity=\"1\" stroke-width=\"3.2\"/>\n",
       "<circle clip-path=\"url(#clip962)\" cx=\"1974.41\" cy=\"87.9763\" r=\"14\" fill=\"#009af9\" fill-rule=\"evenodd\" fill-opacity=\"1\" stroke=\"#000000\" stroke-opacity=\"1\" stroke-width=\"3.2\"/>\n",
       "<circle clip-path=\"url(#clip962)\" cx=\"1658.25\" cy=\"427.411\" r=\"14\" fill=\"#009af9\" fill-rule=\"evenodd\" fill-opacity=\"1\" stroke=\"#000000\" stroke-opacity=\"1\" stroke-width=\"3.2\"/>\n",
       "<circle clip-path=\"url(#clip962)\" cx=\"1939.28\" cy=\"314.266\" r=\"14\" fill=\"#009af9\" fill-rule=\"evenodd\" fill-opacity=\"1\" stroke=\"#000000\" stroke-opacity=\"1\" stroke-width=\"3.2\"/>\n",
       "<circle clip-path=\"url(#clip962)\" cx=\"1833.9\" cy=\"483.984\" r=\"14\" fill=\"#009af9\" fill-rule=\"evenodd\" fill-opacity=\"1\" stroke=\"#000000\" stroke-opacity=\"1\" stroke-width=\"3.2\"/>\n",
       "<circle clip-path=\"url(#clip962)\" cx=\"1904.15\" cy=\"257.694\" r=\"14\" fill=\"#009af9\" fill-rule=\"evenodd\" fill-opacity=\"1\" stroke=\"#000000\" stroke-opacity=\"1\" stroke-width=\"3.2\"/>\n",
       "<circle clip-path=\"url(#clip962)\" cx=\"2185.19\" cy=\"314.266\" r=\"14\" fill=\"#009af9\" fill-rule=\"evenodd\" fill-opacity=\"1\" stroke=\"#000000\" stroke-opacity=\"1\" stroke-width=\"3.2\"/>\n",
       "<circle clip-path=\"url(#clip962)\" cx=\"1447.47\" cy=\"540.556\" r=\"14\" fill=\"#009af9\" fill-rule=\"evenodd\" fill-opacity=\"1\" stroke=\"#000000\" stroke-opacity=\"1\" stroke-width=\"3.2\"/>\n",
       "<circle clip-path=\"url(#clip962)\" cx=\"2079.8\" cy=\"483.984\" r=\"14\" fill=\"#009af9\" fill-rule=\"evenodd\" fill-opacity=\"1\" stroke=\"#000000\" stroke-opacity=\"1\" stroke-width=\"3.2\"/>\n",
       "<circle clip-path=\"url(#clip962)\" cx=\"1904.15\" cy=\"483.984\" r=\"14\" fill=\"#009af9\" fill-rule=\"evenodd\" fill-opacity=\"1\" stroke=\"#000000\" stroke-opacity=\"1\" stroke-width=\"3.2\"/>\n",
       "<circle clip-path=\"url(#clip962)\" cx=\"2009.54\" cy=\"87.9763\" r=\"14\" fill=\"#009af9\" fill-rule=\"evenodd\" fill-opacity=\"1\" stroke=\"#000000\" stroke-opacity=\"1\" stroke-width=\"3.2\"/>\n",
       "<circle clip-path=\"url(#clip962)\" cx=\"1658.25\" cy=\"370.839\" r=\"14\" fill=\"#009af9\" fill-rule=\"evenodd\" fill-opacity=\"1\" stroke=\"#000000\" stroke-opacity=\"1\" stroke-width=\"3.2\"/>\n",
       "<circle clip-path=\"url(#clip962)\" cx=\"1728.51\" cy=\"427.411\" r=\"14\" fill=\"#009af9\" fill-rule=\"evenodd\" fill-opacity=\"1\" stroke=\"#000000\" stroke-opacity=\"1\" stroke-width=\"3.2\"/>\n",
       "<circle clip-path=\"url(#clip962)\" cx=\"1798.77\" cy=\"314.266\" r=\"14\" fill=\"#009af9\" fill-rule=\"evenodd\" fill-opacity=\"1\" stroke=\"#000000\" stroke-opacity=\"1\" stroke-width=\"3.2\"/>\n",
       "<circle clip-path=\"url(#clip962)\" cx=\"1623.12\" cy=\"370.839\" r=\"14\" fill=\"#009af9\" fill-rule=\"evenodd\" fill-opacity=\"1\" stroke=\"#000000\" stroke-opacity=\"1\" stroke-width=\"3.2\"/>\n",
       "<circle clip-path=\"url(#clip962)\" cx=\"1658.25\" cy=\"144.549\" r=\"14\" fill=\"#009af9\" fill-rule=\"evenodd\" fill-opacity=\"1\" stroke=\"#000000\" stroke-opacity=\"1\" stroke-width=\"3.2\"/>\n",
       "<circle clip-path=\"url(#clip962)\" cx=\"1728.51\" cy=\"201.121\" r=\"14\" fill=\"#009af9\" fill-rule=\"evenodd\" fill-opacity=\"1\" stroke=\"#000000\" stroke-opacity=\"1\" stroke-width=\"3.2\"/>\n",
       "<circle clip-path=\"url(#clip962)\" cx=\"1798.77\" cy=\"483.984\" r=\"14\" fill=\"#009af9\" fill-rule=\"evenodd\" fill-opacity=\"1\" stroke=\"#000000\" stroke-opacity=\"1\" stroke-width=\"3.2\"/>\n",
       "<circle clip-path=\"url(#clip962)\" cx=\"2220.32\" cy=\"257.694\" r=\"14\" fill=\"#009af9\" fill-rule=\"evenodd\" fill-opacity=\"1\" stroke=\"#000000\" stroke-opacity=\"1\" stroke-width=\"3.2\"/>\n",
       "<circle clip-path=\"url(#clip962)\" cx=\"2290.58\" cy=\"201.121\" r=\"14\" fill=\"#009af9\" fill-rule=\"evenodd\" fill-opacity=\"1\" stroke=\"#000000\" stroke-opacity=\"1\" stroke-width=\"3.2\"/>\n",
       "<circle clip-path=\"url(#clip962)\" cx=\"1623.12\" cy=\"653.701\" r=\"14\" fill=\"#009af9\" fill-rule=\"evenodd\" fill-opacity=\"1\" stroke=\"#000000\" stroke-opacity=\"1\" stroke-width=\"3.2\"/>\n",
       "<circle clip-path=\"url(#clip962)\" cx=\"1869.02\" cy=\"201.121\" r=\"14\" fill=\"#009af9\" fill-rule=\"evenodd\" fill-opacity=\"1\" stroke=\"#000000\" stroke-opacity=\"1\" stroke-width=\"3.2\"/>\n",
       "<circle clip-path=\"url(#clip962)\" cx=\"1587.99\" cy=\"370.839\" r=\"14\" fill=\"#009af9\" fill-rule=\"evenodd\" fill-opacity=\"1\" stroke=\"#000000\" stroke-opacity=\"1\" stroke-width=\"3.2\"/>\n",
       "<circle clip-path=\"url(#clip962)\" cx=\"2220.32\" cy=\"370.839\" r=\"14\" fill=\"#009af9\" fill-rule=\"evenodd\" fill-opacity=\"1\" stroke=\"#000000\" stroke-opacity=\"1\" stroke-width=\"3.2\"/>\n",
       "<circle clip-path=\"url(#clip962)\" cx=\"1587.99\" cy=\"483.984\" r=\"14\" fill=\"#009af9\" fill-rule=\"evenodd\" fill-opacity=\"1\" stroke=\"#000000\" stroke-opacity=\"1\" stroke-width=\"3.2\"/>\n",
       "<circle clip-path=\"url(#clip962)\" cx=\"1869.02\" cy=\"314.266\" r=\"14\" fill=\"#009af9\" fill-rule=\"evenodd\" fill-opacity=\"1\" stroke=\"#000000\" stroke-opacity=\"1\" stroke-width=\"3.2\"/>\n",
       "<circle clip-path=\"url(#clip962)\" cx=\"1974.41\" cy=\"483.984\" r=\"14\" fill=\"#009af9\" fill-rule=\"evenodd\" fill-opacity=\"1\" stroke=\"#000000\" stroke-opacity=\"1\" stroke-width=\"3.2\"/>\n",
       "<circle clip-path=\"url(#clip962)\" cx=\"1552.86\" cy=\"483.984\" r=\"14\" fill=\"#009af9\" fill-rule=\"evenodd\" fill-opacity=\"1\" stroke=\"#000000\" stroke-opacity=\"1\" stroke-width=\"3.2\"/>\n",
       "<circle clip-path=\"url(#clip962)\" cx=\"1587.99\" cy=\"483.984\" r=\"14\" fill=\"#009af9\" fill-rule=\"evenodd\" fill-opacity=\"1\" stroke=\"#000000\" stroke-opacity=\"1\" stroke-width=\"3.2\"/>\n",
       "<circle clip-path=\"url(#clip962)\" cx=\"1833.9\" cy=\"314.266\" r=\"14\" fill=\"#009af9\" fill-rule=\"evenodd\" fill-opacity=\"1\" stroke=\"#000000\" stroke-opacity=\"1\" stroke-width=\"3.2\"/>\n",
       "<circle clip-path=\"url(#clip962)\" cx=\"1904.15\" cy=\"597.129\" r=\"14\" fill=\"#009af9\" fill-rule=\"evenodd\" fill-opacity=\"1\" stroke=\"#000000\" stroke-opacity=\"1\" stroke-width=\"3.2\"/>\n",
       "<circle clip-path=\"url(#clip962)\" cx=\"2009.54\" cy=\"427.411\" r=\"14\" fill=\"#009af9\" fill-rule=\"evenodd\" fill-opacity=\"1\" stroke=\"#000000\" stroke-opacity=\"1\" stroke-width=\"3.2\"/>\n",
       "<circle clip-path=\"url(#clip962)\" cx=\"2114.93\" cy=\"370.839\" r=\"14\" fill=\"#009af9\" fill-rule=\"evenodd\" fill-opacity=\"1\" stroke=\"#000000\" stroke-opacity=\"1\" stroke-width=\"3.2\"/>\n",
       "<circle clip-path=\"url(#clip962)\" cx=\"1833.9\" cy=\"257.694\" r=\"14\" fill=\"#009af9\" fill-rule=\"evenodd\" fill-opacity=\"1\" stroke=\"#000000\" stroke-opacity=\"1\" stroke-width=\"3.2\"/>\n",
       "<circle clip-path=\"url(#clip962)\" cx=\"1658.25\" cy=\"653.701\" r=\"14\" fill=\"#009af9\" fill-rule=\"evenodd\" fill-opacity=\"1\" stroke=\"#000000\" stroke-opacity=\"1\" stroke-width=\"3.2\"/>\n",
       "<circle clip-path=\"url(#clip962)\" cx=\"1833.9\" cy=\"710.274\" r=\"14\" fill=\"#009af9\" fill-rule=\"evenodd\" fill-opacity=\"1\" stroke=\"#000000\" stroke-opacity=\"1\" stroke-width=\"3.2\"/>\n",
       "<circle clip-path=\"url(#clip962)\" cx=\"2009.54\" cy=\"201.121\" r=\"14\" fill=\"#009af9\" fill-rule=\"evenodd\" fill-opacity=\"1\" stroke=\"#000000\" stroke-opacity=\"1\" stroke-width=\"3.2\"/>\n",
       "<circle clip-path=\"url(#clip962)\" cx=\"1833.9\" cy=\"144.549\" r=\"14\" fill=\"#009af9\" fill-rule=\"evenodd\" fill-opacity=\"1\" stroke=\"#000000\" stroke-opacity=\"1\" stroke-width=\"3.2\"/>\n",
       "<circle clip-path=\"url(#clip962)\" cx=\"1798.77\" cy=\"483.984\" r=\"14\" fill=\"#009af9\" fill-rule=\"evenodd\" fill-opacity=\"1\" stroke=\"#000000\" stroke-opacity=\"1\" stroke-width=\"3.2\"/>\n",
       "<circle clip-path=\"url(#clip962)\" cx=\"1552.86\" cy=\"483.984\" r=\"14\" fill=\"#009af9\" fill-rule=\"evenodd\" fill-opacity=\"1\" stroke=\"#000000\" stroke-opacity=\"1\" stroke-width=\"3.2\"/>\n",
       "<circle clip-path=\"url(#clip962)\" cx=\"1763.64\" cy=\"314.266\" r=\"14\" fill=\"#009af9\" fill-rule=\"evenodd\" fill-opacity=\"1\" stroke=\"#000000\" stroke-opacity=\"1\" stroke-width=\"3.2\"/>\n",
       "<circle clip-path=\"url(#clip962)\" cx=\"1833.9\" cy=\"144.549\" r=\"14\" fill=\"#009af9\" fill-rule=\"evenodd\" fill-opacity=\"1\" stroke=\"#000000\" stroke-opacity=\"1\" stroke-width=\"3.2\"/>\n",
       "<circle clip-path=\"url(#clip962)\" cx=\"1658.25\" cy=\"201.121\" r=\"14\" fill=\"#009af9\" fill-rule=\"evenodd\" fill-opacity=\"1\" stroke=\"#000000\" stroke-opacity=\"1\" stroke-width=\"3.2\"/>\n",
       "<circle clip-path=\"url(#clip962)\" cx=\"1658.25\" cy=\"427.411\" r=\"14\" fill=\"#009af9\" fill-rule=\"evenodd\" fill-opacity=\"1\" stroke=\"#000000\" stroke-opacity=\"1\" stroke-width=\"3.2\"/>\n",
       "<circle clip-path=\"url(#clip962)\" cx=\"1939.28\" cy=\"201.121\" r=\"14\" fill=\"#009af9\" fill-rule=\"evenodd\" fill-opacity=\"1\" stroke=\"#000000\" stroke-opacity=\"1\" stroke-width=\"3.2\"/>\n",
       "<circle clip-path=\"url(#clip962)\" cx=\"1869.02\" cy=\"87.9763\" r=\"14\" fill=\"#009af9\" fill-rule=\"evenodd\" fill-opacity=\"1\" stroke=\"#000000\" stroke-opacity=\"1\" stroke-width=\"3.2\"/>\n",
       "<circle clip-path=\"url(#clip962)\" cx=\"1693.38\" cy=\"201.121\" r=\"14\" fill=\"#009af9\" fill-rule=\"evenodd\" fill-opacity=\"1\" stroke=\"#000000\" stroke-opacity=\"1\" stroke-width=\"3.2\"/>\n",
       "<circle clip-path=\"url(#clip962)\" cx=\"1623.12\" cy=\"427.411\" r=\"14\" fill=\"#009af9\" fill-rule=\"evenodd\" fill-opacity=\"1\" stroke=\"#000000\" stroke-opacity=\"1\" stroke-width=\"3.2\"/>\n",
       "<circle clip-path=\"url(#clip962)\" cx=\"1693.38\" cy=\"370.839\" r=\"14\" fill=\"#009af9\" fill-rule=\"evenodd\" fill-opacity=\"1\" stroke=\"#000000\" stroke-opacity=\"1\" stroke-width=\"3.2\"/>\n",
       "<circle clip-path=\"url(#clip962)\" cx=\"1763.64\" cy=\"201.121\" r=\"14\" fill=\"#009af9\" fill-rule=\"evenodd\" fill-opacity=\"1\" stroke=\"#000000\" stroke-opacity=\"1\" stroke-width=\"3.2\"/>\n",
       "<circle clip-path=\"url(#clip962)\" cx=\"1658.25\" cy=\"483.984\" r=\"14\" fill=\"#009af9\" fill-rule=\"evenodd\" fill-opacity=\"1\" stroke=\"#000000\" stroke-opacity=\"1\" stroke-width=\"3.2\"/>\n",
       "<path clip-path=\"url(#clip960)\" d=\"\n",
       "M1982.98 216.178 L2279.52 216.178 L2279.52 95.2176 L1982.98 95.2176  Z\n",
       "  \" fill=\"#ffffff\" fill-rule=\"evenodd\" fill-opacity=\"1\"/>\n",
       "<polyline clip-path=\"url(#clip960)\" style=\"stroke:#000000; stroke-width:4; stroke-opacity:1; fill:none\" points=\"\n",
       "  1982.98,216.178 2279.52,216.178 2279.52,95.2176 1982.98,95.2176 1982.98,216.178 \n",
       "  \"/>\n",
       "<circle clip-path=\"url(#clip960)\" cx=\"2080.63\" cy=\"155.698\" r=\"23\" fill=\"#009af9\" fill-rule=\"evenodd\" fill-opacity=\"1\" stroke=\"#000000\" stroke-opacity=\"1\" stroke-width=\"5.12\"/>\n",
       "<path clip-path=\"url(#clip960)\" d=\"M 0 0 M2192.11 175.385 Q2190.31 180.015 2188.59 181.427 Q2186.88 182.839 2184.01 182.839 L2180.61 182.839 L2180.61 179.274 L2183.11 179.274 Q2184.87 179.274 2185.84 178.44 Q2186.81 177.607 2187.99 174.505 L2188.76 172.561 L2178.27 147.052 L2182.78 147.052 L2190.89 167.329 L2198.99 147.052 L2203.5 147.052 L2192.11 175.385 Z\" fill=\"#000000\" fill-rule=\"evenodd\" fill-opacity=\"1\" /><path clip-path=\"url(#clip960)\" d=\"M 0 0 M2210.79 169.042 L2218.43 169.042 L2218.43 142.677 L2210.12 144.343 L2210.12 140.084 L2218.39 138.418 L2223.06 138.418 L2223.06 169.042 L2230.7 169.042 L2230.7 172.978 L2210.79 172.978 L2210.79 169.042 Z\" fill=\"#000000\" fill-rule=\"evenodd\" fill-opacity=\"1\" /></svg>\n"
      ]
     },
     "execution_count": 541,
     "metadata": {},
     "output_type": "execute_result"
    }
   ],
   "source": [
    "@df iris scatter(:PetalLength, :PetalWidth)"
   ]
  },
  {
   "cell_type": "markdown",
   "id": "d632fece",
   "metadata": {
    "slideshow": {
     "slide_type": "slide"
    }
   },
   "source": [
    "#### With StatsPlots we can do a correlation plot of selected parameters:"
   ]
  },
  {
   "cell_type": "code",
   "execution_count": 542,
   "id": "ec4ded7a",
   "metadata": {
    "slideshow": {
     "slide_type": "fragment"
    }
   },
   "outputs": [
    {
     "data": {
      "image/svg+xml": [
       "<?xml version=\"1.0\" encoding=\"utf-8\"?>\n",
       "<svg xmlns=\"http://www.w3.org/2000/svg\" xmlns:xlink=\"http://www.w3.org/1999/xlink\" width=\"600\" height=\"400\" viewBox=\"0 0 2400 1600\">\n",
       "<defs>\n",
       "  <clipPath id=\"clip000\">\n",
       "    <rect x=\"0\" y=\"0\" width=\"2400\" height=\"1600\"/>\n",
       "  </clipPath>\n",
       "</defs>\n",
       "<path clip-path=\"url(#clip000)\" d=\"\n",
       "M0 1600 L2400 1600 L2400 0 L0 0  Z\n",
       "  \" fill=\"#ffffff\" fill-rule=\"evenodd\" fill-opacity=\"1\"/>\n",
       "<defs>\n",
       "  <clipPath id=\"clip001\">\n",
       "    <rect x=\"480\" y=\"0\" width=\"1681\" height=\"1600\"/>\n",
       "  </clipPath>\n",
       "</defs>\n",
       "<path clip-path=\"url(#clip000)\" d=\"\n",
       "M220.19 270.631 L611.798 270.631 L611.798 47.2441 L220.19 47.2441  Z\n",
       "  \" fill=\"#ffffff\" fill-rule=\"evenodd\" fill-opacity=\"1\"/>\n",
       "<defs>\n",
       "  <clipPath id=\"clip002\">\n",
       "    <rect x=\"220\" y=\"47\" width=\"393\" height=\"224\"/>\n",
       "  </clipPath>\n",
       "</defs>\n",
       "<polyline clip-path=\"url(#clip000)\" style=\"stroke:#000000; stroke-width:4; stroke-opacity:1; fill:none\" points=\"\n",
       "  220.19,270.631 611.798,270.631 \n",
       "  \"/>\n",
       "<polyline clip-path=\"url(#clip000)\" style=\"stroke:#000000; stroke-width:4; stroke-opacity:1; fill:none\" points=\"\n",
       "  241.729,270.631 241.729,267.95 \n",
       "  \"/>\n",
       "<polyline clip-path=\"url(#clip000)\" style=\"stroke:#000000; stroke-width:4; stroke-opacity:1; fill:none\" points=\"\n",
       "  328.862,270.631 328.862,267.95 \n",
       "  \"/>\n",
       "<polyline clip-path=\"url(#clip000)\" style=\"stroke:#000000; stroke-width:4; stroke-opacity:1; fill:none\" points=\"\n",
       "  415.994,270.631 415.994,267.95 \n",
       "  \"/>\n",
       "<polyline clip-path=\"url(#clip000)\" style=\"stroke:#000000; stroke-width:4; stroke-opacity:1; fill:none\" points=\"\n",
       "  503.127,270.631 503.127,267.95 \n",
       "  \"/>\n",
       "<polyline clip-path=\"url(#clip000)\" style=\"stroke:#000000; stroke-width:4; stroke-opacity:1; fill:none\" points=\"\n",
       "  590.259,270.631 590.259,267.95 \n",
       "  \"/>\n",
       "<path clip-path=\"url(#clip000)\" d=\"M 0 0 M244.739 300.817 L232.933 319.266 L244.739 319.266 L244.739 300.817 M243.512 296.743 L249.391 296.743 L249.391 319.266 L254.322 319.266 L254.322 323.155 L249.391 323.155 L249.391 331.303 L244.739 331.303 L244.739 323.155 L229.137 323.155 L229.137 318.641 L243.512 296.743 Z\" fill=\"#000000\" fill-rule=\"evenodd\" fill-opacity=\"1\" /><path clip-path=\"url(#clip000)\" d=\"M 0 0 M319.14 296.743 L337.496 296.743 L337.496 300.678 L323.422 300.678 L323.422 309.15 Q324.441 308.803 325.459 308.641 Q326.478 308.456 327.496 308.456 Q333.283 308.456 336.663 311.627 Q340.042 314.798 340.042 320.215 Q340.042 325.794 336.57 328.895 Q333.098 331.974 326.779 331.974 Q324.603 331.974 322.334 331.604 Q320.089 331.233 317.681 330.493 L317.681 325.794 Q319.765 326.928 321.987 327.483 Q324.209 328.039 326.686 328.039 Q330.691 328.039 333.029 325.933 Q335.366 323.826 335.366 320.215 Q335.366 316.604 333.029 314.497 Q330.691 312.391 326.686 312.391 Q324.811 312.391 322.936 312.808 Q321.084 313.224 319.14 314.104 L319.14 296.743 Z\" fill=\"#000000\" fill-rule=\"evenodd\" fill-opacity=\"1\" /><path clip-path=\"url(#clip000)\" d=\"M 0 0 M416.399 312.159 Q413.251 312.159 411.399 314.312 Q409.571 316.465 409.571 320.215 Q409.571 323.942 411.399 326.118 Q413.251 328.27 416.399 328.27 Q419.548 328.27 421.376 326.118 Q423.228 323.942 423.228 320.215 Q423.228 316.465 421.376 314.312 Q419.548 312.159 416.399 312.159 M425.682 297.507 L425.682 301.766 Q423.923 300.933 422.117 300.493 Q420.335 300.053 418.575 300.053 Q413.946 300.053 411.492 303.178 Q409.061 306.303 408.714 312.622 Q410.08 310.609 412.14 309.544 Q414.2 308.456 416.677 308.456 Q421.885 308.456 424.895 311.627 Q427.927 314.775 427.927 320.215 Q427.927 325.539 424.779 328.757 Q421.631 331.974 416.399 331.974 Q410.404 331.974 407.233 327.391 Q404.062 322.784 404.062 314.058 Q404.062 305.863 407.95 301.002 Q411.839 296.118 418.39 296.118 Q420.149 296.118 421.932 296.465 Q423.737 296.812 425.682 297.507 Z\" fill=\"#000000\" fill-rule=\"evenodd\" fill-opacity=\"1\" /><path clip-path=\"url(#clip000)\" d=\"M 0 0 M492.016 296.743 L514.238 296.743 L514.238 298.734 L501.692 331.303 L496.807 331.303 L508.613 300.678 L492.016 300.678 L492.016 296.743 Z\" fill=\"#000000\" fill-rule=\"evenodd\" fill-opacity=\"1\" /><path clip-path=\"url(#clip000)\" d=\"M 0 0 M590.259 314.891 Q586.926 314.891 585.005 316.673 Q583.106 318.456 583.106 321.581 Q583.106 324.706 585.005 326.488 Q586.926 328.27 590.259 328.27 Q593.592 328.27 595.514 326.488 Q597.435 324.683 597.435 321.581 Q597.435 318.456 595.514 316.673 Q593.616 314.891 590.259 314.891 M585.583 312.9 Q582.574 312.159 580.884 310.099 Q579.218 308.039 579.218 305.076 Q579.218 300.933 582.157 298.525 Q585.12 296.118 590.259 296.118 Q595.421 296.118 598.361 298.525 Q601.301 300.933 601.301 305.076 Q601.301 308.039 599.611 310.099 Q597.944 312.159 594.958 312.9 Q598.338 313.687 600.213 315.979 Q602.111 318.271 602.111 321.581 Q602.111 326.604 599.032 329.289 Q595.977 331.974 590.259 331.974 Q584.542 331.974 581.463 329.289 Q578.407 326.604 578.407 321.581 Q578.407 318.271 580.306 315.979 Q582.204 313.687 585.583 312.9 M583.87 305.516 Q583.87 308.201 585.537 309.706 Q587.227 311.21 590.259 311.21 Q593.268 311.21 594.958 309.706 Q596.671 308.201 596.671 305.516 Q596.671 302.831 594.958 301.326 Q593.268 299.822 590.259 299.822 Q587.227 299.822 585.537 301.326 Q583.87 302.831 583.87 305.516 Z\" fill=\"#000000\" fill-rule=\"evenodd\" fill-opacity=\"1\" /><polyline clip-path=\"url(#clip000)\" style=\"stroke:#000000; stroke-width:4; stroke-opacity:1; fill:none\" points=\"\n",
       "  220.19,270.631 220.19,47.2441 \n",
       "  \"/>\n",
       "<polyline clip-path=\"url(#clip000)\" style=\"stroke:#000000; stroke-width:4; stroke-opacity:1; fill:none\" points=\"\n",
       "  220.19,264.309 224.89,264.309 \n",
       "  \"/>\n",
       "<polyline clip-path=\"url(#clip000)\" style=\"stroke:#000000; stroke-width:4; stroke-opacity:1; fill:none\" points=\"\n",
       "  220.19,198.452 224.89,198.452 \n",
       "  \"/>\n",
       "<polyline clip-path=\"url(#clip000)\" style=\"stroke:#000000; stroke-width:4; stroke-opacity:1; fill:none\" points=\"\n",
       "  220.19,132.595 224.89,132.595 \n",
       "  \"/>\n",
       "<polyline clip-path=\"url(#clip000)\" style=\"stroke:#000000; stroke-width:4; stroke-opacity:1; fill:none\" points=\"\n",
       "  220.19,66.7378 224.89,66.7378 \n",
       "  \"/>\n",
       "<path clip-path=\"url(#clip000)\" d=\"M 0 0 M172.246 250.107 Q168.635 250.107 166.806 253.672 Q165.001 257.214 165.001 264.343 Q165.001 271.45 166.806 275.015 Q168.635 278.556 172.246 278.556 Q175.88 278.556 177.686 275.015 Q179.514 271.45 179.514 264.343 Q179.514 257.214 177.686 253.672 Q175.88 250.107 172.246 250.107 M172.246 246.404 Q178.056 246.404 181.112 251.01 Q184.19 255.593 184.19 264.343 Q184.19 273.07 181.112 277.677 Q178.056 282.26 172.246 282.26 Q166.436 282.26 163.357 277.677 Q160.302 273.07 160.302 264.343 Q160.302 255.593 163.357 251.01 Q166.436 246.404 172.246 246.404 Z\" fill=\"#000000\" fill-rule=\"evenodd\" fill-opacity=\"1\" /><path clip-path=\"url(#clip000)\" d=\"M 0 0 M132.894 211.796 L140.533 211.796 L140.533 185.431 L132.223 187.098 L132.223 182.838 L140.487 181.172 L145.163 181.172 L145.163 211.796 L152.802 211.796 L152.802 215.732 L132.894 215.732 L132.894 211.796 Z\" fill=\"#000000\" fill-rule=\"evenodd\" fill-opacity=\"1\" /><path clip-path=\"url(#clip000)\" d=\"M 0 0 M172.246 184.25 Q168.635 184.25 166.806 187.815 Q165.001 191.357 165.001 198.486 Q165.001 205.593 166.806 209.158 Q168.635 212.699 172.246 212.699 Q175.88 212.699 177.686 209.158 Q179.514 205.593 179.514 198.486 Q179.514 191.357 177.686 187.815 Q175.88 184.25 172.246 184.25 M172.246 180.547 Q178.056 180.547 181.112 185.153 Q184.19 189.736 184.19 198.486 Q184.19 207.213 181.112 211.82 Q178.056 216.403 172.246 216.403 Q166.436 216.403 163.357 211.82 Q160.302 207.213 160.302 198.486 Q160.302 189.736 163.357 185.153 Q166.436 180.547 172.246 180.547 Z\" fill=\"#000000\" fill-rule=\"evenodd\" fill-opacity=\"1\" /><path clip-path=\"url(#clip000)\" d=\"M 0 0 M136.112 145.94 L152.431 145.94 L152.431 149.875 L130.487 149.875 L130.487 145.94 Q133.149 143.185 137.732 138.555 Q142.339 133.903 143.519 132.56 Q145.765 130.037 146.644 128.301 Q147.547 126.541 147.547 124.852 Q147.547 122.097 145.603 120.361 Q143.681 118.625 140.579 118.625 Q138.38 118.625 135.927 119.389 Q133.496 120.153 130.718 121.704 L130.718 116.981 Q133.542 115.847 135.996 115.268 Q138.45 114.69 140.487 114.69 Q145.857 114.69 149.052 117.375 Q152.246 120.06 152.246 124.551 Q152.246 126.68 151.436 128.602 Q150.649 130.5 148.542 133.092 Q147.964 133.764 144.862 136.981 Q141.76 140.176 136.112 145.94 Z\" fill=\"#000000\" fill-rule=\"evenodd\" fill-opacity=\"1\" /><path clip-path=\"url(#clip000)\" d=\"M 0 0 M172.246 118.393 Q168.635 118.393 166.806 121.958 Q165.001 125.5 165.001 132.629 Q165.001 139.736 166.806 143.301 Q168.635 146.842 172.246 146.842 Q175.88 146.842 177.686 143.301 Q179.514 139.736 179.514 132.629 Q179.514 125.5 177.686 121.958 Q175.88 118.393 172.246 118.393 M172.246 114.69 Q178.056 114.69 181.112 119.296 Q184.19 123.879 184.19 132.629 Q184.19 141.356 181.112 145.963 Q178.056 150.546 172.246 150.546 Q166.436 150.546 163.357 145.963 Q160.302 141.356 160.302 132.629 Q160.302 123.879 163.357 119.296 Q166.436 114.69 172.246 114.69 Z\" fill=\"#000000\" fill-rule=\"evenodd\" fill-opacity=\"1\" /><path clip-path=\"url(#clip000)\" d=\"M 0 0 M146.251 65.3836 Q149.607 66.1012 151.482 68.3697 Q153.38 70.6382 153.38 73.9715 Q153.38 79.0872 149.862 81.8881 Q146.343 84.689 139.862 84.689 Q137.686 84.689 135.371 84.2492 Q133.08 83.8326 130.626 82.9761 L130.626 78.4622 Q132.57 79.5965 134.885 80.1752 Q137.2 80.7539 139.723 80.7539 Q144.121 80.7539 146.413 79.0178 Q148.728 77.2817 148.728 73.9715 Q148.728 70.916 146.575 69.203 Q144.445 67.4669 140.626 67.4669 L136.598 67.4669 L136.598 63.6243 L140.811 63.6243 Q144.26 63.6243 146.089 62.2586 Q147.917 60.8697 147.917 58.2771 Q147.917 55.6151 146.019 54.2031 Q144.144 52.7679 140.626 52.7679 Q138.704 52.7679 136.505 53.1846 Q134.306 53.6012 131.667 54.4809 L131.667 50.3142 Q134.329 49.5735 136.644 49.2031 Q138.982 48.8328 141.042 48.8328 Q146.366 48.8328 149.468 51.2633 Q152.57 53.6707 152.57 57.791 Q152.57 60.6614 150.927 62.6521 Q149.283 64.6197 146.251 65.3836 Z\" fill=\"#000000\" fill-rule=\"evenodd\" fill-opacity=\"1\" /><path clip-path=\"url(#clip000)\" d=\"M 0 0 M172.246 52.5364 Q168.635 52.5364 166.806 56.1012 Q165.001 59.6429 165.001 66.7725 Q165.001 73.8789 166.806 77.4437 Q168.635 80.9854 172.246 80.9854 Q175.88 80.9854 177.686 77.4437 Q179.514 73.8789 179.514 66.7725 Q179.514 59.6429 177.686 56.1012 Q175.88 52.5364 172.246 52.5364 M172.246 48.8328 Q178.056 48.8328 181.112 53.4392 Q184.19 58.0225 184.19 66.7725 Q184.19 75.4993 181.112 80.1057 Q178.056 84.689 172.246 84.689 Q166.436 84.689 163.357 80.1057 Q160.302 75.4993 160.302 66.7725 Q160.302 58.0225 163.357 53.4392 Q166.436 48.8328 172.246 48.8328 Z\" fill=\"#000000\" fill-rule=\"evenodd\" fill-opacity=\"1\" /><path clip-path=\"url(#clip000)\" d=\"M 0 0 M34.2705 326.308 L40.5407 326.308 Q38.7902 329.968 37.9308 333.215 Q37.0714 336.461 37.0714 339.485 Q37.0714 344.737 39.1085 347.601 Q41.1455 350.434 44.9013 350.434 Q48.0523 350.434 49.6755 348.556 Q51.267 346.646 52.2536 341.363 L53.0494 337.48 Q54.418 330.286 57.8873 326.881 Q61.3248 323.443 67.1176 323.443 Q74.0244 323.443 77.5892 328.09 Q81.1539 332.705 81.1539 341.649 Q81.1539 345.023 80.3901 348.842 Q79.6262 352.63 78.1302 356.704 L71.5099 356.704 Q73.7061 352.789 74.8201 349.033 Q75.9341 345.278 75.9341 341.649 Q75.9341 336.143 73.7697 333.151 Q71.6054 330.159 67.595 330.159 Q64.0939 330.159 62.1205 332.323 Q60.1471 334.456 59.1604 339.358 L58.3965 343.272 Q56.9643 350.466 53.9087 353.68 Q50.8532 356.895 45.4105 356.895 Q39.1085 356.895 35.48 352.471 Q31.8516 348.015 31.8516 340.217 Q31.8516 336.875 32.4563 333.406 Q33.061 329.936 34.2705 326.308 Z\" fill=\"#000000\" fill-rule=\"evenodd\" fill-opacity=\"1\" /><path clip-path=\"url(#clip000)\" d=\"M 0 0 M60.9428 283.18 L63.8074 283.18 L63.8074 310.107 Q69.8548 309.725 73.0377 306.479 Q76.1887 303.2 76.1887 297.376 Q76.1887 294.002 75.3612 290.851 Q74.5336 287.668 72.8785 284.549 L78.4167 284.549 Q79.7535 287.7 80.4537 291.01 Q81.1539 294.32 81.1539 297.726 Q81.1539 306.256 76.1887 311.253 Q71.2234 316.218 62.7571 316.218 Q54.0042 316.218 48.8798 311.508 Q43.7236 306.765 43.7236 298.744 Q43.7236 291.551 48.3706 287.382 Q52.9857 283.18 60.9428 283.18 M59.2241 289.037 Q54.418 289.1 51.5534 291.742 Q48.6888 294.352 48.6888 298.681 Q48.6888 303.582 51.4579 306.542 Q54.227 309.471 59.2559 309.916 L59.2241 289.037 Z\" fill=\"#000000\" fill-rule=\"evenodd\" fill-opacity=\"1\" /><path clip-path=\"url(#clip000)\" d=\"M 0 0 M74.8837 267.902 L93.7899 267.902 L93.7899 273.791 L44.583 273.791 L44.583 267.902 L49.9938 267.902 Q46.811 266.056 45.2832 263.255 Q43.7236 260.423 43.7236 256.508 Q43.7236 250.015 48.8798 245.973 Q54.036 241.899 62.4388 241.899 Q70.8415 241.899 75.9977 245.973 Q81.1539 250.015 81.1539 256.508 Q81.1539 260.423 79.6262 263.255 Q78.0666 266.056 74.8837 267.902 M62.4388 247.978 Q55.9776 247.978 52.3173 250.651 Q48.6252 253.293 48.6252 257.94 Q48.6252 262.587 52.3173 265.261 Q55.9776 267.902 62.4388 267.902 Q68.9 267.902 72.5921 265.261 Q76.2524 262.587 76.2524 257.94 Q76.2524 253.293 72.5921 250.651 Q68.9 247.978 62.4388 247.978 Z\" fill=\"#000000\" fill-rule=\"evenodd\" fill-opacity=\"1\" /><path clip-path=\"url(#clip000)\" d=\"M 0 0 M62.3115 215.99 Q62.3115 223.088 63.9347 225.825 Q65.558 228.562 69.4729 228.562 Q72.5921 228.562 74.4381 226.525 Q76.2524 224.457 76.2524 220.924 Q76.2524 216.054 72.8149 213.126 Q69.3456 210.166 63.6164 210.166 L62.3115 210.166 L62.3115 215.99 M59.8925 204.309 L80.2309 204.309 L80.2309 210.166 L74.8201 210.166 Q78.0666 212.171 79.6262 215.163 Q81.1539 218.154 81.1539 222.483 Q81.1539 227.958 78.0984 231.204 Q75.011 234.419 69.8548 234.419 Q63.8392 234.419 60.7837 230.408 Q57.7281 226.366 57.7281 218.377 L57.7281 210.166 L57.1552 210.166 Q53.113 210.166 50.9168 212.839 Q48.6888 215.481 48.6888 220.287 Q48.6888 223.343 49.4209 226.239 Q50.153 229.135 51.6171 231.809 L46.2062 231.809 Q44.9649 228.594 44.3602 225.571 Q43.7236 222.547 43.7236 219.682 Q43.7236 211.948 47.734 208.128 Q51.7444 204.309 59.8925 204.309 Z\" fill=\"#000000\" fill-rule=\"evenodd\" fill-opacity=\"1\" /><path clip-path=\"url(#clip000)\" d=\"M 0 0 M30.7057 192.246 L30.7057 186.39 L80.2309 186.39 L80.2309 192.246 L30.7057 192.246 Z\" fill=\"#000000\" fill-rule=\"evenodd\" fill-opacity=\"1\" /><path clip-path=\"url(#clip000)\" d=\"M 0 0 M32.7109 173.881 L32.7109 167.452 L74.8201 167.452 L74.8201 144.312 L80.2309 144.312 L80.2309 173.881 L32.7109 173.881 Z\" fill=\"#000000\" fill-rule=\"evenodd\" fill-opacity=\"1\" /><path clip-path=\"url(#clip000)\" d=\"M 0 0 M60.9428 108.473 L63.8074 108.473 L63.8074 135.4 Q69.8548 135.018 73.0377 131.772 Q76.1887 128.493 76.1887 122.669 Q76.1887 119.295 75.3612 116.144 Q74.5336 112.961 72.8785 109.842 L78.4167 109.842 Q79.7535 112.993 80.4537 116.303 Q81.1539 119.613 81.1539 123.019 Q81.1539 131.549 76.1887 136.546 Q71.2234 141.511 62.7571 141.511 Q54.0042 141.511 48.8798 136.801 Q43.7236 132.058 43.7236 124.037 Q43.7236 116.844 48.3706 112.675 Q52.9857 108.473 60.9428 108.473 M59.2241 114.33 Q54.418 114.393 51.5534 117.035 Q48.6888 119.645 48.6888 123.974 Q48.6888 128.875 51.4579 131.835 Q54.227 134.764 59.2559 135.209 L59.2241 114.33 Z\" fill=\"#000000\" fill-rule=\"evenodd\" fill-opacity=\"1\" /><path clip-path=\"url(#clip000)\" d=\"M 0 0 M58.7148 69.2288 L80.2309 69.2288 L80.2309 75.0852 L58.9058 75.0852 Q53.8451 75.0852 51.3306 77.0586 Q48.8162 79.0319 48.8162 82.9787 Q48.8162 87.7211 51.8399 90.4584 Q54.8636 93.1956 60.0835 93.1956 L80.2309 93.1956 L80.2309 99.0839 L44.583 99.0839 L44.583 93.1956 L50.1211 93.1956 Q46.9064 91.095 45.315 88.2622 Q43.7236 85.3977 43.7236 81.6737 Q43.7236 75.5308 47.543 72.3798 Q51.3306 69.2288 58.7148 69.2288 Z\" fill=\"#000000\" fill-rule=\"evenodd\" fill-opacity=\"1\" /><path clip-path=\"url(#clip000)\" d=\"M 0 0 M61.9932 34.0901 Q55.6275 34.0901 52.1263 36.7318 Q48.6252 39.3418 48.6252 44.0842 Q48.6252 48.7948 52.1263 51.4366 Q55.6275 54.0465 61.9932 54.0465 Q68.3271 54.0465 71.8282 51.4366 Q75.3293 48.7948 75.3293 44.0842 Q75.3293 39.3418 71.8282 36.7318 Q68.3271 34.0901 61.9932 34.0901 M75.8068 28.2336 Q84.9097 28.2336 89.3339 32.2758 Q93.7899 36.3181 93.7899 44.6571 Q93.7899 47.7445 93.3124 50.4818 Q92.8669 53.219 91.912 55.7971 L86.2147 55.7971 Q87.6151 53.219 88.2835 50.7046 Q88.9519 48.1901 88.9519 45.5802 Q88.9519 39.8192 85.9282 36.9546 Q82.9363 34.0901 76.8571 34.0901 L73.9607 34.0901 Q77.1117 35.9043 78.6713 38.737 Q80.2309 41.5698 80.2309 45.5165 Q80.2309 52.0732 75.2338 56.0836 Q70.2368 60.094 61.9932 60.094 Q53.7178 60.094 48.7207 56.0836 Q43.7236 52.0732 43.7236 45.5165 Q43.7236 41.5698 45.2832 38.737 Q46.8428 35.9043 49.9938 34.0901 L44.583 34.0901 L44.583 28.2336 L75.8068 28.2336 Z\" fill=\"#000000\" fill-rule=\"evenodd\" fill-opacity=\"1\" /><path clip-path=\"url(#clip000)\" d=\"M 0 0 M34.4615 10.3778 L44.583 10.3778 L44.583 -1.68521 L49.1344 -1.68521 L49.1344 10.3778 L68.4862 10.3778 Q72.8467 10.3778 74.088 9.20015 Q75.3293 7.99066 75.3293 4.33038 L75.3293 -1.68521 L80.2309 -1.68521 L80.2309 4.33038 Q80.2309 11.1099 77.7165 13.688 Q75.1702 16.2661 68.4862 16.2661 L49.1344 16.2661 L49.1344 20.5629 L44.583 20.5629 L44.583 16.2661 L34.4615 16.2661 L34.4615 10.3778 Z\" fill=\"#000000\" fill-rule=\"evenodd\" fill-opacity=\"1\" /><path clip-path=\"url(#clip000)\" d=\"M 0 0 M58.7148 -39.0201 L80.2309 -39.0201 L80.2309 -33.1636 L58.9058 -33.1636 Q53.8451 -33.1636 51.3306 -31.1903 Q48.8162 -29.2169 48.8162 -25.2702 Q48.8162 -20.5277 51.8399 -17.7905 Q54.8636 -15.0532 60.0835 -15.0532 L80.2309 -15.0532 L80.2309 -9.16492 L30.7057 -9.16492 L30.7057 -15.0532 L50.1211 -15.0532 Q46.9064 -17.1539 45.315 -19.9866 Q43.7236 -22.8512 43.7236 -26.5751 Q43.7236 -32.718 47.543 -35.8691 Q51.3306 -39.0201 58.7148 -39.0201 Z\" fill=\"#000000\" fill-rule=\"evenodd\" fill-opacity=\"1\" /><path clip-path=\"url(#clip002)\" d=\"\n",
       "M241.729 237.966 L241.729 264.309 L285.296 264.309 L285.296 237.966 L241.729 237.966 L241.729 237.966  Z\n",
       "  \" fill=\"#000000\" fill-rule=\"evenodd\" fill-opacity=\"1\"/>\n",
       "<polyline clip-path=\"url(#clip002)\" style=\"stroke:#000000; stroke-width:4; stroke-opacity:1; fill:none\" points=\"\n",
       "  241.729,237.966 241.729,264.309 285.296,264.309 285.296,237.966 241.729,237.966 \n",
       "  \"/>\n",
       "<path clip-path=\"url(#clip002)\" d=\"\n",
       "M285.296 145.766 L285.296 264.309 L328.862 264.309 L328.862 145.766 L285.296 145.766 L285.296 145.766  Z\n",
       "  \" fill=\"#000000\" fill-rule=\"evenodd\" fill-opacity=\"1\"/>\n",
       "<polyline clip-path=\"url(#clip002)\" style=\"stroke:#000000; stroke-width:4; stroke-opacity:1; fill:none\" points=\"\n",
       "  285.296,145.766 285.296,264.309 328.862,264.309 328.862,145.766 285.296,145.766 \n",
       "  \"/>\n",
       "<path clip-path=\"url(#clip002)\" d=\"\n",
       "M328.862 66.7378 L328.862 264.309 L372.428 264.309 L372.428 66.7378 L328.862 66.7378 L328.862 66.7378  Z\n",
       "  \" fill=\"#000000\" fill-rule=\"evenodd\" fill-opacity=\"1\"/>\n",
       "<polyline clip-path=\"url(#clip002)\" style=\"stroke:#000000; stroke-width:4; stroke-opacity:1; fill:none\" points=\"\n",
       "  328.862,66.7378 328.862,264.309 372.428,264.309 372.428,66.7378 328.862,66.7378 \n",
       "  \"/>\n",
       "<path clip-path=\"url(#clip002)\" d=\"\n",
       "M372.428 60.1521 L372.428 264.309 L415.994 264.309 L415.994 60.1521 L372.428 60.1521 L372.428 60.1521  Z\n",
       "  \" fill=\"#000000\" fill-rule=\"evenodd\" fill-opacity=\"1\"/>\n",
       "<polyline clip-path=\"url(#clip002)\" style=\"stroke:#000000; stroke-width:4; stroke-opacity:1; fill:none\" points=\"\n",
       "  372.428,60.1521 372.428,264.309 415.994,264.309 415.994,60.1521 372.428,60.1521 \n",
       "  \"/>\n",
       "<path clip-path=\"url(#clip002)\" d=\"\n",
       "M415.994 53.5664 L415.994 264.309 L459.561 264.309 L459.561 53.5664 L415.994 53.5664 L415.994 53.5664  Z\n",
       "  \" fill=\"#000000\" fill-rule=\"evenodd\" fill-opacity=\"1\"/>\n",
       "<polyline clip-path=\"url(#clip002)\" style=\"stroke:#000000; stroke-width:4; stroke-opacity:1; fill:none\" points=\"\n",
       "  415.994,53.5664 415.994,264.309 459.561,264.309 459.561,53.5664 415.994,53.5664 \n",
       "  \"/>\n",
       "<path clip-path=\"url(#clip002)\" d=\"\n",
       "M459.561 119.423 L459.561 264.309 L503.127 264.309 L503.127 119.423 L459.561 119.423 L459.561 119.423  Z\n",
       "  \" fill=\"#000000\" fill-rule=\"evenodd\" fill-opacity=\"1\"/>\n",
       "<polyline clip-path=\"url(#clip002)\" style=\"stroke:#000000; stroke-width:4; stroke-opacity:1; fill:none\" points=\"\n",
       "  459.561,119.423 459.561,264.309 503.127,264.309 503.127,119.423 459.561,119.423 \n",
       "  \"/>\n",
       "<path clip-path=\"url(#clip002)\" d=\"\n",
       "M503.127 218.209 L503.127 264.309 L546.693 264.309 L546.693 218.209 L503.127 218.209 L503.127 218.209  Z\n",
       "  \" fill=\"#000000\" fill-rule=\"evenodd\" fill-opacity=\"1\"/>\n",
       "<polyline clip-path=\"url(#clip002)\" style=\"stroke:#000000; stroke-width:4; stroke-opacity:1; fill:none\" points=\"\n",
       "  503.127,218.209 503.127,264.309 546.693,264.309 546.693,218.209 503.127,218.209 \n",
       "  \"/>\n",
       "<path clip-path=\"url(#clip002)\" d=\"\n",
       "M546.693 224.794 L546.693 264.309 L590.259 264.309 L590.259 224.794 L546.693 224.794 L546.693 224.794  Z\n",
       "  \" fill=\"#000000\" fill-rule=\"evenodd\" fill-opacity=\"1\"/>\n",
       "<polyline clip-path=\"url(#clip002)\" style=\"stroke:#000000; stroke-width:4; stroke-opacity:1; fill:none\" points=\"\n",
       "  546.693,224.794 546.693,264.309 590.259,264.309 590.259,224.794 546.693,224.794 \n",
       "  \"/>\n",
       "<path clip-path=\"url(#clip000)\" d=\"\n",
       "M799.738 270.631 L1191.35 270.631 L1191.35 47.2441 L799.738 47.2441  Z\n",
       "  \" fill=\"#ffffff\" fill-rule=\"evenodd\" fill-opacity=\"1\"/>\n",
       "<defs>\n",
       "  <clipPath id=\"clip003\">\n",
       "    <rect x=\"799\" y=\"47\" width=\"393\" height=\"224\"/>\n",
       "  </clipPath>\n",
       "</defs>\n",
       "<polyline clip-path=\"url(#clip000)\" style=\"stroke:#000000; stroke-width:4; stroke-opacity:1; fill:none\" points=\"\n",
       "  799.738,270.631 1191.35,270.631 \n",
       "  \"/>\n",
       "<polyline clip-path=\"url(#clip000)\" style=\"stroke:#000000; stroke-width:4; stroke-opacity:1; fill:none\" points=\"\n",
       "  821.277,270.631 821.277,267.95 \n",
       "  \"/>\n",
       "<polyline clip-path=\"url(#clip000)\" style=\"stroke:#000000; stroke-width:4; stroke-opacity:1; fill:none\" points=\"\n",
       "  888.302,270.631 888.302,267.95 \n",
       "  \"/>\n",
       "<polyline clip-path=\"url(#clip000)\" style=\"stroke:#000000; stroke-width:4; stroke-opacity:1; fill:none\" points=\"\n",
       "  955.327,270.631 955.327,267.95 \n",
       "  \"/>\n",
       "<polyline clip-path=\"url(#clip000)\" style=\"stroke:#000000; stroke-width:4; stroke-opacity:1; fill:none\" points=\"\n",
       "  1022.35,270.631 1022.35,267.95 \n",
       "  \"/>\n",
       "<polyline clip-path=\"url(#clip000)\" style=\"stroke:#000000; stroke-width:4; stroke-opacity:1; fill:none\" points=\"\n",
       "  1089.38,270.631 1089.38,267.95 \n",
       "  \"/>\n",
       "<polyline clip-path=\"url(#clip000)\" style=\"stroke:#000000; stroke-width:4; stroke-opacity:1; fill:none\" points=\"\n",
       "  1156.4,270.631 1156.4,267.95 \n",
       "  \"/>\n",
       "<polyline clip-path=\"url(#clip000)\" style=\"stroke:#000000; stroke-width:4; stroke-opacity:1; fill:none\" points=\"\n",
       "  799.738,270.631 799.738,47.2441 \n",
       "  \"/>\n",
       "<polyline clip-path=\"url(#clip000)\" style=\"stroke:#000000; stroke-width:4; stroke-opacity:1; fill:none\" points=\"\n",
       "  799.738,270.631 804.437,270.631 \n",
       "  \"/>\n",
       "<polyline clip-path=\"url(#clip000)\" style=\"stroke:#000000; stroke-width:4; stroke-opacity:1; fill:none\" points=\"\n",
       "  799.738,214.784 804.437,214.784 \n",
       "  \"/>\n",
       "<polyline clip-path=\"url(#clip000)\" style=\"stroke:#000000; stroke-width:4; stroke-opacity:1; fill:none\" points=\"\n",
       "  799.738,158.937 804.437,158.937 \n",
       "  \"/>\n",
       "<polyline clip-path=\"url(#clip000)\" style=\"stroke:#000000; stroke-width:4; stroke-opacity:1; fill:none\" points=\"\n",
       "  799.738,103.091 804.437,103.091 \n",
       "  \"/>\n",
       "<polyline clip-path=\"url(#clip000)\" style=\"stroke:#000000; stroke-width:4; stroke-opacity:1; fill:none\" points=\"\n",
       "  799.738,47.2441 804.437,47.2441 \n",
       "  \"/>\n",
       "<g clip-path=\"url(#clip003)\">\n",
       "<image width=\"335\" height=\"223\" xlink:href=\"data:image/png;base64,\n",
       "iVBORw0KGgoAAAANSUhEUgAAAU8AAADfCAYAAAB23FEFAAADEklEQVR4nO3WsQ3DQBDEwHvD/bcs\n",
       "p46Z3AuYqWAjYs/w79keAJc72wNu8dkeAPBG4gkQiCdAIJ4AgXgCBOIJEIgnQCCeAIF4AgTiCRCI\n",
       "J0AgngCBeAIE4gkQiCdAIJ4AgXgCBOIJEIgnQCCeAIF4AgTiCRCIJ0AgngCBeAIE4gkQiCdAIJ4A\n",
       "gXgCBOIJEIgnQCCeAIF4AgTiCRCIJ0AgngCBeAIE4gkQiCdAIJ4AgXgCBOIJEIgnQCCeAIF4AgTi\n",
       "CRCIJ0AgngCBeAIE4gkQiCdAIJ4AgXgCBOIJEIgnQHBm5tkeAZc72wO4j+cJEIgnQCCeAIF4AgTi\n",
       "CRCIJ0AgngCBeAIE4gkQiCdAIJ4AgXgCBOIJEIgnQCCeAIF4AgTiCRCIJ0AgngCBeAIE4gkQiCdA\n",
       "IJ4AgXgCBOIJEIgnQCCeAIF4AgTiCRCIJ0AgngCBeAIE4gkQiCdAIJ4AgXgCBOIJEIgnQCCeAIF4\n",
       "AgTiCRCIJ0AgngCBeAIE4gkQiCdAIJ4AgXgCBOIJEIgnQCCeAIF4AgTiCRCIJ0AgngDBmZlnewTA\n",
       "23ieAIF4AgTiCRCIJ0AgngCBeAIE4gkQiCdAIJ4AgXgCBOIJEIgnQCCeAIF4AgTiCRCIJ0AgngCB\n",
       "eAIE4gkQiCdAIJ4AgXgCBOIJEIgnQCCeAIF4AgTiCRCIJ0AgngCBeAIE4gkQiCdAIJ4AgXgCBOIJ\n",
       "EIgnQCCeAIF4AgTiCRCIJ0AgngCBeAIE4gkQiCdAIJ4AgXgCBOIJEIgnQCCeAIF4AgTiCRCIJ0Ag\n",
       "ngCBeAIE4gkQfLcHAK9ytgfcwvMECMQTIBBPgEA8AQLxBAjEEyAQT4BAPAEC8QQIxBMgEE+AQDwB\n",
       "AvEECMQTIBBPgEA8AQLxBAjEEyAQT4BAPAEC8QQIxBMgEE+AQDwBAvEECMQTIBBPgEA8AQLxBAjE\n",
       "EyAQT4BAPAEC8QQIxBMgEE+AQDwBAvEECMQTIBBPgEA8AQLxBAjEEyAQT4BAPAEC8QQIxBMgEE+A\n",
       "QDwBAvEECMQTIBBPgEA8AQLxBAjEEyD4AZ0fBL54dx8TAAAAAElFTkSuQmCC\n",
       "\" transform=\"translate(821, 47)\"/>\n",
       "</g>\n",
       "<path clip-path=\"url(#clip000)\" d=\"\n",
       "M1380.44 270.631 L1772.05 270.631 L1772.05 47.2441 L1380.44 47.2441  Z\n",
       "  \" fill=\"#ffffff\" fill-rule=\"evenodd\" fill-opacity=\"1\"/>\n",
       "<defs>\n",
       "  <clipPath id=\"clip004\">\n",
       "    <rect x=\"1380\" y=\"47\" width=\"393\" height=\"224\"/>\n",
       "  </clipPath>\n",
       "</defs>\n",
       "<polyline clip-path=\"url(#clip000)\" style=\"stroke:#000000; stroke-width:4; stroke-opacity:1; fill:none\" points=\"\n",
       "  1380.44,270.631 1772.05,270.631 \n",
       "  \"/>\n",
       "<polyline clip-path=\"url(#clip000)\" style=\"stroke:#000000; stroke-width:4; stroke-opacity:1; fill:none\" points=\"\n",
       "  1401.98,270.631 1401.98,267.95 \n",
       "  \"/>\n",
       "<polyline clip-path=\"url(#clip000)\" style=\"stroke:#000000; stroke-width:4; stroke-opacity:1; fill:none\" points=\"\n",
       "  1489.11,270.631 1489.11,267.95 \n",
       "  \"/>\n",
       "<polyline clip-path=\"url(#clip000)\" style=\"stroke:#000000; stroke-width:4; stroke-opacity:1; fill:none\" points=\"\n",
       "  1576.25,270.631 1576.25,267.95 \n",
       "  \"/>\n",
       "<polyline clip-path=\"url(#clip000)\" style=\"stroke:#000000; stroke-width:4; stroke-opacity:1; fill:none\" points=\"\n",
       "  1663.38,270.631 1663.38,267.95 \n",
       "  \"/>\n",
       "<polyline clip-path=\"url(#clip000)\" style=\"stroke:#000000; stroke-width:4; stroke-opacity:1; fill:none\" points=\"\n",
       "  1750.51,270.631 1750.51,267.95 \n",
       "  \"/>\n",
       "<polyline clip-path=\"url(#clip000)\" style=\"stroke:#000000; stroke-width:4; stroke-opacity:1; fill:none\" points=\"\n",
       "  1380.44,270.631 1380.44,47.2441 \n",
       "  \"/>\n",
       "<polyline clip-path=\"url(#clip000)\" style=\"stroke:#000000; stroke-width:4; stroke-opacity:1; fill:none\" points=\"\n",
       "  1380.44,270.631 1385.14,270.631 \n",
       "  \"/>\n",
       "<polyline clip-path=\"url(#clip000)\" style=\"stroke:#000000; stroke-width:4; stroke-opacity:1; fill:none\" points=\"\n",
       "  1380.44,214.784 1385.14,214.784 \n",
       "  \"/>\n",
       "<polyline clip-path=\"url(#clip000)\" style=\"stroke:#000000; stroke-width:4; stroke-opacity:1; fill:none\" points=\"\n",
       "  1380.44,158.937 1385.14,158.937 \n",
       "  \"/>\n",
       "<polyline clip-path=\"url(#clip000)\" style=\"stroke:#000000; stroke-width:4; stroke-opacity:1; fill:none\" points=\"\n",
       "  1380.44,103.091 1385.14,103.091 \n",
       "  \"/>\n",
       "<polyline clip-path=\"url(#clip000)\" style=\"stroke:#000000; stroke-width:4; stroke-opacity:1; fill:none\" points=\"\n",
       "  1380.44,47.2441 1385.14,47.2441 \n",
       "  \"/>\n",
       "<g clip-path=\"url(#clip004)\">\n",
       "<image width=\"349\" height=\"223\" xlink:href=\"data:image/png;base64,\n",
       "iVBORw0KGgoAAAANSUhEUgAAAV0AAADfCAYAAABVhwDQAAADHUlEQVR4nO3WyRGAMBADQZv8c4YY\n",
       "+MxydEeg15T2gvc6pwfAXcf0AIA/EV2AkOgChEQXICS6ACHRBQiJLkBIdAFCogsQEl2AkOgChEQX\n",
       "ICS6ACHRBQiJLkBIdAFCogsQEl2AkOgChEQXICS6ACHRBQiJLkBIdAFCogsQEl2AkOgChEQXICS6\n",
       "ACHRBQiJLkBIdAFCogsQEl2AkOgChEQXICS6ACHRBQiJLkBIdAFCogsQEl2AkOgChEQXICS6ACHR\n",
       "BQiJLkBIdAFCogsQEl2AkOgChEQXICS6ACHRBQiJLkBIdAFCogsQEl2AkOgChEQXICS6ACHRBQiJ\n",
       "LkBIdAFCogsQEl2AkOgChEQXICS6ACHRBQiJLkBIdAFCogsQEl2AkOgChEQXICS6ACHRBQiJLkBI\n",
       "dAFCogsQEl2AkOgChEQXICS6ACHRBQiJLkBIdAFCogsQEl2AkOgChEQXICS6ACHRBQiJLkBIdAFC\n",
       "ogsQEl2AkOgChEQXICS6ACHRBQiJLkBIdAFCogsQEl2AkOgChEQXICS6ACHRBQiJLkBor7XO6RHA\n",
       "4+zpAV/l6QKERBcgJLoAIdEFCIkuQEh0AUKiCxASXYCQ6AKERBcgJLoAIdEFCIkuQEh0AUKiCxAS\n",
       "XYCQ6AKERBcgJLoAIdEFCIkuQEh0AUKiCxASXYCQ6AKERBcgJLoAIdEFCIkuQEh0AUKiCxASXYCQ\n",
       "6AKERBcgJLoAIdEFCIkuQEh0AUKiCxASXYCQ6AKERBcgJLoAIdEFCIkuQEh0AUKiCxASXYCQ6AKE\n",
       "RBcgJLoAIdEFCIkuQEh0AUKiCxASXYCQ6AKERBcgJLoAIdEFCIkuQEh0AUKiCxASXYCQ6AKERBcg\n",
       "JLoAIdEFCIkuQEh0AUKiCxASXYCQ6AKERBcgJLoAIdEFCIkuQEh0AUKiCxASXYCQ6AKERBcgJLoA\n",
       "IdEFCIkuQEh0AUKiCxASXYCQ6AKERBcgJLoAIdEFCIkuQEh0AUKiCxASXYCQ6AKERBcgJLoAIdEF\n",
       "CIkuQEh0AUKiCxASXYCQ6AKERBcgJLoAIdEFCIkuQEh0AUIXOEQDvN4/4aIAAAAASUVORK5CYII=\n",
       "\" transform=\"translate(1402, 47)\"/>\n",
       "</g>\n",
       "<path clip-path=\"url(#clip000)\" d=\"\n",
       "M1961.15 270.631 L2352.76 270.631 L2352.76 47.2441 L1961.15 47.2441  Z\n",
       "  \" fill=\"#ffffff\" fill-rule=\"evenodd\" fill-opacity=\"1\"/>\n",
       "<defs>\n",
       "  <clipPath id=\"clip005\">\n",
       "    <rect x=\"1961\" y=\"47\" width=\"393\" height=\"224\"/>\n",
       "  </clipPath>\n",
       "</defs>\n",
       "<polyline clip-path=\"url(#clip000)\" style=\"stroke:#000000; stroke-width:4; stroke-opacity:1; fill:none\" points=\"\n",
       "  1961.15,270.631 2352.76,270.631 \n",
       "  \"/>\n",
       "<polyline clip-path=\"url(#clip000)\" style=\"stroke:#000000; stroke-width:4; stroke-opacity:1; fill:none\" points=\"\n",
       "  1982.69,270.631 1982.69,267.95 \n",
       "  \"/>\n",
       "<polyline clip-path=\"url(#clip000)\" style=\"stroke:#000000; stroke-width:4; stroke-opacity:1; fill:none\" points=\"\n",
       "  2098.86,270.631 2098.86,267.95 \n",
       "  \"/>\n",
       "<polyline clip-path=\"url(#clip000)\" style=\"stroke:#000000; stroke-width:4; stroke-opacity:1; fill:none\" points=\"\n",
       "  2215.04,270.631 2215.04,267.95 \n",
       "  \"/>\n",
       "<polyline clip-path=\"url(#clip000)\" style=\"stroke:#000000; stroke-width:4; stroke-opacity:1; fill:none\" points=\"\n",
       "  2331.22,270.631 2331.22,267.95 \n",
       "  \"/>\n",
       "<polyline clip-path=\"url(#clip000)\" style=\"stroke:#000000; stroke-width:4; stroke-opacity:1; fill:none\" points=\"\n",
       "  1961.15,270.631 1961.15,47.2441 \n",
       "  \"/>\n",
       "<polyline clip-path=\"url(#clip000)\" style=\"stroke:#000000; stroke-width:4; stroke-opacity:1; fill:none\" points=\"\n",
       "  1961.15,270.631 1965.85,270.631 \n",
       "  \"/>\n",
       "<polyline clip-path=\"url(#clip000)\" style=\"stroke:#000000; stroke-width:4; stroke-opacity:1; fill:none\" points=\"\n",
       "  1961.15,214.784 1965.85,214.784 \n",
       "  \"/>\n",
       "<polyline clip-path=\"url(#clip000)\" style=\"stroke:#000000; stroke-width:4; stroke-opacity:1; fill:none\" points=\"\n",
       "  1961.15,158.937 1965.85,158.937 \n",
       "  \"/>\n",
       "<polyline clip-path=\"url(#clip000)\" style=\"stroke:#000000; stroke-width:4; stroke-opacity:1; fill:none\" points=\"\n",
       "  1961.15,103.091 1965.85,103.091 \n",
       "  \"/>\n",
       "<polyline clip-path=\"url(#clip000)\" style=\"stroke:#000000; stroke-width:4; stroke-opacity:1; fill:none\" points=\"\n",
       "  1961.15,47.2441 1965.85,47.2441 \n",
       "  \"/>\n",
       "<g clip-path=\"url(#clip005)\">\n",
       "<image width=\"349\" height=\"223\" xlink:href=\"data:image/png;base64,\n",
       "iVBORw0KGgoAAAANSUhEUgAAAV0AAADfCAYAAABVhwDQAAADI0lEQVR4nO3WwQnDQBAEwTvh/FM+\n",
       "JyDQx/SCVRXBvJrZi390pgcA967pAQBvIroAIdEFCIkuQEh0AUKiCxASXYCQ6AKERBcgJLoAIdEF\n",
       "CIkuQEh0AUKiCxASXYCQ6AKERBcgJLoAIdEFCIkuQEh0AUKiCxASXYCQ6AKERBcgJLoAIdEFCIku\n",
       "QEh0AUKiCxASXYCQ6AKERBcgJLoAIdEFCIkuQEh0AUKiCxASXYCQ6AKERBcgJLoAIdEFCIkuQEh0\n",
       "AUKiCxASXYCQ6AKERBcgJLoAIdEFCIkuQEh0AUKiCxASXYCQ6AKERBcgJLoAIdEFCIkuQEh0AUKi\n",
       "CxASXYCQ6AKERBcgJLoAIdEFCIkuQEh0AUKiCxASXYCQ6AKERBcgJLoAIdEFCIkuQEh0AUKiCxAS\n",
       "XYCQ6AKERBcgJLoAIdEFCIkuQEh0AUKiCxASXYCQ6AKERBcgJLoAIdEFCIkuQEh0AUKiCxASXYCQ\n",
       "6AKERBcgJLoAIdEFCIkuQEh0AUKiCxASXYCQ6AKERBcgJLoAIdEFCIkuQEh0AUKiCxASXYDQXmud\n",
       "6REAb+HpAoREFyAkugAh0QUIiS5ASHQBQqILEBJdgJDoAoREFyAkugAh0QUIiS5ASHQBQqILEBJd\n",
       "gJDoAoREFyAkugAh0QUIiS5ASHQBQqILEBJdgJDoAoREFyAkugAh0QUIiS5ASHQBQqILEBJdgJDo\n",
       "AoREFyAkugAh0QUIiS5ASHQBQqILEBJdgJDoAoREFyAkugAh0QUIiS5ASHQBQqILEBJdgJDoAoRE\n",
       "FyAkugAh0QUIiS5ASHQBQqILEPpMDwAe7ekB/I6nCxASXYCQ6AKERBcgJLoAIdEFCIkuQEh0AUKi\n",
       "CxASXYCQ6AKERBcgJLoAIdEFCIkuQEh0AUKiCxASXYCQ6AKERBcgJLoAIdEFCIkuQEh0AUKiCxAS\n",
       "XYCQ6AKERBcgJLoAIdEFCIkuQEh0AUKiCxASXYCQ6AKERBcgJLoAIdEFCIkuQEh0AUKiCxASXYCQ\n",
       "6AKERBcgJLoAIdEFCIkuQEh0AUKiCxASXYCQ6AKERBcgJLoAIdEFCH0BRpwDvm2ApqIAAAAASUVO\n",
       "RK5CYII=\n",
       "\" transform=\"translate(1983, 47)\"/>\n",
       "</g>\n",
       "<path clip-path=\"url(#clip000)\" d=\"\n",
       "M220.19 654.814 L611.798 654.814 L611.798 431.427 L220.19 431.427  Z\n",
       "  \" fill=\"#ffffff\" fill-rule=\"evenodd\" fill-opacity=\"1\"/>\n",
       "<defs>\n",
       "  <clipPath id=\"clip006\">\n",
       "    <rect x=\"220\" y=\"431\" width=\"393\" height=\"224\"/>\n",
       "  </clipPath>\n",
       "</defs>\n",
       "<polyline clip-path=\"url(#clip000)\" style=\"stroke:#000000; stroke-width:4; stroke-opacity:1; fill:none\" points=\"\n",
       "  220.19,654.814 611.798,654.814 \n",
       "  \"/>\n",
       "<polyline clip-path=\"url(#clip000)\" style=\"stroke:#000000; stroke-width:4; stroke-opacity:1; fill:none\" points=\"\n",
       "  241.729,654.814 241.729,652.133 \n",
       "  \"/>\n",
       "<polyline clip-path=\"url(#clip000)\" style=\"stroke:#000000; stroke-width:4; stroke-opacity:1; fill:none\" points=\"\n",
       "  328.862,654.814 328.862,652.133 \n",
       "  \"/>\n",
       "<polyline clip-path=\"url(#clip000)\" style=\"stroke:#000000; stroke-width:4; stroke-opacity:1; fill:none\" points=\"\n",
       "  415.994,654.814 415.994,652.133 \n",
       "  \"/>\n",
       "<polyline clip-path=\"url(#clip000)\" style=\"stroke:#000000; stroke-width:4; stroke-opacity:1; fill:none\" points=\"\n",
       "  503.127,654.814 503.127,652.133 \n",
       "  \"/>\n",
       "<polyline clip-path=\"url(#clip000)\" style=\"stroke:#000000; stroke-width:4; stroke-opacity:1; fill:none\" points=\"\n",
       "  590.259,654.814 590.259,652.133 \n",
       "  \"/>\n",
       "<polyline clip-path=\"url(#clip000)\" style=\"stroke:#000000; stroke-width:4; stroke-opacity:1; fill:none\" points=\"\n",
       "  220.19,654.814 220.19,431.427 \n",
       "  \"/>\n",
       "<polyline clip-path=\"url(#clip000)\" style=\"stroke:#000000; stroke-width:4; stroke-opacity:1; fill:none\" points=\"\n",
       "  220.19,648.492 224.89,648.492 \n",
       "  \"/>\n",
       "<polyline clip-path=\"url(#clip000)\" style=\"stroke:#000000; stroke-width:4; stroke-opacity:1; fill:none\" points=\"\n",
       "  220.19,606.343 224.89,606.343 \n",
       "  \"/>\n",
       "<polyline clip-path=\"url(#clip000)\" style=\"stroke:#000000; stroke-width:4; stroke-opacity:1; fill:none\" points=\"\n",
       "  220.19,564.195 224.89,564.195 \n",
       "  \"/>\n",
       "<polyline clip-path=\"url(#clip000)\" style=\"stroke:#000000; stroke-width:4; stroke-opacity:1; fill:none\" points=\"\n",
       "  220.19,522.046 224.89,522.046 \n",
       "  \"/>\n",
       "<polyline clip-path=\"url(#clip000)\" style=\"stroke:#000000; stroke-width:4; stroke-opacity:1; fill:none\" points=\"\n",
       "  220.19,479.898 224.89,479.898 \n",
       "  \"/>\n",
       "<polyline clip-path=\"url(#clip000)\" style=\"stroke:#000000; stroke-width:4; stroke-opacity:1; fill:none\" points=\"\n",
       "  220.19,437.749 224.89,437.749 \n",
       "  \"/>\n",
       "<path clip-path=\"url(#clip000)\" d=\"M 0 0 M121.043 661.836 L137.362 661.836 L137.362 665.772 L115.418 665.772 L115.418 661.836 Q118.08 659.082 122.663 654.452 Q127.269 649.799 128.45 648.457 Q130.695 645.934 131.575 644.198 Q132.478 642.438 132.478 640.749 Q132.478 637.994 130.533 636.258 Q128.612 634.522 125.51 634.522 Q123.311 634.522 120.857 635.286 Q118.427 636.05 115.649 637.6 L115.649 632.878 Q118.473 631.744 120.927 631.165 Q123.38 630.587 125.418 630.587 Q130.788 630.587 133.982 633.272 Q137.177 635.957 137.177 640.448 Q137.177 642.577 136.367 644.499 Q135.579 646.397 133.473 648.989 Q132.894 649.661 129.792 652.878 Q126.691 656.073 121.043 661.836 Z\" fill=\"#000000\" fill-rule=\"evenodd\" fill-opacity=\"1\" /><path clip-path=\"url(#clip000)\" d=\"M 0 0 M147.177 659.892 L152.061 659.892 L152.061 665.772 L147.177 665.772 L147.177 659.892 Z\" fill=\"#000000\" fill-rule=\"evenodd\" fill-opacity=\"1\" /><path clip-path=\"url(#clip000)\" d=\"M 0 0 M172.246 634.29 Q168.635 634.29 166.806 637.855 Q165.001 641.397 165.001 648.526 Q165.001 655.633 166.806 659.198 Q168.635 662.739 172.246 662.739 Q175.88 662.739 177.686 659.198 Q179.514 655.633 179.514 648.526 Q179.514 641.397 177.686 637.855 Q175.88 634.29 172.246 634.29 M172.246 630.587 Q178.056 630.587 181.112 635.193 Q184.19 639.776 184.19 648.526 Q184.19 657.253 181.112 661.86 Q178.056 666.443 172.246 666.443 Q166.436 666.443 163.357 661.86 Q160.302 657.253 160.302 648.526 Q160.302 639.776 163.357 635.193 Q166.436 630.587 172.246 630.587 Z\" fill=\"#000000\" fill-rule=\"evenodd\" fill-opacity=\"1\" /><path clip-path=\"url(#clip000)\" d=\"M 0 0 M122.038 619.688 L138.357 619.688 L138.357 623.623 L116.413 623.623 L116.413 619.688 Q119.075 616.933 123.658 612.304 Q128.265 607.651 129.445 606.308 Q131.691 603.785 132.57 602.049 Q133.473 600.29 133.473 598.6 Q133.473 595.846 131.529 594.109 Q129.607 592.373 126.505 592.373 Q124.306 592.373 121.853 593.137 Q119.422 593.901 116.644 595.452 L116.644 590.73 Q119.468 589.596 121.922 589.017 Q124.376 588.438 126.413 588.438 Q131.783 588.438 134.978 591.123 Q138.172 593.808 138.172 598.299 Q138.172 600.429 137.362 602.35 Q136.575 604.248 134.468 606.841 Q133.89 607.512 130.788 610.73 Q127.686 613.924 122.038 619.688 Z\" fill=\"#000000\" fill-rule=\"evenodd\" fill-opacity=\"1\" /><path clip-path=\"url(#clip000)\" d=\"M 0 0 M148.172 617.744 L153.056 617.744 L153.056 623.623 L148.172 623.623 L148.172 617.744 Z\" fill=\"#000000\" fill-rule=\"evenodd\" fill-opacity=\"1\" /><path clip-path=\"url(#clip000)\" d=\"M 0 0 M163.288 589.063 L181.644 589.063 L181.644 592.998 L167.57 592.998 L167.57 601.47 Q168.589 601.123 169.607 600.961 Q170.626 600.776 171.644 600.776 Q177.431 600.776 180.811 603.947 Q184.19 607.119 184.19 612.535 Q184.19 618.114 180.718 621.216 Q177.246 624.294 170.927 624.294 Q168.751 624.294 166.482 623.924 Q164.237 623.554 161.829 622.813 L161.829 618.114 Q163.913 619.248 166.135 619.804 Q168.357 620.359 170.834 620.359 Q174.839 620.359 177.176 618.253 Q179.514 616.146 179.514 612.535 Q179.514 608.924 177.176 606.818 Q174.839 604.711 170.834 604.711 Q168.959 604.711 167.084 605.128 Q165.232 605.545 163.288 606.424 L163.288 589.063 Z\" fill=\"#000000\" fill-rule=\"evenodd\" fill-opacity=\"1\" /><path clip-path=\"url(#clip000)\" d=\"M 0 0 M131.181 562.841 Q134.538 563.558 136.413 565.827 Q138.311 568.095 138.311 571.428 Q138.311 576.544 134.792 579.345 Q131.274 582.146 124.793 582.146 Q122.617 582.146 120.302 581.706 Q118.01 581.29 115.556 580.433 L115.556 575.919 Q117.501 577.053 119.816 577.632 Q122.13 578.211 124.654 578.211 Q129.052 578.211 131.343 576.475 Q133.658 574.739 133.658 571.428 Q133.658 568.373 131.505 566.66 Q129.376 564.924 125.556 564.924 L121.529 564.924 L121.529 561.081 L125.742 561.081 Q129.191 561.081 131.019 559.716 Q132.848 558.327 132.848 555.734 Q132.848 553.072 130.95 551.66 Q129.075 550.225 125.556 550.225 Q123.635 550.225 121.436 550.642 Q119.237 551.058 116.598 551.938 L116.598 547.771 Q119.26 547.03 121.575 546.66 Q123.913 546.29 125.973 546.29 Q131.297 546.29 134.399 548.72 Q137.501 551.128 137.501 555.248 Q137.501 558.118 135.857 560.109 Q134.214 562.077 131.181 562.841 Z\" fill=\"#000000\" fill-rule=\"evenodd\" fill-opacity=\"1\" /><path clip-path=\"url(#clip000)\" d=\"M 0 0 M147.177 575.595 L152.061 575.595 L152.061 581.475 L147.177 581.475 L147.177 575.595 Z\" fill=\"#000000\" fill-rule=\"evenodd\" fill-opacity=\"1\" /><path clip-path=\"url(#clip000)\" d=\"M 0 0 M172.246 549.993 Q168.635 549.993 166.806 553.558 Q165.001 557.1 165.001 564.229 Q165.001 571.336 166.806 574.901 Q168.635 578.442 172.246 578.442 Q175.88 578.442 177.686 574.901 Q179.514 571.336 179.514 564.229 Q179.514 557.1 177.686 553.558 Q175.88 549.993 172.246 549.993 M172.246 546.29 Q178.056 546.29 181.112 550.896 Q184.19 555.479 184.19 564.229 Q184.19 572.956 181.112 577.563 Q178.056 582.146 172.246 582.146 Q166.436 582.146 163.357 577.563 Q160.302 572.956 160.302 564.229 Q160.302 555.479 163.357 550.896 Q166.436 546.29 172.246 546.29 Z\" fill=\"#000000\" fill-rule=\"evenodd\" fill-opacity=\"1\" /><path clip-path=\"url(#clip000)\" d=\"M 0 0 M132.177 520.692 Q135.533 521.41 137.408 523.678 Q139.306 525.947 139.306 529.28 Q139.306 534.396 135.788 537.197 Q132.269 539.998 125.788 539.998 Q123.612 539.998 121.297 539.558 Q119.006 539.141 116.552 538.285 L116.552 533.771 Q118.496 534.905 120.811 535.484 Q123.126 536.062 125.649 536.062 Q130.047 536.062 132.339 534.326 Q134.654 532.59 134.654 529.28 Q134.654 526.224 132.501 524.512 Q130.371 522.775 126.552 522.775 L122.524 522.775 L122.524 518.933 L126.737 518.933 Q130.186 518.933 132.015 517.567 Q133.843 516.178 133.843 513.586 Q133.843 510.924 131.945 509.512 Q130.07 508.076 126.552 508.076 Q124.63 508.076 122.431 508.493 Q120.232 508.91 117.593 509.789 L117.593 505.623 Q120.255 504.882 122.57 504.512 Q124.908 504.141 126.968 504.141 Q132.292 504.141 135.394 506.572 Q138.496 508.979 138.496 513.1 Q138.496 515.97 136.853 517.961 Q135.209 519.928 132.177 520.692 Z\" fill=\"#000000\" fill-rule=\"evenodd\" fill-opacity=\"1\" /><path clip-path=\"url(#clip000)\" d=\"M 0 0 M148.172 533.447 L153.056 533.447 L153.056 539.326 L148.172 539.326 L148.172 533.447 Z\" fill=\"#000000\" fill-rule=\"evenodd\" fill-opacity=\"1\" /><path clip-path=\"url(#clip000)\" d=\"M 0 0 M163.288 504.766 L181.644 504.766 L181.644 508.701 L167.57 508.701 L167.57 517.174 Q168.589 516.826 169.607 516.664 Q170.626 516.479 171.644 516.479 Q177.431 516.479 180.811 519.65 Q184.19 522.822 184.19 528.238 Q184.19 533.817 180.718 536.919 Q177.246 539.998 170.927 539.998 Q168.751 539.998 166.482 539.627 Q164.237 539.257 161.829 538.516 L161.829 533.817 Q163.913 534.951 166.135 535.507 Q168.357 536.062 170.834 536.062 Q174.839 536.062 177.176 533.956 Q179.514 531.849 179.514 528.238 Q179.514 524.627 177.176 522.521 Q174.839 520.414 170.834 520.414 Q168.959 520.414 167.084 520.831 Q165.232 521.248 163.288 522.127 L163.288 504.766 Z\" fill=\"#000000\" fill-rule=\"evenodd\" fill-opacity=\"1\" /><path clip-path=\"url(#clip000)\" d=\"M 0 0 M129.862 466.692 L118.056 485.141 L129.862 485.141 L129.862 466.692 M128.635 462.618 L134.515 462.618 L134.515 485.141 L139.445 485.141 L139.445 489.03 L134.515 489.03 L134.515 497.178 L129.862 497.178 L129.862 489.03 L114.26 489.03 L114.26 484.516 L128.635 462.618 Z\" fill=\"#000000\" fill-rule=\"evenodd\" fill-opacity=\"1\" /><path clip-path=\"url(#clip000)\" d=\"M 0 0 M147.177 491.298 L152.061 491.298 L152.061 497.178 L147.177 497.178 L147.177 491.298 Z\" fill=\"#000000\" fill-rule=\"evenodd\" fill-opacity=\"1\" /><path clip-path=\"url(#clip000)\" d=\"M 0 0 M172.246 465.696 Q168.635 465.696 166.806 469.261 Q165.001 472.803 165.001 479.933 Q165.001 487.039 166.806 490.604 Q168.635 494.145 172.246 494.145 Q175.88 494.145 177.686 490.604 Q179.514 487.039 179.514 479.933 Q179.514 472.803 177.686 469.261 Q175.88 465.696 172.246 465.696 M172.246 461.993 Q178.056 461.993 181.112 466.599 Q184.19 471.183 184.19 479.933 Q184.19 488.659 181.112 493.266 Q178.056 497.849 172.246 497.849 Q166.436 497.849 163.357 493.266 Q160.302 488.659 160.302 479.933 Q160.302 471.183 163.357 466.599 Q166.436 461.993 172.246 461.993 Z\" fill=\"#000000\" fill-rule=\"evenodd\" fill-opacity=\"1\" /><path clip-path=\"url(#clip000)\" d=\"M 0 0 M130.857 424.543 L119.052 442.992 L130.857 442.992 L130.857 424.543 M129.63 420.469 L135.51 420.469 L135.51 442.992 L140.441 442.992 L140.441 446.881 L135.51 446.881 L135.51 455.029 L130.857 455.029 L130.857 446.881 L115.256 446.881 L115.256 442.367 L129.63 420.469 Z\" fill=\"#000000\" fill-rule=\"evenodd\" fill-opacity=\"1\" /><path clip-path=\"url(#clip000)\" d=\"M 0 0 M148.172 449.15 L153.056 449.15 L153.056 455.029 L148.172 455.029 L148.172 449.15 Z\" fill=\"#000000\" fill-rule=\"evenodd\" fill-opacity=\"1\" /><path clip-path=\"url(#clip000)\" d=\"M 0 0 M163.288 420.469 L181.644 420.469 L181.644 424.405 L167.57 424.405 L167.57 432.877 Q168.589 432.529 169.607 432.367 Q170.626 432.182 171.644 432.182 Q177.431 432.182 180.811 435.354 Q184.19 438.525 184.19 443.941 Q184.19 449.52 180.718 452.622 Q177.246 455.701 170.927 455.701 Q168.751 455.701 166.482 455.33 Q164.237 454.96 161.829 454.219 L161.829 449.52 Q163.913 450.654 166.135 451.21 Q168.357 451.765 170.834 451.765 Q174.839 451.765 177.176 449.659 Q179.514 447.553 179.514 443.941 Q179.514 440.33 177.176 438.224 Q174.839 436.117 170.834 436.117 Q168.959 436.117 167.084 436.534 Q165.232 436.951 163.288 437.83 L163.288 420.469 Z\" fill=\"#000000\" fill-rule=\"evenodd\" fill-opacity=\"1\" /><path clip-path=\"url(#clip000)\" d=\"M 0 0 M18.0438 692.762 L24.314 692.762 Q22.5634 696.423 21.704 699.669 Q20.8447 702.916 20.8447 705.939 Q20.8447 711.191 22.8817 714.056 Q24.9187 716.888 28.6745 716.888 Q31.8255 716.888 33.4488 715.01 Q35.0402 713.101 36.0269 707.817 L36.8226 703.934 Q38.1912 696.741 41.6605 693.335 Q45.098 689.898 50.8908 689.898 Q57.7976 689.898 61.3624 694.545 Q64.9272 699.16 64.9272 708.104 Q64.9272 711.477 64.1633 715.297 Q63.3994 719.085 61.9035 723.159 L55.2831 723.159 Q57.4793 719.244 58.5933 715.488 Q59.7073 711.732 59.7073 708.104 Q59.7073 702.597 57.543 699.605 Q55.3786 696.614 51.3682 696.614 Q47.8671 696.614 45.8937 698.778 Q43.9204 700.91 42.9337 705.812 L42.1698 709.727 Q40.7375 716.92 37.682 720.135 Q34.6264 723.35 29.1837 723.35 Q22.8817 723.35 19.2532 718.925 Q15.6248 714.469 15.6248 706.671 Q15.6248 703.329 16.2295 699.86 Q16.8343 696.391 18.0438 692.762 Z\" fill=\"#000000\" fill-rule=\"evenodd\" fill-opacity=\"1\" /><path clip-path=\"url(#clip000)\" d=\"M 0 0 M44.7161 649.635 L47.5806 649.635 L47.5806 676.562 Q53.6281 676.18 56.8109 672.933 Q59.9619 669.655 59.9619 663.83 Q59.9619 660.456 59.1344 657.305 Q58.3069 654.122 56.6518 651.003 L62.1899 651.003 Q63.5267 654.154 64.227 657.464 Q64.9272 660.775 64.9272 664.18 Q64.9272 672.71 59.9619 677.707 Q54.9967 682.673 46.5303 682.673 Q37.7774 682.673 32.6531 677.962 Q27.4968 673.22 27.4968 665.199 Q27.4968 658.006 32.1438 653.836 Q36.7589 649.635 44.7161 649.635 M42.9973 655.491 Q38.1912 655.555 35.3266 658.197 Q32.4621 660.806 32.4621 665.135 Q32.4621 670.037 35.2312 672.997 Q38.0002 675.925 43.0292 676.371 L42.9973 655.491 Z\" fill=\"#000000\" fill-rule=\"evenodd\" fill-opacity=\"1\" /><path clip-path=\"url(#clip000)\" d=\"M 0 0 M58.657 634.357 L77.5631 634.357 L77.5631 640.245 L28.3562 640.245 L28.3562 634.357 L33.7671 634.357 Q30.5842 632.511 29.0564 629.71 Q27.4968 626.877 27.4968 622.962 Q27.4968 616.469 32.6531 612.427 Q37.8093 608.353 46.212 608.353 Q54.6147 608.353 59.771 612.427 Q64.9272 616.469 64.9272 622.962 Q64.9272 626.877 63.3994 629.71 Q61.8398 632.511 58.657 634.357 M46.212 614.432 Q39.7508 614.432 36.0905 617.106 Q32.3984 619.748 32.3984 624.395 Q32.3984 629.042 36.0905 631.715 Q39.7508 634.357 46.212 634.357 Q52.6732 634.357 56.3653 631.715 Q60.0256 629.042 60.0256 624.395 Q60.0256 619.748 56.3653 617.106 Q52.6732 614.432 46.212 614.432 Z\" fill=\"#000000\" fill-rule=\"evenodd\" fill-opacity=\"1\" /><path clip-path=\"url(#clip000)\" d=\"M 0 0 M46.0847 582.445 Q46.0847 589.542 47.7079 592.28 Q49.3312 595.017 53.2461 595.017 Q56.3653 595.017 58.2114 592.98 Q60.0256 590.911 60.0256 587.378 Q60.0256 582.508 56.5881 579.58 Q53.1188 576.62 47.3897 576.62 L46.0847 576.62 L46.0847 582.445 M43.6657 570.764 L64.0042 570.764 L64.0042 576.62 L58.5933 576.62 Q61.8398 578.625 63.3994 581.617 Q64.9272 584.609 64.9272 588.938 Q64.9272 594.412 61.8716 597.659 Q58.7843 600.873 53.6281 600.873 Q47.6125 600.873 44.5569 596.863 Q41.5014 592.821 41.5014 584.832 L41.5014 576.62 L40.9285 576.62 Q36.8862 576.62 34.6901 579.294 Q32.4621 581.935 32.4621 586.741 Q32.4621 589.797 33.1941 592.693 Q33.9262 595.59 35.3903 598.263 L29.9795 598.263 Q28.7381 595.049 28.1334 592.025 Q27.4968 589.001 27.4968 586.137 Q27.4968 578.402 31.5072 574.583 Q35.5176 570.764 43.6657 570.764 Z\" fill=\"#000000\" fill-rule=\"evenodd\" fill-opacity=\"1\" /><path clip-path=\"url(#clip000)\" d=\"M 0 0 M14.479 558.701 L14.479 552.844 L64.0042 552.844 L64.0042 558.701 L14.479 558.701 Z\" fill=\"#000000\" fill-rule=\"evenodd\" fill-opacity=\"1\" /><path clip-path=\"url(#clip000)\" d=\"M 0 0 M16.4842 544.569 L16.4842 538.076 L56.6518 528.081 L16.4842 518.119 L16.4842 510.894 L56.6518 500.9 L16.4842 490.938 L16.4842 484.413 L64.0042 496.348 L64.0042 504.433 L22.7544 514.459 L64.0042 524.58 L64.0042 532.665 L16.4842 544.569 Z\" fill=\"#000000\" fill-rule=\"evenodd\" fill-opacity=\"1\" /><path clip-path=\"url(#clip000)\" d=\"M 0 0 M28.3562 477.57 L28.3562 471.713 L64.0042 471.713 L64.0042 477.57 L28.3562 477.57 M14.479 477.57 L14.479 471.713 L21.895 471.713 L21.895 477.57 L14.479 477.57 Z\" fill=\"#000000\" fill-rule=\"evenodd\" fill-opacity=\"1\" /><path clip-path=\"url(#clip000)\" d=\"M 0 0 M33.7671 436.002 L14.479 436.002 L14.479 430.145 L64.0042 430.145 L64.0042 436.002 L58.657 436.002 Q61.8398 437.848 63.3994 440.68 Q64.9272 443.481 64.9272 447.428 Q64.9272 453.889 59.771 457.963 Q54.6147 462.005 46.212 462.005 Q37.8093 462.005 32.6531 457.963 Q27.4968 453.889 27.4968 447.428 Q27.4968 443.481 29.0564 440.68 Q30.5842 437.848 33.7671 436.002 M46.212 455.958 Q52.6732 455.958 56.3653 453.316 Q60.0256 450.643 60.0256 445.996 Q60.0256 441.349 56.3653 438.675 Q52.6732 436.002 46.212 436.002 Q39.7508 436.002 36.0905 438.675 Q32.3984 441.349 32.3984 445.996 Q32.3984 450.643 36.0905 453.316 Q39.7508 455.958 46.212 455.958 Z\" fill=\"#000000\" fill-rule=\"evenodd\" fill-opacity=\"1\" /><path clip-path=\"url(#clip000)\" d=\"M 0 0 M18.2347 412.289 L28.3562 412.289 L28.3562 400.226 L32.9077 400.226 L32.9077 412.289 L52.2594 412.289 Q56.6199 412.289 57.8613 411.112 Q59.1026 409.902 59.1026 406.242 L59.1026 400.226 L64.0042 400.226 L64.0042 406.242 Q64.0042 413.021 61.4897 415.599 Q58.9434 418.178 52.2594 418.178 L32.9077 418.178 L32.9077 422.474 L28.3562 422.474 L28.3562 418.178 L18.2347 418.178 L18.2347 412.289 Z\" fill=\"#000000\" fill-rule=\"evenodd\" fill-opacity=\"1\" /><path clip-path=\"url(#clip000)\" d=\"M 0 0 M42.4881 362.891 L64.0042 362.891 L64.0042 368.748 L42.679 368.748 Q37.6183 368.748 35.1038 370.721 Q32.5894 372.695 32.5894 376.641 Q32.5894 381.384 35.6131 384.121 Q38.6368 386.858 43.8567 386.858 L64.0042 386.858 L64.0042 392.747 L14.479 392.747 L14.479 386.858 L33.8944 386.858 Q30.6797 384.758 29.0883 381.925 Q27.4968 379.06 27.4968 375.336 Q27.4968 369.193 31.3163 366.042 Q35.1038 362.891 42.4881 362.891 Z\" fill=\"#000000\" fill-rule=\"evenodd\" fill-opacity=\"1\" /><circle clip-path=\"url(#clip006)\" cx=\"337.575\" cy=\"522.046\" r=\"14\" fill=\"#feeca3\" fill-rule=\"evenodd\" fill-opacity=\"0.4\" stroke=\"#000000\" stroke-opacity=\"0.4\" stroke-width=\"0\"/>\n",
       "<circle clip-path=\"url(#clip006)\" cx=\"320.149\" cy=\"564.195\" r=\"14\" fill=\"#feeca3\" fill-rule=\"evenodd\" fill-opacity=\"0.4\" stroke=\"#000000\" stroke-opacity=\"0.4\" stroke-width=\"0\"/>\n",
       "<circle clip-path=\"url(#clip006)\" cx=\"302.722\" cy=\"547.335\" r=\"14\" fill=\"#feeca3\" fill-rule=\"evenodd\" fill-opacity=\"0.4\" stroke=\"#000000\" stroke-opacity=\"0.4\" stroke-width=\"0\"/>\n",
       "<circle clip-path=\"url(#clip006)\" cx=\"294.009\" cy=\"555.765\" r=\"14\" fill=\"#feeca3\" fill-rule=\"evenodd\" fill-opacity=\"0.4\" stroke=\"#000000\" stroke-opacity=\"0.4\" stroke-width=\"0\"/>\n",
       "<circle clip-path=\"url(#clip006)\" cx=\"328.862\" cy=\"513.617\" r=\"14\" fill=\"#feeca3\" fill-rule=\"evenodd\" fill-opacity=\"0.4\" stroke=\"#000000\" stroke-opacity=\"0.4\" stroke-width=\"0\"/>\n",
       "<circle clip-path=\"url(#clip006)\" cx=\"363.715\" cy=\"488.327\" r=\"14\" fill=\"#feeca3\" fill-rule=\"evenodd\" fill-opacity=\"0.4\" stroke=\"#000000\" stroke-opacity=\"0.4\" stroke-width=\"0\"/>\n",
       "<circle clip-path=\"url(#clip006)\" cx=\"294.009\" cy=\"530.476\" r=\"14\" fill=\"#feeca3\" fill-rule=\"evenodd\" fill-opacity=\"0.4\" stroke=\"#000000\" stroke-opacity=\"0.4\" stroke-width=\"0\"/>\n",
       "<circle clip-path=\"url(#clip006)\" cx=\"328.862\" cy=\"530.476\" r=\"14\" fill=\"#feeca3\" fill-rule=\"evenodd\" fill-opacity=\"0.4\" stroke=\"#000000\" stroke-opacity=\"0.4\" stroke-width=\"0\"/>\n",
       "<circle clip-path=\"url(#clip006)\" cx=\"276.582\" cy=\"572.624\" r=\"14\" fill=\"#feeca3\" fill-rule=\"evenodd\" fill-opacity=\"0.4\" stroke=\"#000000\" stroke-opacity=\"0.4\" stroke-width=\"0\"/>\n",
       "<circle clip-path=\"url(#clip006)\" cx=\"320.149\" cy=\"555.765\" r=\"14\" fill=\"#feeca3\" fill-rule=\"evenodd\" fill-opacity=\"0.4\" stroke=\"#000000\" stroke-opacity=\"0.4\" stroke-width=\"0\"/>\n",
       "<circle clip-path=\"url(#clip006)\" cx=\"363.715\" cy=\"505.187\" r=\"14\" fill=\"#feeca3\" fill-rule=\"evenodd\" fill-opacity=\"0.4\" stroke=\"#000000\" stroke-opacity=\"0.4\" stroke-width=\"0\"/>\n",
       "<circle clip-path=\"url(#clip006)\" cx=\"311.435\" cy=\"530.476\" r=\"14\" fill=\"#feeca3\" fill-rule=\"evenodd\" fill-opacity=\"0.4\" stroke=\"#000000\" stroke-opacity=\"0.4\" stroke-width=\"0\"/>\n",
       "<circle clip-path=\"url(#clip006)\" cx=\"311.435\" cy=\"564.195\" r=\"14\" fill=\"#feeca3\" fill-rule=\"evenodd\" fill-opacity=\"0.4\" stroke=\"#000000\" stroke-opacity=\"0.4\" stroke-width=\"0\"/>\n",
       "<circle clip-path=\"url(#clip006)\" cx=\"267.869\" cy=\"564.195\" r=\"14\" fill=\"#feeca3\" fill-rule=\"evenodd\" fill-opacity=\"0.4\" stroke=\"#000000\" stroke-opacity=\"0.4\" stroke-width=\"0\"/>\n",
       "<circle clip-path=\"url(#clip006)\" cx=\"398.568\" cy=\"479.898\" r=\"14\" fill=\"#feeca3\" fill-rule=\"evenodd\" fill-opacity=\"0.4\" stroke=\"#000000\" stroke-opacity=\"0.4\" stroke-width=\"0\"/>\n",
       "<circle clip-path=\"url(#clip006)\" cx=\"389.855\" cy=\"446.179\" r=\"14\" fill=\"#feeca3\" fill-rule=\"evenodd\" fill-opacity=\"0.4\" stroke=\"#000000\" stroke-opacity=\"0.4\" stroke-width=\"0\"/>\n",
       "<circle clip-path=\"url(#clip006)\" cx=\"363.715\" cy=\"488.327\" r=\"14\" fill=\"#feeca3\" fill-rule=\"evenodd\" fill-opacity=\"0.4\" stroke=\"#000000\" stroke-opacity=\"0.4\" stroke-width=\"0\"/>\n",
       "<circle clip-path=\"url(#clip006)\" cx=\"337.575\" cy=\"522.046\" r=\"14\" fill=\"#feeca3\" fill-rule=\"evenodd\" fill-opacity=\"0.4\" stroke=\"#000000\" stroke-opacity=\"0.4\" stroke-width=\"0\"/>\n",
       "<circle clip-path=\"url(#clip006)\" cx=\"389.855\" cy=\"496.757\" r=\"14\" fill=\"#feeca3\" fill-rule=\"evenodd\" fill-opacity=\"0.4\" stroke=\"#000000\" stroke-opacity=\"0.4\" stroke-width=\"0\"/>\n",
       "<circle clip-path=\"url(#clip006)\" cx=\"337.575\" cy=\"496.757\" r=\"14\" fill=\"#feeca3\" fill-rule=\"evenodd\" fill-opacity=\"0.4\" stroke=\"#000000\" stroke-opacity=\"0.4\" stroke-width=\"0\"/>\n",
       "<circle clip-path=\"url(#clip006)\" cx=\"363.715\" cy=\"530.476\" r=\"14\" fill=\"#feeca3\" fill-rule=\"evenodd\" fill-opacity=\"0.4\" stroke=\"#000000\" stroke-opacity=\"0.4\" stroke-width=\"0\"/>\n",
       "<circle clip-path=\"url(#clip006)\" cx=\"337.575\" cy=\"505.187\" r=\"14\" fill=\"#feeca3\" fill-rule=\"evenodd\" fill-opacity=\"0.4\" stroke=\"#000000\" stroke-opacity=\"0.4\" stroke-width=\"0\"/>\n",
       "<circle clip-path=\"url(#clip006)\" cx=\"294.009\" cy=\"513.617\" r=\"14\" fill=\"#feeca3\" fill-rule=\"evenodd\" fill-opacity=\"0.4\" stroke=\"#000000\" stroke-opacity=\"0.4\" stroke-width=\"0\"/>\n",
       "<circle clip-path=\"url(#clip006)\" cx=\"337.575\" cy=\"538.906\" r=\"14\" fill=\"#feeca3\" fill-rule=\"evenodd\" fill-opacity=\"0.4\" stroke=\"#000000\" stroke-opacity=\"0.4\" stroke-width=\"0\"/>\n",
       "<circle clip-path=\"url(#clip006)\" cx=\"311.435\" cy=\"530.476\" r=\"14\" fill=\"#feeca3\" fill-rule=\"evenodd\" fill-opacity=\"0.4\" stroke=\"#000000\" stroke-opacity=\"0.4\" stroke-width=\"0\"/>\n",
       "<circle clip-path=\"url(#clip006)\" cx=\"328.862\" cy=\"564.195\" r=\"14\" fill=\"#feeca3\" fill-rule=\"evenodd\" fill-opacity=\"0.4\" stroke=\"#000000\" stroke-opacity=\"0.4\" stroke-width=\"0\"/>\n",
       "<circle clip-path=\"url(#clip006)\" cx=\"328.862\" cy=\"530.476\" r=\"14\" fill=\"#feeca3\" fill-rule=\"evenodd\" fill-opacity=\"0.4\" stroke=\"#000000\" stroke-opacity=\"0.4\" stroke-width=\"0\"/>\n",
       "<circle clip-path=\"url(#clip006)\" cx=\"346.288\" cy=\"522.046\" r=\"14\" fill=\"#feeca3\" fill-rule=\"evenodd\" fill-opacity=\"0.4\" stroke=\"#000000\" stroke-opacity=\"0.4\" stroke-width=\"0\"/>\n",
       "<circle clip-path=\"url(#clip006)\" cx=\"346.288\" cy=\"530.476\" r=\"14\" fill=\"#feeca3\" fill-rule=\"evenodd\" fill-opacity=\"0.4\" stroke=\"#000000\" stroke-opacity=\"0.4\" stroke-width=\"0\"/>\n",
       "<circle clip-path=\"url(#clip006)\" cx=\"302.722\" cy=\"547.335\" r=\"14\" fill=\"#feeca3\" fill-rule=\"evenodd\" fill-opacity=\"0.4\" stroke=\"#000000\" stroke-opacity=\"0.4\" stroke-width=\"0\"/>\n",
       "<circle clip-path=\"url(#clip006)\" cx=\"311.435\" cy=\"555.765\" r=\"14\" fill=\"#feeca3\" fill-rule=\"evenodd\" fill-opacity=\"0.4\" stroke=\"#000000\" stroke-opacity=\"0.4\" stroke-width=\"0\"/>\n",
       "<circle clip-path=\"url(#clip006)\" cx=\"363.715\" cy=\"530.476\" r=\"14\" fill=\"#feeca3\" fill-rule=\"evenodd\" fill-opacity=\"0.4\" stroke=\"#000000\" stroke-opacity=\"0.4\" stroke-width=\"0\"/>\n",
       "<circle clip-path=\"url(#clip006)\" cx=\"346.288\" cy=\"471.468\" r=\"14\" fill=\"#feeca3\" fill-rule=\"evenodd\" fill-opacity=\"0.4\" stroke=\"#000000\" stroke-opacity=\"0.4\" stroke-width=\"0\"/>\n",
       "<circle clip-path=\"url(#clip006)\" cx=\"372.428\" cy=\"463.038\" r=\"14\" fill=\"#feeca3\" fill-rule=\"evenodd\" fill-opacity=\"0.4\" stroke=\"#000000\" stroke-opacity=\"0.4\" stroke-width=\"0\"/>\n",
       "<circle clip-path=\"url(#clip006)\" cx=\"320.149\" cy=\"555.765\" r=\"14\" fill=\"#feeca3\" fill-rule=\"evenodd\" fill-opacity=\"0.4\" stroke=\"#000000\" stroke-opacity=\"0.4\" stroke-width=\"0\"/>\n",
       "<circle clip-path=\"url(#clip006)\" cx=\"328.862\" cy=\"547.335\" r=\"14\" fill=\"#feeca3\" fill-rule=\"evenodd\" fill-opacity=\"0.4\" stroke=\"#000000\" stroke-opacity=\"0.4\" stroke-width=\"0\"/>\n",
       "<circle clip-path=\"url(#clip006)\" cx=\"372.428\" cy=\"522.046\" r=\"14\" fill=\"#feeca3\" fill-rule=\"evenodd\" fill-opacity=\"0.4\" stroke=\"#000000\" stroke-opacity=\"0.4\" stroke-width=\"0\"/>\n",
       "<circle clip-path=\"url(#clip006)\" cx=\"320.149\" cy=\"513.617\" r=\"14\" fill=\"#feeca3\" fill-rule=\"evenodd\" fill-opacity=\"0.4\" stroke=\"#000000\" stroke-opacity=\"0.4\" stroke-width=\"0\"/>\n",
       "<circle clip-path=\"url(#clip006)\" cx=\"276.582\" cy=\"564.195\" r=\"14\" fill=\"#feeca3\" fill-rule=\"evenodd\" fill-opacity=\"0.4\" stroke=\"#000000\" stroke-opacity=\"0.4\" stroke-width=\"0\"/>\n",
       "<circle clip-path=\"url(#clip006)\" cx=\"337.575\" cy=\"530.476\" r=\"14\" fill=\"#feeca3\" fill-rule=\"evenodd\" fill-opacity=\"0.4\" stroke=\"#000000\" stroke-opacity=\"0.4\" stroke-width=\"0\"/>\n",
       "<circle clip-path=\"url(#clip006)\" cx=\"328.862\" cy=\"522.046\" r=\"14\" fill=\"#feeca3\" fill-rule=\"evenodd\" fill-opacity=\"0.4\" stroke=\"#000000\" stroke-opacity=\"0.4\" stroke-width=\"0\"/>\n",
       "<circle clip-path=\"url(#clip006)\" cx=\"285.296\" cy=\"623.203\" r=\"14\" fill=\"#feeca3\" fill-rule=\"evenodd\" fill-opacity=\"0.4\" stroke=\"#000000\" stroke-opacity=\"0.4\" stroke-width=\"0\"/>\n",
       "<circle clip-path=\"url(#clip006)\" cx=\"276.582\" cy=\"547.335\" r=\"14\" fill=\"#feeca3\" fill-rule=\"evenodd\" fill-opacity=\"0.4\" stroke=\"#000000\" stroke-opacity=\"0.4\" stroke-width=\"0\"/>\n",
       "<circle clip-path=\"url(#clip006)\" cx=\"328.862\" cy=\"522.046\" r=\"14\" fill=\"#feeca3\" fill-rule=\"evenodd\" fill-opacity=\"0.4\" stroke=\"#000000\" stroke-opacity=\"0.4\" stroke-width=\"0\"/>\n",
       "<circle clip-path=\"url(#clip006)\" cx=\"337.575\" cy=\"496.757\" r=\"14\" fill=\"#feeca3\" fill-rule=\"evenodd\" fill-opacity=\"0.4\" stroke=\"#000000\" stroke-opacity=\"0.4\" stroke-width=\"0\"/>\n",
       "<circle clip-path=\"url(#clip006)\" cx=\"311.435\" cy=\"564.195\" r=\"14\" fill=\"#feeca3\" fill-rule=\"evenodd\" fill-opacity=\"0.4\" stroke=\"#000000\" stroke-opacity=\"0.4\" stroke-width=\"0\"/>\n",
       "<circle clip-path=\"url(#clip006)\" cx=\"337.575\" cy=\"496.757\" r=\"14\" fill=\"#feeca3\" fill-rule=\"evenodd\" fill-opacity=\"0.4\" stroke=\"#000000\" stroke-opacity=\"0.4\" stroke-width=\"0\"/>\n",
       "<circle clip-path=\"url(#clip006)\" cx=\"294.009\" cy=\"547.335\" r=\"14\" fill=\"#feeca3\" fill-rule=\"evenodd\" fill-opacity=\"0.4\" stroke=\"#000000\" stroke-opacity=\"0.4\" stroke-width=\"0\"/>\n",
       "<circle clip-path=\"url(#clip006)\" cx=\"355.002\" cy=\"505.187\" r=\"14\" fill=\"#feeca3\" fill-rule=\"evenodd\" fill-opacity=\"0.4\" stroke=\"#000000\" stroke-opacity=\"0.4\" stroke-width=\"0\"/>\n",
       "<circle clip-path=\"url(#clip006)\" cx=\"328.862\" cy=\"538.906\" r=\"14\" fill=\"#feeca3\" fill-rule=\"evenodd\" fill-opacity=\"0.4\" stroke=\"#000000\" stroke-opacity=\"0.4\" stroke-width=\"0\"/>\n",
       "<circle clip-path=\"url(#clip006)\" cx=\"503.127\" cy=\"547.335\" r=\"14\" fill=\"#feeca3\" fill-rule=\"evenodd\" fill-opacity=\"0.4\" stroke=\"#000000\" stroke-opacity=\"0.4\" stroke-width=\"0\"/>\n",
       "<circle clip-path=\"url(#clip006)\" cx=\"450.847\" cy=\"547.335\" r=\"14\" fill=\"#feeca3\" fill-rule=\"evenodd\" fill-opacity=\"0.4\" stroke=\"#000000\" stroke-opacity=\"0.4\" stroke-width=\"0\"/>\n",
       "<circle clip-path=\"url(#clip006)\" cx=\"494.414\" cy=\"555.765\" r=\"14\" fill=\"#feeca3\" fill-rule=\"evenodd\" fill-opacity=\"0.4\" stroke=\"#000000\" stroke-opacity=\"0.4\" stroke-width=\"0\"/>\n",
       "<circle clip-path=\"url(#clip006)\" cx=\"372.428\" cy=\"623.203\" r=\"14\" fill=\"#feeca3\" fill-rule=\"evenodd\" fill-opacity=\"0.4\" stroke=\"#000000\" stroke-opacity=\"0.4\" stroke-width=\"0\"/>\n",
       "<circle clip-path=\"url(#clip006)\" cx=\"459.561\" cy=\"581.054\" r=\"14\" fill=\"#feeca3\" fill-rule=\"evenodd\" fill-opacity=\"0.4\" stroke=\"#000000\" stroke-opacity=\"0.4\" stroke-width=\"0\"/>\n",
       "<circle clip-path=\"url(#clip006)\" cx=\"389.855\" cy=\"581.054\" r=\"14\" fill=\"#feeca3\" fill-rule=\"evenodd\" fill-opacity=\"0.4\" stroke=\"#000000\" stroke-opacity=\"0.4\" stroke-width=\"0\"/>\n",
       "<circle clip-path=\"url(#clip006)\" cx=\"442.134\" cy=\"538.906\" r=\"14\" fill=\"#feeca3\" fill-rule=\"evenodd\" fill-opacity=\"0.4\" stroke=\"#000000\" stroke-opacity=\"0.4\" stroke-width=\"0\"/>\n",
       "<circle clip-path=\"url(#clip006)\" cx=\"320.149\" cy=\"614.773\" r=\"14\" fill=\"#feeca3\" fill-rule=\"evenodd\" fill-opacity=\"0.4\" stroke=\"#000000\" stroke-opacity=\"0.4\" stroke-width=\"0\"/>\n",
       "<circle clip-path=\"url(#clip006)\" cx=\"468.274\" cy=\"572.624\" r=\"14\" fill=\"#feeca3\" fill-rule=\"evenodd\" fill-opacity=\"0.4\" stroke=\"#000000\" stroke-opacity=\"0.4\" stroke-width=\"0\"/>\n",
       "<circle clip-path=\"url(#clip006)\" cx=\"346.288\" cy=\"589.484\" r=\"14\" fill=\"#feeca3\" fill-rule=\"evenodd\" fill-opacity=\"0.4\" stroke=\"#000000\" stroke-opacity=\"0.4\" stroke-width=\"0\"/>\n",
       "<circle clip-path=\"url(#clip006)\" cx=\"328.862\" cy=\"648.492\" r=\"14\" fill=\"#feeca3\" fill-rule=\"evenodd\" fill-opacity=\"0.4\" stroke=\"#000000\" stroke-opacity=\"0.4\" stroke-width=\"0\"/>\n",
       "<circle clip-path=\"url(#clip006)\" cx=\"407.281\" cy=\"564.195\" r=\"14\" fill=\"#feeca3\" fill-rule=\"evenodd\" fill-opacity=\"0.4\" stroke=\"#000000\" stroke-opacity=\"0.4\" stroke-width=\"0\"/>\n",
       "<circle clip-path=\"url(#clip006)\" cx=\"415.994\" cy=\"631.632\" r=\"14\" fill=\"#feeca3\" fill-rule=\"evenodd\" fill-opacity=\"0.4\" stroke=\"#000000\" stroke-opacity=\"0.4\" stroke-width=\"0\"/>\n",
       "<circle clip-path=\"url(#clip006)\" cx=\"424.708\" cy=\"572.624\" r=\"14\" fill=\"#feeca3\" fill-rule=\"evenodd\" fill-opacity=\"0.4\" stroke=\"#000000\" stroke-opacity=\"0.4\" stroke-width=\"0\"/>\n",
       "<circle clip-path=\"url(#clip006)\" cx=\"381.141\" cy=\"572.624\" r=\"14\" fill=\"#feeca3\" fill-rule=\"evenodd\" fill-opacity=\"0.4\" stroke=\"#000000\" stroke-opacity=\"0.4\" stroke-width=\"0\"/>\n",
       "<circle clip-path=\"url(#clip006)\" cx=\"476.987\" cy=\"555.765\" r=\"14\" fill=\"#feeca3\" fill-rule=\"evenodd\" fill-opacity=\"0.4\" stroke=\"#000000\" stroke-opacity=\"0.4\" stroke-width=\"0\"/>\n",
       "<circle clip-path=\"url(#clip006)\" cx=\"381.141\" cy=\"564.195\" r=\"14\" fill=\"#feeca3\" fill-rule=\"evenodd\" fill-opacity=\"0.4\" stroke=\"#000000\" stroke-opacity=\"0.4\" stroke-width=\"0\"/>\n",
       "<circle clip-path=\"url(#clip006)\" cx=\"398.568\" cy=\"589.484\" r=\"14\" fill=\"#feeca3\" fill-rule=\"evenodd\" fill-opacity=\"0.4\" stroke=\"#000000\" stroke-opacity=\"0.4\" stroke-width=\"0\"/>\n",
       "<circle clip-path=\"url(#clip006)\" cx=\"433.421\" cy=\"631.632\" r=\"14\" fill=\"#feeca3\" fill-rule=\"evenodd\" fill-opacity=\"0.4\" stroke=\"#000000\" stroke-opacity=\"0.4\" stroke-width=\"0\"/>\n",
       "<circle clip-path=\"url(#clip006)\" cx=\"381.141\" cy=\"606.343\" r=\"14\" fill=\"#feeca3\" fill-rule=\"evenodd\" fill-opacity=\"0.4\" stroke=\"#000000\" stroke-opacity=\"0.4\" stroke-width=\"0\"/>\n",
       "<circle clip-path=\"url(#clip006)\" cx=\"407.281\" cy=\"547.335\" r=\"14\" fill=\"#feeca3\" fill-rule=\"evenodd\" fill-opacity=\"0.4\" stroke=\"#000000\" stroke-opacity=\"0.4\" stroke-width=\"0\"/>\n",
       "<circle clip-path=\"url(#clip006)\" cx=\"424.708\" cy=\"581.054\" r=\"14\" fill=\"#feeca3\" fill-rule=\"evenodd\" fill-opacity=\"0.4\" stroke=\"#000000\" stroke-opacity=\"0.4\" stroke-width=\"0\"/>\n",
       "<circle clip-path=\"url(#clip006)\" cx=\"442.134\" cy=\"606.343\" r=\"14\" fill=\"#feeca3\" fill-rule=\"evenodd\" fill-opacity=\"0.4\" stroke=\"#000000\" stroke-opacity=\"0.4\" stroke-width=\"0\"/>\n",
       "<circle clip-path=\"url(#clip006)\" cx=\"424.708\" cy=\"581.054\" r=\"14\" fill=\"#feeca3\" fill-rule=\"evenodd\" fill-opacity=\"0.4\" stroke=\"#000000\" stroke-opacity=\"0.4\" stroke-width=\"0\"/>\n",
       "<circle clip-path=\"url(#clip006)\" cx=\"450.847\" cy=\"572.624\" r=\"14\" fill=\"#feeca3\" fill-rule=\"evenodd\" fill-opacity=\"0.4\" stroke=\"#000000\" stroke-opacity=\"0.4\" stroke-width=\"0\"/>\n",
       "<circle clip-path=\"url(#clip006)\" cx=\"468.274\" cy=\"564.195\" r=\"14\" fill=\"#feeca3\" fill-rule=\"evenodd\" fill-opacity=\"0.4\" stroke=\"#000000\" stroke-opacity=\"0.4\" stroke-width=\"0\"/>\n",
       "<circle clip-path=\"url(#clip006)\" cx=\"485.7\" cy=\"581.054\" r=\"14\" fill=\"#feeca3\" fill-rule=\"evenodd\" fill-opacity=\"0.4\" stroke=\"#000000\" stroke-opacity=\"0.4\" stroke-width=\"0\"/>\n",
       "<circle clip-path=\"url(#clip006)\" cx=\"476.987\" cy=\"564.195\" r=\"14\" fill=\"#feeca3\" fill-rule=\"evenodd\" fill-opacity=\"0.4\" stroke=\"#000000\" stroke-opacity=\"0.4\" stroke-width=\"0\"/>\n",
       "<circle clip-path=\"url(#clip006)\" cx=\"415.994\" cy=\"572.624\" r=\"14\" fill=\"#feeca3\" fill-rule=\"evenodd\" fill-opacity=\"0.4\" stroke=\"#000000\" stroke-opacity=\"0.4\" stroke-width=\"0\"/>\n",
       "<circle clip-path=\"url(#clip006)\" cx=\"389.855\" cy=\"597.913\" r=\"14\" fill=\"#feeca3\" fill-rule=\"evenodd\" fill-opacity=\"0.4\" stroke=\"#000000\" stroke-opacity=\"0.4\" stroke-width=\"0\"/>\n",
       "<circle clip-path=\"url(#clip006)\" cx=\"372.428\" cy=\"614.773\" r=\"14\" fill=\"#feeca3\" fill-rule=\"evenodd\" fill-opacity=\"0.4\" stroke=\"#000000\" stroke-opacity=\"0.4\" stroke-width=\"0\"/>\n",
       "<circle clip-path=\"url(#clip006)\" cx=\"372.428\" cy=\"614.773\" r=\"14\" fill=\"#feeca3\" fill-rule=\"evenodd\" fill-opacity=\"0.4\" stroke=\"#000000\" stroke-opacity=\"0.4\" stroke-width=\"0\"/>\n",
       "<circle clip-path=\"url(#clip006)\" cx=\"398.568\" cy=\"589.484\" r=\"14\" fill=\"#feeca3\" fill-rule=\"evenodd\" fill-opacity=\"0.4\" stroke=\"#000000\" stroke-opacity=\"0.4\" stroke-width=\"0\"/>\n",
       "<circle clip-path=\"url(#clip006)\" cx=\"415.994\" cy=\"589.484\" r=\"14\" fill=\"#feeca3\" fill-rule=\"evenodd\" fill-opacity=\"0.4\" stroke=\"#000000\" stroke-opacity=\"0.4\" stroke-width=\"0\"/>\n",
       "<circle clip-path=\"url(#clip006)\" cx=\"363.715\" cy=\"564.195\" r=\"14\" fill=\"#feeca3\" fill-rule=\"evenodd\" fill-opacity=\"0.4\" stroke=\"#000000\" stroke-opacity=\"0.4\" stroke-width=\"0\"/>\n",
       "<circle clip-path=\"url(#clip006)\" cx=\"415.994\" cy=\"530.476\" r=\"14\" fill=\"#feeca3\" fill-rule=\"evenodd\" fill-opacity=\"0.4\" stroke=\"#000000\" stroke-opacity=\"0.4\" stroke-width=\"0\"/>\n",
       "<circle clip-path=\"url(#clip006)\" cx=\"476.987\" cy=\"555.765\" r=\"14\" fill=\"#feeca3\" fill-rule=\"evenodd\" fill-opacity=\"0.4\" stroke=\"#000000\" stroke-opacity=\"0.4\" stroke-width=\"0\"/>\n",
       "<circle clip-path=\"url(#clip006)\" cx=\"442.134\" cy=\"623.203\" r=\"14\" fill=\"#feeca3\" fill-rule=\"evenodd\" fill-opacity=\"0.4\" stroke=\"#000000\" stroke-opacity=\"0.4\" stroke-width=\"0\"/>\n",
       "<circle clip-path=\"url(#clip006)\" cx=\"381.141\" cy=\"564.195\" r=\"14\" fill=\"#feeca3\" fill-rule=\"evenodd\" fill-opacity=\"0.4\" stroke=\"#000000\" stroke-opacity=\"0.4\" stroke-width=\"0\"/>\n",
       "<circle clip-path=\"url(#clip006)\" cx=\"372.428\" cy=\"606.343\" r=\"14\" fill=\"#feeca3\" fill-rule=\"evenodd\" fill-opacity=\"0.4\" stroke=\"#000000\" stroke-opacity=\"0.4\" stroke-width=\"0\"/>\n",
       "<circle clip-path=\"url(#clip006)\" cx=\"372.428\" cy=\"597.913\" r=\"14\" fill=\"#feeca3\" fill-rule=\"evenodd\" fill-opacity=\"0.4\" stroke=\"#000000\" stroke-opacity=\"0.4\" stroke-width=\"0\"/>\n",
       "<circle clip-path=\"url(#clip006)\" cx=\"424.708\" cy=\"564.195\" r=\"14\" fill=\"#feeca3\" fill-rule=\"evenodd\" fill-opacity=\"0.4\" stroke=\"#000000\" stroke-opacity=\"0.4\" stroke-width=\"0\"/>\n",
       "<circle clip-path=\"url(#clip006)\" cx=\"398.568\" cy=\"597.913\" r=\"14\" fill=\"#feeca3\" fill-rule=\"evenodd\" fill-opacity=\"0.4\" stroke=\"#000000\" stroke-opacity=\"0.4\" stroke-width=\"0\"/>\n",
       "<circle clip-path=\"url(#clip006)\" cx=\"328.862\" cy=\"623.203\" r=\"14\" fill=\"#feeca3\" fill-rule=\"evenodd\" fill-opacity=\"0.4\" stroke=\"#000000\" stroke-opacity=\"0.4\" stroke-width=\"0\"/>\n",
       "<circle clip-path=\"url(#clip006)\" cx=\"381.141\" cy=\"589.484\" r=\"14\" fill=\"#feeca3\" fill-rule=\"evenodd\" fill-opacity=\"0.4\" stroke=\"#000000\" stroke-opacity=\"0.4\" stroke-width=\"0\"/>\n",
       "<circle clip-path=\"url(#clip006)\" cx=\"389.855\" cy=\"564.195\" r=\"14\" fill=\"#feeca3\" fill-rule=\"evenodd\" fill-opacity=\"0.4\" stroke=\"#000000\" stroke-opacity=\"0.4\" stroke-width=\"0\"/>\n",
       "<circle clip-path=\"url(#clip006)\" cx=\"389.855\" cy=\"572.624\" r=\"14\" fill=\"#feeca3\" fill-rule=\"evenodd\" fill-opacity=\"0.4\" stroke=\"#000000\" stroke-opacity=\"0.4\" stroke-width=\"0\"/>\n",
       "<circle clip-path=\"url(#clip006)\" cx=\"433.421\" cy=\"572.624\" r=\"14\" fill=\"#feeca3\" fill-rule=\"evenodd\" fill-opacity=\"0.4\" stroke=\"#000000\" stroke-opacity=\"0.4\" stroke-width=\"0\"/>\n",
       "<circle clip-path=\"url(#clip006)\" cx=\"337.575\" cy=\"606.343\" r=\"14\" fill=\"#feeca3\" fill-rule=\"evenodd\" fill-opacity=\"0.4\" stroke=\"#000000\" stroke-opacity=\"0.4\" stroke-width=\"0\"/>\n",
       "<circle clip-path=\"url(#clip006)\" cx=\"389.855\" cy=\"581.054\" r=\"14\" fill=\"#feeca3\" fill-rule=\"evenodd\" fill-opacity=\"0.4\" stroke=\"#000000\" stroke-opacity=\"0.4\" stroke-width=\"0\"/>\n",
       "<circle clip-path=\"url(#clip006)\" cx=\"442.134\" cy=\"538.906\" r=\"14\" fill=\"#feeca3\" fill-rule=\"evenodd\" fill-opacity=\"0.4\" stroke=\"#000000\" stroke-opacity=\"0.4\" stroke-width=\"0\"/>\n",
       "<circle clip-path=\"url(#clip006)\" cx=\"398.568\" cy=\"589.484\" r=\"14\" fill=\"#feeca3\" fill-rule=\"evenodd\" fill-opacity=\"0.4\" stroke=\"#000000\" stroke-opacity=\"0.4\" stroke-width=\"0\"/>\n",
       "<circle clip-path=\"url(#clip006)\" cx=\"511.84\" cy=\"564.195\" r=\"14\" fill=\"#feeca3\" fill-rule=\"evenodd\" fill-opacity=\"0.4\" stroke=\"#000000\" stroke-opacity=\"0.4\" stroke-width=\"0\"/>\n",
       "<circle clip-path=\"url(#clip006)\" cx=\"442.134\" cy=\"572.624\" r=\"14\" fill=\"#feeca3\" fill-rule=\"evenodd\" fill-opacity=\"0.4\" stroke=\"#000000\" stroke-opacity=\"0.4\" stroke-width=\"0\"/>\n",
       "<circle clip-path=\"url(#clip006)\" cx=\"459.561\" cy=\"564.195\" r=\"14\" fill=\"#feeca3\" fill-rule=\"evenodd\" fill-opacity=\"0.4\" stroke=\"#000000\" stroke-opacity=\"0.4\" stroke-width=\"0\"/>\n",
       "<circle clip-path=\"url(#clip006)\" cx=\"555.406\" cy=\"564.195\" r=\"14\" fill=\"#feeca3\" fill-rule=\"evenodd\" fill-opacity=\"0.4\" stroke=\"#000000\" stroke-opacity=\"0.4\" stroke-width=\"0\"/>\n",
       "<circle clip-path=\"url(#clip006)\" cx=\"320.149\" cy=\"606.343\" r=\"14\" fill=\"#feeca3\" fill-rule=\"evenodd\" fill-opacity=\"0.4\" stroke=\"#000000\" stroke-opacity=\"0.4\" stroke-width=\"0\"/>\n",
       "<circle clip-path=\"url(#clip006)\" cx=\"529.266\" cy=\"572.624\" r=\"14\" fill=\"#feeca3\" fill-rule=\"evenodd\" fill-opacity=\"0.4\" stroke=\"#000000\" stroke-opacity=\"0.4\" stroke-width=\"0\"/>\n",
       "<circle clip-path=\"url(#clip006)\" cx=\"476.987\" cy=\"606.343\" r=\"14\" fill=\"#feeca3\" fill-rule=\"evenodd\" fill-opacity=\"0.4\" stroke=\"#000000\" stroke-opacity=\"0.4\" stroke-width=\"0\"/>\n",
       "<circle clip-path=\"url(#clip006)\" cx=\"520.553\" cy=\"513.617\" r=\"14\" fill=\"#feeca3\" fill-rule=\"evenodd\" fill-opacity=\"0.4\" stroke=\"#000000\" stroke-opacity=\"0.4\" stroke-width=\"0\"/>\n",
       "<circle clip-path=\"url(#clip006)\" cx=\"459.561\" cy=\"547.335\" r=\"14\" fill=\"#feeca3\" fill-rule=\"evenodd\" fill-opacity=\"0.4\" stroke=\"#000000\" stroke-opacity=\"0.4\" stroke-width=\"0\"/>\n",
       "<circle clip-path=\"url(#clip006)\" cx=\"450.847\" cy=\"589.484\" r=\"14\" fill=\"#feeca3\" fill-rule=\"evenodd\" fill-opacity=\"0.4\" stroke=\"#000000\" stroke-opacity=\"0.4\" stroke-width=\"0\"/>\n",
       "<circle clip-path=\"url(#clip006)\" cx=\"485.7\" cy=\"564.195\" r=\"14\" fill=\"#feeca3\" fill-rule=\"evenodd\" fill-opacity=\"0.4\" stroke=\"#000000\" stroke-opacity=\"0.4\" stroke-width=\"0\"/>\n",
       "<circle clip-path=\"url(#clip006)\" cx=\"389.855\" cy=\"606.343\" r=\"14\" fill=\"#feeca3\" fill-rule=\"evenodd\" fill-opacity=\"0.4\" stroke=\"#000000\" stroke-opacity=\"0.4\" stroke-width=\"0\"/>\n",
       "<circle clip-path=\"url(#clip006)\" cx=\"398.568\" cy=\"581.054\" r=\"14\" fill=\"#feeca3\" fill-rule=\"evenodd\" fill-opacity=\"0.4\" stroke=\"#000000\" stroke-opacity=\"0.4\" stroke-width=\"0\"/>\n",
       "<circle clip-path=\"url(#clip006)\" cx=\"450.847\" cy=\"547.335\" r=\"14\" fill=\"#feeca3\" fill-rule=\"evenodd\" fill-opacity=\"0.4\" stroke=\"#000000\" stroke-opacity=\"0.4\" stroke-width=\"0\"/>\n",
       "<circle clip-path=\"url(#clip006)\" cx=\"459.561\" cy=\"564.195\" r=\"14\" fill=\"#feeca3\" fill-rule=\"evenodd\" fill-opacity=\"0.4\" stroke=\"#000000\" stroke-opacity=\"0.4\" stroke-width=\"0\"/>\n",
       "<circle clip-path=\"url(#clip006)\" cx=\"564.119\" cy=\"496.757\" r=\"14\" fill=\"#feeca3\" fill-rule=\"evenodd\" fill-opacity=\"0.4\" stroke=\"#000000\" stroke-opacity=\"0.4\" stroke-width=\"0\"/>\n",
       "<circle clip-path=\"url(#clip006)\" cx=\"564.119\" cy=\"597.913\" r=\"14\" fill=\"#feeca3\" fill-rule=\"evenodd\" fill-opacity=\"0.4\" stroke=\"#000000\" stroke-opacity=\"0.4\" stroke-width=\"0\"/>\n",
       "<circle clip-path=\"url(#clip006)\" cx=\"415.994\" cy=\"631.632\" r=\"14\" fill=\"#feeca3\" fill-rule=\"evenodd\" fill-opacity=\"0.4\" stroke=\"#000000\" stroke-opacity=\"0.4\" stroke-width=\"0\"/>\n",
       "<circle clip-path=\"url(#clip006)\" cx=\"494.414\" cy=\"547.335\" r=\"14\" fill=\"#feeca3\" fill-rule=\"evenodd\" fill-opacity=\"0.4\" stroke=\"#000000\" stroke-opacity=\"0.4\" stroke-width=\"0\"/>\n",
       "<circle clip-path=\"url(#clip006)\" cx=\"381.141\" cy=\"581.054\" r=\"14\" fill=\"#feeca3\" fill-rule=\"evenodd\" fill-opacity=\"0.4\" stroke=\"#000000\" stroke-opacity=\"0.4\" stroke-width=\"0\"/>\n",
       "<circle clip-path=\"url(#clip006)\" cx=\"564.119\" cy=\"581.054\" r=\"14\" fill=\"#feeca3\" fill-rule=\"evenodd\" fill-opacity=\"0.4\" stroke=\"#000000\" stroke-opacity=\"0.4\" stroke-width=\"0\"/>\n",
       "<circle clip-path=\"url(#clip006)\" cx=\"442.134\" cy=\"589.484\" r=\"14\" fill=\"#feeca3\" fill-rule=\"evenodd\" fill-opacity=\"0.4\" stroke=\"#000000\" stroke-opacity=\"0.4\" stroke-width=\"0\"/>\n",
       "<circle clip-path=\"url(#clip006)\" cx=\"476.987\" cy=\"538.906\" r=\"14\" fill=\"#feeca3\" fill-rule=\"evenodd\" fill-opacity=\"0.4\" stroke=\"#000000\" stroke-opacity=\"0.4\" stroke-width=\"0\"/>\n",
       "<circle clip-path=\"url(#clip006)\" cx=\"520.553\" cy=\"547.335\" r=\"14\" fill=\"#feeca3\" fill-rule=\"evenodd\" fill-opacity=\"0.4\" stroke=\"#000000\" stroke-opacity=\"0.4\" stroke-width=\"0\"/>\n",
       "<circle clip-path=\"url(#clip006)\" cx=\"433.421\" cy=\"581.054\" r=\"14\" fill=\"#feeca3\" fill-rule=\"evenodd\" fill-opacity=\"0.4\" stroke=\"#000000\" stroke-opacity=\"0.4\" stroke-width=\"0\"/>\n",
       "<circle clip-path=\"url(#clip006)\" cx=\"424.708\" cy=\"564.195\" r=\"14\" fill=\"#feeca3\" fill-rule=\"evenodd\" fill-opacity=\"0.4\" stroke=\"#000000\" stroke-opacity=\"0.4\" stroke-width=\"0\"/>\n",
       "<circle clip-path=\"url(#clip006)\" cx=\"450.847\" cy=\"581.054\" r=\"14\" fill=\"#feeca3\" fill-rule=\"evenodd\" fill-opacity=\"0.4\" stroke=\"#000000\" stroke-opacity=\"0.4\" stroke-width=\"0\"/>\n",
       "<circle clip-path=\"url(#clip006)\" cx=\"520.553\" cy=\"564.195\" r=\"14\" fill=\"#feeca3\" fill-rule=\"evenodd\" fill-opacity=\"0.4\" stroke=\"#000000\" stroke-opacity=\"0.4\" stroke-width=\"0\"/>\n",
       "<circle clip-path=\"url(#clip006)\" cx=\"537.98\" cy=\"581.054\" r=\"14\" fill=\"#feeca3\" fill-rule=\"evenodd\" fill-opacity=\"0.4\" stroke=\"#000000\" stroke-opacity=\"0.4\" stroke-width=\"0\"/>\n",
       "<circle clip-path=\"url(#clip006)\" cx=\"581.546\" cy=\"496.757\" r=\"14\" fill=\"#feeca3\" fill-rule=\"evenodd\" fill-opacity=\"0.4\" stroke=\"#000000\" stroke-opacity=\"0.4\" stroke-width=\"0\"/>\n",
       "<circle clip-path=\"url(#clip006)\" cx=\"450.847\" cy=\"581.054\" r=\"14\" fill=\"#feeca3\" fill-rule=\"evenodd\" fill-opacity=\"0.4\" stroke=\"#000000\" stroke-opacity=\"0.4\" stroke-width=\"0\"/>\n",
       "<circle clip-path=\"url(#clip006)\" cx=\"442.134\" cy=\"581.054\" r=\"14\" fill=\"#feeca3\" fill-rule=\"evenodd\" fill-opacity=\"0.4\" stroke=\"#000000\" stroke-opacity=\"0.4\" stroke-width=\"0\"/>\n",
       "<circle clip-path=\"url(#clip006)\" cx=\"424.708\" cy=\"597.913\" r=\"14\" fill=\"#feeca3\" fill-rule=\"evenodd\" fill-opacity=\"0.4\" stroke=\"#000000\" stroke-opacity=\"0.4\" stroke-width=\"0\"/>\n",
       "<circle clip-path=\"url(#clip006)\" cx=\"564.119\" cy=\"564.195\" r=\"14\" fill=\"#feeca3\" fill-rule=\"evenodd\" fill-opacity=\"0.4\" stroke=\"#000000\" stroke-opacity=\"0.4\" stroke-width=\"0\"/>\n",
       "<circle clip-path=\"url(#clip006)\" cx=\"442.134\" cy=\"530.476\" r=\"14\" fill=\"#feeca3\" fill-rule=\"evenodd\" fill-opacity=\"0.4\" stroke=\"#000000\" stroke-opacity=\"0.4\" stroke-width=\"0\"/>\n",
       "<circle clip-path=\"url(#clip006)\" cx=\"450.847\" cy=\"555.765\" r=\"14\" fill=\"#feeca3\" fill-rule=\"evenodd\" fill-opacity=\"0.4\" stroke=\"#000000\" stroke-opacity=\"0.4\" stroke-width=\"0\"/>\n",
       "<circle clip-path=\"url(#clip006)\" cx=\"415.994\" cy=\"564.195\" r=\"14\" fill=\"#feeca3\" fill-rule=\"evenodd\" fill-opacity=\"0.4\" stroke=\"#000000\" stroke-opacity=\"0.4\" stroke-width=\"0\"/>\n",
       "<circle clip-path=\"url(#clip006)\" cx=\"494.414\" cy=\"555.765\" r=\"14\" fill=\"#feeca3\" fill-rule=\"evenodd\" fill-opacity=\"0.4\" stroke=\"#000000\" stroke-opacity=\"0.4\" stroke-width=\"0\"/>\n",
       "<circle clip-path=\"url(#clip006)\" cx=\"476.987\" cy=\"555.765\" r=\"14\" fill=\"#feeca3\" fill-rule=\"evenodd\" fill-opacity=\"0.4\" stroke=\"#000000\" stroke-opacity=\"0.4\" stroke-width=\"0\"/>\n",
       "<circle clip-path=\"url(#clip006)\" cx=\"494.414\" cy=\"555.765\" r=\"14\" fill=\"#feeca3\" fill-rule=\"evenodd\" fill-opacity=\"0.4\" stroke=\"#000000\" stroke-opacity=\"0.4\" stroke-width=\"0\"/>\n",
       "<circle clip-path=\"url(#clip006)\" cx=\"398.568\" cy=\"589.484\" r=\"14\" fill=\"#feeca3\" fill-rule=\"evenodd\" fill-opacity=\"0.4\" stroke=\"#000000\" stroke-opacity=\"0.4\" stroke-width=\"0\"/>\n",
       "<circle clip-path=\"url(#clip006)\" cx=\"485.7\" cy=\"547.335\" r=\"14\" fill=\"#feeca3\" fill-rule=\"evenodd\" fill-opacity=\"0.4\" stroke=\"#000000\" stroke-opacity=\"0.4\" stroke-width=\"0\"/>\n",
       "<circle clip-path=\"url(#clip006)\" cx=\"476.987\" cy=\"538.906\" r=\"14\" fill=\"#feeca3\" fill-rule=\"evenodd\" fill-opacity=\"0.4\" stroke=\"#000000\" stroke-opacity=\"0.4\" stroke-width=\"0\"/>\n",
       "<circle clip-path=\"url(#clip006)\" cx=\"476.987\" cy=\"564.195\" r=\"14\" fill=\"#feeca3\" fill-rule=\"evenodd\" fill-opacity=\"0.4\" stroke=\"#000000\" stroke-opacity=\"0.4\" stroke-width=\"0\"/>\n",
       "<circle clip-path=\"url(#clip006)\" cx=\"442.134\" cy=\"606.343\" r=\"14\" fill=\"#feeca3\" fill-rule=\"evenodd\" fill-opacity=\"0.4\" stroke=\"#000000\" stroke-opacity=\"0.4\" stroke-width=\"0\"/>\n",
       "<circle clip-path=\"url(#clip006)\" cx=\"459.561\" cy=\"564.195\" r=\"14\" fill=\"#feeca3\" fill-rule=\"evenodd\" fill-opacity=\"0.4\" stroke=\"#000000\" stroke-opacity=\"0.4\" stroke-width=\"0\"/>\n",
       "<circle clip-path=\"url(#clip006)\" cx=\"433.421\" cy=\"530.476\" r=\"14\" fill=\"#feeca3\" fill-rule=\"evenodd\" fill-opacity=\"0.4\" stroke=\"#000000\" stroke-opacity=\"0.4\" stroke-width=\"0\"/>\n",
       "<circle clip-path=\"url(#clip006)\" cx=\"407.281\" cy=\"564.195\" r=\"14\" fill=\"#feeca3\" fill-rule=\"evenodd\" fill-opacity=\"0.4\" stroke=\"#000000\" stroke-opacity=\"0.4\" stroke-width=\"0\"/>\n",
       "<polyline clip-path=\"url(#clip006)\" style=\"stroke:#000000; stroke-width:4; stroke-opacity:1; fill:none\" points=\"\n",
       "  267.869,551.311 581.546,570.091 \n",
       "  \"/>\n",
       "<path clip-path=\"url(#clip000)\" d=\"\n",
       "M799.738 654.814 L1191.35 654.814 L1191.35 431.427 L799.738 431.427  Z\n",
       "  \" fill=\"#ffffff\" fill-rule=\"evenodd\" fill-opacity=\"1\"/>\n",
       "<defs>\n",
       "  <clipPath id=\"clip007\">\n",
       "    <rect x=\"799\" y=\"431\" width=\"393\" height=\"224\"/>\n",
       "  </clipPath>\n",
       "</defs>\n",
       "<polyline clip-path=\"url(#clip000)\" style=\"stroke:#000000; stroke-width:4; stroke-opacity:1; fill:none\" points=\"\n",
       "  799.738,654.814 1191.35,654.814 \n",
       "  \"/>\n",
       "<polyline clip-path=\"url(#clip000)\" style=\"stroke:#000000; stroke-width:4; stroke-opacity:1; fill:none\" points=\"\n",
       "  821.277,654.814 821.277,652.133 \n",
       "  \"/>\n",
       "<polyline clip-path=\"url(#clip000)\" style=\"stroke:#000000; stroke-width:4; stroke-opacity:1; fill:none\" points=\"\n",
       "  888.302,654.814 888.302,652.133 \n",
       "  \"/>\n",
       "<polyline clip-path=\"url(#clip000)\" style=\"stroke:#000000; stroke-width:4; stroke-opacity:1; fill:none\" points=\"\n",
       "  955.327,654.814 955.327,652.133 \n",
       "  \"/>\n",
       "<polyline clip-path=\"url(#clip000)\" style=\"stroke:#000000; stroke-width:4; stroke-opacity:1; fill:none\" points=\"\n",
       "  1022.35,654.814 1022.35,652.133 \n",
       "  \"/>\n",
       "<polyline clip-path=\"url(#clip000)\" style=\"stroke:#000000; stroke-width:4; stroke-opacity:1; fill:none\" points=\"\n",
       "  1089.38,654.814 1089.38,652.133 \n",
       "  \"/>\n",
       "<polyline clip-path=\"url(#clip000)\" style=\"stroke:#000000; stroke-width:4; stroke-opacity:1; fill:none\" points=\"\n",
       "  1156.4,654.814 1156.4,652.133 \n",
       "  \"/>\n",
       "<path clip-path=\"url(#clip000)\" d=\"M 0 0 M792.516 711.551 L808.835 711.551 L808.835 715.486 L786.891 715.486 L786.891 711.551 Q789.553 708.796 794.136 704.166 Q798.742 699.514 799.923 698.171 Q802.168 695.648 803.048 693.912 Q803.951 692.153 803.951 690.463 Q803.951 687.708 802.006 685.972 Q800.085 684.236 796.983 684.236 Q794.784 684.236 792.33 685 Q789.9 685.764 787.122 687.315 L787.122 682.593 Q789.946 681.458 792.4 680.88 Q794.854 680.301 796.891 680.301 Q802.261 680.301 805.455 682.986 Q808.65 685.671 808.65 690.162 Q808.65 692.292 807.84 694.213 Q807.053 696.111 804.946 698.704 Q804.367 699.375 801.266 702.592 Q798.164 705.787 792.516 711.551 Z\" fill=\"#000000\" fill-rule=\"evenodd\" fill-opacity=\"1\" /><path clip-path=\"url(#clip000)\" d=\"M 0 0 M818.65 709.606 L823.534 709.606 L823.534 715.486 L818.65 715.486 L818.65 709.606 Z\" fill=\"#000000\" fill-rule=\"evenodd\" fill-opacity=\"1\" /><path clip-path=\"url(#clip000)\" d=\"M 0 0 M843.719 684.005 Q840.108 684.005 838.279 687.569 Q836.474 691.111 836.474 698.241 Q836.474 705.347 838.279 708.912 Q840.108 712.453 843.719 712.453 Q847.353 712.453 849.159 708.912 Q850.988 705.347 850.988 698.241 Q850.988 691.111 849.159 687.569 Q847.353 684.005 843.719 684.005 M843.719 680.301 Q849.529 680.301 852.585 684.907 Q855.663 689.491 855.663 698.241 Q855.663 706.967 852.585 711.574 Q849.529 716.157 843.719 716.157 Q837.909 716.157 834.83 711.574 Q831.775 706.967 831.775 698.241 Q831.775 689.491 834.83 684.907 Q837.909 680.301 843.719 680.301 Z\" fill=\"#000000\" fill-rule=\"evenodd\" fill-opacity=\"1\" /><path clip-path=\"url(#clip000)\" d=\"M 0 0 M860.038 711.551 L876.358 711.551 L876.358 715.486 L854.413 715.486 L854.413 711.551 Q857.075 708.796 861.659 704.166 Q866.265 699.514 867.446 698.171 Q869.691 695.648 870.571 693.912 Q871.473 692.153 871.473 690.463 Q871.473 687.708 869.529 685.972 Q867.608 684.236 864.506 684.236 Q862.307 684.236 859.853 685 Q857.423 685.764 854.645 687.315 L854.645 682.593 Q857.469 681.458 859.923 680.88 Q862.376 680.301 864.413 680.301 Q869.784 680.301 872.978 682.986 Q876.172 685.671 876.172 690.162 Q876.172 692.292 875.362 694.213 Q874.575 696.111 872.469 698.704 Q871.89 699.375 868.788 702.592 Q865.686 705.787 860.038 711.551 Z\" fill=\"#000000\" fill-rule=\"evenodd\" fill-opacity=\"1\" /><path clip-path=\"url(#clip000)\" d=\"M 0 0 M886.172 709.606 L891.057 709.606 L891.057 715.486 L886.172 715.486 L886.172 709.606 Z\" fill=\"#000000\" fill-rule=\"evenodd\" fill-opacity=\"1\" /><path clip-path=\"url(#clip000)\" d=\"M 0 0 M901.288 680.926 L919.644 680.926 L919.644 684.861 L905.57 684.861 L905.57 693.333 Q906.589 692.986 907.607 692.824 Q908.626 692.639 909.644 692.639 Q915.431 692.639 918.811 695.81 Q922.191 698.981 922.191 704.398 Q922.191 709.977 918.719 713.078 Q915.246 716.157 908.927 716.157 Q906.751 716.157 904.482 715.787 Q902.237 715.416 899.83 714.676 L899.83 709.977 Q901.913 711.111 904.135 711.666 Q906.357 712.222 908.834 712.222 Q912.839 712.222 915.177 710.116 Q917.515 708.009 917.515 704.398 Q917.515 700.787 915.177 698.68 Q912.839 696.574 908.834 696.574 Q906.959 696.574 905.084 696.991 Q903.232 697.407 901.288 698.287 L901.288 680.926 Z\" fill=\"#000000\" fill-rule=\"evenodd\" fill-opacity=\"1\" /><path clip-path=\"url(#clip000)\" d=\"M 0 0 M936.635 696.852 Q939.991 697.569 941.866 699.838 Q943.765 702.106 943.765 705.44 Q943.765 710.555 940.246 713.356 Q936.728 716.157 930.246 716.157 Q928.07 716.157 925.755 715.717 Q923.464 715.301 921.01 714.444 L921.01 709.93 Q922.954 711.065 925.269 711.643 Q927.584 712.222 930.107 712.222 Q934.505 712.222 936.797 710.486 Q939.112 708.75 939.112 705.44 Q939.112 702.384 936.959 700.671 Q934.829 698.935 931.01 698.935 L926.982 698.935 L926.982 695.092 L931.195 695.092 Q934.644 695.092 936.473 693.727 Q938.302 692.338 938.302 689.745 Q938.302 687.083 936.403 685.671 Q934.528 684.236 931.01 684.236 Q929.089 684.236 926.89 684.653 Q924.691 685.069 922.052 685.949 L922.052 681.782 Q924.714 681.042 927.028 680.671 Q929.366 680.301 931.427 680.301 Q936.751 680.301 939.853 682.731 Q942.954 685.139 942.954 689.259 Q942.954 692.13 941.311 694.12 Q939.667 696.088 936.635 696.852 Z\" fill=\"#000000\" fill-rule=\"evenodd\" fill-opacity=\"1\" /><path clip-path=\"url(#clip000)\" d=\"M 0 0 M952.63 709.606 L957.514 709.606 L957.514 715.486 L952.63 715.486 L952.63 709.606 Z\" fill=\"#000000\" fill-rule=\"evenodd\" fill-opacity=\"1\" /><path clip-path=\"url(#clip000)\" d=\"M 0 0 M977.7 684.005 Q974.088 684.005 972.26 687.569 Q970.454 691.111 970.454 698.241 Q970.454 705.347 972.26 708.912 Q974.088 712.453 977.7 712.453 Q981.334 712.453 983.139 708.912 Q984.968 705.347 984.968 698.241 Q984.968 691.111 983.139 687.569 Q981.334 684.005 977.7 684.005 M977.7 680.301 Q983.51 680.301 986.565 684.907 Q989.644 689.491 989.644 698.241 Q989.644 706.967 986.565 711.574 Q983.51 716.157 977.7 716.157 Q971.889 716.157 968.811 711.574 Q965.755 706.967 965.755 698.241 Q965.755 689.491 968.811 684.907 Q971.889 680.301 977.7 680.301 Z\" fill=\"#000000\" fill-rule=\"evenodd\" fill-opacity=\"1\" /><path clip-path=\"url(#clip000)\" d=\"M 0 0 M1004.16 696.852 Q1007.51 697.569 1009.39 699.838 Q1011.29 702.106 1011.29 705.44 Q1011.29 710.555 1007.77 713.356 Q1004.25 716.157 997.769 716.157 Q995.593 716.157 993.278 715.717 Q990.986 715.301 988.533 714.444 L988.533 709.93 Q990.477 711.065 992.792 711.643 Q995.107 712.222 997.63 712.222 Q1002.03 712.222 1004.32 710.486 Q1006.63 708.75 1006.63 705.44 Q1006.63 702.384 1004.48 700.671 Q1002.35 698.935 998.533 698.935 L994.505 698.935 L994.505 695.092 L998.718 695.092 Q1002.17 695.092 1004 693.727 Q1005.82 692.338 1005.82 689.745 Q1005.82 687.083 1003.93 685.671 Q1002.05 684.236 998.533 684.236 Q996.611 684.236 994.412 684.653 Q992.213 685.069 989.574 685.949 L989.574 681.782 Q992.236 681.042 994.551 680.671 Q996.889 680.301 998.949 680.301 Q1004.27 680.301 1007.38 682.731 Q1010.48 685.139 1010.48 689.259 Q1010.48 692.13 1008.83 694.12 Q1007.19 696.088 1004.16 696.852 Z\" fill=\"#000000\" fill-rule=\"evenodd\" fill-opacity=\"1\" /><path clip-path=\"url(#clip000)\" d=\"M 0 0 M1020.15 709.606 L1025.04 709.606 L1025.04 715.486 L1020.15 715.486 L1020.15 709.606 Z\" fill=\"#000000\" fill-rule=\"evenodd\" fill-opacity=\"1\" /><path clip-path=\"url(#clip000)\" d=\"M 0 0 M1035.27 680.926 L1053.62 680.926 L1053.62 684.861 L1039.55 684.861 L1039.55 693.333 Q1040.57 692.986 1041.59 692.824 Q1042.61 692.639 1043.62 692.639 Q1049.41 692.639 1052.79 695.81 Q1056.17 698.981 1056.17 704.398 Q1056.17 709.977 1052.7 713.078 Q1049.23 716.157 1042.91 716.157 Q1040.73 716.157 1038.46 715.787 Q1036.22 715.416 1033.81 714.676 L1033.81 709.977 Q1035.89 711.111 1038.12 711.666 Q1040.34 712.222 1042.81 712.222 Q1046.82 712.222 1049.16 710.116 Q1051.5 708.009 1051.5 704.398 Q1051.5 700.787 1049.16 698.68 Q1046.82 696.574 1042.81 696.574 Q1040.94 696.574 1039.06 696.991 Q1037.21 697.407 1035.27 698.287 L1035.27 680.926 Z\" fill=\"#000000\" fill-rule=\"evenodd\" fill-opacity=\"1\" /><path clip-path=\"url(#clip000)\" d=\"M 0 0 M1070.01 685 L1058.21 703.449 L1070.01 703.449 L1070.01 685 M1068.79 680.926 L1074.67 680.926 L1074.67 703.449 L1079.6 703.449 L1079.6 707.338 L1074.67 707.338 L1074.67 715.486 L1070.01 715.486 L1070.01 707.338 L1054.41 707.338 L1054.41 702.824 L1068.79 680.926 Z\" fill=\"#000000\" fill-rule=\"evenodd\" fill-opacity=\"1\" /><path clip-path=\"url(#clip000)\" d=\"M 0 0 M1087.33 709.606 L1092.21 709.606 L1092.21 715.486 L1087.33 715.486 L1087.33 709.606 Z\" fill=\"#000000\" fill-rule=\"evenodd\" fill-opacity=\"1\" /><path clip-path=\"url(#clip000)\" d=\"M 0 0 M1112.4 684.005 Q1108.79 684.005 1106.96 687.569 Q1105.15 691.111 1105.15 698.241 Q1105.15 705.347 1106.96 708.912 Q1108.79 712.453 1112.4 712.453 Q1116.03 712.453 1117.84 708.912 Q1119.67 705.347 1119.67 698.241 Q1119.67 691.111 1117.84 687.569 Q1116.03 684.005 1112.4 684.005 M1112.4 680.301 Q1118.21 680.301 1121.26 684.907 Q1124.34 689.491 1124.34 698.241 Q1124.34 706.967 1121.26 711.574 Q1118.21 716.157 1112.4 716.157 Q1106.59 716.157 1103.51 711.574 Q1100.45 706.967 1100.45 698.241 Q1100.45 689.491 1103.51 684.907 Q1106.59 680.301 1112.4 680.301 Z\" fill=\"#000000\" fill-rule=\"evenodd\" fill-opacity=\"1\" /><path clip-path=\"url(#clip000)\" d=\"M 0 0 M1137.54 685 L1125.73 703.449 L1137.54 703.449 L1137.54 685 M1136.31 680.926 L1142.19 680.926 L1142.19 703.449 L1147.12 703.449 L1147.12 707.338 L1142.19 707.338 L1142.19 715.486 L1137.54 715.486 L1137.54 707.338 L1121.93 707.338 L1121.93 702.824 L1136.31 680.926 Z\" fill=\"#000000\" fill-rule=\"evenodd\" fill-opacity=\"1\" /><path clip-path=\"url(#clip000)\" d=\"M 0 0 M1154.85 709.606 L1159.74 709.606 L1159.74 715.486 L1154.85 715.486 L1154.85 709.606 Z\" fill=\"#000000\" fill-rule=\"evenodd\" fill-opacity=\"1\" /><path clip-path=\"url(#clip000)\" d=\"M 0 0 M1169.97 680.926 L1188.32 680.926 L1188.32 684.861 L1174.25 684.861 L1174.25 693.333 Q1175.27 692.986 1176.29 692.824 Q1177.3 692.639 1178.32 692.639 Q1184.11 692.639 1187.49 695.81 Q1190.87 698.981 1190.87 704.398 Q1190.87 709.977 1187.4 713.078 Q1183.92 716.157 1177.61 716.157 Q1175.43 716.157 1173.16 715.787 Q1170.92 715.416 1168.51 714.676 L1168.51 709.977 Q1170.59 711.111 1172.81 711.666 Q1175.04 712.222 1177.51 712.222 Q1181.52 712.222 1183.86 710.116 Q1186.19 708.009 1186.19 704.398 Q1186.19 700.787 1183.86 698.68 Q1181.52 696.574 1177.51 696.574 Q1175.64 696.574 1173.76 696.991 Q1171.91 697.407 1169.97 698.287 L1169.97 680.926 Z\" fill=\"#000000\" fill-rule=\"evenodd\" fill-opacity=\"1\" /><polyline clip-path=\"url(#clip000)\" style=\"stroke:#000000; stroke-width:4; stroke-opacity:1; fill:none\" points=\"\n",
       "  799.738,654.814 799.738,431.427 \n",
       "  \"/>\n",
       "<polyline clip-path=\"url(#clip000)\" style=\"stroke:#000000; stroke-width:4; stroke-opacity:1; fill:none\" points=\"\n",
       "  799.738,648.492 804.437,648.492 \n",
       "  \"/>\n",
       "<polyline clip-path=\"url(#clip000)\" style=\"stroke:#000000; stroke-width:4; stroke-opacity:1; fill:none\" points=\"\n",
       "  799.738,591.534 804.437,591.534 \n",
       "  \"/>\n",
       "<polyline clip-path=\"url(#clip000)\" style=\"stroke:#000000; stroke-width:4; stroke-opacity:1; fill:none\" points=\"\n",
       "  799.738,534.577 804.437,534.577 \n",
       "  \"/>\n",
       "<polyline clip-path=\"url(#clip000)\" style=\"stroke:#000000; stroke-width:4; stroke-opacity:1; fill:none\" points=\"\n",
       "  799.738,477.62 804.437,477.62 \n",
       "  \"/>\n",
       "<path clip-path=\"url(#clip000)\" d=\"M 0 0 M751.794 634.29 Q748.182 634.29 746.354 637.855 Q744.548 641.397 744.548 648.526 Q744.548 655.633 746.354 659.198 Q748.182 662.739 751.794 662.739 Q755.428 662.739 757.233 659.198 Q759.062 655.633 759.062 648.526 Q759.062 641.397 757.233 637.855 Q755.428 634.29 751.794 634.29 M751.794 630.587 Q757.604 630.587 760.659 635.193 Q763.738 639.776 763.738 648.526 Q763.738 657.253 760.659 661.86 Q757.604 666.443 751.794 666.443 Q745.983 666.443 742.905 661.86 Q739.849 657.253 739.849 648.526 Q739.849 639.776 742.905 635.193 Q745.983 630.587 751.794 630.587 Z\" fill=\"#000000\" fill-rule=\"evenodd\" fill-opacity=\"1\" /><path clip-path=\"url(#clip000)\" d=\"M 0 0 M712.442 604.879 L720.081 604.879 L720.081 578.513 L711.771 580.18 L711.771 575.921 L720.034 574.254 L724.71 574.254 L724.71 604.879 L732.349 604.879 L732.349 608.814 L712.442 608.814 L712.442 604.879 Z\" fill=\"#000000\" fill-rule=\"evenodd\" fill-opacity=\"1\" /><path clip-path=\"url(#clip000)\" d=\"M 0 0 M751.794 577.333 Q748.182 577.333 746.354 580.898 Q744.548 584.439 744.548 591.569 Q744.548 598.675 746.354 602.24 Q748.182 605.782 751.794 605.782 Q755.428 605.782 757.233 602.24 Q759.062 598.675 759.062 591.569 Q759.062 584.439 757.233 580.898 Q755.428 577.333 751.794 577.333 M751.794 573.629 Q757.604 573.629 760.659 578.236 Q763.738 582.819 763.738 591.569 Q763.738 600.296 760.659 604.902 Q757.604 609.486 751.794 609.486 Q745.983 609.486 742.905 604.902 Q739.849 600.296 739.849 591.569 Q739.849 582.819 742.905 578.236 Q745.983 573.629 751.794 573.629 Z\" fill=\"#000000\" fill-rule=\"evenodd\" fill-opacity=\"1\" /><path clip-path=\"url(#clip000)\" d=\"M 0 0 M715.659 547.922 L731.979 547.922 L731.979 551.857 L710.035 551.857 L710.035 547.922 Q712.697 545.167 717.28 540.537 Q721.886 535.885 723.067 534.542 Q725.312 532.019 726.192 530.283 Q727.095 528.524 727.095 526.834 Q727.095 524.079 725.15 522.343 Q723.229 520.607 720.127 520.607 Q717.928 520.607 715.474 521.371 Q713.044 522.135 710.266 523.686 L710.266 518.964 Q713.09 517.829 715.544 517.251 Q717.997 516.672 720.034 516.672 Q725.405 516.672 728.599 519.357 Q731.794 522.042 731.794 526.533 Q731.794 528.663 730.983 530.584 Q730.196 532.482 728.09 535.075 Q727.511 535.746 724.409 538.963 Q721.308 542.158 715.659 547.922 Z\" fill=\"#000000\" fill-rule=\"evenodd\" fill-opacity=\"1\" /><path clip-path=\"url(#clip000)\" d=\"M 0 0 M751.794 520.376 Q748.182 520.376 746.354 523.94 Q744.548 527.482 744.548 534.612 Q744.548 541.718 746.354 545.283 Q748.182 548.824 751.794 548.824 Q755.428 548.824 757.233 545.283 Q759.062 541.718 759.062 534.612 Q759.062 527.482 757.233 523.94 Q755.428 520.376 751.794 520.376 M751.794 516.672 Q757.604 516.672 760.659 521.278 Q763.738 525.862 763.738 534.612 Q763.738 543.338 760.659 547.945 Q757.604 552.528 751.794 552.528 Q745.983 552.528 742.905 547.945 Q739.849 543.338 739.849 534.612 Q739.849 525.862 742.905 521.278 Q745.983 516.672 751.794 516.672 Z\" fill=\"#000000\" fill-rule=\"evenodd\" fill-opacity=\"1\" /><path clip-path=\"url(#clip000)\" d=\"M 0 0 M725.798 476.265 Q729.155 476.983 731.03 479.251 Q732.928 481.52 732.928 484.853 Q732.928 489.969 729.409 492.77 Q725.891 495.571 719.409 495.571 Q717.234 495.571 714.919 495.131 Q712.627 494.714 710.173 493.858 L710.173 489.344 Q712.118 490.478 714.433 491.057 Q716.747 491.636 719.271 491.636 Q723.669 491.636 725.96 489.9 Q728.275 488.163 728.275 484.853 Q728.275 481.798 726.122 480.085 Q723.993 478.349 720.173 478.349 L716.146 478.349 L716.146 474.506 L720.359 474.506 Q723.808 474.506 725.636 473.14 Q727.465 471.751 727.465 469.159 Q727.465 466.497 725.567 465.085 Q723.692 463.65 720.173 463.65 Q718.252 463.65 716.053 464.066 Q713.854 464.483 711.215 465.363 L711.215 461.196 Q713.877 460.455 716.192 460.085 Q718.53 459.715 720.59 459.715 Q725.914 459.715 729.016 462.145 Q732.118 464.552 732.118 468.673 Q732.118 471.543 730.474 473.534 Q728.831 475.501 725.798 476.265 Z\" fill=\"#000000\" fill-rule=\"evenodd\" fill-opacity=\"1\" /><path clip-path=\"url(#clip000)\" d=\"M 0 0 M751.794 463.418 Q748.182 463.418 746.354 466.983 Q744.548 470.525 744.548 477.654 Q744.548 484.761 746.354 488.325 Q748.182 491.867 751.794 491.867 Q755.428 491.867 757.233 488.325 Q759.062 484.761 759.062 477.654 Q759.062 470.525 757.233 466.983 Q755.428 463.418 751.794 463.418 M751.794 459.715 Q757.604 459.715 760.659 464.321 Q763.738 468.904 763.738 477.654 Q763.738 486.381 760.659 490.987 Q757.604 495.571 751.794 495.571 Q745.983 495.571 742.905 490.987 Q739.849 486.381 739.849 477.654 Q739.849 468.904 742.905 464.321 Q745.983 459.715 751.794 459.715 Z\" fill=\"#000000\" fill-rule=\"evenodd\" fill-opacity=\"1\" /><path clip-path=\"url(#clip007)\" d=\"\n",
       "M821.277 642.796 L821.277 648.492 L848.087 648.492 L848.087 642.796 L821.277 642.796 L821.277 642.796  Z\n",
       "  \" fill=\"#000000\" fill-rule=\"evenodd\" fill-opacity=\"1\"/>\n",
       "<polyline clip-path=\"url(#clip007)\" style=\"stroke:#000000; stroke-width:4; stroke-opacity:1; fill:none\" points=\"\n",
       "  821.277,642.796 821.277,648.492 848.087,648.492 848.087,642.796 821.277,642.796 \n",
       "  \"/>\n",
       "<path clip-path=\"url(#clip007)\" d=\"\n",
       "M848.087 608.621 L848.087 648.492 L874.897 648.492 L874.897 608.621 L848.087 608.621 L848.087 608.621  Z\n",
       "  \" fill=\"#000000\" fill-rule=\"evenodd\" fill-opacity=\"1\"/>\n",
       "<polyline clip-path=\"url(#clip007)\" style=\"stroke:#000000; stroke-width:4; stroke-opacity:1; fill:none\" points=\"\n",
       "  848.087,608.621 848.087,648.492 874.897,648.492 874.897,608.621 848.087,608.621 \n",
       "  \"/>\n",
       "<path clip-path=\"url(#clip007)\" d=\"\n",
       "M874.897 585.838 L874.897 648.492 L901.707 648.492 L901.707 585.838 L874.897 585.838 L874.897 585.838  Z\n",
       "  \" fill=\"#000000\" fill-rule=\"evenodd\" fill-opacity=\"1\"/>\n",
       "<polyline clip-path=\"url(#clip007)\" style=\"stroke:#000000; stroke-width:4; stroke-opacity:1; fill:none\" points=\"\n",
       "  874.897,585.838 874.897,648.492 901.707,648.492 901.707,585.838 874.897,585.838 \n",
       "  \"/>\n",
       "<path clip-path=\"url(#clip007)\" d=\"\n",
       "M901.707 568.751 L901.707 648.492 L928.517 648.492 L928.517 568.751 L901.707 568.751 L901.707 568.751  Z\n",
       "  \" fill=\"#000000\" fill-rule=\"evenodd\" fill-opacity=\"1\"/>\n",
       "<polyline clip-path=\"url(#clip007)\" style=\"stroke:#000000; stroke-width:4; stroke-opacity:1; fill:none\" points=\"\n",
       "  901.707,568.751 901.707,648.492 928.517,648.492 928.517,568.751 901.707,568.751 \n",
       "  \"/>\n",
       "<path clip-path=\"url(#clip007)\" d=\"\n",
       "M928.517 511.794 L928.517 648.492 L955.327 648.492 L955.327 511.794 L928.517 511.794 L928.517 511.794  Z\n",
       "  \" fill=\"#000000\" fill-rule=\"evenodd\" fill-opacity=\"1\"/>\n",
       "<polyline clip-path=\"url(#clip007)\" style=\"stroke:#000000; stroke-width:4; stroke-opacity:1; fill:none\" points=\"\n",
       "  928.517,511.794 928.517,648.492 955.327,648.492 955.327,511.794 928.517,511.794 \n",
       "  \"/>\n",
       "<path clip-path=\"url(#clip007)\" d=\"\n",
       "M955.327 437.749 L955.327 648.492 L982.137 648.492 L982.137 437.749 L955.327 437.749 L955.327 437.749  Z\n",
       "  \" fill=\"#000000\" fill-rule=\"evenodd\" fill-opacity=\"1\"/>\n",
       "<polyline clip-path=\"url(#clip007)\" style=\"stroke:#000000; stroke-width:4; stroke-opacity:1; fill:none\" points=\"\n",
       "  955.327,437.749 955.327,648.492 982.137,648.492 982.137,437.749 955.327,437.749 \n",
       "  \"/>\n",
       "<path clip-path=\"url(#clip007)\" d=\"\n",
       "M982.137 540.273 L982.137 648.492 L1008.95 648.492 L1008.95 540.273 L982.137 540.273 L982.137 540.273  Z\n",
       "  \" fill=\"#000000\" fill-rule=\"evenodd\" fill-opacity=\"1\"/>\n",
       "<polyline clip-path=\"url(#clip007)\" style=\"stroke:#000000; stroke-width:4; stroke-opacity:1; fill:none\" points=\"\n",
       "  982.137,540.273 982.137,648.492 1008.95,648.492 1008.95,540.273 982.137,540.273 \n",
       "  \"/>\n",
       "<path clip-path=\"url(#clip007)\" d=\"\n",
       "M1008.95 545.968 L1008.95 648.492 L1035.76 648.492 L1035.76 545.968 L1008.95 545.968 L1008.95 545.968  Z\n",
       "  \" fill=\"#000000\" fill-rule=\"evenodd\" fill-opacity=\"1\"/>\n",
       "<polyline clip-path=\"url(#clip007)\" style=\"stroke:#000000; stroke-width:4; stroke-opacity:1; fill:none\" points=\"\n",
       "  1008.95,545.968 1008.95,648.492 1035.76,648.492 1035.76,545.968 1008.95,545.968 \n",
       "  \"/>\n",
       "<path clip-path=\"url(#clip007)\" d=\"\n",
       "M1035.76 608.621 L1035.76 648.492 L1062.57 648.492 L1062.57 608.621 L1035.76 608.621 L1035.76 608.621  Z\n",
       "  \" fill=\"#000000\" fill-rule=\"evenodd\" fill-opacity=\"1\"/>\n",
       "<polyline clip-path=\"url(#clip007)\" style=\"stroke:#000000; stroke-width:4; stroke-opacity:1; fill:none\" points=\"\n",
       "  1035.76,608.621 1035.76,648.492 1062.57,648.492 1062.57,608.621 1035.76,608.621 \n",
       "  \"/>\n",
       "<path clip-path=\"url(#clip007)\" d=\"\n",
       "M1062.57 602.926 L1062.57 648.492 L1089.38 648.492 L1089.38 602.926 L1062.57 602.926 L1062.57 602.926  Z\n",
       "  \" fill=\"#000000\" fill-rule=\"evenodd\" fill-opacity=\"1\"/>\n",
       "<polyline clip-path=\"url(#clip007)\" style=\"stroke:#000000; stroke-width:4; stroke-opacity:1; fill:none\" points=\"\n",
       "  1062.57,602.926 1062.57,648.492 1089.38,648.492 1089.38,602.926 1062.57,602.926 \n",
       "  \"/>\n",
       "<path clip-path=\"url(#clip007)\" d=\"\n",
       "M1089.38 637.1 L1089.38 648.492 L1116.19 648.492 L1116.19 637.1 L1089.38 637.1 L1089.38 637.1  Z\n",
       "  \" fill=\"#000000\" fill-rule=\"evenodd\" fill-opacity=\"1\"/>\n",
       "<polyline clip-path=\"url(#clip007)\" style=\"stroke:#000000; stroke-width:4; stroke-opacity:1; fill:none\" points=\"\n",
       "  1089.38,637.1 1089.38,648.492 1116.19,648.492 1116.19,637.1 1089.38,637.1 \n",
       "  \"/>\n",
       "<path clip-path=\"url(#clip007)\" d=\"\n",
       "M1116.19 642.796 L1116.19 648.492 L1143 648.492 L1143 642.796 L1116.19 642.796 L1116.19 642.796  Z\n",
       "  \" fill=\"#000000\" fill-rule=\"evenodd\" fill-opacity=\"1\"/>\n",
       "<polyline clip-path=\"url(#clip007)\" style=\"stroke:#000000; stroke-width:4; stroke-opacity:1; fill:none\" points=\"\n",
       "  1116.19,642.796 1116.19,648.492 1143,648.492 1143,642.796 1116.19,642.796 \n",
       "  \"/>\n",
       "<path clip-path=\"url(#clip007)\" d=\"\n",
       "M1143 642.796 L1143 648.492 L1169.81 648.492 L1169.81 642.796 L1143 642.796 L1143 642.796  Z\n",
       "  \" fill=\"#000000\" fill-rule=\"evenodd\" fill-opacity=\"1\"/>\n",
       "<polyline clip-path=\"url(#clip007)\" style=\"stroke:#000000; stroke-width:4; stroke-opacity:1; fill:none\" points=\"\n",
       "  1143,642.796 1143,648.492 1169.81,648.492 1169.81,642.796 1143,642.796 \n",
       "  \"/>\n",
       "<path clip-path=\"url(#clip000)\" d=\"\n",
       "M1380.44 654.814 L1772.05 654.814 L1772.05 431.427 L1380.44 431.427  Z\n",
       "  \" fill=\"#ffffff\" fill-rule=\"evenodd\" fill-opacity=\"1\"/>\n",
       "<defs>\n",
       "  <clipPath id=\"clip008\">\n",
       "    <rect x=\"1380\" y=\"431\" width=\"393\" height=\"224\"/>\n",
       "  </clipPath>\n",
       "</defs>\n",
       "<polyline clip-path=\"url(#clip000)\" style=\"stroke:#000000; stroke-width:4; stroke-opacity:1; fill:none\" points=\"\n",
       "  1380.44,654.814 1772.05,654.814 \n",
       "  \"/>\n",
       "<polyline clip-path=\"url(#clip000)\" style=\"stroke:#000000; stroke-width:4; stroke-opacity:1; fill:none\" points=\"\n",
       "  1401.98,654.814 1401.98,652.133 \n",
       "  \"/>\n",
       "<polyline clip-path=\"url(#clip000)\" style=\"stroke:#000000; stroke-width:4; stroke-opacity:1; fill:none\" points=\"\n",
       "  1489.11,654.814 1489.11,652.133 \n",
       "  \"/>\n",
       "<polyline clip-path=\"url(#clip000)\" style=\"stroke:#000000; stroke-width:4; stroke-opacity:1; fill:none\" points=\"\n",
       "  1576.25,654.814 1576.25,652.133 \n",
       "  \"/>\n",
       "<polyline clip-path=\"url(#clip000)\" style=\"stroke:#000000; stroke-width:4; stroke-opacity:1; fill:none\" points=\"\n",
       "  1663.38,654.814 1663.38,652.133 \n",
       "  \"/>\n",
       "<polyline clip-path=\"url(#clip000)\" style=\"stroke:#000000; stroke-width:4; stroke-opacity:1; fill:none\" points=\"\n",
       "  1750.51,654.814 1750.51,652.133 \n",
       "  \"/>\n",
       "<polyline clip-path=\"url(#clip000)\" style=\"stroke:#000000; stroke-width:4; stroke-opacity:1; fill:none\" points=\"\n",
       "  1380.44,654.814 1380.44,431.427 \n",
       "  \"/>\n",
       "<polyline clip-path=\"url(#clip000)\" style=\"stroke:#000000; stroke-width:4; stroke-opacity:1; fill:none\" points=\"\n",
       "  1380.44,648.492 1385.14,648.492 \n",
       "  \"/>\n",
       "<polyline clip-path=\"url(#clip000)\" style=\"stroke:#000000; stroke-width:4; stroke-opacity:1; fill:none\" points=\"\n",
       "  1380.44,606.343 1385.14,606.343 \n",
       "  \"/>\n",
       "<polyline clip-path=\"url(#clip000)\" style=\"stroke:#000000; stroke-width:4; stroke-opacity:1; fill:none\" points=\"\n",
       "  1380.44,564.195 1385.14,564.195 \n",
       "  \"/>\n",
       "<polyline clip-path=\"url(#clip000)\" style=\"stroke:#000000; stroke-width:4; stroke-opacity:1; fill:none\" points=\"\n",
       "  1380.44,522.046 1385.14,522.046 \n",
       "  \"/>\n",
       "<polyline clip-path=\"url(#clip000)\" style=\"stroke:#000000; stroke-width:4; stroke-opacity:1; fill:none\" points=\"\n",
       "  1380.44,479.898 1385.14,479.898 \n",
       "  \"/>\n",
       "<polyline clip-path=\"url(#clip000)\" style=\"stroke:#000000; stroke-width:4; stroke-opacity:1; fill:none\" points=\"\n",
       "  1380.44,437.749 1385.14,437.749 \n",
       "  \"/>\n",
       "<g clip-path=\"url(#clip008)\">\n",
       "<image width=\"349\" height=\"211\" xlink:href=\"data:image/png;base64,\n",
       "iVBORw0KGgoAAAANSUhEUgAAAV0AAADTCAYAAAAiRcCrAAADCElEQVR4nO3W0Q3CMBQEQRul/5ZN\n",
       "DQixLwozFdzX6vZa6yx+aU8PAO7jNT0A4J+ILkBIdAFCogsQEl2AkOgChEQXICS6ACHRBQiJLkBI\n",
       "dAFCogsQEl2AkOgChEQXICS6ACHRBQiJLkBIdAFCogsQEl2AkOgChEQXICS6ACHRBQiJLkBIdAFC\n",
       "ogsQEl2AkOgChEQXICS6ACHRBQiJLkBIdAFCogsQEl2AkOgChEQXICS6ACHRBQiJLkDomh4A3NKZ\n",
       "HvBUni5ASHQBQqILEBJdgJDoAoREFyAkugAh0QUIiS5ASHQBQqILEBJdgJDoAoREFyAkugAh0QUI\n",
       "iS5ASHQBQqILEBJdgJDoAoREFyAkugAh0QUIiS5ASHQBQqILEBJdgJDoAoREFyAkugAh0QUIiS5A\n",
       "SHQBQqILEBJdgJDoAoREFyAkugAh0QUIiS5A6JoeAF840wPgU54uQEh0AUKiCxASXYCQ6AKERBcg\n",
       "JLoAIdEFCIkuQEh0AUKiCxASXYCQ6AKERBcgJLoAIdEFCIkuQEh0AUKiCxASXYCQ6AKERBcgJLoA\n",
       "IdEFCIkuQEh0AUKiCxASXYCQ6AKERBcgJLoAIdEFCIkuQEh0AUKiCxASXYCQ6AKERBcgJLoAIdEF\n",
       "CIkuQGivtc70CIB/4ekChEQXICS6ACHRBQiJLkBIdAFCogsQEl2AkOgChEQXICS6ACHRBQiJLkBI\n",
       "dAFCogsQEl2AkOgChEQXICS6ACHRBQiJLkBIdAFCogsQEl2AkOgChEQXICS6ACHRBQiJLkBIdAFC\n",
       "ogsQEl2AkOgChEQXICS6ACHRBQiJLkBIdAFCogsQEl2AkOgChK7pAcAt7ekBT+XpAoREFyAkugAh\n",
       "0QUIiS5ASHQBQqILEBJdgJDoAoREFyAkugAh0QUIiS5ASHQBQqILEBJdgJDoAoREFyAkugAh0QUI\n",
       "iS5ASHQBQqILEBJdgJDoAoREFyAkugAh0QUIiS5ASHQBQqILEBJdgJDoAoREFyAkugAh0QUIiS5A\n",
       "SHQBQqILEBJdgJDoAoTeKaUFqaXwG9AAAAAASUVORK5CYII=\n",
       "\" transform=\"translate(1402, 438)\"/>\n",
       "</g>\n",
       "<path clip-path=\"url(#clip000)\" d=\"\n",
       "M1961.15 654.814 L2352.76 654.814 L2352.76 431.427 L1961.15 431.427  Z\n",
       "  \" fill=\"#ffffff\" fill-rule=\"evenodd\" fill-opacity=\"1\"/>\n",
       "<defs>\n",
       "  <clipPath id=\"clip009\">\n",
       "    <rect x=\"1961\" y=\"431\" width=\"393\" height=\"224\"/>\n",
       "  </clipPath>\n",
       "</defs>\n",
       "<polyline clip-path=\"url(#clip000)\" style=\"stroke:#000000; stroke-width:4; stroke-opacity:1; fill:none\" points=\"\n",
       "  1961.15,654.814 2352.76,654.814 \n",
       "  \"/>\n",
       "<polyline clip-path=\"url(#clip000)\" style=\"stroke:#000000; stroke-width:4; stroke-opacity:1; fill:none\" points=\"\n",
       "  1982.69,654.814 1982.69,652.133 \n",
       "  \"/>\n",
       "<polyline clip-path=\"url(#clip000)\" style=\"stroke:#000000; stroke-width:4; stroke-opacity:1; fill:none\" points=\"\n",
       "  2098.86,654.814 2098.86,652.133 \n",
       "  \"/>\n",
       "<polyline clip-path=\"url(#clip000)\" style=\"stroke:#000000; stroke-width:4; stroke-opacity:1; fill:none\" points=\"\n",
       "  2215.04,654.814 2215.04,652.133 \n",
       "  \"/>\n",
       "<polyline clip-path=\"url(#clip000)\" style=\"stroke:#000000; stroke-width:4; stroke-opacity:1; fill:none\" points=\"\n",
       "  2331.22,654.814 2331.22,652.133 \n",
       "  \"/>\n",
       "<polyline clip-path=\"url(#clip000)\" style=\"stroke:#000000; stroke-width:4; stroke-opacity:1; fill:none\" points=\"\n",
       "  1961.15,654.814 1961.15,431.427 \n",
       "  \"/>\n",
       "<polyline clip-path=\"url(#clip000)\" style=\"stroke:#000000; stroke-width:4; stroke-opacity:1; fill:none\" points=\"\n",
       "  1961.15,648.492 1965.85,648.492 \n",
       "  \"/>\n",
       "<polyline clip-path=\"url(#clip000)\" style=\"stroke:#000000; stroke-width:4; stroke-opacity:1; fill:none\" points=\"\n",
       "  1961.15,606.343 1965.85,606.343 \n",
       "  \"/>\n",
       "<polyline clip-path=\"url(#clip000)\" style=\"stroke:#000000; stroke-width:4; stroke-opacity:1; fill:none\" points=\"\n",
       "  1961.15,564.195 1965.85,564.195 \n",
       "  \"/>\n",
       "<polyline clip-path=\"url(#clip000)\" style=\"stroke:#000000; stroke-width:4; stroke-opacity:1; fill:none\" points=\"\n",
       "  1961.15,522.046 1965.85,522.046 \n",
       "  \"/>\n",
       "<polyline clip-path=\"url(#clip000)\" style=\"stroke:#000000; stroke-width:4; stroke-opacity:1; fill:none\" points=\"\n",
       "  1961.15,479.898 1965.85,479.898 \n",
       "  \"/>\n",
       "<polyline clip-path=\"url(#clip000)\" style=\"stroke:#000000; stroke-width:4; stroke-opacity:1; fill:none\" points=\"\n",
       "  1961.15,437.749 1965.85,437.749 \n",
       "  \"/>\n",
       "<g clip-path=\"url(#clip009)\">\n",
       "<image width=\"349\" height=\"211\" xlink:href=\"data:image/png;base64,\n",
       "iVBORw0KGgoAAAANSUhEUgAAAV0AAADTCAYAAAAiRcCrAAADA0lEQVR4nO3WwQnDQBAEwTuj/FM+\n",
       "J2DQR/SCVRXBvJrZa62z+Dd7egDw22d6AMCbiC5ASHQBQqILEBJdgJDoAoREFyAkugAh0QUIiS5A\n",
       "SHQBQqILEBJdgJDoAoREFyAkugAh0QUIiS5ASHQBQqILEBJdgJDoAoREFyAkugAh0QUIiS5ASHQB\n",
       "QqILEBJdgJDoAoREFyAkugAh0QUIiS5ASHQBQqILEBJdgJDoAoREFyAkugAh0QUIiS5A6JoeANw6\n",
       "0wN4jqcLEBJdgJDoAoREFyAkugAh0QUIiS5ASHQBQqILEBJdgJDoAoREFyAkugAh0QUIiS5ASHQB\n",
       "QqILEBJdgJDoAoREFyAkugAh0QUIiS5ASHQBQqILEBJdgJDoAoREFyAkugAh0QUIiS5ASHQBQqIL\n",
       "EBJdgJDoAoREFyAkugAh0QUIiS5ASHQBQqILENprrTM9AuAtPF2AkOgChEQXICS6ACHRBQiJLkBI\n",
       "dAFCogsQEl2AkOgChEQXICS6ACHRBQiJLkBIdAFCogsQEl2AkOgChEQXICS6ACHRBQiJLkBIdAFC\n",
       "ogsQEl2AkOgChEQXICS6ACHRBQiJLkBIdAFCogsQEl2AkOgChEQXICS6ACHRBQiJLkBIdAFCogsQ\n",
       "El2AkOgChEQXICS6ACHRBQiJLkBIdAFCogsQEl2AkOgChEQXICS6ACHRBQiJLkBIdAFCogsQEl2A\n",
       "kOgChEQXICS6ACHRBQiJLkBIdAFCogsQEl2AkOgChEQXICS6ACHRBQiJLkBIdAFCogsQEl2AkOgC\n",
       "hEQXICS6ACHRBQiJLkBIdAFCogsQEl2AkOgChEQXIHRNDwBu7ekBPMfTBQiJLkBIdAFCogsQEl2A\n",
       "kOgChEQXICS6ACHRBQiJLkBIdAFCogsQEl2AkOgChEQXICS6ACHRBQiJLkBIdAFCogsQEl2AkOgC\n",
       "hEQXICS6ACHRBQiJLkBIdAFCogsQEl2AkOgChEQXICS6ACHRBQiJLkBIdAFCogsQEl2AkOgChEQX\n",
       "ICS6ACHRBQh9AWGDBKhrfNKvAAAAAElFTkSuQmCC\n",
       "\" transform=\"translate(1983, 438)\"/>\n",
       "</g>\n",
       "<path clip-path=\"url(#clip000)\" d=\"\n",
       "M220.19 1039 L611.798 1039 L611.798 815.61 L220.19 815.61  Z\n",
       "  \" fill=\"#ffffff\" fill-rule=\"evenodd\" fill-opacity=\"1\"/>\n",
       "<defs>\n",
       "  <clipPath id=\"clip0010\">\n",
       "    <rect x=\"220\" y=\"815\" width=\"393\" height=\"224\"/>\n",
       "  </clipPath>\n",
       "</defs>\n",
       "<polyline clip-path=\"url(#clip000)\" style=\"stroke:#000000; stroke-width:4; stroke-opacity:1; fill:none\" points=\"\n",
       "  220.19,1039 611.798,1039 \n",
       "  \"/>\n",
       "<polyline clip-path=\"url(#clip000)\" style=\"stroke:#000000; stroke-width:4; stroke-opacity:1; fill:none\" points=\"\n",
       "  241.729,1039 241.729,1036.32 \n",
       "  \"/>\n",
       "<polyline clip-path=\"url(#clip000)\" style=\"stroke:#000000; stroke-width:4; stroke-opacity:1; fill:none\" points=\"\n",
       "  328.862,1039 328.862,1036.32 \n",
       "  \"/>\n",
       "<polyline clip-path=\"url(#clip000)\" style=\"stroke:#000000; stroke-width:4; stroke-opacity:1; fill:none\" points=\"\n",
       "  415.994,1039 415.994,1036.32 \n",
       "  \"/>\n",
       "<polyline clip-path=\"url(#clip000)\" style=\"stroke:#000000; stroke-width:4; stroke-opacity:1; fill:none\" points=\"\n",
       "  503.127,1039 503.127,1036.32 \n",
       "  \"/>\n",
       "<polyline clip-path=\"url(#clip000)\" style=\"stroke:#000000; stroke-width:4; stroke-opacity:1; fill:none\" points=\"\n",
       "  590.259,1039 590.259,1036.32 \n",
       "  \"/>\n",
       "<polyline clip-path=\"url(#clip000)\" style=\"stroke:#000000; stroke-width:4; stroke-opacity:1; fill:none\" points=\"\n",
       "  220.19,1039 220.19,815.61 \n",
       "  \"/>\n",
       "<polyline clip-path=\"url(#clip000)\" style=\"stroke:#000000; stroke-width:4; stroke-opacity:1; fill:none\" points=\"\n",
       "  220.19,1032.67 224.89,1032.67 \n",
       "  \"/>\n",
       "<polyline clip-path=\"url(#clip000)\" style=\"stroke:#000000; stroke-width:4; stroke-opacity:1; fill:none\" points=\"\n",
       "  220.19,979.989 224.89,979.989 \n",
       "  \"/>\n",
       "<polyline clip-path=\"url(#clip000)\" style=\"stroke:#000000; stroke-width:4; stroke-opacity:1; fill:none\" points=\"\n",
       "  220.19,927.303 224.89,927.303 \n",
       "  \"/>\n",
       "<polyline clip-path=\"url(#clip000)\" style=\"stroke:#000000; stroke-width:4; stroke-opacity:1; fill:none\" points=\"\n",
       "  220.19,874.618 224.89,874.618 \n",
       "  \"/>\n",
       "<polyline clip-path=\"url(#clip000)\" style=\"stroke:#000000; stroke-width:4; stroke-opacity:1; fill:none\" points=\"\n",
       "  220.19,821.932 224.89,821.932 \n",
       "  \"/>\n",
       "<path clip-path=\"url(#clip000)\" d=\"M 0 0 M172.246 1018.47 Q168.635 1018.47 166.806 1022.04 Q165.001 1025.58 165.001 1032.71 Q165.001 1039.82 166.806 1043.38 Q168.635 1046.92 172.246 1046.92 Q175.88 1046.92 177.686 1043.38 Q179.514 1039.82 179.514 1032.71 Q179.514 1025.58 177.686 1022.04 Q175.88 1018.47 172.246 1018.47 M172.246 1014.77 Q178.056 1014.77 181.112 1019.38 Q184.19 1023.96 184.19 1032.71 Q184.19 1041.44 181.112 1046.04 Q178.056 1050.63 172.246 1050.63 Q166.436 1050.63 163.357 1046.04 Q160.302 1041.44 160.302 1032.71 Q160.302 1023.96 163.357 1019.38 Q166.436 1014.77 172.246 1014.77 Z\" fill=\"#000000\" fill-rule=\"evenodd\" fill-opacity=\"1\" /><path clip-path=\"url(#clip000)\" d=\"M 0 0 M167.871 993.334 L184.19 993.334 L184.19 997.269 L162.246 997.269 L162.246 993.334 Q164.908 990.579 169.491 985.95 Q174.098 981.297 175.278 979.954 Q177.524 977.431 178.403 975.695 Q179.306 973.936 179.306 972.246 Q179.306 969.491 177.362 967.755 Q175.44 966.019 172.339 966.019 Q170.139 966.019 167.686 966.783 Q165.255 967.547 162.477 969.098 L162.477 964.376 Q165.302 963.241 167.755 962.663 Q170.209 962.084 172.246 962.084 Q177.616 962.084 180.811 964.769 Q184.005 967.454 184.005 971.945 Q184.005 974.075 183.195 975.996 Q182.408 977.894 180.301 980.487 Q179.723 981.158 176.621 984.376 Q173.519 987.57 167.871 993.334 Z\" fill=\"#000000\" fill-rule=\"evenodd\" fill-opacity=\"1\" /><path clip-path=\"url(#clip000)\" d=\"M 0 0 M174.607 914.098 L162.802 932.546 L174.607 932.546 L174.607 914.098 M173.38 910.023 L179.26 910.023 L179.26 932.546 L184.19 932.546 L184.19 936.435 L179.26 936.435 L179.26 944.583 L174.607 944.583 L174.607 936.435 L159.005 936.435 L159.005 931.921 L173.38 910.023 Z\" fill=\"#000000\" fill-rule=\"evenodd\" fill-opacity=\"1\" /><path clip-path=\"url(#clip000)\" d=\"M 0 0 M172.663 872.754 Q169.514 872.754 167.663 874.907 Q165.834 877.06 165.834 880.81 Q165.834 884.537 167.663 886.713 Q169.514 888.866 172.663 888.866 Q175.811 888.866 177.639 886.713 Q179.491 884.537 179.491 880.81 Q179.491 877.06 177.639 874.907 Q175.811 872.754 172.663 872.754 M181.945 858.102 L181.945 862.361 Q180.186 861.528 178.38 861.088 Q176.598 860.648 174.839 860.648 Q170.209 860.648 167.755 863.773 Q165.325 866.898 164.977 873.217 Q166.343 871.204 168.403 870.139 Q170.464 869.051 172.94 869.051 Q178.149 869.051 181.158 872.222 Q184.19 875.37 184.19 880.81 Q184.19 886.134 181.042 889.352 Q177.894 892.569 172.663 892.569 Q166.667 892.569 163.496 887.986 Q160.325 883.379 160.325 874.653 Q160.325 866.458 164.214 861.597 Q168.102 856.713 174.653 856.713 Q176.413 856.713 178.195 857.06 Q180.001 857.407 181.945 858.102 Z\" fill=\"#000000\" fill-rule=\"evenodd\" fill-opacity=\"1\" /><path clip-path=\"url(#clip000)\" d=\"M 0 0 M172.339 822.8 Q169.005 822.8 167.084 824.583 Q165.186 826.365 165.186 829.49 Q165.186 832.615 167.084 834.398 Q169.005 836.18 172.339 836.18 Q175.672 836.18 177.593 834.398 Q179.514 832.592 179.514 829.49 Q179.514 826.365 177.593 824.583 Q175.695 822.8 172.339 822.8 M167.663 820.81 Q164.653 820.069 162.964 818.009 Q161.297 815.949 161.297 812.986 Q161.297 808.842 164.237 806.435 Q167.2 804.027 172.339 804.027 Q177.501 804.027 180.44 806.435 Q183.38 808.842 183.38 812.986 Q183.38 815.949 181.69 818.009 Q180.024 820.069 177.038 820.81 Q180.417 821.597 182.292 823.888 Q184.19 826.18 184.19 829.49 Q184.19 834.513 181.112 837.198 Q178.056 839.884 172.339 839.884 Q166.621 839.884 163.542 837.198 Q160.487 834.513 160.487 829.49 Q160.487 826.18 162.385 823.888 Q164.283 821.597 167.663 820.81 M165.95 813.425 Q165.95 816.111 167.616 817.615 Q169.306 819.12 172.339 819.12 Q175.348 819.12 177.038 817.615 Q178.751 816.111 178.751 813.425 Q178.751 810.74 177.038 809.236 Q175.348 807.731 172.339 807.731 Q169.306 807.731 167.616 809.236 Q165.95 810.74 165.95 813.425 Z\" fill=\"#000000\" fill-rule=\"evenodd\" fill-opacity=\"1\" /><path clip-path=\"url(#clip000)\" d=\"M 0 0 M66.5128 1107.68 L84.3686 1107.68 L84.3686 1099.59 Q84.3686 1095.1 82.0451 1092.65 Q79.7217 1090.2 75.4248 1090.2 Q71.1598 1090.2 68.8363 1092.65 Q66.5128 1095.1 66.5128 1099.59 L66.5128 1107.68 M61.2293 1114.11 L61.2293 1099.59 Q61.2293 1091.6 64.8577 1087.53 Q68.4544 1083.42 75.4248 1083.42 Q82.4589 1083.42 86.0555 1087.53 Q89.6522 1091.6 89.6522 1099.59 L89.6522 1107.68 L108.749 1107.68 L108.749 1114.11 L61.2293 1114.11 Z\" fill=\"#000000\" fill-rule=\"evenodd\" fill-opacity=\"1\" /><path clip-path=\"url(#clip000)\" d=\"M 0 0 M89.4612 1046.88 L92.3258 1046.88 L92.3258 1073.81 Q98.3732 1073.43 101.556 1070.18 Q104.707 1066.9 104.707 1061.08 Q104.707 1057.7 103.88 1054.55 Q103.052 1051.37 101.397 1048.25 L106.935 1048.25 Q108.272 1051.4 108.972 1054.71 Q109.672 1058.02 109.672 1061.43 Q109.672 1069.96 104.707 1074.96 Q99.7418 1079.92 91.2754 1079.92 Q82.5226 1079.92 77.3982 1075.21 Q72.242 1070.47 72.242 1062.45 Q72.242 1055.25 76.8889 1051.08 Q81.5041 1046.88 89.4612 1046.88 M87.7425 1052.74 Q82.9363 1052.8 80.0718 1055.45 Q77.2072 1058.06 77.2072 1062.38 Q77.2072 1067.29 79.9763 1070.25 Q82.7454 1073.17 87.7743 1073.62 L87.7425 1052.74 Z\" fill=\"#000000\" fill-rule=\"evenodd\" fill-opacity=\"1\" /><path clip-path=\"url(#clip000)\" d=\"M 0 0 M62.9799 1031.48 L73.1013 1031.48 L73.1013 1019.42 L77.6528 1019.42 L77.6528 1031.48 L97.0046 1031.48 Q101.365 1031.48 102.606 1030.3 Q103.848 1029.09 103.848 1025.43 L103.848 1019.42 L108.749 1019.42 L108.749 1025.43 Q108.749 1032.21 106.235 1034.79 Q103.689 1037.37 97.0046 1037.37 L77.6528 1037.37 L77.6528 1041.66 L73.1013 1041.66 L73.1013 1037.37 L62.9799 1037.37 L62.9799 1031.48 Z\" fill=\"#000000\" fill-rule=\"evenodd\" fill-opacity=\"1\" /><path clip-path=\"url(#clip000)\" d=\"M 0 0 M90.8298 995.512 Q90.8298 1002.61 92.4531 1005.35 Q94.0763 1008.08 97.9912 1008.08 Q101.11 1008.08 102.956 1006.05 Q104.771 1003.98 104.771 1000.45 Q104.771 995.576 101.333 992.647 Q97.8639 989.687 92.1348 989.687 L90.8298 989.687 L90.8298 995.512 M88.4109 983.831 L108.749 983.831 L108.749 989.687 L103.338 989.687 Q106.585 991.693 108.145 994.684 Q109.672 997.676 109.672 1002.01 Q109.672 1007.48 106.617 1010.73 Q103.529 1013.94 98.3732 1013.94 Q92.3576 1013.94 89.3021 1009.93 Q86.2465 1005.89 86.2465 997.899 L86.2465 989.687 L85.6736 989.687 Q81.6314 989.687 79.4352 992.361 Q77.2072 995.003 77.2072 999.809 Q77.2072 1002.86 77.9393 1005.76 Q78.6713 1008.66 80.1354 1011.33 L74.7246 1011.33 Q73.4833 1008.12 72.8785 1005.09 Q72.242 1002.07 72.242 999.204 Q72.242 991.47 76.2524 987.65 Q80.2628 983.831 88.4109 983.831 Z\" fill=\"#000000\" fill-rule=\"evenodd\" fill-opacity=\"1\" /><path clip-path=\"url(#clip000)\" d=\"M 0 0 M59.2241 971.768 L59.2241 965.911 L108.749 965.911 L108.749 971.768 L59.2241 971.768 Z\" fill=\"#000000\" fill-rule=\"evenodd\" fill-opacity=\"1\" /><path clip-path=\"url(#clip000)\" d=\"M 0 0 M61.2293 953.403 L61.2293 946.973 L103.338 946.973 L103.338 923.834 L108.749 923.834 L108.749 953.403 L61.2293 953.403 Z\" fill=\"#000000\" fill-rule=\"evenodd\" fill-opacity=\"1\" /><path clip-path=\"url(#clip000)\" d=\"M 0 0 M89.4612 887.995 L92.3258 887.995 L92.3258 914.922 Q98.3732 914.54 101.556 911.294 Q104.707 908.015 104.707 902.191 Q104.707 898.817 103.88 895.666 Q103.052 892.483 101.397 889.364 L106.935 889.364 Q108.272 892.515 108.972 895.825 Q109.672 899.135 109.672 902.541 Q109.672 911.071 104.707 916.068 Q99.7418 921.033 91.2754 921.033 Q82.5226 921.033 77.3982 916.323 Q72.242 911.58 72.242 903.559 Q72.242 896.366 76.8889 892.197 Q81.5041 887.995 89.4612 887.995 M87.7425 893.852 Q82.9363 893.915 80.0718 896.557 Q77.2072 899.167 77.2072 903.496 Q77.2072 908.397 79.9763 911.357 Q82.7454 914.286 87.7743 914.731 L87.7425 893.852 Z\" fill=\"#000000\" fill-rule=\"evenodd\" fill-opacity=\"1\" /><path clip-path=\"url(#clip000)\" d=\"M 0 0 M87.2332 848.751 L108.749 848.751 L108.749 854.607 L87.4242 854.607 Q82.3634 854.607 79.849 856.58 Q77.3345 858.554 77.3345 862.501 Q77.3345 867.243 80.3582 869.98 Q83.3819 872.718 88.6018 872.718 L108.749 872.718 L108.749 878.606 L73.1013 878.606 L73.1013 872.718 L78.6395 872.718 Q75.4248 870.617 73.8334 867.784 Q72.242 864.92 72.242 861.196 Q72.242 855.053 76.0614 851.902 Q79.849 848.751 87.2332 848.751 Z\" fill=\"#000000\" fill-rule=\"evenodd\" fill-opacity=\"1\" /><path clip-path=\"url(#clip000)\" d=\"M 0 0 M90.5115 813.612 Q84.1458 813.612 80.6447 816.254 Q77.1436 818.864 77.1436 823.606 Q77.1436 828.317 80.6447 830.958 Q84.1458 833.568 90.5115 833.568 Q96.8454 833.568 100.347 830.958 Q103.848 828.317 103.848 823.606 Q103.848 818.864 100.347 816.254 Q96.8454 813.612 90.5115 813.612 M104.325 807.755 Q113.428 807.755 117.852 811.798 Q122.308 815.84 122.308 824.179 Q122.308 827.266 121.831 830.004 Q121.385 832.741 120.43 835.319 L114.733 835.319 Q116.134 832.741 116.802 830.226 Q117.47 827.712 117.47 825.102 Q117.47 819.341 114.447 816.477 Q111.455 813.612 105.375 813.612 L102.479 813.612 Q105.63 815.426 107.19 818.259 Q108.749 821.092 108.749 825.038 Q108.749 831.595 103.752 835.605 Q98.7551 839.616 90.5115 839.616 Q82.2361 839.616 77.239 835.605 Q72.242 831.595 72.242 825.038 Q72.242 821.092 73.8016 818.259 Q75.3612 815.426 78.5122 813.612 L73.1013 813.612 L73.1013 807.755 L104.325 807.755 Z\" fill=\"#000000\" fill-rule=\"evenodd\" fill-opacity=\"1\" /><path clip-path=\"url(#clip000)\" d=\"M 0 0 M62.9799 789.9 L73.1013 789.9 L73.1013 777.837 L77.6528 777.837 L77.6528 789.9 L97.0046 789.9 Q101.365 789.9 102.606 788.722 Q103.848 787.513 103.848 783.852 L103.848 777.837 L108.749 777.837 L108.749 783.852 Q108.749 790.632 106.235 793.21 Q103.689 795.788 97.0046 795.788 L77.6528 795.788 L77.6528 800.085 L73.1013 800.085 L73.1013 795.788 L62.9799 795.788 L62.9799 789.9 Z\" fill=\"#000000\" fill-rule=\"evenodd\" fill-opacity=\"1\" /><path clip-path=\"url(#clip000)\" d=\"M 0 0 M87.2332 740.502 L108.749 740.502 L108.749 746.358 L87.4242 746.358 Q82.3634 746.358 79.849 748.332 Q77.3345 750.305 77.3345 754.252 Q77.3345 758.994 80.3582 761.731 Q83.3819 764.469 88.6018 764.469 L108.749 764.469 L108.749 770.357 L59.2241 770.357 L59.2241 764.469 L78.6395 764.469 Q75.4248 762.368 73.8334 759.535 Q72.242 756.671 72.242 752.947 Q72.242 746.804 76.0614 743.653 Q79.849 740.502 87.2332 740.502 Z\" fill=\"#000000\" fill-rule=\"evenodd\" fill-opacity=\"1\" /><circle clip-path=\"url(#clip0010)\" cx=\"337.575\" cy=\"995.795\" r=\"14\" fill=\"#3d5ea8\" fill-rule=\"evenodd\" fill-opacity=\"0.4\" stroke=\"#000000\" stroke-opacity=\"0.4\" stroke-width=\"0\"/>\n",
       "<circle clip-path=\"url(#clip0010)\" cx=\"320.149\" cy=\"995.795\" r=\"14\" fill=\"#3d5ea8\" fill-rule=\"evenodd\" fill-opacity=\"0.4\" stroke=\"#000000\" stroke-opacity=\"0.4\" stroke-width=\"0\"/>\n",
       "<circle clip-path=\"url(#clip0010)\" cx=\"302.722\" cy=\"998.429\" r=\"14\" fill=\"#3d5ea8\" fill-rule=\"evenodd\" fill-opacity=\"0.4\" stroke=\"#000000\" stroke-opacity=\"0.4\" stroke-width=\"0\"/>\n",
       "<circle clip-path=\"url(#clip0010)\" cx=\"294.009\" cy=\"993.16\" r=\"14\" fill=\"#3d5ea8\" fill-rule=\"evenodd\" fill-opacity=\"0.4\" stroke=\"#000000\" stroke-opacity=\"0.4\" stroke-width=\"0\"/>\n",
       "<circle clip-path=\"url(#clip0010)\" cx=\"328.862\" cy=\"995.795\" r=\"14\" fill=\"#3d5ea8\" fill-rule=\"evenodd\" fill-opacity=\"0.4\" stroke=\"#000000\" stroke-opacity=\"0.4\" stroke-width=\"0\"/>\n",
       "<circle clip-path=\"url(#clip0010)\" cx=\"363.715\" cy=\"987.892\" r=\"14\" fill=\"#3d5ea8\" fill-rule=\"evenodd\" fill-opacity=\"0.4\" stroke=\"#000000\" stroke-opacity=\"0.4\" stroke-width=\"0\"/>\n",
       "<circle clip-path=\"url(#clip0010)\" cx=\"294.009\" cy=\"995.795\" r=\"14\" fill=\"#3d5ea8\" fill-rule=\"evenodd\" fill-opacity=\"0.4\" stroke=\"#000000\" stroke-opacity=\"0.4\" stroke-width=\"0\"/>\n",
       "<circle clip-path=\"url(#clip0010)\" cx=\"328.862\" cy=\"993.16\" r=\"14\" fill=\"#3d5ea8\" fill-rule=\"evenodd\" fill-opacity=\"0.4\" stroke=\"#000000\" stroke-opacity=\"0.4\" stroke-width=\"0\"/>\n",
       "<circle clip-path=\"url(#clip0010)\" cx=\"276.582\" cy=\"995.795\" r=\"14\" fill=\"#3d5ea8\" fill-rule=\"evenodd\" fill-opacity=\"0.4\" stroke=\"#000000\" stroke-opacity=\"0.4\" stroke-width=\"0\"/>\n",
       "<circle clip-path=\"url(#clip0010)\" cx=\"320.149\" cy=\"993.16\" r=\"14\" fill=\"#3d5ea8\" fill-rule=\"evenodd\" fill-opacity=\"0.4\" stroke=\"#000000\" stroke-opacity=\"0.4\" stroke-width=\"0\"/>\n",
       "<circle clip-path=\"url(#clip0010)\" cx=\"363.715\" cy=\"993.16\" r=\"14\" fill=\"#3d5ea8\" fill-rule=\"evenodd\" fill-opacity=\"0.4\" stroke=\"#000000\" stroke-opacity=\"0.4\" stroke-width=\"0\"/>\n",
       "<circle clip-path=\"url(#clip0010)\" cx=\"311.435\" cy=\"990.526\" r=\"14\" fill=\"#3d5ea8\" fill-rule=\"evenodd\" fill-opacity=\"0.4\" stroke=\"#000000\" stroke-opacity=\"0.4\" stroke-width=\"0\"/>\n",
       "<circle clip-path=\"url(#clip0010)\" cx=\"311.435\" cy=\"995.795\" r=\"14\" fill=\"#3d5ea8\" fill-rule=\"evenodd\" fill-opacity=\"0.4\" stroke=\"#000000\" stroke-opacity=\"0.4\" stroke-width=\"0\"/>\n",
       "<circle clip-path=\"url(#clip0010)\" cx=\"267.869\" cy=\"1003.7\" r=\"14\" fill=\"#3d5ea8\" fill-rule=\"evenodd\" fill-opacity=\"0.4\" stroke=\"#000000\" stroke-opacity=\"0.4\" stroke-width=\"0\"/>\n",
       "<circle clip-path=\"url(#clip0010)\" cx=\"398.568\" cy=\"1001.06\" r=\"14\" fill=\"#3d5ea8\" fill-rule=\"evenodd\" fill-opacity=\"0.4\" stroke=\"#000000\" stroke-opacity=\"0.4\" stroke-width=\"0\"/>\n",
       "<circle clip-path=\"url(#clip0010)\" cx=\"389.855\" cy=\"993.16\" r=\"14\" fill=\"#3d5ea8\" fill-rule=\"evenodd\" fill-opacity=\"0.4\" stroke=\"#000000\" stroke-opacity=\"0.4\" stroke-width=\"0\"/>\n",
       "<circle clip-path=\"url(#clip0010)\" cx=\"363.715\" cy=\"998.429\" r=\"14\" fill=\"#3d5ea8\" fill-rule=\"evenodd\" fill-opacity=\"0.4\" stroke=\"#000000\" stroke-opacity=\"0.4\" stroke-width=\"0\"/>\n",
       "<circle clip-path=\"url(#clip0010)\" cx=\"337.575\" cy=\"995.795\" r=\"14\" fill=\"#3d5ea8\" fill-rule=\"evenodd\" fill-opacity=\"0.4\" stroke=\"#000000\" stroke-opacity=\"0.4\" stroke-width=\"0\"/>\n",
       "<circle clip-path=\"url(#clip0010)\" cx=\"389.855\" cy=\"987.892\" r=\"14\" fill=\"#3d5ea8\" fill-rule=\"evenodd\" fill-opacity=\"0.4\" stroke=\"#000000\" stroke-opacity=\"0.4\" stroke-width=\"0\"/>\n",
       "<circle clip-path=\"url(#clip0010)\" cx=\"337.575\" cy=\"993.16\" r=\"14\" fill=\"#3d5ea8\" fill-rule=\"evenodd\" fill-opacity=\"0.4\" stroke=\"#000000\" stroke-opacity=\"0.4\" stroke-width=\"0\"/>\n",
       "<circle clip-path=\"url(#clip0010)\" cx=\"363.715\" cy=\"987.892\" r=\"14\" fill=\"#3d5ea8\" fill-rule=\"evenodd\" fill-opacity=\"0.4\" stroke=\"#000000\" stroke-opacity=\"0.4\" stroke-width=\"0\"/>\n",
       "<circle clip-path=\"url(#clip0010)\" cx=\"337.575\" cy=\"993.16\" r=\"14\" fill=\"#3d5ea8\" fill-rule=\"evenodd\" fill-opacity=\"0.4\" stroke=\"#000000\" stroke-opacity=\"0.4\" stroke-width=\"0\"/>\n",
       "<circle clip-path=\"url(#clip0010)\" cx=\"294.009\" cy=\"1006.33\" r=\"14\" fill=\"#3d5ea8\" fill-rule=\"evenodd\" fill-opacity=\"0.4\" stroke=\"#000000\" stroke-opacity=\"0.4\" stroke-width=\"0\"/>\n",
       "<circle clip-path=\"url(#clip0010)\" cx=\"337.575\" cy=\"987.892\" r=\"14\" fill=\"#3d5ea8\" fill-rule=\"evenodd\" fill-opacity=\"0.4\" stroke=\"#000000\" stroke-opacity=\"0.4\" stroke-width=\"0\"/>\n",
       "<circle clip-path=\"url(#clip0010)\" cx=\"311.435\" cy=\"982.623\" r=\"14\" fill=\"#3d5ea8\" fill-rule=\"evenodd\" fill-opacity=\"0.4\" stroke=\"#000000\" stroke-opacity=\"0.4\" stroke-width=\"0\"/>\n",
       "<circle clip-path=\"url(#clip0010)\" cx=\"328.862\" cy=\"990.526\" r=\"14\" fill=\"#3d5ea8\" fill-rule=\"evenodd\" fill-opacity=\"0.4\" stroke=\"#000000\" stroke-opacity=\"0.4\" stroke-width=\"0\"/>\n",
       "<circle clip-path=\"url(#clip0010)\" cx=\"328.862\" cy=\"990.526\" r=\"14\" fill=\"#3d5ea8\" fill-rule=\"evenodd\" fill-opacity=\"0.4\" stroke=\"#000000\" stroke-opacity=\"0.4\" stroke-width=\"0\"/>\n",
       "<circle clip-path=\"url(#clip0010)\" cx=\"346.288\" cy=\"993.16\" r=\"14\" fill=\"#3d5ea8\" fill-rule=\"evenodd\" fill-opacity=\"0.4\" stroke=\"#000000\" stroke-opacity=\"0.4\" stroke-width=\"0\"/>\n",
       "<circle clip-path=\"url(#clip0010)\" cx=\"346.288\" cy=\"995.795\" r=\"14\" fill=\"#3d5ea8\" fill-rule=\"evenodd\" fill-opacity=\"0.4\" stroke=\"#000000\" stroke-opacity=\"0.4\" stroke-width=\"0\"/>\n",
       "<circle clip-path=\"url(#clip0010)\" cx=\"302.722\" cy=\"990.526\" r=\"14\" fill=\"#3d5ea8\" fill-rule=\"evenodd\" fill-opacity=\"0.4\" stroke=\"#000000\" stroke-opacity=\"0.4\" stroke-width=\"0\"/>\n",
       "<circle clip-path=\"url(#clip0010)\" cx=\"311.435\" cy=\"990.526\" r=\"14\" fill=\"#3d5ea8\" fill-rule=\"evenodd\" fill-opacity=\"0.4\" stroke=\"#000000\" stroke-opacity=\"0.4\" stroke-width=\"0\"/>\n",
       "<circle clip-path=\"url(#clip0010)\" cx=\"363.715\" cy=\"993.16\" r=\"14\" fill=\"#3d5ea8\" fill-rule=\"evenodd\" fill-opacity=\"0.4\" stroke=\"#000000\" stroke-opacity=\"0.4\" stroke-width=\"0\"/>\n",
       "<circle clip-path=\"url(#clip0010)\" cx=\"346.288\" cy=\"993.16\" r=\"14\" fill=\"#3d5ea8\" fill-rule=\"evenodd\" fill-opacity=\"0.4\" stroke=\"#000000\" stroke-opacity=\"0.4\" stroke-width=\"0\"/>\n",
       "<circle clip-path=\"url(#clip0010)\" cx=\"372.428\" cy=\"995.795\" r=\"14\" fill=\"#3d5ea8\" fill-rule=\"evenodd\" fill-opacity=\"0.4\" stroke=\"#000000\" stroke-opacity=\"0.4\" stroke-width=\"0\"/>\n",
       "<circle clip-path=\"url(#clip0010)\" cx=\"320.149\" cy=\"993.16\" r=\"14\" fill=\"#3d5ea8\" fill-rule=\"evenodd\" fill-opacity=\"0.4\" stroke=\"#000000\" stroke-opacity=\"0.4\" stroke-width=\"0\"/>\n",
       "<circle clip-path=\"url(#clip0010)\" cx=\"328.862\" cy=\"1001.06\" r=\"14\" fill=\"#3d5ea8\" fill-rule=\"evenodd\" fill-opacity=\"0.4\" stroke=\"#000000\" stroke-opacity=\"0.4\" stroke-width=\"0\"/>\n",
       "<circle clip-path=\"url(#clip0010)\" cx=\"372.428\" cy=\"998.429\" r=\"14\" fill=\"#3d5ea8\" fill-rule=\"evenodd\" fill-opacity=\"0.4\" stroke=\"#000000\" stroke-opacity=\"0.4\" stroke-width=\"0\"/>\n",
       "<circle clip-path=\"url(#clip0010)\" cx=\"320.149\" cy=\"995.795\" r=\"14\" fill=\"#3d5ea8\" fill-rule=\"evenodd\" fill-opacity=\"0.4\" stroke=\"#000000\" stroke-opacity=\"0.4\" stroke-width=\"0\"/>\n",
       "<circle clip-path=\"url(#clip0010)\" cx=\"276.582\" cy=\"998.429\" r=\"14\" fill=\"#3d5ea8\" fill-rule=\"evenodd\" fill-opacity=\"0.4\" stroke=\"#000000\" stroke-opacity=\"0.4\" stroke-width=\"0\"/>\n",
       "<circle clip-path=\"url(#clip0010)\" cx=\"337.575\" cy=\"993.16\" r=\"14\" fill=\"#3d5ea8\" fill-rule=\"evenodd\" fill-opacity=\"0.4\" stroke=\"#000000\" stroke-opacity=\"0.4\" stroke-width=\"0\"/>\n",
       "<circle clip-path=\"url(#clip0010)\" cx=\"328.862\" cy=\"998.429\" r=\"14\" fill=\"#3d5ea8\" fill-rule=\"evenodd\" fill-opacity=\"0.4\" stroke=\"#000000\" stroke-opacity=\"0.4\" stroke-width=\"0\"/>\n",
       "<circle clip-path=\"url(#clip0010)\" cx=\"285.296\" cy=\"998.429\" r=\"14\" fill=\"#3d5ea8\" fill-rule=\"evenodd\" fill-opacity=\"0.4\" stroke=\"#000000\" stroke-opacity=\"0.4\" stroke-width=\"0\"/>\n",
       "<circle clip-path=\"url(#clip0010)\" cx=\"276.582\" cy=\"998.429\" r=\"14\" fill=\"#3d5ea8\" fill-rule=\"evenodd\" fill-opacity=\"0.4\" stroke=\"#000000\" stroke-opacity=\"0.4\" stroke-width=\"0\"/>\n",
       "<circle clip-path=\"url(#clip0010)\" cx=\"328.862\" cy=\"990.526\" r=\"14\" fill=\"#3d5ea8\" fill-rule=\"evenodd\" fill-opacity=\"0.4\" stroke=\"#000000\" stroke-opacity=\"0.4\" stroke-width=\"0\"/>\n",
       "<circle clip-path=\"url(#clip0010)\" cx=\"337.575\" cy=\"982.623\" r=\"14\" fill=\"#3d5ea8\" fill-rule=\"evenodd\" fill-opacity=\"0.4\" stroke=\"#000000\" stroke-opacity=\"0.4\" stroke-width=\"0\"/>\n",
       "<circle clip-path=\"url(#clip0010)\" cx=\"311.435\" cy=\"995.795\" r=\"14\" fill=\"#3d5ea8\" fill-rule=\"evenodd\" fill-opacity=\"0.4\" stroke=\"#000000\" stroke-opacity=\"0.4\" stroke-width=\"0\"/>\n",
       "<circle clip-path=\"url(#clip0010)\" cx=\"337.575\" cy=\"990.526\" r=\"14\" fill=\"#3d5ea8\" fill-rule=\"evenodd\" fill-opacity=\"0.4\" stroke=\"#000000\" stroke-opacity=\"0.4\" stroke-width=\"0\"/>\n",
       "<circle clip-path=\"url(#clip0010)\" cx=\"294.009\" cy=\"995.795\" r=\"14\" fill=\"#3d5ea8\" fill-rule=\"evenodd\" fill-opacity=\"0.4\" stroke=\"#000000\" stroke-opacity=\"0.4\" stroke-width=\"0\"/>\n",
       "<circle clip-path=\"url(#clip0010)\" cx=\"355.002\" cy=\"993.16\" r=\"14\" fill=\"#3d5ea8\" fill-rule=\"evenodd\" fill-opacity=\"0.4\" stroke=\"#000000\" stroke-opacity=\"0.4\" stroke-width=\"0\"/>\n",
       "<circle clip-path=\"url(#clip0010)\" cx=\"328.862\" cy=\"995.795\" r=\"14\" fill=\"#3d5ea8\" fill-rule=\"evenodd\" fill-opacity=\"0.4\" stroke=\"#000000\" stroke-opacity=\"0.4\" stroke-width=\"0\"/>\n",
       "<circle clip-path=\"url(#clip0010)\" cx=\"503.127\" cy=\"908.864\" r=\"14\" fill=\"#3d5ea8\" fill-rule=\"evenodd\" fill-opacity=\"0.4\" stroke=\"#000000\" stroke-opacity=\"0.4\" stroke-width=\"0\"/>\n",
       "<circle clip-path=\"url(#clip0010)\" cx=\"450.847\" cy=\"914.132\" r=\"14\" fill=\"#3d5ea8\" fill-rule=\"evenodd\" fill-opacity=\"0.4\" stroke=\"#000000\" stroke-opacity=\"0.4\" stroke-width=\"0\"/>\n",
       "<circle clip-path=\"url(#clip0010)\" cx=\"494.414\" cy=\"903.595\" r=\"14\" fill=\"#3d5ea8\" fill-rule=\"evenodd\" fill-opacity=\"0.4\" stroke=\"#000000\" stroke-opacity=\"0.4\" stroke-width=\"0\"/>\n",
       "<circle clip-path=\"url(#clip0010)\" cx=\"372.428\" cy=\"927.303\" r=\"14\" fill=\"#3d5ea8\" fill-rule=\"evenodd\" fill-opacity=\"0.4\" stroke=\"#000000\" stroke-opacity=\"0.4\" stroke-width=\"0\"/>\n",
       "<circle clip-path=\"url(#clip0010)\" cx=\"459.561\" cy=\"911.498\" r=\"14\" fill=\"#3d5ea8\" fill-rule=\"evenodd\" fill-opacity=\"0.4\" stroke=\"#000000\" stroke-opacity=\"0.4\" stroke-width=\"0\"/>\n",
       "<circle clip-path=\"url(#clip0010)\" cx=\"389.855\" cy=\"914.132\" r=\"14\" fill=\"#3d5ea8\" fill-rule=\"evenodd\" fill-opacity=\"0.4\" stroke=\"#000000\" stroke-opacity=\"0.4\" stroke-width=\"0\"/>\n",
       "<circle clip-path=\"url(#clip0010)\" cx=\"442.134\" cy=\"908.864\" r=\"14\" fill=\"#3d5ea8\" fill-rule=\"evenodd\" fill-opacity=\"0.4\" stroke=\"#000000\" stroke-opacity=\"0.4\" stroke-width=\"0\"/>\n",
       "<circle clip-path=\"url(#clip0010)\" cx=\"320.149\" cy=\"945.743\" r=\"14\" fill=\"#3d5ea8\" fill-rule=\"evenodd\" fill-opacity=\"0.4\" stroke=\"#000000\" stroke-opacity=\"0.4\" stroke-width=\"0\"/>\n",
       "<circle clip-path=\"url(#clip0010)\" cx=\"468.274\" cy=\"911.498\" r=\"14\" fill=\"#3d5ea8\" fill-rule=\"evenodd\" fill-opacity=\"0.4\" stroke=\"#000000\" stroke-opacity=\"0.4\" stroke-width=\"0\"/>\n",
       "<circle clip-path=\"url(#clip0010)\" cx=\"346.288\" cy=\"929.938\" r=\"14\" fill=\"#3d5ea8\" fill-rule=\"evenodd\" fill-opacity=\"0.4\" stroke=\"#000000\" stroke-opacity=\"0.4\" stroke-width=\"0\"/>\n",
       "<circle clip-path=\"url(#clip0010)\" cx=\"328.862\" cy=\"940.475\" r=\"14\" fill=\"#3d5ea8\" fill-rule=\"evenodd\" fill-opacity=\"0.4\" stroke=\"#000000\" stroke-opacity=\"0.4\" stroke-width=\"0\"/>\n",
       "<circle clip-path=\"url(#clip0010)\" cx=\"407.281\" cy=\"922.035\" r=\"14\" fill=\"#3d5ea8\" fill-rule=\"evenodd\" fill-opacity=\"0.4\" stroke=\"#000000\" stroke-opacity=\"0.4\" stroke-width=\"0\"/>\n",
       "<circle clip-path=\"url(#clip0010)\" cx=\"415.994\" cy=\"927.303\" r=\"14\" fill=\"#3d5ea8\" fill-rule=\"evenodd\" fill-opacity=\"0.4\" stroke=\"#000000\" stroke-opacity=\"0.4\" stroke-width=\"0\"/>\n",
       "<circle clip-path=\"url(#clip0010)\" cx=\"424.708\" cy=\"908.864\" r=\"14\" fill=\"#3d5ea8\" fill-rule=\"evenodd\" fill-opacity=\"0.4\" stroke=\"#000000\" stroke-opacity=\"0.4\" stroke-width=\"0\"/>\n",
       "<circle clip-path=\"url(#clip0010)\" cx=\"381.141\" cy=\"937.841\" r=\"14\" fill=\"#3d5ea8\" fill-rule=\"evenodd\" fill-opacity=\"0.4\" stroke=\"#000000\" stroke-opacity=\"0.4\" stroke-width=\"0\"/>\n",
       "<circle clip-path=\"url(#clip0010)\" cx=\"476.987\" cy=\"916.766\" r=\"14\" fill=\"#3d5ea8\" fill-rule=\"evenodd\" fill-opacity=\"0.4\" stroke=\"#000000\" stroke-opacity=\"0.4\" stroke-width=\"0\"/>\n",
       "<circle clip-path=\"url(#clip0010)\" cx=\"381.141\" cy=\"914.132\" r=\"14\" fill=\"#3d5ea8\" fill-rule=\"evenodd\" fill-opacity=\"0.4\" stroke=\"#000000\" stroke-opacity=\"0.4\" stroke-width=\"0\"/>\n",
       "<circle clip-path=\"url(#clip0010)\" cx=\"398.568\" cy=\"924.669\" r=\"14\" fill=\"#3d5ea8\" fill-rule=\"evenodd\" fill-opacity=\"0.4\" stroke=\"#000000\" stroke-opacity=\"0.4\" stroke-width=\"0\"/>\n",
       "<circle clip-path=\"url(#clip0010)\" cx=\"433.421\" cy=\"914.132\" r=\"14\" fill=\"#3d5ea8\" fill-rule=\"evenodd\" fill-opacity=\"0.4\" stroke=\"#000000\" stroke-opacity=\"0.4\" stroke-width=\"0\"/>\n",
       "<circle clip-path=\"url(#clip0010)\" cx=\"381.141\" cy=\"929.938\" r=\"14\" fill=\"#3d5ea8\" fill-rule=\"evenodd\" fill-opacity=\"0.4\" stroke=\"#000000\" stroke-opacity=\"0.4\" stroke-width=\"0\"/>\n",
       "<circle clip-path=\"url(#clip0010)\" cx=\"407.281\" cy=\"906.229\" r=\"14\" fill=\"#3d5ea8\" fill-rule=\"evenodd\" fill-opacity=\"0.4\" stroke=\"#000000\" stroke-opacity=\"0.4\" stroke-width=\"0\"/>\n",
       "<circle clip-path=\"url(#clip0010)\" cx=\"424.708\" cy=\"927.303\" r=\"14\" fill=\"#3d5ea8\" fill-rule=\"evenodd\" fill-opacity=\"0.4\" stroke=\"#000000\" stroke-opacity=\"0.4\" stroke-width=\"0\"/>\n",
       "<circle clip-path=\"url(#clip0010)\" cx=\"442.134\" cy=\"903.595\" r=\"14\" fill=\"#3d5ea8\" fill-rule=\"evenodd\" fill-opacity=\"0.4\" stroke=\"#000000\" stroke-opacity=\"0.4\" stroke-width=\"0\"/>\n",
       "<circle clip-path=\"url(#clip0010)\" cx=\"424.708\" cy=\"908.864\" r=\"14\" fill=\"#3d5ea8\" fill-rule=\"evenodd\" fill-opacity=\"0.4\" stroke=\"#000000\" stroke-opacity=\"0.4\" stroke-width=\"0\"/>\n",
       "<circle clip-path=\"url(#clip0010)\" cx=\"450.847\" cy=\"919.401\" r=\"14\" fill=\"#3d5ea8\" fill-rule=\"evenodd\" fill-opacity=\"0.4\" stroke=\"#000000\" stroke-opacity=\"0.4\" stroke-width=\"0\"/>\n",
       "<circle clip-path=\"url(#clip0010)\" cx=\"468.274\" cy=\"916.766\" r=\"14\" fill=\"#3d5ea8\" fill-rule=\"evenodd\" fill-opacity=\"0.4\" stroke=\"#000000\" stroke-opacity=\"0.4\" stroke-width=\"0\"/>\n",
       "<circle clip-path=\"url(#clip0010)\" cx=\"485.7\" cy=\"906.229\" r=\"14\" fill=\"#3d5ea8\" fill-rule=\"evenodd\" fill-opacity=\"0.4\" stroke=\"#000000\" stroke-opacity=\"0.4\" stroke-width=\"0\"/>\n",
       "<circle clip-path=\"url(#clip0010)\" cx=\"476.987\" cy=\"900.961\" r=\"14\" fill=\"#3d5ea8\" fill-rule=\"evenodd\" fill-opacity=\"0.4\" stroke=\"#000000\" stroke-opacity=\"0.4\" stroke-width=\"0\"/>\n",
       "<circle clip-path=\"url(#clip0010)\" cx=\"415.994\" cy=\"914.132\" r=\"14\" fill=\"#3d5ea8\" fill-rule=\"evenodd\" fill-opacity=\"0.4\" stroke=\"#000000\" stroke-opacity=\"0.4\" stroke-width=\"0\"/>\n",
       "<circle clip-path=\"url(#clip0010)\" cx=\"389.855\" cy=\"940.475\" r=\"14\" fill=\"#3d5ea8\" fill-rule=\"evenodd\" fill-opacity=\"0.4\" stroke=\"#000000\" stroke-opacity=\"0.4\" stroke-width=\"0\"/>\n",
       "<circle clip-path=\"url(#clip0010)\" cx=\"372.428\" cy=\"932.572\" r=\"14\" fill=\"#3d5ea8\" fill-rule=\"evenodd\" fill-opacity=\"0.4\" stroke=\"#000000\" stroke-opacity=\"0.4\" stroke-width=\"0\"/>\n",
       "<circle clip-path=\"url(#clip0010)\" cx=\"372.428\" cy=\"935.206\" r=\"14\" fill=\"#3d5ea8\" fill-rule=\"evenodd\" fill-opacity=\"0.4\" stroke=\"#000000\" stroke-opacity=\"0.4\" stroke-width=\"0\"/>\n",
       "<circle clip-path=\"url(#clip0010)\" cx=\"398.568\" cy=\"929.938\" r=\"14\" fill=\"#3d5ea8\" fill-rule=\"evenodd\" fill-opacity=\"0.4\" stroke=\"#000000\" stroke-opacity=\"0.4\" stroke-width=\"0\"/>\n",
       "<circle clip-path=\"url(#clip0010)\" cx=\"415.994\" cy=\"898.326\" r=\"14\" fill=\"#3d5ea8\" fill-rule=\"evenodd\" fill-opacity=\"0.4\" stroke=\"#000000\" stroke-opacity=\"0.4\" stroke-width=\"0\"/>\n",
       "<circle clip-path=\"url(#clip0010)\" cx=\"363.715\" cy=\"914.132\" r=\"14\" fill=\"#3d5ea8\" fill-rule=\"evenodd\" fill-opacity=\"0.4\" stroke=\"#000000\" stroke-opacity=\"0.4\" stroke-width=\"0\"/>\n",
       "<circle clip-path=\"url(#clip0010)\" cx=\"415.994\" cy=\"914.132\" r=\"14\" fill=\"#3d5ea8\" fill-rule=\"evenodd\" fill-opacity=\"0.4\" stroke=\"#000000\" stroke-opacity=\"0.4\" stroke-width=\"0\"/>\n",
       "<circle clip-path=\"url(#clip0010)\" cx=\"476.987\" cy=\"908.864\" r=\"14\" fill=\"#3d5ea8\" fill-rule=\"evenodd\" fill-opacity=\"0.4\" stroke=\"#000000\" stroke-opacity=\"0.4\" stroke-width=\"0\"/>\n",
       "<circle clip-path=\"url(#clip0010)\" cx=\"442.134\" cy=\"916.766\" r=\"14\" fill=\"#3d5ea8\" fill-rule=\"evenodd\" fill-opacity=\"0.4\" stroke=\"#000000\" stroke-opacity=\"0.4\" stroke-width=\"0\"/>\n",
       "<circle clip-path=\"url(#clip0010)\" cx=\"381.141\" cy=\"924.669\" r=\"14\" fill=\"#3d5ea8\" fill-rule=\"evenodd\" fill-opacity=\"0.4\" stroke=\"#000000\" stroke-opacity=\"0.4\" stroke-width=\"0\"/>\n",
       "<circle clip-path=\"url(#clip0010)\" cx=\"372.428\" cy=\"927.303\" r=\"14\" fill=\"#3d5ea8\" fill-rule=\"evenodd\" fill-opacity=\"0.4\" stroke=\"#000000\" stroke-opacity=\"0.4\" stroke-width=\"0\"/>\n",
       "<circle clip-path=\"url(#clip0010)\" cx=\"372.428\" cy=\"916.766\" r=\"14\" fill=\"#3d5ea8\" fill-rule=\"evenodd\" fill-opacity=\"0.4\" stroke=\"#000000\" stroke-opacity=\"0.4\" stroke-width=\"0\"/>\n",
       "<circle clip-path=\"url(#clip0010)\" cx=\"424.708\" cy=\"911.498\" r=\"14\" fill=\"#3d5ea8\" fill-rule=\"evenodd\" fill-opacity=\"0.4\" stroke=\"#000000\" stroke-opacity=\"0.4\" stroke-width=\"0\"/>\n",
       "<circle clip-path=\"url(#clip0010)\" cx=\"398.568\" cy=\"927.303\" r=\"14\" fill=\"#3d5ea8\" fill-rule=\"evenodd\" fill-opacity=\"0.4\" stroke=\"#000000\" stroke-opacity=\"0.4\" stroke-width=\"0\"/>\n",
       "<circle clip-path=\"url(#clip0010)\" cx=\"328.862\" cy=\"945.743\" r=\"14\" fill=\"#3d5ea8\" fill-rule=\"evenodd\" fill-opacity=\"0.4\" stroke=\"#000000\" stroke-opacity=\"0.4\" stroke-width=\"0\"/>\n",
       "<circle clip-path=\"url(#clip0010)\" cx=\"381.141\" cy=\"922.035\" r=\"14\" fill=\"#3d5ea8\" fill-rule=\"evenodd\" fill-opacity=\"0.4\" stroke=\"#000000\" stroke-opacity=\"0.4\" stroke-width=\"0\"/>\n",
       "<circle clip-path=\"url(#clip0010)\" cx=\"389.855\" cy=\"922.035\" r=\"14\" fill=\"#3d5ea8\" fill-rule=\"evenodd\" fill-opacity=\"0.4\" stroke=\"#000000\" stroke-opacity=\"0.4\" stroke-width=\"0\"/>\n",
       "<circle clip-path=\"url(#clip0010)\" cx=\"389.855\" cy=\"922.035\" r=\"14\" fill=\"#3d5ea8\" fill-rule=\"evenodd\" fill-opacity=\"0.4\" stroke=\"#000000\" stroke-opacity=\"0.4\" stroke-width=\"0\"/>\n",
       "<circle clip-path=\"url(#clip0010)\" cx=\"433.421\" cy=\"919.401\" r=\"14\" fill=\"#3d5ea8\" fill-rule=\"evenodd\" fill-opacity=\"0.4\" stroke=\"#000000\" stroke-opacity=\"0.4\" stroke-width=\"0\"/>\n",
       "<circle clip-path=\"url(#clip0010)\" cx=\"337.575\" cy=\"953.646\" r=\"14\" fill=\"#3d5ea8\" fill-rule=\"evenodd\" fill-opacity=\"0.4\" stroke=\"#000000\" stroke-opacity=\"0.4\" stroke-width=\"0\"/>\n",
       "<circle clip-path=\"url(#clip0010)\" cx=\"389.855\" cy=\"924.669\" r=\"14\" fill=\"#3d5ea8\" fill-rule=\"evenodd\" fill-opacity=\"0.4\" stroke=\"#000000\" stroke-opacity=\"0.4\" stroke-width=\"0\"/>\n",
       "<circle clip-path=\"url(#clip0010)\" cx=\"442.134\" cy=\"874.618\" r=\"14\" fill=\"#3d5ea8\" fill-rule=\"evenodd\" fill-opacity=\"0.4\" stroke=\"#000000\" stroke-opacity=\"0.4\" stroke-width=\"0\"/>\n",
       "<circle clip-path=\"url(#clip0010)\" cx=\"398.568\" cy=\"898.326\" r=\"14\" fill=\"#3d5ea8\" fill-rule=\"evenodd\" fill-opacity=\"0.4\" stroke=\"#000000\" stroke-opacity=\"0.4\" stroke-width=\"0\"/>\n",
       "<circle clip-path=\"url(#clip0010)\" cx=\"511.84\" cy=\"877.252\" r=\"14\" fill=\"#3d5ea8\" fill-rule=\"evenodd\" fill-opacity=\"0.4\" stroke=\"#000000\" stroke-opacity=\"0.4\" stroke-width=\"0\"/>\n",
       "<circle clip-path=\"url(#clip0010)\" cx=\"442.134\" cy=\"885.155\" r=\"14\" fill=\"#3d5ea8\" fill-rule=\"evenodd\" fill-opacity=\"0.4\" stroke=\"#000000\" stroke-opacity=\"0.4\" stroke-width=\"0\"/>\n",
       "<circle clip-path=\"url(#clip0010)\" cx=\"459.561\" cy=\"879.886\" r=\"14\" fill=\"#3d5ea8\" fill-rule=\"evenodd\" fill-opacity=\"0.4\" stroke=\"#000000\" stroke-opacity=\"0.4\" stroke-width=\"0\"/>\n",
       "<circle clip-path=\"url(#clip0010)\" cx=\"555.406\" cy=\"858.812\" r=\"14\" fill=\"#3d5ea8\" fill-rule=\"evenodd\" fill-opacity=\"0.4\" stroke=\"#000000\" stroke-opacity=\"0.4\" stroke-width=\"0\"/>\n",
       "<circle clip-path=\"url(#clip0010)\" cx=\"320.149\" cy=\"914.132\" r=\"14\" fill=\"#3d5ea8\" fill-rule=\"evenodd\" fill-opacity=\"0.4\" stroke=\"#000000\" stroke-opacity=\"0.4\" stroke-width=\"0\"/>\n",
       "<circle clip-path=\"url(#clip0010)\" cx=\"529.266\" cy=\"866.715\" r=\"14\" fill=\"#3d5ea8\" fill-rule=\"evenodd\" fill-opacity=\"0.4\" stroke=\"#000000\" stroke-opacity=\"0.4\" stroke-width=\"0\"/>\n",
       "<circle clip-path=\"url(#clip0010)\" cx=\"476.987\" cy=\"879.886\" r=\"14\" fill=\"#3d5ea8\" fill-rule=\"evenodd\" fill-opacity=\"0.4\" stroke=\"#000000\" stroke-opacity=\"0.4\" stroke-width=\"0\"/>\n",
       "<circle clip-path=\"url(#clip0010)\" cx=\"520.553\" cy=\"871.984\" r=\"14\" fill=\"#3d5ea8\" fill-rule=\"evenodd\" fill-opacity=\"0.4\" stroke=\"#000000\" stroke-opacity=\"0.4\" stroke-width=\"0\"/>\n",
       "<circle clip-path=\"url(#clip0010)\" cx=\"459.561\" cy=\"898.326\" r=\"14\" fill=\"#3d5ea8\" fill-rule=\"evenodd\" fill-opacity=\"0.4\" stroke=\"#000000\" stroke-opacity=\"0.4\" stroke-width=\"0\"/>\n",
       "<circle clip-path=\"url(#clip0010)\" cx=\"450.847\" cy=\"893.058\" r=\"14\" fill=\"#3d5ea8\" fill-rule=\"evenodd\" fill-opacity=\"0.4\" stroke=\"#000000\" stroke-opacity=\"0.4\" stroke-width=\"0\"/>\n",
       "<circle clip-path=\"url(#clip0010)\" cx=\"485.7\" cy=\"887.789\" r=\"14\" fill=\"#3d5ea8\" fill-rule=\"evenodd\" fill-opacity=\"0.4\" stroke=\"#000000\" stroke-opacity=\"0.4\" stroke-width=\"0\"/>\n",
       "<circle clip-path=\"url(#clip0010)\" cx=\"389.855\" cy=\"900.961\" r=\"14\" fill=\"#3d5ea8\" fill-rule=\"evenodd\" fill-opacity=\"0.4\" stroke=\"#000000\" stroke-opacity=\"0.4\" stroke-width=\"0\"/>\n",
       "<circle clip-path=\"url(#clip0010)\" cx=\"398.568\" cy=\"898.326\" r=\"14\" fill=\"#3d5ea8\" fill-rule=\"evenodd\" fill-opacity=\"0.4\" stroke=\"#000000\" stroke-opacity=\"0.4\" stroke-width=\"0\"/>\n",
       "<circle clip-path=\"url(#clip0010)\" cx=\"450.847\" cy=\"893.058\" r=\"14\" fill=\"#3d5ea8\" fill-rule=\"evenodd\" fill-opacity=\"0.4\" stroke=\"#000000\" stroke-opacity=\"0.4\" stroke-width=\"0\"/>\n",
       "<circle clip-path=\"url(#clip0010)\" cx=\"459.561\" cy=\"887.789\" r=\"14\" fill=\"#3d5ea8\" fill-rule=\"evenodd\" fill-opacity=\"0.4\" stroke=\"#000000\" stroke-opacity=\"0.4\" stroke-width=\"0\"/>\n",
       "<circle clip-path=\"url(#clip0010)\" cx=\"564.119\" cy=\"856.178\" r=\"14\" fill=\"#3d5ea8\" fill-rule=\"evenodd\" fill-opacity=\"0.4\" stroke=\"#000000\" stroke-opacity=\"0.4\" stroke-width=\"0\"/>\n",
       "<circle clip-path=\"url(#clip0010)\" cx=\"564.119\" cy=\"850.909\" r=\"14\" fill=\"#3d5ea8\" fill-rule=\"evenodd\" fill-opacity=\"0.4\" stroke=\"#000000\" stroke-opacity=\"0.4\" stroke-width=\"0\"/>\n",
       "<circle clip-path=\"url(#clip0010)\" cx=\"415.994\" cy=\"900.961\" r=\"14\" fill=\"#3d5ea8\" fill-rule=\"evenodd\" fill-opacity=\"0.4\" stroke=\"#000000\" stroke-opacity=\"0.4\" stroke-width=\"0\"/>\n",
       "<circle clip-path=\"url(#clip0010)\" cx=\"494.414\" cy=\"882.521\" r=\"14\" fill=\"#3d5ea8\" fill-rule=\"evenodd\" fill-opacity=\"0.4\" stroke=\"#000000\" stroke-opacity=\"0.4\" stroke-width=\"0\"/>\n",
       "<circle clip-path=\"url(#clip0010)\" cx=\"381.141\" cy=\"903.595\" r=\"14\" fill=\"#3d5ea8\" fill-rule=\"evenodd\" fill-opacity=\"0.4\" stroke=\"#000000\" stroke-opacity=\"0.4\" stroke-width=\"0\"/>\n",
       "<circle clip-path=\"url(#clip0010)\" cx=\"564.119\" cy=\"856.178\" r=\"14\" fill=\"#3d5ea8\" fill-rule=\"evenodd\" fill-opacity=\"0.4\" stroke=\"#000000\" stroke-opacity=\"0.4\" stroke-width=\"0\"/>\n",
       "<circle clip-path=\"url(#clip0010)\" cx=\"442.134\" cy=\"903.595\" r=\"14\" fill=\"#3d5ea8\" fill-rule=\"evenodd\" fill-opacity=\"0.4\" stroke=\"#000000\" stroke-opacity=\"0.4\" stroke-width=\"0\"/>\n",
       "<circle clip-path=\"url(#clip0010)\" cx=\"476.987\" cy=\"882.521\" r=\"14\" fill=\"#3d5ea8\" fill-rule=\"evenodd\" fill-opacity=\"0.4\" stroke=\"#000000\" stroke-opacity=\"0.4\" stroke-width=\"0\"/>\n",
       "<circle clip-path=\"url(#clip0010)\" cx=\"520.553\" cy=\"874.618\" r=\"14\" fill=\"#3d5ea8\" fill-rule=\"evenodd\" fill-opacity=\"0.4\" stroke=\"#000000\" stroke-opacity=\"0.4\" stroke-width=\"0\"/>\n",
       "<circle clip-path=\"url(#clip0010)\" cx=\"433.421\" cy=\"906.229\" r=\"14\" fill=\"#3d5ea8\" fill-rule=\"evenodd\" fill-opacity=\"0.4\" stroke=\"#000000\" stroke-opacity=\"0.4\" stroke-width=\"0\"/>\n",
       "<circle clip-path=\"url(#clip0010)\" cx=\"424.708\" cy=\"903.595\" r=\"14\" fill=\"#3d5ea8\" fill-rule=\"evenodd\" fill-opacity=\"0.4\" stroke=\"#000000\" stroke-opacity=\"0.4\" stroke-width=\"0\"/>\n",
       "<circle clip-path=\"url(#clip0010)\" cx=\"450.847\" cy=\"885.155\" r=\"14\" fill=\"#3d5ea8\" fill-rule=\"evenodd\" fill-opacity=\"0.4\" stroke=\"#000000\" stroke-opacity=\"0.4\" stroke-width=\"0\"/>\n",
       "<circle clip-path=\"url(#clip0010)\" cx=\"520.553\" cy=\"879.886\" r=\"14\" fill=\"#3d5ea8\" fill-rule=\"evenodd\" fill-opacity=\"0.4\" stroke=\"#000000\" stroke-opacity=\"0.4\" stroke-width=\"0\"/>\n",
       "<circle clip-path=\"url(#clip0010)\" cx=\"537.98\" cy=\"871.984\" r=\"14\" fill=\"#3d5ea8\" fill-rule=\"evenodd\" fill-opacity=\"0.4\" stroke=\"#000000\" stroke-opacity=\"0.4\" stroke-width=\"0\"/>\n",
       "<circle clip-path=\"url(#clip0010)\" cx=\"581.546\" cy=\"864.081\" r=\"14\" fill=\"#3d5ea8\" fill-rule=\"evenodd\" fill-opacity=\"0.4\" stroke=\"#000000\" stroke-opacity=\"0.4\" stroke-width=\"0\"/>\n",
       "<circle clip-path=\"url(#clip0010)\" cx=\"450.847\" cy=\"885.155\" r=\"14\" fill=\"#3d5ea8\" fill-rule=\"evenodd\" fill-opacity=\"0.4\" stroke=\"#000000\" stroke-opacity=\"0.4\" stroke-width=\"0\"/>\n",
       "<circle clip-path=\"url(#clip0010)\" cx=\"442.134\" cy=\"898.326\" r=\"14\" fill=\"#3d5ea8\" fill-rule=\"evenodd\" fill-opacity=\"0.4\" stroke=\"#000000\" stroke-opacity=\"0.4\" stroke-width=\"0\"/>\n",
       "<circle clip-path=\"url(#clip0010)\" cx=\"424.708\" cy=\"885.155\" r=\"14\" fill=\"#3d5ea8\" fill-rule=\"evenodd\" fill-opacity=\"0.4\" stroke=\"#000000\" stroke-opacity=\"0.4\" stroke-width=\"0\"/>\n",
       "<circle clip-path=\"url(#clip0010)\" cx=\"564.119\" cy=\"871.984\" r=\"14\" fill=\"#3d5ea8\" fill-rule=\"evenodd\" fill-opacity=\"0.4\" stroke=\"#000000\" stroke-opacity=\"0.4\" stroke-width=\"0\"/>\n",
       "<circle clip-path=\"url(#clip0010)\" cx=\"442.134\" cy=\"885.155\" r=\"14\" fill=\"#3d5ea8\" fill-rule=\"evenodd\" fill-opacity=\"0.4\" stroke=\"#000000\" stroke-opacity=\"0.4\" stroke-width=\"0\"/>\n",
       "<circle clip-path=\"url(#clip0010)\" cx=\"450.847\" cy=\"887.789\" r=\"14\" fill=\"#3d5ea8\" fill-rule=\"evenodd\" fill-opacity=\"0.4\" stroke=\"#000000\" stroke-opacity=\"0.4\" stroke-width=\"0\"/>\n",
       "<circle clip-path=\"url(#clip0010)\" cx=\"415.994\" cy=\"906.229\" r=\"14\" fill=\"#3d5ea8\" fill-rule=\"evenodd\" fill-opacity=\"0.4\" stroke=\"#000000\" stroke-opacity=\"0.4\" stroke-width=\"0\"/>\n",
       "<circle clip-path=\"url(#clip0010)\" cx=\"494.414\" cy=\"890.424\" r=\"14\" fill=\"#3d5ea8\" fill-rule=\"evenodd\" fill-opacity=\"0.4\" stroke=\"#000000\" stroke-opacity=\"0.4\" stroke-width=\"0\"/>\n",
       "<circle clip-path=\"url(#clip0010)\" cx=\"476.987\" cy=\"885.155\" r=\"14\" fill=\"#3d5ea8\" fill-rule=\"evenodd\" fill-opacity=\"0.4\" stroke=\"#000000\" stroke-opacity=\"0.4\" stroke-width=\"0\"/>\n",
       "<circle clip-path=\"url(#clip0010)\" cx=\"494.414\" cy=\"898.326\" r=\"14\" fill=\"#3d5ea8\" fill-rule=\"evenodd\" fill-opacity=\"0.4\" stroke=\"#000000\" stroke-opacity=\"0.4\" stroke-width=\"0\"/>\n",
       "<circle clip-path=\"url(#clip0010)\" cx=\"398.568\" cy=\"898.326\" r=\"14\" fill=\"#3d5ea8\" fill-rule=\"evenodd\" fill-opacity=\"0.4\" stroke=\"#000000\" stroke-opacity=\"0.4\" stroke-width=\"0\"/>\n",
       "<circle clip-path=\"url(#clip0010)\" cx=\"485.7\" cy=\"877.252\" r=\"14\" fill=\"#3d5ea8\" fill-rule=\"evenodd\" fill-opacity=\"0.4\" stroke=\"#000000\" stroke-opacity=\"0.4\" stroke-width=\"0\"/>\n",
       "<circle clip-path=\"url(#clip0010)\" cx=\"476.987\" cy=\"882.521\" r=\"14\" fill=\"#3d5ea8\" fill-rule=\"evenodd\" fill-opacity=\"0.4\" stroke=\"#000000\" stroke-opacity=\"0.4\" stroke-width=\"0\"/>\n",
       "<circle clip-path=\"url(#clip0010)\" cx=\"476.987\" cy=\"895.692\" r=\"14\" fill=\"#3d5ea8\" fill-rule=\"evenodd\" fill-opacity=\"0.4\" stroke=\"#000000\" stroke-opacity=\"0.4\" stroke-width=\"0\"/>\n",
       "<circle clip-path=\"url(#clip0010)\" cx=\"442.134\" cy=\"900.961\" r=\"14\" fill=\"#3d5ea8\" fill-rule=\"evenodd\" fill-opacity=\"0.4\" stroke=\"#000000\" stroke-opacity=\"0.4\" stroke-width=\"0\"/>\n",
       "<circle clip-path=\"url(#clip0010)\" cx=\"459.561\" cy=\"895.692\" r=\"14\" fill=\"#3d5ea8\" fill-rule=\"evenodd\" fill-opacity=\"0.4\" stroke=\"#000000\" stroke-opacity=\"0.4\" stroke-width=\"0\"/>\n",
       "<circle clip-path=\"url(#clip0010)\" cx=\"433.421\" cy=\"890.424\" r=\"14\" fill=\"#3d5ea8\" fill-rule=\"evenodd\" fill-opacity=\"0.4\" stroke=\"#000000\" stroke-opacity=\"0.4\" stroke-width=\"0\"/>\n",
       "<circle clip-path=\"url(#clip0010)\" cx=\"407.281\" cy=\"898.326\" r=\"14\" fill=\"#3d5ea8\" fill-rule=\"evenodd\" fill-opacity=\"0.4\" stroke=\"#000000\" stroke-opacity=\"0.4\" stroke-width=\"0\"/>\n",
       "<polyline clip-path=\"url(#clip0010)\" style=\"stroke:#000000; stroke-width:4; stroke-opacity:1; fill:none\" points=\"\n",
       "  267.869,1009.23 581.546,832.992 \n",
       "  \"/>\n",
       "<path clip-path=\"url(#clip000)\" d=\"\n",
       "M799.738 1039 L1191.35 1039 L1191.35 815.61 L799.738 815.61  Z\n",
       "  \" fill=\"#ffffff\" fill-rule=\"evenodd\" fill-opacity=\"1\"/>\n",
       "<defs>\n",
       "  <clipPath id=\"clip0011\">\n",
       "    <rect x=\"799\" y=\"815\" width=\"393\" height=\"224\"/>\n",
       "  </clipPath>\n",
       "</defs>\n",
       "<polyline clip-path=\"url(#clip000)\" style=\"stroke:#000000; stroke-width:4; stroke-opacity:1; fill:none\" points=\"\n",
       "  799.738,1039 1191.35,1039 \n",
       "  \"/>\n",
       "<polyline clip-path=\"url(#clip000)\" style=\"stroke:#000000; stroke-width:4; stroke-opacity:1; fill:none\" points=\"\n",
       "  821.277,1039 821.277,1036.32 \n",
       "  \"/>\n",
       "<polyline clip-path=\"url(#clip000)\" style=\"stroke:#000000; stroke-width:4; stroke-opacity:1; fill:none\" points=\"\n",
       "  888.302,1039 888.302,1036.32 \n",
       "  \"/>\n",
       "<polyline clip-path=\"url(#clip000)\" style=\"stroke:#000000; stroke-width:4; stroke-opacity:1; fill:none\" points=\"\n",
       "  955.327,1039 955.327,1036.32 \n",
       "  \"/>\n",
       "<polyline clip-path=\"url(#clip000)\" style=\"stroke:#000000; stroke-width:4; stroke-opacity:1; fill:none\" points=\"\n",
       "  1022.35,1039 1022.35,1036.32 \n",
       "  \"/>\n",
       "<polyline clip-path=\"url(#clip000)\" style=\"stroke:#000000; stroke-width:4; stroke-opacity:1; fill:none\" points=\"\n",
       "  1089.38,1039 1089.38,1036.32 \n",
       "  \"/>\n",
       "<polyline clip-path=\"url(#clip000)\" style=\"stroke:#000000; stroke-width:4; stroke-opacity:1; fill:none\" points=\"\n",
       "  1156.4,1039 1156.4,1036.32 \n",
       "  \"/>\n",
       "<polyline clip-path=\"url(#clip000)\" style=\"stroke:#000000; stroke-width:4; stroke-opacity:1; fill:none\" points=\"\n",
       "  799.738,1039 799.738,815.61 \n",
       "  \"/>\n",
       "<polyline clip-path=\"url(#clip000)\" style=\"stroke:#000000; stroke-width:4; stroke-opacity:1; fill:none\" points=\"\n",
       "  799.738,1032.67 804.437,1032.67 \n",
       "  \"/>\n",
       "<polyline clip-path=\"url(#clip000)\" style=\"stroke:#000000; stroke-width:4; stroke-opacity:1; fill:none\" points=\"\n",
       "  799.738,979.989 804.437,979.989 \n",
       "  \"/>\n",
       "<polyline clip-path=\"url(#clip000)\" style=\"stroke:#000000; stroke-width:4; stroke-opacity:1; fill:none\" points=\"\n",
       "  799.738,927.303 804.437,927.303 \n",
       "  \"/>\n",
       "<polyline clip-path=\"url(#clip000)\" style=\"stroke:#000000; stroke-width:4; stroke-opacity:1; fill:none\" points=\"\n",
       "  799.738,874.618 804.437,874.618 \n",
       "  \"/>\n",
       "<polyline clip-path=\"url(#clip000)\" style=\"stroke:#000000; stroke-width:4; stroke-opacity:1; fill:none\" points=\"\n",
       "  799.738,821.932 804.437,821.932 \n",
       "  \"/>\n",
       "<circle clip-path=\"url(#clip0011)\" cx=\"1022.35\" cy=\"995.795\" r=\"14\" fill=\"#fba45c\" fill-rule=\"evenodd\" fill-opacity=\"0.4\" stroke=\"#000000\" stroke-opacity=\"0.4\" stroke-width=\"0\"/>\n",
       "<circle clip-path=\"url(#clip0011)\" cx=\"955.327\" cy=\"995.795\" r=\"14\" fill=\"#fba45c\" fill-rule=\"evenodd\" fill-opacity=\"0.4\" stroke=\"#000000\" stroke-opacity=\"0.4\" stroke-width=\"0\"/>\n",
       "<circle clip-path=\"url(#clip0011)\" cx=\"982.137\" cy=\"998.429\" r=\"14\" fill=\"#fba45c\" fill-rule=\"evenodd\" fill-opacity=\"0.4\" stroke=\"#000000\" stroke-opacity=\"0.4\" stroke-width=\"0\"/>\n",
       "<circle clip-path=\"url(#clip0011)\" cx=\"968.732\" cy=\"993.16\" r=\"14\" fill=\"#fba45c\" fill-rule=\"evenodd\" fill-opacity=\"0.4\" stroke=\"#000000\" stroke-opacity=\"0.4\" stroke-width=\"0\"/>\n",
       "<circle clip-path=\"url(#clip0011)\" cx=\"1035.76\" cy=\"995.795\" r=\"14\" fill=\"#fba45c\" fill-rule=\"evenodd\" fill-opacity=\"0.4\" stroke=\"#000000\" stroke-opacity=\"0.4\" stroke-width=\"0\"/>\n",
       "<circle clip-path=\"url(#clip0011)\" cx=\"1075.97\" cy=\"987.892\" r=\"14\" fill=\"#fba45c\" fill-rule=\"evenodd\" fill-opacity=\"0.4\" stroke=\"#000000\" stroke-opacity=\"0.4\" stroke-width=\"0\"/>\n",
       "<circle clip-path=\"url(#clip0011)\" cx=\"1008.95\" cy=\"995.795\" r=\"14\" fill=\"#fba45c\" fill-rule=\"evenodd\" fill-opacity=\"0.4\" stroke=\"#000000\" stroke-opacity=\"0.4\" stroke-width=\"0\"/>\n",
       "<circle clip-path=\"url(#clip0011)\" cx=\"1008.95\" cy=\"993.16\" r=\"14\" fill=\"#fba45c\" fill-rule=\"evenodd\" fill-opacity=\"0.4\" stroke=\"#000000\" stroke-opacity=\"0.4\" stroke-width=\"0\"/>\n",
       "<circle clip-path=\"url(#clip0011)\" cx=\"941.922\" cy=\"995.795\" r=\"14\" fill=\"#fba45c\" fill-rule=\"evenodd\" fill-opacity=\"0.4\" stroke=\"#000000\" stroke-opacity=\"0.4\" stroke-width=\"0\"/>\n",
       "<circle clip-path=\"url(#clip0011)\" cx=\"968.732\" cy=\"993.16\" r=\"14\" fill=\"#fba45c\" fill-rule=\"evenodd\" fill-opacity=\"0.4\" stroke=\"#000000\" stroke-opacity=\"0.4\" stroke-width=\"0\"/>\n",
       "<circle clip-path=\"url(#clip0011)\" cx=\"1049.16\" cy=\"993.16\" r=\"14\" fill=\"#fba45c\" fill-rule=\"evenodd\" fill-opacity=\"0.4\" stroke=\"#000000\" stroke-opacity=\"0.4\" stroke-width=\"0\"/>\n",
       "<circle clip-path=\"url(#clip0011)\" cx=\"1008.95\" cy=\"990.526\" r=\"14\" fill=\"#fba45c\" fill-rule=\"evenodd\" fill-opacity=\"0.4\" stroke=\"#000000\" stroke-opacity=\"0.4\" stroke-width=\"0\"/>\n",
       "<circle clip-path=\"url(#clip0011)\" cx=\"955.327\" cy=\"995.795\" r=\"14\" fill=\"#fba45c\" fill-rule=\"evenodd\" fill-opacity=\"0.4\" stroke=\"#000000\" stroke-opacity=\"0.4\" stroke-width=\"0\"/>\n",
       "<circle clip-path=\"url(#clip0011)\" cx=\"955.327\" cy=\"1003.7\" r=\"14\" fill=\"#fba45c\" fill-rule=\"evenodd\" fill-opacity=\"0.4\" stroke=\"#000000\" stroke-opacity=\"0.4\" stroke-width=\"0\"/>\n",
       "<circle clip-path=\"url(#clip0011)\" cx=\"1089.38\" cy=\"1001.06\" r=\"14\" fill=\"#fba45c\" fill-rule=\"evenodd\" fill-opacity=\"0.4\" stroke=\"#000000\" stroke-opacity=\"0.4\" stroke-width=\"0\"/>\n",
       "<circle clip-path=\"url(#clip0011)\" cx=\"1143\" cy=\"993.16\" r=\"14\" fill=\"#fba45c\" fill-rule=\"evenodd\" fill-opacity=\"0.4\" stroke=\"#000000\" stroke-opacity=\"0.4\" stroke-width=\"0\"/>\n",
       "<circle clip-path=\"url(#clip0011)\" cx=\"1075.97\" cy=\"998.429\" r=\"14\" fill=\"#fba45c\" fill-rule=\"evenodd\" fill-opacity=\"0.4\" stroke=\"#000000\" stroke-opacity=\"0.4\" stroke-width=\"0\"/>\n",
       "<circle clip-path=\"url(#clip0011)\" cx=\"1022.35\" cy=\"995.795\" r=\"14\" fill=\"#fba45c\" fill-rule=\"evenodd\" fill-opacity=\"0.4\" stroke=\"#000000\" stroke-opacity=\"0.4\" stroke-width=\"0\"/>\n",
       "<circle clip-path=\"url(#clip0011)\" cx=\"1062.57\" cy=\"987.892\" r=\"14\" fill=\"#fba45c\" fill-rule=\"evenodd\" fill-opacity=\"0.4\" stroke=\"#000000\" stroke-opacity=\"0.4\" stroke-width=\"0\"/>\n",
       "<circle clip-path=\"url(#clip0011)\" cx=\"1062.57\" cy=\"993.16\" r=\"14\" fill=\"#fba45c\" fill-rule=\"evenodd\" fill-opacity=\"0.4\" stroke=\"#000000\" stroke-opacity=\"0.4\" stroke-width=\"0\"/>\n",
       "<circle clip-path=\"url(#clip0011)\" cx=\"1008.95\" cy=\"987.892\" r=\"14\" fill=\"#fba45c\" fill-rule=\"evenodd\" fill-opacity=\"0.4\" stroke=\"#000000\" stroke-opacity=\"0.4\" stroke-width=\"0\"/>\n",
       "<circle clip-path=\"url(#clip0011)\" cx=\"1049.16\" cy=\"993.16\" r=\"14\" fill=\"#fba45c\" fill-rule=\"evenodd\" fill-opacity=\"0.4\" stroke=\"#000000\" stroke-opacity=\"0.4\" stroke-width=\"0\"/>\n",
       "<circle clip-path=\"url(#clip0011)\" cx=\"1035.76\" cy=\"1006.33\" r=\"14\" fill=\"#fba45c\" fill-rule=\"evenodd\" fill-opacity=\"0.4\" stroke=\"#000000\" stroke-opacity=\"0.4\" stroke-width=\"0\"/>\n",
       "<circle clip-path=\"url(#clip0011)\" cx=\"995.542\" cy=\"987.892\" r=\"14\" fill=\"#fba45c\" fill-rule=\"evenodd\" fill-opacity=\"0.4\" stroke=\"#000000\" stroke-opacity=\"0.4\" stroke-width=\"0\"/>\n",
       "<circle clip-path=\"url(#clip0011)\" cx=\"1008.95\" cy=\"982.623\" r=\"14\" fill=\"#fba45c\" fill-rule=\"evenodd\" fill-opacity=\"0.4\" stroke=\"#000000\" stroke-opacity=\"0.4\" stroke-width=\"0\"/>\n",
       "<circle clip-path=\"url(#clip0011)\" cx=\"955.327\" cy=\"990.526\" r=\"14\" fill=\"#fba45c\" fill-rule=\"evenodd\" fill-opacity=\"0.4\" stroke=\"#000000\" stroke-opacity=\"0.4\" stroke-width=\"0\"/>\n",
       "<circle clip-path=\"url(#clip0011)\" cx=\"1008.95\" cy=\"990.526\" r=\"14\" fill=\"#fba45c\" fill-rule=\"evenodd\" fill-opacity=\"0.4\" stroke=\"#000000\" stroke-opacity=\"0.4\" stroke-width=\"0\"/>\n",
       "<circle clip-path=\"url(#clip0011)\" cx=\"1022.35\" cy=\"993.16\" r=\"14\" fill=\"#fba45c\" fill-rule=\"evenodd\" fill-opacity=\"0.4\" stroke=\"#000000\" stroke-opacity=\"0.4\" stroke-width=\"0\"/>\n",
       "<circle clip-path=\"url(#clip0011)\" cx=\"1008.95\" cy=\"995.795\" r=\"14\" fill=\"#fba45c\" fill-rule=\"evenodd\" fill-opacity=\"0.4\" stroke=\"#000000\" stroke-opacity=\"0.4\" stroke-width=\"0\"/>\n",
       "<circle clip-path=\"url(#clip0011)\" cx=\"982.137\" cy=\"990.526\" r=\"14\" fill=\"#fba45c\" fill-rule=\"evenodd\" fill-opacity=\"0.4\" stroke=\"#000000\" stroke-opacity=\"0.4\" stroke-width=\"0\"/>\n",
       "<circle clip-path=\"url(#clip0011)\" cx=\"968.732\" cy=\"990.526\" r=\"14\" fill=\"#fba45c\" fill-rule=\"evenodd\" fill-opacity=\"0.4\" stroke=\"#000000\" stroke-opacity=\"0.4\" stroke-width=\"0\"/>\n",
       "<circle clip-path=\"url(#clip0011)\" cx=\"1008.95\" cy=\"993.16\" r=\"14\" fill=\"#fba45c\" fill-rule=\"evenodd\" fill-opacity=\"0.4\" stroke=\"#000000\" stroke-opacity=\"0.4\" stroke-width=\"0\"/>\n",
       "<circle clip-path=\"url(#clip0011)\" cx=\"1102.78\" cy=\"993.16\" r=\"14\" fill=\"#fba45c\" fill-rule=\"evenodd\" fill-opacity=\"0.4\" stroke=\"#000000\" stroke-opacity=\"0.4\" stroke-width=\"0\"/>\n",
       "<circle clip-path=\"url(#clip0011)\" cx=\"1116.19\" cy=\"995.795\" r=\"14\" fill=\"#fba45c\" fill-rule=\"evenodd\" fill-opacity=\"0.4\" stroke=\"#000000\" stroke-opacity=\"0.4\" stroke-width=\"0\"/>\n",
       "<circle clip-path=\"url(#clip0011)\" cx=\"968.732\" cy=\"993.16\" r=\"14\" fill=\"#fba45c\" fill-rule=\"evenodd\" fill-opacity=\"0.4\" stroke=\"#000000\" stroke-opacity=\"0.4\" stroke-width=\"0\"/>\n",
       "<circle clip-path=\"url(#clip0011)\" cx=\"982.137\" cy=\"1001.06\" r=\"14\" fill=\"#fba45c\" fill-rule=\"evenodd\" fill-opacity=\"0.4\" stroke=\"#000000\" stroke-opacity=\"0.4\" stroke-width=\"0\"/>\n",
       "<circle clip-path=\"url(#clip0011)\" cx=\"1022.35\" cy=\"998.429\" r=\"14\" fill=\"#fba45c\" fill-rule=\"evenodd\" fill-opacity=\"0.4\" stroke=\"#000000\" stroke-opacity=\"0.4\" stroke-width=\"0\"/>\n",
       "<circle clip-path=\"url(#clip0011)\" cx=\"1035.76\" cy=\"995.795\" r=\"14\" fill=\"#fba45c\" fill-rule=\"evenodd\" fill-opacity=\"0.4\" stroke=\"#000000\" stroke-opacity=\"0.4\" stroke-width=\"0\"/>\n",
       "<circle clip-path=\"url(#clip0011)\" cx=\"955.327\" cy=\"998.429\" r=\"14\" fill=\"#fba45c\" fill-rule=\"evenodd\" fill-opacity=\"0.4\" stroke=\"#000000\" stroke-opacity=\"0.4\" stroke-width=\"0\"/>\n",
       "<circle clip-path=\"url(#clip0011)\" cx=\"1008.95\" cy=\"993.16\" r=\"14\" fill=\"#fba45c\" fill-rule=\"evenodd\" fill-opacity=\"0.4\" stroke=\"#000000\" stroke-opacity=\"0.4\" stroke-width=\"0\"/>\n",
       "<circle clip-path=\"url(#clip0011)\" cx=\"1022.35\" cy=\"998.429\" r=\"14\" fill=\"#fba45c\" fill-rule=\"evenodd\" fill-opacity=\"0.4\" stroke=\"#000000\" stroke-opacity=\"0.4\" stroke-width=\"0\"/>\n",
       "<circle clip-path=\"url(#clip0011)\" cx=\"861.492\" cy=\"998.429\" r=\"14\" fill=\"#fba45c\" fill-rule=\"evenodd\" fill-opacity=\"0.4\" stroke=\"#000000\" stroke-opacity=\"0.4\" stroke-width=\"0\"/>\n",
       "<circle clip-path=\"url(#clip0011)\" cx=\"982.137\" cy=\"998.429\" r=\"14\" fill=\"#fba45c\" fill-rule=\"evenodd\" fill-opacity=\"0.4\" stroke=\"#000000\" stroke-opacity=\"0.4\" stroke-width=\"0\"/>\n",
       "<circle clip-path=\"url(#clip0011)\" cx=\"1022.35\" cy=\"990.526\" r=\"14\" fill=\"#fba45c\" fill-rule=\"evenodd\" fill-opacity=\"0.4\" stroke=\"#000000\" stroke-opacity=\"0.4\" stroke-width=\"0\"/>\n",
       "<circle clip-path=\"url(#clip0011)\" cx=\"1062.57\" cy=\"982.623\" r=\"14\" fill=\"#fba45c\" fill-rule=\"evenodd\" fill-opacity=\"0.4\" stroke=\"#000000\" stroke-opacity=\"0.4\" stroke-width=\"0\"/>\n",
       "<circle clip-path=\"url(#clip0011)\" cx=\"955.327\" cy=\"995.795\" r=\"14\" fill=\"#fba45c\" fill-rule=\"evenodd\" fill-opacity=\"0.4\" stroke=\"#000000\" stroke-opacity=\"0.4\" stroke-width=\"0\"/>\n",
       "<circle clip-path=\"url(#clip0011)\" cx=\"1062.57\" cy=\"990.526\" r=\"14\" fill=\"#fba45c\" fill-rule=\"evenodd\" fill-opacity=\"0.4\" stroke=\"#000000\" stroke-opacity=\"0.4\" stroke-width=\"0\"/>\n",
       "<circle clip-path=\"url(#clip0011)\" cx=\"982.137\" cy=\"995.795\" r=\"14\" fill=\"#fba45c\" fill-rule=\"evenodd\" fill-opacity=\"0.4\" stroke=\"#000000\" stroke-opacity=\"0.4\" stroke-width=\"0\"/>\n",
       "<circle clip-path=\"url(#clip0011)\" cx=\"1049.16\" cy=\"993.16\" r=\"14\" fill=\"#fba45c\" fill-rule=\"evenodd\" fill-opacity=\"0.4\" stroke=\"#000000\" stroke-opacity=\"0.4\" stroke-width=\"0\"/>\n",
       "<circle clip-path=\"url(#clip0011)\" cx=\"995.542\" cy=\"995.795\" r=\"14\" fill=\"#fba45c\" fill-rule=\"evenodd\" fill-opacity=\"0.4\" stroke=\"#000000\" stroke-opacity=\"0.4\" stroke-width=\"0\"/>\n",
       "<circle clip-path=\"url(#clip0011)\" cx=\"982.137\" cy=\"908.864\" r=\"14\" fill=\"#fba45c\" fill-rule=\"evenodd\" fill-opacity=\"0.4\" stroke=\"#000000\" stroke-opacity=\"0.4\" stroke-width=\"0\"/>\n",
       "<circle clip-path=\"url(#clip0011)\" cx=\"982.137\" cy=\"914.132\" r=\"14\" fill=\"#fba45c\" fill-rule=\"evenodd\" fill-opacity=\"0.4\" stroke=\"#000000\" stroke-opacity=\"0.4\" stroke-width=\"0\"/>\n",
       "<circle clip-path=\"url(#clip0011)\" cx=\"968.732\" cy=\"903.595\" r=\"14\" fill=\"#fba45c\" fill-rule=\"evenodd\" fill-opacity=\"0.4\" stroke=\"#000000\" stroke-opacity=\"0.4\" stroke-width=\"0\"/>\n",
       "<circle clip-path=\"url(#clip0011)\" cx=\"861.492\" cy=\"927.303\" r=\"14\" fill=\"#fba45c\" fill-rule=\"evenodd\" fill-opacity=\"0.4\" stroke=\"#000000\" stroke-opacity=\"0.4\" stroke-width=\"0\"/>\n",
       "<circle clip-path=\"url(#clip0011)\" cx=\"928.517\" cy=\"911.498\" r=\"14\" fill=\"#fba45c\" fill-rule=\"evenodd\" fill-opacity=\"0.4\" stroke=\"#000000\" stroke-opacity=\"0.4\" stroke-width=\"0\"/>\n",
       "<circle clip-path=\"url(#clip0011)\" cx=\"928.517\" cy=\"914.132\" r=\"14\" fill=\"#fba45c\" fill-rule=\"evenodd\" fill-opacity=\"0.4\" stroke=\"#000000\" stroke-opacity=\"0.4\" stroke-width=\"0\"/>\n",
       "<circle clip-path=\"url(#clip0011)\" cx=\"995.542\" cy=\"908.864\" r=\"14\" fill=\"#fba45c\" fill-rule=\"evenodd\" fill-opacity=\"0.4\" stroke=\"#000000\" stroke-opacity=\"0.4\" stroke-width=\"0\"/>\n",
       "<circle clip-path=\"url(#clip0011)\" cx=\"874.897\" cy=\"945.743\" r=\"14\" fill=\"#fba45c\" fill-rule=\"evenodd\" fill-opacity=\"0.4\" stroke=\"#000000\" stroke-opacity=\"0.4\" stroke-width=\"0\"/>\n",
       "<circle clip-path=\"url(#clip0011)\" cx=\"941.922\" cy=\"911.498\" r=\"14\" fill=\"#fba45c\" fill-rule=\"evenodd\" fill-opacity=\"0.4\" stroke=\"#000000\" stroke-opacity=\"0.4\" stroke-width=\"0\"/>\n",
       "<circle clip-path=\"url(#clip0011)\" cx=\"915.112\" cy=\"929.938\" r=\"14\" fill=\"#fba45c\" fill-rule=\"evenodd\" fill-opacity=\"0.4\" stroke=\"#000000\" stroke-opacity=\"0.4\" stroke-width=\"0\"/>\n",
       "<circle clip-path=\"url(#clip0011)\" cx=\"821.277\" cy=\"940.475\" r=\"14\" fill=\"#fba45c\" fill-rule=\"evenodd\" fill-opacity=\"0.4\" stroke=\"#000000\" stroke-opacity=\"0.4\" stroke-width=\"0\"/>\n",
       "<circle clip-path=\"url(#clip0011)\" cx=\"955.327\" cy=\"922.035\" r=\"14\" fill=\"#fba45c\" fill-rule=\"evenodd\" fill-opacity=\"0.4\" stroke=\"#000000\" stroke-opacity=\"0.4\" stroke-width=\"0\"/>\n",
       "<circle clip-path=\"url(#clip0011)\" cx=\"848.087\" cy=\"927.303\" r=\"14\" fill=\"#fba45c\" fill-rule=\"evenodd\" fill-opacity=\"0.4\" stroke=\"#000000\" stroke-opacity=\"0.4\" stroke-width=\"0\"/>\n",
       "<circle clip-path=\"url(#clip0011)\" cx=\"941.922\" cy=\"908.864\" r=\"14\" fill=\"#fba45c\" fill-rule=\"evenodd\" fill-opacity=\"0.4\" stroke=\"#000000\" stroke-opacity=\"0.4\" stroke-width=\"0\"/>\n",
       "<circle clip-path=\"url(#clip0011)\" cx=\"941.922\" cy=\"937.841\" r=\"14\" fill=\"#fba45c\" fill-rule=\"evenodd\" fill-opacity=\"0.4\" stroke=\"#000000\" stroke-opacity=\"0.4\" stroke-width=\"0\"/>\n",
       "<circle clip-path=\"url(#clip0011)\" cx=\"968.732\" cy=\"916.766\" r=\"14\" fill=\"#fba45c\" fill-rule=\"evenodd\" fill-opacity=\"0.4\" stroke=\"#000000\" stroke-opacity=\"0.4\" stroke-width=\"0\"/>\n",
       "<circle clip-path=\"url(#clip0011)\" cx=\"955.327\" cy=\"914.132\" r=\"14\" fill=\"#fba45c\" fill-rule=\"evenodd\" fill-opacity=\"0.4\" stroke=\"#000000\" stroke-opacity=\"0.4\" stroke-width=\"0\"/>\n",
       "<circle clip-path=\"url(#clip0011)\" cx=\"915.112\" cy=\"924.669\" r=\"14\" fill=\"#fba45c\" fill-rule=\"evenodd\" fill-opacity=\"0.4\" stroke=\"#000000\" stroke-opacity=\"0.4\" stroke-width=\"0\"/>\n",
       "<circle clip-path=\"url(#clip0011)\" cx=\"848.087\" cy=\"914.132\" r=\"14\" fill=\"#fba45c\" fill-rule=\"evenodd\" fill-opacity=\"0.4\" stroke=\"#000000\" stroke-opacity=\"0.4\" stroke-width=\"0\"/>\n",
       "<circle clip-path=\"url(#clip0011)\" cx=\"888.302\" cy=\"929.938\" r=\"14\" fill=\"#fba45c\" fill-rule=\"evenodd\" fill-opacity=\"0.4\" stroke=\"#000000\" stroke-opacity=\"0.4\" stroke-width=\"0\"/>\n",
       "<circle clip-path=\"url(#clip0011)\" cx=\"982.137\" cy=\"906.229\" r=\"14\" fill=\"#fba45c\" fill-rule=\"evenodd\" fill-opacity=\"0.4\" stroke=\"#000000\" stroke-opacity=\"0.4\" stroke-width=\"0\"/>\n",
       "<circle clip-path=\"url(#clip0011)\" cx=\"928.517\" cy=\"927.303\" r=\"14\" fill=\"#fba45c\" fill-rule=\"evenodd\" fill-opacity=\"0.4\" stroke=\"#000000\" stroke-opacity=\"0.4\" stroke-width=\"0\"/>\n",
       "<circle clip-path=\"url(#clip0011)\" cx=\"888.302\" cy=\"903.595\" r=\"14\" fill=\"#fba45c\" fill-rule=\"evenodd\" fill-opacity=\"0.4\" stroke=\"#000000\" stroke-opacity=\"0.4\" stroke-width=\"0\"/>\n",
       "<circle clip-path=\"url(#clip0011)\" cx=\"928.517\" cy=\"908.864\" r=\"14\" fill=\"#fba45c\" fill-rule=\"evenodd\" fill-opacity=\"0.4\" stroke=\"#000000\" stroke-opacity=\"0.4\" stroke-width=\"0\"/>\n",
       "<circle clip-path=\"url(#clip0011)\" cx=\"941.922\" cy=\"919.401\" r=\"14\" fill=\"#fba45c\" fill-rule=\"evenodd\" fill-opacity=\"0.4\" stroke=\"#000000\" stroke-opacity=\"0.4\" stroke-width=\"0\"/>\n",
       "<circle clip-path=\"url(#clip0011)\" cx=\"955.327\" cy=\"916.766\" r=\"14\" fill=\"#fba45c\" fill-rule=\"evenodd\" fill-opacity=\"0.4\" stroke=\"#000000\" stroke-opacity=\"0.4\" stroke-width=\"0\"/>\n",
       "<circle clip-path=\"url(#clip0011)\" cx=\"928.517\" cy=\"906.229\" r=\"14\" fill=\"#fba45c\" fill-rule=\"evenodd\" fill-opacity=\"0.4\" stroke=\"#000000\" stroke-opacity=\"0.4\" stroke-width=\"0\"/>\n",
       "<circle clip-path=\"url(#clip0011)\" cx=\"955.327\" cy=\"900.961\" r=\"14\" fill=\"#fba45c\" fill-rule=\"evenodd\" fill-opacity=\"0.4\" stroke=\"#000000\" stroke-opacity=\"0.4\" stroke-width=\"0\"/>\n",
       "<circle clip-path=\"url(#clip0011)\" cx=\"941.922\" cy=\"914.132\" r=\"14\" fill=\"#fba45c\" fill-rule=\"evenodd\" fill-opacity=\"0.4\" stroke=\"#000000\" stroke-opacity=\"0.4\" stroke-width=\"0\"/>\n",
       "<circle clip-path=\"url(#clip0011)\" cx=\"901.707\" cy=\"940.475\" r=\"14\" fill=\"#fba45c\" fill-rule=\"evenodd\" fill-opacity=\"0.4\" stroke=\"#000000\" stroke-opacity=\"0.4\" stroke-width=\"0\"/>\n",
       "<circle clip-path=\"url(#clip0011)\" cx=\"874.897\" cy=\"932.572\" r=\"14\" fill=\"#fba45c\" fill-rule=\"evenodd\" fill-opacity=\"0.4\" stroke=\"#000000\" stroke-opacity=\"0.4\" stroke-width=\"0\"/>\n",
       "<circle clip-path=\"url(#clip0011)\" cx=\"874.897\" cy=\"935.206\" r=\"14\" fill=\"#fba45c\" fill-rule=\"evenodd\" fill-opacity=\"0.4\" stroke=\"#000000\" stroke-opacity=\"0.4\" stroke-width=\"0\"/>\n",
       "<circle clip-path=\"url(#clip0011)\" cx=\"915.112\" cy=\"929.938\" r=\"14\" fill=\"#fba45c\" fill-rule=\"evenodd\" fill-opacity=\"0.4\" stroke=\"#000000\" stroke-opacity=\"0.4\" stroke-width=\"0\"/>\n",
       "<circle clip-path=\"url(#clip0011)\" cx=\"915.112\" cy=\"898.326\" r=\"14\" fill=\"#fba45c\" fill-rule=\"evenodd\" fill-opacity=\"0.4\" stroke=\"#000000\" stroke-opacity=\"0.4\" stroke-width=\"0\"/>\n",
       "<circle clip-path=\"url(#clip0011)\" cx=\"955.327\" cy=\"914.132\" r=\"14\" fill=\"#fba45c\" fill-rule=\"evenodd\" fill-opacity=\"0.4\" stroke=\"#000000\" stroke-opacity=\"0.4\" stroke-width=\"0\"/>\n",
       "<circle clip-path=\"url(#clip0011)\" cx=\"1008.95\" cy=\"914.132\" r=\"14\" fill=\"#fba45c\" fill-rule=\"evenodd\" fill-opacity=\"0.4\" stroke=\"#000000\" stroke-opacity=\"0.4\" stroke-width=\"0\"/>\n",
       "<circle clip-path=\"url(#clip0011)\" cx=\"968.732\" cy=\"908.864\" r=\"14\" fill=\"#fba45c\" fill-rule=\"evenodd\" fill-opacity=\"0.4\" stroke=\"#000000\" stroke-opacity=\"0.4\" stroke-width=\"0\"/>\n",
       "<circle clip-path=\"url(#clip0011)\" cx=\"861.492\" cy=\"916.766\" r=\"14\" fill=\"#fba45c\" fill-rule=\"evenodd\" fill-opacity=\"0.4\" stroke=\"#000000\" stroke-opacity=\"0.4\" stroke-width=\"0\"/>\n",
       "<circle clip-path=\"url(#clip0011)\" cx=\"955.327\" cy=\"924.669\" r=\"14\" fill=\"#fba45c\" fill-rule=\"evenodd\" fill-opacity=\"0.4\" stroke=\"#000000\" stroke-opacity=\"0.4\" stroke-width=\"0\"/>\n",
       "<circle clip-path=\"url(#clip0011)\" cx=\"888.302\" cy=\"927.303\" r=\"14\" fill=\"#fba45c\" fill-rule=\"evenodd\" fill-opacity=\"0.4\" stroke=\"#000000\" stroke-opacity=\"0.4\" stroke-width=\"0\"/>\n",
       "<circle clip-path=\"url(#clip0011)\" cx=\"901.707\" cy=\"916.766\" r=\"14\" fill=\"#fba45c\" fill-rule=\"evenodd\" fill-opacity=\"0.4\" stroke=\"#000000\" stroke-opacity=\"0.4\" stroke-width=\"0\"/>\n",
       "<circle clip-path=\"url(#clip0011)\" cx=\"955.327\" cy=\"911.498\" r=\"14\" fill=\"#fba45c\" fill-rule=\"evenodd\" fill-opacity=\"0.4\" stroke=\"#000000\" stroke-opacity=\"0.4\" stroke-width=\"0\"/>\n",
       "<circle clip-path=\"url(#clip0011)\" cx=\"901.707\" cy=\"927.303\" r=\"14\" fill=\"#fba45c\" fill-rule=\"evenodd\" fill-opacity=\"0.4\" stroke=\"#000000\" stroke-opacity=\"0.4\" stroke-width=\"0\"/>\n",
       "<circle clip-path=\"url(#clip0011)\" cx=\"861.492\" cy=\"945.743\" r=\"14\" fill=\"#fba45c\" fill-rule=\"evenodd\" fill-opacity=\"0.4\" stroke=\"#000000\" stroke-opacity=\"0.4\" stroke-width=\"0\"/>\n",
       "<circle clip-path=\"url(#clip0011)\" cx=\"915.112\" cy=\"922.035\" r=\"14\" fill=\"#fba45c\" fill-rule=\"evenodd\" fill-opacity=\"0.4\" stroke=\"#000000\" stroke-opacity=\"0.4\" stroke-width=\"0\"/>\n",
       "<circle clip-path=\"url(#clip0011)\" cx=\"955.327\" cy=\"922.035\" r=\"14\" fill=\"#fba45c\" fill-rule=\"evenodd\" fill-opacity=\"0.4\" stroke=\"#000000\" stroke-opacity=\"0.4\" stroke-width=\"0\"/>\n",
       "<circle clip-path=\"url(#clip0011)\" cx=\"941.922\" cy=\"922.035\" r=\"14\" fill=\"#fba45c\" fill-rule=\"evenodd\" fill-opacity=\"0.4\" stroke=\"#000000\" stroke-opacity=\"0.4\" stroke-width=\"0\"/>\n",
       "<circle clip-path=\"url(#clip0011)\" cx=\"941.922\" cy=\"919.401\" r=\"14\" fill=\"#fba45c\" fill-rule=\"evenodd\" fill-opacity=\"0.4\" stroke=\"#000000\" stroke-opacity=\"0.4\" stroke-width=\"0\"/>\n",
       "<circle clip-path=\"url(#clip0011)\" cx=\"888.302\" cy=\"953.646\" r=\"14\" fill=\"#fba45c\" fill-rule=\"evenodd\" fill-opacity=\"0.4\" stroke=\"#000000\" stroke-opacity=\"0.4\" stroke-width=\"0\"/>\n",
       "<circle clip-path=\"url(#clip0011)\" cx=\"928.517\" cy=\"924.669\" r=\"14\" fill=\"#fba45c\" fill-rule=\"evenodd\" fill-opacity=\"0.4\" stroke=\"#000000\" stroke-opacity=\"0.4\" stroke-width=\"0\"/>\n",
       "<circle clip-path=\"url(#clip0011)\" cx=\"995.542\" cy=\"874.618\" r=\"14\" fill=\"#fba45c\" fill-rule=\"evenodd\" fill-opacity=\"0.4\" stroke=\"#000000\" stroke-opacity=\"0.4\" stroke-width=\"0\"/>\n",
       "<circle clip-path=\"url(#clip0011)\" cx=\"915.112\" cy=\"898.326\" r=\"14\" fill=\"#fba45c\" fill-rule=\"evenodd\" fill-opacity=\"0.4\" stroke=\"#000000\" stroke-opacity=\"0.4\" stroke-width=\"0\"/>\n",
       "<circle clip-path=\"url(#clip0011)\" cx=\"955.327\" cy=\"877.252\" r=\"14\" fill=\"#fba45c\" fill-rule=\"evenodd\" fill-opacity=\"0.4\" stroke=\"#000000\" stroke-opacity=\"0.4\" stroke-width=\"0\"/>\n",
       "<circle clip-path=\"url(#clip0011)\" cx=\"941.922\" cy=\"885.155\" r=\"14\" fill=\"#fba45c\" fill-rule=\"evenodd\" fill-opacity=\"0.4\" stroke=\"#000000\" stroke-opacity=\"0.4\" stroke-width=\"0\"/>\n",
       "<circle clip-path=\"url(#clip0011)\" cx=\"955.327\" cy=\"879.886\" r=\"14\" fill=\"#fba45c\" fill-rule=\"evenodd\" fill-opacity=\"0.4\" stroke=\"#000000\" stroke-opacity=\"0.4\" stroke-width=\"0\"/>\n",
       "<circle clip-path=\"url(#clip0011)\" cx=\"955.327\" cy=\"858.812\" r=\"14\" fill=\"#fba45c\" fill-rule=\"evenodd\" fill-opacity=\"0.4\" stroke=\"#000000\" stroke-opacity=\"0.4\" stroke-width=\"0\"/>\n",
       "<circle clip-path=\"url(#clip0011)\" cx=\"888.302\" cy=\"914.132\" r=\"14\" fill=\"#fba45c\" fill-rule=\"evenodd\" fill-opacity=\"0.4\" stroke=\"#000000\" stroke-opacity=\"0.4\" stroke-width=\"0\"/>\n",
       "<circle clip-path=\"url(#clip0011)\" cx=\"941.922\" cy=\"866.715\" r=\"14\" fill=\"#fba45c\" fill-rule=\"evenodd\" fill-opacity=\"0.4\" stroke=\"#000000\" stroke-opacity=\"0.4\" stroke-width=\"0\"/>\n",
       "<circle clip-path=\"url(#clip0011)\" cx=\"888.302\" cy=\"879.886\" r=\"14\" fill=\"#fba45c\" fill-rule=\"evenodd\" fill-opacity=\"0.4\" stroke=\"#000000\" stroke-opacity=\"0.4\" stroke-width=\"0\"/>\n",
       "<circle clip-path=\"url(#clip0011)\" cx=\"1035.76\" cy=\"871.984\" r=\"14\" fill=\"#fba45c\" fill-rule=\"evenodd\" fill-opacity=\"0.4\" stroke=\"#000000\" stroke-opacity=\"0.4\" stroke-width=\"0\"/>\n",
       "<circle clip-path=\"url(#clip0011)\" cx=\"982.137\" cy=\"898.326\" r=\"14\" fill=\"#fba45c\" fill-rule=\"evenodd\" fill-opacity=\"0.4\" stroke=\"#000000\" stroke-opacity=\"0.4\" stroke-width=\"0\"/>\n",
       "<circle clip-path=\"url(#clip0011)\" cx=\"915.112\" cy=\"893.058\" r=\"14\" fill=\"#fba45c\" fill-rule=\"evenodd\" fill-opacity=\"0.4\" stroke=\"#000000\" stroke-opacity=\"0.4\" stroke-width=\"0\"/>\n",
       "<circle clip-path=\"url(#clip0011)\" cx=\"955.327\" cy=\"887.789\" r=\"14\" fill=\"#fba45c\" fill-rule=\"evenodd\" fill-opacity=\"0.4\" stroke=\"#000000\" stroke-opacity=\"0.4\" stroke-width=\"0\"/>\n",
       "<circle clip-path=\"url(#clip0011)\" cx=\"888.302\" cy=\"900.961\" r=\"14\" fill=\"#fba45c\" fill-rule=\"evenodd\" fill-opacity=\"0.4\" stroke=\"#000000\" stroke-opacity=\"0.4\" stroke-width=\"0\"/>\n",
       "<circle clip-path=\"url(#clip0011)\" cx=\"928.517\" cy=\"898.326\" r=\"14\" fill=\"#fba45c\" fill-rule=\"evenodd\" fill-opacity=\"0.4\" stroke=\"#000000\" stroke-opacity=\"0.4\" stroke-width=\"0\"/>\n",
       "<circle clip-path=\"url(#clip0011)\" cx=\"982.137\" cy=\"893.058\" r=\"14\" fill=\"#fba45c\" fill-rule=\"evenodd\" fill-opacity=\"0.4\" stroke=\"#000000\" stroke-opacity=\"0.4\" stroke-width=\"0\"/>\n",
       "<circle clip-path=\"url(#clip0011)\" cx=\"955.327\" cy=\"887.789\" r=\"14\" fill=\"#fba45c\" fill-rule=\"evenodd\" fill-opacity=\"0.4\" stroke=\"#000000\" stroke-opacity=\"0.4\" stroke-width=\"0\"/>\n",
       "<circle clip-path=\"url(#clip0011)\" cx=\"1062.57\" cy=\"856.178\" r=\"14\" fill=\"#fba45c\" fill-rule=\"evenodd\" fill-opacity=\"0.4\" stroke=\"#000000\" stroke-opacity=\"0.4\" stroke-width=\"0\"/>\n",
       "<circle clip-path=\"url(#clip0011)\" cx=\"901.707\" cy=\"850.909\" r=\"14\" fill=\"#fba45c\" fill-rule=\"evenodd\" fill-opacity=\"0.4\" stroke=\"#000000\" stroke-opacity=\"0.4\" stroke-width=\"0\"/>\n",
       "<circle clip-path=\"url(#clip0011)\" cx=\"848.087\" cy=\"900.961\" r=\"14\" fill=\"#fba45c\" fill-rule=\"evenodd\" fill-opacity=\"0.4\" stroke=\"#000000\" stroke-opacity=\"0.4\" stroke-width=\"0\"/>\n",
       "<circle clip-path=\"url(#clip0011)\" cx=\"982.137\" cy=\"882.521\" r=\"14\" fill=\"#fba45c\" fill-rule=\"evenodd\" fill-opacity=\"0.4\" stroke=\"#000000\" stroke-opacity=\"0.4\" stroke-width=\"0\"/>\n",
       "<circle clip-path=\"url(#clip0011)\" cx=\"928.517\" cy=\"903.595\" r=\"14\" fill=\"#fba45c\" fill-rule=\"evenodd\" fill-opacity=\"0.4\" stroke=\"#000000\" stroke-opacity=\"0.4\" stroke-width=\"0\"/>\n",
       "<circle clip-path=\"url(#clip0011)\" cx=\"928.517\" cy=\"856.178\" r=\"14\" fill=\"#fba45c\" fill-rule=\"evenodd\" fill-opacity=\"0.4\" stroke=\"#000000\" stroke-opacity=\"0.4\" stroke-width=\"0\"/>\n",
       "<circle clip-path=\"url(#clip0011)\" cx=\"915.112\" cy=\"903.595\" r=\"14\" fill=\"#fba45c\" fill-rule=\"evenodd\" fill-opacity=\"0.4\" stroke=\"#000000\" stroke-opacity=\"0.4\" stroke-width=\"0\"/>\n",
       "<circle clip-path=\"url(#clip0011)\" cx=\"995.542\" cy=\"882.521\" r=\"14\" fill=\"#fba45c\" fill-rule=\"evenodd\" fill-opacity=\"0.4\" stroke=\"#000000\" stroke-opacity=\"0.4\" stroke-width=\"0\"/>\n",
       "<circle clip-path=\"url(#clip0011)\" cx=\"982.137\" cy=\"874.618\" r=\"14\" fill=\"#fba45c\" fill-rule=\"evenodd\" fill-opacity=\"0.4\" stroke=\"#000000\" stroke-opacity=\"0.4\" stroke-width=\"0\"/>\n",
       "<circle clip-path=\"url(#clip0011)\" cx=\"928.517\" cy=\"906.229\" r=\"14\" fill=\"#fba45c\" fill-rule=\"evenodd\" fill-opacity=\"0.4\" stroke=\"#000000\" stroke-opacity=\"0.4\" stroke-width=\"0\"/>\n",
       "<circle clip-path=\"url(#clip0011)\" cx=\"955.327\" cy=\"903.595\" r=\"14\" fill=\"#fba45c\" fill-rule=\"evenodd\" fill-opacity=\"0.4\" stroke=\"#000000\" stroke-opacity=\"0.4\" stroke-width=\"0\"/>\n",
       "<circle clip-path=\"url(#clip0011)\" cx=\"928.517\" cy=\"885.155\" r=\"14\" fill=\"#fba45c\" fill-rule=\"evenodd\" fill-opacity=\"0.4\" stroke=\"#000000\" stroke-opacity=\"0.4\" stroke-width=\"0\"/>\n",
       "<circle clip-path=\"url(#clip0011)\" cx=\"955.327\" cy=\"879.886\" r=\"14\" fill=\"#fba45c\" fill-rule=\"evenodd\" fill-opacity=\"0.4\" stroke=\"#000000\" stroke-opacity=\"0.4\" stroke-width=\"0\"/>\n",
       "<circle clip-path=\"url(#clip0011)\" cx=\"928.517\" cy=\"871.984\" r=\"14\" fill=\"#fba45c\" fill-rule=\"evenodd\" fill-opacity=\"0.4\" stroke=\"#000000\" stroke-opacity=\"0.4\" stroke-width=\"0\"/>\n",
       "<circle clip-path=\"url(#clip0011)\" cx=\"1062.57\" cy=\"864.081\" r=\"14\" fill=\"#fba45c\" fill-rule=\"evenodd\" fill-opacity=\"0.4\" stroke=\"#000000\" stroke-opacity=\"0.4\" stroke-width=\"0\"/>\n",
       "<circle clip-path=\"url(#clip0011)\" cx=\"928.517\" cy=\"885.155\" r=\"14\" fill=\"#fba45c\" fill-rule=\"evenodd\" fill-opacity=\"0.4\" stroke=\"#000000\" stroke-opacity=\"0.4\" stroke-width=\"0\"/>\n",
       "<circle clip-path=\"url(#clip0011)\" cx=\"928.517\" cy=\"898.326\" r=\"14\" fill=\"#fba45c\" fill-rule=\"evenodd\" fill-opacity=\"0.4\" stroke=\"#000000\" stroke-opacity=\"0.4\" stroke-width=\"0\"/>\n",
       "<circle clip-path=\"url(#clip0011)\" cx=\"901.707\" cy=\"885.155\" r=\"14\" fill=\"#fba45c\" fill-rule=\"evenodd\" fill-opacity=\"0.4\" stroke=\"#000000\" stroke-opacity=\"0.4\" stroke-width=\"0\"/>\n",
       "<circle clip-path=\"url(#clip0011)\" cx=\"955.327\" cy=\"871.984\" r=\"14\" fill=\"#fba45c\" fill-rule=\"evenodd\" fill-opacity=\"0.4\" stroke=\"#000000\" stroke-opacity=\"0.4\" stroke-width=\"0\"/>\n",
       "<circle clip-path=\"url(#clip0011)\" cx=\"1008.95\" cy=\"885.155\" r=\"14\" fill=\"#fba45c\" fill-rule=\"evenodd\" fill-opacity=\"0.4\" stroke=\"#000000\" stroke-opacity=\"0.4\" stroke-width=\"0\"/>\n",
       "<circle clip-path=\"url(#clip0011)\" cx=\"968.732\" cy=\"887.789\" r=\"14\" fill=\"#fba45c\" fill-rule=\"evenodd\" fill-opacity=\"0.4\" stroke=\"#000000\" stroke-opacity=\"0.4\" stroke-width=\"0\"/>\n",
       "<circle clip-path=\"url(#clip0011)\" cx=\"955.327\" cy=\"906.229\" r=\"14\" fill=\"#fba45c\" fill-rule=\"evenodd\" fill-opacity=\"0.4\" stroke=\"#000000\" stroke-opacity=\"0.4\" stroke-width=\"0\"/>\n",
       "<circle clip-path=\"url(#clip0011)\" cx=\"968.732\" cy=\"890.424\" r=\"14\" fill=\"#fba45c\" fill-rule=\"evenodd\" fill-opacity=\"0.4\" stroke=\"#000000\" stroke-opacity=\"0.4\" stroke-width=\"0\"/>\n",
       "<circle clip-path=\"url(#clip0011)\" cx=\"968.732\" cy=\"885.155\" r=\"14\" fill=\"#fba45c\" fill-rule=\"evenodd\" fill-opacity=\"0.4\" stroke=\"#000000\" stroke-opacity=\"0.4\" stroke-width=\"0\"/>\n",
       "<circle clip-path=\"url(#clip0011)\" cx=\"968.732\" cy=\"898.326\" r=\"14\" fill=\"#fba45c\" fill-rule=\"evenodd\" fill-opacity=\"0.4\" stroke=\"#000000\" stroke-opacity=\"0.4\" stroke-width=\"0\"/>\n",
       "<circle clip-path=\"url(#clip0011)\" cx=\"915.112\" cy=\"898.326\" r=\"14\" fill=\"#fba45c\" fill-rule=\"evenodd\" fill-opacity=\"0.4\" stroke=\"#000000\" stroke-opacity=\"0.4\" stroke-width=\"0\"/>\n",
       "<circle clip-path=\"url(#clip0011)\" cx=\"982.137\" cy=\"877.252\" r=\"14\" fill=\"#fba45c\" fill-rule=\"evenodd\" fill-opacity=\"0.4\" stroke=\"#000000\" stroke-opacity=\"0.4\" stroke-width=\"0\"/>\n",
       "<circle clip-path=\"url(#clip0011)\" cx=\"995.542\" cy=\"882.521\" r=\"14\" fill=\"#fba45c\" fill-rule=\"evenodd\" fill-opacity=\"0.4\" stroke=\"#000000\" stroke-opacity=\"0.4\" stroke-width=\"0\"/>\n",
       "<circle clip-path=\"url(#clip0011)\" cx=\"955.327\" cy=\"895.692\" r=\"14\" fill=\"#fba45c\" fill-rule=\"evenodd\" fill-opacity=\"0.4\" stroke=\"#000000\" stroke-opacity=\"0.4\" stroke-width=\"0\"/>\n",
       "<circle clip-path=\"url(#clip0011)\" cx=\"888.302\" cy=\"900.961\" r=\"14\" fill=\"#fba45c\" fill-rule=\"evenodd\" fill-opacity=\"0.4\" stroke=\"#000000\" stroke-opacity=\"0.4\" stroke-width=\"0\"/>\n",
       "<circle clip-path=\"url(#clip0011)\" cx=\"955.327\" cy=\"895.692\" r=\"14\" fill=\"#fba45c\" fill-rule=\"evenodd\" fill-opacity=\"0.4\" stroke=\"#000000\" stroke-opacity=\"0.4\" stroke-width=\"0\"/>\n",
       "<circle clip-path=\"url(#clip0011)\" cx=\"1008.95\" cy=\"890.424\" r=\"14\" fill=\"#fba45c\" fill-rule=\"evenodd\" fill-opacity=\"0.4\" stroke=\"#000000\" stroke-opacity=\"0.4\" stroke-width=\"0\"/>\n",
       "<circle clip-path=\"url(#clip0011)\" cx=\"955.327\" cy=\"898.326\" r=\"14\" fill=\"#fba45c\" fill-rule=\"evenodd\" fill-opacity=\"0.4\" stroke=\"#000000\" stroke-opacity=\"0.4\" stroke-width=\"0\"/>\n",
       "<polyline clip-path=\"url(#clip0011)\" style=\"stroke:#000000; stroke-width:4; stroke-opacity:1; fill:none\" points=\"\n",
       "  821.277,885.347 1143,995.052 \n",
       "  \"/>\n",
       "<path clip-path=\"url(#clip000)\" d=\"\n",
       "M1380.44 1039 L1772.05 1039 L1772.05 815.61 L1380.44 815.61  Z\n",
       "  \" fill=\"#ffffff\" fill-rule=\"evenodd\" fill-opacity=\"1\"/>\n",
       "<defs>\n",
       "  <clipPath id=\"clip0012\">\n",
       "    <rect x=\"1380\" y=\"815\" width=\"393\" height=\"224\"/>\n",
       "  </clipPath>\n",
       "</defs>\n",
       "<polyline clip-path=\"url(#clip000)\" style=\"stroke:#000000; stroke-width:4; stroke-opacity:1; fill:none\" points=\"\n",
       "  1380.44,1039 1772.05,1039 \n",
       "  \"/>\n",
       "<polyline clip-path=\"url(#clip000)\" style=\"stroke:#000000; stroke-width:4; stroke-opacity:1; fill:none\" points=\"\n",
       "  1401.98,1039 1401.98,1036.32 \n",
       "  \"/>\n",
       "<polyline clip-path=\"url(#clip000)\" style=\"stroke:#000000; stroke-width:4; stroke-opacity:1; fill:none\" points=\"\n",
       "  1489.11,1039 1489.11,1036.32 \n",
       "  \"/>\n",
       "<polyline clip-path=\"url(#clip000)\" style=\"stroke:#000000; stroke-width:4; stroke-opacity:1; fill:none\" points=\"\n",
       "  1576.25,1039 1576.25,1036.32 \n",
       "  \"/>\n",
       "<polyline clip-path=\"url(#clip000)\" style=\"stroke:#000000; stroke-width:4; stroke-opacity:1; fill:none\" points=\"\n",
       "  1663.38,1039 1663.38,1036.32 \n",
       "  \"/>\n",
       "<polyline clip-path=\"url(#clip000)\" style=\"stroke:#000000; stroke-width:4; stroke-opacity:1; fill:none\" points=\"\n",
       "  1750.51,1039 1750.51,1036.32 \n",
       "  \"/>\n",
       "<path clip-path=\"url(#clip000)\" d=\"M 0 0 M1401.98 1068.19 Q1398.37 1068.19 1396.54 1071.75 Q1394.74 1075.29 1394.74 1082.42 Q1394.74 1089.53 1396.54 1093.09 Q1398.37 1096.64 1401.98 1096.64 Q1405.62 1096.64 1407.42 1093.09 Q1409.25 1089.53 1409.25 1082.42 Q1409.25 1075.29 1407.42 1071.75 Q1405.62 1068.19 1401.98 1068.19 M1401.98 1064.48 Q1407.79 1064.48 1410.85 1069.09 Q1413.93 1073.67 1413.93 1082.42 Q1413.93 1091.15 1410.85 1095.76 Q1407.79 1100.34 1401.98 1100.34 Q1396.17 1100.34 1393.09 1095.76 Q1390.04 1091.15 1390.04 1082.42 Q1390.04 1073.67 1393.09 1069.09 Q1396.17 1064.48 1401.98 1064.48 Z\" fill=\"#000000\" fill-rule=\"evenodd\" fill-opacity=\"1\" /><path clip-path=\"url(#clip000)\" d=\"M 0 0 M1483.77 1095.73 L1500.09 1095.73 L1500.09 1099.67 L1478.14 1099.67 L1478.14 1095.73 Q1480.8 1092.98 1485.39 1088.35 Q1489.99 1083.7 1491.17 1082.35 Q1493.42 1079.83 1494.3 1078.09 Q1495.2 1076.34 1495.2 1074.65 Q1495.2 1071.89 1493.26 1070.16 Q1491.34 1068.42 1488.23 1068.42 Q1486.04 1068.42 1483.58 1069.18 Q1481.15 1069.95 1478.37 1071.5 L1478.37 1066.78 Q1481.2 1065.64 1483.65 1065.06 Q1486.11 1064.48 1488.14 1064.48 Q1493.51 1064.48 1496.71 1067.17 Q1499.9 1069.85 1499.9 1074.34 Q1499.9 1076.47 1499.09 1078.4 Q1498.3 1080.29 1496.2 1082.89 Q1495.62 1083.56 1492.52 1086.78 Q1489.42 1089.97 1483.77 1095.73 Z\" fill=\"#000000\" fill-rule=\"evenodd\" fill-opacity=\"1\" /><path clip-path=\"url(#clip000)\" d=\"M 0 0 M1579.26 1069.18 L1567.45 1087.63 L1579.26 1087.63 L1579.26 1069.18 M1578.03 1065.11 L1583.91 1065.11 L1583.91 1087.63 L1588.84 1087.63 L1588.84 1091.52 L1583.91 1091.52 L1583.91 1099.67 L1579.26 1099.67 L1579.26 1091.52 L1563.65 1091.52 L1563.65 1087.01 L1578.03 1065.11 Z\" fill=\"#000000\" fill-rule=\"evenodd\" fill-opacity=\"1\" /><path clip-path=\"url(#clip000)\" d=\"M 0 0 M1663.78 1080.53 Q1660.64 1080.53 1658.78 1082.68 Q1656.96 1084.83 1656.96 1088.58 Q1656.96 1092.31 1658.78 1094.48 Q1660.64 1096.64 1663.78 1096.64 Q1666.93 1096.64 1668.76 1094.48 Q1670.61 1092.31 1670.61 1088.58 Q1670.61 1084.83 1668.76 1082.68 Q1666.93 1080.53 1663.78 1080.53 M1673.07 1065.87 L1673.07 1070.13 Q1671.31 1069.3 1669.5 1068.86 Q1667.72 1068.42 1665.96 1068.42 Q1661.33 1068.42 1658.88 1071.54 Q1656.45 1074.67 1656.1 1080.99 Q1657.47 1078.97 1659.53 1077.91 Q1661.59 1076.82 1664.06 1076.82 Q1669.27 1076.82 1672.28 1079.99 Q1675.31 1083.14 1675.31 1088.58 Q1675.31 1093.9 1672.16 1097.12 Q1669.02 1100.34 1663.78 1100.34 Q1657.79 1100.34 1654.62 1095.76 Q1651.45 1091.15 1651.45 1082.42 Q1651.45 1074.23 1655.34 1069.37 Q1659.22 1064.48 1665.78 1064.48 Q1667.53 1064.48 1669.32 1064.83 Q1671.12 1065.18 1673.07 1065.87 Z\" fill=\"#000000\" fill-rule=\"evenodd\" fill-opacity=\"1\" /><path clip-path=\"url(#clip000)\" d=\"M 0 0 M1750.51 1083.26 Q1747.18 1083.26 1745.26 1085.04 Q1743.36 1086.82 1743.36 1089.95 Q1743.36 1093.07 1745.26 1094.85 Q1747.18 1096.64 1750.51 1096.64 Q1753.85 1096.64 1755.77 1094.85 Q1757.69 1093.05 1757.69 1089.95 Q1757.69 1086.82 1755.77 1085.04 Q1753.87 1083.26 1750.51 1083.26 M1745.84 1081.27 Q1742.83 1080.53 1741.14 1078.47 Q1739.47 1076.41 1739.47 1073.44 Q1739.47 1069.3 1742.41 1066.89 Q1745.37 1064.48 1750.51 1064.48 Q1755.67 1064.48 1758.61 1066.89 Q1761.55 1069.3 1761.55 1073.44 Q1761.55 1076.41 1759.86 1078.47 Q1758.2 1080.53 1755.21 1081.27 Q1758.59 1082.05 1760.47 1084.34 Q1762.36 1086.64 1762.36 1089.95 Q1762.36 1094.97 1759.28 1097.65 Q1756.23 1100.34 1750.51 1100.34 Q1744.79 1100.34 1741.72 1097.65 Q1738.66 1094.97 1738.66 1089.95 Q1738.66 1086.64 1740.56 1084.34 Q1742.46 1082.05 1745.84 1081.27 M1744.12 1073.88 Q1744.12 1076.57 1745.79 1078.07 Q1747.48 1079.58 1750.51 1079.58 Q1753.52 1079.58 1755.21 1078.07 Q1756.92 1076.57 1756.92 1073.88 Q1756.92 1071.2 1755.21 1069.69 Q1753.52 1068.19 1750.51 1068.19 Q1747.48 1068.19 1745.79 1069.69 Q1744.12 1071.2 1744.12 1073.88 Z\" fill=\"#000000\" fill-rule=\"evenodd\" fill-opacity=\"1\" /><polyline clip-path=\"url(#clip000)\" style=\"stroke:#000000; stroke-width:4; stroke-opacity:1; fill:none\" points=\"\n",
       "  1380.44,1039 1380.44,815.61 \n",
       "  \"/>\n",
       "<polyline clip-path=\"url(#clip000)\" style=\"stroke:#000000; stroke-width:4; stroke-opacity:1; fill:none\" points=\"\n",
       "  1380.44,1032.67 1385.14,1032.67 \n",
       "  \"/>\n",
       "<polyline clip-path=\"url(#clip000)\" style=\"stroke:#000000; stroke-width:4; stroke-opacity:1; fill:none\" points=\"\n",
       "  1380.44,978.638 1385.14,978.638 \n",
       "  \"/>\n",
       "<polyline clip-path=\"url(#clip000)\" style=\"stroke:#000000; stroke-width:4; stroke-opacity:1; fill:none\" points=\"\n",
       "  1380.44,924.602 1385.14,924.602 \n",
       "  \"/>\n",
       "<polyline clip-path=\"url(#clip000)\" style=\"stroke:#000000; stroke-width:4; stroke-opacity:1; fill:none\" points=\"\n",
       "  1380.44,870.565 1385.14,870.565 \n",
       "  \"/>\n",
       "<polyline clip-path=\"url(#clip000)\" style=\"stroke:#000000; stroke-width:4; stroke-opacity:1; fill:none\" points=\"\n",
       "  1380.44,816.529 1385.14,816.529 \n",
       "  \"/>\n",
       "<path clip-path=\"url(#clip000)\" d=\"M 0 0 M1332.5 1018.47 Q1328.89 1018.47 1327.06 1022.04 Q1325.25 1025.58 1325.25 1032.71 Q1325.25 1039.82 1327.06 1043.38 Q1328.89 1046.92 1332.5 1046.92 Q1336.13 1046.92 1337.94 1043.38 Q1339.77 1039.82 1339.77 1032.71 Q1339.77 1025.58 1337.94 1022.04 Q1336.13 1018.47 1332.5 1018.47 M1332.5 1014.77 Q1338.31 1014.77 1341.36 1019.38 Q1344.44 1023.96 1344.44 1032.71 Q1344.44 1041.44 1341.36 1046.04 Q1338.31 1050.63 1332.5 1050.63 Q1326.69 1050.63 1323.61 1046.04 Q1320.55 1041.44 1320.55 1032.71 Q1320.55 1023.96 1323.61 1019.38 Q1326.69 1014.77 1332.5 1014.77 Z\" fill=\"#000000\" fill-rule=\"evenodd\" fill-opacity=\"1\" /><path clip-path=\"url(#clip000)\" d=\"M 0 0 M1296.36 991.983 L1312.68 991.983 L1312.68 995.918 L1290.74 995.918 L1290.74 991.983 Q1293.4 989.228 1297.98 984.599 Q1302.59 979.946 1303.77 978.603 Q1306.02 976.08 1306.9 974.344 Q1307.8 972.585 1307.8 970.895 Q1307.8 968.14 1305.86 966.404 Q1303.93 964.668 1300.83 964.668 Q1298.63 964.668 1296.18 965.432 Q1293.75 966.196 1290.97 967.747 L1290.97 963.025 Q1293.8 961.891 1296.25 961.312 Q1298.7 960.733 1300.74 960.733 Q1306.11 960.733 1309.3 963.418 Q1312.5 966.103 1312.5 970.594 Q1312.5 972.724 1311.69 974.645 Q1310.9 976.543 1308.79 979.136 Q1308.22 979.807 1305.11 983.025 Q1302.01 986.219 1296.36 991.983 Z\" fill=\"#000000\" fill-rule=\"evenodd\" fill-opacity=\"1\" /><path clip-path=\"url(#clip000)\" d=\"M 0 0 M1332.5 964.437 Q1328.89 964.437 1327.06 968.002 Q1325.25 971.543 1325.25 978.673 Q1325.25 985.779 1327.06 989.344 Q1328.89 992.886 1332.5 992.886 Q1336.13 992.886 1337.94 989.344 Q1339.77 985.779 1339.77 978.673 Q1339.77 971.543 1337.94 968.002 Q1336.13 964.437 1332.5 964.437 M1332.5 960.733 Q1338.31 960.733 1341.36 965.34 Q1344.44 969.923 1344.44 978.673 Q1344.44 987.4 1341.36 992.006 Q1338.31 996.589 1332.5 996.589 Q1326.69 996.589 1323.61 992.006 Q1320.55 987.4 1320.55 978.673 Q1320.55 969.923 1323.61 965.34 Q1326.69 960.733 1332.5 960.733 Z\" fill=\"#000000\" fill-rule=\"evenodd\" fill-opacity=\"1\" /><path clip-path=\"url(#clip000)\" d=\"M 0 0 M1305.18 911.396 L1293.38 929.845 L1305.18 929.845 L1305.18 911.396 M1303.96 907.322 L1309.84 907.322 L1309.84 929.845 L1314.77 929.845 L1314.77 933.734 L1309.84 933.734 L1309.84 941.882 L1305.18 941.882 L1305.18 933.734 L1289.58 933.734 L1289.58 929.22 L1303.96 907.322 Z\" fill=\"#000000\" fill-rule=\"evenodd\" fill-opacity=\"1\" /><path clip-path=\"url(#clip000)\" d=\"M 0 0 M1332.5 910.4 Q1328.89 910.4 1327.06 913.965 Q1325.25 917.507 1325.25 924.636 Q1325.25 931.743 1327.06 935.308 Q1328.89 938.849 1332.5 938.849 Q1336.13 938.849 1337.94 935.308 Q1339.77 931.743 1339.77 924.636 Q1339.77 917.507 1337.94 913.965 Q1336.13 910.4 1332.5 910.4 M1332.5 906.697 Q1338.31 906.697 1341.36 911.303 Q1344.44 915.886 1344.44 924.636 Q1344.44 933.363 1341.36 937.97 Q1338.31 942.553 1332.5 942.553 Q1326.69 942.553 1323.61 937.97 Q1320.55 933.363 1320.55 924.636 Q1320.55 915.886 1323.61 911.303 Q1326.69 906.697 1332.5 906.697 Z\" fill=\"#000000\" fill-rule=\"evenodd\" fill-opacity=\"1\" /><path clip-path=\"url(#clip000)\" d=\"M 0 0 M1302.92 868.702 Q1299.77 868.702 1297.92 870.855 Q1296.09 873.007 1296.09 876.757 Q1296.09 880.484 1297.92 882.66 Q1299.77 884.813 1302.92 884.813 Q1306.06 884.813 1307.89 882.66 Q1309.74 880.484 1309.74 876.757 Q1309.74 873.007 1307.89 870.855 Q1306.06 868.702 1302.92 868.702 M1312.2 854.049 L1312.2 858.308 Q1310.44 857.475 1308.63 857.035 Q1306.85 856.595 1305.09 856.595 Q1300.46 856.595 1298.01 859.72 Q1295.58 862.845 1295.23 869.165 Q1296.6 867.151 1298.66 866.086 Q1300.72 864.998 1303.19 864.998 Q1308.4 864.998 1311.41 868.169 Q1314.44 871.317 1314.44 876.757 Q1314.44 882.081 1311.29 885.299 Q1308.15 888.516 1302.92 888.516 Q1296.92 888.516 1293.75 883.933 Q1290.58 879.327 1290.58 870.6 Q1290.58 862.405 1294.47 857.544 Q1298.36 852.66 1304.91 852.66 Q1306.67 852.66 1308.45 853.007 Q1310.25 853.355 1312.2 854.049 Z\" fill=\"#000000\" fill-rule=\"evenodd\" fill-opacity=\"1\" /><path clip-path=\"url(#clip000)\" d=\"M 0 0 M1332.5 856.364 Q1328.89 856.364 1327.06 859.929 Q1325.25 863.47 1325.25 870.6 Q1325.25 877.706 1327.06 881.271 Q1328.89 884.813 1332.5 884.813 Q1336.13 884.813 1337.94 881.271 Q1339.77 877.706 1339.77 870.6 Q1339.77 863.47 1337.94 859.929 Q1336.13 856.364 1332.5 856.364 M1332.5 852.66 Q1338.31 852.66 1341.36 857.267 Q1344.44 861.85 1344.44 870.6 Q1344.44 879.327 1341.36 883.933 Q1338.31 888.516 1332.5 888.516 Q1326.69 888.516 1323.61 883.933 Q1320.55 879.327 1320.55 870.6 Q1320.55 861.85 1323.61 857.267 Q1326.69 852.66 1332.5 852.66 Z\" fill=\"#000000\" fill-rule=\"evenodd\" fill-opacity=\"1\" /><path clip-path=\"url(#clip000)\" d=\"M 0 0 M1302.34 817.397 Q1299 817.397 1297.08 819.179 Q1295.18 820.962 1295.18 824.087 Q1295.18 827.212 1297.08 828.994 Q1299 830.776 1302.34 830.776 Q1305.67 830.776 1307.59 828.994 Q1309.51 827.188 1309.51 824.087 Q1309.51 820.962 1307.59 819.179 Q1305.69 817.397 1302.34 817.397 M1297.66 815.406 Q1294.65 814.665 1292.96 812.605 Q1291.3 810.545 1291.3 807.582 Q1291.3 803.438 1294.23 801.031 Q1297.2 798.624 1302.34 798.624 Q1307.5 798.624 1310.44 801.031 Q1313.38 803.438 1313.38 807.582 Q1313.38 810.545 1311.69 812.605 Q1310.02 814.665 1307.04 815.406 Q1310.42 816.193 1312.29 818.485 Q1314.19 820.776 1314.19 824.087 Q1314.19 829.11 1311.11 831.795 Q1308.05 834.48 1302.34 834.48 Q1296.62 834.48 1293.54 831.795 Q1290.48 829.11 1290.48 824.087 Q1290.48 820.776 1292.38 818.485 Q1294.28 816.193 1297.66 815.406 M1295.95 808.022 Q1295.95 810.707 1297.61 812.212 Q1299.3 813.716 1302.34 813.716 Q1305.35 813.716 1307.04 812.212 Q1308.75 810.707 1308.75 808.022 Q1308.75 805.337 1307.04 803.832 Q1305.35 802.327 1302.34 802.327 Q1299.3 802.327 1297.61 803.832 Q1295.95 805.337 1295.95 808.022 Z\" fill=\"#000000\" fill-rule=\"evenodd\" fill-opacity=\"1\" /><path clip-path=\"url(#clip000)\" d=\"M 0 0 M1332.5 802.327 Q1328.89 802.327 1327.06 805.892 Q1325.25 809.434 1325.25 816.563 Q1325.25 823.67 1327.06 827.235 Q1328.89 830.776 1332.5 830.776 Q1336.13 830.776 1337.94 827.235 Q1339.77 823.67 1339.77 816.563 Q1339.77 809.434 1337.94 805.892 Q1336.13 802.327 1332.5 802.327 M1332.5 798.624 Q1338.31 798.624 1341.36 803.23 Q1344.44 807.813 1344.44 816.563 Q1344.44 825.29 1341.36 829.897 Q1338.31 834.48 1332.5 834.48 Q1326.69 834.48 1323.61 829.897 Q1320.55 825.29 1320.55 816.563 Q1320.55 807.813 1323.61 803.23 Q1326.69 798.624 1332.5 798.624 Z\" fill=\"#000000\" fill-rule=\"evenodd\" fill-opacity=\"1\" /><path clip-path=\"url(#clip0012)\" d=\"\n",
       "M1401.98 897.583 L1401.98 1032.67 L1489.11 1032.67 L1489.11 897.583 L1401.98 897.583 L1401.98 897.583  Z\n",
       "  \" fill=\"#000000\" fill-rule=\"evenodd\" fill-opacity=\"1\"/>\n",
       "<polyline clip-path=\"url(#clip0012)\" style=\"stroke:#000000; stroke-width:4; stroke-opacity:1; fill:none\" points=\"\n",
       "  1401.98,897.583 1401.98,1032.67 1489.11,1032.67 1489.11,897.583 1401.98,897.583 \n",
       "  \"/>\n",
       "<path clip-path=\"url(#clip0012)\" d=\"\n",
       "M1489.11 1002.95 L1489.11 1032.67 L1576.25 1032.67 L1576.25 1002.95 L1489.11 1002.95 L1489.11 1002.95  Z\n",
       "  \" fill=\"#000000\" fill-rule=\"evenodd\" fill-opacity=\"1\"/>\n",
       "<polyline clip-path=\"url(#clip0012)\" style=\"stroke:#000000; stroke-width:4; stroke-opacity:1; fill:none\" points=\"\n",
       "  1489.11,1002.95 1489.11,1032.67 1576.25,1032.67 1576.25,1002.95 1489.11,1002.95 \n",
       "  \"/>\n",
       "<path clip-path=\"url(#clip0012)\" d=\"\n",
       "M1576.25 821.932 L1576.25 1032.67 L1663.38 1032.67 L1663.38 821.932 L1576.25 821.932 L1576.25 821.932  Z\n",
       "  \" fill=\"#000000\" fill-rule=\"evenodd\" fill-opacity=\"1\"/>\n",
       "<polyline clip-path=\"url(#clip0012)\" style=\"stroke:#000000; stroke-width:4; stroke-opacity:1; fill:none\" points=\"\n",
       "  1576.25,821.932 1576.25,1032.67 1663.38,1032.67 1663.38,821.932 1576.25,821.932 \n",
       "  \"/>\n",
       "<path clip-path=\"url(#clip0012)\" d=\"\n",
       "M1663.38 1002.95 L1663.38 1032.67 L1750.51 1032.67 L1750.51 1002.95 L1663.38 1002.95 L1663.38 1002.95  Z\n",
       "  \" fill=\"#000000\" fill-rule=\"evenodd\" fill-opacity=\"1\"/>\n",
       "<polyline clip-path=\"url(#clip0012)\" style=\"stroke:#000000; stroke-width:4; stroke-opacity:1; fill:none\" points=\"\n",
       "  1663.38,1002.95 1663.38,1032.67 1750.51,1032.67 1750.51,1002.95 1663.38,1002.95 \n",
       "  \"/>\n",
       "<path clip-path=\"url(#clip000)\" d=\"\n",
       "M1961.15 1039 L2352.76 1039 L2352.76 815.61 L1961.15 815.61  Z\n",
       "  \" fill=\"#ffffff\" fill-rule=\"evenodd\" fill-opacity=\"1\"/>\n",
       "<defs>\n",
       "  <clipPath id=\"clip0013\">\n",
       "    <rect x=\"1961\" y=\"815\" width=\"393\" height=\"224\"/>\n",
       "  </clipPath>\n",
       "</defs>\n",
       "<polyline clip-path=\"url(#clip000)\" style=\"stroke:#000000; stroke-width:4; stroke-opacity:1; fill:none\" points=\"\n",
       "  1961.15,1039 2352.76,1039 \n",
       "  \"/>\n",
       "<polyline clip-path=\"url(#clip000)\" style=\"stroke:#000000; stroke-width:4; stroke-opacity:1; fill:none\" points=\"\n",
       "  1982.69,1039 1982.69,1036.32 \n",
       "  \"/>\n",
       "<polyline clip-path=\"url(#clip000)\" style=\"stroke:#000000; stroke-width:4; stroke-opacity:1; fill:none\" points=\"\n",
       "  2098.86,1039 2098.86,1036.32 \n",
       "  \"/>\n",
       "<polyline clip-path=\"url(#clip000)\" style=\"stroke:#000000; stroke-width:4; stroke-opacity:1; fill:none\" points=\"\n",
       "  2215.04,1039 2215.04,1036.32 \n",
       "  \"/>\n",
       "<polyline clip-path=\"url(#clip000)\" style=\"stroke:#000000; stroke-width:4; stroke-opacity:1; fill:none\" points=\"\n",
       "  2331.22,1039 2331.22,1036.32 \n",
       "  \"/>\n",
       "<polyline clip-path=\"url(#clip000)\" style=\"stroke:#000000; stroke-width:4; stroke-opacity:1; fill:none\" points=\"\n",
       "  1961.15,1039 1961.15,815.61 \n",
       "  \"/>\n",
       "<polyline clip-path=\"url(#clip000)\" style=\"stroke:#000000; stroke-width:4; stroke-opacity:1; fill:none\" points=\"\n",
       "  1961.15,1032.67 1965.85,1032.67 \n",
       "  \"/>\n",
       "<polyline clip-path=\"url(#clip000)\" style=\"stroke:#000000; stroke-width:4; stroke-opacity:1; fill:none\" points=\"\n",
       "  1961.15,979.989 1965.85,979.989 \n",
       "  \"/>\n",
       "<polyline clip-path=\"url(#clip000)\" style=\"stroke:#000000; stroke-width:4; stroke-opacity:1; fill:none\" points=\"\n",
       "  1961.15,927.303 1965.85,927.303 \n",
       "  \"/>\n",
       "<polyline clip-path=\"url(#clip000)\" style=\"stroke:#000000; stroke-width:4; stroke-opacity:1; fill:none\" points=\"\n",
       "  1961.15,874.618 1965.85,874.618 \n",
       "  \"/>\n",
       "<polyline clip-path=\"url(#clip000)\" style=\"stroke:#000000; stroke-width:4; stroke-opacity:1; fill:none\" points=\"\n",
       "  1961.15,821.932 1965.85,821.932 \n",
       "  \"/>\n",
       "<g clip-path=\"url(#clip0013)\">\n",
       "<image width=\"349\" height=\"211\" xlink:href=\"data:image/png;base64,\n",
       "iVBORw0KGgoAAAANSUhEUgAAAV0AAADTCAYAAAAiRcCrAAAC/UlEQVR4nO3WwQmEQBREwRnZ/FPW\n",
       "BIS9yPugVRH06dF78Ubn9ADg3jE9AOBLRBcgJLoAIdEFCIkuQEh0AUKiCxASXYCQ6AKERBcgJLoA\n",
       "IdEFCIkuQEh0AUKiCxASXYCQ6AKERBcgJLoAIdEFCIkuQEh0AUKiCxASXYCQ6AKERBcgJLoAIdEF\n",
       "CIkuQEh0AUKiCxASXYCQ6AKERBcgJLoAIdEFCIkuQEh0AUKiCxASXYCQ6AKERBcgJLoAIdEFCIku\n",
       "QEh0AUKiCxASXYCQ6AKERBcgJLoAIdEFCIkuQEh0AUKiCxASXYCQ6AKERBcgJLoAIdEFCIkuQEh0\n",
       "AUKiCxASXYCQ6AKERBcgJLoAIdEFCIkuQEh0AUKiCxASXYCQ6AKERBcgJLoAIdEFCIkuQEh0AUKi\n",
       "CxASXYCQ6AKERBcgJLoAIdEFCIkuQEh0AUKiCxASXYCQ6AKERBcgJLoAIdEFCIkuQEh0AUKiCxAS\n",
       "XYCQ6AKERBcgJLoAIdEFCIkuQEh0AUKiCxASXYCQ6AKEftMDgL/29ACe4+kChEQXICS6ACHRBQiJ\n",
       "LkBIdAFCogsQEl2AkOgChEQXICS6ACHRBQiJLkBIdAFCogsQEl2AkOgChEQXICS6ACHRBQiJLkBI\n",
       "dAFCogsQEl2AkOgChEQXICS6ACHRBQiJLkBIdAFCogsQEl2AkOgChEQXICS6ACHRBQiJLkBIdAFC\n",
       "ogsQEl2AkOgChEQXICS6ACHRBQiJLkBIdAFCogsQEl2AkOgChEQXICS6ACHRBQjttdY5PYLH7ekB\n",
       "wD1PFyAkugAh0QUIiS5ASHQBQqILEBJdgJDoAoREFyAkugAh0QUIiS5ASHQBQqILEBJdgJDoAoRE\n",
       "FyAkugAh0QUIiS5ASHQBQqILEBJdgJDoAoREFyAkugAh0QUIiS5ASHQBQqILEBJdgJDoAoREFyAk\n",
       "ugAh0QUIiS5ASHQBQqILEBJdgJDoAoREFyAkugAh0QUIiS5ASHQBQqILEBJdgJDoAoREFyAkugAh\n",
       "0QUIXYL4A6c8xjFeAAAAAElFTkSuQmCC\n",
       "\" transform=\"translate(1983, 822)\"/>\n",
       "</g>\n",
       "<path clip-path=\"url(#clip000)\" d=\"\n",
       "M220.19 1423.18 L611.798 1423.18 L611.798 1199.79 L220.19 1199.79  Z\n",
       "  \" fill=\"#ffffff\" fill-rule=\"evenodd\" fill-opacity=\"1\"/>\n",
       "<defs>\n",
       "  <clipPath id=\"clip0014\">\n",
       "    <rect x=\"220\" y=\"1199\" width=\"393\" height=\"224\"/>\n",
       "  </clipPath>\n",
       "</defs>\n",
       "<polyline clip-path=\"url(#clip000)\" style=\"stroke:#000000; stroke-width:4; stroke-opacity:1; fill:none\" points=\"\n",
       "  220.19,1423.18 611.798,1423.18 \n",
       "  \"/>\n",
       "<polyline clip-path=\"url(#clip000)\" style=\"stroke:#000000; stroke-width:4; stroke-opacity:1; fill:none\" points=\"\n",
       "  241.729,1423.18 241.729,1420.5 \n",
       "  \"/>\n",
       "<polyline clip-path=\"url(#clip000)\" style=\"stroke:#000000; stroke-width:4; stroke-opacity:1; fill:none\" points=\"\n",
       "  328.862,1423.18 328.862,1420.5 \n",
       "  \"/>\n",
       "<polyline clip-path=\"url(#clip000)\" style=\"stroke:#000000; stroke-width:4; stroke-opacity:1; fill:none\" points=\"\n",
       "  415.994,1423.18 415.994,1420.5 \n",
       "  \"/>\n",
       "<polyline clip-path=\"url(#clip000)\" style=\"stroke:#000000; stroke-width:4; stroke-opacity:1; fill:none\" points=\"\n",
       "  503.127,1423.18 503.127,1420.5 \n",
       "  \"/>\n",
       "<polyline clip-path=\"url(#clip000)\" style=\"stroke:#000000; stroke-width:4; stroke-opacity:1; fill:none\" points=\"\n",
       "  590.259,1423.18 590.259,1420.5 \n",
       "  \"/>\n",
       "<path clip-path=\"url(#clip000)\" d=\"M 0 0 M244.739 1453.37 L232.933 1471.81 L244.739 1471.81 L244.739 1453.37 M243.512 1449.29 L249.391 1449.29 L249.391 1471.81 L254.322 1471.81 L254.322 1475.7 L249.391 1475.7 L249.391 1483.85 L244.739 1483.85 L244.739 1475.7 L229.137 1475.7 L229.137 1471.19 L243.512 1449.29 Z\" fill=\"#000000\" fill-rule=\"evenodd\" fill-opacity=\"1\" /><path clip-path=\"url(#clip000)\" d=\"M 0 0 M319.14 1449.29 L337.496 1449.29 L337.496 1453.23 L323.422 1453.23 L323.422 1461.7 Q324.441 1461.35 325.459 1461.19 Q326.478 1461 327.496 1461 Q333.283 1461 336.663 1464.18 Q340.042 1467.35 340.042 1472.76 Q340.042 1478.34 336.57 1481.44 Q333.098 1484.52 326.779 1484.52 Q324.603 1484.52 322.334 1484.15 Q320.089 1483.78 317.681 1483.04 L317.681 1478.34 Q319.765 1479.48 321.987 1480.03 Q324.209 1480.59 326.686 1480.59 Q330.691 1480.59 333.029 1478.48 Q335.366 1476.38 335.366 1472.76 Q335.366 1469.15 333.029 1467.05 Q330.691 1464.94 326.686 1464.94 Q324.811 1464.94 322.936 1465.36 Q321.084 1465.77 319.14 1466.65 L319.14 1449.29 Z\" fill=\"#000000\" fill-rule=\"evenodd\" fill-opacity=\"1\" /><path clip-path=\"url(#clip000)\" d=\"M 0 0 M416.399 1464.71 Q413.251 1464.71 411.399 1466.86 Q409.571 1469.01 409.571 1472.76 Q409.571 1476.49 411.399 1478.67 Q413.251 1480.82 416.399 1480.82 Q419.548 1480.82 421.376 1478.67 Q423.228 1476.49 423.228 1472.76 Q423.228 1469.01 421.376 1466.86 Q419.548 1464.71 416.399 1464.71 M425.682 1450.06 L425.682 1454.31 Q423.923 1453.48 422.117 1453.04 Q420.335 1452.6 418.575 1452.6 Q413.946 1452.6 411.492 1455.73 Q409.061 1458.85 408.714 1465.17 Q410.08 1463.16 412.14 1462.09 Q414.2 1461 416.677 1461 Q421.885 1461 424.895 1464.18 Q427.927 1467.32 427.927 1472.76 Q427.927 1478.09 424.779 1481.31 Q421.631 1484.52 416.399 1484.52 Q410.404 1484.52 407.233 1479.94 Q404.062 1475.33 404.062 1466.61 Q404.062 1458.41 407.95 1453.55 Q411.839 1448.67 418.39 1448.67 Q420.149 1448.67 421.932 1449.01 Q423.737 1449.36 425.682 1450.06 Z\" fill=\"#000000\" fill-rule=\"evenodd\" fill-opacity=\"1\" /><path clip-path=\"url(#clip000)\" d=\"M 0 0 M492.016 1449.29 L514.238 1449.29 L514.238 1451.28 L501.692 1483.85 L496.807 1483.85 L508.613 1453.23 L492.016 1453.23 L492.016 1449.29 Z\" fill=\"#000000\" fill-rule=\"evenodd\" fill-opacity=\"1\" /><path clip-path=\"url(#clip000)\" d=\"M 0 0 M590.259 1467.44 Q586.926 1467.44 585.005 1469.22 Q583.106 1471 583.106 1474.13 Q583.106 1477.25 585.005 1479.04 Q586.926 1480.82 590.259 1480.82 Q593.592 1480.82 595.514 1479.04 Q597.435 1477.23 597.435 1474.13 Q597.435 1471 595.514 1469.22 Q593.616 1467.44 590.259 1467.44 M585.583 1465.45 Q582.574 1464.71 580.884 1462.65 Q579.218 1460.59 579.218 1457.63 Q579.218 1453.48 582.157 1451.07 Q585.12 1448.67 590.259 1448.67 Q595.421 1448.67 598.361 1451.07 Q601.301 1453.48 601.301 1457.63 Q601.301 1460.59 599.611 1462.65 Q597.944 1464.71 594.958 1465.45 Q598.338 1466.24 600.213 1468.53 Q602.111 1470.82 602.111 1474.13 Q602.111 1479.15 599.032 1481.84 Q595.977 1484.52 590.259 1484.52 Q584.542 1484.52 581.463 1481.84 Q578.407 1479.15 578.407 1474.13 Q578.407 1470.82 580.306 1468.53 Q582.204 1466.24 585.583 1465.45 M583.87 1458.06 Q583.87 1460.75 585.537 1462.25 Q587.227 1463.76 590.259 1463.76 Q593.268 1463.76 594.958 1462.25 Q596.671 1460.75 596.671 1458.06 Q596.671 1455.38 594.958 1453.88 Q593.268 1452.37 590.259 1452.37 Q587.227 1452.37 585.537 1453.88 Q583.87 1455.38 583.87 1458.06 Z\" fill=\"#000000\" fill-rule=\"evenodd\" fill-opacity=\"1\" /><path clip-path=\"url(#clip000)\" d=\"M 0 0 M248.624 1522.08 L248.624 1528.35 Q244.964 1526.6 241.717 1525.74 Q238.471 1524.88 235.447 1524.88 Q230.195 1524.88 227.331 1526.92 Q224.498 1528.96 224.498 1532.71 Q224.498 1535.87 226.376 1537.49 Q228.286 1539.08 233.569 1540.07 L237.452 1540.86 Q244.645 1542.23 248.051 1545.7 Q251.489 1549.14 251.489 1554.93 Q251.489 1561.84 246.842 1565.4 Q242.226 1568.97 233.283 1568.97 Q229.909 1568.97 226.089 1568.2 Q222.302 1567.44 218.228 1565.94 L218.228 1559.32 Q222.143 1561.52 225.898 1562.63 Q229.654 1563.75 233.283 1563.75 Q238.789 1563.75 241.781 1561.58 Q244.773 1559.42 244.773 1555.41 Q244.773 1551.91 242.608 1549.93 Q240.476 1547.96 235.574 1546.97 L231.659 1546.21 Q224.466 1544.78 221.251 1541.72 Q218.037 1538.67 218.037 1533.22 Q218.037 1526.92 222.461 1523.29 Q226.917 1519.66 234.715 1519.66 Q238.057 1519.66 241.526 1520.27 Q244.996 1520.87 248.624 1522.08 Z\" fill=\"#000000\" fill-rule=\"evenodd\" fill-opacity=\"1\" /><path clip-path=\"url(#clip000)\" d=\"M 0 0 M291.752 1548.76 L291.752 1551.62 L264.825 1551.62 Q265.207 1557.67 268.453 1560.85 Q271.731 1564 277.556 1564 Q280.93 1564 284.081 1563.17 Q287.264 1562.35 290.383 1560.69 L290.383 1566.23 Q287.232 1567.57 283.922 1568.27 Q280.612 1568.97 277.206 1568.97 Q268.676 1568.97 263.679 1564 Q258.714 1559.04 258.714 1550.57 Q258.714 1541.82 263.424 1536.69 Q268.167 1531.54 276.187 1531.54 Q283.381 1531.54 287.55 1536.18 Q291.752 1540.8 291.752 1548.76 M285.895 1547.04 Q285.832 1542.23 283.19 1539.37 Q280.58 1536.5 276.251 1536.5 Q271.35 1536.5 268.389 1539.27 Q265.461 1542.04 265.016 1547.07 L285.895 1547.04 Z\" fill=\"#000000\" fill-rule=\"evenodd\" fill-opacity=\"1\" /><path clip-path=\"url(#clip000)\" d=\"M 0 0 M307.029 1562.7 L307.029 1581.6 L301.141 1581.6 L301.141 1532.4 L307.029 1532.4 L307.029 1537.81 Q308.875 1534.62 311.676 1533.1 Q314.509 1531.54 318.424 1531.54 Q324.917 1531.54 328.959 1536.69 Q333.033 1541.85 333.033 1550.25 Q333.033 1558.65 328.959 1563.81 Q324.917 1568.97 318.424 1568.97 Q314.509 1568.97 311.676 1567.44 Q308.875 1565.88 307.029 1562.7 M326.954 1550.25 Q326.954 1543.79 324.28 1540.13 Q321.639 1536.44 316.992 1536.44 Q312.345 1536.44 309.671 1540.13 Q307.029 1543.79 307.029 1550.25 Q307.029 1556.71 309.671 1560.4 Q312.345 1564.07 316.992 1564.07 Q321.639 1564.07 324.28 1560.4 Q326.954 1556.71 326.954 1550.25 Z\" fill=\"#000000\" fill-rule=\"evenodd\" fill-opacity=\"1\" /><path clip-path=\"url(#clip000)\" d=\"M 0 0 M358.942 1550.12 Q351.844 1550.12 349.107 1551.75 Q346.369 1553.37 346.369 1557.29 Q346.369 1560.4 348.406 1562.25 Q350.475 1564.07 354.008 1564.07 Q358.878 1564.07 361.806 1560.63 Q364.766 1557.16 364.766 1551.43 L364.766 1550.12 L358.942 1550.12 M370.623 1547.71 L370.623 1568.04 L364.766 1568.04 L364.766 1562.63 Q362.761 1565.88 359.769 1567.44 Q356.777 1568.97 352.449 1568.97 Q346.974 1568.97 343.728 1565.91 Q340.513 1562.82 340.513 1557.67 Q340.513 1551.65 344.523 1548.6 Q348.566 1545.54 356.555 1545.54 L364.766 1545.54 L364.766 1544.97 Q364.766 1540.93 362.093 1538.73 Q359.451 1536.5 354.645 1536.5 Q351.589 1536.5 348.693 1537.23 Q345.796 1537.97 343.123 1539.43 L343.123 1534.02 Q346.338 1532.78 349.361 1532.17 Q352.385 1531.54 355.25 1531.54 Q362.984 1531.54 366.803 1535.55 Q370.623 1539.56 370.623 1547.71 Z\" fill=\"#000000\" fill-rule=\"evenodd\" fill-opacity=\"1\" /><path clip-path=\"url(#clip000)\" d=\"M 0 0 M382.686 1518.52 L388.542 1518.52 L388.542 1568.04 L382.686 1568.04 L382.686 1518.52 Z\" fill=\"#000000\" fill-rule=\"evenodd\" fill-opacity=\"1\" /><path clip-path=\"url(#clip000)\" d=\"M 0 0 M401.051 1520.52 L407.48 1520.52 L407.48 1562.63 L430.62 1562.63 L430.62 1568.04 L401.051 1568.04 L401.051 1520.52 Z\" fill=\"#000000\" fill-rule=\"evenodd\" fill-opacity=\"1\" /><path clip-path=\"url(#clip000)\" d=\"M 0 0 M466.458 1548.76 L466.458 1551.62 L439.532 1551.62 Q439.913 1557.67 443.16 1560.85 Q446.438 1564 452.263 1564 Q455.637 1564 458.788 1563.17 Q461.971 1562.35 465.09 1560.69 L465.09 1566.23 Q461.939 1567.57 458.629 1568.27 Q455.318 1568.97 451.913 1568.97 Q443.383 1568.97 438.386 1564 Q433.42 1559.04 433.42 1550.57 Q433.42 1541.82 438.131 1536.69 Q442.874 1531.54 450.894 1531.54 Q458.088 1531.54 462.257 1536.18 Q466.458 1540.8 466.458 1548.76 M460.602 1547.04 Q460.538 1542.23 457.897 1539.37 Q455.287 1536.5 450.958 1536.5 Q446.056 1536.5 443.096 1539.27 Q440.168 1542.04 439.722 1547.07 L460.602 1547.04 Z\" fill=\"#000000\" fill-rule=\"evenodd\" fill-opacity=\"1\" /><path clip-path=\"url(#clip000)\" d=\"M 0 0 M505.703 1546.53 L505.703 1568.04 L499.847 1568.04 L499.847 1546.72 Q499.847 1541.66 497.873 1539.14 Q495.9 1536.63 491.953 1536.63 Q487.211 1536.63 484.473 1539.65 Q481.736 1542.68 481.736 1547.9 L481.736 1568.04 L475.848 1568.04 L475.848 1532.4 L481.736 1532.4 L481.736 1537.93 Q483.837 1534.72 486.67 1533.13 Q489.534 1531.54 493.258 1531.54 Q499.401 1531.54 502.552 1535.36 Q505.703 1539.14 505.703 1546.53 Z\" fill=\"#000000\" fill-rule=\"evenodd\" fill-opacity=\"1\" /><path clip-path=\"url(#clip000)\" d=\"M 0 0 M540.842 1549.81 Q540.842 1543.44 538.2 1539.94 Q535.59 1536.44 530.848 1536.44 Q526.137 1536.44 523.495 1539.94 Q520.885 1543.44 520.885 1549.81 Q520.885 1556.14 523.495 1559.64 Q526.137 1563.14 530.848 1563.14 Q535.59 1563.14 538.2 1559.64 Q540.842 1556.14 540.842 1549.81 M546.698 1563.62 Q546.698 1572.72 542.656 1577.15 Q538.614 1581.6 530.275 1581.6 Q527.187 1581.6 524.45 1581.13 Q521.713 1580.68 519.135 1579.72 L519.135 1574.03 Q521.713 1575.43 524.227 1576.1 Q526.742 1576.76 529.352 1576.76 Q535.113 1576.76 537.977 1573.74 Q540.842 1570.75 540.842 1564.67 L540.842 1561.77 Q539.028 1564.92 536.195 1566.48 Q533.362 1568.04 529.415 1568.04 Q522.859 1568.04 518.848 1563.05 Q514.838 1558.05 514.838 1549.81 Q514.838 1541.53 518.848 1536.53 Q522.859 1531.54 529.415 1531.54 Q533.362 1531.54 536.195 1533.1 Q539.028 1534.66 540.842 1537.81 L540.842 1532.4 L546.698 1532.4 L546.698 1563.62 Z\" fill=\"#000000\" fill-rule=\"evenodd\" fill-opacity=\"1\" /><path clip-path=\"url(#clip000)\" d=\"M 0 0 M564.554 1522.27 L564.554 1532.4 L576.617 1532.4 L576.617 1536.95 L564.554 1536.95 L564.554 1556.3 Q564.554 1560.66 565.732 1561.9 Q566.941 1563.14 570.601 1563.14 L576.617 1563.14 L576.617 1568.04 L570.601 1568.04 Q563.822 1568.04 561.244 1565.53 Q558.666 1562.98 558.666 1556.3 L558.666 1536.95 L554.369 1536.95 L554.369 1532.4 L558.666 1532.4 L558.666 1522.27 L564.554 1522.27 Z\" fill=\"#000000\" fill-rule=\"evenodd\" fill-opacity=\"1\" /><path clip-path=\"url(#clip000)\" d=\"M 0 0 M613.952 1546.53 L613.952 1568.04 L608.095 1568.04 L608.095 1546.72 Q608.095 1541.66 606.122 1539.14 Q604.149 1536.63 600.202 1536.63 Q595.46 1536.63 592.722 1539.65 Q589.985 1542.68 589.985 1547.9 L589.985 1568.04 L584.097 1568.04 L584.097 1518.52 L589.985 1518.52 L589.985 1537.93 Q592.086 1534.72 594.918 1533.13 Q597.783 1531.54 601.507 1531.54 Q607.65 1531.54 610.801 1535.36 Q613.952 1539.14 613.952 1546.53 Z\" fill=\"#000000\" fill-rule=\"evenodd\" fill-opacity=\"1\" /><polyline clip-path=\"url(#clip000)\" style=\"stroke:#000000; stroke-width:4; stroke-opacity:1; fill:none\" points=\"\n",
       "  220.19,1423.18 220.19,1199.79 \n",
       "  \"/>\n",
       "<polyline clip-path=\"url(#clip000)\" style=\"stroke:#000000; stroke-width:4; stroke-opacity:1; fill:none\" points=\"\n",
       "  220.19,1419.76 224.89,1419.76 \n",
       "  \"/>\n",
       "<polyline clip-path=\"url(#clip000)\" style=\"stroke:#000000; stroke-width:4; stroke-opacity:1; fill:none\" points=\"\n",
       "  220.19,1380.88 224.89,1380.88 \n",
       "  \"/>\n",
       "<polyline clip-path=\"url(#clip000)\" style=\"stroke:#000000; stroke-width:4; stroke-opacity:1; fill:none\" points=\"\n",
       "  220.19,1342.01 224.89,1342.01 \n",
       "  \"/>\n",
       "<polyline clip-path=\"url(#clip000)\" style=\"stroke:#000000; stroke-width:4; stroke-opacity:1; fill:none\" points=\"\n",
       "  220.19,1303.13 224.89,1303.13 \n",
       "  \"/>\n",
       "<polyline clip-path=\"url(#clip000)\" style=\"stroke:#000000; stroke-width:4; stroke-opacity:1; fill:none\" points=\"\n",
       "  220.19,1264.26 224.89,1264.26 \n",
       "  \"/>\n",
       "<polyline clip-path=\"url(#clip000)\" style=\"stroke:#000000; stroke-width:4; stroke-opacity:1; fill:none\" points=\"\n",
       "  220.19,1225.38 224.89,1225.38 \n",
       "  \"/>\n",
       "<path clip-path=\"url(#clip000)\" d=\"M 0 0 M127.015 1405.56 Q123.404 1405.56 121.575 1409.12 Q119.769 1412.67 119.769 1419.79 Q119.769 1426.9 121.575 1430.47 Q123.404 1434.01 127.015 1434.01 Q130.649 1434.01 132.455 1430.47 Q134.283 1426.9 134.283 1419.79 Q134.283 1412.67 132.455 1409.12 Q130.649 1405.56 127.015 1405.56 M127.015 1401.86 Q132.825 1401.86 135.88 1406.46 Q138.959 1411.04 138.959 1419.79 Q138.959 1428.52 135.88 1433.13 Q132.825 1437.71 127.015 1437.71 Q121.205 1437.71 118.126 1433.13 Q115.07 1428.52 115.07 1419.79 Q115.07 1411.04 118.126 1406.46 Q121.205 1401.86 127.015 1401.86 Z\" fill=\"#000000\" fill-rule=\"evenodd\" fill-opacity=\"1\" /><path clip-path=\"url(#clip000)\" d=\"M 0 0 M147.177 1431.16 L152.061 1431.16 L152.061 1437.04 L147.177 1437.04 L147.177 1431.16 Z\" fill=\"#000000\" fill-rule=\"evenodd\" fill-opacity=\"1\" /><path clip-path=\"url(#clip000)\" d=\"M 0 0 M172.246 1405.56 Q168.635 1405.56 166.806 1409.12 Q165.001 1412.67 165.001 1419.79 Q165.001 1426.9 166.806 1430.47 Q168.635 1434.01 172.246 1434.01 Q175.88 1434.01 177.686 1430.47 Q179.514 1426.9 179.514 1419.79 Q179.514 1412.67 177.686 1409.12 Q175.88 1405.56 172.246 1405.56 M172.246 1401.86 Q178.056 1401.86 181.112 1406.46 Q184.19 1411.04 184.19 1419.79 Q184.19 1428.52 181.112 1433.13 Q178.056 1437.71 172.246 1437.71 Q166.436 1437.71 163.357 1433.13 Q160.302 1428.52 160.302 1419.79 Q160.302 1411.04 163.357 1406.46 Q166.436 1401.86 172.246 1401.86 Z\" fill=\"#000000\" fill-rule=\"evenodd\" fill-opacity=\"1\" /><path clip-path=\"url(#clip000)\" d=\"M 0 0 M128.01 1366.68 Q124.399 1366.68 122.57 1370.25 Q120.765 1373.79 120.765 1380.92 Q120.765 1388.03 122.57 1391.59 Q124.399 1395.13 128.01 1395.13 Q131.644 1395.13 133.45 1391.59 Q135.279 1388.03 135.279 1380.92 Q135.279 1373.79 133.45 1370.25 Q131.644 1366.68 128.01 1366.68 M128.01 1362.98 Q133.82 1362.98 136.876 1367.59 Q139.954 1372.17 139.954 1380.92 Q139.954 1389.65 136.876 1394.25 Q133.82 1398.84 128.01 1398.84 Q122.2 1398.84 119.121 1394.25 Q116.066 1389.65 116.066 1380.92 Q116.066 1372.17 119.121 1367.59 Q122.2 1362.98 128.01 1362.98 Z\" fill=\"#000000\" fill-rule=\"evenodd\" fill-opacity=\"1\" /><path clip-path=\"url(#clip000)\" d=\"M 0 0 M148.172 1392.29 L153.056 1392.29 L153.056 1398.16 L148.172 1398.16 L148.172 1392.29 Z\" fill=\"#000000\" fill-rule=\"evenodd\" fill-opacity=\"1\" /><path clip-path=\"url(#clip000)\" d=\"M 0 0 M163.288 1363.6 L181.644 1363.6 L181.644 1367.54 L167.57 1367.54 L167.57 1376.01 Q168.589 1375.67 169.607 1375.5 Q170.626 1375.32 171.644 1375.32 Q177.431 1375.32 180.811 1378.49 Q184.19 1381.66 184.19 1387.08 Q184.19 1392.66 180.718 1395.76 Q177.246 1398.84 170.927 1398.84 Q168.751 1398.84 166.482 1398.47 Q164.237 1398.1 161.829 1397.35 L161.829 1392.66 Q163.913 1393.79 166.135 1394.35 Q168.357 1394.9 170.834 1394.9 Q174.839 1394.9 177.176 1392.79 Q179.514 1390.69 179.514 1387.08 Q179.514 1383.47 177.176 1381.36 Q174.839 1379.25 170.834 1379.25 Q168.959 1379.25 167.084 1379.67 Q165.232 1380.09 163.288 1380.97 L163.288 1363.6 Z\" fill=\"#000000\" fill-rule=\"evenodd\" fill-opacity=\"1\" /><path clip-path=\"url(#clip000)\" d=\"M 0 0 M117.825 1355.35 L125.464 1355.35 L125.464 1328.99 L117.154 1330.66 L117.154 1326.4 L125.418 1324.73 L130.093 1324.73 L130.093 1355.35 L137.732 1355.35 L137.732 1359.29 L117.825 1359.29 L117.825 1355.35 Z\" fill=\"#000000\" fill-rule=\"evenodd\" fill-opacity=\"1\" /><path clip-path=\"url(#clip000)\" d=\"M 0 0 M147.177 1353.41 L152.061 1353.41 L152.061 1359.29 L147.177 1359.29 L147.177 1353.41 Z\" fill=\"#000000\" fill-rule=\"evenodd\" fill-opacity=\"1\" /><path clip-path=\"url(#clip000)\" d=\"M 0 0 M172.246 1327.81 Q168.635 1327.81 166.806 1331.37 Q165.001 1334.91 165.001 1342.04 Q165.001 1349.15 166.806 1352.72 Q168.635 1356.26 172.246 1356.26 Q175.88 1356.26 177.686 1352.72 Q179.514 1349.15 179.514 1342.04 Q179.514 1334.91 177.686 1331.37 Q175.88 1327.81 172.246 1327.81 M172.246 1324.1 Q178.056 1324.1 181.112 1328.71 Q184.19 1333.29 184.19 1342.04 Q184.19 1350.77 181.112 1355.38 Q178.056 1359.96 172.246 1359.96 Q166.436 1359.96 163.357 1355.38 Q160.302 1350.77 160.302 1342.04 Q160.302 1333.29 163.357 1328.71 Q166.436 1324.1 172.246 1324.1 Z\" fill=\"#000000\" fill-rule=\"evenodd\" fill-opacity=\"1\" /><path clip-path=\"url(#clip000)\" d=\"M 0 0 M118.82 1316.48 L126.459 1316.48 L126.459 1290.11 L118.149 1291.78 L118.149 1287.52 L126.413 1285.85 L131.089 1285.85 L131.089 1316.48 L138.728 1316.48 L138.728 1320.41 L118.82 1320.41 L118.82 1316.48 Z\" fill=\"#000000\" fill-rule=\"evenodd\" fill-opacity=\"1\" /><path clip-path=\"url(#clip000)\" d=\"M 0 0 M148.172 1314.54 L153.056 1314.54 L153.056 1320.41 L148.172 1320.41 L148.172 1314.54 Z\" fill=\"#000000\" fill-rule=\"evenodd\" fill-opacity=\"1\" /><path clip-path=\"url(#clip000)\" d=\"M 0 0 M163.288 1285.85 L181.644 1285.85 L181.644 1289.79 L167.57 1289.79 L167.57 1298.26 Q168.589 1297.91 169.607 1297.75 Q170.626 1297.57 171.644 1297.57 Q177.431 1297.57 180.811 1300.74 Q184.19 1303.91 184.19 1309.33 Q184.19 1314.91 180.718 1318.01 Q177.246 1321.09 170.927 1321.09 Q168.751 1321.09 166.482 1320.72 Q164.237 1320.35 161.829 1319.6 L161.829 1314.91 Q163.913 1316.04 166.135 1316.6 Q168.357 1317.15 170.834 1317.15 Q174.839 1317.15 177.176 1315.04 Q179.514 1312.94 179.514 1309.33 Q179.514 1305.72 177.176 1303.61 Q174.839 1301.5 170.834 1301.5 Q168.959 1301.5 167.084 1301.92 Q165.232 1302.34 163.288 1303.22 L163.288 1285.85 Z\" fill=\"#000000\" fill-rule=\"evenodd\" fill-opacity=\"1\" /><path clip-path=\"url(#clip000)\" d=\"M 0 0 M121.043 1277.6 L137.362 1277.6 L137.362 1281.54 L115.418 1281.54 L115.418 1277.6 Q118.08 1274.85 122.663 1270.22 Q127.269 1265.57 128.45 1264.22 Q130.695 1261.7 131.575 1259.97 Q132.478 1258.21 132.478 1256.52 Q132.478 1253.76 130.533 1252.03 Q128.612 1250.29 125.51 1250.29 Q123.311 1250.29 120.857 1251.05 Q118.427 1251.82 115.649 1253.37 L115.649 1248.65 Q118.473 1247.51 120.927 1246.93 Q123.38 1246.35 125.418 1246.35 Q130.788 1246.35 133.982 1249.04 Q137.177 1251.72 137.177 1256.22 Q137.177 1258.35 136.367 1260.27 Q135.579 1262.16 133.473 1264.76 Q132.894 1265.43 129.792 1268.65 Q126.691 1271.84 121.043 1277.6 Z\" fill=\"#000000\" fill-rule=\"evenodd\" fill-opacity=\"1\" /><path clip-path=\"url(#clip000)\" d=\"M 0 0 M147.177 1275.66 L152.061 1275.66 L152.061 1281.54 L147.177 1281.54 L147.177 1275.66 Z\" fill=\"#000000\" fill-rule=\"evenodd\" fill-opacity=\"1\" /><path clip-path=\"url(#clip000)\" d=\"M 0 0 M172.246 1250.06 Q168.635 1250.06 166.806 1253.62 Q165.001 1257.16 165.001 1264.29 Q165.001 1271.4 166.806 1274.97 Q168.635 1278.51 172.246 1278.51 Q175.88 1278.51 177.686 1274.97 Q179.514 1271.4 179.514 1264.29 Q179.514 1257.16 177.686 1253.62 Q175.88 1250.06 172.246 1250.06 M172.246 1246.35 Q178.056 1246.35 181.112 1250.96 Q184.19 1255.54 184.19 1264.29 Q184.19 1273.02 181.112 1277.63 Q178.056 1282.21 172.246 1282.21 Q166.436 1282.21 163.357 1277.63 Q160.302 1273.02 160.302 1264.29 Q160.302 1255.54 163.357 1250.96 Q166.436 1246.35 172.246 1246.35 Z\" fill=\"#000000\" fill-rule=\"evenodd\" fill-opacity=\"1\" /><path clip-path=\"url(#clip000)\" d=\"M 0 0 M122.038 1238.73 L138.357 1238.73 L138.357 1242.66 L116.413 1242.66 L116.413 1238.73 Q119.075 1235.97 123.658 1231.35 Q128.265 1226.69 129.445 1225.35 Q131.691 1222.83 132.57 1221.09 Q133.473 1219.33 133.473 1217.64 Q133.473 1214.89 131.529 1213.15 Q129.607 1211.41 126.505 1211.41 Q124.306 1211.41 121.853 1212.18 Q119.422 1212.94 116.644 1214.49 L116.644 1209.77 Q119.468 1208.64 121.922 1208.06 Q124.376 1207.48 126.413 1207.48 Q131.783 1207.48 134.978 1210.16 Q138.172 1212.85 138.172 1217.34 Q138.172 1219.47 137.362 1221.39 Q136.575 1223.29 134.468 1225.88 Q133.89 1226.55 130.788 1229.77 Q127.686 1232.97 122.038 1238.73 Z\" fill=\"#000000\" fill-rule=\"evenodd\" fill-opacity=\"1\" /><path clip-path=\"url(#clip000)\" d=\"M 0 0 M148.172 1236.78 L153.056 1236.78 L153.056 1242.66 L148.172 1242.66 L148.172 1236.78 Z\" fill=\"#000000\" fill-rule=\"evenodd\" fill-opacity=\"1\" /><path clip-path=\"url(#clip000)\" d=\"M 0 0 M163.288 1208.1 L181.644 1208.1 L181.644 1212.04 L167.57 1212.04 L167.57 1220.51 Q168.589 1220.16 169.607 1220 Q170.626 1219.82 171.644 1219.82 Q177.431 1219.82 180.811 1222.99 Q184.19 1226.16 184.19 1231.58 Q184.19 1237.16 180.718 1240.26 Q177.246 1243.34 170.927 1243.34 Q168.751 1243.34 166.482 1242.97 Q164.237 1242.6 161.829 1241.85 L161.829 1237.16 Q163.913 1238.29 166.135 1238.85 Q168.357 1239.4 170.834 1239.4 Q174.839 1239.4 177.176 1237.29 Q179.514 1235.19 179.514 1231.58 Q179.514 1227.97 177.176 1225.86 Q174.839 1223.75 170.834 1223.75 Q168.959 1223.75 167.084 1224.17 Q165.232 1224.59 163.288 1225.47 L163.288 1208.1 Z\" fill=\"#000000\" fill-rule=\"evenodd\" fill-opacity=\"1\" /><path clip-path=\"url(#clip000)\" d=\"M 0 0 M22.5779 1474.13 L40.4337 1474.13 L40.4337 1466.05 Q40.4337 1461.56 38.1102 1459.11 Q35.7867 1456.66 31.4899 1456.66 Q27.2248 1456.66 24.9014 1459.11 Q22.5779 1461.56 22.5779 1466.05 L22.5779 1474.13 M17.2943 1480.56 L17.2943 1466.05 Q17.2943 1458.06 20.9228 1453.98 Q24.5194 1449.88 31.4899 1449.88 Q38.524 1449.88 42.1206 1453.98 Q45.7172 1458.06 45.7172 1466.05 L45.7172 1474.13 L64.8143 1474.13 L64.8143 1480.56 L17.2943 1480.56 Z\" fill=\"#000000\" fill-rule=\"evenodd\" fill-opacity=\"1\" /><path clip-path=\"url(#clip000)\" d=\"M 0 0 M45.5262 1413.34 L48.3908 1413.34 L48.3908 1440.26 Q54.4382 1439.88 57.6211 1436.64 Q60.7721 1433.36 60.7721 1427.53 Q60.7721 1424.16 59.9446 1421.01 Q59.117 1417.83 57.4619 1414.71 L63.0001 1414.71 Q64.3369 1417.86 65.0371 1421.17 Q65.7374 1424.48 65.7374 1427.88 Q65.7374 1436.41 60.7721 1441.41 Q55.8069 1446.38 47.3405 1446.38 Q38.5876 1446.38 33.4632 1441.67 Q28.307 1436.92 28.307 1428.9 Q28.307 1421.71 32.954 1417.54 Q37.5691 1413.34 45.5262 1413.34 M43.8075 1419.19 Q39.0014 1419.26 36.1368 1421.9 Q33.2723 1424.51 33.2723 1428.84 Q33.2723 1433.74 36.0413 1436.7 Q38.8104 1439.63 43.8393 1440.07 L43.8075 1419.19 Z\" fill=\"#000000\" fill-rule=\"evenodd\" fill-opacity=\"1\" /><path clip-path=\"url(#clip000)\" d=\"M 0 0 M19.0449 1397.93 L29.1664 1397.93 L29.1664 1385.87 L33.7179 1385.87 L33.7179 1397.93 L53.0696 1397.93 Q57.4301 1397.93 58.6714 1396.76 Q59.9127 1395.55 59.9127 1391.89 L59.9127 1385.87 L64.8143 1385.87 L64.8143 1391.89 Q64.8143 1398.66 62.2999 1401.24 Q59.7536 1403.82 53.0696 1403.82 L33.7179 1403.82 L33.7179 1408.12 L29.1664 1408.12 L29.1664 1403.82 L19.0449 1403.82 L19.0449 1397.93 Z\" fill=\"#000000\" fill-rule=\"evenodd\" fill-opacity=\"1\" /><path clip-path=\"url(#clip000)\" d=\"M 0 0 M46.8949 1361.97 Q46.8949 1369.06 48.5181 1371.8 Q50.1414 1374.54 54.0563 1374.54 Q57.1755 1374.54 59.0215 1372.5 Q60.8358 1370.43 60.8358 1366.9 Q60.8358 1362.03 57.3983 1359.1 Q53.929 1356.14 48.1998 1356.14 L46.8949 1356.14 L46.8949 1361.97 M44.4759 1350.29 L64.8143 1350.29 L64.8143 1356.14 L59.4035 1356.14 Q62.65 1358.15 64.2096 1361.14 Q65.7374 1364.13 65.7374 1368.46 Q65.7374 1373.93 62.6818 1377.18 Q59.5945 1380.4 54.4382 1380.4 Q48.4226 1380.4 45.3671 1376.38 Q42.3116 1372.34 42.3116 1364.35 L42.3116 1356.14 L41.7387 1356.14 Q37.6964 1356.14 35.5003 1358.82 Q33.2723 1361.46 33.2723 1366.26 Q33.2723 1369.32 34.0043 1372.22 Q34.7364 1375.11 36.2005 1377.79 L30.7896 1377.79 Q29.5483 1374.57 28.9436 1371.55 Q28.307 1368.52 28.307 1365.66 Q28.307 1357.92 32.3174 1354.1 Q36.3278 1350.29 44.4759 1350.29 Z\" fill=\"#000000\" fill-rule=\"evenodd\" fill-opacity=\"1\" /><path clip-path=\"url(#clip000)\" d=\"M 0 0 M15.2891 1338.22 L15.2891 1332.37 L64.8143 1332.37 L64.8143 1338.22 L15.2891 1338.22 Z\" fill=\"#000000\" fill-rule=\"evenodd\" fill-opacity=\"1\" /><path clip-path=\"url(#clip000)\" d=\"M 0 0 M17.2943 1324.09 L17.2943 1317.6 L57.4619 1307.6 L17.2943 1297.64 L17.2943 1290.42 L57.4619 1280.42 L17.2943 1270.46 L17.2943 1263.93 L64.8143 1275.87 L64.8143 1283.95 L23.5646 1293.98 L64.8143 1304.1 L64.8143 1312.19 L17.2943 1324.09 Z\" fill=\"#000000\" fill-rule=\"evenodd\" fill-opacity=\"1\" /><path clip-path=\"url(#clip000)\" d=\"M 0 0 M29.1664 1257.09 L29.1664 1251.24 L64.8143 1251.24 L64.8143 1257.09 L29.1664 1257.09 M15.2891 1257.09 L15.2891 1251.24 L22.7052 1251.24 L22.7052 1257.09 L15.2891 1257.09 Z\" fill=\"#000000\" fill-rule=\"evenodd\" fill-opacity=\"1\" /><path clip-path=\"url(#clip000)\" d=\"M 0 0 M34.5772 1215.52 L15.2891 1215.52 L15.2891 1209.67 L64.8143 1209.67 L64.8143 1215.52 L59.4671 1215.52 Q62.65 1217.37 64.2096 1220.2 Q65.7374 1223 65.7374 1226.95 Q65.7374 1233.41 60.5811 1237.49 Q55.4249 1241.53 47.0222 1241.53 Q38.6195 1241.53 33.4632 1237.49 Q28.307 1233.41 28.307 1226.95 Q28.307 1223 29.8666 1220.2 Q31.3944 1217.37 34.5772 1215.52 M47.0222 1235.48 Q53.4834 1235.48 57.1755 1232.84 Q60.8358 1230.16 60.8358 1225.52 Q60.8358 1220.87 57.1755 1218.2 Q53.4834 1215.52 47.0222 1215.52 Q40.561 1215.52 36.9007 1218.2 Q33.2086 1220.87 33.2086 1225.52 Q33.2086 1230.16 36.9007 1232.84 Q40.561 1235.48 47.0222 1235.48 Z\" fill=\"#000000\" fill-rule=\"evenodd\" fill-opacity=\"1\" /><path clip-path=\"url(#clip000)\" d=\"M 0 0 M19.0449 1191.81 L29.1664 1191.81 L29.1664 1179.75 L33.7179 1179.75 L33.7179 1191.81 L53.0696 1191.81 Q57.4301 1191.81 58.6714 1190.63 Q59.9127 1189.42 59.9127 1185.76 L59.9127 1179.75 L64.8143 1179.75 L64.8143 1185.76 Q64.8143 1192.54 62.2999 1195.12 Q59.7536 1197.7 53.0696 1197.7 L33.7179 1197.7 L33.7179 1202 L29.1664 1202 L29.1664 1197.7 L19.0449 1197.7 L19.0449 1191.81 Z\" fill=\"#000000\" fill-rule=\"evenodd\" fill-opacity=\"1\" /><path clip-path=\"url(#clip000)\" d=\"M 0 0 M43.2982 1142.41 L64.8143 1142.41 L64.8143 1148.27 L43.4892 1148.27 Q38.4285 1148.27 35.914 1150.24 Q33.3996 1152.22 33.3996 1156.16 Q33.3996 1160.91 36.4233 1163.64 Q39.447 1166.38 44.6669 1166.38 L64.8143 1166.38 L64.8143 1172.27 L15.2891 1172.27 L15.2891 1166.38 L34.7045 1166.38 Q31.4899 1164.28 29.8984 1161.45 Q28.307 1158.58 28.307 1154.86 Q28.307 1148.72 32.1264 1145.56 Q35.914 1142.41 43.2982 1142.41 Z\" fill=\"#000000\" fill-rule=\"evenodd\" fill-opacity=\"1\" /><circle clip-path=\"url(#clip0014)\" cx=\"337.575\" cy=\"1404.21\" r=\"14\" fill=\"#436fb1\" fill-rule=\"evenodd\" fill-opacity=\"0.4\" stroke=\"#000000\" stroke-opacity=\"0.4\" stroke-width=\"0\"/>\n",
       "<circle clip-path=\"url(#clip0014)\" cx=\"320.149\" cy=\"1404.21\" r=\"14\" fill=\"#436fb1\" fill-rule=\"evenodd\" fill-opacity=\"0.4\" stroke=\"#000000\" stroke-opacity=\"0.4\" stroke-width=\"0\"/>\n",
       "<circle clip-path=\"url(#clip0014)\" cx=\"302.722\" cy=\"1404.21\" r=\"14\" fill=\"#436fb1\" fill-rule=\"evenodd\" fill-opacity=\"0.4\" stroke=\"#000000\" stroke-opacity=\"0.4\" stroke-width=\"0\"/>\n",
       "<circle clip-path=\"url(#clip0014)\" cx=\"294.009\" cy=\"1404.21\" r=\"14\" fill=\"#436fb1\" fill-rule=\"evenodd\" fill-opacity=\"0.4\" stroke=\"#000000\" stroke-opacity=\"0.4\" stroke-width=\"0\"/>\n",
       "<circle clip-path=\"url(#clip0014)\" cx=\"328.862\" cy=\"1404.21\" r=\"14\" fill=\"#436fb1\" fill-rule=\"evenodd\" fill-opacity=\"0.4\" stroke=\"#000000\" stroke-opacity=\"0.4\" stroke-width=\"0\"/>\n",
       "<circle clip-path=\"url(#clip0014)\" cx=\"363.715\" cy=\"1388.66\" r=\"14\" fill=\"#436fb1\" fill-rule=\"evenodd\" fill-opacity=\"0.4\" stroke=\"#000000\" stroke-opacity=\"0.4\" stroke-width=\"0\"/>\n",
       "<circle clip-path=\"url(#clip0014)\" cx=\"294.009\" cy=\"1396.43\" r=\"14\" fill=\"#436fb1\" fill-rule=\"evenodd\" fill-opacity=\"0.4\" stroke=\"#000000\" stroke-opacity=\"0.4\" stroke-width=\"0\"/>\n",
       "<circle clip-path=\"url(#clip0014)\" cx=\"328.862\" cy=\"1404.21\" r=\"14\" fill=\"#436fb1\" fill-rule=\"evenodd\" fill-opacity=\"0.4\" stroke=\"#000000\" stroke-opacity=\"0.4\" stroke-width=\"0\"/>\n",
       "<circle clip-path=\"url(#clip0014)\" cx=\"276.582\" cy=\"1404.21\" r=\"14\" fill=\"#436fb1\" fill-rule=\"evenodd\" fill-opacity=\"0.4\" stroke=\"#000000\" stroke-opacity=\"0.4\" stroke-width=\"0\"/>\n",
       "<circle clip-path=\"url(#clip0014)\" cx=\"320.149\" cy=\"1411.99\" r=\"14\" fill=\"#436fb1\" fill-rule=\"evenodd\" fill-opacity=\"0.4\" stroke=\"#000000\" stroke-opacity=\"0.4\" stroke-width=\"0\"/>\n",
       "<circle clip-path=\"url(#clip0014)\" cx=\"363.715\" cy=\"1404.21\" r=\"14\" fill=\"#436fb1\" fill-rule=\"evenodd\" fill-opacity=\"0.4\" stroke=\"#000000\" stroke-opacity=\"0.4\" stroke-width=\"0\"/>\n",
       "<circle clip-path=\"url(#clip0014)\" cx=\"311.435\" cy=\"1404.21\" r=\"14\" fill=\"#436fb1\" fill-rule=\"evenodd\" fill-opacity=\"0.4\" stroke=\"#000000\" stroke-opacity=\"0.4\" stroke-width=\"0\"/>\n",
       "<circle clip-path=\"url(#clip0014)\" cx=\"311.435\" cy=\"1411.99\" r=\"14\" fill=\"#436fb1\" fill-rule=\"evenodd\" fill-opacity=\"0.4\" stroke=\"#000000\" stroke-opacity=\"0.4\" stroke-width=\"0\"/>\n",
       "<circle clip-path=\"url(#clip0014)\" cx=\"267.869\" cy=\"1411.99\" r=\"14\" fill=\"#436fb1\" fill-rule=\"evenodd\" fill-opacity=\"0.4\" stroke=\"#000000\" stroke-opacity=\"0.4\" stroke-width=\"0\"/>\n",
       "<circle clip-path=\"url(#clip0014)\" cx=\"398.568\" cy=\"1404.21\" r=\"14\" fill=\"#436fb1\" fill-rule=\"evenodd\" fill-opacity=\"0.4\" stroke=\"#000000\" stroke-opacity=\"0.4\" stroke-width=\"0\"/>\n",
       "<circle clip-path=\"url(#clip0014)\" cx=\"389.855\" cy=\"1388.66\" r=\"14\" fill=\"#436fb1\" fill-rule=\"evenodd\" fill-opacity=\"0.4\" stroke=\"#000000\" stroke-opacity=\"0.4\" stroke-width=\"0\"/>\n",
       "<circle clip-path=\"url(#clip0014)\" cx=\"363.715\" cy=\"1388.66\" r=\"14\" fill=\"#436fb1\" fill-rule=\"evenodd\" fill-opacity=\"0.4\" stroke=\"#000000\" stroke-opacity=\"0.4\" stroke-width=\"0\"/>\n",
       "<circle clip-path=\"url(#clip0014)\" cx=\"337.575\" cy=\"1396.43\" r=\"14\" fill=\"#436fb1\" fill-rule=\"evenodd\" fill-opacity=\"0.4\" stroke=\"#000000\" stroke-opacity=\"0.4\" stroke-width=\"0\"/>\n",
       "<circle clip-path=\"url(#clip0014)\" cx=\"389.855\" cy=\"1396.43\" r=\"14\" fill=\"#436fb1\" fill-rule=\"evenodd\" fill-opacity=\"0.4\" stroke=\"#000000\" stroke-opacity=\"0.4\" stroke-width=\"0\"/>\n",
       "<circle clip-path=\"url(#clip0014)\" cx=\"337.575\" cy=\"1396.43\" r=\"14\" fill=\"#436fb1\" fill-rule=\"evenodd\" fill-opacity=\"0.4\" stroke=\"#000000\" stroke-opacity=\"0.4\" stroke-width=\"0\"/>\n",
       "<circle clip-path=\"url(#clip0014)\" cx=\"363.715\" cy=\"1404.21\" r=\"14\" fill=\"#436fb1\" fill-rule=\"evenodd\" fill-opacity=\"0.4\" stroke=\"#000000\" stroke-opacity=\"0.4\" stroke-width=\"0\"/>\n",
       "<circle clip-path=\"url(#clip0014)\" cx=\"337.575\" cy=\"1388.66\" r=\"14\" fill=\"#436fb1\" fill-rule=\"evenodd\" fill-opacity=\"0.4\" stroke=\"#000000\" stroke-opacity=\"0.4\" stroke-width=\"0\"/>\n",
       "<circle clip-path=\"url(#clip0014)\" cx=\"294.009\" cy=\"1404.21\" r=\"14\" fill=\"#436fb1\" fill-rule=\"evenodd\" fill-opacity=\"0.4\" stroke=\"#000000\" stroke-opacity=\"0.4\" stroke-width=\"0\"/>\n",
       "<circle clip-path=\"url(#clip0014)\" cx=\"337.575\" cy=\"1380.88\" r=\"14\" fill=\"#436fb1\" fill-rule=\"evenodd\" fill-opacity=\"0.4\" stroke=\"#000000\" stroke-opacity=\"0.4\" stroke-width=\"0\"/>\n",
       "<circle clip-path=\"url(#clip0014)\" cx=\"311.435\" cy=\"1404.21\" r=\"14\" fill=\"#436fb1\" fill-rule=\"evenodd\" fill-opacity=\"0.4\" stroke=\"#000000\" stroke-opacity=\"0.4\" stroke-width=\"0\"/>\n",
       "<circle clip-path=\"url(#clip0014)\" cx=\"328.862\" cy=\"1404.21\" r=\"14\" fill=\"#436fb1\" fill-rule=\"evenodd\" fill-opacity=\"0.4\" stroke=\"#000000\" stroke-opacity=\"0.4\" stroke-width=\"0\"/>\n",
       "<circle clip-path=\"url(#clip0014)\" cx=\"328.862\" cy=\"1388.66\" r=\"14\" fill=\"#436fb1\" fill-rule=\"evenodd\" fill-opacity=\"0.4\" stroke=\"#000000\" stroke-opacity=\"0.4\" stroke-width=\"0\"/>\n",
       "<circle clip-path=\"url(#clip0014)\" cx=\"346.288\" cy=\"1404.21\" r=\"14\" fill=\"#436fb1\" fill-rule=\"evenodd\" fill-opacity=\"0.4\" stroke=\"#000000\" stroke-opacity=\"0.4\" stroke-width=\"0\"/>\n",
       "<circle clip-path=\"url(#clip0014)\" cx=\"346.288\" cy=\"1404.21\" r=\"14\" fill=\"#436fb1\" fill-rule=\"evenodd\" fill-opacity=\"0.4\" stroke=\"#000000\" stroke-opacity=\"0.4\" stroke-width=\"0\"/>\n",
       "<circle clip-path=\"url(#clip0014)\" cx=\"302.722\" cy=\"1404.21\" r=\"14\" fill=\"#436fb1\" fill-rule=\"evenodd\" fill-opacity=\"0.4\" stroke=\"#000000\" stroke-opacity=\"0.4\" stroke-width=\"0\"/>\n",
       "<circle clip-path=\"url(#clip0014)\" cx=\"311.435\" cy=\"1404.21\" r=\"14\" fill=\"#436fb1\" fill-rule=\"evenodd\" fill-opacity=\"0.4\" stroke=\"#000000\" stroke-opacity=\"0.4\" stroke-width=\"0\"/>\n",
       "<circle clip-path=\"url(#clip0014)\" cx=\"363.715\" cy=\"1388.66\" r=\"14\" fill=\"#436fb1\" fill-rule=\"evenodd\" fill-opacity=\"0.4\" stroke=\"#000000\" stroke-opacity=\"0.4\" stroke-width=\"0\"/>\n",
       "<circle clip-path=\"url(#clip0014)\" cx=\"346.288\" cy=\"1411.99\" r=\"14\" fill=\"#436fb1\" fill-rule=\"evenodd\" fill-opacity=\"0.4\" stroke=\"#000000\" stroke-opacity=\"0.4\" stroke-width=\"0\"/>\n",
       "<circle clip-path=\"url(#clip0014)\" cx=\"372.428\" cy=\"1404.21\" r=\"14\" fill=\"#436fb1\" fill-rule=\"evenodd\" fill-opacity=\"0.4\" stroke=\"#000000\" stroke-opacity=\"0.4\" stroke-width=\"0\"/>\n",
       "<circle clip-path=\"url(#clip0014)\" cx=\"320.149\" cy=\"1404.21\" r=\"14\" fill=\"#436fb1\" fill-rule=\"evenodd\" fill-opacity=\"0.4\" stroke=\"#000000\" stroke-opacity=\"0.4\" stroke-width=\"0\"/>\n",
       "<circle clip-path=\"url(#clip0014)\" cx=\"328.862\" cy=\"1404.21\" r=\"14\" fill=\"#436fb1\" fill-rule=\"evenodd\" fill-opacity=\"0.4\" stroke=\"#000000\" stroke-opacity=\"0.4\" stroke-width=\"0\"/>\n",
       "<circle clip-path=\"url(#clip0014)\" cx=\"372.428\" cy=\"1404.21\" r=\"14\" fill=\"#436fb1\" fill-rule=\"evenodd\" fill-opacity=\"0.4\" stroke=\"#000000\" stroke-opacity=\"0.4\" stroke-width=\"0\"/>\n",
       "<circle clip-path=\"url(#clip0014)\" cx=\"320.149\" cy=\"1411.99\" r=\"14\" fill=\"#436fb1\" fill-rule=\"evenodd\" fill-opacity=\"0.4\" stroke=\"#000000\" stroke-opacity=\"0.4\" stroke-width=\"0\"/>\n",
       "<circle clip-path=\"url(#clip0014)\" cx=\"276.582\" cy=\"1404.21\" r=\"14\" fill=\"#436fb1\" fill-rule=\"evenodd\" fill-opacity=\"0.4\" stroke=\"#000000\" stroke-opacity=\"0.4\" stroke-width=\"0\"/>\n",
       "<circle clip-path=\"url(#clip0014)\" cx=\"337.575\" cy=\"1404.21\" r=\"14\" fill=\"#436fb1\" fill-rule=\"evenodd\" fill-opacity=\"0.4\" stroke=\"#000000\" stroke-opacity=\"0.4\" stroke-width=\"0\"/>\n",
       "<circle clip-path=\"url(#clip0014)\" cx=\"328.862\" cy=\"1396.43\" r=\"14\" fill=\"#436fb1\" fill-rule=\"evenodd\" fill-opacity=\"0.4\" stroke=\"#000000\" stroke-opacity=\"0.4\" stroke-width=\"0\"/>\n",
       "<circle clip-path=\"url(#clip0014)\" cx=\"285.296\" cy=\"1396.43\" r=\"14\" fill=\"#436fb1\" fill-rule=\"evenodd\" fill-opacity=\"0.4\" stroke=\"#000000\" stroke-opacity=\"0.4\" stroke-width=\"0\"/>\n",
       "<circle clip-path=\"url(#clip0014)\" cx=\"276.582\" cy=\"1404.21\" r=\"14\" fill=\"#436fb1\" fill-rule=\"evenodd\" fill-opacity=\"0.4\" stroke=\"#000000\" stroke-opacity=\"0.4\" stroke-width=\"0\"/>\n",
       "<circle clip-path=\"url(#clip0014)\" cx=\"328.862\" cy=\"1373.11\" r=\"14\" fill=\"#436fb1\" fill-rule=\"evenodd\" fill-opacity=\"0.4\" stroke=\"#000000\" stroke-opacity=\"0.4\" stroke-width=\"0\"/>\n",
       "<circle clip-path=\"url(#clip0014)\" cx=\"337.575\" cy=\"1388.66\" r=\"14\" fill=\"#436fb1\" fill-rule=\"evenodd\" fill-opacity=\"0.4\" stroke=\"#000000\" stroke-opacity=\"0.4\" stroke-width=\"0\"/>\n",
       "<circle clip-path=\"url(#clip0014)\" cx=\"311.435\" cy=\"1396.43\" r=\"14\" fill=\"#436fb1\" fill-rule=\"evenodd\" fill-opacity=\"0.4\" stroke=\"#000000\" stroke-opacity=\"0.4\" stroke-width=\"0\"/>\n",
       "<circle clip-path=\"url(#clip0014)\" cx=\"337.575\" cy=\"1404.21\" r=\"14\" fill=\"#436fb1\" fill-rule=\"evenodd\" fill-opacity=\"0.4\" stroke=\"#000000\" stroke-opacity=\"0.4\" stroke-width=\"0\"/>\n",
       "<circle clip-path=\"url(#clip0014)\" cx=\"294.009\" cy=\"1404.21\" r=\"14\" fill=\"#436fb1\" fill-rule=\"evenodd\" fill-opacity=\"0.4\" stroke=\"#000000\" stroke-opacity=\"0.4\" stroke-width=\"0\"/>\n",
       "<circle clip-path=\"url(#clip0014)\" cx=\"355.002\" cy=\"1404.21\" r=\"14\" fill=\"#436fb1\" fill-rule=\"evenodd\" fill-opacity=\"0.4\" stroke=\"#000000\" stroke-opacity=\"0.4\" stroke-width=\"0\"/>\n",
       "<circle clip-path=\"url(#clip0014)\" cx=\"328.862\" cy=\"1404.21\" r=\"14\" fill=\"#436fb1\" fill-rule=\"evenodd\" fill-opacity=\"0.4\" stroke=\"#000000\" stroke-opacity=\"0.4\" stroke-width=\"0\"/>\n",
       "<circle clip-path=\"url(#clip0014)\" cx=\"503.127\" cy=\"1310.91\" r=\"14\" fill=\"#436fb1\" fill-rule=\"evenodd\" fill-opacity=\"0.4\" stroke=\"#000000\" stroke-opacity=\"0.4\" stroke-width=\"0\"/>\n",
       "<circle clip-path=\"url(#clip0014)\" cx=\"450.847\" cy=\"1303.13\" r=\"14\" fill=\"#436fb1\" fill-rule=\"evenodd\" fill-opacity=\"0.4\" stroke=\"#000000\" stroke-opacity=\"0.4\" stroke-width=\"0\"/>\n",
       "<circle clip-path=\"url(#clip0014)\" cx=\"494.414\" cy=\"1303.13\" r=\"14\" fill=\"#436fb1\" fill-rule=\"evenodd\" fill-opacity=\"0.4\" stroke=\"#000000\" stroke-opacity=\"0.4\" stroke-width=\"0\"/>\n",
       "<circle clip-path=\"url(#clip0014)\" cx=\"372.428\" cy=\"1318.68\" r=\"14\" fill=\"#436fb1\" fill-rule=\"evenodd\" fill-opacity=\"0.4\" stroke=\"#000000\" stroke-opacity=\"0.4\" stroke-width=\"0\"/>\n",
       "<circle clip-path=\"url(#clip0014)\" cx=\"459.561\" cy=\"1303.13\" r=\"14\" fill=\"#436fb1\" fill-rule=\"evenodd\" fill-opacity=\"0.4\" stroke=\"#000000\" stroke-opacity=\"0.4\" stroke-width=\"0\"/>\n",
       "<circle clip-path=\"url(#clip0014)\" cx=\"389.855\" cy=\"1318.68\" r=\"14\" fill=\"#436fb1\" fill-rule=\"evenodd\" fill-opacity=\"0.4\" stroke=\"#000000\" stroke-opacity=\"0.4\" stroke-width=\"0\"/>\n",
       "<circle clip-path=\"url(#clip0014)\" cx=\"442.134\" cy=\"1295.36\" r=\"14\" fill=\"#436fb1\" fill-rule=\"evenodd\" fill-opacity=\"0.4\" stroke=\"#000000\" stroke-opacity=\"0.4\" stroke-width=\"0\"/>\n",
       "<circle clip-path=\"url(#clip0014)\" cx=\"320.149\" cy=\"1342.01\" r=\"14\" fill=\"#436fb1\" fill-rule=\"evenodd\" fill-opacity=\"0.4\" stroke=\"#000000\" stroke-opacity=\"0.4\" stroke-width=\"0\"/>\n",
       "<circle clip-path=\"url(#clip0014)\" cx=\"468.274\" cy=\"1318.68\" r=\"14\" fill=\"#436fb1\" fill-rule=\"evenodd\" fill-opacity=\"0.4\" stroke=\"#000000\" stroke-opacity=\"0.4\" stroke-width=\"0\"/>\n",
       "<circle clip-path=\"url(#clip0014)\" cx=\"346.288\" cy=\"1310.91\" r=\"14\" fill=\"#436fb1\" fill-rule=\"evenodd\" fill-opacity=\"0.4\" stroke=\"#000000\" stroke-opacity=\"0.4\" stroke-width=\"0\"/>\n",
       "<circle clip-path=\"url(#clip0014)\" cx=\"328.862\" cy=\"1342.01\" r=\"14\" fill=\"#436fb1\" fill-rule=\"evenodd\" fill-opacity=\"0.4\" stroke=\"#000000\" stroke-opacity=\"0.4\" stroke-width=\"0\"/>\n",
       "<circle clip-path=\"url(#clip0014)\" cx=\"407.281\" cy=\"1303.13\" r=\"14\" fill=\"#436fb1\" fill-rule=\"evenodd\" fill-opacity=\"0.4\" stroke=\"#000000\" stroke-opacity=\"0.4\" stroke-width=\"0\"/>\n",
       "<circle clip-path=\"url(#clip0014)\" cx=\"415.994\" cy=\"1342.01\" r=\"14\" fill=\"#436fb1\" fill-rule=\"evenodd\" fill-opacity=\"0.4\" stroke=\"#000000\" stroke-opacity=\"0.4\" stroke-width=\"0\"/>\n",
       "<circle clip-path=\"url(#clip0014)\" cx=\"424.708\" cy=\"1310.91\" r=\"14\" fill=\"#436fb1\" fill-rule=\"evenodd\" fill-opacity=\"0.4\" stroke=\"#000000\" stroke-opacity=\"0.4\" stroke-width=\"0\"/>\n",
       "<circle clip-path=\"url(#clip0014)\" cx=\"381.141\" cy=\"1318.68\" r=\"14\" fill=\"#436fb1\" fill-rule=\"evenodd\" fill-opacity=\"0.4\" stroke=\"#000000\" stroke-opacity=\"0.4\" stroke-width=\"0\"/>\n",
       "<circle clip-path=\"url(#clip0014)\" cx=\"476.987\" cy=\"1310.91\" r=\"14\" fill=\"#436fb1\" fill-rule=\"evenodd\" fill-opacity=\"0.4\" stroke=\"#000000\" stroke-opacity=\"0.4\" stroke-width=\"0\"/>\n",
       "<circle clip-path=\"url(#clip0014)\" cx=\"381.141\" cy=\"1303.13\" r=\"14\" fill=\"#436fb1\" fill-rule=\"evenodd\" fill-opacity=\"0.4\" stroke=\"#000000\" stroke-opacity=\"0.4\" stroke-width=\"0\"/>\n",
       "<circle clip-path=\"url(#clip0014)\" cx=\"398.568\" cy=\"1342.01\" r=\"14\" fill=\"#436fb1\" fill-rule=\"evenodd\" fill-opacity=\"0.4\" stroke=\"#000000\" stroke-opacity=\"0.4\" stroke-width=\"0\"/>\n",
       "<circle clip-path=\"url(#clip0014)\" cx=\"433.421\" cy=\"1303.13\" r=\"14\" fill=\"#436fb1\" fill-rule=\"evenodd\" fill-opacity=\"0.4\" stroke=\"#000000\" stroke-opacity=\"0.4\" stroke-width=\"0\"/>\n",
       "<circle clip-path=\"url(#clip0014)\" cx=\"381.141\" cy=\"1334.23\" r=\"14\" fill=\"#436fb1\" fill-rule=\"evenodd\" fill-opacity=\"0.4\" stroke=\"#000000\" stroke-opacity=\"0.4\" stroke-width=\"0\"/>\n",
       "<circle clip-path=\"url(#clip0014)\" cx=\"407.281\" cy=\"1279.81\" r=\"14\" fill=\"#436fb1\" fill-rule=\"evenodd\" fill-opacity=\"0.4\" stroke=\"#000000\" stroke-opacity=\"0.4\" stroke-width=\"0\"/>\n",
       "<circle clip-path=\"url(#clip0014)\" cx=\"424.708\" cy=\"1318.68\" r=\"14\" fill=\"#436fb1\" fill-rule=\"evenodd\" fill-opacity=\"0.4\" stroke=\"#000000\" stroke-opacity=\"0.4\" stroke-width=\"0\"/>\n",
       "<circle clip-path=\"url(#clip0014)\" cx=\"442.134\" cy=\"1303.13\" r=\"14\" fill=\"#436fb1\" fill-rule=\"evenodd\" fill-opacity=\"0.4\" stroke=\"#000000\" stroke-opacity=\"0.4\" stroke-width=\"0\"/>\n",
       "<circle clip-path=\"url(#clip0014)\" cx=\"424.708\" cy=\"1326.46\" r=\"14\" fill=\"#436fb1\" fill-rule=\"evenodd\" fill-opacity=\"0.4\" stroke=\"#000000\" stroke-opacity=\"0.4\" stroke-width=\"0\"/>\n",
       "<circle clip-path=\"url(#clip0014)\" cx=\"450.847\" cy=\"1318.68\" r=\"14\" fill=\"#436fb1\" fill-rule=\"evenodd\" fill-opacity=\"0.4\" stroke=\"#000000\" stroke-opacity=\"0.4\" stroke-width=\"0\"/>\n",
       "<circle clip-path=\"url(#clip0014)\" cx=\"468.274\" cy=\"1310.91\" r=\"14\" fill=\"#436fb1\" fill-rule=\"evenodd\" fill-opacity=\"0.4\" stroke=\"#000000\" stroke-opacity=\"0.4\" stroke-width=\"0\"/>\n",
       "<circle clip-path=\"url(#clip0014)\" cx=\"485.7\" cy=\"1310.91\" r=\"14\" fill=\"#436fb1\" fill-rule=\"evenodd\" fill-opacity=\"0.4\" stroke=\"#000000\" stroke-opacity=\"0.4\" stroke-width=\"0\"/>\n",
       "<circle clip-path=\"url(#clip0014)\" cx=\"476.987\" cy=\"1287.58\" r=\"14\" fill=\"#436fb1\" fill-rule=\"evenodd\" fill-opacity=\"0.4\" stroke=\"#000000\" stroke-opacity=\"0.4\" stroke-width=\"0\"/>\n",
       "<circle clip-path=\"url(#clip0014)\" cx=\"415.994\" cy=\"1303.13\" r=\"14\" fill=\"#436fb1\" fill-rule=\"evenodd\" fill-opacity=\"0.4\" stroke=\"#000000\" stroke-opacity=\"0.4\" stroke-width=\"0\"/>\n",
       "<circle clip-path=\"url(#clip0014)\" cx=\"389.855\" cy=\"1342.01\" r=\"14\" fill=\"#436fb1\" fill-rule=\"evenodd\" fill-opacity=\"0.4\" stroke=\"#000000\" stroke-opacity=\"0.4\" stroke-width=\"0\"/>\n",
       "<circle clip-path=\"url(#clip0014)\" cx=\"372.428\" cy=\"1334.23\" r=\"14\" fill=\"#436fb1\" fill-rule=\"evenodd\" fill-opacity=\"0.4\" stroke=\"#000000\" stroke-opacity=\"0.4\" stroke-width=\"0\"/>\n",
       "<circle clip-path=\"url(#clip0014)\" cx=\"372.428\" cy=\"1342.01\" r=\"14\" fill=\"#436fb1\" fill-rule=\"evenodd\" fill-opacity=\"0.4\" stroke=\"#000000\" stroke-opacity=\"0.4\" stroke-width=\"0\"/>\n",
       "<circle clip-path=\"url(#clip0014)\" cx=\"398.568\" cy=\"1326.46\" r=\"14\" fill=\"#436fb1\" fill-rule=\"evenodd\" fill-opacity=\"0.4\" stroke=\"#000000\" stroke-opacity=\"0.4\" stroke-width=\"0\"/>\n",
       "<circle clip-path=\"url(#clip0014)\" cx=\"415.994\" cy=\"1295.36\" r=\"14\" fill=\"#436fb1\" fill-rule=\"evenodd\" fill-opacity=\"0.4\" stroke=\"#000000\" stroke-opacity=\"0.4\" stroke-width=\"0\"/>\n",
       "<circle clip-path=\"url(#clip0014)\" cx=\"363.715\" cy=\"1303.13\" r=\"14\" fill=\"#436fb1\" fill-rule=\"evenodd\" fill-opacity=\"0.4\" stroke=\"#000000\" stroke-opacity=\"0.4\" stroke-width=\"0\"/>\n",
       "<circle clip-path=\"url(#clip0014)\" cx=\"415.994\" cy=\"1295.36\" r=\"14\" fill=\"#436fb1\" fill-rule=\"evenodd\" fill-opacity=\"0.4\" stroke=\"#000000\" stroke-opacity=\"0.4\" stroke-width=\"0\"/>\n",
       "<circle clip-path=\"url(#clip0014)\" cx=\"476.987\" cy=\"1303.13\" r=\"14\" fill=\"#436fb1\" fill-rule=\"evenodd\" fill-opacity=\"0.4\" stroke=\"#000000\" stroke-opacity=\"0.4\" stroke-width=\"0\"/>\n",
       "<circle clip-path=\"url(#clip0014)\" cx=\"442.134\" cy=\"1318.68\" r=\"14\" fill=\"#436fb1\" fill-rule=\"evenodd\" fill-opacity=\"0.4\" stroke=\"#000000\" stroke-opacity=\"0.4\" stroke-width=\"0\"/>\n",
       "<circle clip-path=\"url(#clip0014)\" cx=\"381.141\" cy=\"1318.68\" r=\"14\" fill=\"#436fb1\" fill-rule=\"evenodd\" fill-opacity=\"0.4\" stroke=\"#000000\" stroke-opacity=\"0.4\" stroke-width=\"0\"/>\n",
       "<circle clip-path=\"url(#clip0014)\" cx=\"372.428\" cy=\"1318.68\" r=\"14\" fill=\"#436fb1\" fill-rule=\"evenodd\" fill-opacity=\"0.4\" stroke=\"#000000\" stroke-opacity=\"0.4\" stroke-width=\"0\"/>\n",
       "<circle clip-path=\"url(#clip0014)\" cx=\"372.428\" cy=\"1326.46\" r=\"14\" fill=\"#436fb1\" fill-rule=\"evenodd\" fill-opacity=\"0.4\" stroke=\"#000000\" stroke-opacity=\"0.4\" stroke-width=\"0\"/>\n",
       "<circle clip-path=\"url(#clip0014)\" cx=\"424.708\" cy=\"1310.91\" r=\"14\" fill=\"#436fb1\" fill-rule=\"evenodd\" fill-opacity=\"0.4\" stroke=\"#000000\" stroke-opacity=\"0.4\" stroke-width=\"0\"/>\n",
       "<circle clip-path=\"url(#clip0014)\" cx=\"398.568\" cy=\"1326.46\" r=\"14\" fill=\"#436fb1\" fill-rule=\"evenodd\" fill-opacity=\"0.4\" stroke=\"#000000\" stroke-opacity=\"0.4\" stroke-width=\"0\"/>\n",
       "<circle clip-path=\"url(#clip0014)\" cx=\"328.862\" cy=\"1342.01\" r=\"14\" fill=\"#436fb1\" fill-rule=\"evenodd\" fill-opacity=\"0.4\" stroke=\"#000000\" stroke-opacity=\"0.4\" stroke-width=\"0\"/>\n",
       "<circle clip-path=\"url(#clip0014)\" cx=\"381.141\" cy=\"1318.68\" r=\"14\" fill=\"#436fb1\" fill-rule=\"evenodd\" fill-opacity=\"0.4\" stroke=\"#000000\" stroke-opacity=\"0.4\" stroke-width=\"0\"/>\n",
       "<circle clip-path=\"url(#clip0014)\" cx=\"389.855\" cy=\"1326.46\" r=\"14\" fill=\"#436fb1\" fill-rule=\"evenodd\" fill-opacity=\"0.4\" stroke=\"#000000\" stroke-opacity=\"0.4\" stroke-width=\"0\"/>\n",
       "<circle clip-path=\"url(#clip0014)\" cx=\"389.855\" cy=\"1318.68\" r=\"14\" fill=\"#436fb1\" fill-rule=\"evenodd\" fill-opacity=\"0.4\" stroke=\"#000000\" stroke-opacity=\"0.4\" stroke-width=\"0\"/>\n",
       "<circle clip-path=\"url(#clip0014)\" cx=\"433.421\" cy=\"1318.68\" r=\"14\" fill=\"#436fb1\" fill-rule=\"evenodd\" fill-opacity=\"0.4\" stroke=\"#000000\" stroke-opacity=\"0.4\" stroke-width=\"0\"/>\n",
       "<circle clip-path=\"url(#clip0014)\" cx=\"337.575\" cy=\"1334.23\" r=\"14\" fill=\"#436fb1\" fill-rule=\"evenodd\" fill-opacity=\"0.4\" stroke=\"#000000\" stroke-opacity=\"0.4\" stroke-width=\"0\"/>\n",
       "<circle clip-path=\"url(#clip0014)\" cx=\"389.855\" cy=\"1318.68\" r=\"14\" fill=\"#436fb1\" fill-rule=\"evenodd\" fill-opacity=\"0.4\" stroke=\"#000000\" stroke-opacity=\"0.4\" stroke-width=\"0\"/>\n",
       "<circle clip-path=\"url(#clip0014)\" cx=\"442.134\" cy=\"1225.38\" r=\"14\" fill=\"#436fb1\" fill-rule=\"evenodd\" fill-opacity=\"0.4\" stroke=\"#000000\" stroke-opacity=\"0.4\" stroke-width=\"0\"/>\n",
       "<circle clip-path=\"url(#clip0014)\" cx=\"398.568\" cy=\"1272.03\" r=\"14\" fill=\"#436fb1\" fill-rule=\"evenodd\" fill-opacity=\"0.4\" stroke=\"#000000\" stroke-opacity=\"0.4\" stroke-width=\"0\"/>\n",
       "<circle clip-path=\"url(#clip0014)\" cx=\"511.84\" cy=\"1256.48\" r=\"14\" fill=\"#436fb1\" fill-rule=\"evenodd\" fill-opacity=\"0.4\" stroke=\"#000000\" stroke-opacity=\"0.4\" stroke-width=\"0\"/>\n",
       "<circle clip-path=\"url(#clip0014)\" cx=\"442.134\" cy=\"1279.81\" r=\"14\" fill=\"#436fb1\" fill-rule=\"evenodd\" fill-opacity=\"0.4\" stroke=\"#000000\" stroke-opacity=\"0.4\" stroke-width=\"0\"/>\n",
       "<circle clip-path=\"url(#clip0014)\" cx=\"459.561\" cy=\"1248.71\" r=\"14\" fill=\"#436fb1\" fill-rule=\"evenodd\" fill-opacity=\"0.4\" stroke=\"#000000\" stroke-opacity=\"0.4\" stroke-width=\"0\"/>\n",
       "<circle clip-path=\"url(#clip0014)\" cx=\"555.406\" cy=\"1256.48\" r=\"14\" fill=\"#436fb1\" fill-rule=\"evenodd\" fill-opacity=\"0.4\" stroke=\"#000000\" stroke-opacity=\"0.4\" stroke-width=\"0\"/>\n",
       "<circle clip-path=\"url(#clip0014)\" cx=\"320.149\" cy=\"1287.58\" r=\"14\" fill=\"#436fb1\" fill-rule=\"evenodd\" fill-opacity=\"0.4\" stroke=\"#000000\" stroke-opacity=\"0.4\" stroke-width=\"0\"/>\n",
       "<circle clip-path=\"url(#clip0014)\" cx=\"529.266\" cy=\"1279.81\" r=\"14\" fill=\"#436fb1\" fill-rule=\"evenodd\" fill-opacity=\"0.4\" stroke=\"#000000\" stroke-opacity=\"0.4\" stroke-width=\"0\"/>\n",
       "<circle clip-path=\"url(#clip0014)\" cx=\"476.987\" cy=\"1279.81\" r=\"14\" fill=\"#436fb1\" fill-rule=\"evenodd\" fill-opacity=\"0.4\" stroke=\"#000000\" stroke-opacity=\"0.4\" stroke-width=\"0\"/>\n",
       "<circle clip-path=\"url(#clip0014)\" cx=\"520.553\" cy=\"1225.38\" r=\"14\" fill=\"#436fb1\" fill-rule=\"evenodd\" fill-opacity=\"0.4\" stroke=\"#000000\" stroke-opacity=\"0.4\" stroke-width=\"0\"/>\n",
       "<circle clip-path=\"url(#clip0014)\" cx=\"459.561\" cy=\"1264.26\" r=\"14\" fill=\"#436fb1\" fill-rule=\"evenodd\" fill-opacity=\"0.4\" stroke=\"#000000\" stroke-opacity=\"0.4\" stroke-width=\"0\"/>\n",
       "<circle clip-path=\"url(#clip0014)\" cx=\"450.847\" cy=\"1272.03\" r=\"14\" fill=\"#436fb1\" fill-rule=\"evenodd\" fill-opacity=\"0.4\" stroke=\"#000000\" stroke-opacity=\"0.4\" stroke-width=\"0\"/>\n",
       "<circle clip-path=\"url(#clip0014)\" cx=\"485.7\" cy=\"1256.48\" r=\"14\" fill=\"#436fb1\" fill-rule=\"evenodd\" fill-opacity=\"0.4\" stroke=\"#000000\" stroke-opacity=\"0.4\" stroke-width=\"0\"/>\n",
       "<circle clip-path=\"url(#clip0014)\" cx=\"389.855\" cy=\"1264.26\" r=\"14\" fill=\"#436fb1\" fill-rule=\"evenodd\" fill-opacity=\"0.4\" stroke=\"#000000\" stroke-opacity=\"0.4\" stroke-width=\"0\"/>\n",
       "<circle clip-path=\"url(#clip0014)\" cx=\"398.568\" cy=\"1233.16\" r=\"14\" fill=\"#436fb1\" fill-rule=\"evenodd\" fill-opacity=\"0.4\" stroke=\"#000000\" stroke-opacity=\"0.4\" stroke-width=\"0\"/>\n",
       "<circle clip-path=\"url(#clip0014)\" cx=\"450.847\" cy=\"1240.93\" r=\"14\" fill=\"#436fb1\" fill-rule=\"evenodd\" fill-opacity=\"0.4\" stroke=\"#000000\" stroke-opacity=\"0.4\" stroke-width=\"0\"/>\n",
       "<circle clip-path=\"url(#clip0014)\" cx=\"459.561\" cy=\"1279.81\" r=\"14\" fill=\"#436fb1\" fill-rule=\"evenodd\" fill-opacity=\"0.4\" stroke=\"#000000\" stroke-opacity=\"0.4\" stroke-width=\"0\"/>\n",
       "<circle clip-path=\"url(#clip0014)\" cx=\"564.119\" cy=\"1248.71\" r=\"14\" fill=\"#436fb1\" fill-rule=\"evenodd\" fill-opacity=\"0.4\" stroke=\"#000000\" stroke-opacity=\"0.4\" stroke-width=\"0\"/>\n",
       "<circle clip-path=\"url(#clip0014)\" cx=\"564.119\" cy=\"1240.93\" r=\"14\" fill=\"#436fb1\" fill-rule=\"evenodd\" fill-opacity=\"0.4\" stroke=\"#000000\" stroke-opacity=\"0.4\" stroke-width=\"0\"/>\n",
       "<circle clip-path=\"url(#clip0014)\" cx=\"415.994\" cy=\"1303.13\" r=\"14\" fill=\"#436fb1\" fill-rule=\"evenodd\" fill-opacity=\"0.4\" stroke=\"#000000\" stroke-opacity=\"0.4\" stroke-width=\"0\"/>\n",
       "<circle clip-path=\"url(#clip0014)\" cx=\"494.414\" cy=\"1240.93\" r=\"14\" fill=\"#436fb1\" fill-rule=\"evenodd\" fill-opacity=\"0.4\" stroke=\"#000000\" stroke-opacity=\"0.4\" stroke-width=\"0\"/>\n",
       "<circle clip-path=\"url(#clip0014)\" cx=\"381.141\" cy=\"1264.26\" r=\"14\" fill=\"#436fb1\" fill-rule=\"evenodd\" fill-opacity=\"0.4\" stroke=\"#000000\" stroke-opacity=\"0.4\" stroke-width=\"0\"/>\n",
       "<circle clip-path=\"url(#clip0014)\" cx=\"564.119\" cy=\"1264.26\" r=\"14\" fill=\"#436fb1\" fill-rule=\"evenodd\" fill-opacity=\"0.4\" stroke=\"#000000\" stroke-opacity=\"0.4\" stroke-width=\"0\"/>\n",
       "<circle clip-path=\"url(#clip0014)\" cx=\"442.134\" cy=\"1279.81\" r=\"14\" fill=\"#436fb1\" fill-rule=\"evenodd\" fill-opacity=\"0.4\" stroke=\"#000000\" stroke-opacity=\"0.4\" stroke-width=\"0\"/>\n",
       "<circle clip-path=\"url(#clip0014)\" cx=\"476.987\" cy=\"1256.48\" r=\"14\" fill=\"#436fb1\" fill-rule=\"evenodd\" fill-opacity=\"0.4\" stroke=\"#000000\" stroke-opacity=\"0.4\" stroke-width=\"0\"/>\n",
       "<circle clip-path=\"url(#clip0014)\" cx=\"520.553\" cy=\"1279.81\" r=\"14\" fill=\"#436fb1\" fill-rule=\"evenodd\" fill-opacity=\"0.4\" stroke=\"#000000\" stroke-opacity=\"0.4\" stroke-width=\"0\"/>\n",
       "<circle clip-path=\"url(#clip0014)\" cx=\"433.421\" cy=\"1279.81\" r=\"14\" fill=\"#436fb1\" fill-rule=\"evenodd\" fill-opacity=\"0.4\" stroke=\"#000000\" stroke-opacity=\"0.4\" stroke-width=\"0\"/>\n",
       "<circle clip-path=\"url(#clip0014)\" cx=\"424.708\" cy=\"1279.81\" r=\"14\" fill=\"#436fb1\" fill-rule=\"evenodd\" fill-opacity=\"0.4\" stroke=\"#000000\" stroke-opacity=\"0.4\" stroke-width=\"0\"/>\n",
       "<circle clip-path=\"url(#clip0014)\" cx=\"450.847\" cy=\"1256.48\" r=\"14\" fill=\"#436fb1\" fill-rule=\"evenodd\" fill-opacity=\"0.4\" stroke=\"#000000\" stroke-opacity=\"0.4\" stroke-width=\"0\"/>\n",
       "<circle clip-path=\"url(#clip0014)\" cx=\"520.553\" cy=\"1295.36\" r=\"14\" fill=\"#436fb1\" fill-rule=\"evenodd\" fill-opacity=\"0.4\" stroke=\"#000000\" stroke-opacity=\"0.4\" stroke-width=\"0\"/>\n",
       "<circle clip-path=\"url(#clip0014)\" cx=\"537.98\" cy=\"1272.03\" r=\"14\" fill=\"#436fb1\" fill-rule=\"evenodd\" fill-opacity=\"0.4\" stroke=\"#000000\" stroke-opacity=\"0.4\" stroke-width=\"0\"/>\n",
       "<circle clip-path=\"url(#clip0014)\" cx=\"581.546\" cy=\"1264.26\" r=\"14\" fill=\"#436fb1\" fill-rule=\"evenodd\" fill-opacity=\"0.4\" stroke=\"#000000\" stroke-opacity=\"0.4\" stroke-width=\"0\"/>\n",
       "<circle clip-path=\"url(#clip0014)\" cx=\"450.847\" cy=\"1248.71\" r=\"14\" fill=\"#436fb1\" fill-rule=\"evenodd\" fill-opacity=\"0.4\" stroke=\"#000000\" stroke-opacity=\"0.4\" stroke-width=\"0\"/>\n",
       "<circle clip-path=\"url(#clip0014)\" cx=\"442.134\" cy=\"1303.13\" r=\"14\" fill=\"#436fb1\" fill-rule=\"evenodd\" fill-opacity=\"0.4\" stroke=\"#000000\" stroke-opacity=\"0.4\" stroke-width=\"0\"/>\n",
       "<circle clip-path=\"url(#clip0014)\" cx=\"424.708\" cy=\"1310.91\" r=\"14\" fill=\"#436fb1\" fill-rule=\"evenodd\" fill-opacity=\"0.4\" stroke=\"#000000\" stroke-opacity=\"0.4\" stroke-width=\"0\"/>\n",
       "<circle clip-path=\"url(#clip0014)\" cx=\"564.119\" cy=\"1240.93\" r=\"14\" fill=\"#436fb1\" fill-rule=\"evenodd\" fill-opacity=\"0.4\" stroke=\"#000000\" stroke-opacity=\"0.4\" stroke-width=\"0\"/>\n",
       "<circle clip-path=\"url(#clip0014)\" cx=\"442.134\" cy=\"1233.16\" r=\"14\" fill=\"#436fb1\" fill-rule=\"evenodd\" fill-opacity=\"0.4\" stroke=\"#000000\" stroke-opacity=\"0.4\" stroke-width=\"0\"/>\n",
       "<circle clip-path=\"url(#clip0014)\" cx=\"450.847\" cy=\"1279.81\" r=\"14\" fill=\"#436fb1\" fill-rule=\"evenodd\" fill-opacity=\"0.4\" stroke=\"#000000\" stroke-opacity=\"0.4\" stroke-width=\"0\"/>\n",
       "<circle clip-path=\"url(#clip0014)\" cx=\"415.994\" cy=\"1279.81\" r=\"14\" fill=\"#436fb1\" fill-rule=\"evenodd\" fill-opacity=\"0.4\" stroke=\"#000000\" stroke-opacity=\"0.4\" stroke-width=\"0\"/>\n",
       "<circle clip-path=\"url(#clip0014)\" cx=\"494.414\" cy=\"1256.48\" r=\"14\" fill=\"#436fb1\" fill-rule=\"evenodd\" fill-opacity=\"0.4\" stroke=\"#000000\" stroke-opacity=\"0.4\" stroke-width=\"0\"/>\n",
       "<circle clip-path=\"url(#clip0014)\" cx=\"476.987\" cy=\"1233.16\" r=\"14\" fill=\"#436fb1\" fill-rule=\"evenodd\" fill-opacity=\"0.4\" stroke=\"#000000\" stroke-opacity=\"0.4\" stroke-width=\"0\"/>\n",
       "<circle clip-path=\"url(#clip0014)\" cx=\"494.414\" cy=\"1240.93\" r=\"14\" fill=\"#436fb1\" fill-rule=\"evenodd\" fill-opacity=\"0.4\" stroke=\"#000000\" stroke-opacity=\"0.4\" stroke-width=\"0\"/>\n",
       "<circle clip-path=\"url(#clip0014)\" cx=\"398.568\" cy=\"1272.03\" r=\"14\" fill=\"#436fb1\" fill-rule=\"evenodd\" fill-opacity=\"0.4\" stroke=\"#000000\" stroke-opacity=\"0.4\" stroke-width=\"0\"/>\n",
       "<circle clip-path=\"url(#clip0014)\" cx=\"485.7\" cy=\"1240.93\" r=\"14\" fill=\"#436fb1\" fill-rule=\"evenodd\" fill-opacity=\"0.4\" stroke=\"#000000\" stroke-opacity=\"0.4\" stroke-width=\"0\"/>\n",
       "<circle clip-path=\"url(#clip0014)\" cx=\"476.987\" cy=\"1225.38\" r=\"14\" fill=\"#436fb1\" fill-rule=\"evenodd\" fill-opacity=\"0.4\" stroke=\"#000000\" stroke-opacity=\"0.4\" stroke-width=\"0\"/>\n",
       "<circle clip-path=\"url(#clip0014)\" cx=\"476.987\" cy=\"1240.93\" r=\"14\" fill=\"#436fb1\" fill-rule=\"evenodd\" fill-opacity=\"0.4\" stroke=\"#000000\" stroke-opacity=\"0.4\" stroke-width=\"0\"/>\n",
       "<circle clip-path=\"url(#clip0014)\" cx=\"442.134\" cy=\"1272.03\" r=\"14\" fill=\"#436fb1\" fill-rule=\"evenodd\" fill-opacity=\"0.4\" stroke=\"#000000\" stroke-opacity=\"0.4\" stroke-width=\"0\"/>\n",
       "<circle clip-path=\"url(#clip0014)\" cx=\"459.561\" cy=\"1264.26\" r=\"14\" fill=\"#436fb1\" fill-rule=\"evenodd\" fill-opacity=\"0.4\" stroke=\"#000000\" stroke-opacity=\"0.4\" stroke-width=\"0\"/>\n",
       "<circle clip-path=\"url(#clip0014)\" cx=\"433.421\" cy=\"1240.93\" r=\"14\" fill=\"#436fb1\" fill-rule=\"evenodd\" fill-opacity=\"0.4\" stroke=\"#000000\" stroke-opacity=\"0.4\" stroke-width=\"0\"/>\n",
       "<circle clip-path=\"url(#clip0014)\" cx=\"407.281\" cy=\"1279.81\" r=\"14\" fill=\"#436fb1\" fill-rule=\"evenodd\" fill-opacity=\"0.4\" stroke=\"#000000\" stroke-opacity=\"0.4\" stroke-width=\"0\"/>\n",
       "<polyline clip-path=\"url(#clip0014)\" style=\"stroke:#000000; stroke-width:4; stroke-opacity:1; fill:none\" points=\"\n",
       "  267.869,1416.86 581.546,1206.12 \n",
       "  \"/>\n",
       "<path clip-path=\"url(#clip000)\" d=\"\n",
       "M799.738 1423.18 L1191.35 1423.18 L1191.35 1199.79 L799.738 1199.79  Z\n",
       "  \" fill=\"#ffffff\" fill-rule=\"evenodd\" fill-opacity=\"1\"/>\n",
       "<defs>\n",
       "  <clipPath id=\"clip0015\">\n",
       "    <rect x=\"799\" y=\"1199\" width=\"393\" height=\"224\"/>\n",
       "  </clipPath>\n",
       "</defs>\n",
       "<polyline clip-path=\"url(#clip000)\" style=\"stroke:#000000; stroke-width:4; stroke-opacity:1; fill:none\" points=\"\n",
       "  799.738,1423.18 1191.35,1423.18 \n",
       "  \"/>\n",
       "<polyline clip-path=\"url(#clip000)\" style=\"stroke:#000000; stroke-width:4; stroke-opacity:1; fill:none\" points=\"\n",
       "  821.277,1423.18 821.277,1420.5 \n",
       "  \"/>\n",
       "<polyline clip-path=\"url(#clip000)\" style=\"stroke:#000000; stroke-width:4; stroke-opacity:1; fill:none\" points=\"\n",
       "  888.302,1423.18 888.302,1420.5 \n",
       "  \"/>\n",
       "<polyline clip-path=\"url(#clip000)\" style=\"stroke:#000000; stroke-width:4; stroke-opacity:1; fill:none\" points=\"\n",
       "  955.327,1423.18 955.327,1420.5 \n",
       "  \"/>\n",
       "<polyline clip-path=\"url(#clip000)\" style=\"stroke:#000000; stroke-width:4; stroke-opacity:1; fill:none\" points=\"\n",
       "  1022.35,1423.18 1022.35,1420.5 \n",
       "  \"/>\n",
       "<polyline clip-path=\"url(#clip000)\" style=\"stroke:#000000; stroke-width:4; stroke-opacity:1; fill:none\" points=\"\n",
       "  1089.38,1423.18 1089.38,1420.5 \n",
       "  \"/>\n",
       "<polyline clip-path=\"url(#clip000)\" style=\"stroke:#000000; stroke-width:4; stroke-opacity:1; fill:none\" points=\"\n",
       "  1156.4,1423.18 1156.4,1420.5 \n",
       "  \"/>\n",
       "<path clip-path=\"url(#clip000)\" d=\"M 0 0 M792.516 1479.92 L808.835 1479.92 L808.835 1483.85 L786.891 1483.85 L786.891 1479.92 Q789.553 1477.16 794.136 1472.53 Q798.742 1467.88 799.923 1466.54 Q802.168 1464.01 803.048 1462.28 Q803.951 1460.52 803.951 1458.83 Q803.951 1456.07 802.006 1454.34 Q800.085 1452.6 796.983 1452.6 Q794.784 1452.6 792.33 1453.37 Q789.9 1454.13 787.122 1455.68 L787.122 1450.96 Q789.946 1449.82 792.4 1449.25 Q794.854 1448.67 796.891 1448.67 Q802.261 1448.67 805.455 1451.35 Q808.65 1454.04 808.65 1458.53 Q808.65 1460.66 807.84 1462.58 Q807.053 1464.48 804.946 1467.07 Q804.367 1467.74 801.266 1470.96 Q798.164 1474.15 792.516 1479.92 Z\" fill=\"#000000\" fill-rule=\"evenodd\" fill-opacity=\"1\" /><path clip-path=\"url(#clip000)\" d=\"M 0 0 M818.65 1477.97 L823.534 1477.97 L823.534 1483.85 L818.65 1483.85 L818.65 1477.97 Z\" fill=\"#000000\" fill-rule=\"evenodd\" fill-opacity=\"1\" /><path clip-path=\"url(#clip000)\" d=\"M 0 0 M843.719 1452.37 Q840.108 1452.37 838.279 1455.94 Q836.474 1459.48 836.474 1466.61 Q836.474 1473.71 838.279 1477.28 Q840.108 1480.82 843.719 1480.82 Q847.353 1480.82 849.159 1477.28 Q850.988 1473.71 850.988 1466.61 Q850.988 1459.48 849.159 1455.94 Q847.353 1452.37 843.719 1452.37 M843.719 1448.67 Q849.529 1448.67 852.585 1453.27 Q855.663 1457.86 855.663 1466.61 Q855.663 1475.33 852.585 1479.94 Q849.529 1484.52 843.719 1484.52 Q837.909 1484.52 834.83 1479.94 Q831.775 1475.33 831.775 1466.61 Q831.775 1457.86 834.83 1453.27 Q837.909 1448.67 843.719 1448.67 Z\" fill=\"#000000\" fill-rule=\"evenodd\" fill-opacity=\"1\" /><path clip-path=\"url(#clip000)\" d=\"M 0 0 M860.038 1479.92 L876.358 1479.92 L876.358 1483.85 L854.413 1483.85 L854.413 1479.92 Q857.075 1477.16 861.659 1472.53 Q866.265 1467.88 867.446 1466.54 Q869.691 1464.01 870.571 1462.28 Q871.473 1460.52 871.473 1458.83 Q871.473 1456.07 869.529 1454.34 Q867.608 1452.6 864.506 1452.6 Q862.307 1452.6 859.853 1453.37 Q857.423 1454.13 854.645 1455.68 L854.645 1450.96 Q857.469 1449.82 859.923 1449.25 Q862.376 1448.67 864.413 1448.67 Q869.784 1448.67 872.978 1451.35 Q876.172 1454.04 876.172 1458.53 Q876.172 1460.66 875.362 1462.58 Q874.575 1464.48 872.469 1467.07 Q871.89 1467.74 868.788 1470.96 Q865.686 1474.15 860.038 1479.92 Z\" fill=\"#000000\" fill-rule=\"evenodd\" fill-opacity=\"1\" /><path clip-path=\"url(#clip000)\" d=\"M 0 0 M886.172 1477.97 L891.057 1477.97 L891.057 1483.85 L886.172 1483.85 L886.172 1477.97 Z\" fill=\"#000000\" fill-rule=\"evenodd\" fill-opacity=\"1\" /><path clip-path=\"url(#clip000)\" d=\"M 0 0 M901.288 1449.29 L919.644 1449.29 L919.644 1453.23 L905.57 1453.23 L905.57 1461.7 Q906.589 1461.35 907.607 1461.19 Q908.626 1461 909.644 1461 Q915.431 1461 918.811 1464.18 Q922.191 1467.35 922.191 1472.76 Q922.191 1478.34 918.719 1481.44 Q915.246 1484.52 908.927 1484.52 Q906.751 1484.52 904.482 1484.15 Q902.237 1483.78 899.83 1483.04 L899.83 1478.34 Q901.913 1479.48 904.135 1480.03 Q906.357 1480.59 908.834 1480.59 Q912.839 1480.59 915.177 1478.48 Q917.515 1476.38 917.515 1472.76 Q917.515 1469.15 915.177 1467.05 Q912.839 1464.94 908.834 1464.94 Q906.959 1464.94 905.084 1465.36 Q903.232 1465.77 901.288 1466.65 L901.288 1449.29 Z\" fill=\"#000000\" fill-rule=\"evenodd\" fill-opacity=\"1\" /><path clip-path=\"url(#clip000)\" d=\"M 0 0 M936.635 1465.22 Q939.991 1465.94 941.866 1468.2 Q943.765 1470.47 943.765 1473.81 Q943.765 1478.92 940.246 1481.72 Q936.728 1484.52 930.246 1484.52 Q928.07 1484.52 925.755 1484.08 Q923.464 1483.67 921.01 1482.81 L921.01 1478.3 Q922.954 1479.43 925.269 1480.01 Q927.584 1480.59 930.107 1480.59 Q934.505 1480.59 936.797 1478.85 Q939.112 1477.12 939.112 1473.81 Q939.112 1470.75 936.959 1469.04 Q934.829 1467.3 931.01 1467.3 L926.982 1467.3 L926.982 1463.46 L931.195 1463.46 Q934.644 1463.46 936.473 1462.09 Q938.302 1460.7 938.302 1458.11 Q938.302 1455.45 936.403 1454.04 Q934.528 1452.6 931.01 1452.6 Q929.089 1452.6 926.89 1453.02 Q924.691 1453.44 922.052 1454.31 L922.052 1450.15 Q924.714 1449.41 927.028 1449.04 Q929.366 1448.67 931.427 1448.67 Q936.751 1448.67 939.853 1451.1 Q942.954 1453.5 942.954 1457.63 Q942.954 1460.5 941.311 1462.49 Q939.667 1464.45 936.635 1465.22 Z\" fill=\"#000000\" fill-rule=\"evenodd\" fill-opacity=\"1\" /><path clip-path=\"url(#clip000)\" d=\"M 0 0 M952.63 1477.97 L957.514 1477.97 L957.514 1483.85 L952.63 1483.85 L952.63 1477.97 Z\" fill=\"#000000\" fill-rule=\"evenodd\" fill-opacity=\"1\" /><path clip-path=\"url(#clip000)\" d=\"M 0 0 M977.7 1452.37 Q974.088 1452.37 972.26 1455.94 Q970.454 1459.48 970.454 1466.61 Q970.454 1473.71 972.26 1477.28 Q974.088 1480.82 977.7 1480.82 Q981.334 1480.82 983.139 1477.28 Q984.968 1473.71 984.968 1466.61 Q984.968 1459.48 983.139 1455.94 Q981.334 1452.37 977.7 1452.37 M977.7 1448.67 Q983.51 1448.67 986.565 1453.27 Q989.644 1457.86 989.644 1466.61 Q989.644 1475.33 986.565 1479.94 Q983.51 1484.52 977.7 1484.52 Q971.889 1484.52 968.811 1479.94 Q965.755 1475.33 965.755 1466.61 Q965.755 1457.86 968.811 1453.27 Q971.889 1448.67 977.7 1448.67 Z\" fill=\"#000000\" fill-rule=\"evenodd\" fill-opacity=\"1\" /><path clip-path=\"url(#clip000)\" d=\"M 0 0 M1004.16 1465.22 Q1007.51 1465.94 1009.39 1468.2 Q1011.29 1470.47 1011.29 1473.81 Q1011.29 1478.92 1007.77 1481.72 Q1004.25 1484.52 997.769 1484.52 Q995.593 1484.52 993.278 1484.08 Q990.986 1483.67 988.533 1482.81 L988.533 1478.3 Q990.477 1479.43 992.792 1480.01 Q995.107 1480.59 997.63 1480.59 Q1002.03 1480.59 1004.32 1478.85 Q1006.63 1477.12 1006.63 1473.81 Q1006.63 1470.75 1004.48 1469.04 Q1002.35 1467.3 998.533 1467.3 L994.505 1467.3 L994.505 1463.46 L998.718 1463.46 Q1002.17 1463.46 1004 1462.09 Q1005.82 1460.7 1005.82 1458.11 Q1005.82 1455.45 1003.93 1454.04 Q1002.05 1452.6 998.533 1452.6 Q996.611 1452.6 994.412 1453.02 Q992.213 1453.44 989.574 1454.31 L989.574 1450.15 Q992.236 1449.41 994.551 1449.04 Q996.889 1448.67 998.949 1448.67 Q1004.27 1448.67 1007.38 1451.1 Q1010.48 1453.5 1010.48 1457.63 Q1010.48 1460.5 1008.83 1462.49 Q1007.19 1464.45 1004.16 1465.22 Z\" fill=\"#000000\" fill-rule=\"evenodd\" fill-opacity=\"1\" /><path clip-path=\"url(#clip000)\" d=\"M 0 0 M1020.15 1477.97 L1025.04 1477.97 L1025.04 1483.85 L1020.15 1483.85 L1020.15 1477.97 Z\" fill=\"#000000\" fill-rule=\"evenodd\" fill-opacity=\"1\" /><path clip-path=\"url(#clip000)\" d=\"M 0 0 M1035.27 1449.29 L1053.62 1449.29 L1053.62 1453.23 L1039.55 1453.23 L1039.55 1461.7 Q1040.57 1461.35 1041.59 1461.19 Q1042.61 1461 1043.62 1461 Q1049.41 1461 1052.79 1464.18 Q1056.17 1467.35 1056.17 1472.76 Q1056.17 1478.34 1052.7 1481.44 Q1049.23 1484.52 1042.91 1484.52 Q1040.73 1484.52 1038.46 1484.15 Q1036.22 1483.78 1033.81 1483.04 L1033.81 1478.34 Q1035.89 1479.48 1038.12 1480.03 Q1040.34 1480.59 1042.81 1480.59 Q1046.82 1480.59 1049.16 1478.48 Q1051.5 1476.38 1051.5 1472.76 Q1051.5 1469.15 1049.16 1467.05 Q1046.82 1464.94 1042.81 1464.94 Q1040.94 1464.94 1039.06 1465.36 Q1037.21 1465.77 1035.27 1466.65 L1035.27 1449.29 Z\" fill=\"#000000\" fill-rule=\"evenodd\" fill-opacity=\"1\" /><path clip-path=\"url(#clip000)\" d=\"M 0 0 M1070.01 1453.37 L1058.21 1471.81 L1070.01 1471.81 L1070.01 1453.37 M1068.79 1449.29 L1074.67 1449.29 L1074.67 1471.81 L1079.6 1471.81 L1079.6 1475.7 L1074.67 1475.7 L1074.67 1483.85 L1070.01 1483.85 L1070.01 1475.7 L1054.41 1475.7 L1054.41 1471.19 L1068.79 1449.29 Z\" fill=\"#000000\" fill-rule=\"evenodd\" fill-opacity=\"1\" /><path clip-path=\"url(#clip000)\" d=\"M 0 0 M1087.33 1477.97 L1092.21 1477.97 L1092.21 1483.85 L1087.33 1483.85 L1087.33 1477.97 Z\" fill=\"#000000\" fill-rule=\"evenodd\" fill-opacity=\"1\" /><path clip-path=\"url(#clip000)\" d=\"M 0 0 M1112.4 1452.37 Q1108.79 1452.37 1106.96 1455.94 Q1105.15 1459.48 1105.15 1466.61 Q1105.15 1473.71 1106.96 1477.28 Q1108.79 1480.82 1112.4 1480.82 Q1116.03 1480.82 1117.84 1477.28 Q1119.67 1473.71 1119.67 1466.61 Q1119.67 1459.48 1117.84 1455.94 Q1116.03 1452.37 1112.4 1452.37 M1112.4 1448.67 Q1118.21 1448.67 1121.26 1453.27 Q1124.34 1457.86 1124.34 1466.61 Q1124.34 1475.33 1121.26 1479.94 Q1118.21 1484.52 1112.4 1484.52 Q1106.59 1484.52 1103.51 1479.94 Q1100.45 1475.33 1100.45 1466.61 Q1100.45 1457.86 1103.51 1453.27 Q1106.59 1448.67 1112.4 1448.67 Z\" fill=\"#000000\" fill-rule=\"evenodd\" fill-opacity=\"1\" /><path clip-path=\"url(#clip000)\" d=\"M 0 0 M1137.54 1453.37 L1125.73 1471.81 L1137.54 1471.81 L1137.54 1453.37 M1136.31 1449.29 L1142.19 1449.29 L1142.19 1471.81 L1147.12 1471.81 L1147.12 1475.7 L1142.19 1475.7 L1142.19 1483.85 L1137.54 1483.85 L1137.54 1475.7 L1121.93 1475.7 L1121.93 1471.19 L1136.31 1449.29 Z\" fill=\"#000000\" fill-rule=\"evenodd\" fill-opacity=\"1\" /><path clip-path=\"url(#clip000)\" d=\"M 0 0 M1154.85 1477.97 L1159.74 1477.97 L1159.74 1483.85 L1154.85 1483.85 L1154.85 1477.97 Z\" fill=\"#000000\" fill-rule=\"evenodd\" fill-opacity=\"1\" /><path clip-path=\"url(#clip000)\" d=\"M 0 0 M1169.97 1449.29 L1188.32 1449.29 L1188.32 1453.23 L1174.25 1453.23 L1174.25 1461.7 Q1175.27 1461.35 1176.29 1461.19 Q1177.3 1461 1178.32 1461 Q1184.11 1461 1187.49 1464.18 Q1190.87 1467.35 1190.87 1472.76 Q1190.87 1478.34 1187.4 1481.44 Q1183.92 1484.52 1177.61 1484.52 Q1175.43 1484.52 1173.16 1484.15 Q1170.92 1483.78 1168.51 1483.04 L1168.51 1478.34 Q1170.59 1479.48 1172.81 1480.03 Q1175.04 1480.59 1177.51 1480.59 Q1181.52 1480.59 1183.86 1478.48 Q1186.19 1476.38 1186.19 1472.76 Q1186.19 1469.15 1183.86 1467.05 Q1181.52 1464.94 1177.51 1464.94 Q1175.64 1464.94 1173.76 1465.36 Q1171.91 1465.77 1169.97 1466.65 L1169.97 1449.29 Z\" fill=\"#000000\" fill-rule=\"evenodd\" fill-opacity=\"1\" /><path clip-path=\"url(#clip000)\" d=\"M 0 0 M845.9 1522.08 L845.9 1528.35 Q842.24 1526.6 838.993 1525.74 Q835.747 1524.88 832.723 1524.88 Q827.471 1524.88 824.607 1526.92 Q821.774 1528.96 821.774 1532.71 Q821.774 1535.87 823.652 1537.49 Q825.562 1539.08 830.845 1540.07 L834.728 1540.86 Q841.922 1542.23 845.327 1545.7 Q848.765 1549.14 848.765 1554.93 Q848.765 1561.84 844.118 1565.4 Q839.503 1568.97 830.559 1568.97 Q827.185 1568.97 823.365 1568.2 Q819.578 1567.44 815.504 1565.94 L815.504 1559.32 Q819.419 1561.52 823.174 1562.63 Q826.93 1563.75 830.559 1563.75 Q836.065 1563.75 839.057 1561.58 Q842.049 1559.42 842.049 1555.41 Q842.049 1551.91 839.884 1549.93 Q837.752 1547.96 832.85 1546.97 L828.935 1546.21 Q821.742 1544.78 818.528 1541.72 Q815.313 1538.67 815.313 1533.22 Q815.313 1526.92 819.737 1523.29 Q824.193 1519.66 831.991 1519.66 Q835.333 1519.66 838.802 1520.27 Q842.272 1520.87 845.9 1522.08 Z\" fill=\"#000000\" fill-rule=\"evenodd\" fill-opacity=\"1\" /><path clip-path=\"url(#clip000)\" d=\"M 0 0 M889.028 1548.76 L889.028 1551.62 L862.101 1551.62 Q862.483 1557.67 865.729 1560.85 Q869.008 1564 874.832 1564 Q878.206 1564 881.357 1563.17 Q884.54 1562.35 887.659 1560.69 L887.659 1566.23 Q884.508 1567.57 881.198 1568.27 Q877.888 1568.97 874.482 1568.97 Q865.952 1568.97 860.955 1564 Q855.99 1559.04 855.99 1550.57 Q855.99 1541.82 860.7 1536.69 Q865.443 1531.54 873.464 1531.54 Q880.657 1531.54 884.826 1536.18 Q889.028 1540.8 889.028 1548.76 M883.171 1547.04 Q883.108 1542.23 880.466 1539.37 Q877.856 1536.5 873.527 1536.5 Q868.626 1536.5 865.666 1539.27 Q862.737 1542.04 862.292 1547.07 L883.171 1547.04 Z\" fill=\"#000000\" fill-rule=\"evenodd\" fill-opacity=\"1\" /><path clip-path=\"url(#clip000)\" d=\"M 0 0 M904.305 1562.7 L904.305 1581.6 L898.417 1581.6 L898.417 1532.4 L904.305 1532.4 L904.305 1537.81 Q906.151 1534.62 908.952 1533.1 Q911.785 1531.54 915.7 1531.54 Q922.193 1531.54 926.235 1536.69 Q930.309 1541.85 930.309 1550.25 Q930.309 1558.65 926.235 1563.81 Q922.193 1568.97 915.7 1568.97 Q911.785 1568.97 908.952 1567.44 Q906.151 1565.88 904.305 1562.7 M924.23 1550.25 Q924.23 1543.79 921.556 1540.13 Q918.915 1536.44 914.268 1536.44 Q909.621 1536.44 906.947 1540.13 Q904.305 1543.79 904.305 1550.25 Q904.305 1556.71 906.947 1560.4 Q909.621 1564.07 914.268 1564.07 Q918.915 1564.07 921.556 1560.4 Q924.23 1556.71 924.23 1550.25 Z\" fill=\"#000000\" fill-rule=\"evenodd\" fill-opacity=\"1\" /><path clip-path=\"url(#clip000)\" d=\"M 0 0 M956.218 1550.12 Q949.12 1550.12 946.383 1551.75 Q943.645 1553.37 943.645 1557.29 Q943.645 1560.4 945.683 1562.25 Q947.751 1564.07 951.284 1564.07 Q956.154 1564.07 959.082 1560.63 Q962.042 1557.16 962.042 1551.43 L962.042 1550.12 L956.218 1550.12 M967.899 1547.71 L967.899 1568.04 L962.042 1568.04 L962.042 1562.63 Q960.037 1565.88 957.045 1567.44 Q954.053 1568.97 949.725 1568.97 Q944.25 1568.97 941.004 1565.91 Q937.789 1562.82 937.789 1557.67 Q937.789 1551.65 941.799 1548.6 Q945.842 1545.54 953.831 1545.54 L962.042 1545.54 L962.042 1544.97 Q962.042 1540.93 959.369 1538.73 Q956.727 1536.5 951.921 1536.5 Q948.865 1536.5 945.969 1537.23 Q943.073 1537.97 940.399 1539.43 L940.399 1534.02 Q943.614 1532.78 946.637 1532.17 Q949.661 1531.54 952.526 1531.54 Q960.26 1531.54 964.079 1535.55 Q967.899 1539.56 967.899 1547.71 Z\" fill=\"#000000\" fill-rule=\"evenodd\" fill-opacity=\"1\" /><path clip-path=\"url(#clip000)\" d=\"M 0 0 M979.962 1518.52 L985.818 1518.52 L985.818 1568.04 L979.962 1568.04 L979.962 1518.52 Z\" fill=\"#000000\" fill-rule=\"evenodd\" fill-opacity=\"1\" /><path clip-path=\"url(#clip000)\" d=\"M 0 0 M994.094 1520.52 L1000.59 1520.52 L1010.58 1560.69 L1020.54 1520.52 L1027.77 1520.52 L1037.76 1560.69 L1047.72 1520.52 L1054.25 1520.52 L1042.31 1568.04 L1034.23 1568.04 L1024.2 1526.79 L1014.08 1568.04 L1006 1568.04 L994.094 1520.52 Z\" fill=\"#000000\" fill-rule=\"evenodd\" fill-opacity=\"1\" /><path clip-path=\"url(#clip000)\" d=\"M 0 0 M1061.09 1532.4 L1066.95 1532.4 L1066.95 1568.04 L1061.09 1568.04 L1061.09 1532.4 M1061.09 1518.52 L1066.95 1518.52 L1066.95 1525.93 L1061.09 1525.93 L1061.09 1518.52 Z\" fill=\"#000000\" fill-rule=\"evenodd\" fill-opacity=\"1\" /><path clip-path=\"url(#clip000)\" d=\"M 0 0 M1102.66 1537.81 L1102.66 1518.52 L1108.52 1518.52 L1108.52 1568.04 L1102.66 1568.04 L1102.66 1562.7 Q1100.81 1565.88 1097.98 1567.44 Q1095.18 1568.97 1091.23 1568.97 Q1084.77 1568.97 1080.7 1563.81 Q1076.66 1558.65 1076.66 1550.25 Q1076.66 1541.85 1080.7 1536.69 Q1084.77 1531.54 1091.23 1531.54 Q1095.18 1531.54 1097.98 1533.1 Q1100.81 1534.62 1102.66 1537.81 M1082.7 1550.25 Q1082.7 1556.71 1085.35 1560.4 Q1088.02 1564.07 1092.67 1564.07 Q1097.31 1564.07 1099.99 1560.4 Q1102.66 1556.71 1102.66 1550.25 Q1102.66 1543.79 1099.99 1540.13 Q1097.31 1536.44 1092.67 1536.44 Q1088.02 1536.44 1085.35 1540.13 Q1082.7 1543.79 1082.7 1550.25 Z\" fill=\"#000000\" fill-rule=\"evenodd\" fill-opacity=\"1\" /><path clip-path=\"url(#clip000)\" d=\"M 0 0 M1126.37 1522.27 L1126.37 1532.4 L1138.44 1532.4 L1138.44 1536.95 L1126.37 1536.95 L1126.37 1556.3 Q1126.37 1560.66 1127.55 1561.9 Q1128.76 1563.14 1132.42 1563.14 L1138.44 1563.14 L1138.44 1568.04 L1132.42 1568.04 Q1125.64 1568.04 1123.06 1565.53 Q1120.48 1562.98 1120.48 1556.3 L1120.48 1536.95 L1116.19 1536.95 L1116.19 1532.4 L1120.48 1532.4 L1120.48 1522.27 L1126.37 1522.27 Z\" fill=\"#000000\" fill-rule=\"evenodd\" fill-opacity=\"1\" /><path clip-path=\"url(#clip000)\" d=\"M 0 0 M1175.77 1546.53 L1175.77 1568.04 L1169.91 1568.04 L1169.91 1546.72 Q1169.91 1541.66 1167.94 1539.14 Q1165.97 1536.63 1162.02 1536.63 Q1157.28 1536.63 1154.54 1539.65 Q1151.8 1542.68 1151.8 1547.9 L1151.8 1568.04 L1145.92 1568.04 L1145.92 1518.52 L1151.8 1518.52 L1151.8 1537.93 Q1153.9 1534.72 1156.74 1533.13 Q1159.6 1531.54 1163.33 1531.54 Q1169.47 1531.54 1172.62 1535.36 Q1175.77 1539.14 1175.77 1546.53 Z\" fill=\"#000000\" fill-rule=\"evenodd\" fill-opacity=\"1\" /><polyline clip-path=\"url(#clip000)\" style=\"stroke:#000000; stroke-width:4; stroke-opacity:1; fill:none\" points=\"\n",
       "  799.738,1423.18 799.738,1199.79 \n",
       "  \"/>\n",
       "<polyline clip-path=\"url(#clip000)\" style=\"stroke:#000000; stroke-width:4; stroke-opacity:1; fill:none\" points=\"\n",
       "  799.738,1419.76 804.437,1419.76 \n",
       "  \"/>\n",
       "<polyline clip-path=\"url(#clip000)\" style=\"stroke:#000000; stroke-width:4; stroke-opacity:1; fill:none\" points=\"\n",
       "  799.738,1380.88 804.437,1380.88 \n",
       "  \"/>\n",
       "<polyline clip-path=\"url(#clip000)\" style=\"stroke:#000000; stroke-width:4; stroke-opacity:1; fill:none\" points=\"\n",
       "  799.738,1342.01 804.437,1342.01 \n",
       "  \"/>\n",
       "<polyline clip-path=\"url(#clip000)\" style=\"stroke:#000000; stroke-width:4; stroke-opacity:1; fill:none\" points=\"\n",
       "  799.738,1303.13 804.437,1303.13 \n",
       "  \"/>\n",
       "<polyline clip-path=\"url(#clip000)\" style=\"stroke:#000000; stroke-width:4; stroke-opacity:1; fill:none\" points=\"\n",
       "  799.738,1264.26 804.437,1264.26 \n",
       "  \"/>\n",
       "<polyline clip-path=\"url(#clip000)\" style=\"stroke:#000000; stroke-width:4; stroke-opacity:1; fill:none\" points=\"\n",
       "  799.738,1225.38 804.437,1225.38 \n",
       "  \"/>\n",
       "<circle clip-path=\"url(#clip0015)\" cx=\"1022.35\" cy=\"1404.21\" r=\"14\" fill=\"#fdb668\" fill-rule=\"evenodd\" fill-opacity=\"0.4\" stroke=\"#000000\" stroke-opacity=\"0.4\" stroke-width=\"0\"/>\n",
       "<circle clip-path=\"url(#clip0015)\" cx=\"955.327\" cy=\"1404.21\" r=\"14\" fill=\"#fdb668\" fill-rule=\"evenodd\" fill-opacity=\"0.4\" stroke=\"#000000\" stroke-opacity=\"0.4\" stroke-width=\"0\"/>\n",
       "<circle clip-path=\"url(#clip0015)\" cx=\"982.137\" cy=\"1404.21\" r=\"14\" fill=\"#fdb668\" fill-rule=\"evenodd\" fill-opacity=\"0.4\" stroke=\"#000000\" stroke-opacity=\"0.4\" stroke-width=\"0\"/>\n",
       "<circle clip-path=\"url(#clip0015)\" cx=\"968.732\" cy=\"1404.21\" r=\"14\" fill=\"#fdb668\" fill-rule=\"evenodd\" fill-opacity=\"0.4\" stroke=\"#000000\" stroke-opacity=\"0.4\" stroke-width=\"0\"/>\n",
       "<circle clip-path=\"url(#clip0015)\" cx=\"1035.76\" cy=\"1404.21\" r=\"14\" fill=\"#fdb668\" fill-rule=\"evenodd\" fill-opacity=\"0.4\" stroke=\"#000000\" stroke-opacity=\"0.4\" stroke-width=\"0\"/>\n",
       "<circle clip-path=\"url(#clip0015)\" cx=\"1075.97\" cy=\"1388.66\" r=\"14\" fill=\"#fdb668\" fill-rule=\"evenodd\" fill-opacity=\"0.4\" stroke=\"#000000\" stroke-opacity=\"0.4\" stroke-width=\"0\"/>\n",
       "<circle clip-path=\"url(#clip0015)\" cx=\"1008.95\" cy=\"1396.43\" r=\"14\" fill=\"#fdb668\" fill-rule=\"evenodd\" fill-opacity=\"0.4\" stroke=\"#000000\" stroke-opacity=\"0.4\" stroke-width=\"0\"/>\n",
       "<circle clip-path=\"url(#clip0015)\" cx=\"1008.95\" cy=\"1404.21\" r=\"14\" fill=\"#fdb668\" fill-rule=\"evenodd\" fill-opacity=\"0.4\" stroke=\"#000000\" stroke-opacity=\"0.4\" stroke-width=\"0\"/>\n",
       "<circle clip-path=\"url(#clip0015)\" cx=\"941.922\" cy=\"1404.21\" r=\"14\" fill=\"#fdb668\" fill-rule=\"evenodd\" fill-opacity=\"0.4\" stroke=\"#000000\" stroke-opacity=\"0.4\" stroke-width=\"0\"/>\n",
       "<circle clip-path=\"url(#clip0015)\" cx=\"968.732\" cy=\"1411.99\" r=\"14\" fill=\"#fdb668\" fill-rule=\"evenodd\" fill-opacity=\"0.4\" stroke=\"#000000\" stroke-opacity=\"0.4\" stroke-width=\"0\"/>\n",
       "<circle clip-path=\"url(#clip0015)\" cx=\"1049.16\" cy=\"1404.21\" r=\"14\" fill=\"#fdb668\" fill-rule=\"evenodd\" fill-opacity=\"0.4\" stroke=\"#000000\" stroke-opacity=\"0.4\" stroke-width=\"0\"/>\n",
       "<circle clip-path=\"url(#clip0015)\" cx=\"1008.95\" cy=\"1404.21\" r=\"14\" fill=\"#fdb668\" fill-rule=\"evenodd\" fill-opacity=\"0.4\" stroke=\"#000000\" stroke-opacity=\"0.4\" stroke-width=\"0\"/>\n",
       "<circle clip-path=\"url(#clip0015)\" cx=\"955.327\" cy=\"1411.99\" r=\"14\" fill=\"#fdb668\" fill-rule=\"evenodd\" fill-opacity=\"0.4\" stroke=\"#000000\" stroke-opacity=\"0.4\" stroke-width=\"0\"/>\n",
       "<circle clip-path=\"url(#clip0015)\" cx=\"955.327\" cy=\"1411.99\" r=\"14\" fill=\"#fdb668\" fill-rule=\"evenodd\" fill-opacity=\"0.4\" stroke=\"#000000\" stroke-opacity=\"0.4\" stroke-width=\"0\"/>\n",
       "<circle clip-path=\"url(#clip0015)\" cx=\"1089.38\" cy=\"1404.21\" r=\"14\" fill=\"#fdb668\" fill-rule=\"evenodd\" fill-opacity=\"0.4\" stroke=\"#000000\" stroke-opacity=\"0.4\" stroke-width=\"0\"/>\n",
       "<circle clip-path=\"url(#clip0015)\" cx=\"1143\" cy=\"1388.66\" r=\"14\" fill=\"#fdb668\" fill-rule=\"evenodd\" fill-opacity=\"0.4\" stroke=\"#000000\" stroke-opacity=\"0.4\" stroke-width=\"0\"/>\n",
       "<circle clip-path=\"url(#clip0015)\" cx=\"1075.97\" cy=\"1388.66\" r=\"14\" fill=\"#fdb668\" fill-rule=\"evenodd\" fill-opacity=\"0.4\" stroke=\"#000000\" stroke-opacity=\"0.4\" stroke-width=\"0\"/>\n",
       "<circle clip-path=\"url(#clip0015)\" cx=\"1022.35\" cy=\"1396.43\" r=\"14\" fill=\"#fdb668\" fill-rule=\"evenodd\" fill-opacity=\"0.4\" stroke=\"#000000\" stroke-opacity=\"0.4\" stroke-width=\"0\"/>\n",
       "<circle clip-path=\"url(#clip0015)\" cx=\"1062.57\" cy=\"1396.43\" r=\"14\" fill=\"#fdb668\" fill-rule=\"evenodd\" fill-opacity=\"0.4\" stroke=\"#000000\" stroke-opacity=\"0.4\" stroke-width=\"0\"/>\n",
       "<circle clip-path=\"url(#clip0015)\" cx=\"1062.57\" cy=\"1396.43\" r=\"14\" fill=\"#fdb668\" fill-rule=\"evenodd\" fill-opacity=\"0.4\" stroke=\"#000000\" stroke-opacity=\"0.4\" stroke-width=\"0\"/>\n",
       "<circle clip-path=\"url(#clip0015)\" cx=\"1008.95\" cy=\"1404.21\" r=\"14\" fill=\"#fdb668\" fill-rule=\"evenodd\" fill-opacity=\"0.4\" stroke=\"#000000\" stroke-opacity=\"0.4\" stroke-width=\"0\"/>\n",
       "<circle clip-path=\"url(#clip0015)\" cx=\"1049.16\" cy=\"1388.66\" r=\"14\" fill=\"#fdb668\" fill-rule=\"evenodd\" fill-opacity=\"0.4\" stroke=\"#000000\" stroke-opacity=\"0.4\" stroke-width=\"0\"/>\n",
       "<circle clip-path=\"url(#clip0015)\" cx=\"1035.76\" cy=\"1404.21\" r=\"14\" fill=\"#fdb668\" fill-rule=\"evenodd\" fill-opacity=\"0.4\" stroke=\"#000000\" stroke-opacity=\"0.4\" stroke-width=\"0\"/>\n",
       "<circle clip-path=\"url(#clip0015)\" cx=\"995.542\" cy=\"1380.88\" r=\"14\" fill=\"#fdb668\" fill-rule=\"evenodd\" fill-opacity=\"0.4\" stroke=\"#000000\" stroke-opacity=\"0.4\" stroke-width=\"0\"/>\n",
       "<circle clip-path=\"url(#clip0015)\" cx=\"1008.95\" cy=\"1404.21\" r=\"14\" fill=\"#fdb668\" fill-rule=\"evenodd\" fill-opacity=\"0.4\" stroke=\"#000000\" stroke-opacity=\"0.4\" stroke-width=\"0\"/>\n",
       "<circle clip-path=\"url(#clip0015)\" cx=\"955.327\" cy=\"1404.21\" r=\"14\" fill=\"#fdb668\" fill-rule=\"evenodd\" fill-opacity=\"0.4\" stroke=\"#000000\" stroke-opacity=\"0.4\" stroke-width=\"0\"/>\n",
       "<circle clip-path=\"url(#clip0015)\" cx=\"1008.95\" cy=\"1388.66\" r=\"14\" fill=\"#fdb668\" fill-rule=\"evenodd\" fill-opacity=\"0.4\" stroke=\"#000000\" stroke-opacity=\"0.4\" stroke-width=\"0\"/>\n",
       "<circle clip-path=\"url(#clip0015)\" cx=\"1022.35\" cy=\"1404.21\" r=\"14\" fill=\"#fdb668\" fill-rule=\"evenodd\" fill-opacity=\"0.4\" stroke=\"#000000\" stroke-opacity=\"0.4\" stroke-width=\"0\"/>\n",
       "<circle clip-path=\"url(#clip0015)\" cx=\"1008.95\" cy=\"1404.21\" r=\"14\" fill=\"#fdb668\" fill-rule=\"evenodd\" fill-opacity=\"0.4\" stroke=\"#000000\" stroke-opacity=\"0.4\" stroke-width=\"0\"/>\n",
       "<circle clip-path=\"url(#clip0015)\" cx=\"982.137\" cy=\"1404.21\" r=\"14\" fill=\"#fdb668\" fill-rule=\"evenodd\" fill-opacity=\"0.4\" stroke=\"#000000\" stroke-opacity=\"0.4\" stroke-width=\"0\"/>\n",
       "<circle clip-path=\"url(#clip0015)\" cx=\"968.732\" cy=\"1404.21\" r=\"14\" fill=\"#fdb668\" fill-rule=\"evenodd\" fill-opacity=\"0.4\" stroke=\"#000000\" stroke-opacity=\"0.4\" stroke-width=\"0\"/>\n",
       "<circle clip-path=\"url(#clip0015)\" cx=\"1008.95\" cy=\"1388.66\" r=\"14\" fill=\"#fdb668\" fill-rule=\"evenodd\" fill-opacity=\"0.4\" stroke=\"#000000\" stroke-opacity=\"0.4\" stroke-width=\"0\"/>\n",
       "<circle clip-path=\"url(#clip0015)\" cx=\"1102.78\" cy=\"1411.99\" r=\"14\" fill=\"#fdb668\" fill-rule=\"evenodd\" fill-opacity=\"0.4\" stroke=\"#000000\" stroke-opacity=\"0.4\" stroke-width=\"0\"/>\n",
       "<circle clip-path=\"url(#clip0015)\" cx=\"1116.19\" cy=\"1404.21\" r=\"14\" fill=\"#fdb668\" fill-rule=\"evenodd\" fill-opacity=\"0.4\" stroke=\"#000000\" stroke-opacity=\"0.4\" stroke-width=\"0\"/>\n",
       "<circle clip-path=\"url(#clip0015)\" cx=\"968.732\" cy=\"1404.21\" r=\"14\" fill=\"#fdb668\" fill-rule=\"evenodd\" fill-opacity=\"0.4\" stroke=\"#000000\" stroke-opacity=\"0.4\" stroke-width=\"0\"/>\n",
       "<circle clip-path=\"url(#clip0015)\" cx=\"982.137\" cy=\"1404.21\" r=\"14\" fill=\"#fdb668\" fill-rule=\"evenodd\" fill-opacity=\"0.4\" stroke=\"#000000\" stroke-opacity=\"0.4\" stroke-width=\"0\"/>\n",
       "<circle clip-path=\"url(#clip0015)\" cx=\"1022.35\" cy=\"1404.21\" r=\"14\" fill=\"#fdb668\" fill-rule=\"evenodd\" fill-opacity=\"0.4\" stroke=\"#000000\" stroke-opacity=\"0.4\" stroke-width=\"0\"/>\n",
       "<circle clip-path=\"url(#clip0015)\" cx=\"1035.76\" cy=\"1411.99\" r=\"14\" fill=\"#fdb668\" fill-rule=\"evenodd\" fill-opacity=\"0.4\" stroke=\"#000000\" stroke-opacity=\"0.4\" stroke-width=\"0\"/>\n",
       "<circle clip-path=\"url(#clip0015)\" cx=\"955.327\" cy=\"1404.21\" r=\"14\" fill=\"#fdb668\" fill-rule=\"evenodd\" fill-opacity=\"0.4\" stroke=\"#000000\" stroke-opacity=\"0.4\" stroke-width=\"0\"/>\n",
       "<circle clip-path=\"url(#clip0015)\" cx=\"1008.95\" cy=\"1404.21\" r=\"14\" fill=\"#fdb668\" fill-rule=\"evenodd\" fill-opacity=\"0.4\" stroke=\"#000000\" stroke-opacity=\"0.4\" stroke-width=\"0\"/>\n",
       "<circle clip-path=\"url(#clip0015)\" cx=\"1022.35\" cy=\"1396.43\" r=\"14\" fill=\"#fdb668\" fill-rule=\"evenodd\" fill-opacity=\"0.4\" stroke=\"#000000\" stroke-opacity=\"0.4\" stroke-width=\"0\"/>\n",
       "<circle clip-path=\"url(#clip0015)\" cx=\"861.492\" cy=\"1396.43\" r=\"14\" fill=\"#fdb668\" fill-rule=\"evenodd\" fill-opacity=\"0.4\" stroke=\"#000000\" stroke-opacity=\"0.4\" stroke-width=\"0\"/>\n",
       "<circle clip-path=\"url(#clip0015)\" cx=\"982.137\" cy=\"1404.21\" r=\"14\" fill=\"#fdb668\" fill-rule=\"evenodd\" fill-opacity=\"0.4\" stroke=\"#000000\" stroke-opacity=\"0.4\" stroke-width=\"0\"/>\n",
       "<circle clip-path=\"url(#clip0015)\" cx=\"1022.35\" cy=\"1373.11\" r=\"14\" fill=\"#fdb668\" fill-rule=\"evenodd\" fill-opacity=\"0.4\" stroke=\"#000000\" stroke-opacity=\"0.4\" stroke-width=\"0\"/>\n",
       "<circle clip-path=\"url(#clip0015)\" cx=\"1062.57\" cy=\"1388.66\" r=\"14\" fill=\"#fdb668\" fill-rule=\"evenodd\" fill-opacity=\"0.4\" stroke=\"#000000\" stroke-opacity=\"0.4\" stroke-width=\"0\"/>\n",
       "<circle clip-path=\"url(#clip0015)\" cx=\"955.327\" cy=\"1396.43\" r=\"14\" fill=\"#fdb668\" fill-rule=\"evenodd\" fill-opacity=\"0.4\" stroke=\"#000000\" stroke-opacity=\"0.4\" stroke-width=\"0\"/>\n",
       "<circle clip-path=\"url(#clip0015)\" cx=\"1062.57\" cy=\"1404.21\" r=\"14\" fill=\"#fdb668\" fill-rule=\"evenodd\" fill-opacity=\"0.4\" stroke=\"#000000\" stroke-opacity=\"0.4\" stroke-width=\"0\"/>\n",
       "<circle clip-path=\"url(#clip0015)\" cx=\"982.137\" cy=\"1404.21\" r=\"14\" fill=\"#fdb668\" fill-rule=\"evenodd\" fill-opacity=\"0.4\" stroke=\"#000000\" stroke-opacity=\"0.4\" stroke-width=\"0\"/>\n",
       "<circle clip-path=\"url(#clip0015)\" cx=\"1049.16\" cy=\"1404.21\" r=\"14\" fill=\"#fdb668\" fill-rule=\"evenodd\" fill-opacity=\"0.4\" stroke=\"#000000\" stroke-opacity=\"0.4\" stroke-width=\"0\"/>\n",
       "<circle clip-path=\"url(#clip0015)\" cx=\"995.542\" cy=\"1404.21\" r=\"14\" fill=\"#fdb668\" fill-rule=\"evenodd\" fill-opacity=\"0.4\" stroke=\"#000000\" stroke-opacity=\"0.4\" stroke-width=\"0\"/>\n",
       "<circle clip-path=\"url(#clip0015)\" cx=\"982.137\" cy=\"1310.91\" r=\"14\" fill=\"#fdb668\" fill-rule=\"evenodd\" fill-opacity=\"0.4\" stroke=\"#000000\" stroke-opacity=\"0.4\" stroke-width=\"0\"/>\n",
       "<circle clip-path=\"url(#clip0015)\" cx=\"982.137\" cy=\"1303.13\" r=\"14\" fill=\"#fdb668\" fill-rule=\"evenodd\" fill-opacity=\"0.4\" stroke=\"#000000\" stroke-opacity=\"0.4\" stroke-width=\"0\"/>\n",
       "<circle clip-path=\"url(#clip0015)\" cx=\"968.732\" cy=\"1303.13\" r=\"14\" fill=\"#fdb668\" fill-rule=\"evenodd\" fill-opacity=\"0.4\" stroke=\"#000000\" stroke-opacity=\"0.4\" stroke-width=\"0\"/>\n",
       "<circle clip-path=\"url(#clip0015)\" cx=\"861.492\" cy=\"1318.68\" r=\"14\" fill=\"#fdb668\" fill-rule=\"evenodd\" fill-opacity=\"0.4\" stroke=\"#000000\" stroke-opacity=\"0.4\" stroke-width=\"0\"/>\n",
       "<circle clip-path=\"url(#clip0015)\" cx=\"928.517\" cy=\"1303.13\" r=\"14\" fill=\"#fdb668\" fill-rule=\"evenodd\" fill-opacity=\"0.4\" stroke=\"#000000\" stroke-opacity=\"0.4\" stroke-width=\"0\"/>\n",
       "<circle clip-path=\"url(#clip0015)\" cx=\"928.517\" cy=\"1318.68\" r=\"14\" fill=\"#fdb668\" fill-rule=\"evenodd\" fill-opacity=\"0.4\" stroke=\"#000000\" stroke-opacity=\"0.4\" stroke-width=\"0\"/>\n",
       "<circle clip-path=\"url(#clip0015)\" cx=\"995.542\" cy=\"1295.36\" r=\"14\" fill=\"#fdb668\" fill-rule=\"evenodd\" fill-opacity=\"0.4\" stroke=\"#000000\" stroke-opacity=\"0.4\" stroke-width=\"0\"/>\n",
       "<circle clip-path=\"url(#clip0015)\" cx=\"874.897\" cy=\"1342.01\" r=\"14\" fill=\"#fdb668\" fill-rule=\"evenodd\" fill-opacity=\"0.4\" stroke=\"#000000\" stroke-opacity=\"0.4\" stroke-width=\"0\"/>\n",
       "<circle clip-path=\"url(#clip0015)\" cx=\"941.922\" cy=\"1318.68\" r=\"14\" fill=\"#fdb668\" fill-rule=\"evenodd\" fill-opacity=\"0.4\" stroke=\"#000000\" stroke-opacity=\"0.4\" stroke-width=\"0\"/>\n",
       "<circle clip-path=\"url(#clip0015)\" cx=\"915.112\" cy=\"1310.91\" r=\"14\" fill=\"#fdb668\" fill-rule=\"evenodd\" fill-opacity=\"0.4\" stroke=\"#000000\" stroke-opacity=\"0.4\" stroke-width=\"0\"/>\n",
       "<circle clip-path=\"url(#clip0015)\" cx=\"821.277\" cy=\"1342.01\" r=\"14\" fill=\"#fdb668\" fill-rule=\"evenodd\" fill-opacity=\"0.4\" stroke=\"#000000\" stroke-opacity=\"0.4\" stroke-width=\"0\"/>\n",
       "<circle clip-path=\"url(#clip0015)\" cx=\"955.327\" cy=\"1303.13\" r=\"14\" fill=\"#fdb668\" fill-rule=\"evenodd\" fill-opacity=\"0.4\" stroke=\"#000000\" stroke-opacity=\"0.4\" stroke-width=\"0\"/>\n",
       "<circle clip-path=\"url(#clip0015)\" cx=\"848.087\" cy=\"1342.01\" r=\"14\" fill=\"#fdb668\" fill-rule=\"evenodd\" fill-opacity=\"0.4\" stroke=\"#000000\" stroke-opacity=\"0.4\" stroke-width=\"0\"/>\n",
       "<circle clip-path=\"url(#clip0015)\" cx=\"941.922\" cy=\"1310.91\" r=\"14\" fill=\"#fdb668\" fill-rule=\"evenodd\" fill-opacity=\"0.4\" stroke=\"#000000\" stroke-opacity=\"0.4\" stroke-width=\"0\"/>\n",
       "<circle clip-path=\"url(#clip0015)\" cx=\"941.922\" cy=\"1318.68\" r=\"14\" fill=\"#fdb668\" fill-rule=\"evenodd\" fill-opacity=\"0.4\" stroke=\"#000000\" stroke-opacity=\"0.4\" stroke-width=\"0\"/>\n",
       "<circle clip-path=\"url(#clip0015)\" cx=\"968.732\" cy=\"1310.91\" r=\"14\" fill=\"#fdb668\" fill-rule=\"evenodd\" fill-opacity=\"0.4\" stroke=\"#000000\" stroke-opacity=\"0.4\" stroke-width=\"0\"/>\n",
       "<circle clip-path=\"url(#clip0015)\" cx=\"955.327\" cy=\"1303.13\" r=\"14\" fill=\"#fdb668\" fill-rule=\"evenodd\" fill-opacity=\"0.4\" stroke=\"#000000\" stroke-opacity=\"0.4\" stroke-width=\"0\"/>\n",
       "<circle clip-path=\"url(#clip0015)\" cx=\"915.112\" cy=\"1342.01\" r=\"14\" fill=\"#fdb668\" fill-rule=\"evenodd\" fill-opacity=\"0.4\" stroke=\"#000000\" stroke-opacity=\"0.4\" stroke-width=\"0\"/>\n",
       "<circle clip-path=\"url(#clip0015)\" cx=\"848.087\" cy=\"1303.13\" r=\"14\" fill=\"#fdb668\" fill-rule=\"evenodd\" fill-opacity=\"0.4\" stroke=\"#000000\" stroke-opacity=\"0.4\" stroke-width=\"0\"/>\n",
       "<circle clip-path=\"url(#clip0015)\" cx=\"888.302\" cy=\"1334.23\" r=\"14\" fill=\"#fdb668\" fill-rule=\"evenodd\" fill-opacity=\"0.4\" stroke=\"#000000\" stroke-opacity=\"0.4\" stroke-width=\"0\"/>\n",
       "<circle clip-path=\"url(#clip0015)\" cx=\"982.137\" cy=\"1279.81\" r=\"14\" fill=\"#fdb668\" fill-rule=\"evenodd\" fill-opacity=\"0.4\" stroke=\"#000000\" stroke-opacity=\"0.4\" stroke-width=\"0\"/>\n",
       "<circle clip-path=\"url(#clip0015)\" cx=\"928.517\" cy=\"1318.68\" r=\"14\" fill=\"#fdb668\" fill-rule=\"evenodd\" fill-opacity=\"0.4\" stroke=\"#000000\" stroke-opacity=\"0.4\" stroke-width=\"0\"/>\n",
       "<circle clip-path=\"url(#clip0015)\" cx=\"888.302\" cy=\"1303.13\" r=\"14\" fill=\"#fdb668\" fill-rule=\"evenodd\" fill-opacity=\"0.4\" stroke=\"#000000\" stroke-opacity=\"0.4\" stroke-width=\"0\"/>\n",
       "<circle clip-path=\"url(#clip0015)\" cx=\"928.517\" cy=\"1326.46\" r=\"14\" fill=\"#fdb668\" fill-rule=\"evenodd\" fill-opacity=\"0.4\" stroke=\"#000000\" stroke-opacity=\"0.4\" stroke-width=\"0\"/>\n",
       "<circle clip-path=\"url(#clip0015)\" cx=\"941.922\" cy=\"1318.68\" r=\"14\" fill=\"#fdb668\" fill-rule=\"evenodd\" fill-opacity=\"0.4\" stroke=\"#000000\" stroke-opacity=\"0.4\" stroke-width=\"0\"/>\n",
       "<circle clip-path=\"url(#clip0015)\" cx=\"955.327\" cy=\"1310.91\" r=\"14\" fill=\"#fdb668\" fill-rule=\"evenodd\" fill-opacity=\"0.4\" stroke=\"#000000\" stroke-opacity=\"0.4\" stroke-width=\"0\"/>\n",
       "<circle clip-path=\"url(#clip0015)\" cx=\"928.517\" cy=\"1310.91\" r=\"14\" fill=\"#fdb668\" fill-rule=\"evenodd\" fill-opacity=\"0.4\" stroke=\"#000000\" stroke-opacity=\"0.4\" stroke-width=\"0\"/>\n",
       "<circle clip-path=\"url(#clip0015)\" cx=\"955.327\" cy=\"1287.58\" r=\"14\" fill=\"#fdb668\" fill-rule=\"evenodd\" fill-opacity=\"0.4\" stroke=\"#000000\" stroke-opacity=\"0.4\" stroke-width=\"0\"/>\n",
       "<circle clip-path=\"url(#clip0015)\" cx=\"941.922\" cy=\"1303.13\" r=\"14\" fill=\"#fdb668\" fill-rule=\"evenodd\" fill-opacity=\"0.4\" stroke=\"#000000\" stroke-opacity=\"0.4\" stroke-width=\"0\"/>\n",
       "<circle clip-path=\"url(#clip0015)\" cx=\"901.707\" cy=\"1342.01\" r=\"14\" fill=\"#fdb668\" fill-rule=\"evenodd\" fill-opacity=\"0.4\" stroke=\"#000000\" stroke-opacity=\"0.4\" stroke-width=\"0\"/>\n",
       "<circle clip-path=\"url(#clip0015)\" cx=\"874.897\" cy=\"1334.23\" r=\"14\" fill=\"#fdb668\" fill-rule=\"evenodd\" fill-opacity=\"0.4\" stroke=\"#000000\" stroke-opacity=\"0.4\" stroke-width=\"0\"/>\n",
       "<circle clip-path=\"url(#clip0015)\" cx=\"874.897\" cy=\"1342.01\" r=\"14\" fill=\"#fdb668\" fill-rule=\"evenodd\" fill-opacity=\"0.4\" stroke=\"#000000\" stroke-opacity=\"0.4\" stroke-width=\"0\"/>\n",
       "<circle clip-path=\"url(#clip0015)\" cx=\"915.112\" cy=\"1326.46\" r=\"14\" fill=\"#fdb668\" fill-rule=\"evenodd\" fill-opacity=\"0.4\" stroke=\"#000000\" stroke-opacity=\"0.4\" stroke-width=\"0\"/>\n",
       "<circle clip-path=\"url(#clip0015)\" cx=\"915.112\" cy=\"1295.36\" r=\"14\" fill=\"#fdb668\" fill-rule=\"evenodd\" fill-opacity=\"0.4\" stroke=\"#000000\" stroke-opacity=\"0.4\" stroke-width=\"0\"/>\n",
       "<circle clip-path=\"url(#clip0015)\" cx=\"955.327\" cy=\"1303.13\" r=\"14\" fill=\"#fdb668\" fill-rule=\"evenodd\" fill-opacity=\"0.4\" stroke=\"#000000\" stroke-opacity=\"0.4\" stroke-width=\"0\"/>\n",
       "<circle clip-path=\"url(#clip0015)\" cx=\"1008.95\" cy=\"1295.36\" r=\"14\" fill=\"#fdb668\" fill-rule=\"evenodd\" fill-opacity=\"0.4\" stroke=\"#000000\" stroke-opacity=\"0.4\" stroke-width=\"0\"/>\n",
       "<circle clip-path=\"url(#clip0015)\" cx=\"968.732\" cy=\"1303.13\" r=\"14\" fill=\"#fdb668\" fill-rule=\"evenodd\" fill-opacity=\"0.4\" stroke=\"#000000\" stroke-opacity=\"0.4\" stroke-width=\"0\"/>\n",
       "<circle clip-path=\"url(#clip0015)\" cx=\"861.492\" cy=\"1318.68\" r=\"14\" fill=\"#fdb668\" fill-rule=\"evenodd\" fill-opacity=\"0.4\" stroke=\"#000000\" stroke-opacity=\"0.4\" stroke-width=\"0\"/>\n",
       "<circle clip-path=\"url(#clip0015)\" cx=\"955.327\" cy=\"1318.68\" r=\"14\" fill=\"#fdb668\" fill-rule=\"evenodd\" fill-opacity=\"0.4\" stroke=\"#000000\" stroke-opacity=\"0.4\" stroke-width=\"0\"/>\n",
       "<circle clip-path=\"url(#clip0015)\" cx=\"888.302\" cy=\"1318.68\" r=\"14\" fill=\"#fdb668\" fill-rule=\"evenodd\" fill-opacity=\"0.4\" stroke=\"#000000\" stroke-opacity=\"0.4\" stroke-width=\"0\"/>\n",
       "<circle clip-path=\"url(#clip0015)\" cx=\"901.707\" cy=\"1326.46\" r=\"14\" fill=\"#fdb668\" fill-rule=\"evenodd\" fill-opacity=\"0.4\" stroke=\"#000000\" stroke-opacity=\"0.4\" stroke-width=\"0\"/>\n",
       "<circle clip-path=\"url(#clip0015)\" cx=\"955.327\" cy=\"1310.91\" r=\"14\" fill=\"#fdb668\" fill-rule=\"evenodd\" fill-opacity=\"0.4\" stroke=\"#000000\" stroke-opacity=\"0.4\" stroke-width=\"0\"/>\n",
       "<circle clip-path=\"url(#clip0015)\" cx=\"901.707\" cy=\"1326.46\" r=\"14\" fill=\"#fdb668\" fill-rule=\"evenodd\" fill-opacity=\"0.4\" stroke=\"#000000\" stroke-opacity=\"0.4\" stroke-width=\"0\"/>\n",
       "<circle clip-path=\"url(#clip0015)\" cx=\"861.492\" cy=\"1342.01\" r=\"14\" fill=\"#fdb668\" fill-rule=\"evenodd\" fill-opacity=\"0.4\" stroke=\"#000000\" stroke-opacity=\"0.4\" stroke-width=\"0\"/>\n",
       "<circle clip-path=\"url(#clip0015)\" cx=\"915.112\" cy=\"1318.68\" r=\"14\" fill=\"#fdb668\" fill-rule=\"evenodd\" fill-opacity=\"0.4\" stroke=\"#000000\" stroke-opacity=\"0.4\" stroke-width=\"0\"/>\n",
       "<circle clip-path=\"url(#clip0015)\" cx=\"955.327\" cy=\"1326.46\" r=\"14\" fill=\"#fdb668\" fill-rule=\"evenodd\" fill-opacity=\"0.4\" stroke=\"#000000\" stroke-opacity=\"0.4\" stroke-width=\"0\"/>\n",
       "<circle clip-path=\"url(#clip0015)\" cx=\"941.922\" cy=\"1318.68\" r=\"14\" fill=\"#fdb668\" fill-rule=\"evenodd\" fill-opacity=\"0.4\" stroke=\"#000000\" stroke-opacity=\"0.4\" stroke-width=\"0\"/>\n",
       "<circle clip-path=\"url(#clip0015)\" cx=\"941.922\" cy=\"1318.68\" r=\"14\" fill=\"#fdb668\" fill-rule=\"evenodd\" fill-opacity=\"0.4\" stroke=\"#000000\" stroke-opacity=\"0.4\" stroke-width=\"0\"/>\n",
       "<circle clip-path=\"url(#clip0015)\" cx=\"888.302\" cy=\"1334.23\" r=\"14\" fill=\"#fdb668\" fill-rule=\"evenodd\" fill-opacity=\"0.4\" stroke=\"#000000\" stroke-opacity=\"0.4\" stroke-width=\"0\"/>\n",
       "<circle clip-path=\"url(#clip0015)\" cx=\"928.517\" cy=\"1318.68\" r=\"14\" fill=\"#fdb668\" fill-rule=\"evenodd\" fill-opacity=\"0.4\" stroke=\"#000000\" stroke-opacity=\"0.4\" stroke-width=\"0\"/>\n",
       "<circle clip-path=\"url(#clip0015)\" cx=\"995.542\" cy=\"1225.38\" r=\"14\" fill=\"#fdb668\" fill-rule=\"evenodd\" fill-opacity=\"0.4\" stroke=\"#000000\" stroke-opacity=\"0.4\" stroke-width=\"0\"/>\n",
       "<circle clip-path=\"url(#clip0015)\" cx=\"915.112\" cy=\"1272.03\" r=\"14\" fill=\"#fdb668\" fill-rule=\"evenodd\" fill-opacity=\"0.4\" stroke=\"#000000\" stroke-opacity=\"0.4\" stroke-width=\"0\"/>\n",
       "<circle clip-path=\"url(#clip0015)\" cx=\"955.327\" cy=\"1256.48\" r=\"14\" fill=\"#fdb668\" fill-rule=\"evenodd\" fill-opacity=\"0.4\" stroke=\"#000000\" stroke-opacity=\"0.4\" stroke-width=\"0\"/>\n",
       "<circle clip-path=\"url(#clip0015)\" cx=\"941.922\" cy=\"1279.81\" r=\"14\" fill=\"#fdb668\" fill-rule=\"evenodd\" fill-opacity=\"0.4\" stroke=\"#000000\" stroke-opacity=\"0.4\" stroke-width=\"0\"/>\n",
       "<circle clip-path=\"url(#clip0015)\" cx=\"955.327\" cy=\"1248.71\" r=\"14\" fill=\"#fdb668\" fill-rule=\"evenodd\" fill-opacity=\"0.4\" stroke=\"#000000\" stroke-opacity=\"0.4\" stroke-width=\"0\"/>\n",
       "<circle clip-path=\"url(#clip0015)\" cx=\"955.327\" cy=\"1256.48\" r=\"14\" fill=\"#fdb668\" fill-rule=\"evenodd\" fill-opacity=\"0.4\" stroke=\"#000000\" stroke-opacity=\"0.4\" stroke-width=\"0\"/>\n",
       "<circle clip-path=\"url(#clip0015)\" cx=\"888.302\" cy=\"1287.58\" r=\"14\" fill=\"#fdb668\" fill-rule=\"evenodd\" fill-opacity=\"0.4\" stroke=\"#000000\" stroke-opacity=\"0.4\" stroke-width=\"0\"/>\n",
       "<circle clip-path=\"url(#clip0015)\" cx=\"941.922\" cy=\"1279.81\" r=\"14\" fill=\"#fdb668\" fill-rule=\"evenodd\" fill-opacity=\"0.4\" stroke=\"#000000\" stroke-opacity=\"0.4\" stroke-width=\"0\"/>\n",
       "<circle clip-path=\"url(#clip0015)\" cx=\"888.302\" cy=\"1279.81\" r=\"14\" fill=\"#fdb668\" fill-rule=\"evenodd\" fill-opacity=\"0.4\" stroke=\"#000000\" stroke-opacity=\"0.4\" stroke-width=\"0\"/>\n",
       "<circle clip-path=\"url(#clip0015)\" cx=\"1035.76\" cy=\"1225.38\" r=\"14\" fill=\"#fdb668\" fill-rule=\"evenodd\" fill-opacity=\"0.4\" stroke=\"#000000\" stroke-opacity=\"0.4\" stroke-width=\"0\"/>\n",
       "<circle clip-path=\"url(#clip0015)\" cx=\"982.137\" cy=\"1264.26\" r=\"14\" fill=\"#fdb668\" fill-rule=\"evenodd\" fill-opacity=\"0.4\" stroke=\"#000000\" stroke-opacity=\"0.4\" stroke-width=\"0\"/>\n",
       "<circle clip-path=\"url(#clip0015)\" cx=\"915.112\" cy=\"1272.03\" r=\"14\" fill=\"#fdb668\" fill-rule=\"evenodd\" fill-opacity=\"0.4\" stroke=\"#000000\" stroke-opacity=\"0.4\" stroke-width=\"0\"/>\n",
       "<circle clip-path=\"url(#clip0015)\" cx=\"955.327\" cy=\"1256.48\" r=\"14\" fill=\"#fdb668\" fill-rule=\"evenodd\" fill-opacity=\"0.4\" stroke=\"#000000\" stroke-opacity=\"0.4\" stroke-width=\"0\"/>\n",
       "<circle clip-path=\"url(#clip0015)\" cx=\"888.302\" cy=\"1264.26\" r=\"14\" fill=\"#fdb668\" fill-rule=\"evenodd\" fill-opacity=\"0.4\" stroke=\"#000000\" stroke-opacity=\"0.4\" stroke-width=\"0\"/>\n",
       "<circle clip-path=\"url(#clip0015)\" cx=\"928.517\" cy=\"1233.16\" r=\"14\" fill=\"#fdb668\" fill-rule=\"evenodd\" fill-opacity=\"0.4\" stroke=\"#000000\" stroke-opacity=\"0.4\" stroke-width=\"0\"/>\n",
       "<circle clip-path=\"url(#clip0015)\" cx=\"982.137\" cy=\"1240.93\" r=\"14\" fill=\"#fdb668\" fill-rule=\"evenodd\" fill-opacity=\"0.4\" stroke=\"#000000\" stroke-opacity=\"0.4\" stroke-width=\"0\"/>\n",
       "<circle clip-path=\"url(#clip0015)\" cx=\"955.327\" cy=\"1279.81\" r=\"14\" fill=\"#fdb668\" fill-rule=\"evenodd\" fill-opacity=\"0.4\" stroke=\"#000000\" stroke-opacity=\"0.4\" stroke-width=\"0\"/>\n",
       "<circle clip-path=\"url(#clip0015)\" cx=\"1062.57\" cy=\"1248.71\" r=\"14\" fill=\"#fdb668\" fill-rule=\"evenodd\" fill-opacity=\"0.4\" stroke=\"#000000\" stroke-opacity=\"0.4\" stroke-width=\"0\"/>\n",
       "<circle clip-path=\"url(#clip0015)\" cx=\"901.707\" cy=\"1240.93\" r=\"14\" fill=\"#fdb668\" fill-rule=\"evenodd\" fill-opacity=\"0.4\" stroke=\"#000000\" stroke-opacity=\"0.4\" stroke-width=\"0\"/>\n",
       "<circle clip-path=\"url(#clip0015)\" cx=\"848.087\" cy=\"1303.13\" r=\"14\" fill=\"#fdb668\" fill-rule=\"evenodd\" fill-opacity=\"0.4\" stroke=\"#000000\" stroke-opacity=\"0.4\" stroke-width=\"0\"/>\n",
       "<circle clip-path=\"url(#clip0015)\" cx=\"982.137\" cy=\"1240.93\" r=\"14\" fill=\"#fdb668\" fill-rule=\"evenodd\" fill-opacity=\"0.4\" stroke=\"#000000\" stroke-opacity=\"0.4\" stroke-width=\"0\"/>\n",
       "<circle clip-path=\"url(#clip0015)\" cx=\"928.517\" cy=\"1264.26\" r=\"14\" fill=\"#fdb668\" fill-rule=\"evenodd\" fill-opacity=\"0.4\" stroke=\"#000000\" stroke-opacity=\"0.4\" stroke-width=\"0\"/>\n",
       "<circle clip-path=\"url(#clip0015)\" cx=\"928.517\" cy=\"1264.26\" r=\"14\" fill=\"#fdb668\" fill-rule=\"evenodd\" fill-opacity=\"0.4\" stroke=\"#000000\" stroke-opacity=\"0.4\" stroke-width=\"0\"/>\n",
       "<circle clip-path=\"url(#clip0015)\" cx=\"915.112\" cy=\"1279.81\" r=\"14\" fill=\"#fdb668\" fill-rule=\"evenodd\" fill-opacity=\"0.4\" stroke=\"#000000\" stroke-opacity=\"0.4\" stroke-width=\"0\"/>\n",
       "<circle clip-path=\"url(#clip0015)\" cx=\"995.542\" cy=\"1256.48\" r=\"14\" fill=\"#fdb668\" fill-rule=\"evenodd\" fill-opacity=\"0.4\" stroke=\"#000000\" stroke-opacity=\"0.4\" stroke-width=\"0\"/>\n",
       "<circle clip-path=\"url(#clip0015)\" cx=\"982.137\" cy=\"1279.81\" r=\"14\" fill=\"#fdb668\" fill-rule=\"evenodd\" fill-opacity=\"0.4\" stroke=\"#000000\" stroke-opacity=\"0.4\" stroke-width=\"0\"/>\n",
       "<circle clip-path=\"url(#clip0015)\" cx=\"928.517\" cy=\"1279.81\" r=\"14\" fill=\"#fdb668\" fill-rule=\"evenodd\" fill-opacity=\"0.4\" stroke=\"#000000\" stroke-opacity=\"0.4\" stroke-width=\"0\"/>\n",
       "<circle clip-path=\"url(#clip0015)\" cx=\"955.327\" cy=\"1279.81\" r=\"14\" fill=\"#fdb668\" fill-rule=\"evenodd\" fill-opacity=\"0.4\" stroke=\"#000000\" stroke-opacity=\"0.4\" stroke-width=\"0\"/>\n",
       "<circle clip-path=\"url(#clip0015)\" cx=\"928.517\" cy=\"1256.48\" r=\"14\" fill=\"#fdb668\" fill-rule=\"evenodd\" fill-opacity=\"0.4\" stroke=\"#000000\" stroke-opacity=\"0.4\" stroke-width=\"0\"/>\n",
       "<circle clip-path=\"url(#clip0015)\" cx=\"955.327\" cy=\"1295.36\" r=\"14\" fill=\"#fdb668\" fill-rule=\"evenodd\" fill-opacity=\"0.4\" stroke=\"#000000\" stroke-opacity=\"0.4\" stroke-width=\"0\"/>\n",
       "<circle clip-path=\"url(#clip0015)\" cx=\"928.517\" cy=\"1272.03\" r=\"14\" fill=\"#fdb668\" fill-rule=\"evenodd\" fill-opacity=\"0.4\" stroke=\"#000000\" stroke-opacity=\"0.4\" stroke-width=\"0\"/>\n",
       "<circle clip-path=\"url(#clip0015)\" cx=\"1062.57\" cy=\"1264.26\" r=\"14\" fill=\"#fdb668\" fill-rule=\"evenodd\" fill-opacity=\"0.4\" stroke=\"#000000\" stroke-opacity=\"0.4\" stroke-width=\"0\"/>\n",
       "<circle clip-path=\"url(#clip0015)\" cx=\"928.517\" cy=\"1248.71\" r=\"14\" fill=\"#fdb668\" fill-rule=\"evenodd\" fill-opacity=\"0.4\" stroke=\"#000000\" stroke-opacity=\"0.4\" stroke-width=\"0\"/>\n",
       "<circle clip-path=\"url(#clip0015)\" cx=\"928.517\" cy=\"1303.13\" r=\"14\" fill=\"#fdb668\" fill-rule=\"evenodd\" fill-opacity=\"0.4\" stroke=\"#000000\" stroke-opacity=\"0.4\" stroke-width=\"0\"/>\n",
       "<circle clip-path=\"url(#clip0015)\" cx=\"901.707\" cy=\"1310.91\" r=\"14\" fill=\"#fdb668\" fill-rule=\"evenodd\" fill-opacity=\"0.4\" stroke=\"#000000\" stroke-opacity=\"0.4\" stroke-width=\"0\"/>\n",
       "<circle clip-path=\"url(#clip0015)\" cx=\"955.327\" cy=\"1240.93\" r=\"14\" fill=\"#fdb668\" fill-rule=\"evenodd\" fill-opacity=\"0.4\" stroke=\"#000000\" stroke-opacity=\"0.4\" stroke-width=\"0\"/>\n",
       "<circle clip-path=\"url(#clip0015)\" cx=\"1008.95\" cy=\"1233.16\" r=\"14\" fill=\"#fdb668\" fill-rule=\"evenodd\" fill-opacity=\"0.4\" stroke=\"#000000\" stroke-opacity=\"0.4\" stroke-width=\"0\"/>\n",
       "<circle clip-path=\"url(#clip0015)\" cx=\"968.732\" cy=\"1279.81\" r=\"14\" fill=\"#fdb668\" fill-rule=\"evenodd\" fill-opacity=\"0.4\" stroke=\"#000000\" stroke-opacity=\"0.4\" stroke-width=\"0\"/>\n",
       "<circle clip-path=\"url(#clip0015)\" cx=\"955.327\" cy=\"1279.81\" r=\"14\" fill=\"#fdb668\" fill-rule=\"evenodd\" fill-opacity=\"0.4\" stroke=\"#000000\" stroke-opacity=\"0.4\" stroke-width=\"0\"/>\n",
       "<circle clip-path=\"url(#clip0015)\" cx=\"968.732\" cy=\"1256.48\" r=\"14\" fill=\"#fdb668\" fill-rule=\"evenodd\" fill-opacity=\"0.4\" stroke=\"#000000\" stroke-opacity=\"0.4\" stroke-width=\"0\"/>\n",
       "<circle clip-path=\"url(#clip0015)\" cx=\"968.732\" cy=\"1233.16\" r=\"14\" fill=\"#fdb668\" fill-rule=\"evenodd\" fill-opacity=\"0.4\" stroke=\"#000000\" stroke-opacity=\"0.4\" stroke-width=\"0\"/>\n",
       "<circle clip-path=\"url(#clip0015)\" cx=\"968.732\" cy=\"1240.93\" r=\"14\" fill=\"#fdb668\" fill-rule=\"evenodd\" fill-opacity=\"0.4\" stroke=\"#000000\" stroke-opacity=\"0.4\" stroke-width=\"0\"/>\n",
       "<circle clip-path=\"url(#clip0015)\" cx=\"915.112\" cy=\"1272.03\" r=\"14\" fill=\"#fdb668\" fill-rule=\"evenodd\" fill-opacity=\"0.4\" stroke=\"#000000\" stroke-opacity=\"0.4\" stroke-width=\"0\"/>\n",
       "<circle clip-path=\"url(#clip0015)\" cx=\"982.137\" cy=\"1240.93\" r=\"14\" fill=\"#fdb668\" fill-rule=\"evenodd\" fill-opacity=\"0.4\" stroke=\"#000000\" stroke-opacity=\"0.4\" stroke-width=\"0\"/>\n",
       "<circle clip-path=\"url(#clip0015)\" cx=\"995.542\" cy=\"1225.38\" r=\"14\" fill=\"#fdb668\" fill-rule=\"evenodd\" fill-opacity=\"0.4\" stroke=\"#000000\" stroke-opacity=\"0.4\" stroke-width=\"0\"/>\n",
       "<circle clip-path=\"url(#clip0015)\" cx=\"955.327\" cy=\"1240.93\" r=\"14\" fill=\"#fdb668\" fill-rule=\"evenodd\" fill-opacity=\"0.4\" stroke=\"#000000\" stroke-opacity=\"0.4\" stroke-width=\"0\"/>\n",
       "<circle clip-path=\"url(#clip0015)\" cx=\"888.302\" cy=\"1272.03\" r=\"14\" fill=\"#fdb668\" fill-rule=\"evenodd\" fill-opacity=\"0.4\" stroke=\"#000000\" stroke-opacity=\"0.4\" stroke-width=\"0\"/>\n",
       "<circle clip-path=\"url(#clip0015)\" cx=\"955.327\" cy=\"1264.26\" r=\"14\" fill=\"#fdb668\" fill-rule=\"evenodd\" fill-opacity=\"0.4\" stroke=\"#000000\" stroke-opacity=\"0.4\" stroke-width=\"0\"/>\n",
       "<circle clip-path=\"url(#clip0015)\" cx=\"1008.95\" cy=\"1240.93\" r=\"14\" fill=\"#fdb668\" fill-rule=\"evenodd\" fill-opacity=\"0.4\" stroke=\"#000000\" stroke-opacity=\"0.4\" stroke-width=\"0\"/>\n",
       "<circle clip-path=\"url(#clip0015)\" cx=\"955.327\" cy=\"1279.81\" r=\"14\" fill=\"#fdb668\" fill-rule=\"evenodd\" fill-opacity=\"0.4\" stroke=\"#000000\" stroke-opacity=\"0.4\" stroke-width=\"0\"/>\n",
       "<polyline clip-path=\"url(#clip0015)\" style=\"stroke:#000000; stroke-width:4; stroke-opacity:1; fill:none\" points=\"\n",
       "  821.277,1273.88 1143,1393.35 \n",
       "  \"/>\n",
       "<path clip-path=\"url(#clip000)\" d=\"\n",
       "M1380.44 1423.18 L1772.05 1423.18 L1772.05 1199.79 L1380.44 1199.79  Z\n",
       "  \" fill=\"#ffffff\" fill-rule=\"evenodd\" fill-opacity=\"1\"/>\n",
       "<defs>\n",
       "  <clipPath id=\"clip0016\">\n",
       "    <rect x=\"1380\" y=\"1199\" width=\"393\" height=\"224\"/>\n",
       "  </clipPath>\n",
       "</defs>\n",
       "<polyline clip-path=\"url(#clip000)\" style=\"stroke:#000000; stroke-width:4; stroke-opacity:1; fill:none\" points=\"\n",
       "  1380.44,1423.18 1772.05,1423.18 \n",
       "  \"/>\n",
       "<polyline clip-path=\"url(#clip000)\" style=\"stroke:#000000; stroke-width:4; stroke-opacity:1; fill:none\" points=\"\n",
       "  1401.98,1423.18 1401.98,1420.5 \n",
       "  \"/>\n",
       "<polyline clip-path=\"url(#clip000)\" style=\"stroke:#000000; stroke-width:4; stroke-opacity:1; fill:none\" points=\"\n",
       "  1489.11,1423.18 1489.11,1420.5 \n",
       "  \"/>\n",
       "<polyline clip-path=\"url(#clip000)\" style=\"stroke:#000000; stroke-width:4; stroke-opacity:1; fill:none\" points=\"\n",
       "  1576.25,1423.18 1576.25,1420.5 \n",
       "  \"/>\n",
       "<polyline clip-path=\"url(#clip000)\" style=\"stroke:#000000; stroke-width:4; stroke-opacity:1; fill:none\" points=\"\n",
       "  1663.38,1423.18 1663.38,1420.5 \n",
       "  \"/>\n",
       "<polyline clip-path=\"url(#clip000)\" style=\"stroke:#000000; stroke-width:4; stroke-opacity:1; fill:none\" points=\"\n",
       "  1750.51,1423.18 1750.51,1420.5 \n",
       "  \"/>\n",
       "<path clip-path=\"url(#clip000)\" d=\"M 0 0 M1401.98 1452.37 Q1398.37 1452.37 1396.54 1455.94 Q1394.74 1459.48 1394.74 1466.61 Q1394.74 1473.71 1396.54 1477.28 Q1398.37 1480.82 1401.98 1480.82 Q1405.62 1480.82 1407.42 1477.28 Q1409.25 1473.71 1409.25 1466.61 Q1409.25 1459.48 1407.42 1455.94 Q1405.62 1452.37 1401.98 1452.37 M1401.98 1448.67 Q1407.79 1448.67 1410.85 1453.27 Q1413.93 1457.86 1413.93 1466.61 Q1413.93 1475.33 1410.85 1479.94 Q1407.79 1484.52 1401.98 1484.52 Q1396.17 1484.52 1393.09 1479.94 Q1390.04 1475.33 1390.04 1466.61 Q1390.04 1457.86 1393.09 1453.27 Q1396.17 1448.67 1401.98 1448.67 Z\" fill=\"#000000\" fill-rule=\"evenodd\" fill-opacity=\"1\" /><path clip-path=\"url(#clip000)\" d=\"M 0 0 M1483.77 1479.92 L1500.09 1479.92 L1500.09 1483.85 L1478.14 1483.85 L1478.14 1479.92 Q1480.8 1477.16 1485.39 1472.53 Q1489.99 1467.88 1491.17 1466.54 Q1493.42 1464.01 1494.3 1462.28 Q1495.2 1460.52 1495.2 1458.83 Q1495.2 1456.07 1493.26 1454.34 Q1491.34 1452.6 1488.23 1452.6 Q1486.04 1452.6 1483.58 1453.37 Q1481.15 1454.13 1478.37 1455.68 L1478.37 1450.96 Q1481.2 1449.82 1483.65 1449.25 Q1486.11 1448.67 1488.14 1448.67 Q1493.51 1448.67 1496.71 1451.35 Q1499.9 1454.04 1499.9 1458.53 Q1499.9 1460.66 1499.09 1462.58 Q1498.3 1464.48 1496.2 1467.07 Q1495.62 1467.74 1492.52 1470.96 Q1489.42 1474.15 1483.77 1479.92 Z\" fill=\"#000000\" fill-rule=\"evenodd\" fill-opacity=\"1\" /><path clip-path=\"url(#clip000)\" d=\"M 0 0 M1579.26 1453.37 L1567.45 1471.81 L1579.26 1471.81 L1579.26 1453.37 M1578.03 1449.29 L1583.91 1449.29 L1583.91 1471.81 L1588.84 1471.81 L1588.84 1475.7 L1583.91 1475.7 L1583.91 1483.85 L1579.26 1483.85 L1579.26 1475.7 L1563.65 1475.7 L1563.65 1471.19 L1578.03 1449.29 Z\" fill=\"#000000\" fill-rule=\"evenodd\" fill-opacity=\"1\" /><path clip-path=\"url(#clip000)\" d=\"M 0 0 M1663.78 1464.71 Q1660.64 1464.71 1658.78 1466.86 Q1656.96 1469.01 1656.96 1472.76 Q1656.96 1476.49 1658.78 1478.67 Q1660.64 1480.82 1663.78 1480.82 Q1666.93 1480.82 1668.76 1478.67 Q1670.61 1476.49 1670.61 1472.76 Q1670.61 1469.01 1668.76 1466.86 Q1666.93 1464.71 1663.78 1464.71 M1673.07 1450.06 L1673.07 1454.31 Q1671.31 1453.48 1669.5 1453.04 Q1667.72 1452.6 1665.96 1452.6 Q1661.33 1452.6 1658.88 1455.73 Q1656.45 1458.85 1656.1 1465.17 Q1657.47 1463.16 1659.53 1462.09 Q1661.59 1461 1664.06 1461 Q1669.27 1461 1672.28 1464.18 Q1675.31 1467.32 1675.31 1472.76 Q1675.31 1478.09 1672.16 1481.31 Q1669.02 1484.52 1663.78 1484.52 Q1657.79 1484.52 1654.62 1479.94 Q1651.45 1475.33 1651.45 1466.61 Q1651.45 1458.41 1655.34 1453.55 Q1659.22 1448.67 1665.78 1448.67 Q1667.53 1448.67 1669.32 1449.01 Q1671.12 1449.36 1673.07 1450.06 Z\" fill=\"#000000\" fill-rule=\"evenodd\" fill-opacity=\"1\" /><path clip-path=\"url(#clip000)\" d=\"M 0 0 M1750.51 1467.44 Q1747.18 1467.44 1745.26 1469.22 Q1743.36 1471 1743.36 1474.13 Q1743.36 1477.25 1745.26 1479.04 Q1747.18 1480.82 1750.51 1480.82 Q1753.85 1480.82 1755.77 1479.04 Q1757.69 1477.23 1757.69 1474.13 Q1757.69 1471 1755.77 1469.22 Q1753.87 1467.44 1750.51 1467.44 M1745.84 1465.45 Q1742.83 1464.71 1741.14 1462.65 Q1739.47 1460.59 1739.47 1457.63 Q1739.47 1453.48 1742.41 1451.07 Q1745.37 1448.67 1750.51 1448.67 Q1755.67 1448.67 1758.61 1451.07 Q1761.55 1453.48 1761.55 1457.63 Q1761.55 1460.59 1759.86 1462.65 Q1758.2 1464.71 1755.21 1465.45 Q1758.59 1466.24 1760.47 1468.53 Q1762.36 1470.82 1762.36 1474.13 Q1762.36 1479.15 1759.28 1481.84 Q1756.23 1484.52 1750.51 1484.52 Q1744.79 1484.52 1741.72 1481.84 Q1738.66 1479.15 1738.66 1474.13 Q1738.66 1470.82 1740.56 1468.53 Q1742.46 1466.24 1745.84 1465.45 M1744.12 1458.06 Q1744.12 1460.75 1745.79 1462.25 Q1747.48 1463.76 1750.51 1463.76 Q1753.52 1463.76 1755.21 1462.25 Q1756.92 1460.75 1756.92 1458.06 Q1756.92 1455.38 1755.21 1453.88 Q1753.52 1452.37 1750.51 1452.37 Q1747.48 1452.37 1745.79 1453.88 Q1744.12 1455.38 1744.12 1458.06 Z\" fill=\"#000000\" fill-rule=\"evenodd\" fill-opacity=\"1\" /><path clip-path=\"url(#clip000)\" d=\"M 0 0 M1395.87 1525.81 L1395.87 1543.66 L1403.96 1543.66 Q1408.45 1543.66 1410.9 1541.34 Q1413.35 1539.02 1413.35 1534.72 Q1413.35 1530.45 1410.9 1528.13 Q1408.45 1525.81 1403.96 1525.81 L1395.87 1525.81 M1389.45 1520.52 L1403.96 1520.52 Q1411.95 1520.52 1416.02 1524.15 Q1420.13 1527.75 1420.13 1534.72 Q1420.13 1541.75 1416.02 1545.35 Q1411.95 1548.95 1403.96 1548.95 L1395.87 1548.95 L1395.87 1568.04 L1389.45 1568.04 L1389.45 1520.52 Z\" fill=\"#000000\" fill-rule=\"evenodd\" fill-opacity=\"1\" /><path clip-path=\"url(#clip000)\" d=\"M 0 0 M1456.67 1548.76 L1456.67 1551.62 L1429.74 1551.62 Q1430.12 1557.67 1433.37 1560.85 Q1436.65 1564 1442.47 1564 Q1445.85 1564 1449 1563.17 Q1452.18 1562.35 1455.3 1560.69 L1455.3 1566.23 Q1452.15 1567.57 1448.84 1568.27 Q1445.53 1568.97 1442.12 1568.97 Q1433.59 1568.97 1428.59 1564 Q1423.63 1559.04 1423.63 1550.57 Q1423.63 1541.82 1428.34 1536.69 Q1433.08 1531.54 1441.1 1531.54 Q1448.3 1531.54 1452.47 1536.18 Q1456.67 1540.8 1456.67 1548.76 M1450.81 1547.04 Q1450.75 1542.23 1448.11 1539.37 Q1445.5 1536.5 1441.17 1536.5 Q1436.27 1536.5 1433.3 1539.27 Q1430.38 1542.04 1429.93 1547.07 L1450.81 1547.04 Z\" fill=\"#000000\" fill-rule=\"evenodd\" fill-opacity=\"1\" /><path clip-path=\"url(#clip000)\" d=\"M 0 0 M1472.07 1522.27 L1472.07 1532.4 L1484.14 1532.4 L1484.14 1536.95 L1472.07 1536.95 L1472.07 1556.3 Q1472.07 1560.66 1473.25 1561.9 Q1474.46 1563.14 1478.12 1563.14 L1484.14 1563.14 L1484.14 1568.04 L1478.12 1568.04 Q1471.34 1568.04 1468.76 1565.53 Q1466.18 1562.98 1466.18 1556.3 L1466.18 1536.95 L1461.89 1536.95 L1461.89 1532.4 L1466.18 1532.4 L1466.18 1522.27 L1472.07 1522.27 Z\" fill=\"#000000\" fill-rule=\"evenodd\" fill-opacity=\"1\" /><path clip-path=\"url(#clip000)\" d=\"M 0 0 M1508.04 1550.12 Q1500.94 1550.12 1498.2 1551.75 Q1495.47 1553.37 1495.47 1557.29 Q1495.47 1560.4 1497.5 1562.25 Q1499.57 1564.07 1503.1 1564.07 Q1507.97 1564.07 1510.9 1560.63 Q1513.86 1557.16 1513.86 1551.43 L1513.86 1550.12 L1508.04 1550.12 M1519.72 1547.71 L1519.72 1568.04 L1513.86 1568.04 L1513.86 1562.63 Q1511.86 1565.88 1508.87 1567.44 Q1505.87 1568.97 1501.55 1568.97 Q1496.07 1568.97 1492.82 1565.91 Q1489.61 1562.82 1489.61 1557.67 Q1489.61 1551.65 1493.62 1548.6 Q1497.66 1545.54 1505.65 1545.54 L1513.86 1545.54 L1513.86 1544.97 Q1513.86 1540.93 1511.19 1538.73 Q1508.55 1536.5 1503.74 1536.5 Q1500.69 1536.5 1497.79 1537.23 Q1494.89 1537.97 1492.22 1539.43 L1492.22 1534.02 Q1495.43 1532.78 1498.46 1532.17 Q1501.48 1531.54 1504.35 1531.54 Q1512.08 1531.54 1515.9 1535.55 Q1519.72 1539.56 1519.72 1547.71 Z\" fill=\"#000000\" fill-rule=\"evenodd\" fill-opacity=\"1\" /><path clip-path=\"url(#clip000)\" d=\"M 0 0 M1531.78 1518.52 L1537.64 1518.52 L1537.64 1568.04 L1531.78 1568.04 L1531.78 1518.52 Z\" fill=\"#000000\" fill-rule=\"evenodd\" fill-opacity=\"1\" /><path clip-path=\"url(#clip000)\" d=\"M 0 0 M1550.15 1520.52 L1556.58 1520.52 L1556.58 1562.63 L1579.72 1562.63 L1579.72 1568.04 L1550.15 1568.04 L1550.15 1520.52 Z\" fill=\"#000000\" fill-rule=\"evenodd\" fill-opacity=\"1\" /><path clip-path=\"url(#clip000)\" d=\"M 0 0 M1615.56 1548.76 L1615.56 1551.62 L1588.63 1551.62 Q1589.01 1557.67 1592.26 1560.85 Q1595.54 1564 1601.36 1564 Q1604.73 1564 1607.88 1563.17 Q1611.07 1562.35 1614.19 1560.69 L1614.19 1566.23 Q1611.04 1567.57 1607.73 1568.27 Q1604.42 1568.97 1601.01 1568.97 Q1592.48 1568.97 1587.48 1564 Q1582.52 1559.04 1582.52 1550.57 Q1582.52 1541.82 1587.23 1536.69 Q1591.97 1531.54 1599.99 1531.54 Q1607.18 1531.54 1611.35 1536.18 Q1615.56 1540.8 1615.56 1548.76 M1609.7 1547.04 Q1609.64 1542.23 1606.99 1539.37 Q1604.38 1536.5 1600.05 1536.5 Q1595.15 1536.5 1592.19 1539.27 Q1589.26 1542.04 1588.82 1547.07 L1609.7 1547.04 Z\" fill=\"#000000\" fill-rule=\"evenodd\" fill-opacity=\"1\" /><path clip-path=\"url(#clip000)\" d=\"M 0 0 M1654.8 1546.53 L1654.8 1568.04 L1648.94 1568.04 L1648.94 1546.72 Q1648.94 1541.66 1646.97 1539.14 Q1645 1536.63 1641.05 1536.63 Q1636.31 1536.63 1633.57 1539.65 Q1630.83 1542.68 1630.83 1547.9 L1630.83 1568.04 L1624.94 1568.04 L1624.94 1532.4 L1630.83 1532.4 L1630.83 1537.93 Q1632.93 1534.72 1635.77 1533.13 Q1638.63 1531.54 1642.35 1531.54 Q1648.5 1531.54 1651.65 1535.36 Q1654.8 1539.14 1654.8 1546.53 Z\" fill=\"#000000\" fill-rule=\"evenodd\" fill-opacity=\"1\" /><path clip-path=\"url(#clip000)\" d=\"M 0 0 M1689.94 1549.81 Q1689.94 1543.44 1687.3 1539.94 Q1684.69 1536.44 1679.94 1536.44 Q1675.23 1536.44 1672.59 1539.94 Q1669.98 1543.44 1669.98 1549.81 Q1669.98 1556.14 1672.59 1559.64 Q1675.23 1563.14 1679.94 1563.14 Q1684.69 1563.14 1687.3 1559.64 Q1689.94 1556.14 1689.94 1549.81 M1695.79 1563.62 Q1695.79 1572.72 1691.75 1577.15 Q1687.71 1581.6 1679.37 1581.6 Q1676.28 1581.6 1673.55 1581.13 Q1670.81 1580.68 1668.23 1579.72 L1668.23 1574.03 Q1670.81 1575.43 1673.32 1576.1 Q1675.84 1576.76 1678.45 1576.76 Q1684.21 1576.76 1687.07 1573.74 Q1689.94 1570.75 1689.94 1564.67 L1689.94 1561.77 Q1688.12 1564.92 1685.29 1566.48 Q1682.46 1568.04 1678.51 1568.04 Q1671.96 1568.04 1667.94 1563.05 Q1663.93 1558.05 1663.93 1549.81 Q1663.93 1541.53 1667.94 1536.53 Q1671.96 1531.54 1678.51 1531.54 Q1682.46 1531.54 1685.29 1533.1 Q1688.12 1534.66 1689.94 1537.81 L1689.94 1532.4 L1695.79 1532.4 L1695.79 1563.62 Z\" fill=\"#000000\" fill-rule=\"evenodd\" fill-opacity=\"1\" /><path clip-path=\"url(#clip000)\" d=\"M 0 0 M1713.65 1522.27 L1713.65 1532.4 L1725.71 1532.4 L1725.71 1536.95 L1713.65 1536.95 L1713.65 1556.3 Q1713.65 1560.66 1714.83 1561.9 Q1716.04 1563.14 1719.7 1563.14 L1725.71 1563.14 L1725.71 1568.04 L1719.7 1568.04 Q1712.92 1568.04 1710.34 1565.53 Q1707.76 1562.98 1707.76 1556.3 L1707.76 1536.95 L1703.47 1536.95 L1703.47 1532.4 L1707.76 1532.4 L1707.76 1522.27 L1713.65 1522.27 Z\" fill=\"#000000\" fill-rule=\"evenodd\" fill-opacity=\"1\" /><path clip-path=\"url(#clip000)\" d=\"M 0 0 M1763.05 1546.53 L1763.05 1568.04 L1757.19 1568.04 L1757.19 1546.72 Q1757.19 1541.66 1755.22 1539.14 Q1753.25 1536.63 1749.3 1536.63 Q1744.56 1536.63 1741.82 1539.65 Q1739.08 1542.68 1739.08 1547.9 L1739.08 1568.04 L1733.19 1568.04 L1733.19 1518.52 L1739.08 1518.52 L1739.08 1537.93 Q1741.18 1534.72 1744.02 1533.13 Q1746.88 1531.54 1750.6 1531.54 Q1756.75 1531.54 1759.9 1535.36 Q1763.05 1539.14 1763.05 1546.53 Z\" fill=\"#000000\" fill-rule=\"evenodd\" fill-opacity=\"1\" /><polyline clip-path=\"url(#clip000)\" style=\"stroke:#000000; stroke-width:4; stroke-opacity:1; fill:none\" points=\"\n",
       "  1380.44,1423.18 1380.44,1199.79 \n",
       "  \"/>\n",
       "<polyline clip-path=\"url(#clip000)\" style=\"stroke:#000000; stroke-width:4; stroke-opacity:1; fill:none\" points=\"\n",
       "  1380.44,1419.76 1385.14,1419.76 \n",
       "  \"/>\n",
       "<polyline clip-path=\"url(#clip000)\" style=\"stroke:#000000; stroke-width:4; stroke-opacity:1; fill:none\" points=\"\n",
       "  1380.44,1380.88 1385.14,1380.88 \n",
       "  \"/>\n",
       "<polyline clip-path=\"url(#clip000)\" style=\"stroke:#000000; stroke-width:4; stroke-opacity:1; fill:none\" points=\"\n",
       "  1380.44,1342.01 1385.14,1342.01 \n",
       "  \"/>\n",
       "<polyline clip-path=\"url(#clip000)\" style=\"stroke:#000000; stroke-width:4; stroke-opacity:1; fill:none\" points=\"\n",
       "  1380.44,1303.13 1385.14,1303.13 \n",
       "  \"/>\n",
       "<polyline clip-path=\"url(#clip000)\" style=\"stroke:#000000; stroke-width:4; stroke-opacity:1; fill:none\" points=\"\n",
       "  1380.44,1264.26 1385.14,1264.26 \n",
       "  \"/>\n",
       "<polyline clip-path=\"url(#clip000)\" style=\"stroke:#000000; stroke-width:4; stroke-opacity:1; fill:none\" points=\"\n",
       "  1380.44,1225.38 1385.14,1225.38 \n",
       "  \"/>\n",
       "<circle clip-path=\"url(#clip0016)\" cx=\"1462.97\" cy=\"1404.21\" r=\"14\" fill=\"#34419a\" fill-rule=\"evenodd\" fill-opacity=\"0.4\" stroke=\"#000000\" stroke-opacity=\"0.4\" stroke-width=\"0\"/>\n",
       "<circle clip-path=\"url(#clip0016)\" cx=\"1462.97\" cy=\"1404.21\" r=\"14\" fill=\"#34419a\" fill-rule=\"evenodd\" fill-opacity=\"0.4\" stroke=\"#000000\" stroke-opacity=\"0.4\" stroke-width=\"0\"/>\n",
       "<circle clip-path=\"url(#clip0016)\" cx=\"1458.62\" cy=\"1404.21\" r=\"14\" fill=\"#34419a\" fill-rule=\"evenodd\" fill-opacity=\"0.4\" stroke=\"#000000\" stroke-opacity=\"0.4\" stroke-width=\"0\"/>\n",
       "<circle clip-path=\"url(#clip0016)\" cx=\"1467.33\" cy=\"1404.21\" r=\"14\" fill=\"#34419a\" fill-rule=\"evenodd\" fill-opacity=\"0.4\" stroke=\"#000000\" stroke-opacity=\"0.4\" stroke-width=\"0\"/>\n",
       "<circle clip-path=\"url(#clip0016)\" cx=\"1462.97\" cy=\"1404.21\" r=\"14\" fill=\"#34419a\" fill-rule=\"evenodd\" fill-opacity=\"0.4\" stroke=\"#000000\" stroke-opacity=\"0.4\" stroke-width=\"0\"/>\n",
       "<circle clip-path=\"url(#clip0016)\" cx=\"1476.04\" cy=\"1388.66\" r=\"14\" fill=\"#34419a\" fill-rule=\"evenodd\" fill-opacity=\"0.4\" stroke=\"#000000\" stroke-opacity=\"0.4\" stroke-width=\"0\"/>\n",
       "<circle clip-path=\"url(#clip0016)\" cx=\"1462.97\" cy=\"1396.43\" r=\"14\" fill=\"#34419a\" fill-rule=\"evenodd\" fill-opacity=\"0.4\" stroke=\"#000000\" stroke-opacity=\"0.4\" stroke-width=\"0\"/>\n",
       "<circle clip-path=\"url(#clip0016)\" cx=\"1467.33\" cy=\"1404.21\" r=\"14\" fill=\"#34419a\" fill-rule=\"evenodd\" fill-opacity=\"0.4\" stroke=\"#000000\" stroke-opacity=\"0.4\" stroke-width=\"0\"/>\n",
       "<circle clip-path=\"url(#clip0016)\" cx=\"1462.97\" cy=\"1404.21\" r=\"14\" fill=\"#34419a\" fill-rule=\"evenodd\" fill-opacity=\"0.4\" stroke=\"#000000\" stroke-opacity=\"0.4\" stroke-width=\"0\"/>\n",
       "<circle clip-path=\"url(#clip0016)\" cx=\"1467.33\" cy=\"1411.99\" r=\"14\" fill=\"#34419a\" fill-rule=\"evenodd\" fill-opacity=\"0.4\" stroke=\"#000000\" stroke-opacity=\"0.4\" stroke-width=\"0\"/>\n",
       "<circle clip-path=\"url(#clip0016)\" cx=\"1467.33\" cy=\"1404.21\" r=\"14\" fill=\"#34419a\" fill-rule=\"evenodd\" fill-opacity=\"0.4\" stroke=\"#000000\" stroke-opacity=\"0.4\" stroke-width=\"0\"/>\n",
       "<circle clip-path=\"url(#clip0016)\" cx=\"1471.69\" cy=\"1404.21\" r=\"14\" fill=\"#34419a\" fill-rule=\"evenodd\" fill-opacity=\"0.4\" stroke=\"#000000\" stroke-opacity=\"0.4\" stroke-width=\"0\"/>\n",
       "<circle clip-path=\"url(#clip0016)\" cx=\"1462.97\" cy=\"1411.99\" r=\"14\" fill=\"#34419a\" fill-rule=\"evenodd\" fill-opacity=\"0.4\" stroke=\"#000000\" stroke-opacity=\"0.4\" stroke-width=\"0\"/>\n",
       "<circle clip-path=\"url(#clip0016)\" cx=\"1449.9\" cy=\"1411.99\" r=\"14\" fill=\"#34419a\" fill-rule=\"evenodd\" fill-opacity=\"0.4\" stroke=\"#000000\" stroke-opacity=\"0.4\" stroke-width=\"0\"/>\n",
       "<circle clip-path=\"url(#clip0016)\" cx=\"1454.26\" cy=\"1404.21\" r=\"14\" fill=\"#34419a\" fill-rule=\"evenodd\" fill-opacity=\"0.4\" stroke=\"#000000\" stroke-opacity=\"0.4\" stroke-width=\"0\"/>\n",
       "<circle clip-path=\"url(#clip0016)\" cx=\"1467.33\" cy=\"1388.66\" r=\"14\" fill=\"#34419a\" fill-rule=\"evenodd\" fill-opacity=\"0.4\" stroke=\"#000000\" stroke-opacity=\"0.4\" stroke-width=\"0\"/>\n",
       "<circle clip-path=\"url(#clip0016)\" cx=\"1458.62\" cy=\"1388.66\" r=\"14\" fill=\"#34419a\" fill-rule=\"evenodd\" fill-opacity=\"0.4\" stroke=\"#000000\" stroke-opacity=\"0.4\" stroke-width=\"0\"/>\n",
       "<circle clip-path=\"url(#clip0016)\" cx=\"1462.97\" cy=\"1396.43\" r=\"14\" fill=\"#34419a\" fill-rule=\"evenodd\" fill-opacity=\"0.4\" stroke=\"#000000\" stroke-opacity=\"0.4\" stroke-width=\"0\"/>\n",
       "<circle clip-path=\"url(#clip0016)\" cx=\"1476.04\" cy=\"1396.43\" r=\"14\" fill=\"#34419a\" fill-rule=\"evenodd\" fill-opacity=\"0.4\" stroke=\"#000000\" stroke-opacity=\"0.4\" stroke-width=\"0\"/>\n",
       "<circle clip-path=\"url(#clip0016)\" cx=\"1467.33\" cy=\"1396.43\" r=\"14\" fill=\"#34419a\" fill-rule=\"evenodd\" fill-opacity=\"0.4\" stroke=\"#000000\" stroke-opacity=\"0.4\" stroke-width=\"0\"/>\n",
       "<circle clip-path=\"url(#clip0016)\" cx=\"1476.04\" cy=\"1404.21\" r=\"14\" fill=\"#34419a\" fill-rule=\"evenodd\" fill-opacity=\"0.4\" stroke=\"#000000\" stroke-opacity=\"0.4\" stroke-width=\"0\"/>\n",
       "<circle clip-path=\"url(#clip0016)\" cx=\"1467.33\" cy=\"1388.66\" r=\"14\" fill=\"#34419a\" fill-rule=\"evenodd\" fill-opacity=\"0.4\" stroke=\"#000000\" stroke-opacity=\"0.4\" stroke-width=\"0\"/>\n",
       "<circle clip-path=\"url(#clip0016)\" cx=\"1445.55\" cy=\"1404.21\" r=\"14\" fill=\"#34419a\" fill-rule=\"evenodd\" fill-opacity=\"0.4\" stroke=\"#000000\" stroke-opacity=\"0.4\" stroke-width=\"0\"/>\n",
       "<circle clip-path=\"url(#clip0016)\" cx=\"1476.04\" cy=\"1380.88\" r=\"14\" fill=\"#34419a\" fill-rule=\"evenodd\" fill-opacity=\"0.4\" stroke=\"#000000\" stroke-opacity=\"0.4\" stroke-width=\"0\"/>\n",
       "<circle clip-path=\"url(#clip0016)\" cx=\"1484.76\" cy=\"1404.21\" r=\"14\" fill=\"#34419a\" fill-rule=\"evenodd\" fill-opacity=\"0.4\" stroke=\"#000000\" stroke-opacity=\"0.4\" stroke-width=\"0\"/>\n",
       "<circle clip-path=\"url(#clip0016)\" cx=\"1471.69\" cy=\"1404.21\" r=\"14\" fill=\"#34419a\" fill-rule=\"evenodd\" fill-opacity=\"0.4\" stroke=\"#000000\" stroke-opacity=\"0.4\" stroke-width=\"0\"/>\n",
       "<circle clip-path=\"url(#clip0016)\" cx=\"1471.69\" cy=\"1388.66\" r=\"14\" fill=\"#34419a\" fill-rule=\"evenodd\" fill-opacity=\"0.4\" stroke=\"#000000\" stroke-opacity=\"0.4\" stroke-width=\"0\"/>\n",
       "<circle clip-path=\"url(#clip0016)\" cx=\"1467.33\" cy=\"1404.21\" r=\"14\" fill=\"#34419a\" fill-rule=\"evenodd\" fill-opacity=\"0.4\" stroke=\"#000000\" stroke-opacity=\"0.4\" stroke-width=\"0\"/>\n",
       "<circle clip-path=\"url(#clip0016)\" cx=\"1462.97\" cy=\"1404.21\" r=\"14\" fill=\"#34419a\" fill-rule=\"evenodd\" fill-opacity=\"0.4\" stroke=\"#000000\" stroke-opacity=\"0.4\" stroke-width=\"0\"/>\n",
       "<circle clip-path=\"url(#clip0016)\" cx=\"1471.69\" cy=\"1404.21\" r=\"14\" fill=\"#34419a\" fill-rule=\"evenodd\" fill-opacity=\"0.4\" stroke=\"#000000\" stroke-opacity=\"0.4\" stroke-width=\"0\"/>\n",
       "<circle clip-path=\"url(#clip0016)\" cx=\"1471.69\" cy=\"1404.21\" r=\"14\" fill=\"#34419a\" fill-rule=\"evenodd\" fill-opacity=\"0.4\" stroke=\"#000000\" stroke-opacity=\"0.4\" stroke-width=\"0\"/>\n",
       "<circle clip-path=\"url(#clip0016)\" cx=\"1467.33\" cy=\"1388.66\" r=\"14\" fill=\"#34419a\" fill-rule=\"evenodd\" fill-opacity=\"0.4\" stroke=\"#000000\" stroke-opacity=\"0.4\" stroke-width=\"0\"/>\n",
       "<circle clip-path=\"url(#clip0016)\" cx=\"1467.33\" cy=\"1411.99\" r=\"14\" fill=\"#34419a\" fill-rule=\"evenodd\" fill-opacity=\"0.4\" stroke=\"#000000\" stroke-opacity=\"0.4\" stroke-width=\"0\"/>\n",
       "<circle clip-path=\"url(#clip0016)\" cx=\"1462.97\" cy=\"1404.21\" r=\"14\" fill=\"#34419a\" fill-rule=\"evenodd\" fill-opacity=\"0.4\" stroke=\"#000000\" stroke-opacity=\"0.4\" stroke-width=\"0\"/>\n",
       "<circle clip-path=\"url(#clip0016)\" cx=\"1467.33\" cy=\"1404.21\" r=\"14\" fill=\"#34419a\" fill-rule=\"evenodd\" fill-opacity=\"0.4\" stroke=\"#000000\" stroke-opacity=\"0.4\" stroke-width=\"0\"/>\n",
       "<circle clip-path=\"url(#clip0016)\" cx=\"1454.26\" cy=\"1404.21\" r=\"14\" fill=\"#34419a\" fill-rule=\"evenodd\" fill-opacity=\"0.4\" stroke=\"#000000\" stroke-opacity=\"0.4\" stroke-width=\"0\"/>\n",
       "<circle clip-path=\"url(#clip0016)\" cx=\"1458.62\" cy=\"1404.21\" r=\"14\" fill=\"#34419a\" fill-rule=\"evenodd\" fill-opacity=\"0.4\" stroke=\"#000000\" stroke-opacity=\"0.4\" stroke-width=\"0\"/>\n",
       "<circle clip-path=\"url(#clip0016)\" cx=\"1462.97\" cy=\"1411.99\" r=\"14\" fill=\"#34419a\" fill-rule=\"evenodd\" fill-opacity=\"0.4\" stroke=\"#000000\" stroke-opacity=\"0.4\" stroke-width=\"0\"/>\n",
       "<circle clip-path=\"url(#clip0016)\" cx=\"1458.62\" cy=\"1404.21\" r=\"14\" fill=\"#34419a\" fill-rule=\"evenodd\" fill-opacity=\"0.4\" stroke=\"#000000\" stroke-opacity=\"0.4\" stroke-width=\"0\"/>\n",
       "<circle clip-path=\"url(#clip0016)\" cx=\"1467.33\" cy=\"1404.21\" r=\"14\" fill=\"#34419a\" fill-rule=\"evenodd\" fill-opacity=\"0.4\" stroke=\"#000000\" stroke-opacity=\"0.4\" stroke-width=\"0\"/>\n",
       "<circle clip-path=\"url(#clip0016)\" cx=\"1458.62\" cy=\"1396.43\" r=\"14\" fill=\"#34419a\" fill-rule=\"evenodd\" fill-opacity=\"0.4\" stroke=\"#000000\" stroke-opacity=\"0.4\" stroke-width=\"0\"/>\n",
       "<circle clip-path=\"url(#clip0016)\" cx=\"1458.62\" cy=\"1396.43\" r=\"14\" fill=\"#34419a\" fill-rule=\"evenodd\" fill-opacity=\"0.4\" stroke=\"#000000\" stroke-opacity=\"0.4\" stroke-width=\"0\"/>\n",
       "<circle clip-path=\"url(#clip0016)\" cx=\"1458.62\" cy=\"1404.21\" r=\"14\" fill=\"#34419a\" fill-rule=\"evenodd\" fill-opacity=\"0.4\" stroke=\"#000000\" stroke-opacity=\"0.4\" stroke-width=\"0\"/>\n",
       "<circle clip-path=\"url(#clip0016)\" cx=\"1471.69\" cy=\"1373.11\" r=\"14\" fill=\"#34419a\" fill-rule=\"evenodd\" fill-opacity=\"0.4\" stroke=\"#000000\" stroke-opacity=\"0.4\" stroke-width=\"0\"/>\n",
       "<circle clip-path=\"url(#clip0016)\" cx=\"1484.76\" cy=\"1388.66\" r=\"14\" fill=\"#34419a\" fill-rule=\"evenodd\" fill-opacity=\"0.4\" stroke=\"#000000\" stroke-opacity=\"0.4\" stroke-width=\"0\"/>\n",
       "<circle clip-path=\"url(#clip0016)\" cx=\"1462.97\" cy=\"1396.43\" r=\"14\" fill=\"#34419a\" fill-rule=\"evenodd\" fill-opacity=\"0.4\" stroke=\"#000000\" stroke-opacity=\"0.4\" stroke-width=\"0\"/>\n",
       "<circle clip-path=\"url(#clip0016)\" cx=\"1471.69\" cy=\"1404.21\" r=\"14\" fill=\"#34419a\" fill-rule=\"evenodd\" fill-opacity=\"0.4\" stroke=\"#000000\" stroke-opacity=\"0.4\" stroke-width=\"0\"/>\n",
       "<circle clip-path=\"url(#clip0016)\" cx=\"1462.97\" cy=\"1404.21\" r=\"14\" fill=\"#34419a\" fill-rule=\"evenodd\" fill-opacity=\"0.4\" stroke=\"#000000\" stroke-opacity=\"0.4\" stroke-width=\"0\"/>\n",
       "<circle clip-path=\"url(#clip0016)\" cx=\"1467.33\" cy=\"1404.21\" r=\"14\" fill=\"#34419a\" fill-rule=\"evenodd\" fill-opacity=\"0.4\" stroke=\"#000000\" stroke-opacity=\"0.4\" stroke-width=\"0\"/>\n",
       "<circle clip-path=\"url(#clip0016)\" cx=\"1462.97\" cy=\"1404.21\" r=\"14\" fill=\"#34419a\" fill-rule=\"evenodd\" fill-opacity=\"0.4\" stroke=\"#000000\" stroke-opacity=\"0.4\" stroke-width=\"0\"/>\n",
       "<circle clip-path=\"url(#clip0016)\" cx=\"1606.74\" cy=\"1310.91\" r=\"14\" fill=\"#34419a\" fill-rule=\"evenodd\" fill-opacity=\"0.4\" stroke=\"#000000\" stroke-opacity=\"0.4\" stroke-width=\"0\"/>\n",
       "<circle clip-path=\"url(#clip0016)\" cx=\"1598.03\" cy=\"1303.13\" r=\"14\" fill=\"#34419a\" fill-rule=\"evenodd\" fill-opacity=\"0.4\" stroke=\"#000000\" stroke-opacity=\"0.4\" stroke-width=\"0\"/>\n",
       "<circle clip-path=\"url(#clip0016)\" cx=\"1615.46\" cy=\"1303.13\" r=\"14\" fill=\"#34419a\" fill-rule=\"evenodd\" fill-opacity=\"0.4\" stroke=\"#000000\" stroke-opacity=\"0.4\" stroke-width=\"0\"/>\n",
       "<circle clip-path=\"url(#clip0016)\" cx=\"1576.25\" cy=\"1318.68\" r=\"14\" fill=\"#34419a\" fill-rule=\"evenodd\" fill-opacity=\"0.4\" stroke=\"#000000\" stroke-opacity=\"0.4\" stroke-width=\"0\"/>\n",
       "<circle clip-path=\"url(#clip0016)\" cx=\"1602.39\" cy=\"1303.13\" r=\"14\" fill=\"#34419a\" fill-rule=\"evenodd\" fill-opacity=\"0.4\" stroke=\"#000000\" stroke-opacity=\"0.4\" stroke-width=\"0\"/>\n",
       "<circle clip-path=\"url(#clip0016)\" cx=\"1598.03\" cy=\"1318.68\" r=\"14\" fill=\"#34419a\" fill-rule=\"evenodd\" fill-opacity=\"0.4\" stroke=\"#000000\" stroke-opacity=\"0.4\" stroke-width=\"0\"/>\n",
       "<circle clip-path=\"url(#clip0016)\" cx=\"1606.74\" cy=\"1295.36\" r=\"14\" fill=\"#34419a\" fill-rule=\"evenodd\" fill-opacity=\"0.4\" stroke=\"#000000\" stroke-opacity=\"0.4\" stroke-width=\"0\"/>\n",
       "<circle clip-path=\"url(#clip0016)\" cx=\"1545.75\" cy=\"1342.01\" r=\"14\" fill=\"#34419a\" fill-rule=\"evenodd\" fill-opacity=\"0.4\" stroke=\"#000000\" stroke-opacity=\"0.4\" stroke-width=\"0\"/>\n",
       "<circle clip-path=\"url(#clip0016)\" cx=\"1602.39\" cy=\"1318.68\" r=\"14\" fill=\"#34419a\" fill-rule=\"evenodd\" fill-opacity=\"0.4\" stroke=\"#000000\" stroke-opacity=\"0.4\" stroke-width=\"0\"/>\n",
       "<circle clip-path=\"url(#clip0016)\" cx=\"1571.89\" cy=\"1310.91\" r=\"14\" fill=\"#34419a\" fill-rule=\"evenodd\" fill-opacity=\"0.4\" stroke=\"#000000\" stroke-opacity=\"0.4\" stroke-width=\"0\"/>\n",
       "<circle clip-path=\"url(#clip0016)\" cx=\"1554.46\" cy=\"1342.01\" r=\"14\" fill=\"#34419a\" fill-rule=\"evenodd\" fill-opacity=\"0.4\" stroke=\"#000000\" stroke-opacity=\"0.4\" stroke-width=\"0\"/>\n",
       "<circle clip-path=\"url(#clip0016)\" cx=\"1584.96\" cy=\"1303.13\" r=\"14\" fill=\"#34419a\" fill-rule=\"evenodd\" fill-opacity=\"0.4\" stroke=\"#000000\" stroke-opacity=\"0.4\" stroke-width=\"0\"/>\n",
       "<circle clip-path=\"url(#clip0016)\" cx=\"1576.25\" cy=\"1342.01\" r=\"14\" fill=\"#34419a\" fill-rule=\"evenodd\" fill-opacity=\"0.4\" stroke=\"#000000\" stroke-opacity=\"0.4\" stroke-width=\"0\"/>\n",
       "<circle clip-path=\"url(#clip0016)\" cx=\"1606.74\" cy=\"1310.91\" r=\"14\" fill=\"#34419a\" fill-rule=\"evenodd\" fill-opacity=\"0.4\" stroke=\"#000000\" stroke-opacity=\"0.4\" stroke-width=\"0\"/>\n",
       "<circle clip-path=\"url(#clip0016)\" cx=\"1558.82\" cy=\"1318.68\" r=\"14\" fill=\"#34419a\" fill-rule=\"evenodd\" fill-opacity=\"0.4\" stroke=\"#000000\" stroke-opacity=\"0.4\" stroke-width=\"0\"/>\n",
       "<circle clip-path=\"url(#clip0016)\" cx=\"1593.67\" cy=\"1310.91\" r=\"14\" fill=\"#34419a\" fill-rule=\"evenodd\" fill-opacity=\"0.4\" stroke=\"#000000\" stroke-opacity=\"0.4\" stroke-width=\"0\"/>\n",
       "<circle clip-path=\"url(#clip0016)\" cx=\"1598.03\" cy=\"1303.13\" r=\"14\" fill=\"#34419a\" fill-rule=\"evenodd\" fill-opacity=\"0.4\" stroke=\"#000000\" stroke-opacity=\"0.4\" stroke-width=\"0\"/>\n",
       "<circle clip-path=\"url(#clip0016)\" cx=\"1580.6\" cy=\"1342.01\" r=\"14\" fill=\"#34419a\" fill-rule=\"evenodd\" fill-opacity=\"0.4\" stroke=\"#000000\" stroke-opacity=\"0.4\" stroke-width=\"0\"/>\n",
       "<circle clip-path=\"url(#clip0016)\" cx=\"1598.03\" cy=\"1303.13\" r=\"14\" fill=\"#34419a\" fill-rule=\"evenodd\" fill-opacity=\"0.4\" stroke=\"#000000\" stroke-opacity=\"0.4\" stroke-width=\"0\"/>\n",
       "<circle clip-path=\"url(#clip0016)\" cx=\"1571.89\" cy=\"1334.23\" r=\"14\" fill=\"#34419a\" fill-rule=\"evenodd\" fill-opacity=\"0.4\" stroke=\"#000000\" stroke-opacity=\"0.4\" stroke-width=\"0\"/>\n",
       "<circle clip-path=\"url(#clip0016)\" cx=\"1611.1\" cy=\"1279.81\" r=\"14\" fill=\"#34419a\" fill-rule=\"evenodd\" fill-opacity=\"0.4\" stroke=\"#000000\" stroke-opacity=\"0.4\" stroke-width=\"0\"/>\n",
       "<circle clip-path=\"url(#clip0016)\" cx=\"1576.25\" cy=\"1318.68\" r=\"14\" fill=\"#34419a\" fill-rule=\"evenodd\" fill-opacity=\"0.4\" stroke=\"#000000\" stroke-opacity=\"0.4\" stroke-width=\"0\"/>\n",
       "<circle clip-path=\"url(#clip0016)\" cx=\"1615.46\" cy=\"1303.13\" r=\"14\" fill=\"#34419a\" fill-rule=\"evenodd\" fill-opacity=\"0.4\" stroke=\"#000000\" stroke-opacity=\"0.4\" stroke-width=\"0\"/>\n",
       "<circle clip-path=\"url(#clip0016)\" cx=\"1606.74\" cy=\"1326.46\" r=\"14\" fill=\"#34419a\" fill-rule=\"evenodd\" fill-opacity=\"0.4\" stroke=\"#000000\" stroke-opacity=\"0.4\" stroke-width=\"0\"/>\n",
       "<circle clip-path=\"url(#clip0016)\" cx=\"1589.32\" cy=\"1318.68\" r=\"14\" fill=\"#34419a\" fill-rule=\"evenodd\" fill-opacity=\"0.4\" stroke=\"#000000\" stroke-opacity=\"0.4\" stroke-width=\"0\"/>\n",
       "<circle clip-path=\"url(#clip0016)\" cx=\"1593.67\" cy=\"1310.91\" r=\"14\" fill=\"#34419a\" fill-rule=\"evenodd\" fill-opacity=\"0.4\" stroke=\"#000000\" stroke-opacity=\"0.4\" stroke-width=\"0\"/>\n",
       "<circle clip-path=\"url(#clip0016)\" cx=\"1611.1\" cy=\"1310.91\" r=\"14\" fill=\"#34419a\" fill-rule=\"evenodd\" fill-opacity=\"0.4\" stroke=\"#000000\" stroke-opacity=\"0.4\" stroke-width=\"0\"/>\n",
       "<circle clip-path=\"url(#clip0016)\" cx=\"1619.81\" cy=\"1287.58\" r=\"14\" fill=\"#34419a\" fill-rule=\"evenodd\" fill-opacity=\"0.4\" stroke=\"#000000\" stroke-opacity=\"0.4\" stroke-width=\"0\"/>\n",
       "<circle clip-path=\"url(#clip0016)\" cx=\"1598.03\" cy=\"1303.13\" r=\"14\" fill=\"#34419a\" fill-rule=\"evenodd\" fill-opacity=\"0.4\" stroke=\"#000000\" stroke-opacity=\"0.4\" stroke-width=\"0\"/>\n",
       "<circle clip-path=\"url(#clip0016)\" cx=\"1554.46\" cy=\"1342.01\" r=\"14\" fill=\"#34419a\" fill-rule=\"evenodd\" fill-opacity=\"0.4\" stroke=\"#000000\" stroke-opacity=\"0.4\" stroke-width=\"0\"/>\n",
       "<circle clip-path=\"url(#clip0016)\" cx=\"1567.53\" cy=\"1334.23\" r=\"14\" fill=\"#34419a\" fill-rule=\"evenodd\" fill-opacity=\"0.4\" stroke=\"#000000\" stroke-opacity=\"0.4\" stroke-width=\"0\"/>\n",
       "<circle clip-path=\"url(#clip0016)\" cx=\"1563.18\" cy=\"1342.01\" r=\"14\" fill=\"#34419a\" fill-rule=\"evenodd\" fill-opacity=\"0.4\" stroke=\"#000000\" stroke-opacity=\"0.4\" stroke-width=\"0\"/>\n",
       "<circle clip-path=\"url(#clip0016)\" cx=\"1571.89\" cy=\"1326.46\" r=\"14\" fill=\"#34419a\" fill-rule=\"evenodd\" fill-opacity=\"0.4\" stroke=\"#000000\" stroke-opacity=\"0.4\" stroke-width=\"0\"/>\n",
       "<circle clip-path=\"url(#clip0016)\" cx=\"1624.17\" cy=\"1295.36\" r=\"14\" fill=\"#34419a\" fill-rule=\"evenodd\" fill-opacity=\"0.4\" stroke=\"#000000\" stroke-opacity=\"0.4\" stroke-width=\"0\"/>\n",
       "<circle clip-path=\"url(#clip0016)\" cx=\"1598.03\" cy=\"1303.13\" r=\"14\" fill=\"#34419a\" fill-rule=\"evenodd\" fill-opacity=\"0.4\" stroke=\"#000000\" stroke-opacity=\"0.4\" stroke-width=\"0\"/>\n",
       "<circle clip-path=\"url(#clip0016)\" cx=\"1598.03\" cy=\"1295.36\" r=\"14\" fill=\"#34419a\" fill-rule=\"evenodd\" fill-opacity=\"0.4\" stroke=\"#000000\" stroke-opacity=\"0.4\" stroke-width=\"0\"/>\n",
       "<circle clip-path=\"url(#clip0016)\" cx=\"1606.74\" cy=\"1303.13\" r=\"14\" fill=\"#34419a\" fill-rule=\"evenodd\" fill-opacity=\"0.4\" stroke=\"#000000\" stroke-opacity=\"0.4\" stroke-width=\"0\"/>\n",
       "<circle clip-path=\"url(#clip0016)\" cx=\"1593.67\" cy=\"1318.68\" r=\"14\" fill=\"#34419a\" fill-rule=\"evenodd\" fill-opacity=\"0.4\" stroke=\"#000000\" stroke-opacity=\"0.4\" stroke-width=\"0\"/>\n",
       "<circle clip-path=\"url(#clip0016)\" cx=\"1580.6\" cy=\"1318.68\" r=\"14\" fill=\"#34419a\" fill-rule=\"evenodd\" fill-opacity=\"0.4\" stroke=\"#000000\" stroke-opacity=\"0.4\" stroke-width=\"0\"/>\n",
       "<circle clip-path=\"url(#clip0016)\" cx=\"1576.25\" cy=\"1318.68\" r=\"14\" fill=\"#34419a\" fill-rule=\"evenodd\" fill-opacity=\"0.4\" stroke=\"#000000\" stroke-opacity=\"0.4\" stroke-width=\"0\"/>\n",
       "<circle clip-path=\"url(#clip0016)\" cx=\"1593.67\" cy=\"1326.46\" r=\"14\" fill=\"#34419a\" fill-rule=\"evenodd\" fill-opacity=\"0.4\" stroke=\"#000000\" stroke-opacity=\"0.4\" stroke-width=\"0\"/>\n",
       "<circle clip-path=\"url(#clip0016)\" cx=\"1602.39\" cy=\"1310.91\" r=\"14\" fill=\"#34419a\" fill-rule=\"evenodd\" fill-opacity=\"0.4\" stroke=\"#000000\" stroke-opacity=\"0.4\" stroke-width=\"0\"/>\n",
       "<circle clip-path=\"url(#clip0016)\" cx=\"1576.25\" cy=\"1326.46\" r=\"14\" fill=\"#34419a\" fill-rule=\"evenodd\" fill-opacity=\"0.4\" stroke=\"#000000\" stroke-opacity=\"0.4\" stroke-width=\"0\"/>\n",
       "<circle clip-path=\"url(#clip0016)\" cx=\"1545.75\" cy=\"1342.01\" r=\"14\" fill=\"#34419a\" fill-rule=\"evenodd\" fill-opacity=\"0.4\" stroke=\"#000000\" stroke-opacity=\"0.4\" stroke-width=\"0\"/>\n",
       "<circle clip-path=\"url(#clip0016)\" cx=\"1584.96\" cy=\"1318.68\" r=\"14\" fill=\"#34419a\" fill-rule=\"evenodd\" fill-opacity=\"0.4\" stroke=\"#000000\" stroke-opacity=\"0.4\" stroke-width=\"0\"/>\n",
       "<circle clip-path=\"url(#clip0016)\" cx=\"1584.96\" cy=\"1326.46\" r=\"14\" fill=\"#34419a\" fill-rule=\"evenodd\" fill-opacity=\"0.4\" stroke=\"#000000\" stroke-opacity=\"0.4\" stroke-width=\"0\"/>\n",
       "<circle clip-path=\"url(#clip0016)\" cx=\"1584.96\" cy=\"1318.68\" r=\"14\" fill=\"#34419a\" fill-rule=\"evenodd\" fill-opacity=\"0.4\" stroke=\"#000000\" stroke-opacity=\"0.4\" stroke-width=\"0\"/>\n",
       "<circle clip-path=\"url(#clip0016)\" cx=\"1589.32\" cy=\"1318.68\" r=\"14\" fill=\"#34419a\" fill-rule=\"evenodd\" fill-opacity=\"0.4\" stroke=\"#000000\" stroke-opacity=\"0.4\" stroke-width=\"0\"/>\n",
       "<circle clip-path=\"url(#clip0016)\" cx=\"1532.68\" cy=\"1334.23\" r=\"14\" fill=\"#34419a\" fill-rule=\"evenodd\" fill-opacity=\"0.4\" stroke=\"#000000\" stroke-opacity=\"0.4\" stroke-width=\"0\"/>\n",
       "<circle clip-path=\"url(#clip0016)\" cx=\"1580.6\" cy=\"1318.68\" r=\"14\" fill=\"#34419a\" fill-rule=\"evenodd\" fill-opacity=\"0.4\" stroke=\"#000000\" stroke-opacity=\"0.4\" stroke-width=\"0\"/>\n",
       "<circle clip-path=\"url(#clip0016)\" cx=\"1663.38\" cy=\"1225.38\" r=\"14\" fill=\"#34419a\" fill-rule=\"evenodd\" fill-opacity=\"0.4\" stroke=\"#000000\" stroke-opacity=\"0.4\" stroke-width=\"0\"/>\n",
       "<circle clip-path=\"url(#clip0016)\" cx=\"1624.17\" cy=\"1272.03\" r=\"14\" fill=\"#34419a\" fill-rule=\"evenodd\" fill-opacity=\"0.4\" stroke=\"#000000\" stroke-opacity=\"0.4\" stroke-width=\"0\"/>\n",
       "<circle clip-path=\"url(#clip0016)\" cx=\"1659.02\" cy=\"1256.48\" r=\"14\" fill=\"#34419a\" fill-rule=\"evenodd\" fill-opacity=\"0.4\" stroke=\"#000000\" stroke-opacity=\"0.4\" stroke-width=\"0\"/>\n",
       "<circle clip-path=\"url(#clip0016)\" cx=\"1645.95\" cy=\"1279.81\" r=\"14\" fill=\"#34419a\" fill-rule=\"evenodd\" fill-opacity=\"0.4\" stroke=\"#000000\" stroke-opacity=\"0.4\" stroke-width=\"0\"/>\n",
       "<circle clip-path=\"url(#clip0016)\" cx=\"1654.67\" cy=\"1248.71\" r=\"14\" fill=\"#34419a\" fill-rule=\"evenodd\" fill-opacity=\"0.4\" stroke=\"#000000\" stroke-opacity=\"0.4\" stroke-width=\"0\"/>\n",
       "<circle clip-path=\"url(#clip0016)\" cx=\"1689.52\" cy=\"1256.48\" r=\"14\" fill=\"#34419a\" fill-rule=\"evenodd\" fill-opacity=\"0.4\" stroke=\"#000000\" stroke-opacity=\"0.4\" stroke-width=\"0\"/>\n",
       "<circle clip-path=\"url(#clip0016)\" cx=\"1598.03\" cy=\"1287.58\" r=\"14\" fill=\"#34419a\" fill-rule=\"evenodd\" fill-opacity=\"0.4\" stroke=\"#000000\" stroke-opacity=\"0.4\" stroke-width=\"0\"/>\n",
       "<circle clip-path=\"url(#clip0016)\" cx=\"1676.45\" cy=\"1279.81\" r=\"14\" fill=\"#34419a\" fill-rule=\"evenodd\" fill-opacity=\"0.4\" stroke=\"#000000\" stroke-opacity=\"0.4\" stroke-width=\"0\"/>\n",
       "<circle clip-path=\"url(#clip0016)\" cx=\"1654.67\" cy=\"1279.81\" r=\"14\" fill=\"#34419a\" fill-rule=\"evenodd\" fill-opacity=\"0.4\" stroke=\"#000000\" stroke-opacity=\"0.4\" stroke-width=\"0\"/>\n",
       "<circle clip-path=\"url(#clip0016)\" cx=\"1667.74\" cy=\"1225.38\" r=\"14\" fill=\"#34419a\" fill-rule=\"evenodd\" fill-opacity=\"0.4\" stroke=\"#000000\" stroke-opacity=\"0.4\" stroke-width=\"0\"/>\n",
       "<circle clip-path=\"url(#clip0016)\" cx=\"1624.17\" cy=\"1264.26\" r=\"14\" fill=\"#34419a\" fill-rule=\"evenodd\" fill-opacity=\"0.4\" stroke=\"#000000\" stroke-opacity=\"0.4\" stroke-width=\"0\"/>\n",
       "<circle clip-path=\"url(#clip0016)\" cx=\"1632.88\" cy=\"1272.03\" r=\"14\" fill=\"#34419a\" fill-rule=\"evenodd\" fill-opacity=\"0.4\" stroke=\"#000000\" stroke-opacity=\"0.4\" stroke-width=\"0\"/>\n",
       "<circle clip-path=\"url(#clip0016)\" cx=\"1641.6\" cy=\"1256.48\" r=\"14\" fill=\"#34419a\" fill-rule=\"evenodd\" fill-opacity=\"0.4\" stroke=\"#000000\" stroke-opacity=\"0.4\" stroke-width=\"0\"/>\n",
       "<circle clip-path=\"url(#clip0016)\" cx=\"1619.81\" cy=\"1264.26\" r=\"14\" fill=\"#34419a\" fill-rule=\"evenodd\" fill-opacity=\"0.4\" stroke=\"#000000\" stroke-opacity=\"0.4\" stroke-width=\"0\"/>\n",
       "<circle clip-path=\"url(#clip0016)\" cx=\"1624.17\" cy=\"1233.16\" r=\"14\" fill=\"#34419a\" fill-rule=\"evenodd\" fill-opacity=\"0.4\" stroke=\"#000000\" stroke-opacity=\"0.4\" stroke-width=\"0\"/>\n",
       "<circle clip-path=\"url(#clip0016)\" cx=\"1632.88\" cy=\"1240.93\" r=\"14\" fill=\"#34419a\" fill-rule=\"evenodd\" fill-opacity=\"0.4\" stroke=\"#000000\" stroke-opacity=\"0.4\" stroke-width=\"0\"/>\n",
       "<circle clip-path=\"url(#clip0016)\" cx=\"1641.6\" cy=\"1279.81\" r=\"14\" fill=\"#34419a\" fill-rule=\"evenodd\" fill-opacity=\"0.4\" stroke=\"#000000\" stroke-opacity=\"0.4\" stroke-width=\"0\"/>\n",
       "<circle clip-path=\"url(#clip0016)\" cx=\"1693.88\" cy=\"1248.71\" r=\"14\" fill=\"#34419a\" fill-rule=\"evenodd\" fill-opacity=\"0.4\" stroke=\"#000000\" stroke-opacity=\"0.4\" stroke-width=\"0\"/>\n",
       "<circle clip-path=\"url(#clip0016)\" cx=\"1702.59\" cy=\"1240.93\" r=\"14\" fill=\"#34419a\" fill-rule=\"evenodd\" fill-opacity=\"0.4\" stroke=\"#000000\" stroke-opacity=\"0.4\" stroke-width=\"0\"/>\n",
       "<circle clip-path=\"url(#clip0016)\" cx=\"1619.81\" cy=\"1303.13\" r=\"14\" fill=\"#34419a\" fill-rule=\"evenodd\" fill-opacity=\"0.4\" stroke=\"#000000\" stroke-opacity=\"0.4\" stroke-width=\"0\"/>\n",
       "<circle clip-path=\"url(#clip0016)\" cx=\"1650.31\" cy=\"1240.93\" r=\"14\" fill=\"#34419a\" fill-rule=\"evenodd\" fill-opacity=\"0.4\" stroke=\"#000000\" stroke-opacity=\"0.4\" stroke-width=\"0\"/>\n",
       "<circle clip-path=\"url(#clip0016)\" cx=\"1615.46\" cy=\"1264.26\" r=\"14\" fill=\"#34419a\" fill-rule=\"evenodd\" fill-opacity=\"0.4\" stroke=\"#000000\" stroke-opacity=\"0.4\" stroke-width=\"0\"/>\n",
       "<circle clip-path=\"url(#clip0016)\" cx=\"1693.88\" cy=\"1264.26\" r=\"14\" fill=\"#34419a\" fill-rule=\"evenodd\" fill-opacity=\"0.4\" stroke=\"#000000\" stroke-opacity=\"0.4\" stroke-width=\"0\"/>\n",
       "<circle clip-path=\"url(#clip0016)\" cx=\"1615.46\" cy=\"1279.81\" r=\"14\" fill=\"#34419a\" fill-rule=\"evenodd\" fill-opacity=\"0.4\" stroke=\"#000000\" stroke-opacity=\"0.4\" stroke-width=\"0\"/>\n",
       "<circle clip-path=\"url(#clip0016)\" cx=\"1650.31\" cy=\"1256.48\" r=\"14\" fill=\"#34419a\" fill-rule=\"evenodd\" fill-opacity=\"0.4\" stroke=\"#000000\" stroke-opacity=\"0.4\" stroke-width=\"0\"/>\n",
       "<circle clip-path=\"url(#clip0016)\" cx=\"1663.38\" cy=\"1279.81\" r=\"14\" fill=\"#34419a\" fill-rule=\"evenodd\" fill-opacity=\"0.4\" stroke=\"#000000\" stroke-opacity=\"0.4\" stroke-width=\"0\"/>\n",
       "<circle clip-path=\"url(#clip0016)\" cx=\"1611.1\" cy=\"1279.81\" r=\"14\" fill=\"#34419a\" fill-rule=\"evenodd\" fill-opacity=\"0.4\" stroke=\"#000000\" stroke-opacity=\"0.4\" stroke-width=\"0\"/>\n",
       "<circle clip-path=\"url(#clip0016)\" cx=\"1615.46\" cy=\"1279.81\" r=\"14\" fill=\"#34419a\" fill-rule=\"evenodd\" fill-opacity=\"0.4\" stroke=\"#000000\" stroke-opacity=\"0.4\" stroke-width=\"0\"/>\n",
       "<circle clip-path=\"url(#clip0016)\" cx=\"1645.95\" cy=\"1256.48\" r=\"14\" fill=\"#34419a\" fill-rule=\"evenodd\" fill-opacity=\"0.4\" stroke=\"#000000\" stroke-opacity=\"0.4\" stroke-width=\"0\"/>\n",
       "<circle clip-path=\"url(#clip0016)\" cx=\"1654.67\" cy=\"1295.36\" r=\"14\" fill=\"#34419a\" fill-rule=\"evenodd\" fill-opacity=\"0.4\" stroke=\"#000000\" stroke-opacity=\"0.4\" stroke-width=\"0\"/>\n",
       "<circle clip-path=\"url(#clip0016)\" cx=\"1667.74\" cy=\"1272.03\" r=\"14\" fill=\"#34419a\" fill-rule=\"evenodd\" fill-opacity=\"0.4\" stroke=\"#000000\" stroke-opacity=\"0.4\" stroke-width=\"0\"/>\n",
       "<circle clip-path=\"url(#clip0016)\" cx=\"1680.81\" cy=\"1264.26\" r=\"14\" fill=\"#34419a\" fill-rule=\"evenodd\" fill-opacity=\"0.4\" stroke=\"#000000\" stroke-opacity=\"0.4\" stroke-width=\"0\"/>\n",
       "<circle clip-path=\"url(#clip0016)\" cx=\"1645.95\" cy=\"1248.71\" r=\"14\" fill=\"#34419a\" fill-rule=\"evenodd\" fill-opacity=\"0.4\" stroke=\"#000000\" stroke-opacity=\"0.4\" stroke-width=\"0\"/>\n",
       "<circle clip-path=\"url(#clip0016)\" cx=\"1624.17\" cy=\"1303.13\" r=\"14\" fill=\"#34419a\" fill-rule=\"evenodd\" fill-opacity=\"0.4\" stroke=\"#000000\" stroke-opacity=\"0.4\" stroke-width=\"0\"/>\n",
       "<circle clip-path=\"url(#clip0016)\" cx=\"1645.95\" cy=\"1310.91\" r=\"14\" fill=\"#34419a\" fill-rule=\"evenodd\" fill-opacity=\"0.4\" stroke=\"#000000\" stroke-opacity=\"0.4\" stroke-width=\"0\"/>\n",
       "<circle clip-path=\"url(#clip0016)\" cx=\"1667.74\" cy=\"1240.93\" r=\"14\" fill=\"#34419a\" fill-rule=\"evenodd\" fill-opacity=\"0.4\" stroke=\"#000000\" stroke-opacity=\"0.4\" stroke-width=\"0\"/>\n",
       "<circle clip-path=\"url(#clip0016)\" cx=\"1645.95\" cy=\"1233.16\" r=\"14\" fill=\"#34419a\" fill-rule=\"evenodd\" fill-opacity=\"0.4\" stroke=\"#000000\" stroke-opacity=\"0.4\" stroke-width=\"0\"/>\n",
       "<circle clip-path=\"url(#clip0016)\" cx=\"1641.6\" cy=\"1279.81\" r=\"14\" fill=\"#34419a\" fill-rule=\"evenodd\" fill-opacity=\"0.4\" stroke=\"#000000\" stroke-opacity=\"0.4\" stroke-width=\"0\"/>\n",
       "<circle clip-path=\"url(#clip0016)\" cx=\"1611.1\" cy=\"1279.81\" r=\"14\" fill=\"#34419a\" fill-rule=\"evenodd\" fill-opacity=\"0.4\" stroke=\"#000000\" stroke-opacity=\"0.4\" stroke-width=\"0\"/>\n",
       "<circle clip-path=\"url(#clip0016)\" cx=\"1637.24\" cy=\"1256.48\" r=\"14\" fill=\"#34419a\" fill-rule=\"evenodd\" fill-opacity=\"0.4\" stroke=\"#000000\" stroke-opacity=\"0.4\" stroke-width=\"0\"/>\n",
       "<circle clip-path=\"url(#clip0016)\" cx=\"1645.95\" cy=\"1233.16\" r=\"14\" fill=\"#34419a\" fill-rule=\"evenodd\" fill-opacity=\"0.4\" stroke=\"#000000\" stroke-opacity=\"0.4\" stroke-width=\"0\"/>\n",
       "<circle clip-path=\"url(#clip0016)\" cx=\"1624.17\" cy=\"1240.93\" r=\"14\" fill=\"#34419a\" fill-rule=\"evenodd\" fill-opacity=\"0.4\" stroke=\"#000000\" stroke-opacity=\"0.4\" stroke-width=\"0\"/>\n",
       "<circle clip-path=\"url(#clip0016)\" cx=\"1624.17\" cy=\"1272.03\" r=\"14\" fill=\"#34419a\" fill-rule=\"evenodd\" fill-opacity=\"0.4\" stroke=\"#000000\" stroke-opacity=\"0.4\" stroke-width=\"0\"/>\n",
       "<circle clip-path=\"url(#clip0016)\" cx=\"1659.02\" cy=\"1240.93\" r=\"14\" fill=\"#34419a\" fill-rule=\"evenodd\" fill-opacity=\"0.4\" stroke=\"#000000\" stroke-opacity=\"0.4\" stroke-width=\"0\"/>\n",
       "<circle clip-path=\"url(#clip0016)\" cx=\"1650.31\" cy=\"1225.38\" r=\"14\" fill=\"#34419a\" fill-rule=\"evenodd\" fill-opacity=\"0.4\" stroke=\"#000000\" stroke-opacity=\"0.4\" stroke-width=\"0\"/>\n",
       "<circle clip-path=\"url(#clip0016)\" cx=\"1628.53\" cy=\"1240.93\" r=\"14\" fill=\"#34419a\" fill-rule=\"evenodd\" fill-opacity=\"0.4\" stroke=\"#000000\" stroke-opacity=\"0.4\" stroke-width=\"0\"/>\n",
       "<circle clip-path=\"url(#clip0016)\" cx=\"1619.81\" cy=\"1272.03\" r=\"14\" fill=\"#34419a\" fill-rule=\"evenodd\" fill-opacity=\"0.4\" stroke=\"#000000\" stroke-opacity=\"0.4\" stroke-width=\"0\"/>\n",
       "<circle clip-path=\"url(#clip0016)\" cx=\"1628.53\" cy=\"1264.26\" r=\"14\" fill=\"#34419a\" fill-rule=\"evenodd\" fill-opacity=\"0.4\" stroke=\"#000000\" stroke-opacity=\"0.4\" stroke-width=\"0\"/>\n",
       "<circle clip-path=\"url(#clip0016)\" cx=\"1637.24\" cy=\"1240.93\" r=\"14\" fill=\"#34419a\" fill-rule=\"evenodd\" fill-opacity=\"0.4\" stroke=\"#000000\" stroke-opacity=\"0.4\" stroke-width=\"0\"/>\n",
       "<circle clip-path=\"url(#clip0016)\" cx=\"1624.17\" cy=\"1279.81\" r=\"14\" fill=\"#34419a\" fill-rule=\"evenodd\" fill-opacity=\"0.4\" stroke=\"#000000\" stroke-opacity=\"0.4\" stroke-width=\"0\"/>\n",
       "<polyline clip-path=\"url(#clip0016)\" style=\"stroke:#000000; stroke-width:4; stroke-opacity:1; fill:none\" points=\"\n",
       "  1445.55,1415.66 1702.59,1224.95 \n",
       "  \"/>\n",
       "<path clip-path=\"url(#clip000)\" d=\"\n",
       "M1961.15 1423.18 L2352.76 1423.18 L2352.76 1199.79 L1961.15 1199.79  Z\n",
       "  \" fill=\"#ffffff\" fill-rule=\"evenodd\" fill-opacity=\"1\"/>\n",
       "<defs>\n",
       "  <clipPath id=\"clip0017\">\n",
       "    <rect x=\"1961\" y=\"1199\" width=\"393\" height=\"224\"/>\n",
       "  </clipPath>\n",
       "</defs>\n",
       "<polyline clip-path=\"url(#clip000)\" style=\"stroke:#000000; stroke-width:4; stroke-opacity:1; fill:none\" points=\"\n",
       "  1961.15,1423.18 2352.76,1423.18 \n",
       "  \"/>\n",
       "<polyline clip-path=\"url(#clip000)\" style=\"stroke:#000000; stroke-width:4; stroke-opacity:1; fill:none\" points=\"\n",
       "  1982.69,1423.18 1982.69,1420.5 \n",
       "  \"/>\n",
       "<polyline clip-path=\"url(#clip000)\" style=\"stroke:#000000; stroke-width:4; stroke-opacity:1; fill:none\" points=\"\n",
       "  2098.86,1423.18 2098.86,1420.5 \n",
       "  \"/>\n",
       "<polyline clip-path=\"url(#clip000)\" style=\"stroke:#000000; stroke-width:4; stroke-opacity:1; fill:none\" points=\"\n",
       "  2215.04,1423.18 2215.04,1420.5 \n",
       "  \"/>\n",
       "<polyline clip-path=\"url(#clip000)\" style=\"stroke:#000000; stroke-width:4; stroke-opacity:1; fill:none\" points=\"\n",
       "  2331.22,1423.18 2331.22,1420.5 \n",
       "  \"/>\n",
       "<path clip-path=\"url(#clip000)\" d=\"M 0 0 M1982.69 1452.37 Q1979.08 1452.37 1977.25 1455.94 Q1975.44 1459.48 1975.44 1466.61 Q1975.44 1473.71 1977.25 1477.28 Q1979.08 1480.82 1982.69 1480.82 Q1986.32 1480.82 1988.13 1477.28 Q1989.96 1473.71 1989.96 1466.61 Q1989.96 1459.48 1988.13 1455.94 Q1986.32 1452.37 1982.69 1452.37 M1982.69 1448.67 Q1988.5 1448.67 1991.55 1453.27 Q1994.63 1457.86 1994.63 1466.61 Q1994.63 1475.33 1991.55 1479.94 Q1988.5 1484.52 1982.69 1484.52 Q1976.88 1484.52 1973.8 1479.94 Q1970.74 1475.33 1970.74 1466.61 Q1970.74 1457.86 1973.8 1453.27 Q1976.88 1448.67 1982.69 1448.67 Z\" fill=\"#000000\" fill-rule=\"evenodd\" fill-opacity=\"1\" /><path clip-path=\"url(#clip000)\" d=\"M 0 0 M2089.25 1479.92 L2096.88 1479.92 L2096.88 1453.55 L2088.57 1455.22 L2088.57 1450.96 L2096.84 1449.29 L2101.51 1449.29 L2101.51 1479.92 L2109.15 1479.92 L2109.15 1483.85 L2089.25 1483.85 L2089.25 1479.92 Z\" fill=\"#000000\" fill-rule=\"evenodd\" fill-opacity=\"1\" /><path clip-path=\"url(#clip000)\" d=\"M 0 0 M2209.69 1479.92 L2226.01 1479.92 L2226.01 1483.85 L2204.07 1483.85 L2204.07 1479.92 Q2206.73 1477.16 2211.31 1472.53 Q2215.92 1467.88 2217.1 1466.54 Q2219.35 1464.01 2220.23 1462.28 Q2221.13 1460.52 2221.13 1458.83 Q2221.13 1456.07 2219.18 1454.34 Q2217.26 1452.6 2214.16 1452.6 Q2211.96 1452.6 2209.51 1453.37 Q2207.08 1454.13 2204.3 1455.68 L2204.3 1450.96 Q2207.12 1449.82 2209.58 1449.25 Q2212.03 1448.67 2214.07 1448.67 Q2219.44 1448.67 2222.63 1451.35 Q2225.83 1454.04 2225.83 1458.53 Q2225.83 1460.66 2225.02 1462.58 Q2224.23 1464.48 2222.12 1467.07 Q2221.54 1467.74 2218.44 1470.96 Q2215.34 1474.15 2209.69 1479.92 Z\" fill=\"#000000\" fill-rule=\"evenodd\" fill-opacity=\"1\" /><path clip-path=\"url(#clip000)\" d=\"M 0 0 M2335.46 1465.22 Q2338.82 1465.94 2340.7 1468.2 Q2342.59 1470.47 2342.59 1473.81 Q2342.59 1478.92 2339.08 1481.72 Q2335.56 1484.52 2329.08 1484.52 Q2326.9 1484.52 2324.58 1484.08 Q2322.29 1483.67 2319.84 1482.81 L2319.84 1478.3 Q2321.78 1479.43 2324.1 1480.01 Q2326.41 1480.59 2328.94 1480.59 Q2333.33 1480.59 2335.63 1478.85 Q2337.94 1477.12 2337.94 1473.81 Q2337.94 1470.75 2335.79 1469.04 Q2333.66 1467.3 2329.84 1467.3 L2325.81 1467.3 L2325.81 1463.46 L2330.02 1463.46 Q2333.47 1463.46 2335.3 1462.09 Q2337.13 1460.7 2337.13 1458.11 Q2337.13 1455.45 2335.23 1454.04 Q2333.36 1452.6 2329.84 1452.6 Q2327.92 1452.6 2325.72 1453.02 Q2323.52 1453.44 2320.88 1454.31 L2320.88 1450.15 Q2323.54 1449.41 2325.86 1449.04 Q2328.2 1448.67 2330.26 1448.67 Q2335.58 1448.67 2338.68 1451.1 Q2341.78 1453.5 2341.78 1457.63 Q2341.78 1460.5 2340.14 1462.49 Q2338.5 1464.45 2335.46 1465.22 Z\" fill=\"#000000\" fill-rule=\"evenodd\" fill-opacity=\"1\" /><path clip-path=\"url(#clip000)\" d=\"M 0 0 M1994.31 1525.81 L1994.31 1543.66 L2002.39 1543.66 Q2006.88 1543.66 2009.33 1541.34 Q2011.78 1539.02 2011.78 1534.72 Q2011.78 1530.45 2009.33 1528.13 Q2006.88 1525.81 2002.39 1525.81 L1994.31 1525.81 M1987.88 1520.52 L2002.39 1520.52 Q2010.38 1520.52 2014.46 1524.15 Q2018.56 1527.75 2018.56 1534.72 Q2018.56 1541.75 2014.46 1545.35 Q2010.38 1548.95 2002.39 1548.95 L1994.31 1548.95 L1994.31 1568.04 L1987.88 1568.04 L1987.88 1520.52 Z\" fill=\"#000000\" fill-rule=\"evenodd\" fill-opacity=\"1\" /><path clip-path=\"url(#clip000)\" d=\"M 0 0 M2055.1 1548.76 L2055.1 1551.62 L2028.17 1551.62 Q2028.56 1557.67 2031.8 1560.85 Q2035.08 1564 2040.91 1564 Q2044.28 1564 2047.43 1563.17 Q2050.61 1562.35 2053.73 1560.69 L2053.73 1566.23 Q2050.58 1567.57 2047.27 1568.27 Q2043.96 1568.97 2040.55 1568.97 Q2032.02 1568.97 2027.03 1564 Q2022.06 1559.04 2022.06 1550.57 Q2022.06 1541.82 2026.77 1536.69 Q2031.52 1531.54 2039.54 1531.54 Q2046.73 1531.54 2050.9 1536.18 Q2055.1 1540.8 2055.1 1548.76 M2049.24 1547.04 Q2049.18 1542.23 2046.54 1539.37 Q2043.93 1536.5 2039.6 1536.5 Q2034.7 1536.5 2031.74 1539.27 Q2028.81 1542.04 2028.36 1547.07 L2049.24 1547.04 Z\" fill=\"#000000\" fill-rule=\"evenodd\" fill-opacity=\"1\" /><path clip-path=\"url(#clip000)\" d=\"M 0 0 M2070.51 1522.27 L2070.51 1532.4 L2082.57 1532.4 L2082.57 1536.95 L2070.51 1536.95 L2070.51 1556.3 Q2070.51 1560.66 2071.68 1561.9 Q2072.89 1563.14 2076.55 1563.14 L2082.57 1563.14 L2082.57 1568.04 L2076.55 1568.04 Q2069.77 1568.04 2067.2 1565.53 Q2064.62 1562.98 2064.62 1556.3 L2064.62 1536.95 L2060.32 1536.95 L2060.32 1532.4 L2064.62 1532.4 L2064.62 1522.27 L2070.51 1522.27 Z\" fill=\"#000000\" fill-rule=\"evenodd\" fill-opacity=\"1\" /><path clip-path=\"url(#clip000)\" d=\"M 0 0 M2106.47 1550.12 Q2099.37 1550.12 2096.64 1551.75 Q2093.9 1553.37 2093.9 1557.29 Q2093.9 1560.4 2095.94 1562.25 Q2098.01 1564.07 2101.54 1564.07 Q2106.41 1564.07 2109.34 1560.63 Q2112.3 1557.16 2112.3 1551.43 L2112.3 1550.12 L2106.47 1550.12 M2118.15 1547.71 L2118.15 1568.04 L2112.3 1568.04 L2112.3 1562.63 Q2110.29 1565.88 2107.3 1567.44 Q2104.31 1568.97 2099.98 1568.97 Q2094.5 1568.97 2091.26 1565.91 Q2088.04 1562.82 2088.04 1557.67 Q2088.04 1551.65 2092.05 1548.6 Q2096.1 1545.54 2104.08 1545.54 L2112.3 1545.54 L2112.3 1544.97 Q2112.3 1540.93 2109.62 1538.73 Q2106.98 1536.5 2102.18 1536.5 Q2099.12 1536.5 2096.22 1537.23 Q2093.33 1537.97 2090.65 1539.43 L2090.65 1534.02 Q2093.87 1532.78 2096.89 1532.17 Q2099.92 1531.54 2102.78 1531.54 Q2110.51 1531.54 2114.33 1535.55 Q2118.15 1539.56 2118.15 1547.71 Z\" fill=\"#000000\" fill-rule=\"evenodd\" fill-opacity=\"1\" /><path clip-path=\"url(#clip000)\" d=\"M 0 0 M2130.22 1518.52 L2136.07 1518.52 L2136.07 1568.04 L2130.22 1568.04 L2130.22 1518.52 Z\" fill=\"#000000\" fill-rule=\"evenodd\" fill-opacity=\"1\" /><path clip-path=\"url(#clip000)\" d=\"M 0 0 M2144.35 1520.52 L2150.84 1520.52 L2160.84 1560.69 L2170.8 1520.52 L2178.02 1520.52 L2188.02 1560.69 L2197.98 1520.52 L2204.5 1520.52 L2192.57 1568.04 L2184.48 1568.04 L2174.46 1526.79 L2164.34 1568.04 L2156.25 1568.04 L2144.35 1520.52 Z\" fill=\"#000000\" fill-rule=\"evenodd\" fill-opacity=\"1\" /><path clip-path=\"url(#clip000)\" d=\"M 0 0 M2211.35 1532.4 L2217.2 1532.4 L2217.2 1568.04 L2211.35 1568.04 L2211.35 1532.4 M2211.35 1518.52 L2217.2 1518.52 L2217.2 1525.93 L2211.35 1525.93 L2211.35 1518.52 Z\" fill=\"#000000\" fill-rule=\"evenodd\" fill-opacity=\"1\" /><path clip-path=\"url(#clip000)\" d=\"M 0 0 M2252.91 1537.81 L2252.91 1518.52 L2258.77 1518.52 L2258.77 1568.04 L2252.91 1568.04 L2252.91 1562.7 Q2251.07 1565.88 2248.24 1567.44 Q2245.44 1568.97 2241.49 1568.97 Q2235.03 1568.97 2230.95 1563.81 Q2226.91 1558.65 2226.91 1550.25 Q2226.91 1541.85 2230.95 1536.69 Q2235.03 1531.54 2241.49 1531.54 Q2245.44 1531.54 2248.24 1533.1 Q2251.07 1534.62 2252.91 1537.81 M2232.96 1550.25 Q2232.96 1556.71 2235.6 1560.4 Q2238.27 1564.07 2242.92 1564.07 Q2247.57 1564.07 2250.24 1560.4 Q2252.91 1556.71 2252.91 1550.25 Q2252.91 1543.79 2250.24 1540.13 Q2247.57 1536.44 2242.92 1536.44 Q2238.27 1536.44 2235.6 1540.13 Q2232.96 1543.79 2232.96 1550.25 Z\" fill=\"#000000\" fill-rule=\"evenodd\" fill-opacity=\"1\" /><path clip-path=\"url(#clip000)\" d=\"M 0 0 M2276.63 1522.27 L2276.63 1532.4 L2288.69 1532.4 L2288.69 1536.95 L2276.63 1536.95 L2276.63 1556.3 Q2276.63 1560.66 2277.8 1561.9 Q2279.01 1563.14 2282.67 1563.14 L2288.69 1563.14 L2288.69 1568.04 L2282.67 1568.04 Q2275.9 1568.04 2273.32 1565.53 Q2270.74 1562.98 2270.74 1556.3 L2270.74 1536.95 L2266.44 1536.95 L2266.44 1532.4 L2270.74 1532.4 L2270.74 1522.27 L2276.63 1522.27 Z\" fill=\"#000000\" fill-rule=\"evenodd\" fill-opacity=\"1\" /><path clip-path=\"url(#clip000)\" d=\"M 0 0 M2326.03 1546.53 L2326.03 1568.04 L2320.17 1568.04 L2320.17 1546.72 Q2320.17 1541.66 2318.2 1539.14 Q2316.22 1536.63 2312.28 1536.63 Q2307.53 1536.63 2304.8 1539.65 Q2302.06 1542.68 2302.06 1547.9 L2302.06 1568.04 L2296.17 1568.04 L2296.17 1518.52 L2302.06 1518.52 L2302.06 1537.93 Q2304.16 1534.72 2306.99 1533.13 Q2309.86 1531.54 2313.58 1531.54 Q2319.72 1531.54 2322.87 1535.36 Q2326.03 1539.14 2326.03 1546.53 Z\" fill=\"#000000\" fill-rule=\"evenodd\" fill-opacity=\"1\" /><polyline clip-path=\"url(#clip000)\" style=\"stroke:#000000; stroke-width:4; stroke-opacity:1; fill:none\" points=\"\n",
       "  1961.15,1423.18 1961.15,1199.79 \n",
       "  \"/>\n",
       "<polyline clip-path=\"url(#clip000)\" style=\"stroke:#000000; stroke-width:4; stroke-opacity:1; fill:none\" points=\"\n",
       "  1961.15,1416.86 1965.85,1416.86 \n",
       "  \"/>\n",
       "<polyline clip-path=\"url(#clip000)\" style=\"stroke:#000000; stroke-width:4; stroke-opacity:1; fill:none\" points=\"\n",
       "  1961.15,1372.95 1965.85,1372.95 \n",
       "  \"/>\n",
       "<polyline clip-path=\"url(#clip000)\" style=\"stroke:#000000; stroke-width:4; stroke-opacity:1; fill:none\" points=\"\n",
       "  1961.15,1329.05 1965.85,1329.05 \n",
       "  \"/>\n",
       "<polyline clip-path=\"url(#clip000)\" style=\"stroke:#000000; stroke-width:4; stroke-opacity:1; fill:none\" points=\"\n",
       "  1961.15,1285.14 1965.85,1285.14 \n",
       "  \"/>\n",
       "<polyline clip-path=\"url(#clip000)\" style=\"stroke:#000000; stroke-width:4; stroke-opacity:1; fill:none\" points=\"\n",
       "  1961.15,1241.24 1965.85,1241.24 \n",
       "  \"/>\n",
       "<path clip-path=\"url(#clip000)\" d=\"M 0 0 M1913.2 1402.66 Q1909.59 1402.66 1907.76 1406.22 Q1905.96 1409.76 1905.96 1416.89 Q1905.96 1424 1907.76 1427.56 Q1909.59 1431.11 1913.2 1431.11 Q1916.84 1431.11 1918.64 1427.56 Q1920.47 1424 1920.47 1416.89 Q1920.47 1409.76 1918.64 1406.22 Q1916.84 1402.66 1913.2 1402.66 M1913.2 1398.95 Q1919.01 1398.95 1922.07 1403.56 Q1925.15 1408.14 1925.15 1416.89 Q1925.15 1425.62 1922.07 1430.23 Q1919.01 1434.81 1913.2 1434.81 Q1907.39 1434.81 1904.31 1430.23 Q1901.26 1425.62 1901.26 1416.89 Q1901.26 1408.14 1904.31 1403.56 Q1907.39 1398.95 1913.2 1398.95 Z\" fill=\"#000000\" fill-rule=\"evenodd\" fill-opacity=\"1\" /><path clip-path=\"url(#clip000)\" d=\"M 0 0 M1873.85 1386.3 L1881.49 1386.3 L1881.49 1359.93 L1873.18 1361.6 L1873.18 1357.34 L1881.44 1355.67 L1886.12 1355.67 L1886.12 1386.3 L1893.76 1386.3 L1893.76 1390.23 L1873.85 1390.23 L1873.85 1386.3 Z\" fill=\"#000000\" fill-rule=\"evenodd\" fill-opacity=\"1\" /><path clip-path=\"url(#clip000)\" d=\"M 0 0 M1913.2 1358.75 Q1909.59 1358.75 1907.76 1362.32 Q1905.96 1365.86 1905.96 1372.99 Q1905.96 1380.09 1907.76 1383.66 Q1909.59 1387.2 1913.2 1387.2 Q1916.84 1387.2 1918.64 1383.66 Q1920.47 1380.09 1920.47 1372.99 Q1920.47 1365.86 1918.64 1362.32 Q1916.84 1358.75 1913.2 1358.75 M1913.2 1355.05 Q1919.01 1355.05 1922.07 1359.65 Q1925.15 1364.24 1925.15 1372.99 Q1925.15 1381.71 1922.07 1386.32 Q1919.01 1390.9 1913.2 1390.9 Q1907.39 1390.9 1904.31 1386.32 Q1901.26 1381.71 1901.26 1372.99 Q1901.26 1364.24 1904.31 1359.65 Q1907.39 1355.05 1913.2 1355.05 Z\" fill=\"#000000\" fill-rule=\"evenodd\" fill-opacity=\"1\" /><path clip-path=\"url(#clip000)\" d=\"M 0 0 M1877.07 1342.39 L1893.39 1342.39 L1893.39 1346.33 L1871.44 1346.33 L1871.44 1342.39 Q1874.11 1339.64 1878.69 1335.01 Q1883.3 1330.36 1884.48 1329.01 Q1886.72 1326.49 1887.6 1324.75 Q1888.5 1323 1888.5 1321.31 Q1888.5 1318.55 1886.56 1316.81 Q1884.64 1315.08 1881.54 1315.08 Q1879.34 1315.08 1876.88 1315.84 Q1874.45 1316.61 1871.68 1318.16 L1871.68 1313.43 Q1874.5 1312.3 1876.95 1311.72 Q1879.41 1311.14 1881.44 1311.14 Q1886.81 1311.14 1890.01 1313.83 Q1893.2 1316.51 1893.2 1321 Q1893.2 1323.13 1892.39 1325.06 Q1891.61 1326.95 1889.5 1329.55 Q1888.92 1330.22 1885.82 1333.43 Q1882.72 1336.63 1877.07 1342.39 Z\" fill=\"#000000\" fill-rule=\"evenodd\" fill-opacity=\"1\" /><path clip-path=\"url(#clip000)\" d=\"M 0 0 M1913.2 1314.85 Q1909.59 1314.85 1907.76 1318.41 Q1905.96 1321.95 1905.96 1329.08 Q1905.96 1336.19 1907.76 1339.75 Q1909.59 1343.3 1913.2 1343.3 Q1916.84 1343.3 1918.64 1339.75 Q1920.47 1336.19 1920.47 1329.08 Q1920.47 1321.95 1918.64 1318.41 Q1916.84 1314.85 1913.2 1314.85 M1913.2 1311.14 Q1919.01 1311.14 1922.07 1315.75 Q1925.15 1320.33 1925.15 1329.08 Q1925.15 1337.81 1922.07 1342.42 Q1919.01 1347 1913.2 1347 Q1907.39 1347 1904.31 1342.42 Q1901.26 1337.81 1901.26 1329.08 Q1901.26 1320.33 1904.31 1315.75 Q1907.39 1311.14 1913.2 1311.14 Z\" fill=\"#000000\" fill-rule=\"evenodd\" fill-opacity=\"1\" /><path clip-path=\"url(#clip000)\" d=\"M 0 0 M1887.21 1283.79 Q1890.56 1284.51 1892.44 1286.78 Q1894.34 1289.04 1894.34 1292.38 Q1894.34 1297.49 1890.82 1300.29 Q1887.3 1303.09 1880.82 1303.09 Q1878.64 1303.09 1876.33 1302.66 Q1874.04 1302.24 1871.58 1301.38 L1871.58 1296.87 Q1873.53 1298 1875.84 1298.58 Q1878.16 1299.16 1880.68 1299.16 Q1885.08 1299.16 1887.37 1297.42 Q1889.69 1295.69 1889.69 1292.38 Q1889.69 1289.32 1887.53 1287.61 Q1885.4 1285.87 1881.58 1285.87 L1877.56 1285.87 L1877.56 1282.03 L1881.77 1282.03 Q1885.22 1282.03 1887.05 1280.66 Q1888.87 1279.28 1888.87 1276.68 Q1888.87 1274.02 1886.98 1272.61 Q1885.1 1271.17 1881.58 1271.17 Q1879.66 1271.17 1877.46 1271.59 Q1875.26 1272.01 1872.63 1272.89 L1872.63 1268.72 Q1875.29 1267.98 1877.6 1267.61 Q1879.94 1267.24 1882 1267.24 Q1887.32 1267.24 1890.43 1269.67 Q1893.53 1272.08 1893.53 1276.2 Q1893.53 1279.07 1891.88 1281.06 Q1890.24 1283.03 1887.21 1283.79 Z\" fill=\"#000000\" fill-rule=\"evenodd\" fill-opacity=\"1\" /><path clip-path=\"url(#clip000)\" d=\"M 0 0 M1913.2 1270.94 Q1909.59 1270.94 1907.76 1274.51 Q1905.96 1278.05 1905.96 1285.18 Q1905.96 1292.28 1907.76 1295.85 Q1909.59 1299.39 1913.2 1299.39 Q1916.84 1299.39 1918.64 1295.85 Q1920.47 1292.28 1920.47 1285.18 Q1920.47 1278.05 1918.64 1274.51 Q1916.84 1270.94 1913.2 1270.94 M1913.2 1267.24 Q1919.01 1267.24 1922.07 1271.85 Q1925.15 1276.43 1925.15 1285.18 Q1925.15 1293.91 1922.07 1298.51 Q1919.01 1303.09 1913.2 1303.09 Q1907.39 1303.09 1904.31 1298.51 Q1901.26 1293.91 1901.26 1285.18 Q1901.26 1276.43 1904.31 1271.85 Q1907.39 1267.24 1913.2 1267.24 Z\" fill=\"#000000\" fill-rule=\"evenodd\" fill-opacity=\"1\" /><path clip-path=\"url(#clip000)\" d=\"M 0 0 M1885.89 1228.03 L1874.08 1246.48 L1885.89 1246.48 L1885.89 1228.03 M1884.66 1223.96 L1890.54 1223.96 L1890.54 1246.48 L1895.47 1246.48 L1895.47 1250.37 L1890.54 1250.37 L1890.54 1258.52 L1885.89 1258.52 L1885.89 1250.37 L1870.29 1250.37 L1870.29 1245.86 L1884.66 1223.96 Z\" fill=\"#000000\" fill-rule=\"evenodd\" fill-opacity=\"1\" /><path clip-path=\"url(#clip000)\" d=\"M 0 0 M1913.2 1227.04 Q1909.59 1227.04 1907.76 1230.6 Q1905.96 1234.14 1905.96 1241.27 Q1905.96 1248.38 1907.76 1251.95 Q1909.59 1255.49 1913.2 1255.49 Q1916.84 1255.49 1918.64 1251.95 Q1920.47 1248.38 1920.47 1241.27 Q1920.47 1234.14 1918.64 1230.6 Q1916.84 1227.04 1913.2 1227.04 M1913.2 1223.33 Q1919.01 1223.33 1922.07 1227.94 Q1925.15 1232.52 1925.15 1241.27 Q1925.15 1250 1922.07 1254.61 Q1919.01 1259.19 1913.2 1259.19 Q1907.39 1259.19 1904.31 1254.61 Q1901.26 1250 1901.26 1241.27 Q1901.26 1232.52 1904.31 1227.94 Q1907.39 1223.33 1913.2 1223.33 Z\" fill=\"#000000\" fill-rule=\"evenodd\" fill-opacity=\"1\" /><path clip-path=\"url(#clip0017)\" d=\"\n",
       "M1982.69 1206.12 L1982.69 1416.86 L2040.78 1416.86 L2040.78 1206.12 L1982.69 1206.12 L1982.69 1206.12  Z\n",
       "  \" fill=\"#000000\" fill-rule=\"evenodd\" fill-opacity=\"1\"/>\n",
       "<polyline clip-path=\"url(#clip0017)\" style=\"stroke:#000000; stroke-width:4; stroke-opacity:1; fill:none\" points=\"\n",
       "  1982.69,1206.12 1982.69,1416.86 2040.78,1416.86 2040.78,1206.12 1982.69,1206.12 \n",
       "  \"/>\n",
       "<path clip-path=\"url(#clip0017)\" d=\"\n",
       "M2040.78 1408.08 L2040.78 1416.86 L2098.86 1416.86 L2098.86 1408.08 L2040.78 1408.08 L2040.78 1408.08  Z\n",
       "  \" fill=\"#000000\" fill-rule=\"evenodd\" fill-opacity=\"1\"/>\n",
       "<polyline clip-path=\"url(#clip0017)\" style=\"stroke:#000000; stroke-width:4; stroke-opacity:1; fill:none\" points=\"\n",
       "  2040.78,1408.08 2040.78,1416.86 2098.86,1416.86 2098.86,1408.08 2040.78,1408.08 \n",
       "  \"/>\n",
       "<path clip-path=\"url(#clip0017)\" d=\"\n",
       "M2098.86 1258.8 L2098.86 1416.86 L2156.95 1416.86 L2156.95 1258.8 L2098.86 1258.8 L2098.86 1258.8  Z\n",
       "  \" fill=\"#000000\" fill-rule=\"evenodd\" fill-opacity=\"1\"/>\n",
       "<polyline clip-path=\"url(#clip0017)\" style=\"stroke:#000000; stroke-width:4; stroke-opacity:1; fill:none\" points=\"\n",
       "  2098.86,1258.8 2098.86,1416.86 2156.95,1416.86 2156.95,1258.8 2098.86,1258.8 \n",
       "  \"/>\n",
       "<path clip-path=\"url(#clip0017)\" d=\"\n",
       "M2156.95 1263.19 L2156.95 1416.86 L2215.04 1416.86 L2215.04 1263.19 L2156.95 1263.19 L2156.95 1263.19  Z\n",
       "  \" fill=\"#000000\" fill-rule=\"evenodd\" fill-opacity=\"1\"/>\n",
       "<polyline clip-path=\"url(#clip0017)\" style=\"stroke:#000000; stroke-width:4; stroke-opacity:1; fill:none\" points=\"\n",
       "  2156.95,1263.19 2156.95,1416.86 2215.04,1416.86 2215.04,1263.19 2156.95,1263.19 \n",
       "  \"/>\n",
       "<path clip-path=\"url(#clip0017)\" d=\"\n",
       "M2215.04 1302.71 L2215.04 1416.86 L2273.13 1416.86 L2273.13 1302.71 L2215.04 1302.71 L2215.04 1302.71  Z\n",
       "  \" fill=\"#000000\" fill-rule=\"evenodd\" fill-opacity=\"1\"/>\n",
       "<polyline clip-path=\"url(#clip0017)\" style=\"stroke:#000000; stroke-width:4; stroke-opacity:1; fill:none\" points=\"\n",
       "  2215.04,1302.71 2215.04,1416.86 2273.13,1416.86 2273.13,1302.71 2215.04,1302.71 \n",
       "  \"/>\n",
       "<path clip-path=\"url(#clip0017)\" d=\"\n",
       "M2273.13 1403.69 L2273.13 1416.86 L2331.22 1416.86 L2331.22 1403.69 L2273.13 1403.69 L2273.13 1403.69  Z\n",
       "  \" fill=\"#000000\" fill-rule=\"evenodd\" fill-opacity=\"1\"/>\n",
       "<polyline clip-path=\"url(#clip0017)\" style=\"stroke:#000000; stroke-width:4; stroke-opacity:1; fill:none\" points=\"\n",
       "  2273.13,1403.69 2273.13,1416.86 2331.22,1416.86 2331.22,1403.69 2273.13,1403.69 \n",
       "  \"/>\n",
       "</svg>\n"
      ]
     },
     "execution_count": 542,
     "metadata": {},
     "output_type": "execute_result"
    }
   ],
   "source": [
    "@df iris corrplot([:SepalLength :SepalWidth :PetalLength :PetalWidth], grid = false)"
   ]
  },
  {
   "cell_type": "markdown",
   "id": "632a694e",
   "metadata": {
    "slideshow": {
     "slide_type": "slide"
    }
   },
   "source": [
    "#### Histogram of sepal length grouped by species"
   ]
  },
  {
   "cell_type": "code",
   "execution_count": 543,
   "id": "7619a2cb",
   "metadata": {
    "slideshow": {
     "slide_type": "fragment"
    }
   },
   "outputs": [
    {
     "data": {
      "image/svg+xml": [
       "<?xml version=\"1.0\" encoding=\"utf-8\"?>\n",
       "<svg xmlns=\"http://www.w3.org/2000/svg\" xmlns:xlink=\"http://www.w3.org/1999/xlink\" width=\"600\" height=\"400\" viewBox=\"0 0 2400 1600\">\n",
       "<defs>\n",
       "  <clipPath id=\"clip040\">\n",
       "    <rect x=\"0\" y=\"0\" width=\"2400\" height=\"1600\"/>\n",
       "  </clipPath>\n",
       "</defs>\n",
       "<path clip-path=\"url(#clip040)\" d=\"\n",
       "M0 1600 L2400 1600 L2400 0 L0 0  Z\n",
       "  \" fill=\"#ffffff\" fill-rule=\"evenodd\" fill-opacity=\"1\"/>\n",
       "<defs>\n",
       "  <clipPath id=\"clip041\">\n",
       "    <rect x=\"480\" y=\"0\" width=\"1681\" height=\"1600\"/>\n",
       "  </clipPath>\n",
       "</defs>\n",
       "<path clip-path=\"url(#clip040)\" d=\"\n",
       "M140.696 1486.45 L2352.76 1486.45 L2352.76 47.2441 L140.696 47.2441  Z\n",
       "  \" fill=\"#ffffff\" fill-rule=\"evenodd\" fill-opacity=\"1\"/>\n",
       "<defs>\n",
       "  <clipPath id=\"clip042\">\n",
       "    <rect x=\"140\" y=\"47\" width=\"2213\" height=\"1440\"/>\n",
       "  </clipPath>\n",
       "</defs>\n",
       "<polyline clip-path=\"url(#clip042)\" style=\"stroke:#000000; stroke-width:2; stroke-opacity:0.1; fill:none\" points=\"\n",
       "  257.698,1486.45 257.698,47.2441 \n",
       "  \"/>\n",
       "<polyline clip-path=\"url(#clip042)\" style=\"stroke:#000000; stroke-width:2; stroke-opacity:0.1; fill:none\" points=\"\n",
       "  752.212,1486.45 752.212,47.2441 \n",
       "  \"/>\n",
       "<polyline clip-path=\"url(#clip042)\" style=\"stroke:#000000; stroke-width:2; stroke-opacity:0.1; fill:none\" points=\"\n",
       "  1246.73,1486.45 1246.73,47.2441 \n",
       "  \"/>\n",
       "<polyline clip-path=\"url(#clip042)\" style=\"stroke:#000000; stroke-width:2; stroke-opacity:0.1; fill:none\" points=\"\n",
       "  1741.24,1486.45 1741.24,47.2441 \n",
       "  \"/>\n",
       "<polyline clip-path=\"url(#clip042)\" style=\"stroke:#000000; stroke-width:2; stroke-opacity:0.1; fill:none\" points=\"\n",
       "  2235.75,1486.45 2235.75,47.2441 \n",
       "  \"/>\n",
       "<polyline clip-path=\"url(#clip040)\" style=\"stroke:#000000; stroke-width:4; stroke-opacity:1; fill:none\" points=\"\n",
       "  140.696,1486.45 2352.76,1486.45 \n",
       "  \"/>\n",
       "<polyline clip-path=\"url(#clip040)\" style=\"stroke:#000000; stroke-width:4; stroke-opacity:1; fill:none\" points=\"\n",
       "  257.698,1486.45 257.698,1469.18 \n",
       "  \"/>\n",
       "<polyline clip-path=\"url(#clip040)\" style=\"stroke:#000000; stroke-width:4; stroke-opacity:1; fill:none\" points=\"\n",
       "  752.212,1486.45 752.212,1469.18 \n",
       "  \"/>\n",
       "<polyline clip-path=\"url(#clip040)\" style=\"stroke:#000000; stroke-width:4; stroke-opacity:1; fill:none\" points=\"\n",
       "  1246.73,1486.45 1246.73,1469.18 \n",
       "  \"/>\n",
       "<polyline clip-path=\"url(#clip040)\" style=\"stroke:#000000; stroke-width:4; stroke-opacity:1; fill:none\" points=\"\n",
       "  1741.24,1486.45 1741.24,1469.18 \n",
       "  \"/>\n",
       "<polyline clip-path=\"url(#clip040)\" style=\"stroke:#000000; stroke-width:4; stroke-opacity:1; fill:none\" points=\"\n",
       "  2235.75,1486.45 2235.75,1469.18 \n",
       "  \"/>\n",
       "<path clip-path=\"url(#clip040)\" d=\"M 0 0 M260.707 1516.63 L248.901 1535.08 L260.707 1535.08 L260.707 1516.63 M259.48 1512.56 L265.36 1512.56 L265.36 1535.08 L270.29 1535.08 L270.29 1538.97 L265.36 1538.97 L265.36 1547.12 L260.707 1547.12 L260.707 1538.97 L245.105 1538.97 L245.105 1534.46 L259.48 1512.56 Z\" fill=\"#000000\" fill-rule=\"evenodd\" fill-opacity=\"1\" /><path clip-path=\"url(#clip040)\" d=\"M 0 0 M742.489 1512.56 L760.846 1512.56 L760.846 1516.5 L746.772 1516.5 L746.772 1524.97 Q747.79 1524.62 748.809 1524.46 Q749.827 1524.27 750.846 1524.27 Q756.633 1524.27 760.013 1527.44 Q763.392 1530.62 763.392 1536.03 Q763.392 1541.61 759.92 1544.71 Q756.448 1547.79 750.128 1547.79 Q747.952 1547.79 745.684 1547.42 Q743.439 1547.05 741.031 1546.31 L741.031 1541.61 Q743.114 1542.74 745.337 1543.3 Q747.559 1543.86 750.036 1543.86 Q754.04 1543.86 756.378 1541.75 Q758.716 1539.64 758.716 1536.03 Q758.716 1532.42 756.378 1530.31 Q754.04 1528.21 750.036 1528.21 Q748.161 1528.21 746.286 1528.62 Q744.434 1529.04 742.489 1529.92 L742.489 1512.56 Z\" fill=\"#000000\" fill-rule=\"evenodd\" fill-opacity=\"1\" /><path clip-path=\"url(#clip040)\" d=\"M 0 0 M1247.13 1527.98 Q1243.98 1527.98 1242.13 1530.13 Q1240.3 1532.28 1240.3 1536.03 Q1240.3 1539.76 1242.13 1541.93 Q1243.98 1544.09 1247.13 1544.09 Q1250.28 1544.09 1252.11 1541.93 Q1253.96 1539.76 1253.96 1536.03 Q1253.96 1532.28 1252.11 1530.13 Q1250.28 1527.98 1247.13 1527.98 M1256.41 1513.32 L1256.41 1517.58 Q1254.65 1516.75 1252.85 1516.31 Q1251.07 1515.87 1249.31 1515.87 Q1244.68 1515.87 1242.22 1519 Q1239.79 1522.12 1239.45 1528.44 Q1240.81 1526.43 1242.87 1525.36 Q1244.93 1524.27 1247.41 1524.27 Q1252.62 1524.27 1255.63 1527.44 Q1258.66 1530.59 1258.66 1536.03 Q1258.66 1541.36 1255.51 1544.57 Q1252.36 1547.79 1247.13 1547.79 Q1241.14 1547.79 1237.96 1543.21 Q1234.79 1538.6 1234.79 1529.87 Q1234.79 1521.68 1238.68 1516.82 Q1242.57 1511.93 1249.12 1511.93 Q1250.88 1511.93 1252.66 1512.28 Q1254.47 1512.63 1256.41 1513.32 Z\" fill=\"#000000\" fill-rule=\"evenodd\" fill-opacity=\"1\" /><path clip-path=\"url(#clip040)\" d=\"M 0 0 M1730.13 1512.56 L1752.35 1512.56 L1752.35 1514.55 L1739.8 1547.12 L1734.92 1547.12 L1746.73 1516.5 L1730.13 1516.5 L1730.13 1512.56 Z\" fill=\"#000000\" fill-rule=\"evenodd\" fill-opacity=\"1\" /><path clip-path=\"url(#clip040)\" d=\"M 0 0 M2235.75 1530.71 Q2232.42 1530.71 2230.5 1532.49 Q2228.6 1534.27 2228.6 1537.4 Q2228.6 1540.52 2230.5 1542.31 Q2232.42 1544.09 2235.75 1544.09 Q2239.09 1544.09 2241.01 1542.31 Q2242.93 1540.5 2242.93 1537.4 Q2242.93 1534.27 2241.01 1532.49 Q2239.11 1530.71 2235.75 1530.71 M2231.08 1528.72 Q2228.07 1527.98 2226.38 1525.92 Q2224.71 1523.86 2224.71 1520.89 Q2224.71 1516.75 2227.65 1514.34 Q2230.62 1511.93 2235.75 1511.93 Q2240.92 1511.93 2243.86 1514.34 Q2246.8 1516.75 2246.8 1520.89 Q2246.8 1523.86 2245.11 1525.92 Q2243.44 1527.98 2240.45 1528.72 Q2243.83 1529.5 2245.71 1531.8 Q2247.61 1534.09 2247.61 1537.4 Q2247.61 1542.42 2244.53 1545.11 Q2241.47 1547.79 2235.75 1547.79 Q2230.04 1547.79 2226.96 1545.11 Q2223.9 1542.42 2223.9 1537.4 Q2223.9 1534.09 2225.8 1531.8 Q2227.7 1529.5 2231.08 1528.72 M2229.37 1521.33 Q2229.37 1524.02 2231.03 1525.52 Q2232.72 1527.03 2235.75 1527.03 Q2238.76 1527.03 2240.45 1525.52 Q2242.17 1524.02 2242.17 1521.33 Q2242.17 1518.65 2240.45 1517.14 Q2238.76 1515.64 2235.75 1515.64 Q2232.72 1515.64 2231.03 1517.14 Q2229.37 1518.65 2229.37 1521.33 Z\" fill=\"#000000\" fill-rule=\"evenodd\" fill-opacity=\"1\" /><polyline clip-path=\"url(#clip042)\" style=\"stroke:#000000; stroke-width:2; stroke-opacity:0.1; fill:none\" points=\"\n",
       "  140.696,1445.72 2352.76,1445.72 \n",
       "  \"/>\n",
       "<polyline clip-path=\"url(#clip042)\" style=\"stroke:#000000; stroke-width:2; stroke-opacity:0.1; fill:none\" points=\"\n",
       "  140.696,1174.17 2352.76,1174.17 \n",
       "  \"/>\n",
       "<polyline clip-path=\"url(#clip042)\" style=\"stroke:#000000; stroke-width:2; stroke-opacity:0.1; fill:none\" points=\"\n",
       "  140.696,902.62 2352.76,902.62 \n",
       "  \"/>\n",
       "<polyline clip-path=\"url(#clip042)\" style=\"stroke:#000000; stroke-width:2; stroke-opacity:0.1; fill:none\" points=\"\n",
       "  140.696,631.072 2352.76,631.072 \n",
       "  \"/>\n",
       "<polyline clip-path=\"url(#clip042)\" style=\"stroke:#000000; stroke-width:2; stroke-opacity:0.1; fill:none\" points=\"\n",
       "  140.696,359.524 2352.76,359.524 \n",
       "  \"/>\n",
       "<polyline clip-path=\"url(#clip042)\" style=\"stroke:#000000; stroke-width:2; stroke-opacity:0.1; fill:none\" points=\"\n",
       "  140.696,87.9763 2352.76,87.9763 \n",
       "  \"/>\n",
       "<polyline clip-path=\"url(#clip040)\" style=\"stroke:#000000; stroke-width:4; stroke-opacity:1; fill:none\" points=\"\n",
       "  140.696,1486.45 140.696,47.2441 \n",
       "  \"/>\n",
       "<polyline clip-path=\"url(#clip040)\" style=\"stroke:#000000; stroke-width:4; stroke-opacity:1; fill:none\" points=\"\n",
       "  140.696,1445.72 167.24,1445.72 \n",
       "  \"/>\n",
       "<polyline clip-path=\"url(#clip040)\" style=\"stroke:#000000; stroke-width:4; stroke-opacity:1; fill:none\" points=\"\n",
       "  140.696,1174.17 167.24,1174.17 \n",
       "  \"/>\n",
       "<polyline clip-path=\"url(#clip040)\" style=\"stroke:#000000; stroke-width:4; stroke-opacity:1; fill:none\" points=\"\n",
       "  140.696,902.62 167.24,902.62 \n",
       "  \"/>\n",
       "<polyline clip-path=\"url(#clip040)\" style=\"stroke:#000000; stroke-width:4; stroke-opacity:1; fill:none\" points=\"\n",
       "  140.696,631.072 167.24,631.072 \n",
       "  \"/>\n",
       "<polyline clip-path=\"url(#clip040)\" style=\"stroke:#000000; stroke-width:4; stroke-opacity:1; fill:none\" points=\"\n",
       "  140.696,359.524 167.24,359.524 \n",
       "  \"/>\n",
       "<polyline clip-path=\"url(#clip040)\" style=\"stroke:#000000; stroke-width:4; stroke-opacity:1; fill:none\" points=\"\n",
       "  140.696,87.9763 167.24,87.9763 \n",
       "  \"/>\n",
       "<path clip-path=\"url(#clip040)\" d=\"M 0 0 M92.7512 1431.51 Q89.1401 1431.51 87.3114 1435.08 Q85.5058 1438.62 85.5058 1445.75 Q85.5058 1452.86 87.3114 1456.42 Q89.1401 1459.96 92.7512 1459.96 Q96.3854 1459.96 98.1909 1456.42 Q100.02 1452.86 100.02 1445.75 Q100.02 1438.62 98.1909 1435.08 Q96.3854 1431.51 92.7512 1431.51 M92.7512 1427.81 Q98.5613 1427.81 101.617 1432.42 Q104.696 1437 104.696 1445.75 Q104.696 1454.48 101.617 1459.08 Q98.5613 1463.67 92.7512 1463.67 Q86.941 1463.67 83.8623 1459.08 Q80.8068 1454.48 80.8068 1445.75 Q80.8068 1437 83.8623 1432.42 Q86.941 1427.81 92.7512 1427.81 Z\" fill=\"#000000\" fill-rule=\"evenodd\" fill-opacity=\"1\" /><path clip-path=\"url(#clip040)\" d=\"M 0 0 M83.7929 1156.89 L102.149 1156.89 L102.149 1160.82 L88.0753 1160.82 L88.0753 1169.3 Q89.0938 1168.95 90.1123 1168.79 Q91.1308 1168.6 92.1493 1168.6 Q97.9363 1168.6 101.316 1171.77 Q104.696 1174.94 104.696 1180.36 Q104.696 1185.94 101.223 1189.04 Q97.7511 1192.12 91.4317 1192.12 Q89.2558 1192.12 86.9873 1191.75 Q84.7419 1191.38 82.3346 1190.64 L82.3346 1185.94 Q84.4179 1187.07 86.6401 1187.63 Q88.8623 1188.18 91.3391 1188.18 Q95.3437 1188.18 97.6817 1186.08 Q100.02 1183.97 100.02 1180.36 Q100.02 1176.75 97.6817 1174.64 Q95.3437 1172.54 91.3391 1172.54 Q89.4641 1172.54 87.5892 1172.95 Q85.7373 1173.37 83.7929 1174.25 L83.7929 1156.89 Z\" fill=\"#000000\" fill-rule=\"evenodd\" fill-opacity=\"1\" /><path clip-path=\"url(#clip040)\" d=\"M 0 0 M53.3995 915.965 L61.0384 915.965 L61.0384 889.599 L52.7282 891.266 L52.7282 887.007 L60.9921 885.34 L65.668 885.34 L65.668 915.965 L73.3068 915.965 L73.3068 919.9 L53.3995 919.9 L53.3995 915.965 Z\" fill=\"#000000\" fill-rule=\"evenodd\" fill-opacity=\"1\" /><path clip-path=\"url(#clip040)\" d=\"M 0 0 M92.7512 888.419 Q89.1401 888.419 87.3114 891.983 Q85.5058 895.525 85.5058 902.655 Q85.5058 909.761 87.3114 913.326 Q89.1401 916.868 92.7512 916.868 Q96.3854 916.868 98.1909 913.326 Q100.02 909.761 100.02 902.655 Q100.02 895.525 98.1909 891.983 Q96.3854 888.419 92.7512 888.419 M92.7512 884.715 Q98.5613 884.715 101.617 889.321 Q104.696 893.905 104.696 902.655 Q104.696 911.381 101.617 915.988 Q98.5613 920.571 92.7512 920.571 Q86.941 920.571 83.8623 915.988 Q80.8068 911.381 80.8068 902.655 Q80.8068 893.905 83.8623 889.321 Q86.941 884.715 92.7512 884.715 Z\" fill=\"#000000\" fill-rule=\"evenodd\" fill-opacity=\"1\" /><path clip-path=\"url(#clip040)\" d=\"M 0 0 M54.3949 644.417 L62.0337 644.417 L62.0337 618.051 L53.7236 619.718 L53.7236 615.459 L61.9874 613.792 L66.6633 613.792 L66.6633 644.417 L74.3022 644.417 L74.3022 648.352 L54.3949 648.352 L54.3949 644.417 Z\" fill=\"#000000\" fill-rule=\"evenodd\" fill-opacity=\"1\" /><path clip-path=\"url(#clip040)\" d=\"M 0 0 M83.7929 613.792 L102.149 613.792 L102.149 617.727 L88.0753 617.727 L88.0753 626.199 Q89.0938 625.852 90.1123 625.69 Q91.1308 625.505 92.1493 625.505 Q97.9363 625.505 101.316 628.676 Q104.696 631.848 104.696 637.264 Q104.696 642.843 101.223 645.945 Q97.7511 649.023 91.4317 649.023 Q89.2558 649.023 86.9873 648.653 Q84.7419 648.283 82.3346 647.542 L82.3346 642.843 Q84.4179 643.977 86.6401 644.533 Q88.8623 645.088 91.3391 645.088 Q95.3437 645.088 97.6817 642.982 Q100.02 640.875 100.02 637.264 Q100.02 633.653 97.6817 631.547 Q95.3437 629.44 91.3391 629.44 Q89.4641 629.44 87.5892 629.857 Q85.7373 630.273 83.7929 631.153 L83.7929 613.792 Z\" fill=\"#000000\" fill-rule=\"evenodd\" fill-opacity=\"1\" /><path clip-path=\"url(#clip040)\" d=\"M 0 0 M56.6171 372.869 L72.9365 372.869 L72.9365 376.804 L50.9921 376.804 L50.9921 372.869 Q53.6541 370.114 58.2375 365.485 Q62.8439 360.832 64.0245 359.489 Q66.2698 356.966 67.1494 355.23 Q68.0522 353.471 68.0522 351.781 Q68.0522 349.027 66.1078 347.29 Q64.1865 345.554 61.0847 345.554 Q58.8856 345.554 56.4319 346.318 Q54.0014 347.082 51.2236 348.633 L51.2236 343.911 Q54.0477 342.777 56.5014 342.198 Q58.955 341.619 60.9921 341.619 Q66.3624 341.619 69.5568 344.304 Q72.7513 346.99 72.7513 351.48 Q72.7513 353.61 71.9411 355.531 Q71.1541 357.429 69.0476 360.022 Q68.4689 360.693 65.367 363.911 Q62.2652 367.105 56.6171 372.869 Z\" fill=\"#000000\" fill-rule=\"evenodd\" fill-opacity=\"1\" /><path clip-path=\"url(#clip040)\" d=\"M 0 0 M92.7512 345.323 Q89.1401 345.323 87.3114 348.888 Q85.5058 352.429 85.5058 359.559 Q85.5058 366.665 87.3114 370.23 Q89.1401 373.772 92.7512 373.772 Q96.3854 373.772 98.1909 370.23 Q100.02 366.665 100.02 359.559 Q100.02 352.429 98.1909 348.888 Q96.3854 345.323 92.7512 345.323 M92.7512 341.619 Q98.5613 341.619 101.617 346.226 Q104.696 350.809 104.696 359.559 Q104.696 368.286 101.617 372.892 Q98.5613 377.475 92.7512 377.475 Q86.941 377.475 83.8623 372.892 Q80.8068 368.286 80.8068 359.559 Q80.8068 350.809 83.8623 346.226 Q86.941 341.619 92.7512 341.619 Z\" fill=\"#000000\" fill-rule=\"evenodd\" fill-opacity=\"1\" /><path clip-path=\"url(#clip040)\" d=\"M 0 0 M57.6125 101.321 L73.9318 101.321 L73.9318 105.256 L51.9875 105.256 L51.9875 101.321 Q54.6495 98.5665 59.2328 93.9369 Q63.8393 89.2841 65.0198 87.9416 Q67.2652 85.4184 68.1448 83.6823 Q69.0476 81.9231 69.0476 80.2333 Q69.0476 77.4786 67.1032 75.7425 Q65.1819 74.0064 62.08 74.0064 Q59.881 74.0064 57.4273 74.7703 Q54.9967 75.5342 52.219 77.0851 L52.219 72.3629 Q55.043 71.2287 57.4967 70.65 Q59.9504 70.0713 61.9874 70.0713 Q67.3578 70.0713 70.5522 72.7565 Q73.7466 75.4416 73.7466 79.9323 Q73.7466 82.062 72.9365 83.9832 Q72.1494 85.8814 70.0429 88.474 Q69.4642 89.1453 66.3624 92.3628 Q63.2606 95.5573 57.6125 101.321 Z\" fill=\"#000000\" fill-rule=\"evenodd\" fill-opacity=\"1\" /><path clip-path=\"url(#clip040)\" d=\"M 0 0 M83.7929 70.6963 L102.149 70.6963 L102.149 74.6314 L88.0753 74.6314 L88.0753 83.1036 Q89.0938 82.7564 90.1123 82.5944 Q91.1308 82.4092 92.1493 82.4092 Q97.9363 82.4092 101.316 85.5805 Q104.696 88.7517 104.696 94.1684 Q104.696 99.747 101.223 102.849 Q97.7511 105.928 91.4317 105.928 Q89.2558 105.928 86.9873 105.557 Q84.7419 105.187 82.3346 104.446 L82.3346 99.747 Q84.4179 100.881 86.6401 101.437 Q88.8623 101.992 91.3391 101.992 Q95.3437 101.992 97.6817 99.8859 Q100.02 97.7795 100.02 94.1684 Q100.02 90.5573 97.6817 88.4508 Q95.3437 86.3443 91.3391 86.3443 Q89.4641 86.3443 87.5892 86.761 Q85.7373 87.1777 83.7929 88.0573 L83.7929 70.6963 Z\" fill=\"#000000\" fill-rule=\"evenodd\" fill-opacity=\"1\" /><path clip-path=\"url(#clip042)\" d=\"\n",
       "M257.698 1228.48 L257.698 1445.72 L340.117 1445.72 L340.117 1228.48 L257.698 1228.48 L257.698 1228.48  Z\n",
       "  \" fill=\"#009af9\" fill-rule=\"evenodd\" fill-opacity=\"1\"/>\n",
       "<polyline clip-path=\"url(#clip042)\" style=\"stroke:#000000; stroke-width:4; stroke-opacity:1; fill:none\" points=\"\n",
       "  257.698,1228.48 257.698,1445.72 340.117,1445.72 340.117,1228.48 257.698,1228.48 \n",
       "  \"/>\n",
       "<path clip-path=\"url(#clip042)\" d=\"\n",
       "M504.955 576.762 L504.955 1445.72 L587.374 1445.72 L587.374 576.762 L504.955 576.762 L504.955 576.762  Z\n",
       "  \" fill=\"#009af9\" fill-rule=\"evenodd\" fill-opacity=\"1\"/>\n",
       "<polyline clip-path=\"url(#clip042)\" style=\"stroke:#000000; stroke-width:4; stroke-opacity:1; fill:none\" points=\"\n",
       "  504.955,576.762 504.955,1445.72 587.374,1445.72 587.374,576.762 504.955,576.762 \n",
       "  \"/>\n",
       "<path clip-path=\"url(#clip042)\" d=\"\n",
       "M752.212 87.9763 L752.212 1445.72 L834.631 1445.72 L834.631 87.9763 L752.212 87.9763 L752.212 87.9763  Z\n",
       "  \" fill=\"#009af9\" fill-rule=\"evenodd\" fill-opacity=\"1\"/>\n",
       "<polyline clip-path=\"url(#clip042)\" style=\"stroke:#000000; stroke-width:4; stroke-opacity:1; fill:none\" points=\"\n",
       "  752.212,87.9763 752.212,1445.72 834.631,1445.72 834.631,87.9763 752.212,87.9763 \n",
       "  \"/>\n",
       "<path clip-path=\"url(#clip042)\" d=\"\n",
       "M999.469 1174.17 L999.469 1445.72 L1081.89 1445.72 L1081.89 1174.17 L999.469 1174.17 L999.469 1174.17  Z\n",
       "  \" fill=\"#009af9\" fill-rule=\"evenodd\" fill-opacity=\"1\"/>\n",
       "<polyline clip-path=\"url(#clip042)\" style=\"stroke:#000000; stroke-width:4; stroke-opacity:1; fill:none\" points=\"\n",
       "  999.469,1174.17 999.469,1445.72 1081.89,1445.72 1081.89,1174.17 999.469,1174.17 \n",
       "  \"/>\n",
       "<path clip-path=\"url(#clip042)\" d=\"\n",
       "M1246.73 1445.72 L1246.73 1445.72 L1329.14 1445.72 L1329.14 1445.72 L1246.73 1445.72 L1246.73 1445.72  Z\n",
       "  \" fill=\"#009af9\" fill-rule=\"evenodd\" fill-opacity=\"1\"/>\n",
       "<polyline clip-path=\"url(#clip042)\" style=\"stroke:#000000; stroke-width:4; stroke-opacity:1; fill:none\" points=\"\n",
       "  1246.73,1445.72 1246.73,1445.72 1329.14,1445.72 1246.73,1445.72 \n",
       "  \"/>\n",
       "<path clip-path=\"url(#clip042)\" d=\"\n",
       "M1493.98 1445.72 L1493.98 1445.72 L1576.4 1445.72 L1576.4 1445.72 L1493.98 1445.72 L1493.98 1445.72  Z\n",
       "  \" fill=\"#009af9\" fill-rule=\"evenodd\" fill-opacity=\"1\"/>\n",
       "<polyline clip-path=\"url(#clip042)\" style=\"stroke:#000000; stroke-width:4; stroke-opacity:1; fill:none\" points=\"\n",
       "  1493.98,1445.72 1493.98,1445.72 1576.4,1445.72 1493.98,1445.72 \n",
       "  \"/>\n",
       "<path clip-path=\"url(#clip042)\" d=\"\n",
       "M1741.24 1445.72 L1741.24 1445.72 L1823.66 1445.72 L1823.66 1445.72 L1741.24 1445.72 L1741.24 1445.72  Z\n",
       "  \" fill=\"#009af9\" fill-rule=\"evenodd\" fill-opacity=\"1\"/>\n",
       "<polyline clip-path=\"url(#clip042)\" style=\"stroke:#000000; stroke-width:4; stroke-opacity:1; fill:none\" points=\"\n",
       "  1741.24,1445.72 1741.24,1445.72 1823.66,1445.72 1741.24,1445.72 \n",
       "  \"/>\n",
       "<path clip-path=\"url(#clip042)\" d=\"\n",
       "M1988.5 1445.72 L1988.5 1445.72 L2070.92 1445.72 L2070.92 1445.72 L1988.5 1445.72 L1988.5 1445.72  Z\n",
       "  \" fill=\"#009af9\" fill-rule=\"evenodd\" fill-opacity=\"1\"/>\n",
       "<polyline clip-path=\"url(#clip042)\" style=\"stroke:#000000; stroke-width:4; stroke-opacity:1; fill:none\" points=\"\n",
       "  1988.5,1445.72 1988.5,1445.72 2070.92,1445.72 1988.5,1445.72 \n",
       "  \"/>\n",
       "<path clip-path=\"url(#clip042)\" d=\"\n",
       "M340.117 1445.72 L340.117 1445.72 L422.536 1445.72 L422.536 1445.72 L340.117 1445.72 L340.117 1445.72  Z\n",
       "  \" fill=\"#e26f46\" fill-rule=\"evenodd\" fill-opacity=\"1\"/>\n",
       "<polyline clip-path=\"url(#clip042)\" style=\"stroke:#000000; stroke-width:4; stroke-opacity:1; fill:none\" points=\"\n",
       "  340.117,1445.72 340.117,1445.72 422.536,1445.72 340.117,1445.72 \n",
       "  \"/>\n",
       "<path clip-path=\"url(#clip042)\" d=\"\n",
       "M587.374 1391.41 L587.374 1445.72 L669.793 1445.72 L669.793 1391.41 L587.374 1391.41 L587.374 1391.41  Z\n",
       "  \" fill=\"#e26f46\" fill-rule=\"evenodd\" fill-opacity=\"1\"/>\n",
       "<polyline clip-path=\"url(#clip042)\" style=\"stroke:#000000; stroke-width:4; stroke-opacity:1; fill:none\" points=\"\n",
       "  587.374,1391.41 587.374,1445.72 669.793,1445.72 669.793,1391.41 587.374,1391.41 \n",
       "  \"/>\n",
       "<path clip-path=\"url(#clip042)\" d=\"\n",
       "M834.631 1174.17 L834.631 1445.72 L917.05 1445.72 L917.05 1174.17 L834.631 1174.17 L834.631 1174.17  Z\n",
       "  \" fill=\"#e26f46\" fill-rule=\"evenodd\" fill-opacity=\"1\"/>\n",
       "<polyline clip-path=\"url(#clip042)\" style=\"stroke:#000000; stroke-width:4; stroke-opacity:1; fill:none\" points=\"\n",
       "  834.631,1174.17 834.631,1445.72 917.05,1445.72 917.05,1174.17 834.631,1174.17 \n",
       "  \"/>\n",
       "<path clip-path=\"url(#clip042)\" d=\"\n",
       "M1081.89 359.524 L1081.89 1445.72 L1164.31 1445.72 L1164.31 359.524 L1081.89 359.524 L1081.89 359.524  Z\n",
       "  \" fill=\"#e26f46\" fill-rule=\"evenodd\" fill-opacity=\"1\"/>\n",
       "<polyline clip-path=\"url(#clip042)\" style=\"stroke:#000000; stroke-width:4; stroke-opacity:1; fill:none\" points=\"\n",
       "  1081.89,359.524 1081.89,1445.72 1164.31,1445.72 1164.31,359.524 1081.89,359.524 \n",
       "  \"/>\n",
       "<path clip-path=\"url(#clip042)\" d=\"\n",
       "M1329.14 631.072 L1329.14 1445.72 L1411.56 1445.72 L1411.56 631.072 L1329.14 631.072 L1329.14 631.072  Z\n",
       "  \" fill=\"#e26f46\" fill-rule=\"evenodd\" fill-opacity=\"1\"/>\n",
       "<polyline clip-path=\"url(#clip042)\" style=\"stroke:#000000; stroke-width:4; stroke-opacity:1; fill:none\" points=\"\n",
       "  1329.14,631.072 1329.14,1445.72 1411.56,1445.72 1411.56,631.072 1329.14,631.072 \n",
       "  \"/>\n",
       "<path clip-path=\"url(#clip042)\" d=\"\n",
       "M1576.4 1011.24 L1576.4 1445.72 L1658.82 1445.72 L1658.82 1011.24 L1576.4 1011.24 L1576.4 1011.24  Z\n",
       "  \" fill=\"#e26f46\" fill-rule=\"evenodd\" fill-opacity=\"1\"/>\n",
       "<polyline clip-path=\"url(#clip042)\" style=\"stroke:#000000; stroke-width:4; stroke-opacity:1; fill:none\" points=\"\n",
       "  1576.4,1011.24 1576.4,1445.72 1658.82,1445.72 1658.82,1011.24 1576.4,1011.24 \n",
       "  \"/>\n",
       "<path clip-path=\"url(#clip042)\" d=\"\n",
       "M1823.66 1391.41 L1823.66 1445.72 L1906.08 1445.72 L1906.08 1391.41 L1823.66 1391.41 L1823.66 1391.41  Z\n",
       "  \" fill=\"#e26f46\" fill-rule=\"evenodd\" fill-opacity=\"1\"/>\n",
       "<polyline clip-path=\"url(#clip042)\" style=\"stroke:#000000; stroke-width:4; stroke-opacity:1; fill:none\" points=\"\n",
       "  1823.66,1391.41 1823.66,1445.72 1906.08,1445.72 1906.08,1391.41 1823.66,1391.41 \n",
       "  \"/>\n",
       "<path clip-path=\"url(#clip042)\" d=\"\n",
       "M2070.92 1445.72 L2070.92 1445.72 L2153.33 1445.72 L2153.33 1445.72 L2070.92 1445.72 L2070.92 1445.72  Z\n",
       "  \" fill=\"#e26f46\" fill-rule=\"evenodd\" fill-opacity=\"1\"/>\n",
       "<polyline clip-path=\"url(#clip042)\" style=\"stroke:#000000; stroke-width:4; stroke-opacity:1; fill:none\" points=\"\n",
       "  2070.92,1445.72 2070.92,1445.72 2153.33,1445.72 2070.92,1445.72 \n",
       "  \"/>\n",
       "<path clip-path=\"url(#clip042)\" d=\"\n",
       "M422.536 1445.72 L422.536 1445.72 L504.955 1445.72 L504.955 1445.72 L422.536 1445.72 L422.536 1445.72  Z\n",
       "  \" fill=\"#3da44d\" fill-rule=\"evenodd\" fill-opacity=\"1\"/>\n",
       "<polyline clip-path=\"url(#clip042)\" style=\"stroke:#000000; stroke-width:4; stroke-opacity:1; fill:none\" points=\"\n",
       "  422.536,1445.72 422.536,1445.72 504.955,1445.72 422.536,1445.72 \n",
       "  \"/>\n",
       "<path clip-path=\"url(#clip042)\" d=\"\n",
       "M669.793 1391.41 L669.793 1445.72 L752.212 1445.72 L752.212 1391.41 L669.793 1391.41 L669.793 1391.41  Z\n",
       "  \" fill=\"#3da44d\" fill-rule=\"evenodd\" fill-opacity=\"1\"/>\n",
       "<polyline clip-path=\"url(#clip042)\" style=\"stroke:#000000; stroke-width:4; stroke-opacity:1; fill:none\" points=\"\n",
       "  669.793,1391.41 669.793,1445.72 752.212,1445.72 752.212,1391.41 669.793,1391.41 \n",
       "  \"/>\n",
       "<path clip-path=\"url(#clip042)\" d=\"\n",
       "M917.05 1445.72 L917.05 1445.72 L999.469 1445.72 L999.469 1445.72 L917.05 1445.72 L917.05 1445.72  Z\n",
       "  \" fill=\"#3da44d\" fill-rule=\"evenodd\" fill-opacity=\"1\"/>\n",
       "<polyline clip-path=\"url(#clip042)\" style=\"stroke:#000000; stroke-width:4; stroke-opacity:1; fill:none\" points=\"\n",
       "  917.05,1445.72 917.05,1445.72 999.469,1445.72 917.05,1445.72 \n",
       "  \"/>\n",
       "<path clip-path=\"url(#clip042)\" d=\"\n",
       "M1164.31 1119.86 L1164.31 1445.72 L1246.73 1445.72 L1246.73 1119.86 L1164.31 1119.86 L1164.31 1119.86  Z\n",
       "  \" fill=\"#3da44d\" fill-rule=\"evenodd\" fill-opacity=\"1\"/>\n",
       "<polyline clip-path=\"url(#clip042)\" style=\"stroke:#000000; stroke-width:4; stroke-opacity:1; fill:none\" points=\"\n",
       "  1164.31,1119.86 1164.31,1445.72 1246.73,1445.72 1246.73,1119.86 1164.31,1119.86 \n",
       "  \"/>\n",
       "<path clip-path=\"url(#clip042)\" d=\"\n",
       "M1411.56 522.453 L1411.56 1445.72 L1493.98 1445.72 L1493.98 522.453 L1411.56 522.453 L1411.56 522.453  Z\n",
       "  \" fill=\"#3da44d\" fill-rule=\"evenodd\" fill-opacity=\"1\"/>\n",
       "<polyline clip-path=\"url(#clip042)\" style=\"stroke:#000000; stroke-width:4; stroke-opacity:1; fill:none\" points=\"\n",
       "  1411.56,522.453 1411.56,1445.72 1493.98,1445.72 1493.98,522.453 1411.56,522.453 \n",
       "  \"/>\n",
       "<path clip-path=\"url(#clip042)\" d=\"\n",
       "M1658.82 685.382 L1658.82 1445.72 L1741.24 1445.72 L1741.24 685.382 L1658.82 685.382 L1658.82 685.382  Z\n",
       "  \" fill=\"#3da44d\" fill-rule=\"evenodd\" fill-opacity=\"1\"/>\n",
       "<polyline clip-path=\"url(#clip042)\" style=\"stroke:#000000; stroke-width:4; stroke-opacity:1; fill:none\" points=\"\n",
       "  1658.82,685.382 1658.82,1445.72 1741.24,1445.72 1741.24,685.382 1658.82,685.382 \n",
       "  \"/>\n",
       "<path clip-path=\"url(#clip042)\" d=\"\n",
       "M1906.08 1119.86 L1906.08 1445.72 L1988.5 1445.72 L1988.5 1119.86 L1906.08 1119.86 L1906.08 1119.86  Z\n",
       "  \" fill=\"#3da44d\" fill-rule=\"evenodd\" fill-opacity=\"1\"/>\n",
       "<polyline clip-path=\"url(#clip042)\" style=\"stroke:#000000; stroke-width:4; stroke-opacity:1; fill:none\" points=\"\n",
       "  1906.08,1119.86 1906.08,1445.72 1988.5,1445.72 1988.5,1119.86 1906.08,1119.86 \n",
       "  \"/>\n",
       "<path clip-path=\"url(#clip042)\" d=\"\n",
       "M2153.33 1119.86 L2153.33 1445.72 L2235.75 1445.72 L2235.75 1119.86 L2153.33 1119.86 L2153.33 1119.86  Z\n",
       "  \" fill=\"#3da44d\" fill-rule=\"evenodd\" fill-opacity=\"1\"/>\n",
       "<polyline clip-path=\"url(#clip042)\" style=\"stroke:#000000; stroke-width:4; stroke-opacity:1; fill:none\" points=\"\n",
       "  2153.33,1119.86 2153.33,1445.72 2235.75,1445.72 2235.75,1119.86 2153.33,1119.86 \n",
       "  \"/>\n",
       "<path clip-path=\"url(#clip040)\" d=\"\n",
       "M1803.33 337.138 L2279.02 337.138 L2279.02 95.2176 L1803.33 95.2176  Z\n",
       "  \" fill=\"#ffffff\" fill-rule=\"evenodd\" fill-opacity=\"1\"/>\n",
       "<polyline clip-path=\"url(#clip040)\" style=\"stroke:#000000; stroke-width:4; stroke-opacity:1; fill:none\" points=\"\n",
       "  1803.33,337.138 2279.02,337.138 2279.02,95.2176 1803.33,95.2176 1803.33,337.138 \n",
       "  \"/>\n",
       "<path clip-path=\"url(#clip040)\" d=\"\n",
       "M1827.91 179.89 L1975.38 179.89 L1975.38 131.506 L1827.91 131.506 L1827.91 179.89  Z\n",
       "  \" fill=\"#009af9\" fill-rule=\"evenodd\" fill-opacity=\"1\"/>\n",
       "<polyline clip-path=\"url(#clip040)\" style=\"stroke:#000000; stroke-width:4; stroke-opacity:1; fill:none\" points=\"\n",
       "  1827.91,179.89 1975.38,179.89 1975.38,131.506 1827.91,131.506 1827.91,179.89 \n",
       "  \"/>\n",
       "<path clip-path=\"url(#clip040)\" d=\"M 0 0 M2018.38 147.816 L2018.38 151.843 Q2016.58 150.917 2014.63 150.455 Q2012.69 149.992 2010.61 149.992 Q2007.43 149.992 2005.84 150.964 Q2004.26 151.936 2004.26 153.88 Q2004.26 155.362 2005.4 156.218 Q2006.53 157.052 2009.96 157.816 L2011.42 158.14 Q2015.95 159.112 2017.85 160.894 Q2019.77 162.654 2019.77 165.825 Q2019.77 169.436 2016.9 171.542 Q2014.05 173.649 2009.05 173.649 Q2006.97 173.649 2004.7 173.232 Q2002.46 172.839 1999.96 172.028 L1999.96 167.63 Q2002.32 168.857 2004.61 169.482 Q2006.9 170.084 2009.15 170.084 Q2012.16 170.084 2013.78 169.066 Q2015.4 168.024 2015.4 166.149 Q2015.4 164.413 2014.22 163.487 Q2013.06 162.561 2009.1 161.704 L2007.62 161.357 Q2003.66 160.524 2001.9 158.811 Q2000.14 157.075 2000.14 154.066 Q2000.14 150.408 2002.74 148.418 Q2005.33 146.427 2010.1 146.427 Q2012.46 146.427 2014.54 146.774 Q2016.62 147.121 2018.38 147.816 Z\" fill=\"#000000\" fill-rule=\"evenodd\" fill-opacity=\"1\" /><path clip-path=\"url(#clip040)\" d=\"M 0 0 M2048.73 158.95 L2048.73 161.033 L2029.15 161.033 Q2029.42 165.431 2031.79 167.746 Q2034.17 170.038 2038.41 170.038 Q2040.86 170.038 2043.15 169.436 Q2045.47 168.834 2047.74 167.63 L2047.74 171.658 Q2045.44 172.63 2043.04 173.14 Q2040.63 173.649 2038.15 173.649 Q2031.95 173.649 2028.31 170.038 Q2024.7 166.427 2024.7 160.269 Q2024.7 153.904 2028.13 150.177 Q2031.58 146.427 2037.41 146.427 Q2042.64 146.427 2045.67 149.806 Q2048.73 153.163 2048.73 158.95 M2044.47 157.7 Q2044.42 154.205 2042.5 152.121 Q2040.61 150.038 2037.46 150.038 Q2033.89 150.038 2031.74 152.052 Q2029.61 154.066 2029.29 157.723 L2044.47 157.7 Z\" fill=\"#000000\" fill-rule=\"evenodd\" fill-opacity=\"1\" /><path clip-path=\"url(#clip040)\" d=\"M 0 0 M2059.93 139.691 L2059.93 147.052 L2068.71 147.052 L2068.71 150.362 L2059.93 150.362 L2059.93 164.436 Q2059.93 167.607 2060.79 168.51 Q2061.67 169.413 2064.33 169.413 L2068.71 169.413 L2068.71 172.978 L2064.33 172.978 Q2059.4 172.978 2057.53 171.149 Q2055.65 169.297 2055.65 164.436 L2055.65 150.362 L2052.53 150.362 L2052.53 147.052 L2055.65 147.052 L2055.65 139.691 L2059.93 139.691 Z\" fill=\"#000000\" fill-rule=\"evenodd\" fill-opacity=\"1\" /><path clip-path=\"url(#clip040)\" d=\"M 0 0 M2084.36 150.038 Q2080.93 150.038 2078.94 152.723 Q2076.95 155.385 2076.95 160.038 Q2076.95 164.691 2078.92 167.376 Q2080.91 170.038 2084.36 170.038 Q2087.76 170.038 2089.75 167.353 Q2091.74 164.667 2091.74 160.038 Q2091.74 155.431 2089.75 152.746 Q2087.76 150.038 2084.36 150.038 M2084.36 146.427 Q2089.91 146.427 2093.08 150.038 Q2096.25 153.649 2096.25 160.038 Q2096.25 166.404 2093.08 170.038 Q2089.91 173.649 2084.36 173.649 Q2078.78 173.649 2075.61 170.038 Q2072.46 166.404 2072.46 160.038 Q2072.46 153.649 2075.61 150.038 Q2078.78 146.427 2084.36 146.427 Z\" fill=\"#000000\" fill-rule=\"evenodd\" fill-opacity=\"1\" /><path clip-path=\"url(#clip040)\" d=\"M 0 0 M2119.84 147.816 L2119.84 151.843 Q2118.04 150.917 2116.09 150.455 Q2114.15 149.992 2112.06 149.992 Q2108.89 149.992 2107.29 150.964 Q2105.72 151.936 2105.72 153.88 Q2105.72 155.362 2106.86 156.218 Q2107.99 157.052 2111.42 157.816 L2112.87 158.14 Q2117.41 159.112 2119.31 160.894 Q2121.23 162.654 2121.23 165.825 Q2121.23 169.436 2118.36 171.542 Q2115.51 173.649 2110.51 173.649 Q2108.43 173.649 2106.16 173.232 Q2103.92 172.839 2101.42 172.028 L2101.42 167.63 Q2103.78 168.857 2106.07 169.482 Q2108.36 170.084 2110.61 170.084 Q2113.61 170.084 2115.23 169.066 Q2116.86 168.024 2116.86 166.149 Q2116.86 164.413 2115.67 163.487 Q2114.52 162.561 2110.56 161.704 L2109.08 161.357 Q2105.12 160.524 2103.36 158.811 Q2101.6 157.075 2101.6 154.066 Q2101.6 150.408 2104.19 148.418 Q2106.79 146.427 2111.55 146.427 Q2113.92 146.427 2116 146.774 Q2118.08 147.121 2119.84 147.816 Z\" fill=\"#000000\" fill-rule=\"evenodd\" fill-opacity=\"1\" /><path clip-path=\"url(#clip040)\" d=\"M 0 0 M2139.79 159.945 Q2134.63 159.945 2132.64 161.126 Q2130.65 162.306 2130.65 165.154 Q2130.65 167.422 2132.13 168.765 Q2133.64 170.084 2136.21 170.084 Q2139.75 170.084 2141.88 167.584 Q2144.03 165.061 2144.03 160.894 L2144.03 159.945 L2139.79 159.945 M2148.29 158.186 L2148.29 172.978 L2144.03 172.978 L2144.03 169.042 Q2142.57 171.403 2140.4 172.538 Q2138.22 173.649 2135.07 173.649 Q2131.09 173.649 2128.73 171.427 Q2126.39 169.181 2126.39 165.431 Q2126.39 161.056 2129.31 158.834 Q2132.25 156.612 2138.06 156.612 L2144.03 156.612 L2144.03 156.195 Q2144.03 153.255 2142.09 151.658 Q2140.17 150.038 2136.67 150.038 Q2134.45 150.038 2132.34 150.57 Q2130.23 151.103 2128.29 152.167 L2128.29 148.232 Q2130.63 147.33 2132.83 146.89 Q2135.03 146.427 2137.11 146.427 Q2142.73 146.427 2145.51 149.343 Q2148.29 152.26 2148.29 158.186 Z\" fill=\"#000000\" fill-rule=\"evenodd\" fill-opacity=\"1\" /><path clip-path=\"url(#clip040)\" d=\"\n",
       "M1827.91 240.37 L1975.38 240.37 L1975.38 191.986 L1827.91 191.986 L1827.91 240.37  Z\n",
       "  \" fill=\"#e26f46\" fill-rule=\"evenodd\" fill-opacity=\"1\"/>\n",
       "<polyline clip-path=\"url(#clip040)\" style=\"stroke:#000000; stroke-width:4; stroke-opacity:1; fill:none\" points=\"\n",
       "  1827.91,240.37 1975.38,240.37 1975.38,191.986 1827.91,191.986 1827.91,240.37 \n",
       "  \"/>\n",
       "<path clip-path=\"url(#clip040)\" d=\"M 0 0 M1999.96 207.532 L2004.47 207.532 L2012.57 229.291 L2020.67 207.532 L2025.19 207.532 L2015.47 233.458 L2009.68 233.458 L1999.96 207.532 Z\" fill=\"#000000\" fill-rule=\"evenodd\" fill-opacity=\"1\" /><path clip-path=\"url(#clip040)\" d=\"M 0 0 M2053.24 219.43 L2053.24 221.513 L2033.66 221.513 Q2033.94 225.911 2036.3 228.226 Q2038.68 230.518 2042.92 230.518 Q2045.37 230.518 2047.67 229.916 Q2049.98 229.314 2052.25 228.11 L2052.25 232.138 Q2049.96 233.11 2047.55 233.62 Q2045.14 234.129 2042.67 234.129 Q2036.46 234.129 2032.83 230.518 Q2029.22 226.907 2029.22 220.749 Q2029.22 214.384 2032.64 210.657 Q2036.09 206.907 2041.92 206.907 Q2047.16 206.907 2050.19 210.286 Q2053.24 213.643 2053.24 219.43 M2048.99 218.18 Q2048.94 214.685 2047.02 212.601 Q2045.12 210.518 2041.97 210.518 Q2038.41 210.518 2036.25 212.532 Q2034.12 214.546 2033.8 218.203 L2048.99 218.18 Z\" fill=\"#000000\" fill-rule=\"evenodd\" fill-opacity=\"1\" /><path clip-path=\"url(#clip040)\" d=\"M 0 0 M2075.26 211.513 Q2074.54 211.097 2073.68 210.911 Q2072.85 210.703 2071.83 210.703 Q2068.22 210.703 2066.28 213.064 Q2064.36 215.402 2064.36 219.8 L2064.36 233.458 L2060.07 233.458 L2060.07 207.532 L2064.36 207.532 L2064.36 211.56 Q2065.7 209.198 2067.85 208.064 Q2070 206.907 2073.08 206.907 Q2073.52 206.907 2074.05 206.976 Q2074.59 207.023 2075.23 207.138 L2075.26 211.513 Z\" fill=\"#000000\" fill-rule=\"evenodd\" fill-opacity=\"1\" /><path clip-path=\"url(#clip040)\" d=\"M 0 0 M2096.25 208.296 L2096.25 212.323 Q2094.45 211.397 2092.5 210.935 Q2090.56 210.472 2088.48 210.472 Q2085.3 210.472 2083.71 211.444 Q2082.13 212.416 2082.13 214.36 Q2082.13 215.842 2083.27 216.698 Q2084.4 217.532 2087.83 218.296 L2089.29 218.62 Q2093.82 219.592 2095.72 221.374 Q2097.64 223.134 2097.64 226.305 Q2097.64 229.916 2094.77 232.022 Q2091.92 234.129 2086.92 234.129 Q2084.84 234.129 2082.57 233.712 Q2080.33 233.319 2077.83 232.508 L2077.83 228.11 Q2080.19 229.337 2082.48 229.962 Q2084.77 230.564 2087.02 230.564 Q2090.03 230.564 2091.65 229.546 Q2093.27 228.504 2093.27 226.629 Q2093.27 224.893 2092.09 223.967 Q2090.93 223.041 2086.97 222.184 L2085.49 221.837 Q2081.53 221.004 2079.77 219.291 Q2078.01 217.555 2078.01 214.546 Q2078.01 210.888 2080.61 208.898 Q2083.2 206.907 2087.97 206.907 Q2090.33 206.907 2092.41 207.254 Q2094.49 207.601 2096.25 208.296 Z\" fill=\"#000000\" fill-rule=\"evenodd\" fill-opacity=\"1\" /><path clip-path=\"url(#clip040)\" d=\"M 0 0 M2104.42 207.532 L2108.68 207.532 L2108.68 233.458 L2104.42 233.458 L2104.42 207.532 M2104.42 197.439 L2108.68 197.439 L2108.68 202.833 L2104.42 202.833 L2104.42 197.439 Z\" fill=\"#000000\" fill-rule=\"evenodd\" fill-opacity=\"1\" /><path clip-path=\"url(#clip040)\" d=\"M 0 0 M2136.25 208.527 L2136.25 212.509 Q2134.45 211.513 2132.62 211.027 Q2130.81 210.518 2128.96 210.518 Q2124.82 210.518 2122.53 213.157 Q2120.23 215.772 2120.23 220.518 Q2120.23 225.263 2122.53 227.902 Q2124.82 230.518 2128.96 230.518 Q2130.81 230.518 2132.62 230.032 Q2134.45 229.522 2136.25 228.527 L2136.25 232.462 Q2134.47 233.296 2132.55 233.712 Q2130.65 234.129 2128.5 234.129 Q2122.64 234.129 2119.19 230.448 Q2115.74 226.768 2115.74 220.518 Q2115.74 214.175 2119.22 210.541 Q2122.71 206.907 2128.78 206.907 Q2130.74 206.907 2132.62 207.323 Q2134.49 207.717 2136.25 208.527 Z\" fill=\"#000000\" fill-rule=\"evenodd\" fill-opacity=\"1\" /><path clip-path=\"url(#clip040)\" d=\"M 0 0 M2153.71 210.518 Q2150.28 210.518 2148.29 213.203 Q2146.3 215.865 2146.3 220.518 Q2146.3 225.171 2148.27 227.856 Q2150.26 230.518 2153.71 230.518 Q2157.11 230.518 2159.1 227.833 Q2161.09 225.147 2161.09 220.518 Q2161.09 215.911 2159.1 213.226 Q2157.11 210.518 2153.71 210.518 M2153.71 206.907 Q2159.26 206.907 2162.43 210.518 Q2165.6 214.129 2165.6 220.518 Q2165.6 226.884 2162.43 230.518 Q2159.26 234.129 2153.71 234.129 Q2148.13 234.129 2144.96 230.518 Q2141.81 226.884 2141.81 220.518 Q2141.81 214.129 2144.96 210.518 Q2148.13 206.907 2153.71 206.907 Z\" fill=\"#000000\" fill-rule=\"evenodd\" fill-opacity=\"1\" /><path clip-path=\"url(#clip040)\" d=\"M 0 0 M2172.66 197.439 L2176.92 197.439 L2176.92 233.458 L2172.66 233.458 L2172.66 197.439 Z\" fill=\"#000000\" fill-rule=\"evenodd\" fill-opacity=\"1\" /><path clip-path=\"url(#clip040)\" d=\"M 0 0 M2195.88 210.518 Q2192.46 210.518 2190.47 213.203 Q2188.47 215.865 2188.47 220.518 Q2188.47 225.171 2190.44 227.856 Q2192.43 230.518 2195.88 230.518 Q2199.29 230.518 2201.28 227.833 Q2203.27 225.147 2203.27 220.518 Q2203.27 215.911 2201.28 213.226 Q2199.29 210.518 2195.88 210.518 M2195.88 206.907 Q2201.44 206.907 2204.61 210.518 Q2207.78 214.129 2207.78 220.518 Q2207.78 226.884 2204.61 230.518 Q2201.44 234.129 2195.88 234.129 Q2190.3 234.129 2187.13 230.518 Q2183.98 226.884 2183.98 220.518 Q2183.98 214.129 2187.13 210.518 Q2190.3 206.907 2195.88 206.907 Z\" fill=\"#000000\" fill-rule=\"evenodd\" fill-opacity=\"1\" /><path clip-path=\"url(#clip040)\" d=\"M 0 0 M2229.86 211.513 Q2229.15 211.097 2228.29 210.911 Q2227.46 210.703 2226.44 210.703 Q2222.83 210.703 2220.88 213.064 Q2218.96 215.402 2218.96 219.8 L2218.96 233.458 L2214.68 233.458 L2214.68 207.532 L2218.96 207.532 L2218.96 211.56 Q2220.3 209.198 2222.46 208.064 Q2224.61 206.907 2227.69 206.907 Q2228.13 206.907 2228.66 206.976 Q2229.19 207.023 2229.84 207.138 L2229.86 211.513 Z\" fill=\"#000000\" fill-rule=\"evenodd\" fill-opacity=\"1\" /><path clip-path=\"url(#clip040)\" d=\"\n",
       "M1827.91 300.85 L1975.38 300.85 L1975.38 252.466 L1827.91 252.466 L1827.91 300.85  Z\n",
       "  \" fill=\"#3da44d\" fill-rule=\"evenodd\" fill-opacity=\"1\"/>\n",
       "<polyline clip-path=\"url(#clip040)\" style=\"stroke:#000000; stroke-width:4; stroke-opacity:1; fill:none\" points=\"\n",
       "  1827.91,300.85 1975.38,300.85 1975.38,252.466 1827.91,252.466 1827.91,300.85 \n",
       "  \"/>\n",
       "<path clip-path=\"url(#clip040)\" d=\"M 0 0 M1999.96 268.012 L2004.47 268.012 L2012.57 289.771 L2020.67 268.012 L2025.19 268.012 L2015.47 293.938 L2009.68 293.938 L1999.96 268.012 Z\" fill=\"#000000\" fill-rule=\"evenodd\" fill-opacity=\"1\" /><path clip-path=\"url(#clip040)\" d=\"M 0 0 M2031.07 268.012 L2035.33 268.012 L2035.33 293.938 L2031.07 293.938 L2031.07 268.012 M2031.07 257.919 L2035.33 257.919 L2035.33 263.313 L2031.07 263.313 L2031.07 257.919 Z\" fill=\"#000000\" fill-rule=\"evenodd\" fill-opacity=\"1\" /><path clip-path=\"url(#clip040)\" d=\"M 0 0 M2059.26 271.993 Q2058.55 271.577 2057.69 271.391 Q2056.86 271.183 2055.84 271.183 Q2052.23 271.183 2050.28 273.544 Q2048.36 275.882 2048.36 280.28 L2048.36 293.938 L2044.08 293.938 L2044.08 268.012 L2048.36 268.012 L2048.36 272.04 Q2049.7 269.678 2051.86 268.544 Q2054.01 267.387 2057.09 267.387 Q2057.53 267.387 2058.06 267.456 Q2058.59 267.503 2059.24 267.618 L2059.26 271.993 Z\" fill=\"#000000\" fill-rule=\"evenodd\" fill-opacity=\"1\" /><path clip-path=\"url(#clip040)\" d=\"M 0 0 M2079.96 280.674 Q2079.96 276.044 2078.04 273.498 Q2076.14 270.952 2072.69 270.952 Q2069.26 270.952 2067.34 273.498 Q2065.44 276.044 2065.44 280.674 Q2065.44 285.28 2067.34 287.826 Q2069.26 290.373 2072.69 290.373 Q2076.14 290.373 2078.04 287.826 Q2079.96 285.28 2079.96 280.674 M2084.22 290.72 Q2084.22 297.34 2081.28 300.558 Q2078.34 303.799 2072.27 303.799 Q2070.03 303.799 2068.04 303.451 Q2066.05 303.127 2064.17 302.433 L2064.17 298.289 Q2066.05 299.308 2067.87 299.794 Q2069.7 300.28 2071.6 300.28 Q2075.79 300.28 2077.87 298.081 Q2079.96 295.905 2079.96 291.484 L2079.96 289.377 Q2078.64 291.669 2076.58 292.803 Q2074.52 293.938 2071.65 293.938 Q2066.88 293.938 2063.96 290.303 Q2061.05 286.669 2061.05 280.674 Q2061.05 274.655 2063.96 271.021 Q2066.88 267.387 2071.65 267.387 Q2074.52 267.387 2076.58 268.521 Q2078.64 269.655 2079.96 271.947 L2079.96 268.012 L2084.22 268.012 L2084.22 290.72 Z\" fill=\"#000000\" fill-rule=\"evenodd\" fill-opacity=\"1\" /><path clip-path=\"url(#clip040)\" d=\"M 0 0 M2092.99 268.012 L2097.25 268.012 L2097.25 293.938 L2092.99 293.938 L2092.99 268.012 M2092.99 257.919 L2097.25 257.919 L2097.25 263.313 L2092.99 263.313 L2092.99 257.919 Z\" fill=\"#000000\" fill-rule=\"evenodd\" fill-opacity=\"1\" /><path clip-path=\"url(#clip040)\" d=\"M 0 0 M2127.71 278.289 L2127.71 293.938 L2123.45 293.938 L2123.45 278.428 Q2123.45 274.748 2122.02 272.919 Q2120.58 271.09 2117.71 271.09 Q2114.26 271.09 2112.27 273.29 Q2110.28 275.489 2110.28 279.285 L2110.28 293.938 L2106 293.938 L2106 268.012 L2110.28 268.012 L2110.28 272.04 Q2111.81 269.702 2113.87 268.544 Q2115.95 267.387 2118.66 267.387 Q2123.13 267.387 2125.42 270.165 Q2127.71 272.919 2127.71 278.289 Z\" fill=\"#000000\" fill-rule=\"evenodd\" fill-opacity=\"1\" /><path clip-path=\"url(#clip040)\" d=\"M 0 0 M2136.21 268.012 L2140.47 268.012 L2140.47 293.938 L2136.21 293.938 L2136.21 268.012 M2136.21 257.919 L2140.47 257.919 L2140.47 263.313 L2136.21 263.313 L2136.21 257.919 Z\" fill=\"#000000\" fill-rule=\"evenodd\" fill-opacity=\"1\" /><path clip-path=\"url(#clip040)\" d=\"M 0 0 M2168.04 269.007 L2168.04 272.989 Q2166.23 271.993 2164.4 271.507 Q2162.6 270.998 2160.74 270.998 Q2156.6 270.998 2154.31 273.637 Q2152.02 276.252 2152.02 280.998 Q2152.02 285.743 2154.31 288.382 Q2156.6 290.998 2160.74 290.998 Q2162.6 290.998 2164.4 290.512 Q2166.23 290.002 2168.04 289.007 L2168.04 292.942 Q2166.25 293.776 2164.33 294.192 Q2162.43 294.609 2160.28 294.609 Q2154.42 294.609 2150.98 290.928 Q2147.53 287.248 2147.53 280.998 Q2147.53 274.655 2151 271.021 Q2154.49 267.387 2160.56 267.387 Q2162.53 267.387 2164.4 267.803 Q2166.28 268.197 2168.04 269.007 Z\" fill=\"#000000\" fill-rule=\"evenodd\" fill-opacity=\"1\" /><path clip-path=\"url(#clip040)\" d=\"M 0 0 M2187.23 280.905 Q2182.06 280.905 2180.07 282.086 Q2178.08 283.266 2178.08 286.114 Q2178.08 288.382 2179.56 289.725 Q2181.07 291.044 2183.64 291.044 Q2187.18 291.044 2189.31 288.544 Q2191.46 286.021 2191.46 281.854 L2191.46 280.905 L2187.23 280.905 M2195.72 279.146 L2195.72 293.938 L2191.46 293.938 L2191.46 290.002 Q2190 292.363 2187.83 293.498 Q2185.65 294.609 2182.5 294.609 Q2178.52 294.609 2176.16 292.387 Q2173.82 290.141 2173.82 286.391 Q2173.82 282.016 2176.74 279.794 Q2179.68 277.572 2185.49 277.572 L2191.46 277.572 L2191.46 277.155 Q2191.46 274.215 2189.52 272.618 Q2187.6 270.998 2184.1 270.998 Q2181.88 270.998 2179.77 271.53 Q2177.66 272.063 2175.72 273.127 L2175.72 269.192 Q2178.06 268.29 2180.26 267.85 Q2182.46 267.387 2184.54 267.387 Q2190.16 267.387 2192.94 270.303 Q2195.72 273.22 2195.72 279.146 Z\" fill=\"#000000\" fill-rule=\"evenodd\" fill-opacity=\"1\" /></svg>\n"
      ]
     },
     "execution_count": 543,
     "metadata": {},
     "output_type": "execute_result"
    }
   ],
   "source": [
    "@df iris groupedhist(:SepalLength, group = :Species, bar_position = :dodge)"
   ]
  },
  {
   "attachments": {
    "image.png": {
     "image/png": "[encoded data removed]"
    }
   },
   "cell_type": "markdown",
   "id": "de199dd2",
   "metadata": {
    "slideshow": {
     "slide_type": "slide"
    }
   },
   "source": [
    "![image.png](attachment:image.png)\n",
    "\n",
    "## Scratching the surface in 45 minutes\n",
    "\n",
    "All packages in Julia are very well documented \n",
    "\n",
    "- CSV.jl\n",
    "- XLSX.jl\n",
    "- JSON.jl\n",
    "- DataFrames.jl\n",
    "- Plots.jl\n",
    "- StatsPlots.jl\n",
    "\n"
   ]
  }
 ],
 "metadata": {
  "celltoolbar": "Slideshow",
  "kernelspec": {
   "display_name": "Julia 1.6.0",
   "language": "julia",
   "name": "julia-1.6"
  },
  "language_info": {
   "file_extension": ".jl",
   "mimetype": "application/julia",
   "name": "julia",
   "version": "1.6.0"
  }
 },
 "nbformat": 4,
 "nbformat_minor": 5
}
